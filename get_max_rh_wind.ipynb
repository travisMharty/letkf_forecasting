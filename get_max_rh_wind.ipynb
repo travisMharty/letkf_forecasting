{
 "cells": [
  {
   "cell_type": "code",
   "execution_count": 1,
   "metadata": {
    "collapsed": false
   },
   "outputs": [
    {
     "name": "stderr",
     "output_type": "stream",
     "text": [
      "/home/travis/miniconda3/envs/py35Solar/lib/python3.5/site-packages/IPython/html.py:14: ShimWarning: The `IPython.html` package has been deprecated. You should import from `notebook` instead. `IPython.html.widgets` has moved to `ipywidgets`.\n",
      "  \"`IPython.html.widgets` has moved to `ipywidgets`.\", ShimWarning)\n"
     ]
    }
   ],
   "source": [
    "# not all imports are actually used\n",
    "\n",
    "# built in python modules\n",
    "import datetime\n",
    "import os\n",
    "import sys\n",
    "import glob\n",
    "import itertools\n",
    "from collections import OrderedDict\n",
    "from importlib import reload\n",
    "\n",
    "# python add-ons\n",
    "%matplotlib inline\n",
    "import matplotlib.pyplot as plt\n",
    "import matplotlib.ticker as mticker\n",
    "import matplotlib as mpl\n",
    "import seaborn as sns\n",
    "sns.set(style='whitegrid', rc={'figure.figsize':(12, 6)})\n",
    "\n",
    "import numpy as np\n",
    "import pandas as pd\n",
    "pd.set_option('mode.chained_assignment', 'raise')\n",
    "\n",
    "import xarray as xr\n",
    "import numexpr as ne"
   ]
  },
  {
   "cell_type": "code",
   "execution_count": 2,
   "metadata": {
    "collapsed": true
   },
   "outputs": [],
   "source": [
    "dataset = xr.open_dataset('/a2/uaren/2014/04/15/solar_3/wrfsolar_d02_hourly.nc')"
   ]
  },
  {
   "cell_type": "code",
   "execution_count": 3,
   "metadata": {
    "collapsed": true
   },
   "outputs": [],
   "source": [
    "def rh_calc(temps, pressure, qvapor):\n",
    "    \"\"\"\n",
    "    Actually calculate rh from arrays\n",
    "    \"\"\"\n",
    "    T1 = 273.16\n",
    "    # Groff-Gratch equation\n",
    "    ew = 10**(10.78574 * (1 - T1/temps)+\n",
    "         - 5.028 * np.log10(temps/T1)+\n",
    "         + 1.50475*10**-4 * (1 - 10**(-8.2969 * (temps/T1 - 1)))+\n",
    "         + 0.42873*10**-3 * (10**(4.76955 * (1 - T1/temps)) - 1)+\n",
    "         + 0.78614)\n",
    "    # Bolton Equation\n",
    "    #ew = ne.evaluate('6.112*exp(17.62*(temps-273.15)/(243.21 + temps - 273.15))')\n",
    "\n",
    "    es = ew*(1.0016+3.15*10**-6*pressure-0.074/pressure)\n",
    "\n",
    "    e = qvapor/(qvapor+0.62198)*pressure\n",
    "    rh = e/es*100\n",
    "    return rh\n",
    "\n",
    "def dewpoint_calc(qvapor, pressure):\n",
    "    \"\"\"\n",
    "    Actually calculate tdew from arrays\n",
    "    \"\"\"\n",
    "    e = qvapor/(qvapor+0.62198)*pressure\n",
    "    # Bolton's fit\n",
    "    a = 6.112 #millibars\n",
    "    b = 17.67\n",
    "    c = 243.5 #deg C\n",
    "    logterm = np.log(e/a)\n",
    "    tdew = (c*logterm)/(b-logterm)\n",
    "    return tdew"
   ]
  },
  {
   "cell_type": "code",
   "execution_count": null,
   "metadata": {
    "collapsed": true
   },
   "outputs": [],
   "source": [
    "dataset['pressure'] = dataset['P'] + dataset['PB']\n",
    "dataset['temp'] = (dataset['T']+300)*(dataset['pressure']/100000)**0.2854\n",
    "dataset['rh'] = rh_calc(dataset['temp'], dataset['pressure']/100, dataset['QVAPOR'])"
   ]
  },
  {
   "cell_type": "code",
   "execution_count": 12,
   "metadata": {
    "collapsed": false
   },
   "outputs": [],
   "source": [
    "dims = list(dataset['rh'].dims)\n",
    "dims.remove('Time')\n",
    "dims.remove('bottom_top')\n",
    "dataset['average_rh'] = dataset['rh'].mean(dim=dims)"
   ]
  },
  {
   "cell_type": "code",
   "execution_count": 26,
   "metadata": {
    "collapsed": false
   },
   "outputs": [],
   "source": [
    "Times = dataset['Times'].to_pandas().apply(\n",
    "    lambda x: pd.to_datetime(x.decode(\"utf-8\").replace('_', ' ')))\n",
    "Times = pd.Index(Times).tz_localize('UTC').tz_convert('MST')"
   ]
  },
  {
   "cell_type": "code",
   "execution_count": 70,
   "metadata": {
    "collapsed": false
   },
   "outputs": [
    {
     "data": {
      "text/plain": [
       "<xarray.Dataset>\n",
       "Dimensions:           (Time: 49, bottom_top: 37, south_north: 351, south_north_stag: 352, west_east: 429, west_east_stag: 430)\n",
       "Coordinates:\n",
       "    XLAT              (south_north, west_east) float32 30.9118 30.9114 ...\n",
       "    XLONG             (south_north, west_east) float32 -115.175 -115.156 ...\n",
       "  * Time              (Time) int64 0 1 2 3 4 5 6 7 8 9 10 11 12 13 14 15 16 ...\n",
       "  * bottom_top        (bottom_top) int64 0 1 2 3 4 5 6 7 8 9 10 11 12 13 14 ...\n",
       "  * south_north       (south_north) int64 0 1 2 3 4 5 6 7 8 9 10 11 12 13 14 ...\n",
       "  * west_east         (west_east) int64 0 1 2 3 4 5 6 7 8 9 10 11 12 13 14 ...\n",
       "  * west_east_stag    (west_east_stag) int64 0 1 2 3 4 5 6 7 8 9 10 11 12 13 ...\n",
       "  * south_north_stag  (south_north_stag) int64 0 1 2 3 4 5 6 7 8 9 10 11 12 ...\n",
       "Data variables:\n",
       "    P                 (Time, bottom_top, south_north, west_east) float32 1420.06 ...\n",
       "    PB                (Time, bottom_top, south_north, west_east) float32 94855.1 ...\n",
       "    QVAPOR            (Time, bottom_top, south_north, west_east) float32 0.00210426 ...\n",
       "    SWDDNI            (Time, south_north, west_east) float32 0.0 0.0 0.0 0.0 ...\n",
       "    SWDNB             (Time, south_north, west_east) float32 0.0 0.0 0.0 0.0 ...\n",
       "    SWDNBC            (Time, south_north, west_east) float32 0.0 0.0 0.0 0.0 ...\n",
       "    T                 (Time, bottom_top, south_north, west_east) float32 -5.1388 ...\n",
       "    T2                (Time, south_north, west_east) float32 289.031 289.42 ...\n",
       "    Times             (Time) |S19 b'2014-04-15_12:00:00' ...\n",
       "    U                 (Time, bottom_top, south_north, west_east_stag) float32 0.359579 ...\n",
       "    V                 (Time, bottom_top, south_north_stag, west_east) float32 -2.9847 ...\n",
       "    pressure          (Time, bottom_top, south_north, west_east) float32 96275.2 ...\n",
       "    temp              (Time, bottom_top, south_north, west_east) float64 291.7 ...\n",
       "    rh                (Time, bottom_top, south_north, west_east) float64 15.17 ...\n",
       "    average_rh        (Time, bottom_top) float64 19.87 19.18 17.87 16.65 ...\n",
       "Attributes:\n",
       "    TITLE:  OUTPUT FROM WRF V3.5.1 MODEL\n",
       "    START_DATE: 2014-04-15_12:00:00\n",
       "    SIMULATION_START_DATE: 2014-04-15_12:00:00\n",
       "    WEST-EAST_GRID_DIMENSION: 430\n",
       "    SOUTH-NORTH_GRID_DIMENSION: 352\n",
       "    BOTTOM-TOP_GRID_DIMENSION: 38\n",
       "    DX: 1800.0\n",
       "    DY: 1800.0\n",
       "    STOCH_FORCE_OPT: 0\n",
       "    GRIDTYPE: C\n",
       "    DIFF_OPT: 1\n",
       "    KM_OPT: 4\n",
       "    DAMP_OPT: 1\n",
       "    DAMPCOEF: 0.15\n",
       "    KHDIF: 300.0\n",
       "    KVDIF: 1.0\n",
       "    MP_PHYSICS: 13\n",
       "    RA_LW_PHYSICS: 4\n",
       "    RA_SW_PHYSICS: 4\n",
       "    SF_SFCLAY_PHYSICS: 1\n",
       "    SF_SURFACE_PHYSICS: 2\n",
       "    BL_PBL_PHYSICS: 7\n",
       "    CU_PHYSICS: 0\n",
       "    SURFACE_INPUT_SOURCE: 1\n",
       "    SST_UPDATE: 0\n",
       "    GRID_FDDA: 0\n",
       "    GFDDA_INTERVAL_M: 0\n",
       "    GFDDA_END_H: 0\n",
       "    GRID_SFDDA: 0\n",
       "    SGFDDA_INTERVAL_M: 0\n",
       "    SGFDDA_END_H: 0\n",
       "    HYPSOMETRIC_OPT: 2\n",
       "    SF_URBAN_PHYSICS: 1\n",
       "    SHCU_PHYSICS: 0\n",
       "    MFSHCONV: 0\n",
       "    FEEDBACK: 0\n",
       "    SMOOTH_OPTION: 2\n",
       "    SWRAD_SCAT: 1.0\n",
       "    W_DAMPING: 0\n",
       "    DT: 10.0\n",
       "    ADAPT_DT_START: 10.0\n",
       "    ADAPT_DT_MAX: 18.0\n",
       "    ADAPT_DT_MIN: 4.0\n",
       "    RADT: 3.0\n",
       "    BLDT: 0.0\n",
       "    CUDT: 0.0\n",
       "    SWINT_OPT: 0\n",
       "    MOIST_ADV_OPT: 2\n",
       "    SCALAR_ADV_OPT: 1\n",
       "    TKE_ADV_OPT: 1\n",
       "    DIFF_6TH_OPT: 0\n",
       "    DIFF_6TH_FACTOR: 0.12\n",
       "    OBS_NUDGE_OPT: 0\n",
       "    BUCKET_MM: -1.0\n",
       "    BUCKET_J: -1.0\n",
       "    PREC_ACC_DT: 0.0\n",
       "    SF_OCEAN_PHYSICS: 0\n",
       "    ISFTCFLX: 0\n",
       "    ISHALLOW: 0\n",
       "    DFI_OPT: 0\n",
       "    WEST-EAST_PATCH_START_UNSTAG: 1\n",
       "    WEST-EAST_PATCH_END_UNSTAG: 429\n",
       "    WEST-EAST_PATCH_START_STAG: 1\n",
       "    WEST-EAST_PATCH_END_STAG: 430\n",
       "    SOUTH-NORTH_PATCH_START_UNSTAG: 1\n",
       "    SOUTH-NORTH_PATCH_END_UNSTAG: 351\n",
       "    SOUTH-NORTH_PATCH_START_STAG: 1\n",
       "    SOUTH-NORTH_PATCH_END_STAG: 352\n",
       "    BOTTOM-TOP_PATCH_START_UNSTAG: 1\n",
       "    BOTTOM-TOP_PATCH_END_UNSTAG: 37\n",
       "    BOTTOM-TOP_PATCH_START_STAG: 1\n",
       "    BOTTOM-TOP_PATCH_END_STAG: 38\n",
       "    GRID_ID: 2\n",
       "    PARENT_ID: 1\n",
       "    I_PARENT_START: 278\n",
       "    J_PARENT_START: 187\n",
       "    PARENT_GRID_RATIO: 3\n",
       "    CEN_LAT: 33.5868\n",
       "    CEN_LON: -110.932\n",
       "    TRUELAT1: 32.317\n",
       "    TRUELAT2: 32.317\n",
       "    MOAD_CEN_LAT: 32.317\n",
       "    STAND_LON: -117.873\n",
       "    POLE_LAT: 90.0\n",
       "    POLE_LON: 0.0\n",
       "    GMT: 12.0\n",
       "    JULYR: 2014\n",
       "    JULDAY: 105\n",
       "    MAP_PROJ: 1\n",
       "    MAP_PROJ_CHAR: Lambert Conformal\n",
       "    MMINLU: USGS\n",
       "    NUM_LAND_CAT: 33\n",
       "    ISWATER: 16\n",
       "    ISLAKE: -1\n",
       "    ISICE: 24\n",
       "    ISURBAN: 1\n",
       "    ISOILWATER: 14\n",
       "    history: Tue Apr 15 11:11:19 2014: ncrcat -O temp1_wrfout_d02_2014-04-15_12:00:00.nc temp1_wrfout_d02_2014-04-15_13:00:00.nc temp1_wrfout_d02_2014-04-15_14:00:00.nc temp1_wrfout_d02_2014-04-15_15:00:00.nc temp1_wrfout_d02_2014-04-15_16:00:00.nc temp1_wrfout_d02_2014-04-15_17:00:00.nc temp1_wrfout_d02_2014-04-15_18:00:00.nc temp1_wrfout_d02_2014-04-15_19:00:00.nc temp1_wrfout_d02_2014-04-15_20:00:00.nc temp1_wrfout_d02_2014-04-15_21:00:00.nc temp1_wrfout_d02_2014-04-15_22:00:00.nc temp1_wrfout_d02_2014...\n",
       "    nco_openmp_thread_number: 1\n",
       "    git_rev: 234b005fe99a66dcf9e4d5301e3c036ca2ddbc2"
      ]
     },
     "execution_count": 70,
     "metadata": {},
     "output_type": "execute_result"
    }
   ],
   "source": [
    "dataset"
   ]
  },
  {
   "cell_type": "code",
   "execution_count": 73,
   "metadata": {
    "collapsed": false
   },
   "outputs": [],
   "source": [
    "wind_lats = dataset['XLAT'].values.ravel()\n",
    "wind_lons = dataset['XLONG'].values.ravel()\n",
    "U_shape = dataset['U'].isel(Time=0, bottom_top=0).shape\n",
    "V_shape = dataset['V'].isel(Time=0, bottom_top=0).shape"
   ]
  },
  {
   "cell_type": "code",
   "execution_count": 64,
   "metadata": {
    "collapsed": false
   },
   "outputs": [],
   "source": [
    "num_of_times = (Times <= \n",
    "                pd.to_datetime('2014-04-15 20:00:00').tz_localize('MST')).sum()\n",
    "Times = Times[slice(0, num_of_times)]\n",
    "\n",
    "temp = dataset.isel(Time=0)\n",
    "bottom_top[Times[0]] = temp['bottom_top'].where(\n",
    "    temp['average_rh'] == temp['average_rh'].max(), drop=True).item()\n",
    "U = pd.DataFrame(\n",
    "    data=temp['U'].sel(bottom_top = bottom_top[Times[0]]).values.ravel()[None, :],\n",
    "    index=[Times[0]])\n",
    "V = pd.DataFrame(\n",
    "    data=temp['V'].sel(bottom_top = bottom_top[Times[0]]).values.ravel()[None, :],\n",
    "    index=[Times[0]])"
   ]
  },
  {
   "cell_type": "code",
   "execution_count": 65,
   "metadata": {
    "collapsed": false
   },
   "outputs": [],
   "source": [
    "for t in np.arange(num_of_times - 1) + 1:\n",
    "    temp = dataset.isel(Time=t)\n",
    "    bottom_top[Times[t]] = temp['bottom_top'].where(\n",
    "        temp['average_rh'] == temp['average_rh'].max(), drop=True).item()\n",
    "    U_temp = pd.DataFrame(\n",
    "        data=temp['U'].sel(bottom_top = bottom_top[Times[t]]).values.ravel()[None, :],\n",
    "        index=[Times[t]])\n",
    "    V_temp = pd.DataFrame(\n",
    "        data=temp['V'].sel(bottom_top = bottom_top[Times[t]]).values.ravel()[None, :],\n",
    "        index=[Times[t]])\n",
    "    U = U.append(U_temp)\n",
    "    V = V.append(V_temp)"
   ]
  },
  {
   "cell_type": "code",
   "execution_count": 80,
   "metadata": {
    "collapsed": false
   },
   "outputs": [],
   "source": [
    "U.to_hdf('./data/winds/U_15.h5', 'U_15')\n",
    "V.to_hdf('./data/winds/V_15.h5', 'V_15')\n",
    "bottom_top.to_hdf('./data/winds/bottom_top_15.h5', 'bottom_top_15')\n",
    "np.save('./data/winds/wind_lats', wind_lats)\n",
    "np.save('./data/winds/wind_lons', wind_lons)"
   ]
  },
  {
   "cell_type": "code",
   "execution_count": 86,
   "metadata": {
    "collapsed": false
   },
   "outputs": [],
   "source": [
    "np.save('./data/winds/U_shape', U_shape)\n",
    "np.save('./data/winds/V_shape', V_shape)\n",
    "Times.to_series().to_hdf('./data/winds/times.h5', 'times')"
   ]
  }
 ],
 "metadata": {
  "kernelspec": {
   "display_name": "Python 3",
   "language": "python",
   "name": "python3"
  },
  "language_info": {
   "codemirror_mode": {
    "name": "ipython",
    "version": 3
   },
   "file_extension": ".py",
   "mimetype": "text/x-python",
   "name": "python",
   "nbconvert_exporter": "python",
   "pygments_lexer": "ipython3",
   "version": "3.5.0rc4"
  }
 },
 "nbformat": 4,
 "nbformat_minor": 0
}
