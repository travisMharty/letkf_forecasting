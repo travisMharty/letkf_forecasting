{
 "cells": [
  {
   "cell_type": "code",
   "execution_count": 1,
   "metadata": {
    "collapsed": true
   },
   "outputs": [],
   "source": [
    "import numpy as np\n",
    "import pandas as pd\n",
    "import xarray as xr\n",
    "import scipy.ndimage.filters as filters"
   ]
  },
  {
   "cell_type": "code",
   "execution_count": 2,
   "metadata": {
    "collapsed": true
   },
   "outputs": [],
   "source": [
    "sat_14 = xr.open_dataset('/home/travis/python_code/forecasting/current_data/sat_14.nc')\n",
    "sat_15 = xr.open_dataset('/home/travis/python_code/forecasting/current_data/sat_15.nc')\n",
    "wind_15 = xr.open_dataset('/home/travis/python_code/forecasting/current_data/wind_15_crop.nc')\n",
    "sensor_data = pd.read_hdf('/home/travis/python_code/forecasting/current_data/sensor_data.h5')\n",
    "sensor_loc = pd.read_hdf('/home/travis/python_code/forecasting/current_data/sensor_loc.h5')"
   ]
  },
  {
   "cell_type": "code",
   "execution_count": 3,
   "metadata": {
    "collapsed": true
   },
   "outputs": [],
   "source": [
    "clear_sky_good = xr.DataArray(\n",
    "    data=(sat_15.GHI.values/sat_14.GHI.values).clip(max=1),\n",
    "    coords=sat_15.coords)\n",
    "clear_sky_good = clear_sky_good.rename({'x': 'y_', 'y': 'x_'})\n",
    "clear_sky_good = clear_sky_good.rename({'y_': 'y', 'x_': 'x'})\n",
    "sat_15['clear_sky_good'] = clear_sky_good\n",
    "sat_15 = sat_15.rename({'x': 'west_east', 'y': 'south_north'})"
   ]
  },
  {
   "cell_type": "code",
   "execution_count": 4,
   "metadata": {
    "collapsed": false,
    "scrolled": true
   },
   "outputs": [],
   "source": [
    "sensor_CI = sensor_data[['clearsky_index', 'id']]\n",
    "sensor_CI = sensor_CI.reset_index().pivot(\n",
    "    index='time', columns='id', values='clearsky_index')\n",
    "sensor_CI = sensor_CI.interpolate(method='time')\n",
    "sensor_CI = sensor_CI.resample('5min').mean().dropna()"
   ]
  },
  {
   "cell_type": "code",
   "execution_count": 6,
   "metadata": {
    "collapsed": false
   },
   "outputs": [],
   "source": [
    "U = filters.uniform_filter(wind_15.U, (0, 300, 300), mode='mirror')\n",
    "V = filters.uniform_filter(wind_15.V, (0, 300, 300), mode='mirror')\n",
    "\n",
    "wind_15_smooth = wind_15.copy()\n",
    "\n",
    "wind_15_smooth['U'] = (wind_15.U.dims, U)\n",
    "wind_15_smooth['V'] = (wind_15.V.dims, V)"
   ]
  },
  {
   "cell_type": "code",
   "execution_count": 7,
   "metadata": {
    "collapsed": true
   },
   "outputs": [],
   "source": [
    "wind_ave = wind_15.mean(dim='south_north').mean(dim='west_east').mean(dim='south_north_stag').mean(dim='west_east_stag')\n",
    "\n",
    "U_ave = wind_ave.U.values\n",
    "V_ave = wind_ave.V.values\n",
    "\n",
    "wind_15_ave = wind_15.copy()\n",
    "\n",
    "U_ave = np.ones_like(wind_15.U.values)*wind_ave.U.values[:, None, None]\n",
    "V_ave = np.ones_like(wind_15.V.values)*wind_ave.V.values[:, None, None]\n",
    "\n",
    "wind_15_ave['U'] = (wind_15.U.dims, U_ave)\n",
    "wind_15_ave['V'] = (wind_15.V.dims, V_ave)"
   ]
  },
  {
   "cell_type": "code",
   "execution_count": 8,
   "metadata": {
    "collapsed": false
   },
   "outputs": [],
   "source": [
    "sensor_CI.to_hdf('sensor_CI.h5', 'sensor_CI')"
   ]
  },
  {
   "cell_type": "code",
   "execution_count": 9,
   "metadata": {
    "collapsed": false
   },
   "outputs": [],
   "source": [
    "sat_15.to_netcdf('sat_15_good.nc')\n",
    "wind_15_smooth.to_netcdf('wind_15_smooth.nc')\n",
    "wind_15_ave.to_netcdf('wind_15_ave.nc')"
   ]
  }
 ],
 "metadata": {
  "kernelspec": {
   "display_name": "Python 3",
   "language": "python",
   "name": "python3"
  },
  "language_info": {
   "codemirror_mode": {
    "name": "ipython",
    "version": 3
   },
   "file_extension": ".py",
   "mimetype": "text/x-python",
   "name": "python",
   "nbconvert_exporter": "python",
   "pygments_lexer": "ipython3",
   "version": "3.5.0rc4"
  }
 },
 "nbformat": 4,
 "nbformat_minor": 0
}
