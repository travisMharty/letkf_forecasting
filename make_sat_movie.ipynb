{
 "cells": [
  {
   "cell_type": "code",
   "execution_count": 1,
   "metadata": {},
   "outputs": [
    {
     "ename": "ModuleNotFoundError",
     "evalue": "No module named 'mpl_toolkits.basemap'",
     "output_type": "error",
     "traceback": [
      "\u001b[0;31m---------------------------------------------------------------------------\u001b[0m",
      "\u001b[0;31mModuleNotFoundError\u001b[0m                       Traceback (most recent call last)",
      "\u001b[0;32m<ipython-input-1-710f5c364e59>\u001b[0m in \u001b[0;36m<module>\u001b[0;34m()\u001b[0m\n\u001b[1;32m      6\u001b[0m \u001b[0;32mimport\u001b[0m \u001b[0mpandas\u001b[0m \u001b[0;32mas\u001b[0m \u001b[0mpd\u001b[0m\u001b[0;34m\u001b[0m\u001b[0m\n\u001b[1;32m      7\u001b[0m \u001b[0;32mimport\u001b[0m \u001b[0mxarray\u001b[0m \u001b[0;32mas\u001b[0m \u001b[0mxr\u001b[0m\u001b[0;34m\u001b[0m\u001b[0m\n\u001b[0;32m----> 8\u001b[0;31m \u001b[0;32mfrom\u001b[0m \u001b[0mmpl_toolkits\u001b[0m\u001b[0;34m.\u001b[0m\u001b[0mbasemap\u001b[0m \u001b[0;32mimport\u001b[0m \u001b[0mBasemap\u001b[0m\u001b[0;34m\u001b[0m\u001b[0m\n\u001b[0m\u001b[1;32m      9\u001b[0m \u001b[0;32mfrom\u001b[0m \u001b[0mscipy\u001b[0m \u001b[0;32mimport\u001b[0m \u001b[0minterpolate\u001b[0m\u001b[0;34m\u001b[0m\u001b[0m\n",
      "\u001b[0;31mModuleNotFoundError\u001b[0m: No module named 'mpl_toolkits.basemap'"
     ]
    }
   ],
   "source": [
    "import sys\n",
    "import numpy as np\n",
    "import matplotlib\n",
    "matplotlib.use('Agg')\n",
    "import matplotlib.pyplot as plt\n",
    "import pandas as pd\n",
    "import xarray as xr\n",
    "from mpl_toolkits.basemap import Basemap\n",
    "from scipy import interpolate"
   ]
  },
  {
   "cell_type": "code",
   "execution_count": 2,
   "metadata": {},
   "outputs": [],
   "source": [
    "sys.path.append('/home/travis/python_code/letkf_forecasting/')\n",
    "import prepare_sat_data as prep"
   ]
  },
  {
   "cell_type": "code",
   "execution_count": null,
   "metadata": {
    "collapsed": true
   },
   "outputs": [],
   "source": [
    "%matplotlib notebook"
   ]
  },
  {
   "cell_type": "code",
   "execution_count": null,
   "metadata": {
    "collapsed": true
   },
   "outputs": [],
   "source": [
    "%matplotlib inline"
   ]
  },
  {
   "cell_type": "code",
   "execution_count": 3,
   "metadata": {
    "collapsed": true
   },
   "outputs": [],
   "source": [
    "pixel = pd.read_hdf('data/pixel.h5')"
   ]
  },
  {
   "cell_type": "code",
   "execution_count": 3,
   "metadata": {},
   "outputs": [],
   "source": [
    "domain_shape = np.load('data/domain_shape.npy')\n",
    "x = np.load('data/x.npy')\n",
    "y = np.load('data/y.npy')\n",
    "lats = np.load('data/lats.npy')\n",
    "lons = np.load('data/lons.npy')"
   ]
  },
  {
   "cell_type": "code",
   "execution_count": 5,
   "metadata": {
    "collapsed": true
   },
   "outputs": [],
   "source": [
    "sensor_loc = pd.read_hdf('data/sensor_loc.h5')"
   ]
  },
  {
   "cell_type": "code",
   "execution_count": 6,
   "metadata": {
    "collapsed": true
   },
   "outputs": [],
   "source": [
    "sensor_lats = sensor_loc.lat.values\n",
    "sensor_lons = sensor_loc.lon.values\n",
    "sensor_x, sensor_y = prep.sphere_to_lcc(sensor_lats, sensor_lons)"
   ]
  },
  {
   "cell_type": "code",
   "execution_count": 7,
   "metadata": {
    "collapsed": true
   },
   "outputs": [],
   "source": [
    "x = x.reshape(domain_shape)\n",
    "y = y.reshape(domain_shape)"
   ]
  },
  {
   "cell_type": "code",
   "execution_count": 8,
   "metadata": {
    "scrolled": true
   },
   "outputs": [
    {
     "name": "stdout",
     "output_type": "stream",
     "text": [
      "100\n",
      "200\n",
      "300\n",
      "400\n",
      "500\n",
      "600\n",
      "700\n",
      "800\n",
      "900\n",
      "1000\n",
      "1100\n",
      "1200\n",
      "1300\n",
      "1400\n",
      "1500\n",
      "1600\n",
      "1700\n",
      "1800\n",
      "1900\n",
      "2000\n",
      "2100\n",
      "2200\n",
      "2300\n",
      "2400\n",
      "2500\n",
      "2600\n"
     ]
    }
   ],
   "source": [
    "# x = np.array(sat_data.x)\n",
    "# y = np.array(sat_data.y)\n",
    "vmin = 0\n",
    "# vmax = 27000\n",
    "vmax = 20000\n",
    "count = 0\n",
    "dpi = 100\n",
    "crop = slice(144 - 10, 216 + 10)\n",
    "\n",
    "# delete_range = pd.date_range('2014-04-15 13:00:00', '2014-04-15 13:30:00', freq='15min')\n",
    "# delete_range = delete_range.tz_localize('MST')\n",
    "\n",
    "for time in pixel.index:\n",
    "    this_pixel = pixel.loc[time].values.reshape(domain_shape)\n",
    "    \n",
    "    \n",
    "    f, (ax1, ax2) = plt.subplots(1, 2, sharex=False,\n",
    "                                 sharey=False, figsize=(8, 4), dpi=dpi)\n",
    "    f.frameon = False\n",
    "    \n",
    "    im = ax1.pcolormesh(x, y, this_pixel,\n",
    "                        vmin=vmin, vmax=vmax, cmap='Greys_r', shading='flat')\n",
    "    ax1.scatter(sensor_x, sensor_y, s=1)\n",
    "    ax1.xaxis.set_visible(False)\n",
    "    ax1.yaxis.set_visible(False)\n",
    "    ax1.axis([x.min(), x.max(), y.min(), y.max()])\n",
    "    ax1.set_aspect('equal')\n",
    "    \n",
    "    im = ax2.pcolormesh(x[crop, crop], y[crop, crop], this_pixel[crop, crop],\n",
    "                        vmin=vmin, vmax=vmax, cmap='Greys_r', shading='flat')\n",
    "    ax2.scatter(sensor_x, sensor_y, s=10)\n",
    "    ax2.xaxis.set_visible(False)\n",
    "    ax2.yaxis.set_visible(False)\n",
    "    ax2.axis([x[crop, crop].min(), x[crop, crop].max(),\n",
    "              y[crop, crop].min(), y[crop, crop].max()])\n",
    "    ax2.set_aspect('equal')\n",
    "    \n",
    "    plt.suptitle('time: {time}'.format(time=str(time)))\n",
    "#     plt.show()\n",
    "    plt.savefig('/home/travis/python_code/letkf_forecasting/movies/sat_movie/zfig{0:04}.png'.format(count),\n",
    "                format='png', dpi=dpi)\n",
    "    plt.close('all')\n",
    "    count+=1\n",
    "    \n",
    "    if count%100 == 0:\n",
    "        print(count)    "
   ]
  }
 ],
 "metadata": {
  "anaconda-cloud": {},
  "kernelspec": {
   "display_name": "Python 3",
   "language": "python",
   "name": "python3"
  },
  "language_info": {
   "codemirror_mode": {
    "name": "ipython",
    "version": 3
   },
   "file_extension": ".py",
   "mimetype": "text/x-python",
   "name": "python",
   "nbconvert_exporter": "python",
   "pygments_lexer": "ipython3",
   "version": "3.6.2"
  }
 },
 "nbformat": 4,
 "nbformat_minor": 1
}
