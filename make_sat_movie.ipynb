{
 "cells": [
  {
   "cell_type": "code",
   "execution_count": 1,
   "metadata": {
    "collapsed": true
   },
   "outputs": [],
   "source": [
    "import sys\n",
    "import numpy as np\n",
    "import matplotlib\n",
    "matplotlib.use('Agg')\n",
    "import matplotlib.pyplot as plt\n",
    "import pandas as pd\n",
    "import xarray as xr\n",
    "from mpl_toolkits.basemap import Basemap\n",
    "from scipy import interpolate"
   ]
  },
  {
   "cell_type": "code",
   "execution_count": 2,
   "metadata": {
    "collapsed": false
   },
   "outputs": [],
   "source": [
    "sys.path.append('/home/travis/python_code/letkf_forecasting/')\n",
    "import prepare_sat_data as prep"
   ]
  },
  {
   "cell_type": "code",
   "execution_count": null,
   "metadata": {
    "collapsed": true
   },
   "outputs": [],
   "source": [
    "%matplotlib notebook"
   ]
  },
  {
   "cell_type": "code",
   "execution_count": null,
   "metadata": {
    "collapsed": true
   },
   "outputs": [],
   "source": [
    "%matplotlib inline"
   ]
  },
  {
   "cell_type": "code",
   "execution_count": 3,
   "metadata": {
    "collapsed": true
   },
   "outputs": [],
   "source": [
    "pixel = pd.read_hdf('data/pixel.h5')"
   ]
  },
  {
   "cell_type": "code",
   "execution_count": 4,
   "metadata": {
    "collapsed": true
   },
   "outputs": [],
   "source": [
    "domain_shape = np.load('data/domain_shape.npy')\n",
    "x = np.load('data/x.npy')\n",
    "y = np.load('data/y.npy')\n",
    "lats = np.load('data/lats.npy')\n",
    "lons = np.load('data/lons.npy')"
   ]
  },
  {
   "cell_type": "code",
   "execution_count": 5,
   "metadata": {
    "collapsed": false
   },
   "outputs": [],
   "source": [
    "sensor_loc = pd.read_hdf('data/sensor_loc.h5')"
   ]
  },
  {
   "cell_type": "code",
   "execution_count": 6,
   "metadata": {
    "collapsed": false
   },
   "outputs": [],
   "source": [
    "sensor_lats = sensor_loc.lat.values\n",
    "sensor_lons = sensor_loc.lon.values\n",
    "sensor_x, sensor_y = prep.sphere_to_lcc(sensor_lats, sensor_lons)"
   ]
  },
  {
   "cell_type": "code",
   "execution_count": 7,
   "metadata": {
    "collapsed": false
   },
   "outputs": [],
   "source": [
    "x = x.reshape(domain_shape)\n",
    "y = y.reshape(domain_shape)"
   ]
  },
  {
   "cell_type": "code",
   "execution_count": 8,
   "metadata": {
    "collapsed": false,
    "scrolled": false
   },
   "outputs": [
    {
     "name": "stdout",
     "output_type": "stream",
     "text": [
      "500\n",
      "1000\n",
      "1500\n",
      "2000\n",
      "2500\n"
     ]
    }
   ],
   "source": [
    "# x = np.array(sat_data.x)\n",
    "# y = np.array(sat_data.y)\n",
    "vmin = 0\n",
    "vmax = 27000\n",
    "count = 0\n",
    "\n",
    "crop = slice(144 - 10, 216 + 10)\n",
    "\n",
    "# delete_range = pd.date_range('2014-04-15 13:00:00', '2014-04-15 13:30:00', freq='15min')\n",
    "# delete_range = delete_range.tz_localize('MST')\n",
    "\n",
    "for time in pixel.index:\n",
    "    this_pixel = pixel.loc[time].values.reshape(domain_shape)\n",
    "    \n",
    "    \n",
    "    f, (ax1, ax2) = plt.subplots(1, 2, sharex=False,\n",
    "                                 sharey=False, figsize=(8, 4), dpi=300) #250\n",
    "    f.frameon = False\n",
    "    \n",
    "    im = ax1.pcolormesh(x, y, this_pixel,\n",
    "                        vmin=vmin, vmax=vmax, cmap='Greys_r', shading='flat')\n",
    "    ax1.scatter(sensor_x, sensor_y, s=1)\n",
    "    ax1.xaxis.set_visible(False)\n",
    "    ax1.yaxis.set_visible(False)\n",
    "    ax1.axis([x.min(), x.max(), y.min(), y.max()])\n",
    "    ax1.set_aspect('equal')\n",
    "    \n",
    "    im = ax2.pcolormesh(x[crop, crop], y[crop, crop], this_pixel[crop, crop],\n",
    "                        vmin=vmin, vmax=vmax, cmap='Greys_r', shading='flat')\n",
    "    ax2.scatter(sensor_x, sensor_y, s=10)\n",
    "    ax2.xaxis.set_visible(False)\n",
    "    ax2.yaxis.set_visible(False)\n",
    "    ax2.axis([x[crop, crop].min(), x[crop, crop].max(),\n",
    "              y[crop, crop].min(), y[crop, crop].max()])\n",
    "    ax2.set_aspect('equal')\n",
    "    \n",
    "    plt.suptitle('time: {time}'.format(time=str(time)))\n",
    "#     plt.show()\n",
    "    plt.savefig('/home/travis/python_code/letkf_forecasting/movies/sat_movie/zfig{0:04}.png'.format(count),\n",
    "                format='png', dpi=300)\n",
    "    plt.close('all')\n",
    "    count+=1\n",
    "    \n",
    "    if count%500 == 0:\n",
    "        print(count)\n",
    "    "
   ]
  }
 ],
 "metadata": {
  "anaconda-cloud": {},
  "kernelspec": {
   "display_name": "Python 3",
   "language": "python",
   "name": "python3"
  },
  "language_info": {
   "codemirror_mode": {
    "name": "ipython",
    "version": 3
   },
   "file_extension": ".py",
   "mimetype": "text/x-python",
   "name": "python",
   "nbconvert_exporter": "python",
   "pygments_lexer": "ipython3",
   "version": "3.5.0rc4"
  }
 },
 "nbformat": 4,
 "nbformat_minor": 1
}
