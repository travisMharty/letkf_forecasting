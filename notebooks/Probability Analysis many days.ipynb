{
 "cells": [
  {
   "cell_type": "code",
   "execution_count": 14,
   "metadata": {},
   "outputs": [],
   "source": [
    "import xarray as xr\n",
    "import numpy as np\n",
    "import pandas as pd\n",
    "import properscoring as ps\n",
    "import matplotlib.pyplot as plt\n",
    "import datetime"
   ]
  },
  {
   "cell_type": "code",
   "execution_count": 15,
   "metadata": {},
   "outputs": [],
   "source": [
    "import importlib"
   ]
  },
  {
   "cell_type": "code",
   "execution_count": 16,
   "metadata": {},
   "outputs": [],
   "source": [
    "import seaborn as sns\n",
    "\n",
    "cpal = sns.color_palette()\n",
    "sns.set_style('whitegrid')\n",
    "sns.set_context('paper', font_scale=1.0, rc={'lines.linewidth':1.0, 'lines.markersize':7})\n",
    "dpi = 300\n",
    "\n",
    "%matplotlib inline"
   ]
  },
  {
   "cell_type": "code",
   "execution_count": 17,
   "metadata": {},
   "outputs": [],
   "source": [
    "import letkf_forecasting.letkf_io as letkf_io\n",
    "import letkf_forecasting.tmh_plot as tmt_plot\n",
    "import letkf_forecasting.analyse_results as analyse_results\n",
    "import letkf_forecasting.prepare_sat_data as prepare_sat_data"
   ]
  },
  {
   "cell_type": "code",
   "execution_count": 18,
   "metadata": {},
   "outputs": [],
   "source": [
    "import numba"
   ]
  },
  {
   "cell_type": "code",
   "execution_count": 19,
   "metadata": {},
   "outputs": [],
   "source": [
    "import sklearn.calibration as calibration"
   ]
  },
  {
   "cell_type": "code",
   "execution_count": 20,
   "metadata": {},
   "outputs": [],
   "source": [
    "%matplotlib inline"
   ]
  },
  {
   "cell_type": "code",
   "execution_count": null,
   "metadata": {
    "scrolled": false
   },
   "outputs": [
    {
     "name": "stdout",
     "output_type": "stream",
     "text": [
      "[4, 9]\n",
      "[4, 15]\n",
      "[4, 18]\n",
      "[5, 6]\n",
      "[5, 9]\n",
      "[5, 29]\n",
      "[6, 11]\n",
      "[6, 12]\n",
      "[4, 2]\n",
      "[4, 5]\n",
      "[4, 19]\n",
      "[5, 7]\n",
      "[5, 8]\n",
      "[5, 19]\n",
      "[6, 3]\n",
      "[6, 10]\n",
      "[6, 14]\n",
      "[6, 15]\n",
      "[4, 10]\n",
      "[4, 11]\n",
      "[4, 12]\n",
      "[4, 20]\n",
      "[4, 21]\n",
      "[4, 22]\n",
      "[4, 25]\n",
      "[4, 26]\n",
      "[5, 5]\n",
      "[5, 20]\n",
      "[5, 21]\n",
      "[5, 22]\n",
      "[5, 23]\n",
      "[5, 24]\n"
     ]
    }
   ],
   "source": [
    "importlib.reload(analyse_results)\n",
    "# month_day = [[4, 9], [4, 15], [4, 18], [5, 6], [5, 9], [5, 29], [6, 11], [6, 12]]\n",
    "# month_day = [[4, 9],  [4, 15], [4, 18],\n",
    "#              [5, 6],  [5, 9],  [5, 29],\n",
    "#              [6, 11], [6, 12],\n",
    "#              [4, 2],  [4, 5],  [4, 19],\n",
    "#              [5, 7],  [5, 8],  [5, 19],\n",
    "#              [6, 3],  [6, 10], [6, 14],\n",
    "#              [6, 15]]\n",
    "month_day = [[4, 9],  [4, 15], [4, 18],\n",
    "             [5, 6],  [5, 9],  [5, 29],\n",
    "             [6, 11], [6, 12],\n",
    "             [4, 2],  [4, 5],  [4, 19],\n",
    "             [5, 7],  [5, 8],  [5, 19],\n",
    "             [6, 3],  [6, 10], [6, 14],\n",
    "             [6, 15],\n",
    "             [4, 10], [4, 11], [4, 12],\n",
    "             [4, 20], [4, 21], [4, 22],\n",
    "             [4, 25], [4, 26], [5, 5],\n",
    "             [5, 20], [5, 21], [5, 22],\n",
    "             [5, 23], [5, 24], [5, 25],\n",
    "             [5, 30], [6, 16], [6, 17],\n",
    "             [6, 18], [6, 19], [6, 22]]\n",
    "this = analyse_results.prob_analysis_baselines(\n",
    "    month_day, [15, 30, 45, 60],\n",
    "    '/a2/uaren/travis/data/satellite_data/cloudiness_index.h5')"
   ]
  },
  {
   "cell_type": "code",
   "execution_count": 26,
   "metadata": {
    "scrolled": true
   },
   "outputs": [],
   "source": [
    "truth = xr.open_dataset('/a2/uaren/travis/data/2014/04/09/data.nc')"
   ]
  },
  {
   "cell_type": "code",
   "execution_count": 32,
   "metadata": {},
   "outputs": [],
   "source": [
    "horizons = [15, 30, 45, 60]\n",
    "this = pd.DataFrame(index=truth.time.to_pandas().index,\n",
    "                    columns=horizons)"
   ]
  },
  {
   "cell_type": "code",
   "execution_count": 33,
   "metadata": {
    "scrolled": true
   },
   "outputs": [
    {
     "data": {
      "text/html": [
       "<div>\n",
       "<style>\n",
       "    .dataframe thead tr:only-child th {\n",
       "        text-align: right;\n",
       "    }\n",
       "\n",
       "    .dataframe thead th {\n",
       "        text-align: left;\n",
       "    }\n",
       "\n",
       "    .dataframe tbody tr th {\n",
       "        vertical-align: top;\n",
       "    }\n",
       "</style>\n",
       "<table border=\"1\" class=\"dataframe\">\n",
       "  <thead>\n",
       "    <tr style=\"text-align: right;\">\n",
       "      <th></th>\n",
       "      <th>15</th>\n",
       "      <th>30</th>\n",
       "      <th>45</th>\n",
       "      <th>60</th>\n",
       "    </tr>\n",
       "    <tr>\n",
       "      <th>time</th>\n",
       "      <th></th>\n",
       "      <th></th>\n",
       "      <th></th>\n",
       "      <th></th>\n",
       "    </tr>\n",
       "  </thead>\n",
       "  <tbody>\n",
       "    <tr>\n",
       "      <th>2014-04-09 16:30:00</th>\n",
       "      <td>NaN</td>\n",
       "      <td>NaN</td>\n",
       "      <td>NaN</td>\n",
       "      <td>NaN</td>\n",
       "    </tr>\n",
       "    <tr>\n",
       "      <th>2014-04-09 16:45:00</th>\n",
       "      <td>NaN</td>\n",
       "      <td>NaN</td>\n",
       "      <td>NaN</td>\n",
       "      <td>NaN</td>\n",
       "    </tr>\n",
       "    <tr>\n",
       "      <th>2014-04-09 17:00:00</th>\n",
       "      <td>NaN</td>\n",
       "      <td>NaN</td>\n",
       "      <td>NaN</td>\n",
       "      <td>NaN</td>\n",
       "    </tr>\n",
       "    <tr>\n",
       "      <th>2014-04-09 17:15:00</th>\n",
       "      <td>NaN</td>\n",
       "      <td>NaN</td>\n",
       "      <td>NaN</td>\n",
       "      <td>NaN</td>\n",
       "    </tr>\n",
       "    <tr>\n",
       "      <th>2014-04-09 17:30:00</th>\n",
       "      <td>NaN</td>\n",
       "      <td>NaN</td>\n",
       "      <td>NaN</td>\n",
       "      <td>NaN</td>\n",
       "    </tr>\n",
       "    <tr>\n",
       "      <th>2014-04-09 17:45:00</th>\n",
       "      <td>NaN</td>\n",
       "      <td>NaN</td>\n",
       "      <td>NaN</td>\n",
       "      <td>NaN</td>\n",
       "    </tr>\n",
       "    <tr>\n",
       "      <th>2014-04-09 18:00:00</th>\n",
       "      <td>NaN</td>\n",
       "      <td>NaN</td>\n",
       "      <td>NaN</td>\n",
       "      <td>NaN</td>\n",
       "    </tr>\n",
       "    <tr>\n",
       "      <th>2014-04-09 18:30:00</th>\n",
       "      <td>NaN</td>\n",
       "      <td>NaN</td>\n",
       "      <td>NaN</td>\n",
       "      <td>NaN</td>\n",
       "    </tr>\n",
       "    <tr>\n",
       "      <th>2014-04-09 18:45:00</th>\n",
       "      <td>NaN</td>\n",
       "      <td>NaN</td>\n",
       "      <td>NaN</td>\n",
       "      <td>NaN</td>\n",
       "    </tr>\n",
       "    <tr>\n",
       "      <th>2014-04-09 19:00:00</th>\n",
       "      <td>NaN</td>\n",
       "      <td>NaN</td>\n",
       "      <td>NaN</td>\n",
       "      <td>NaN</td>\n",
       "    </tr>\n",
       "    <tr>\n",
       "      <th>2014-04-09 19:15:00</th>\n",
       "      <td>NaN</td>\n",
       "      <td>NaN</td>\n",
       "      <td>NaN</td>\n",
       "      <td>NaN</td>\n",
       "    </tr>\n",
       "    <tr>\n",
       "      <th>2014-04-09 19:30:00</th>\n",
       "      <td>NaN</td>\n",
       "      <td>NaN</td>\n",
       "      <td>NaN</td>\n",
       "      <td>NaN</td>\n",
       "    </tr>\n",
       "    <tr>\n",
       "      <th>2014-04-09 19:45:00</th>\n",
       "      <td>NaN</td>\n",
       "      <td>NaN</td>\n",
       "      <td>NaN</td>\n",
       "      <td>NaN</td>\n",
       "    </tr>\n",
       "    <tr>\n",
       "      <th>2014-04-09 20:00:00</th>\n",
       "      <td>NaN</td>\n",
       "      <td>NaN</td>\n",
       "      <td>NaN</td>\n",
       "      <td>NaN</td>\n",
       "    </tr>\n",
       "    <tr>\n",
       "      <th>2014-04-09 20:15:00</th>\n",
       "      <td>NaN</td>\n",
       "      <td>NaN</td>\n",
       "      <td>NaN</td>\n",
       "      <td>NaN</td>\n",
       "    </tr>\n",
       "    <tr>\n",
       "      <th>2014-04-09 20:30:00</th>\n",
       "      <td>NaN</td>\n",
       "      <td>NaN</td>\n",
       "      <td>NaN</td>\n",
       "      <td>NaN</td>\n",
       "    </tr>\n",
       "    <tr>\n",
       "      <th>2014-04-09 21:00:00</th>\n",
       "      <td>NaN</td>\n",
       "      <td>NaN</td>\n",
       "      <td>NaN</td>\n",
       "      <td>NaN</td>\n",
       "    </tr>\n",
       "    <tr>\n",
       "      <th>2014-04-09 21:30:00</th>\n",
       "      <td>NaN</td>\n",
       "      <td>NaN</td>\n",
       "      <td>NaN</td>\n",
       "      <td>NaN</td>\n",
       "    </tr>\n",
       "    <tr>\n",
       "      <th>2014-04-09 21:45:00</th>\n",
       "      <td>NaN</td>\n",
       "      <td>NaN</td>\n",
       "      <td>NaN</td>\n",
       "      <td>NaN</td>\n",
       "    </tr>\n",
       "    <tr>\n",
       "      <th>2014-04-09 22:00:00</th>\n",
       "      <td>NaN</td>\n",
       "      <td>NaN</td>\n",
       "      <td>NaN</td>\n",
       "      <td>NaN</td>\n",
       "    </tr>\n",
       "    <tr>\n",
       "      <th>2014-04-09 22:15:00</th>\n",
       "      <td>NaN</td>\n",
       "      <td>NaN</td>\n",
       "      <td>NaN</td>\n",
       "      <td>NaN</td>\n",
       "    </tr>\n",
       "    <tr>\n",
       "      <th>2014-04-09 22:30:00</th>\n",
       "      <td>NaN</td>\n",
       "      <td>NaN</td>\n",
       "      <td>NaN</td>\n",
       "      <td>NaN</td>\n",
       "    </tr>\n",
       "  </tbody>\n",
       "</table>\n",
       "</div>"
      ],
      "text/plain": [
       "                      15   30   45   60\n",
       "time                                   \n",
       "2014-04-09 16:30:00  NaN  NaN  NaN  NaN\n",
       "2014-04-09 16:45:00  NaN  NaN  NaN  NaN\n",
       "2014-04-09 17:00:00  NaN  NaN  NaN  NaN\n",
       "2014-04-09 17:15:00  NaN  NaN  NaN  NaN\n",
       "2014-04-09 17:30:00  NaN  NaN  NaN  NaN\n",
       "2014-04-09 17:45:00  NaN  NaN  NaN  NaN\n",
       "2014-04-09 18:00:00  NaN  NaN  NaN  NaN\n",
       "2014-04-09 18:30:00  NaN  NaN  NaN  NaN\n",
       "2014-04-09 18:45:00  NaN  NaN  NaN  NaN\n",
       "2014-04-09 19:00:00  NaN  NaN  NaN  NaN\n",
       "2014-04-09 19:15:00  NaN  NaN  NaN  NaN\n",
       "2014-04-09 19:30:00  NaN  NaN  NaN  NaN\n",
       "2014-04-09 19:45:00  NaN  NaN  NaN  NaN\n",
       "2014-04-09 20:00:00  NaN  NaN  NaN  NaN\n",
       "2014-04-09 20:15:00  NaN  NaN  NaN  NaN\n",
       "2014-04-09 20:30:00  NaN  NaN  NaN  NaN\n",
       "2014-04-09 21:00:00  NaN  NaN  NaN  NaN\n",
       "2014-04-09 21:30:00  NaN  NaN  NaN  NaN\n",
       "2014-04-09 21:45:00  NaN  NaN  NaN  NaN\n",
       "2014-04-09 22:00:00  NaN  NaN  NaN  NaN\n",
       "2014-04-09 22:15:00  NaN  NaN  NaN  NaN\n",
       "2014-04-09 22:30:00  NaN  NaN  NaN  NaN"
      ]
     },
     "execution_count": 33,
     "metadata": {},
     "output_type": "execute_result"
    }
   ],
   "source": [
    "this"
   ]
  },
  {
   "cell_type": "code",
   "execution_count": 36,
   "metadata": {},
   "outputs": [],
   "source": [
    "this_series =  pd.Series(returned_dict.mean(axis=(1,2)), index=this.index[[0:18])"
   ]
  },
  {
   "cell_type": "code",
   "execution_count": 38,
   "metadata": {},
   "outputs": [],
   "source": [
    "this[15] = this_series"
   ]
  },
  {
   "cell_type": "code",
   "execution_count": 39,
   "metadata": {},
   "outputs": [
    {
     "data": {
      "text/html": [
       "<div>\n",
       "<style>\n",
       "    .dataframe thead tr:only-child th {\n",
       "        text-align: right;\n",
       "    }\n",
       "\n",
       "    .dataframe thead th {\n",
       "        text-align: left;\n",
       "    }\n",
       "\n",
       "    .dataframe tbody tr th {\n",
       "        vertical-align: top;\n",
       "    }\n",
       "</style>\n",
       "<table border=\"1\" class=\"dataframe\">\n",
       "  <thead>\n",
       "    <tr style=\"text-align: right;\">\n",
       "      <th></th>\n",
       "      <th>15</th>\n",
       "      <th>30</th>\n",
       "      <th>45</th>\n",
       "      <th>60</th>\n",
       "    </tr>\n",
       "    <tr>\n",
       "      <th>time</th>\n",
       "      <th></th>\n",
       "      <th></th>\n",
       "      <th></th>\n",
       "      <th></th>\n",
       "    </tr>\n",
       "  </thead>\n",
       "  <tbody>\n",
       "    <tr>\n",
       "      <th>2014-04-09 16:30:00</th>\n",
       "      <td>0.070506</td>\n",
       "      <td>NaN</td>\n",
       "      <td>NaN</td>\n",
       "      <td>NaN</td>\n",
       "    </tr>\n",
       "    <tr>\n",
       "      <th>2014-04-09 16:45:00</th>\n",
       "      <td>0.081049</td>\n",
       "      <td>NaN</td>\n",
       "      <td>NaN</td>\n",
       "      <td>NaN</td>\n",
       "    </tr>\n",
       "    <tr>\n",
       "      <th>2014-04-09 17:00:00</th>\n",
       "      <td>0.064034</td>\n",
       "      <td>NaN</td>\n",
       "      <td>NaN</td>\n",
       "      <td>NaN</td>\n",
       "    </tr>\n",
       "    <tr>\n",
       "      <th>2014-04-09 17:15:00</th>\n",
       "      <td>0.036831</td>\n",
       "      <td>NaN</td>\n",
       "      <td>NaN</td>\n",
       "      <td>NaN</td>\n",
       "    </tr>\n",
       "    <tr>\n",
       "      <th>2014-04-09 17:30:00</th>\n",
       "      <td>0.033463</td>\n",
       "      <td>NaN</td>\n",
       "      <td>NaN</td>\n",
       "      <td>NaN</td>\n",
       "    </tr>\n",
       "    <tr>\n",
       "      <th>2014-04-09 17:45:00</th>\n",
       "      <td>0.046219</td>\n",
       "      <td>NaN</td>\n",
       "      <td>NaN</td>\n",
       "      <td>NaN</td>\n",
       "    </tr>\n",
       "    <tr>\n",
       "      <th>2014-04-09 18:00:00</th>\n",
       "      <td>0.063605</td>\n",
       "      <td>NaN</td>\n",
       "      <td>NaN</td>\n",
       "      <td>NaN</td>\n",
       "    </tr>\n",
       "    <tr>\n",
       "      <th>2014-04-09 18:30:00</th>\n",
       "      <td>0.057457</td>\n",
       "      <td>NaN</td>\n",
       "      <td>NaN</td>\n",
       "      <td>NaN</td>\n",
       "    </tr>\n",
       "    <tr>\n",
       "      <th>2014-04-09 18:45:00</th>\n",
       "      <td>0.043202</td>\n",
       "      <td>NaN</td>\n",
       "      <td>NaN</td>\n",
       "      <td>NaN</td>\n",
       "    </tr>\n",
       "    <tr>\n",
       "      <th>2014-04-09 19:00:00</th>\n",
       "      <td>0.049263</td>\n",
       "      <td>NaN</td>\n",
       "      <td>NaN</td>\n",
       "      <td>NaN</td>\n",
       "    </tr>\n",
       "    <tr>\n",
       "      <th>2014-04-09 19:15:00</th>\n",
       "      <td>0.050285</td>\n",
       "      <td>NaN</td>\n",
       "      <td>NaN</td>\n",
       "      <td>NaN</td>\n",
       "    </tr>\n",
       "    <tr>\n",
       "      <th>2014-04-09 19:30:00</th>\n",
       "      <td>0.038996</td>\n",
       "      <td>NaN</td>\n",
       "      <td>NaN</td>\n",
       "      <td>NaN</td>\n",
       "    </tr>\n",
       "    <tr>\n",
       "      <th>2014-04-09 19:45:00</th>\n",
       "      <td>0.038404</td>\n",
       "      <td>NaN</td>\n",
       "      <td>NaN</td>\n",
       "      <td>NaN</td>\n",
       "    </tr>\n",
       "    <tr>\n",
       "      <th>2014-04-09 20:00:00</th>\n",
       "      <td>0.038121</td>\n",
       "      <td>NaN</td>\n",
       "      <td>NaN</td>\n",
       "      <td>NaN</td>\n",
       "    </tr>\n",
       "    <tr>\n",
       "      <th>2014-04-09 20:15:00</th>\n",
       "      <td>0.034479</td>\n",
       "      <td>NaN</td>\n",
       "      <td>NaN</td>\n",
       "      <td>NaN</td>\n",
       "    </tr>\n",
       "    <tr>\n",
       "      <th>2014-04-09 20:30:00</th>\n",
       "      <td>0.042720</td>\n",
       "      <td>NaN</td>\n",
       "      <td>NaN</td>\n",
       "      <td>NaN</td>\n",
       "    </tr>\n",
       "    <tr>\n",
       "      <th>2014-04-09 21:00:00</th>\n",
       "      <td>0.049879</td>\n",
       "      <td>NaN</td>\n",
       "      <td>NaN</td>\n",
       "      <td>NaN</td>\n",
       "    </tr>\n",
       "    <tr>\n",
       "      <th>2014-04-09 21:30:00</th>\n",
       "      <td>0.043773</td>\n",
       "      <td>NaN</td>\n",
       "      <td>NaN</td>\n",
       "      <td>NaN</td>\n",
       "    </tr>\n",
       "    <tr>\n",
       "      <th>2014-04-09 21:45:00</th>\n",
       "      <td>NaN</td>\n",
       "      <td>NaN</td>\n",
       "      <td>NaN</td>\n",
       "      <td>NaN</td>\n",
       "    </tr>\n",
       "    <tr>\n",
       "      <th>2014-04-09 22:00:00</th>\n",
       "      <td>NaN</td>\n",
       "      <td>NaN</td>\n",
       "      <td>NaN</td>\n",
       "      <td>NaN</td>\n",
       "    </tr>\n",
       "    <tr>\n",
       "      <th>2014-04-09 22:15:00</th>\n",
       "      <td>NaN</td>\n",
       "      <td>NaN</td>\n",
       "      <td>NaN</td>\n",
       "      <td>NaN</td>\n",
       "    </tr>\n",
       "    <tr>\n",
       "      <th>2014-04-09 22:30:00</th>\n",
       "      <td>NaN</td>\n",
       "      <td>NaN</td>\n",
       "      <td>NaN</td>\n",
       "      <td>NaN</td>\n",
       "    </tr>\n",
       "  </tbody>\n",
       "</table>\n",
       "</div>"
      ],
      "text/plain": [
       "                           15   30   45   60\n",
       "time                                        \n",
       "2014-04-09 16:30:00  0.070506  NaN  NaN  NaN\n",
       "2014-04-09 16:45:00  0.081049  NaN  NaN  NaN\n",
       "2014-04-09 17:00:00  0.064034  NaN  NaN  NaN\n",
       "2014-04-09 17:15:00  0.036831  NaN  NaN  NaN\n",
       "2014-04-09 17:30:00  0.033463  NaN  NaN  NaN\n",
       "2014-04-09 17:45:00  0.046219  NaN  NaN  NaN\n",
       "2014-04-09 18:00:00  0.063605  NaN  NaN  NaN\n",
       "2014-04-09 18:30:00  0.057457  NaN  NaN  NaN\n",
       "2014-04-09 18:45:00  0.043202  NaN  NaN  NaN\n",
       "2014-04-09 19:00:00  0.049263  NaN  NaN  NaN\n",
       "2014-04-09 19:15:00  0.050285  NaN  NaN  NaN\n",
       "2014-04-09 19:30:00  0.038996  NaN  NaN  NaN\n",
       "2014-04-09 19:45:00  0.038404  NaN  NaN  NaN\n",
       "2014-04-09 20:00:00  0.038121  NaN  NaN  NaN\n",
       "2014-04-09 20:15:00  0.034479  NaN  NaN  NaN\n",
       "2014-04-09 20:30:00  0.042720  NaN  NaN  NaN\n",
       "2014-04-09 21:00:00  0.049879  NaN  NaN  NaN\n",
       "2014-04-09 21:30:00  0.043773  NaN  NaN  NaN\n",
       "2014-04-09 21:45:00       NaN  NaN  NaN  NaN\n",
       "2014-04-09 22:00:00       NaN  NaN  NaN  NaN\n",
       "2014-04-09 22:15:00       NaN  NaN  NaN  NaN\n",
       "2014-04-09 22:30:00       NaN  NaN  NaN  NaN"
      ]
     },
     "execution_count": 39,
     "metadata": {},
     "output_type": "execute_result"
    }
   ],
   "source": [
    "this"
   ]
  },
  {
   "cell_type": "code",
   "execution_count": null,
   "metadata": {},
   "outputs": [],
   "source": [
    "directory_name = 'third_set'\n",
    "stat_type = 'crps'\n",
    "for key in returned_dict:\n",
    "    save_directory = ('/a2/uaren/travis/'\n",
    "        + f'results/multi_day_error/probabilistic/{directory_name}/{stat_type}')\n",
    "    if not os.path.exists(save_directory):\n",
    "        os.makedirs(save_directory)\n",
    "#     for error_stat in error_stats:\n",
    "#         if error_stat == 'name':\n",
    "#             continue\n",
    "    this_dir = os.path.join(\n",
    "        save_directory,\n",
    "        key + '.h5')\n",
    "    returned_dict[key].to_hdf(this_dir, key)\n",
    "    error_stats[error_stat].to_hdf(this_dir, error_stat)"
   ]
  },
  {
   "cell_type": "code",
   "execution_count": null,
   "metadata": {},
   "outputs": [],
   "source": []
  },
  {
   "cell_type": "code",
   "execution_count": null,
   "metadata": {},
   "outputs": [],
   "source": []
  },
  {
   "cell_type": "code",
   "execution_count": null,
   "metadata": {},
   "outputs": [],
   "source": []
  },
  {
   "cell_type": "code",
   "execution_count": null,
   "metadata": {},
   "outputs": [],
   "source": []
  },
  {
   "cell_type": "code",
   "execution_count": null,
   "metadata": {},
   "outputs": [],
   "source": []
  },
  {
   "cell_type": "code",
   "execution_count": null,
   "metadata": {},
   "outputs": [],
   "source": []
  },
  {
   "cell_type": "code",
   "execution_count": null,
   "metadata": {},
   "outputs": [],
   "source": []
  },
  {
   "cell_type": "code",
   "execution_count": null,
   "metadata": {},
   "outputs": [],
   "source": []
  },
  {
   "cell_type": "code",
   "execution_count": null,
   "metadata": {},
   "outputs": [],
   "source": []
  },
  {
   "cell_type": "code",
   "execution_count": null,
   "metadata": {},
   "outputs": [],
   "source": []
  },
  {
   "cell_type": "code",
   "execution_count": null,
   "metadata": {},
   "outputs": [],
   "source": [
    "sensor_loc = pd.read_hdf('/home/travis/python_code/letkf_forecasting_other_things/data/sensor_loc.h5')"
   ]
  },
  {
   "cell_type": "code",
   "execution_count": null,
   "metadata": {},
   "outputs": [],
   "source": [
    "climatology = pd.read_hdf('/a2/uaren/travis/data/satellite_data/cloudiness_index.h5')\n",
    "climatology = climatology.values.ravel()\n",
    "climatology = climatology[~np.isnan(climatology)]\n",
    "climatology = climatology.clip(min=0, max=1)"
   ]
  },
  {
   "cell_type": "markdown",
   "metadata": {},
   "source": [
    "# For error domain many dates"
   ]
  },
  {
   "cell_type": "code",
   "execution_count": null,
   "metadata": {},
   "outputs": [],
   "source": [
    "# month_day = [[4, 9], [4, 15], [4, 18], [5, 6], [5, 9], [5, 29], [6, 11], [6, 12]]\n",
    "month_day = [[4, 9], [4, 15], [4, 18]]\n",
    "# month_day = [[4, 9],  [4, 15], [4, 18],\n",
    "#              [5, 6],  [5, 9],  [5, 29],\n",
    "#              [6, 11], [6, 12],\n",
    "#              [4, 2],  [4, 5],  [4, 19],\n",
    "#              [5, 7],  [5, 8],  [5, 19],\n",
    "#              [6, 3],  [6, 10], [6, 14],\n",
    "#              [6, 15]]\n",
    "# month_day = [[4, 9],  [4, 15], [4, 18],\n",
    "#              [5, 6],  [5, 9],  [5, 29],\n",
    "#              [6, 11], [6, 12],\n",
    "#              [4, 2],  [4, 5],  [4, 19],\n",
    "#              [5, 7],  [5, 8],  [5, 19],\n",
    "#              [6, 3],  [6, 10], [6, 14],\n",
    "#              [6, 15],\n",
    "#              [4, 10], [4, 11], [4, 12],\n",
    "#              [4, 20], [4, 21], [4, 22],\n",
    "#              [4, 25], [4, 26], [5, 5],\n",
    "#              [5, 20], [5, 21], [5, 22],\n",
    "#              [5, 23], [5, 24], [5, 25],\n",
    "#              [5, 30], [6, 16], [6, 17],\n",
    "#              [6, 18], [6, 19], [6, 22]]\n",
    "dates = []\n",
    "for ii in range(len(month_day)):\n",
    "    dates.append(datetime.date(2014, month_day[ii][0], month_day[ii][1]))\n",
    "base_folder = '/a2/uaren/travis'"
   ]
  },
  {
   "cell_type": "code",
   "execution_count": null,
   "metadata": {},
   "outputs": [],
   "source": [
    "dates_truth = letkf_io.return_many_truths(dates, base_folder)\n",
    "dates_truth = dates_truth['ci']\n",
    "dates_truth = letkf_io.add_crop_attributes(dates_truth)\n",
    "dates_truth = analyse_results.return_error_domain(dates_truth)"
   ]
  },
  {
   "cell_type": "code",
   "execution_count": null,
   "metadata": {},
   "outputs": [],
   "source": [
    "persistence = dates_truth.copy()\n",
    "persistence['time'] = persistence.time + pd.Timedelta('30min')"
   ]
  },
  {
   "cell_type": "code",
   "execution_count": null,
   "metadata": {
    "scrolled": true
   },
   "outputs": [],
   "source": [
    "dates_15 = letkf_io.return_many_days(dates, 'ow_15', base_folder)\n",
    "dates_15 = dates_15['ci']\n",
    "dates_15 = letkf_io.add_crop_attributes(dates_15)\n",
    "dates_15 = analyse_results.return_error_domain(dates_15)\n",
    "dates_15 = analyse_results.return_horizon(dates_15, 30)"
   ]
  },
  {
   "cell_type": "code",
   "execution_count": null,
   "metadata": {},
   "outputs": [],
   "source": [
    "dates_wp = letkf_io.return_many_days(dates, 'owp_opt', base_folder)\n",
    "dates_wp = dates_wp['ci']\n",
    "dates_wp = letkf_io.add_crop_attributes(dates_wp)\n",
    "dates_wp = analyse_results.return_error_domain(dates_wp)\n",
    "dates_wp = analyse_results.return_horizon(dates_wp, 30)"
   ]
  },
  {
   "cell_type": "code",
   "execution_count": null,
   "metadata": {},
   "outputs": [],
   "source": [
    "dates_error_times = np.intersect1d(dates_truth.time.to_pandas(), \n",
    "                                   dates_15.time.to_pandas())"
   ]
  },
  {
   "cell_type": "code",
   "execution_count": null,
   "metadata": {},
   "outputs": [],
   "source": [
    "dates_error_times2 = np.intersect1d(dates_truth.time.to_pandas(), \n",
    "                                   persistence.time.to_pandas())"
   ]
  },
  {
   "cell_type": "code",
   "execution_count": null,
   "metadata": {},
   "outputs": [],
   "source": []
  },
  {
   "cell_type": "code",
   "execution_count": null,
   "metadata": {},
   "outputs": [],
   "source": [
    "dates_truth = dates_truth.sel(time=dates_error_times).load()\n",
    "dates_15 = dates_15.sel(time=dates_error_times).load()\n",
    "dates_wp = dates_wp.sel(time=dates_error_times).load()"
   ]
  },
  {
   "cell_type": "code",
   "execution_count": null,
   "metadata": {},
   "outputs": [],
   "source": [
    "persistence = persistence.sel(time=dates_error_times).load()"
   ]
  },
  {
   "cell_type": "code",
   "execution_count": null,
   "metadata": {},
   "outputs": [],
   "source": [
    "climatology_dates = dates_truth.values.ravel()\n",
    "climatology_dates = climatology_dates[~np.isnan(climatology_dates)]\n",
    "climatology_dates = climatology_dates.clip(min=0, max=1)"
   ]
  },
  {
   "cell_type": "code",
   "execution_count": null,
   "metadata": {},
   "outputs": [],
   "source": [
    "crps_15_30 = ps.crps_ensemble(dates_truth.values,\n",
    "                              dates_15.values.transpose([0, 2, 3, 1]))"
   ]
  },
  {
   "cell_type": "code",
   "execution_count": null,
   "metadata": {},
   "outputs": [],
   "source": [
    "print('Average crps ow_15: ', crps_15_30.mean())"
   ]
  },
  {
   "cell_type": "code",
   "execution_count": null,
   "metadata": {},
   "outputs": [],
   "source": [
    "crps_wp_30 = ps.crps_ensemble(dates_truth.values,\n",
    "                              dates_wp.values.transpose([0, 2, 3, 1]))"
   ]
  },
  {
   "cell_type": "code",
   "execution_count": null,
   "metadata": {},
   "outputs": [],
   "source": [
    "print('Average crps ow_15_wp: ', crps_wp_30.mean())"
   ]
  },
  {
   "cell_type": "code",
   "execution_count": null,
   "metadata": {},
   "outputs": [],
   "source": [
    "crps_persistence = ps.crps_ensemble(\n",
    "    dates_truth.values,\n",
    "    persistence.values)"
   ]
  },
  {
   "cell_type": "code",
   "execution_count": null,
   "metadata": {},
   "outputs": [],
   "source": [
    "print('Average crps persistence: ', crps_persistence.mean())"
   ]
  },
  {
   "cell_type": "code",
   "execution_count": null,
   "metadata": {},
   "outputs": [],
   "source": [
    "persis_array = persistence.values\n",
    "persis_shape = persis_array.shape\n",
    "persis_array = persis_array.reshape([persis_shape[0], persis_shape[1]*persis_shape[2]])"
   ]
  },
  {
   "cell_type": "code",
   "execution_count": null,
   "metadata": {},
   "outputs": [],
   "source": [
    "ens_members = 100\n",
    "persis_weights = np.ones([dates_error_times.size, ens_members])\n",
    "for ii in range(dates_error_times.size):#range(persis_ens.shape[0]):\n",
    "    persis_weights[ii], bin_edges = np.histogram(persis_array[ii], bins=ens_members, range=(0, 1), normed=True)\n",
    "persis_ens = (bin_edges[:-1] + bin_edges[1:])/2\n",
    "persis_ens = np.repeat(persis_ens[None, :], persis_shape[2], axis=0)\n",
    "persis_ens = np.repeat(persis_ens[None, :], persis_shape[1], axis=0)\n",
    "persis_ens = np.repeat(persis_ens[None, :], persis_shape[0], axis=0)"
   ]
  },
  {
   "cell_type": "code",
   "execution_count": null,
   "metadata": {},
   "outputs": [],
   "source": [
    "persis_weights = np.repeat(persis_weights[:, None, :], persis_shape[2], axis=1)\n",
    "persis_weights = np.repeat(persis_weights[:, None,:, :], persis_shape[1], axis=1)"
   ]
  },
  {
   "cell_type": "code",
   "execution_count": null,
   "metadata": {},
   "outputs": [],
   "source": [
    "crps_persistent_dist = ps.crps_ensemble(\n",
    "    dates_truth.sel(time=dates_error_times).values,\n",
    "    persis_ens, weights=persis_weights)"
   ]
  },
  {
   "cell_type": "code",
   "execution_count": null,
   "metadata": {},
   "outputs": [],
   "source": [
    "print('Average crps persist dist: ', crps_persistent_dist.mean())"
   ]
  },
  {
   "cell_type": "code",
   "execution_count": null,
   "metadata": {},
   "outputs": [],
   "source": [
    "ens_members = 100\n",
    "clim_weights, bin_edges = np.histogram(climatology, bins=ens_members, range=(0, 1), normed=True)\n",
    "clim_ens = (bin_edges[:-1] + bin_edges[1:])/2\n",
    "clim_ens = np.repeat(clim_ens[None, :], persis_shape[2], axis=0)\n",
    "clim_ens = np.repeat(clim_ens[None, :], persis_shape[1], axis=0)\n",
    "clim_ens = np.repeat(clim_ens[None, :], persis_shape[0], axis=0)\n",
    "\n",
    "clim_weights = np.repeat(clim_weights[None, :], persis_shape[2], axis=0)\n",
    "clim_weights = np.repeat(clim_weights[None, :], persis_shape[1], axis=0)\n",
    "clim_weights = np.repeat(clim_weights[None, :], persis_shape[0], axis=0)\n",
    "# clim_ens = np.repeat(clim_ens[None, :], dates_error_times.size, axis=0)\n",
    "# clim_weights = np.repeat(clim_weights[None, :], dates_error_times.size, axis=0)"
   ]
  },
  {
   "cell_type": "code",
   "execution_count": null,
   "metadata": {},
   "outputs": [],
   "source": [
    "crps_clim = ps.crps_ensemble(\n",
    "    dates_truth.sel(time=dates_error_times).values,\n",
    "    clim_ens, weights=clim_weights)"
   ]
  },
  {
   "cell_type": "code",
   "execution_count": null,
   "metadata": {},
   "outputs": [],
   "source": [
    "print('Average crps climatology: ', crps_clim.mean())"
   ]
  },
  {
   "cell_type": "code",
   "execution_count": null,
   "metadata": {},
   "outputs": [],
   "source": [
    "ens_members = 100\n",
    "clim_dates_weights, bin_edges = np.histogram(climatology_dates, bins=ens_members, range=(0, 1), normed=True)\n",
    "clim_dates_ens = (bin_edges[:-1] + bin_edges[1:])/2\n",
    "\n",
    "clim_dates_ens = np.repeat(clim_dates_ens[None, :], persis_shape[2], axis=0)\n",
    "clim_dates_ens = np.repeat(clim_dates_ens[None, :], persis_shape[1], axis=0)\n",
    "clim_dates_ens = np.repeat(clim_dates_ens[None, :], persis_shape[0], axis=0)\n",
    "\n",
    "clim_dates_weights = np.repeat(clim_dates_weights[None, :], persis_shape[2], axis=0)\n",
    "clim_dates_weights = np.repeat(clim_dates_weights[None, :], persis_shape[1], axis=0)\n",
    "clim_dates_weights = np.repeat(clim_dates_weights[None, :], persis_shape[0], axis=0)\n",
    "\n",
    "# clim_dates_ens = np.repeat(clim_dates_ens[None, :], dates_error_times.size, axis=0)\n",
    "# clim_dates_weights = np.repeat(clim_dates_weights[None, :], dates_error_times.size, axis=0)"
   ]
  },
  {
   "cell_type": "code",
   "execution_count": null,
   "metadata": {},
   "outputs": [],
   "source": [
    "crps_clim_dates = ps.crps_ensemble(\n",
    "    dates_truth.sel(time=dates_error_times).values,\n",
    "    clim_dates_ens, weights=clim_dates_weights)"
   ]
  },
  {
   "cell_type": "code",
   "execution_count": null,
   "metadata": {},
   "outputs": [],
   "source": [
    "print('Average crps climatology for dates: ', crps_clim_dates.mean())"
   ]
  },
  {
   "cell_type": "code",
   "execution_count": null,
   "metadata": {},
   "outputs": [],
   "source": []
  },
  {
   "cell_type": "code",
   "execution_count": null,
   "metadata": {},
   "outputs": [],
   "source": [
    "print('ow_15 SS_RPS persis: ', 1 - crps_15_30.mean()/crps_persistence.mean())\n",
    "print('ow_15_wp3 SS_RPS persis: ', 1 - crps_wp_30.mean()/crps_persistence.mean())"
   ]
  },
  {
   "cell_type": "code",
   "execution_count": null,
   "metadata": {},
   "outputs": [],
   "source": [
    "print('ow_15 SS_RPS dist persis: ', 1 - crps_15_30.mean()/crps_persistent_dist.mean())\n",
    "print('ow_15_wp3 SS_RPS dist persis: ', 1 - crps_wp_30.mean()/crps_persistent_dist.mean())"
   ]
  },
  {
   "cell_type": "code",
   "execution_count": null,
   "metadata": {},
   "outputs": [],
   "source": [
    "print('ow_15 SS_RPS clim dates: ', 1 - crps_15_30.mean()/crps_clim_dates.mean())\n",
    "print('ow_15_wp3 SS_RPS clim dates: ', 1 - crps_wp_30.mean()/crps_clim_dates.mean())\n",
    "print('persistent dist SS_RPS clim dates: ', 1 - crps_persistent_dist.mean()/crps_clim_dates.mean())"
   ]
  },
  {
   "cell_type": "code",
   "execution_count": null,
   "metadata": {},
   "outputs": [],
   "source": [
    "print('ow_15 SS_RPS clim: ', 1 - crps_15_30.mean()/crps_clim.mean())\n",
    "print('ow_15_wp3 SS_RPS clim: ', 1 - crps_wp_30.mean()/crps_clim.mean())\n",
    "print('persistent dist SS_RPS clim: ', 1 - crps_persistent_dist.mean()/crps_clim.mean())"
   ]
  },
  {
   "cell_type": "markdown",
   "metadata": {},
   "source": [
    "# Reliability diagram"
   ]
  },
  {
   "cell_type": "markdown",
   "metadata": {},
   "source": [
    " # Thick cloud"
   ]
  },
  {
   "cell_type": "code",
   "execution_count": null,
   "metadata": {},
   "outputs": [],
   "source": [
    "truth = dates_truth"
   ]
  },
  {
   "cell_type": "code",
   "execution_count": null,
   "metadata": {},
   "outputs": [],
   "source": [
    "error_times = dates_error_times"
   ]
  },
  {
   "cell_type": "code",
   "execution_count": null,
   "metadata": {},
   "outputs": [],
   "source": [
    "ow_15_30 = dates_15"
   ]
  },
  {
   "cell_type": "code",
   "execution_count": null,
   "metadata": {},
   "outputs": [],
   "source": [
    "ow_15_wp3_30 = dates_wp"
   ]
  },
  {
   "cell_type": "code",
   "execution_count": null,
   "metadata": {},
   "outputs": [],
   "source": [
    "thin_ub = 0.4"
   ]
  },
  {
   "cell_type": "code",
   "execution_count": null,
   "metadata": {
    "scrolled": true
   },
   "outputs": [],
   "source": [
    "truth_thick = (truth.sel(time=error_times)>thin_ub).astype('float')"
   ]
  },
  {
   "cell_type": "code",
   "execution_count": null,
   "metadata": {},
   "outputs": [],
   "source": [
    "persistence_thick = (persistence.sel(time=error_times)>thin_ub).astype('float')"
   ]
  },
  {
   "cell_type": "code",
   "execution_count": null,
   "metadata": {},
   "outputs": [],
   "source": [
    "persistence_dist_thick = persistence_thick.copy()"
   ]
  },
  {
   "cell_type": "code",
   "execution_count": null,
   "metadata": {},
   "outputs": [],
   "source": [
    "for ii in range(error_times.size):\n",
    "    persistence_dist_thick[ii] = persistence_dist_thick[ii].mean(dim=['west_east', 'south_north']).item()"
   ]
  },
  {
   "cell_type": "code",
   "execution_count": null,
   "metadata": {},
   "outputs": [],
   "source": [
    "ow_15_thick = (ow_15_30.sel(time=error_times)>thin_ub).astype('int')\n",
    "ow_15_thick = ow_15_thick.mean(dim='ensemble_number')"
   ]
  },
  {
   "cell_type": "code",
   "execution_count": null,
   "metadata": {
    "scrolled": true
   },
   "outputs": [],
   "source": [
    "ow_15_wp3_thick = (ow_15_wp3_30.sel(time=error_times)>thin_ub).astype('int')\n",
    "ow_15_wp3_thick = ow_15_wp3_thick.mean(dim='ensemble_number')"
   ]
  },
  {
   "cell_type": "code",
   "execution_count": null,
   "metadata": {},
   "outputs": [],
   "source": [
    "this = ps.brier_score(truth_thick.values.ravel(), ow_15_wp3_thick.values.ravel()).mean()\n",
    "print('wp3: ', this)"
   ]
  },
  {
   "cell_type": "code",
   "execution_count": null,
   "metadata": {},
   "outputs": [],
   "source": [
    "this = ps.brier_score(truth_thick.values.ravel(), ow_15_thick.values.ravel()).mean()\n",
    "print('ow_15: ', this)"
   ]
  },
  {
   "cell_type": "code",
   "execution_count": null,
   "metadata": {},
   "outputs": [],
   "source": [
    "this = ps.brier_score(truth_thick.values.ravel(), persistence_dist_thick.values.ravel()).mean()\n",
    "print(this)"
   ]
  },
  {
   "cell_type": "code",
   "execution_count": null,
   "metadata": {},
   "outputs": [],
   "source": [
    "this = ps.brier_score(truth_thick.values.ravel(), persistence_thick.values.ravel()).mean()\n",
    "print(this)"
   ]
  },
  {
   "cell_type": "code",
   "execution_count": null,
   "metadata": {},
   "outputs": [],
   "source": [
    "%matplotlib inline"
   ]
  },
  {
   "cell_type": "code",
   "execution_count": null,
   "metadata": {
    "scrolled": false
   },
   "outputs": [],
   "source": [
    "num_of_bins = 10\n",
    "figsize = plt.figaspect(1.38)\n",
    "fig = plt.figure(figsize=figsize, dpi=dpi)\n",
    "ax1 = plt.subplot2grid((3, 1), (0, 0), rowspan=2)\n",
    "ax2 = plt.subplot2grid((3, 1), (2, 0))\n",
    "\n",
    "ax1.plot([0, 1], [0, 1], \"k:\", label=\"Perfectly calibrated\")\n",
    "ax2.hist(truth_thick.values.ravel(), color='k', linestyle=':',\n",
    "         range=(0, 1), bins=num_of_bins, label=\"Perfectly calibrated\",\n",
    "         histtype=\"step\", lw=2)\n",
    "for forecast, name in [(ow_15_thick, 'WRF + Opt. flow'),\n",
    "                       (ow_15_wp3_thick, 'With perturbed winds')]:#,\n",
    "#                        (persistence_dist_thick, 'persistence_dist')]:\n",
    "    \n",
    "    fraction_of_positives, mean_predicted_value = \\\n",
    "        calibration.calibration_curve(\n",
    "            truth_thick.values.ravel(),\n",
    "            forecast.values.ravel(), n_bins=num_of_bins)\n",
    "\n",
    "    ax1.plot(mean_predicted_value, fraction_of_positives, \"s-\",\n",
    "             label=f'{name}')\n",
    "    ax2.hist(forecast.values.ravel(), range=(0, 1), bins=num_of_bins, label=name,\n",
    "             histtype=\"step\", lw=2, linestyle='--')\n",
    "\n",
    "\n",
    "ax1.set_ylabel(\"P(o|y)\")\n",
    "ax1.set_ylim([-0.05, 1.05])\n",
    "ax1.legend(loc=\"lower right\")\n",
    "ax1.set_title('Reliability curve for thick cloud forecast')\n",
    "\n",
    "ax2.set_xlabel(\"P(y)\")\n",
    "ax2.set_ylabel(\"Count\")\n",
    "ax2.legend(loc=\"upper center\", ncol=1)\n",
    "\n",
    "plt.tight_layout()"
   ]
  },
  {
   "cell_type": "code",
   "execution_count": null,
   "metadata": {},
   "outputs": [],
   "source": []
  },
  {
   "cell_type": "markdown",
   "metadata": {},
   "source": [
    "# Clear"
   ]
  },
  {
   "cell_type": "code",
   "execution_count": null,
   "metadata": {},
   "outputs": [],
   "source": [
    "clear_ub = 0.1"
   ]
  },
  {
   "cell_type": "code",
   "execution_count": null,
   "metadata": {
    "scrolled": true
   },
   "outputs": [],
   "source": [
    "truth_clear = (truth.sel(time=error_times)<clear_ub).astype('float')"
   ]
  },
  {
   "cell_type": "code",
   "execution_count": null,
   "metadata": {},
   "outputs": [],
   "source": [
    "persistence_clear = (persistence.sel(time=error_times)<clear_ub).astype('float')"
   ]
  },
  {
   "cell_type": "code",
   "execution_count": null,
   "metadata": {},
   "outputs": [],
   "source": [
    "persistence_dist_clear = persistence_clear.copy()"
   ]
  },
  {
   "cell_type": "code",
   "execution_count": null,
   "metadata": {},
   "outputs": [],
   "source": [
    "for ii in range(error_times.size):\n",
    "    persistence_dist_clear[ii] = persistence_dist_clear[ii].mean(dim=['west_east', 'south_north']).item()"
   ]
  },
  {
   "cell_type": "code",
   "execution_count": null,
   "metadata": {},
   "outputs": [],
   "source": [
    "ow_15_clear = (ow_15_30.sel(time=error_times)<clear_ub).astype('int')\n",
    "ow_15_clear = ow_15_clear.mean(dim='ensemble_number')"
   ]
  },
  {
   "cell_type": "code",
   "execution_count": null,
   "metadata": {
    "scrolled": true
   },
   "outputs": [],
   "source": [
    "ow_15_wp3_clear = (ow_15_wp3_30.sel(time=error_times)<clear_ub).astype('int')\n",
    "ow_15_wp3_clear = ow_15_wp3_clear.mean(dim='ensemble_number')"
   ]
  },
  {
   "cell_type": "code",
   "execution_count": null,
   "metadata": {},
   "outputs": [],
   "source": []
  },
  {
   "cell_type": "code",
   "execution_count": null,
   "metadata": {},
   "outputs": [],
   "source": [
    "this = ps.brier_score(truth_clear.values.ravel(), ow_15_wp3_clear.values.ravel()).mean()\n",
    "print(this)"
   ]
  },
  {
   "cell_type": "code",
   "execution_count": null,
   "metadata": {},
   "outputs": [],
   "source": [
    "this = ps.brier_score(truth_clear.values.ravel(), ow_15_clear.values.ravel()).mean()\n",
    "print(this)"
   ]
  },
  {
   "cell_type": "code",
   "execution_count": null,
   "metadata": {},
   "outputs": [],
   "source": [
    "this = ps.brier_score(truth_clear.values.ravel(), persistence_dist_clear.values.ravel()).mean()\n",
    "print(this)"
   ]
  },
  {
   "cell_type": "code",
   "execution_count": null,
   "metadata": {},
   "outputs": [],
   "source": [
    "this = ps.brier_score(truth_clear.values.ravel(), persistence_clear.values.ravel()).mean()\n",
    "print(this)"
   ]
  },
  {
   "cell_type": "code",
   "execution_count": null,
   "metadata": {},
   "outputs": [],
   "source": [
    "fraction_of_positives, mean_predicted_value = \\\n",
    "        calibration.calibration_curve(\n",
    "            truth_clear.values.ravel(),\n",
    "            ow_15_wp3_clear.values.ravel(), n_bins=num_of_bins)"
   ]
  },
  {
   "cell_type": "code",
   "execution_count": null,
   "metadata": {},
   "outputs": [],
   "source": [
    "mean_predicted_value"
   ]
  },
  {
   "cell_type": "code",
   "execution_count": null,
   "metadata": {},
   "outputs": [],
   "source": [
    "# (ow_15_thick, 'WRF + Opt. flow'),\n",
    "#                        (ow_15_wp3_thick, 'W / perturbed winds')"
   ]
  },
  {
   "cell_type": "code",
   "execution_count": null,
   "metadata": {},
   "outputs": [],
   "source": [
    "%matplotlib inline"
   ]
  },
  {
   "cell_type": "code",
   "execution_count": null,
   "metadata": {
    "scrolled": true
   },
   "outputs": [],
   "source": [
    "num_of_bins = 10\n",
    "figsize = plt.figaspect(1.38)\n",
    "fig = plt.figure(figsize=figsize, dpi=dpi)\n",
    "ax1 = plt.subplot2grid((3, 1), (0, 0), rowspan=2)\n",
    "ax2 = plt.subplot2grid((3, 1), (2, 0))\n",
    "\n",
    "ax1.plot([0, 1], [0, 1], \"k:\", label=\"Perfectly calibrated\")\n",
    "ax2.hist(truth_clear.values.ravel(), color='k', linestyle=':', range=(0, 1), bins=num_of_bins, label=\"Perfectly calibrated\",\n",
    "         histtype=\"step\", lw=2)\n",
    "for forecast, name in [(ow_15_clear, 'WRF + Opt. flow'),\n",
    "                       (ow_15_wp3_clear, 'With perturbed winds')]:#,\n",
    "#                        (persistence_dist_clear, 'persistence_dist')]:\n",
    "    \n",
    "    fraction_of_positives, mean_predicted_value = \\\n",
    "        calibration.calibration_curve(\n",
    "            truth_clear.values.ravel(),\n",
    "            forecast.values.ravel(), n_bins=num_of_bins)\n",
    "\n",
    "    ax1.plot(mean_predicted_value, fraction_of_positives, \"s-\",\n",
    "             label=f'{name}')\n",
    "    ax2.hist(forecast.values.ravel(), range=(0, 1), bins=num_of_bins, label=name,\n",
    "             histtype=\"step\", lw=2, linestyle='--')\n",
    "\n",
    "\n",
    "ax1.set_ylabel(\"P(o|y)\")\n",
    "ax1.set_ylim([-0.05, 1.05])\n",
    "ax1.legend(loc=\"lower right\")\n",
    "ax1.set_title('Reliability curve for clearsky forecast')\n",
    "\n",
    "ax2.set_xlabel(\"P(y)\")\n",
    "ax2.set_ylabel(\"Count\")\n",
    "ax2.legend(loc=\"upper center\", ncol=1)\n",
    "\n",
    "plt.tight_layout()"
   ]
  },
  {
   "cell_type": "code",
   "execution_count": null,
   "metadata": {},
   "outputs": [],
   "source": []
  },
  {
   "cell_type": "markdown",
   "metadata": {},
   "source": [
    "# Thin cloud"
   ]
  },
  {
   "cell_type": "code",
   "execution_count": null,
   "metadata": {
    "scrolled": true
   },
   "outputs": [],
   "source": [
    "truth_thin = np.logical_and(truth.sel(time=error_times)<thin_ub,\n",
    "                            truth.sel(time=error_times)>clear_ub).astype('float')"
   ]
  },
  {
   "cell_type": "code",
   "execution_count": null,
   "metadata": {},
   "outputs": [],
   "source": [
    "persistence_thin = np.logical_and(persistence.sel(time=error_times)<thin_ub,\n",
    "                                  persistence.sel(time=error_times)>clear_ub).astype('float')"
   ]
  },
  {
   "cell_type": "code",
   "execution_count": null,
   "metadata": {},
   "outputs": [],
   "source": [
    "persistence_dist_thin = persistence_thin.copy()"
   ]
  },
  {
   "cell_type": "code",
   "execution_count": null,
   "metadata": {},
   "outputs": [],
   "source": [
    "for ii in range(error_times.size):\n",
    "    persistence_dist_thin[ii] = persistence_dist_thin[ii].mean(dim=['west_east', 'south_north']).item()"
   ]
  },
  {
   "cell_type": "code",
   "execution_count": null,
   "metadata": {},
   "outputs": [],
   "source": [
    "ow_15_thin = np.logical_and(ow_15_30.sel(time=error_times)<thin_ub,\n",
    "                            ow_15_30.sel(time=error_times)>clear_ub).astype('int')\n",
    "ow_15_thin = ow_15_thin.mean(dim='ensemble_number')"
   ]
  },
  {
   "cell_type": "code",
   "execution_count": null,
   "metadata": {
    "scrolled": true
   },
   "outputs": [],
   "source": [
    "ow_15_wp3_thin = np.logical_and(ow_15_wp3_30.sel(time=error_times)<thin_ub,\n",
    "                                ow_15_wp3_30.sel(time=error_times)>clear_ub).astype('int')\n",
    "ow_15_wp3_thin = ow_15_wp3_thin.mean(dim='ensemble_number')"
   ]
  },
  {
   "cell_type": "code",
   "execution_count": null,
   "metadata": {},
   "outputs": [],
   "source": [
    "this = ps.brier_score(truth_thin.values.ravel(), ow_15_wp3_thin.values.ravel()).mean()\n",
    "print('wp3: ', this)"
   ]
  },
  {
   "cell_type": "code",
   "execution_count": null,
   "metadata": {},
   "outputs": [],
   "source": [
    "this = ps.brier_score(truth_thin.values.ravel(), ow_15_thin.values.ravel()).mean()\n",
    "print('ow_15: ', this)"
   ]
  },
  {
   "cell_type": "code",
   "execution_count": null,
   "metadata": {},
   "outputs": [],
   "source": [
    "this = ps.brier_score(truth_thin.values.ravel(), persistence_dist_thin.values.ravel()).mean()\n",
    "print(this)"
   ]
  },
  {
   "cell_type": "code",
   "execution_count": null,
   "metadata": {
    "scrolled": true
   },
   "outputs": [],
   "source": [
    "this = ps.brier_score(truth_thin.values.ravel(), persistence_thin.values.ravel()).mean()\n",
    "print(this)"
   ]
  },
  {
   "cell_type": "code",
   "execution_count": null,
   "metadata": {},
   "outputs": [],
   "source": [
    "%matplotlib inline"
   ]
  },
  {
   "cell_type": "code",
   "execution_count": null,
   "metadata": {},
   "outputs": [],
   "source": [
    "plt.close('all')"
   ]
  },
  {
   "cell_type": "code",
   "execution_count": null,
   "metadata": {},
   "outputs": [],
   "source": [
    "# (ow_15_thick, 'WRF + Opt. flow'),\n",
    "#                        (ow_15_wp3_thick, 'W / perturbed winds')"
   ]
  },
  {
   "cell_type": "code",
   "execution_count": null,
   "metadata": {
    "scrolled": false
   },
   "outputs": [],
   "source": [
    "num_of_bins = 10\n",
    "figsize = plt.figaspect(1.38)\n",
    "fig = plt.figure(figsize=figsize, dpi=dpi)\n",
    "ax1 = plt.subplot2grid((3, 1), (0, 0), rowspan=2)\n",
    "ax2 = plt.subplot2grid((3, 1), (2, 0))\n",
    "\n",
    "ax1.plot([0, 1], [0, 1], \"k:\", label=\"Perfectly calibrated\")\n",
    "ax2.hist(truth_thick.values.ravel(), color='k', linestyle=':', range=(0, 1), bins=num_of_bins, label=\"Perfectly calibrated\",\n",
    "         histtype=\"step\", lw=2)\n",
    "for forecast, name in [(ow_15_thin, 'WRF + Opt. flow'),\n",
    "                       (ow_15_wp3_thin, 'With perturbed winds')]:#,\n",
    "#                        (persistence_dist_thin, 'persistence_dist')]:\n",
    "    \n",
    "    fraction_of_positives, mean_predicted_value = \\\n",
    "        calibration.calibration_curve(\n",
    "            truth_thin.values.ravel(),\n",
    "            forecast.values.ravel(), n_bins=num_of_bins)\n",
    "\n",
    "    ax1.plot(mean_predicted_value, fraction_of_positives, \"s-\",\n",
    "             label=f'{name}')\n",
    "    ax1.axis('equal')\n",
    "    ax2.hist(forecast.values.ravel(), range=(0, 1), bins=num_of_bins, label=name,\n",
    "             histtype=\"step\", lw=2, linestyle='--')\n",
    "\n",
    "\n",
    "ax1.set_ylabel(\"P(o|y)\")\n",
    "ax1.set_ylim([-0.05, 1.05])\n",
    "ax1.legend(loc=\"lower right\")\n",
    "ax1.set_title('Reliability curve for thin cloud forecast')\n",
    "\n",
    "ax2.set_xlabel(\"P(y)\")\n",
    "ax2.set_ylabel(\"Count\")\n",
    "ax2.legend(loc=\"upper center\", ncol=1)\n",
    "\n",
    "plt.tight_layout()"
   ]
  },
  {
   "cell_type": "code",
   "execution_count": null,
   "metadata": {},
   "outputs": [],
   "source": [
    "plt.close('all')"
   ]
  }
 ],
 "metadata": {
  "kernelspec": {
   "display_name": "Python 3",
   "language": "python",
   "name": "python3"
  },
  "language_info": {
   "codemirror_mode": {
    "name": "ipython",
    "version": 3
   },
   "file_extension": ".py",
   "mimetype": "text/x-python",
   "name": "python",
   "nbconvert_exporter": "python",
   "pygments_lexer": "ipython3",
   "version": "3.6.2"
  }
 },
 "nbformat": 4,
 "nbformat_minor": 2
}
