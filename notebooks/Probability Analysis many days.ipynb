{
 "cells": [
  {
   "cell_type": "code",
   "execution_count": 2,
   "metadata": {},
   "outputs": [],
   "source": [
    "import xarray as xr\n",
    "import numpy as np\n",
    "import pandas as pd\n",
    "import properscoring as ps\n",
    "import matplotlib.pyplot as plt\n",
    "import datetime"
   ]
  },
  {
   "cell_type": "code",
   "execution_count": 3,
   "metadata": {},
   "outputs": [],
   "source": [
    "import importlib"
   ]
  },
  {
   "cell_type": "code",
   "execution_count": 4,
   "metadata": {},
   "outputs": [],
   "source": [
    "import seaborn as sns\n",
    "\n",
    "cpal = sns.color_palette()\n",
    "sns.set_style('whitegrid')\n",
    "sns.set_context('paper', font_scale=1.0, rc={'lines.linewidth':1.0, 'lines.markersize':7})\n",
    "dpi = 300\n",
    "\n",
    "%matplotlib inline"
   ]
  },
  {
   "cell_type": "code",
   "execution_count": 5,
   "metadata": {},
   "outputs": [],
   "source": [
    "import letkf_forecasting.letkf_io as letkf_io\n",
    "import letkf_forecasting.tmh_plot as tmt_plot\n",
    "import letkf_forecasting.analyse_results as analyse_results\n",
    "import letkf_forecasting.prepare_sat_data as prepare_sat_data"
   ]
  },
  {
   "cell_type": "code",
   "execution_count": 6,
   "metadata": {},
   "outputs": [],
   "source": [
    "import numba"
   ]
  },
  {
   "cell_type": "code",
   "execution_count": 7,
   "metadata": {},
   "outputs": [],
   "source": [
    "import sklearn.calibration as calibration"
   ]
  },
  {
   "cell_type": "code",
   "execution_count": 8,
   "metadata": {},
   "outputs": [],
   "source": [
    "%matplotlib inline"
   ]
  },
  {
   "cell_type": "code",
   "execution_count": 17,
   "metadata": {},
   "outputs": [
    {
     "name": "stdout",
     "output_type": "stream",
     "text": [
      "[4, 9]\n",
      "owp_opt\n",
      "ow_15\n",
      "[4, 15]\n",
      "owp_opt\n",
      "ow_15\n",
      "[4, 18]\n",
      "owp_opt\n",
      "ow_15\n",
      "[5, 6]\n",
      "owp_opt\n",
      "ow_15\n",
      "[5, 9]\n",
      "owp_opt\n",
      "ow_15\n",
      "[5, 29]\n",
      "owp_opt\n",
      "ow_15\n",
      "[6, 11]\n",
      "owp_opt\n",
      "ow_15\n",
      "[6, 12]\n",
      "owp_opt\n",
      "ow_15\n",
      "[4, 2]\n",
      "owp_opt\n",
      "ow_15\n",
      "[4, 5]\n",
      "owp_opt\n",
      "ow_15\n",
      "[4, 19]\n",
      "owp_opt\n",
      "ow_15\n",
      "[5, 7]\n",
      "owp_opt\n",
      "ow_15\n",
      "[5, 8]\n",
      "owp_opt\n",
      "ow_15\n",
      "[5, 19]\n",
      "owp_opt\n",
      "ow_15\n",
      "[6, 3]\n",
      "owp_opt\n",
      "ow_15\n",
      "[6, 10]\n",
      "owp_opt\n",
      "ow_15\n",
      "[6, 14]\n",
      "owp_opt\n",
      "ow_15\n",
      "[6, 15]\n",
      "owp_opt\n",
      "ow_15\n",
      "[4, 10]\n",
      "owp_opt\n",
      "ow_15\n",
      "[4, 11]\n",
      "owp_opt\n",
      "ow_15\n",
      "[4, 12]\n",
      "owp_opt\n",
      "ow_15\n",
      "[4, 20]\n",
      "owp_opt\n",
      "ow_15\n",
      "[4, 21]\n",
      "owp_opt\n",
      "ow_15\n",
      "[4, 22]\n",
      "owp_opt\n",
      "ow_15\n",
      "[4, 25]\n",
      "owp_opt\n",
      "ow_15\n",
      "[4, 26]\n",
      "owp_opt\n",
      "ow_15\n",
      "[5, 5]\n",
      "owp_opt\n",
      "ow_15\n",
      "[5, 20]\n",
      "owp_opt\n",
      "ow_15\n",
      "[5, 21]\n",
      "owp_opt\n",
      "ow_15\n",
      "[5, 22]\n",
      "owp_opt\n",
      "ow_15\n",
      "[5, 23]\n",
      "owp_opt\n",
      "ow_15\n",
      "[5, 24]\n",
      "owp_opt\n",
      "ow_15\n",
      "[5, 25]\n",
      "owp_opt\n",
      "ow_15\n",
      "[5, 30]\n",
      "owp_opt\n",
      "ow_15\n",
      "[6, 16]\n",
      "owp_opt\n",
      "ow_15\n",
      "[6, 17]\n",
      "owp_opt\n",
      "ow_15\n",
      "[6, 18]\n",
      "owp_opt\n",
      "ow_15\n",
      "[6, 19]\n",
      "owp_opt\n",
      "ow_15\n",
      "[6, 22]\n",
      "owp_opt\n",
      "ow_15\n"
     ]
    }
   ],
   "source": [
    "importlib.reload(analyse_results)\n",
    "# month_day = [[4, 9], [4, 15], [4, 18], [5, 6], [5, 9], [5, 29], [6, 11], [6, 12]]\n",
    "# month_day = [[4, 9],  [4, 15], [4, 18],\n",
    "#              [5, 6],  [5, 9],  [5, 29],\n",
    "#              [6, 11], [6, 12],\n",
    "#              [4, 2],  [4, 5],  [4, 19],\n",
    "#              [5, 7],  [5, 8],  [5, 19],\n",
    "#              [6, 3],  [6, 10], [6, 14],\n",
    "#              [6, 15]]\n",
    "month_day = [[4, 9],  [4, 15], [4, 18],\n",
    "             [5, 6],  [5, 9],  [5, 29],\n",
    "             [6, 11], [6, 12],\n",
    "             [4, 2],  [4, 5],  [4, 19],\n",
    "             [5, 7],  [5, 8],  [5, 19],\n",
    "             [6, 3],  [6, 10], [6, 14],\n",
    "             [6, 15],\n",
    "             [4, 10], [4, 11], [4, 12],\n",
    "             [4, 20], [4, 21], [4, 22],\n",
    "             [4, 25], [4, 26], [5, 5],\n",
    "             [5, 20], [5, 21], [5, 22],\n",
    "             [5, 23], [5, 24], [5, 25],\n",
    "             [5, 30], [6, 16], [6, 17],\n",
    "             [6, 18], [6, 19], [6, 22]]\n",
    "runs = ['owp_opt', 'ow_15']\n",
    "this = analyse_results.prob_analysis_runs(\n",
    "    month_day, runs, [15, 30, 45, 60])"
   ]
  },
  {
   "cell_type": "code",
   "execution_count": 222,
   "metadata": {
    "scrolled": false
   },
   "outputs": [
    {
     "name": "stdout",
     "output_type": "stream",
     "text": [
      "[4, 9]\n",
      "owp_opt\n",
      "clear\n",
      "thin\n",
      "thick\n",
      "ow_15\n",
      "clear\n",
      "thin\n",
      "thick\n",
      "[4, 15]\n",
      "owp_opt\n",
      "clear\n",
      "thin\n",
      "thick\n",
      "ow_15\n",
      "clear\n",
      "thin\n",
      "thick\n",
      "[4, 18]\n",
      "owp_opt\n",
      "clear\n",
      "thin\n",
      "thick\n",
      "ow_15\n",
      "clear\n",
      "thin\n",
      "thick\n",
      "[5, 6]\n",
      "owp_opt\n",
      "clear\n",
      "thin\n",
      "thick\n",
      "ow_15\n",
      "clear\n",
      "thin\n",
      "thick\n",
      "[5, 9]\n",
      "owp_opt\n",
      "clear\n",
      "thin\n",
      "thick\n",
      "ow_15\n",
      "clear\n",
      "thin\n",
      "thick\n",
      "[5, 29]\n",
      "owp_opt\n",
      "clear\n",
      "thin\n",
      "thick\n",
      "ow_15\n",
      "clear\n",
      "thin\n",
      "thick\n",
      "[6, 11]\n",
      "owp_opt\n",
      "clear\n",
      "thin\n",
      "thick\n",
      "ow_15\n",
      "clear\n",
      "thin\n",
      "thick\n",
      "[6, 12]\n",
      "owp_opt\n",
      "clear\n",
      "thin\n",
      "thick\n",
      "ow_15\n",
      "clear\n",
      "thin\n",
      "thick\n",
      "[4, 2]\n",
      "owp_opt\n",
      "clear\n",
      "thin\n",
      "thick\n",
      "ow_15\n",
      "clear\n",
      "thin\n",
      "thick\n",
      "[4, 5]\n",
      "owp_opt\n",
      "clear\n",
      "thin\n",
      "thick\n",
      "ow_15\n",
      "clear\n",
      "thin\n",
      "thick\n",
      "[4, 19]\n",
      "owp_opt\n",
      "clear\n",
      "thin\n",
      "thick\n",
      "ow_15\n",
      "clear\n",
      "thin\n",
      "thick\n",
      "[5, 7]\n",
      "owp_opt\n",
      "clear\n",
      "thin\n",
      "thick\n",
      "ow_15\n",
      "clear\n",
      "thin\n",
      "thick\n",
      "[5, 8]\n",
      "owp_opt\n",
      "clear\n",
      "thin\n",
      "thick\n",
      "ow_15\n",
      "clear\n",
      "thin\n",
      "thick\n",
      "[5, 19]\n",
      "owp_opt\n",
      "clear\n",
      "thin\n",
      "thick\n",
      "ow_15\n",
      "clear\n",
      "thin\n",
      "thick\n",
      "[6, 3]\n",
      "owp_opt\n",
      "clear\n",
      "thin\n",
      "thick\n",
      "ow_15\n",
      "clear\n",
      "thin\n",
      "thick\n",
      "[6, 10]\n",
      "owp_opt\n",
      "clear\n",
      "thin\n",
      "thick\n",
      "ow_15\n",
      "clear\n",
      "thin\n",
      "thick\n",
      "[6, 14]\n",
      "owp_opt\n",
      "clear\n",
      "thin\n",
      "thick\n",
      "ow_15\n",
      "clear\n",
      "thin\n",
      "thick\n",
      "[6, 15]\n",
      "owp_opt\n",
      "clear\n",
      "thin\n",
      "thick\n",
      "ow_15\n",
      "clear\n",
      "thin\n",
      "thick\n",
      "[4, 10]\n",
      "owp_opt\n",
      "clear\n",
      "thin\n",
      "thick\n",
      "ow_15\n",
      "clear\n",
      "thin\n",
      "thick\n",
      "[4, 11]\n",
      "owp_opt\n",
      "clear\n",
      "thin\n",
      "thick\n",
      "ow_15\n",
      "clear\n",
      "thin\n",
      "thick\n",
      "[4, 12]\n",
      "owp_opt\n",
      "clear\n",
      "thin\n",
      "thick\n",
      "ow_15\n",
      "clear\n",
      "thin\n",
      "thick\n",
      "[4, 20]\n",
      "owp_opt\n",
      "clear\n",
      "thin\n",
      "thick\n",
      "ow_15\n",
      "clear\n",
      "thin\n",
      "thick\n",
      "[4, 21]\n",
      "owp_opt\n",
      "clear\n",
      "thin\n",
      "thick\n",
      "ow_15\n",
      "clear\n",
      "thin\n",
      "thick\n",
      "[4, 22]\n",
      "owp_opt\n",
      "clear\n",
      "thin\n",
      "thick\n",
      "ow_15\n",
      "clear\n",
      "thin\n",
      "thick\n",
      "[4, 25]\n",
      "owp_opt\n",
      "clear\n",
      "thin\n",
      "thick\n",
      "ow_15\n",
      "clear\n",
      "thin\n",
      "thick\n",
      "[4, 26]\n",
      "owp_opt\n",
      "clear\n",
      "thin\n",
      "thick\n",
      "ow_15\n",
      "clear\n",
      "thin\n",
      "thick\n",
      "[5, 5]\n",
      "owp_opt\n",
      "clear\n",
      "thin\n",
      "thick\n",
      "ow_15\n",
      "clear\n",
      "thin\n",
      "thick\n",
      "[5, 20]\n",
      "owp_opt\n",
      "clear\n",
      "thin\n",
      "thick\n",
      "ow_15\n",
      "clear\n",
      "thin\n",
      "thick\n",
      "[5, 21]\n",
      "owp_opt\n",
      "clear\n",
      "thin\n",
      "thick\n",
      "ow_15\n",
      "clear\n",
      "thin\n",
      "thick\n",
      "[5, 22]\n",
      "owp_opt\n",
      "clear\n",
      "thin\n",
      "thick\n",
      "ow_15\n",
      "clear\n",
      "thin\n",
      "thick\n",
      "[5, 23]\n",
      "owp_opt\n",
      "clear\n",
      "thin\n",
      "thick\n",
      "ow_15\n",
      "clear\n",
      "thin\n",
      "thick\n",
      "[5, 24]\n",
      "owp_opt\n",
      "clear\n",
      "thin\n",
      "thick\n",
      "ow_15\n",
      "clear\n",
      "thin\n",
      "thick\n",
      "[5, 25]\n",
      "owp_opt\n",
      "clear\n",
      "thin\n",
      "thick\n",
      "ow_15\n",
      "clear\n",
      "thin\n",
      "thick\n",
      "[5, 30]\n",
      "owp_opt\n",
      "clear\n",
      "thin\n",
      "thick\n",
      "ow_15\n",
      "clear\n",
      "thin\n",
      "thick\n",
      "[6, 16]\n",
      "owp_opt\n",
      "clear\n",
      "thin\n",
      "thick\n",
      "ow_15\n",
      "clear\n",
      "thin\n",
      "thick\n",
      "[6, 17]\n",
      "owp_opt\n",
      "clear\n",
      "thin\n",
      "thick\n",
      "ow_15\n",
      "clear\n",
      "thin\n",
      "thick\n",
      "[6, 18]\n",
      "owp_opt\n",
      "clear\n",
      "thin\n",
      "thick\n",
      "ow_15\n",
      "clear\n",
      "thin\n",
      "thick\n",
      "[6, 19]\n",
      "owp_opt\n",
      "clear\n",
      "thin\n",
      "thick\n",
      "ow_15\n",
      "clear\n",
      "thin\n",
      "thick\n",
      "[6, 22]\n",
      "owp_opt\n",
      "clear\n",
      "thin\n",
      "thick\n",
      "ow_15\n",
      "clear\n",
      "thin\n",
      "thick\n"
     ]
    }
   ],
   "source": [
    "importlib.reload(analyse_results)\n",
    "# month_day = [[4, 9], [4, 15], [4, 18], [5, 6], [5, 9], [5, 29], [6, 11], [6, 12]]\n",
    "# month_day = [[4, 9],  [4, 15], [4, 18],\n",
    "#              [5, 6],  [5, 9],  [5, 29],\n",
    "#              [6, 11], [6, 12],\n",
    "#              [4, 2],  [4, 5],  [4, 19],\n",
    "#              [5, 7],  [5, 8],  [5, 19],\n",
    "#              [6, 3],  [6, 10], [6, 14],\n",
    "#              [6, 15]]\n",
    "month_day = [[4, 9],  [4, 15], [4, 18],\n",
    "             [5, 6],  [5, 9],  [5, 29],\n",
    "             [6, 11], [6, 12],\n",
    "             [4, 2],  [4, 5],  [4, 19],\n",
    "             [5, 7],  [5, 8],  [5, 19],\n",
    "             [6, 3],  [6, 10], [6, 14],\n",
    "             [6, 15],\n",
    "             [4, 10], [4, 11], [4, 12],\n",
    "             [4, 20], [4, 21], [4, 22],\n",
    "             [4, 25], [4, 26], [5, 5],\n",
    "             [5, 20], [5, 21], [5, 22],\n",
    "             [5, 23], [5, 24], [5, 25],\n",
    "             [5, 30], [6, 16], [6, 17],\n",
    "             [6, 18], [6, 19], [6, 22]]\n",
    "runs = ['owp_opt', 'ow_15']\n",
    "bounds_dict = {'clear': [0, 0.1],\n",
    "               'thin': [0.1, 0.4],\n",
    "               'thick': [0.4, 1]}\n",
    "N_bins = 10\n",
    "this = analyse_results.fraction_of_positives_runs(\n",
    "    month_day, runs, [15, 30, 45, 60], bounds_dict, N_bins)"
   ]
  },
  {
   "cell_type": "code",
   "execution_count": 203,
   "metadata": {},
   "outputs": [],
   "source": [
    "this_fop, this_mpp = calibration.calibration_curve(\n",
    "    this[0].ravel(), this[1].ravel(), n_bins=N_bins)"
   ]
  },
  {
   "cell_type": "code",
   "execution_count": 206,
   "metadata": {},
   "outputs": [
    {
     "data": {
      "text/plain": [
       "array([ 0.2       ,  0.28826562,  0.3727636 ,  0.48795823,  0.56262036,\n",
       "        0.65026795])"
      ]
     },
     "execution_count": 206,
     "metadata": {},
     "output_type": "execute_result"
    }
   ],
   "source": [
    "this_mpp"
   ]
  },
  {
   "cell_type": "code",
   "execution_count": null,
   "metadata": {},
   "outputs": [],
   "source": [
    "this[1]"
   ]
  },
  {
   "cell_type": "code",
   "execution_count": 210,
   "metadata": {},
   "outputs": [
    {
     "data": {
      "text/plain": [
       "array([[ 0.,  0.,  0., ...,  0.,  0.,  0.],\n",
       "       [ 0.,  0.,  0., ...,  0.,  0.,  0.],\n",
       "       [ 0.,  0.,  0., ...,  0.,  0.,  0.],\n",
       "       ..., \n",
       "       [ 0.,  0.,  0., ...,  0.,  0.,  0.],\n",
       "       [ 0.,  0.,  0., ...,  0.,  0.,  0.],\n",
       "       [ 0.,  0.,  0., ...,  0.,  0.,  0.]])"
      ]
     },
     "execution_count": 210,
     "metadata": {},
     "output_type": "execute_result"
    }
   ],
   "source": [
    "this[0]"
   ]
  },
  {
   "cell_type": "code",
   "execution_count": 217,
   "metadata": {},
   "outputs": [],
   "source": [
    "this_fop, this_mpp = calibration.calibration_curve(\n",
    "    this[0].ravel(), this[1].ravel() - 1e-8, n_bins=N_bins)"
   ]
  },
  {
   "cell_type": "code",
   "execution_count": 219,
   "metadata": {},
   "outputs": [
    {
     "data": {
      "text/plain": [
       "array([ 0.19999999,  0.28826561,  0.37276359,  0.48795822,  0.56262035,\n",
       "        0.65026794])"
      ]
     },
     "execution_count": 219,
     "metadata": {},
     "output_type": "execute_result"
    }
   ],
   "source": [
    "this_mpp"
   ]
  },
  {
   "cell_type": "code",
   "execution_count": 205,
   "metadata": {},
   "outputs": [
    {
     "data": {
      "text/plain": [
       "array([ 0.        ,  0.        ,  0.2       ,  0.28826562,  0.3727636 ,\n",
       "        0.48795823,  0.56262036,  0.        ,  0.        ,  0.        ,\n",
       "        0.65026795])"
      ]
     },
     "execution_count": 205,
     "metadata": {},
     "output_type": "execute_result"
    }
   ],
   "source": [
    "this[2]"
   ]
  },
  {
   "cell_type": "code",
   "execution_count": 204,
   "metadata": {},
   "outputs": [
    {
     "data": {
      "text/plain": [
       "array([2, 2, 3, 4, 5, 6])"
      ]
     },
     "execution_count": 204,
     "metadata": {},
     "output_type": "execute_result"
    }
   ],
   "source": [
    "np.floor(this_mpp*10).astype('int')"
   ]
  },
  {
   "cell_type": "code",
   "execution_count": 200,
   "metadata": {},
   "outputs": [
    {
     "data": {
      "text/plain": [
       "array([ 0.2       ,  0.34433905,  0.5395445 ,  0.65026795])"
      ]
     },
     "execution_count": 200,
     "metadata": {},
     "output_type": "execute_result"
    }
   ],
   "source": [
    "this_mpp"
   ]
  },
  {
   "cell_type": "code",
   "execution_count": 201,
   "metadata": {},
   "outputs": [
    {
     "data": {
      "text/plain": [
       "array([ 0.        ,  0.13055896,  0.0635663 ,  0.        ])"
      ]
     },
     "execution_count": 201,
     "metadata": {},
     "output_type": "execute_result"
    }
   ],
   "source": [
    "this_fop"
   ]
  },
  {
   "cell_type": "code",
   "execution_count": null,
   "metadata": {},
   "outputs": [],
   "source": []
  },
  {
   "cell_type": "code",
   "execution_count": null,
   "metadata": {},
   "outputs": [],
   "source": []
  },
  {
   "cell_type": "code",
   "execution_count": 196,
   "metadata": {},
   "outputs": [
    {
     "data": {
      "text/plain": [
       "<matplotlib.colorbar.Colorbar at 0x7fec547b5278>"
      ]
     },
     "execution_count": 196,
     "metadata": {},
     "output_type": "execute_result"
    },
    {
     "data": {
      "image/png": "[encoded data removed]",
      "text/plain": [
       "<matplotlib.figure.Figure at 0x7fec34478780>"
      ]
     },
     "metadata": {},
     "output_type": "display_data"
    }
   ],
   "source": [
    "plt.figure()\n",
    "im = plt.pcolormesh(this[1], )\n",
    "plt.colorbar(im)"
   ]
  },
  {
   "cell_type": "code",
   "execution_count": 188,
   "metadata": {},
   "outputs": [
    {
     "data": {
      "text/plain": [
       "array([], dtype=float64)"
      ]
     },
     "execution_count": 188,
     "metadata": {},
     "output_type": "execute_result"
    }
   ],
   "source": [
    "this[0][this[0]==.2]"
   ]
  },
  {
   "cell_type": "code",
   "execution_count": null,
   "metadata": {},
   "outputs": [],
   "source": []
  },
  {
   "cell_type": "code",
   "execution_count": null,
   "metadata": {},
   "outputs": [],
   "source": []
  },
  {
   "cell_type": "code",
   "execution_count": 174,
   "metadata": {},
   "outputs": [
    {
     "data": {
      "text/plain": [
       "'5p0'"
      ]
     },
     "execution_count": 174,
     "metadata": {},
     "output_type": "execute_result"
    }
   ],
   "source": [
    "str(5.0).replace('.', 'p')"
   ]
  },
  {
   "cell_type": "code",
   "execution_count": null,
   "metadata": {},
   "outputs": [],
   "source": []
  },
  {
   "cell_type": "code",
   "execution_count": 167,
   "metadata": {},
   "outputs": [
    {
     "data": {
      "text/plain": [
       "bin\n",
       "0    0.000000\n",
       "1    0.000000\n",
       "2    1.000000\n",
       "3    0.968051\n",
       "4    0.938274\n",
       "5    0.840128\n",
       "6    0.874423\n",
       "7    0.906024\n",
       "8    0.000000\n",
       "9    0.000000\n",
       "Name: 2014-04-09 17:15:00, dtype: float64"
      ]
     },
     "execution_count": 167,
     "metadata": {},
     "output_type": "execute_result"
    }
   ],
   "source": [
    "this[3][45].loc['2014-04-09 17:15:00']"
   ]
  },
  {
   "cell_type": "code",
   "execution_count": 170,
   "metadata": {},
   "outputs": [
    {
     "data": {
      "text/plain": [
       "array([ 0.,  0.,  2.,  3.,  4.,  5.,  6.,  7.,  0.,  0.])"
      ]
     },
     "execution_count": 170,
     "metadata": {},
     "output_type": "execute_result"
    }
   ],
   "source": [
    "np.floor(np.array(\n",
    "    this[4][45].loc['2014-04-09 17:15:00']*10))"
   ]
  },
  {
   "cell_type": "code",
   "execution_count": 168,
   "metadata": {},
   "outputs": [],
   "source": [
    "present = np.floor(np.array(\n",
    "    this[4][45].loc['2014-04-09 17:15:00']*10)).astype('int')[:-4]"
   ]
  },
  {
   "cell_type": "code",
   "execution_count": 169,
   "metadata": {},
   "outputs": [
    {
     "data": {
      "text/plain": [
       "array([0, 0, 2, 3, 4, 5])"
      ]
     },
     "execution_count": 169,
     "metadata": {},
     "output_type": "execute_result"
    }
   ],
   "source": [
    "present"
   ]
  },
  {
   "cell_type": "code",
   "execution_count": 163,
   "metadata": {},
   "outputs": [
    {
     "data": {
      "text/plain": [
       "array([0, 1, 8, 9])"
      ]
     },
     "execution_count": 163,
     "metadata": {},
     "output_type": "execute_result"
    }
   ],
   "source": [
    "np.setdiff1d(np.arange(10), present)"
   ]
  },
  {
   "cell_type": "code",
   "execution_count": 148,
   "metadata": {},
   "outputs": [
    {
     "data": {
      "text/plain": [
       "bin\n",
       "0        0.0\n",
       "1        0.0\n",
       "2       83.0\n",
       "3     1417.0\n",
       "4    21031.0\n",
       "5    10245.0\n",
       "6     3034.0\n",
       "7      387.0\n",
       "8       28.0\n",
       "9        0.0\n",
       "Name: 2014-04-09 17:15:00, dtype: float64"
      ]
     },
     "execution_count": 148,
     "metadata": {},
     "output_type": "execute_result"
    }
   ],
   "source": [
    "this[2][45].loc['2014-04-09 17:15:00']"
   ]
  },
  {
   "cell_type": "code",
   "execution_count": 147,
   "metadata": {},
   "outputs": [
    {
     "name": "stdout",
     "output_type": "stream",
     "text": [
      "time\n",
      "2014-04-09 16:30:00    0\n",
      "2014-04-09 16:45:00    1\n",
      "2014-04-09 17:00:00    0\n",
      "2014-04-09 17:15:00    0\n",
      "2014-04-09 17:30:00    0\n",
      "2014-04-09 17:45:00    0\n",
      "2014-04-09 18:00:00    0\n",
      "2014-04-09 18:30:00    0\n",
      "2014-04-09 18:45:00    0\n",
      "2014-04-09 19:00:00    0\n",
      "2014-04-09 19:15:00    0\n",
      "2014-04-09 19:30:00    0\n",
      "2014-04-09 19:45:00    0\n",
      "2014-04-09 20:00:00    0\n",
      "2014-04-09 20:15:00    0\n",
      "2014-04-09 20:30:00    0\n",
      "2014-04-09 21:00:00    0\n",
      "2014-04-09 21:30:00    0\n",
      "2014-04-09 21:45:00    0\n",
      "2014-04-09 22:00:00    0\n",
      "2014-04-09 22:15:00    0\n",
      "2014-04-09 22:30:00    0\n",
      "dtype: int64\n",
      "time\n",
      "2014-04-09 16:30:00    0\n",
      "2014-04-09 16:45:00    0\n",
      "2014-04-09 17:00:00    1\n",
      "2014-04-09 17:15:00    0\n",
      "2014-04-09 17:30:00    0\n",
      "2014-04-09 17:45:00    0\n",
      "2014-04-09 18:00:00    0\n",
      "2014-04-09 18:30:00    0\n",
      "2014-04-09 18:45:00    0\n",
      "2014-04-09 19:00:00    0\n",
      "2014-04-09 19:15:00    0\n",
      "2014-04-09 19:30:00    0\n",
      "2014-04-09 19:45:00    0\n",
      "2014-04-09 20:00:00    0\n",
      "2014-04-09 20:15:00    0\n",
      "2014-04-09 20:30:00    0\n",
      "2014-04-09 21:00:00    0\n",
      "2014-04-09 21:30:00    0\n",
      "2014-04-09 21:45:00    0\n",
      "2014-04-09 22:00:00    0\n",
      "2014-04-09 22:15:00    0\n",
      "2014-04-09 22:30:00    0\n",
      "dtype: int64\n",
      "time\n",
      "2014-04-09 16:30:00    0\n",
      "2014-04-09 16:45:00    0\n",
      "2014-04-09 17:00:00    0\n",
      "2014-04-09 17:15:00    3\n",
      "2014-04-09 17:30:00    0\n",
      "2014-04-09 17:45:00    0\n",
      "2014-04-09 18:00:00    0\n",
      "2014-04-09 18:30:00    0\n",
      "2014-04-09 18:45:00    0\n",
      "2014-04-09 19:00:00    0\n",
      "2014-04-09 19:15:00    1\n",
      "2014-04-09 19:30:00    2\n",
      "2014-04-09 19:45:00    0\n",
      "2014-04-09 20:00:00    0\n",
      "2014-04-09 20:15:00    0\n",
      "2014-04-09 20:30:00    0\n",
      "2014-04-09 21:00:00    0\n",
      "2014-04-09 21:30:00    0\n",
      "2014-04-09 21:45:00    0\n",
      "2014-04-09 22:00:00    0\n",
      "2014-04-09 22:15:00    0\n",
      "2014-04-09 22:30:00    0\n",
      "dtype: int64\n",
      "time\n",
      "2014-04-09 16:30:00    0\n",
      "2014-04-09 16:45:00    0\n",
      "2014-04-09 17:00:00    0\n",
      "2014-04-09 17:15:00    0\n",
      "2014-04-09 17:30:00    6\n",
      "2014-04-09 17:45:00    0\n",
      "2014-04-09 18:00:00    0\n",
      "2014-04-09 18:30:00    0\n",
      "2014-04-09 18:45:00    0\n",
      "2014-04-09 19:00:00    0\n",
      "2014-04-09 19:15:00    0\n",
      "2014-04-09 19:30:00    1\n",
      "2014-04-09 19:45:00    0\n",
      "2014-04-09 20:00:00    0\n",
      "2014-04-09 20:15:00    0\n",
      "2014-04-09 20:30:00    0\n",
      "2014-04-09 21:00:00    0\n",
      "2014-04-09 21:30:00    0\n",
      "2014-04-09 21:45:00    0\n",
      "2014-04-09 22:00:00    0\n",
      "2014-04-09 22:15:00    0\n",
      "2014-04-09 22:30:00    0\n",
      "dtype: int64\n"
     ]
    }
   ],
   "source": [
    "for his in [15, 30, 45, 60]:\n",
    "    print((this[2][his] == 0).sum(axis=1))"
   ]
  },
  {
   "cell_type": "code",
   "execution_count": 141,
   "metadata": {},
   "outputs": [
    {
     "data": {
      "text/html": [
       "<div>\n",
       "<style>\n",
       "    .dataframe thead tr:only-child th {\n",
       "        text-align: right;\n",
       "    }\n",
       "\n",
       "    .dataframe thead th {\n",
       "        text-align: left;\n",
       "    }\n",
       "\n",
       "    .dataframe tbody tr th {\n",
       "        vertical-align: top;\n",
       "    }\n",
       "</style>\n",
       "<table border=\"1\" class=\"dataframe\">\n",
       "  <thead>\n",
       "    <tr style=\"text-align: right;\">\n",
       "      <th>bin</th>\n",
       "      <th>0</th>\n",
       "      <th>1</th>\n",
       "      <th>2</th>\n",
       "      <th>3</th>\n",
       "      <th>4</th>\n",
       "      <th>5</th>\n",
       "      <th>6</th>\n",
       "      <th>7</th>\n",
       "      <th>8</th>\n",
       "      <th>9</th>\n",
       "    </tr>\n",
       "    <tr>\n",
       "      <th>time</th>\n",
       "      <th></th>\n",
       "      <th></th>\n",
       "      <th></th>\n",
       "      <th></th>\n",
       "      <th></th>\n",
       "      <th></th>\n",
       "      <th></th>\n",
       "      <th></th>\n",
       "      <th></th>\n",
       "      <th></th>\n",
       "    </tr>\n",
       "  </thead>\n",
       "  <tbody>\n",
       "    <tr>\n",
       "      <th>2014-04-09 16:30:00</th>\n",
       "      <td>False</td>\n",
       "      <td>False</td>\n",
       "      <td>False</td>\n",
       "      <td>False</td>\n",
       "      <td>False</td>\n",
       "      <td>False</td>\n",
       "      <td>False</td>\n",
       "      <td>False</td>\n",
       "      <td>False</td>\n",
       "      <td>False</td>\n",
       "    </tr>\n",
       "    <tr>\n",
       "      <th>2014-04-09 16:45:00</th>\n",
       "      <td>False</td>\n",
       "      <td>False</td>\n",
       "      <td>False</td>\n",
       "      <td>False</td>\n",
       "      <td>False</td>\n",
       "      <td>False</td>\n",
       "      <td>False</td>\n",
       "      <td>False</td>\n",
       "      <td>False</td>\n",
       "      <td>True</td>\n",
       "    </tr>\n",
       "    <tr>\n",
       "      <th>2014-04-09 17:00:00</th>\n",
       "      <td>False</td>\n",
       "      <td>False</td>\n",
       "      <td>False</td>\n",
       "      <td>False</td>\n",
       "      <td>False</td>\n",
       "      <td>False</td>\n",
       "      <td>False</td>\n",
       "      <td>False</td>\n",
       "      <td>False</td>\n",
       "      <td>False</td>\n",
       "    </tr>\n",
       "    <tr>\n",
       "      <th>2014-04-09 17:15:00</th>\n",
       "      <td>False</td>\n",
       "      <td>False</td>\n",
       "      <td>False</td>\n",
       "      <td>False</td>\n",
       "      <td>False</td>\n",
       "      <td>False</td>\n",
       "      <td>False</td>\n",
       "      <td>False</td>\n",
       "      <td>False</td>\n",
       "      <td>False</td>\n",
       "    </tr>\n",
       "    <tr>\n",
       "      <th>2014-04-09 17:30:00</th>\n",
       "      <td>False</td>\n",
       "      <td>False</td>\n",
       "      <td>False</td>\n",
       "      <td>False</td>\n",
       "      <td>False</td>\n",
       "      <td>False</td>\n",
       "      <td>False</td>\n",
       "      <td>False</td>\n",
       "      <td>False</td>\n",
       "      <td>False</td>\n",
       "    </tr>\n",
       "    <tr>\n",
       "      <th>2014-04-09 17:45:00</th>\n",
       "      <td>False</td>\n",
       "      <td>False</td>\n",
       "      <td>False</td>\n",
       "      <td>False</td>\n",
       "      <td>False</td>\n",
       "      <td>False</td>\n",
       "      <td>False</td>\n",
       "      <td>False</td>\n",
       "      <td>False</td>\n",
       "      <td>False</td>\n",
       "    </tr>\n",
       "    <tr>\n",
       "      <th>2014-04-09 18:00:00</th>\n",
       "      <td>False</td>\n",
       "      <td>False</td>\n",
       "      <td>False</td>\n",
       "      <td>False</td>\n",
       "      <td>False</td>\n",
       "      <td>False</td>\n",
       "      <td>False</td>\n",
       "      <td>False</td>\n",
       "      <td>False</td>\n",
       "      <td>False</td>\n",
       "    </tr>\n",
       "    <tr>\n",
       "      <th>2014-04-09 18:30:00</th>\n",
       "      <td>False</td>\n",
       "      <td>False</td>\n",
       "      <td>False</td>\n",
       "      <td>False</td>\n",
       "      <td>False</td>\n",
       "      <td>False</td>\n",
       "      <td>False</td>\n",
       "      <td>False</td>\n",
       "      <td>False</td>\n",
       "      <td>False</td>\n",
       "    </tr>\n",
       "    <tr>\n",
       "      <th>2014-04-09 18:45:00</th>\n",
       "      <td>False</td>\n",
       "      <td>False</td>\n",
       "      <td>False</td>\n",
       "      <td>False</td>\n",
       "      <td>False</td>\n",
       "      <td>False</td>\n",
       "      <td>False</td>\n",
       "      <td>False</td>\n",
       "      <td>False</td>\n",
       "      <td>False</td>\n",
       "    </tr>\n",
       "    <tr>\n",
       "      <th>2014-04-09 19:00:00</th>\n",
       "      <td>False</td>\n",
       "      <td>False</td>\n",
       "      <td>False</td>\n",
       "      <td>False</td>\n",
       "      <td>False</td>\n",
       "      <td>False</td>\n",
       "      <td>False</td>\n",
       "      <td>False</td>\n",
       "      <td>False</td>\n",
       "      <td>False</td>\n",
       "    </tr>\n",
       "    <tr>\n",
       "      <th>2014-04-09 19:15:00</th>\n",
       "      <td>False</td>\n",
       "      <td>False</td>\n",
       "      <td>False</td>\n",
       "      <td>False</td>\n",
       "      <td>False</td>\n",
       "      <td>False</td>\n",
       "      <td>False</td>\n",
       "      <td>False</td>\n",
       "      <td>False</td>\n",
       "      <td>False</td>\n",
       "    </tr>\n",
       "    <tr>\n",
       "      <th>2014-04-09 19:30:00</th>\n",
       "      <td>False</td>\n",
       "      <td>False</td>\n",
       "      <td>False</td>\n",
       "      <td>False</td>\n",
       "      <td>False</td>\n",
       "      <td>False</td>\n",
       "      <td>False</td>\n",
       "      <td>False</td>\n",
       "      <td>False</td>\n",
       "      <td>False</td>\n",
       "    </tr>\n",
       "    <tr>\n",
       "      <th>2014-04-09 19:45:00</th>\n",
       "      <td>False</td>\n",
       "      <td>False</td>\n",
       "      <td>False</td>\n",
       "      <td>False</td>\n",
       "      <td>False</td>\n",
       "      <td>False</td>\n",
       "      <td>False</td>\n",
       "      <td>False</td>\n",
       "      <td>False</td>\n",
       "      <td>False</td>\n",
       "    </tr>\n",
       "    <tr>\n",
       "      <th>2014-04-09 20:00:00</th>\n",
       "      <td>False</td>\n",
       "      <td>False</td>\n",
       "      <td>False</td>\n",
       "      <td>False</td>\n",
       "      <td>False</td>\n",
       "      <td>False</td>\n",
       "      <td>False</td>\n",
       "      <td>False</td>\n",
       "      <td>False</td>\n",
       "      <td>False</td>\n",
       "    </tr>\n",
       "    <tr>\n",
       "      <th>2014-04-09 20:15:00</th>\n",
       "      <td>False</td>\n",
       "      <td>False</td>\n",
       "      <td>False</td>\n",
       "      <td>False</td>\n",
       "      <td>False</td>\n",
       "      <td>False</td>\n",
       "      <td>False</td>\n",
       "      <td>False</td>\n",
       "      <td>False</td>\n",
       "      <td>False</td>\n",
       "    </tr>\n",
       "    <tr>\n",
       "      <th>2014-04-09 20:30:00</th>\n",
       "      <td>False</td>\n",
       "      <td>False</td>\n",
       "      <td>False</td>\n",
       "      <td>False</td>\n",
       "      <td>False</td>\n",
       "      <td>False</td>\n",
       "      <td>False</td>\n",
       "      <td>False</td>\n",
       "      <td>False</td>\n",
       "      <td>False</td>\n",
       "    </tr>\n",
       "    <tr>\n",
       "      <th>2014-04-09 21:00:00</th>\n",
       "      <td>False</td>\n",
       "      <td>False</td>\n",
       "      <td>False</td>\n",
       "      <td>False</td>\n",
       "      <td>False</td>\n",
       "      <td>False</td>\n",
       "      <td>False</td>\n",
       "      <td>False</td>\n",
       "      <td>False</td>\n",
       "      <td>False</td>\n",
       "    </tr>\n",
       "    <tr>\n",
       "      <th>2014-04-09 21:30:00</th>\n",
       "      <td>False</td>\n",
       "      <td>False</td>\n",
       "      <td>False</td>\n",
       "      <td>False</td>\n",
       "      <td>False</td>\n",
       "      <td>False</td>\n",
       "      <td>False</td>\n",
       "      <td>False</td>\n",
       "      <td>False</td>\n",
       "      <td>False</td>\n",
       "    </tr>\n",
       "    <tr>\n",
       "      <th>2014-04-09 21:45:00</th>\n",
       "      <td>False</td>\n",
       "      <td>False</td>\n",
       "      <td>False</td>\n",
       "      <td>False</td>\n",
       "      <td>False</td>\n",
       "      <td>False</td>\n",
       "      <td>False</td>\n",
       "      <td>False</td>\n",
       "      <td>False</td>\n",
       "      <td>False</td>\n",
       "    </tr>\n",
       "    <tr>\n",
       "      <th>2014-04-09 22:00:00</th>\n",
       "      <td>False</td>\n",
       "      <td>False</td>\n",
       "      <td>False</td>\n",
       "      <td>False</td>\n",
       "      <td>False</td>\n",
       "      <td>False</td>\n",
       "      <td>False</td>\n",
       "      <td>False</td>\n",
       "      <td>False</td>\n",
       "      <td>False</td>\n",
       "    </tr>\n",
       "    <tr>\n",
       "      <th>2014-04-09 22:15:00</th>\n",
       "      <td>False</td>\n",
       "      <td>False</td>\n",
       "      <td>False</td>\n",
       "      <td>False</td>\n",
       "      <td>False</td>\n",
       "      <td>False</td>\n",
       "      <td>False</td>\n",
       "      <td>False</td>\n",
       "      <td>False</td>\n",
       "      <td>False</td>\n",
       "    </tr>\n",
       "    <tr>\n",
       "      <th>2014-04-09 22:30:00</th>\n",
       "      <td>False</td>\n",
       "      <td>False</td>\n",
       "      <td>False</td>\n",
       "      <td>False</td>\n",
       "      <td>False</td>\n",
       "      <td>False</td>\n",
       "      <td>False</td>\n",
       "      <td>False</td>\n",
       "      <td>False</td>\n",
       "      <td>False</td>\n",
       "    </tr>\n",
       "  </tbody>\n",
       "</table>\n",
       "</div>"
      ],
      "text/plain": [
       "bin                      0      1      2      3      4      5      6      7  \\\n",
       "time                                                                          \n",
       "2014-04-09 16:30:00  False  False  False  False  False  False  False  False   \n",
       "2014-04-09 16:45:00  False  False  False  False  False  False  False  False   \n",
       "2014-04-09 17:00:00  False  False  False  False  False  False  False  False   \n",
       "2014-04-09 17:15:00  False  False  False  False  False  False  False  False   \n",
       "2014-04-09 17:30:00  False  False  False  False  False  False  False  False   \n",
       "2014-04-09 17:45:00  False  False  False  False  False  False  False  False   \n",
       "2014-04-09 18:00:00  False  False  False  False  False  False  False  False   \n",
       "2014-04-09 18:30:00  False  False  False  False  False  False  False  False   \n",
       "2014-04-09 18:45:00  False  False  False  False  False  False  False  False   \n",
       "2014-04-09 19:00:00  False  False  False  False  False  False  False  False   \n",
       "2014-04-09 19:15:00  False  False  False  False  False  False  False  False   \n",
       "2014-04-09 19:30:00  False  False  False  False  False  False  False  False   \n",
       "2014-04-09 19:45:00  False  False  False  False  False  False  False  False   \n",
       "2014-04-09 20:00:00  False  False  False  False  False  False  False  False   \n",
       "2014-04-09 20:15:00  False  False  False  False  False  False  False  False   \n",
       "2014-04-09 20:30:00  False  False  False  False  False  False  False  False   \n",
       "2014-04-09 21:00:00  False  False  False  False  False  False  False  False   \n",
       "2014-04-09 21:30:00  False  False  False  False  False  False  False  False   \n",
       "2014-04-09 21:45:00  False  False  False  False  False  False  False  False   \n",
       "2014-04-09 22:00:00  False  False  False  False  False  False  False  False   \n",
       "2014-04-09 22:15:00  False  False  False  False  False  False  False  False   \n",
       "2014-04-09 22:30:00  False  False  False  False  False  False  False  False   \n",
       "\n",
       "bin                      8      9  \n",
       "time                               \n",
       "2014-04-09 16:30:00  False  False  \n",
       "2014-04-09 16:45:00  False   True  \n",
       "2014-04-09 17:00:00  False  False  \n",
       "2014-04-09 17:15:00  False  False  \n",
       "2014-04-09 17:30:00  False  False  \n",
       "2014-04-09 17:45:00  False  False  \n",
       "2014-04-09 18:00:00  False  False  \n",
       "2014-04-09 18:30:00  False  False  \n",
       "2014-04-09 18:45:00  False  False  \n",
       "2014-04-09 19:00:00  False  False  \n",
       "2014-04-09 19:15:00  False  False  \n",
       "2014-04-09 19:30:00  False  False  \n",
       "2014-04-09 19:45:00  False  False  \n",
       "2014-04-09 20:00:00  False  False  \n",
       "2014-04-09 20:15:00  False  False  \n",
       "2014-04-09 20:30:00  False  False  \n",
       "2014-04-09 21:00:00  False  False  \n",
       "2014-04-09 21:30:00  False  False  \n",
       "2014-04-09 21:45:00  False  False  \n",
       "2014-04-09 22:00:00  False  False  \n",
       "2014-04-09 22:15:00  False  False  \n",
       "2014-04-09 22:30:00  False  False  "
      ]
     },
     "execution_count": 141,
     "metadata": {},
     "output_type": "execute_result"
    }
   ],
   "source": [
    "this[2][15] == 0"
   ]
  },
  {
   "cell_type": "code",
   "execution_count": null,
   "metadata": {},
   "outputs": [],
   "source": []
  },
  {
   "cell_type": "code",
   "execution_count": 129,
   "metadata": {},
   "outputs": [
    {
     "name": "stdout",
     "output_type": "stream",
     "text": [
      "[  0   1   2   3   4   5   6   7   8   9 100]\n",
      "10\n"
     ]
    }
   ],
   "source": [
    "this = np.arange(10)\n",
    "print(np.insert(this, 10, 100))\n",
    "print(this.size)"
   ]
  },
  {
   "cell_type": "code",
   "execution_count": 90,
   "metadata": {},
   "outputs": [],
   "source": [
    "hist = np.array(this[2][15].iloc[1])"
   ]
  },
  {
   "cell_type": "code",
   "execution_count": 115,
   "metadata": {},
   "outputs": [
    {
     "data": {
      "text/plain": [
       "array([0, 5, 8])"
      ]
     },
     "execution_count": 115,
     "metadata": {},
     "output_type": "execute_result"
    }
   ],
   "source": [
    "indexes"
   ]
  },
  {
   "cell_type": "code",
   "execution_count": 120,
   "metadata": {},
   "outputs": [
    {
     "data": {
      "text/plain": [
       "array([100,   0,   1,   2,   3,   4,   5,   6,   7,   8,   9, 100])"
      ]
     },
     "execution_count": 120,
     "metadata": {},
     "output_type": "execute_result"
    }
   ],
   "source": [
    "np.insert(np.arange(10), [0, 10], 100)"
   ]
  },
  {
   "cell_type": "code",
   "execution_count": 123,
   "metadata": {},
   "outputs": [
    {
     "name": "stdout",
     "output_type": "stream",
     "text": [
      "[0 1 2 3 0 5 6 7 0 0]\n",
      "[1 2 3 5 6 7]\n"
     ]
    },
    {
     "data": {
      "text/plain": [
       "array([100,   1,   2,   3, 100,   5,   6,   7, 100, 100])"
      ]
     },
     "execution_count": 123,
     "metadata": {},
     "output_type": "execute_result"
    }
   ],
   "source": [
    "this = np.arange(10)\n",
    "this[9] = 0\n",
    "this[4] = 0\n",
    "this[8] = 0\n",
    "print(this)\n",
    "that = this[this!=0]\n",
    "print(that)\n",
    "indexes = np.argwhere(this==0).ravel()\n",
    "indexes -= np.arange(indexes.size)\n",
    "values = 100\n",
    "np.insert(that, indexes, values)"
   ]
  },
  {
   "cell_type": "code",
   "execution_count": 104,
   "metadata": {},
   "outputs": [
    {
     "data": {
      "text/plain": [
       "array([ 0,  1,  2,  3,  4,  0,  6,  7,  8,  9, 10, 11, 12, 13, 14, 15, 16,\n",
       "       17, 18, 19])"
      ]
     },
     "execution_count": 104,
     "metadata": {},
     "output_type": "execute_result"
    }
   ],
   "source": [
    "this"
   ]
  },
  {
   "cell_type": "code",
   "execution_count": 103,
   "metadata": {},
   "outputs": [
    {
     "data": {
      "text/plain": [
       "array([ 0.04722222,  0.1783484 ,  0.27761905,  0.37684523,  0.46259106,\n",
       "        0.57045407,  0.66717137,  0.76055944,  0.85      ,  0.        ])"
      ]
     },
     "execution_count": 103,
     "metadata": {},
     "output_type": "execute_result"
    }
   ],
   "source": [
    "indexes = np.argwhere(hist == 0).ravel()\n",
    "values = np.zeros(indexes.size)\n",
    "np.insert(fop, indexes, values)"
   ]
  },
  {
   "cell_type": "code",
   "execution_count": 92,
   "metadata": {},
   "outputs": [],
   "source": [
    "fop = np.array(this[4][15].iloc[1])[:-1]"
   ]
  },
  {
   "cell_type": "code",
   "execution_count": 96,
   "metadata": {},
   "outputs": [
    {
     "data": {
      "text/plain": [
       "array([   328.,    649.,   6255.,   4599.,  12727.,   7246.,   2906.,\n",
       "         1128.,    387.,      0.])"
      ]
     },
     "execution_count": 96,
     "metadata": {},
     "output_type": "execute_result"
    }
   ],
   "source": [
    "hist"
   ]
  },
  {
   "cell_type": "code",
   "execution_count": 94,
   "metadata": {},
   "outputs": [
    {
     "data": {
      "text/plain": [
       "array([ 0.04722222,  0.1783484 ,  0.27761905,  0.37684523,  0.46259106,\n",
       "        0.57045407,  0.66717137,  0.76055944,  0.85      ])"
      ]
     },
     "execution_count": 94,
     "metadata": {},
     "output_type": "execute_result"
    }
   ],
   "source": [
    "fop"
   ]
  },
  {
   "cell_type": "code",
   "execution_count": 89,
   "metadata": {
    "scrolled": false
   },
   "outputs": [
    {
     "data": {
      "text/plain": [
       "bin\n",
       "0    1.0\n",
       "1    2.0\n",
       "2    3.0\n",
       "3    4.0\n",
       "4    5.0\n",
       "5    6.0\n",
       "6    7.0\n",
       "7    8.0\n",
       "8    9.0\n",
       "9    NaN\n",
       "Name: 2014-04-09 16:45:00, dtype: float64"
      ]
     },
     "execution_count": 89,
     "metadata": {},
     "output_type": "execute_result"
    }
   ],
   "source": [
    "np.ceil(this[4][15].iloc[1]*10)"
   ]
  },
  {
   "cell_type": "code",
   "execution_count": 71,
   "metadata": {
    "scrolled": false
   },
   "outputs": [
    {
     "data": {
      "image/png": "[encoded data removed]",
      "text/plain": [
       "<matplotlib.figure.Figure at 0x7fec74277048>"
      ]
     },
     "metadata": {},
     "output_type": "display_data"
    },
    {
     "data": {
      "image/png": "[encoded data removed]",
      "text/plain": [
       "<matplotlib.figure.Figure at 0x7fec347b96a0>"
      ]
     },
     "metadata": {},
     "output_type": "display_data"
    },
    {
     "data": {
      "image/png": "[encoded data removed]",
      "text/plain": [
       "<matplotlib.figure.Figure at 0x7fec740c27b8>"
      ]
     },
     "metadata": {},
     "output_type": "display_data"
    },
    {
     "data": {
      "image/png": "[encoded data removed]",
      "text/plain": [
       "<matplotlib.figure.Figure at 0x7fec9dbcccc0>"
      ]
     },
     "metadata": {},
     "output_type": "display_data"
    },
    {
     "data": {
      "image/png": "[encoded data removed]",
      "text/plain": [
       "<matplotlib.figure.Figure at 0x7fec5449cb38>"
      ]
     },
     "metadata": {},
     "output_type": "display_data"
    }
   ],
   "source": [
    "for ii in range(5):\n",
    "    plt.figure()\n",
    "    plt.plot(np.linspace(.05, .95, 10), this[ii], marker='o')"
   ]
  },
  {
   "cell_type": "code",
   "execution_count": 49,
   "metadata": {},
   "outputs": [
    {
     "data": {
      "text/plain": [
       "array([ 0.09555556,  0.0566968 ,  0.21078167,  0.57859229,  0.83508701,\n",
       "        0.89993694,  0.91259463,  0.96293706,  1.        ])"
      ]
     },
     "execution_count": 49,
     "metadata": {},
     "output_type": "execute_result"
    }
   ],
   "source": [
    "this[0][0]"
   ]
  },
  {
   "cell_type": "code",
   "execution_count": 52,
   "metadata": {},
   "outputs": [
    {
     "data": {
      "text/plain": [
       "array([ 0.09555556,  0.0566968 ,  0.21078167,  0.57859229,  0.83508701,\n",
       "        0.89993694,  0.91259463,  0.96293706,  1.        ])"
      ]
     },
     "execution_count": 52,
     "metadata": {},
     "output_type": "execute_result"
    }
   ],
   "source": [
    "this[0][0]"
   ]
  },
  {
   "cell_type": "code",
   "execution_count": 59,
   "metadata": {},
   "outputs": [
    {
     "data": {
      "text/plain": [
       "array([ 0.05,  0.15,  0.25,  0.35,  0.45,  0.55,  0.65,  0.75,  0.85,  0.95])"
      ]
     },
     "execution_count": 59,
     "metadata": {},
     "output_type": "execute_result"
    }
   ],
   "source": [
    "np.linspace(0, .9, 10) + 0.05"
   ]
  },
  {
   "cell_type": "code",
   "execution_count": 53,
   "metadata": {},
   "outputs": [
    {
     "data": {
      "text/plain": [
       "array([ 0.04722222,  0.1783484 ,  0.27761905,  0.37684523,  0.46259106,\n",
       "        0.57045407,  0.66717137,  0.76055944,  0.85      ])"
      ]
     },
     "execution_count": 53,
     "metadata": {},
     "output_type": "execute_result"
    }
   ],
   "source": [
    "this[0][1]"
   ]
  },
  {
   "cell_type": "code",
   "execution_count": 55,
   "metadata": {
    "scrolled": true
   },
   "outputs": [
    {
     "data": {
      "image/png": "[encoded data removed]",
      "text/plain": [
       "<matplotlib.figure.Figure at 0x7fec54497860>"
      ]
     },
     "metadata": {},
     "output_type": "display_data"
    },
    {
     "data": {
      "image/png": "[encoded data removed]",
      "text/plain": [
       "<matplotlib.figure.Figure at 0x7fec54594828>"
      ]
     },
     "metadata": {},
     "output_type": "display_data"
    },
    {
     "data": {
      "image/png": "[encoded data removed]",
      "text/plain": [
       "<matplotlib.figure.Figure at 0x7fec5446dcc0>"
      ]
     },
     "metadata": {},
     "output_type": "display_data"
    },
    {
     "data": {
      "image/png": "[encoded data removed]",
      "text/plain": [
       "<matplotlib.figure.Figure at 0x7fec547ac198>"
      ]
     },
     "metadata": {},
     "output_type": "display_data"
    },
    {
     "data": {
      "image/png": "[encoded data removed]",
      "text/plain": [
       "<matplotlib.figure.Figure at 0x7fec54567240>"
      ]
     },
     "metadata": {},
     "output_type": "display_data"
    },
    {
     "data": {
      "image/png": "[encoded data removed]",
      "text/plain": [
       "<matplotlib.figure.Figure at 0x7fec740e65f8>"
      ]
     },
     "metadata": {},
     "output_type": "display_data"
    },
    {
     "data": {
      "image/png": "[encoded data removed]",
      "text/plain": [
       "<matplotlib.figure.Figure at 0x7fec7405ab70>"
      ]
     },
     "metadata": {},
     "output_type": "display_data"
    },
    {
     "data": {
      "image/png": "[encoded data removed]",
      "text/plain": [
       "<matplotlib.figure.Figure at 0x7fec543a22e8>"
      ]
     },
     "metadata": {},
     "output_type": "display_data"
    },
    {
     "data": {
      "image/png": "[encoded data removed]",
      "text/plain": [
       "<matplotlib.figure.Figure at 0x7fec740704a8>"
      ]
     },
     "metadata": {},
     "output_type": "display_data"
    },
    {
     "data": {
      "image/png": "[encoded data removed]",
      "text/plain": [
       "<matplotlib.figure.Figure at 0x7fec54507dd8>"
      ]
     },
     "metadata": {},
     "output_type": "display_data"
    },
    {
     "data": {
      "image/png": "[encoded data removed]",
      "text/plain": [
       "<matplotlib.figure.Figure at 0x7fec347b9160>"
      ]
     },
     "metadata": {},
     "output_type": "display_data"
    },
    {
     "data": {
      "image/png": "[encoded data removed]",
      "text/plain": [
       "<matplotlib.figure.Figure at 0x7fec5441a518>"
      ]
     },
     "metadata": {},
     "output_type": "display_data"
    },
    {
     "data": {
      "image/png": "[encoded data removed]",
      "text/plain": [
       "<matplotlib.figure.Figure at 0x7fec347c82b0>"
      ]
     },
     "metadata": {},
     "output_type": "display_data"
    },
    {
     "data": {
      "image/png": "[encoded data removed]",
      "text/plain": [
       "<matplotlib.figure.Figure at 0x7fec54759e80>"
      ]
     },
     "metadata": {},
     "output_type": "display_data"
    },
    {
     "data": {
      "image/png": "[encoded data removed]",
      "text/plain": [
       "<matplotlib.figure.Figure at 0x7fec542c25c0>"
      ]
     },
     "metadata": {},
     "output_type": "display_data"
    },
    {
     "data": {
      "image/png": "[encoded data removed]",
      "text/plain": [
       "<matplotlib.figure.Figure at 0x7fec540b4b70>"
      ]
     },
     "metadata": {},
     "output_type": "display_data"
    },
    {
     "data": {
      "image/png": "[encoded data removed]",
      "text/plain": [
       "<matplotlib.figure.Figure at 0x7fec54771630>"
      ]
     },
     "metadata": {},
     "output_type": "display_data"
    },
    {
     "data": {
      "image/png": "[encoded data removed]",
      "text/plain": [
       "<matplotlib.figure.Figure at 0x7fec9dc6beb8>"
      ]
     },
     "metadata": {},
     "output_type": "display_data"
    }
   ],
   "source": [
    "for ii in range(len(this)):\n",
    "    plt.figure()\n",
    "    plt.plot(this[ii][1], this[ii][0], marker='o')\n",
    "    plt.xlim([0, 1])\n",
    "    plt.ylim([0, 1])\n",
    "    plt.axis('equal')\n",
    "    plt.title(this[ii][0].size)"
   ]
  },
  {
   "cell_type": "code",
   "execution_count": null,
   "metadata": {},
   "outputs": [],
   "source": [
    "this[0]"
   ]
  },
  {
   "cell_type": "code",
   "execution_count": null,
   "metadata": {},
   "outputs": [],
   "source": [
    "this[1]"
   ]
  },
  {
   "cell_type": "code",
   "execution_count": null,
   "metadata": {},
   "outputs": [],
   "source": [
    "this[2]"
   ]
  },
  {
   "cell_type": "code",
   "execution_count": null,
   "metadata": {},
   "outputs": [],
   "source": []
  },
  {
   "cell_type": "code",
   "execution_count": null,
   "metadata": {},
   "outputs": [],
   "source": []
  },
  {
   "cell_type": "code",
   "execution_count": null,
   "metadata": {
    "scrolled": true
   },
   "outputs": [],
   "source": [
    "# importlib.reload(analyse_results)\n",
    "# # month_day = [[4, 9], [4, 15], [4, 18], [5, 6], [5, 9], [5, 29], [6, 11], [6, 12]]\n",
    "# # month_day = [[4, 9],  [4, 15], [4, 18],\n",
    "# #              [5, 6],  [5, 9],  [5, 29],\n",
    "# #              [6, 11], [6, 12],\n",
    "# #              [4, 2],  [4, 5],  [4, 19],\n",
    "# #              [5, 7],  [5, 8],  [5, 19],\n",
    "# #              [6, 3],  [6, 10], [6, 14],\n",
    "# #              [6, 15]]\n",
    "# month_day = [[4, 9],  [4, 15], [4, 18],\n",
    "#              [5, 6],  [5, 9],  [5, 29],\n",
    "#              [6, 11], [6, 12],\n",
    "#              [4, 2],  [4, 5],  [4, 19],\n",
    "#              [5, 7],  [5, 8],  [5, 19],\n",
    "#              [6, 3],  [6, 10], [6, 14],\n",
    "#              [6, 15],\n",
    "#              [4, 10], [4, 11], [4, 12],\n",
    "#              [4, 20], [4, 21], [4, 22],\n",
    "#              [4, 25], [4, 26], [5, 5],\n",
    "#              [5, 20], [5, 21], [5, 22],\n",
    "#              [5, 23], [5, 24], [5, 25],\n",
    "#              [5, 30], [6, 16], [6, 17],\n",
    "#              [6, 18], [6, 19], [6, 22]]\n",
    "# this = analyse_results.prob_analysis_baselines(\n",
    "#     month_day, [15, 30, 45, 60],\n",
    "#     '/a2/uaren/travis/data/satellite_data/cloudiness_index.h5')"
   ]
  },
  {
   "cell_type": "code",
   "execution_count": null,
   "metadata": {},
   "outputs": [],
   "source": []
  },
  {
   "cell_type": "code",
   "execution_count": null,
   "metadata": {},
   "outputs": [],
   "source": []
  },
  {
   "cell_type": "code",
   "execution_count": null,
   "metadata": {},
   "outputs": [],
   "source": [
    "directory_name = 'third_set'\n",
    "stat_type = 'crps'\n",
    "for key in returned_dict:\n",
    "    save_directory = ('/a2/uaren/travis/'\n",
    "        + f'results/multi_day_error/probabilistic/{directory_name}/{stat_type}')\n",
    "    if not os.path.exists(save_directory):\n",
    "        os.makedirs(save_directory)\n",
    "#     for error_stat in error_stats:\n",
    "#         if error_stat == 'name':\n",
    "#             continue\n",
    "    this_dir = os.path.join(\n",
    "        save_directory,\n",
    "        key + '.h5')\n",
    "    returned_dict[key].to_hdf(this_dir, key)\n",
    "    error_stats[error_stat].to_hdf(this_dir, error_stat)"
   ]
  },
  {
   "cell_type": "code",
   "execution_count": null,
   "metadata": {},
   "outputs": [],
   "source": []
  },
  {
   "cell_type": "code",
   "execution_count": null,
   "metadata": {},
   "outputs": [],
   "source": []
  },
  {
   "cell_type": "code",
   "execution_count": null,
   "metadata": {},
   "outputs": [],
   "source": []
  },
  {
   "cell_type": "code",
   "execution_count": null,
   "metadata": {},
   "outputs": [],
   "source": []
  },
  {
   "cell_type": "code",
   "execution_count": null,
   "metadata": {},
   "outputs": [],
   "source": []
  },
  {
   "cell_type": "code",
   "execution_count": null,
   "metadata": {},
   "outputs": [],
   "source": []
  },
  {
   "cell_type": "code",
   "execution_count": null,
   "metadata": {},
   "outputs": [],
   "source": []
  },
  {
   "cell_type": "code",
   "execution_count": null,
   "metadata": {},
   "outputs": [],
   "source": []
  },
  {
   "cell_type": "code",
   "execution_count": null,
   "metadata": {},
   "outputs": [],
   "source": []
  },
  {
   "cell_type": "code",
   "execution_count": null,
   "metadata": {},
   "outputs": [],
   "source": []
  },
  {
   "cell_type": "code",
   "execution_count": null,
   "metadata": {},
   "outputs": [],
   "source": [
    "sensor_loc = pd.read_hdf('/home/travis/python_code/letkf_forecasting_other_things/data/sensor_loc.h5')"
   ]
  },
  {
   "cell_type": "code",
   "execution_count": null,
   "metadata": {},
   "outputs": [],
   "source": [
    "climatology = pd.read_hdf('/a2/uaren/travis/data/satellite_data/cloudiness_index.h5')\n",
    "climatology = climatology.values.ravel()\n",
    "climatology = climatology[~np.isnan(climatology)]\n",
    "climatology = climatology.clip(min=0, max=1)"
   ]
  },
  {
   "cell_type": "markdown",
   "metadata": {},
   "source": [
    "# For error domain many dates"
   ]
  },
  {
   "cell_type": "code",
   "execution_count": null,
   "metadata": {},
   "outputs": [],
   "source": [
    "# month_day = [[4, 9], [4, 15], [4, 18], [5, 6], [5, 9], [5, 29], [6, 11], [6, 12]]\n",
    "month_day = [[4, 9], [4, 15], [4, 18]]\n",
    "# month_day = [[4, 9],  [4, 15], [4, 18],\n",
    "#              [5, 6],  [5, 9],  [5, 29],\n",
    "#              [6, 11], [6, 12],\n",
    "#              [4, 2],  [4, 5],  [4, 19],\n",
    "#              [5, 7],  [5, 8],  [5, 19],\n",
    "#              [6, 3],  [6, 10], [6, 14],\n",
    "#              [6, 15]]\n",
    "# month_day = [[4, 9],  [4, 15], [4, 18],\n",
    "#              [5, 6],  [5, 9],  [5, 29],\n",
    "#              [6, 11], [6, 12],\n",
    "#              [4, 2],  [4, 5],  [4, 19],\n",
    "#              [5, 7],  [5, 8],  [5, 19],\n",
    "#              [6, 3],  [6, 10], [6, 14],\n",
    "#              [6, 15],\n",
    "#              [4, 10], [4, 11], [4, 12],\n",
    "#              [4, 20], [4, 21], [4, 22],\n",
    "#              [4, 25], [4, 26], [5, 5],\n",
    "#              [5, 20], [5, 21], [5, 22],\n",
    "#              [5, 23], [5, 24], [5, 25],\n",
    "#              [5, 30], [6, 16], [6, 17],\n",
    "#              [6, 18], [6, 19], [6, 22]]\n",
    "dates = []\n",
    "for ii in range(len(month_day)):\n",
    "    dates.append(datetime.date(2014, month_day[ii][0], month_day[ii][1]))\n",
    "base_folder = '/a2/uaren/travis'"
   ]
  },
  {
   "cell_type": "code",
   "execution_count": null,
   "metadata": {},
   "outputs": [],
   "source": [
    "dates_truth = letkf_io.return_many_truths(dates, base_folder)\n",
    "dates_truth = dates_truth['ci']\n",
    "dates_truth = letkf_io.add_crop_attributes(dates_truth)\n",
    "dates_truth = analyse_results.return_error_domain(dates_truth)"
   ]
  },
  {
   "cell_type": "code",
   "execution_count": null,
   "metadata": {},
   "outputs": [],
   "source": [
    "persistence = dates_truth.copy()\n",
    "persistence['time'] = persistence.time + pd.Timedelta('30min')"
   ]
  },
  {
   "cell_type": "code",
   "execution_count": null,
   "metadata": {
    "scrolled": true
   },
   "outputs": [],
   "source": [
    "dates_15 = letkf_io.return_many_days(dates, 'ow_15', base_folder)\n",
    "dates_15 = dates_15['ci']\n",
    "dates_15 = letkf_io.add_crop_attributes(dates_15)\n",
    "dates_15 = analyse_results.return_error_domain(dates_15)\n",
    "dates_15 = analyse_results.return_horizon(dates_15, 30)"
   ]
  },
  {
   "cell_type": "code",
   "execution_count": null,
   "metadata": {},
   "outputs": [],
   "source": [
    "dates_wp = letkf_io.return_many_days(dates, 'owp_opt', base_folder)\n",
    "dates_wp = dates_wp['ci']\n",
    "dates_wp = letkf_io.add_crop_attributes(dates_wp)\n",
    "dates_wp = analyse_results.return_error_domain(dates_wp)\n",
    "dates_wp = analyse_results.return_horizon(dates_wp, 30)"
   ]
  },
  {
   "cell_type": "code",
   "execution_count": null,
   "metadata": {},
   "outputs": [],
   "source": [
    "dates_error_times = np.intersect1d(dates_truth.time.to_pandas(), \n",
    "                                   dates_15.time.to_pandas())"
   ]
  },
  {
   "cell_type": "code",
   "execution_count": null,
   "metadata": {},
   "outputs": [],
   "source": [
    "dates_error_times2 = np.intersect1d(dates_truth.time.to_pandas(), \n",
    "                                   persistence.time.to_pandas())"
   ]
  },
  {
   "cell_type": "code",
   "execution_count": null,
   "metadata": {},
   "outputs": [],
   "source": []
  },
  {
   "cell_type": "code",
   "execution_count": null,
   "metadata": {},
   "outputs": [],
   "source": [
    "dates_truth = dates_truth.sel(time=dates_error_times).load()\n",
    "dates_15 = dates_15.sel(time=dates_error_times).load()\n",
    "dates_wp = dates_wp.sel(time=dates_error_times).load()"
   ]
  },
  {
   "cell_type": "code",
   "execution_count": null,
   "metadata": {},
   "outputs": [],
   "source": [
    "persistence = persistence.sel(time=dates_error_times).load()"
   ]
  },
  {
   "cell_type": "code",
   "execution_count": null,
   "metadata": {},
   "outputs": [],
   "source": [
    "climatology_dates = dates_truth.values.ravel()\n",
    "climatology_dates = climatology_dates[~np.isnan(climatology_dates)]\n",
    "climatology_dates = climatology_dates.clip(min=0, max=1)"
   ]
  },
  {
   "cell_type": "code",
   "execution_count": null,
   "metadata": {},
   "outputs": [],
   "source": [
    "crps_15_30 = ps.crps_ensemble(dates_truth.values,\n",
    "                              dates_15.values.transpose([0, 2, 3, 1]))"
   ]
  },
  {
   "cell_type": "code",
   "execution_count": null,
   "metadata": {},
   "outputs": [],
   "source": [
    "print('Average crps ow_15: ', crps_15_30.mean())"
   ]
  },
  {
   "cell_type": "code",
   "execution_count": null,
   "metadata": {},
   "outputs": [],
   "source": [
    "crps_wp_30 = ps.crps_ensemble(dates_truth.values,\n",
    "                              dates_wp.values.transpose([0, 2, 3, 1]))"
   ]
  },
  {
   "cell_type": "code",
   "execution_count": null,
   "metadata": {},
   "outputs": [],
   "source": [
    "print('Average crps ow_15_wp: ', crps_wp_30.mean())"
   ]
  },
  {
   "cell_type": "code",
   "execution_count": null,
   "metadata": {},
   "outputs": [],
   "source": [
    "crps_persistence = ps.crps_ensemble(\n",
    "    dates_truth.values,\n",
    "    persistence.values)"
   ]
  },
  {
   "cell_type": "code",
   "execution_count": null,
   "metadata": {},
   "outputs": [],
   "source": [
    "print('Average crps persistence: ', crps_persistence.mean())"
   ]
  },
  {
   "cell_type": "code",
   "execution_count": null,
   "metadata": {},
   "outputs": [],
   "source": [
    "persis_array = persistence.values\n",
    "persis_shape = persis_array.shape\n",
    "persis_array = persis_array.reshape([persis_shape[0], persis_shape[1]*persis_shape[2]])"
   ]
  },
  {
   "cell_type": "code",
   "execution_count": null,
   "metadata": {},
   "outputs": [],
   "source": [
    "ens_members = 100\n",
    "persis_weights = np.ones([dates_error_times.size, ens_members])\n",
    "for ii in range(dates_error_times.size):#range(persis_ens.shape[0]):\n",
    "    persis_weights[ii], bin_edges = np.histogram(persis_array[ii], bins=ens_members, range=(0, 1), normed=True)\n",
    "persis_ens = (bin_edges[:-1] + bin_edges[1:])/2\n",
    "persis_ens = np.repeat(persis_ens[None, :], persis_shape[2], axis=0)\n",
    "persis_ens = np.repeat(persis_ens[None, :], persis_shape[1], axis=0)\n",
    "persis_ens = np.repeat(persis_ens[None, :], persis_shape[0], axis=0)"
   ]
  },
  {
   "cell_type": "code",
   "execution_count": null,
   "metadata": {},
   "outputs": [],
   "source": [
    "persis_weights = np.repeat(persis_weights[:, None, :], persis_shape[2], axis=1)\n",
    "persis_weights = np.repeat(persis_weights[:, None,:, :], persis_shape[1], axis=1)"
   ]
  },
  {
   "cell_type": "code",
   "execution_count": null,
   "metadata": {},
   "outputs": [],
   "source": [
    "crps_persistent_dist = ps.crps_ensemble(\n",
    "    dates_truth.sel(time=dates_error_times).values,\n",
    "    persis_ens, weights=persis_weights)"
   ]
  },
  {
   "cell_type": "code",
   "execution_count": null,
   "metadata": {},
   "outputs": [],
   "source": [
    "print('Average crps persist dist: ', crps_persistent_dist.mean())"
   ]
  },
  {
   "cell_type": "code",
   "execution_count": null,
   "metadata": {},
   "outputs": [],
   "source": [
    "ens_members = 100\n",
    "clim_weights, bin_edges = np.histogram(climatology, bins=ens_members, range=(0, 1), normed=True)\n",
    "clim_ens = (bin_edges[:-1] + bin_edges[1:])/2\n",
    "clim_ens = np.repeat(clim_ens[None, :], persis_shape[2], axis=0)\n",
    "clim_ens = np.repeat(clim_ens[None, :], persis_shape[1], axis=0)\n",
    "clim_ens = np.repeat(clim_ens[None, :], persis_shape[0], axis=0)\n",
    "\n",
    "clim_weights = np.repeat(clim_weights[None, :], persis_shape[2], axis=0)\n",
    "clim_weights = np.repeat(clim_weights[None, :], persis_shape[1], axis=0)\n",
    "clim_weights = np.repeat(clim_weights[None, :], persis_shape[0], axis=0)\n",
    "# clim_ens = np.repeat(clim_ens[None, :], dates_error_times.size, axis=0)\n",
    "# clim_weights = np.repeat(clim_weights[None, :], dates_error_times.size, axis=0)"
   ]
  },
  {
   "cell_type": "code",
   "execution_count": null,
   "metadata": {},
   "outputs": [],
   "source": [
    "crps_clim = ps.crps_ensemble(\n",
    "    dates_truth.sel(time=dates_error_times).values,\n",
    "    clim_ens, weights=clim_weights)"
   ]
  },
  {
   "cell_type": "code",
   "execution_count": null,
   "metadata": {},
   "outputs": [],
   "source": [
    "print('Average crps climatology: ', crps_clim.mean())"
   ]
  },
  {
   "cell_type": "code",
   "execution_count": null,
   "metadata": {},
   "outputs": [],
   "source": [
    "ens_members = 100\n",
    "clim_dates_weights, bin_edges = np.histogram(climatology_dates, bins=ens_members, range=(0, 1), normed=True)\n",
    "clim_dates_ens = (bin_edges[:-1] + bin_edges[1:])/2\n",
    "\n",
    "clim_dates_ens = np.repeat(clim_dates_ens[None, :], persis_shape[2], axis=0)\n",
    "clim_dates_ens = np.repeat(clim_dates_ens[None, :], persis_shape[1], axis=0)\n",
    "clim_dates_ens = np.repeat(clim_dates_ens[None, :], persis_shape[0], axis=0)\n",
    "\n",
    "clim_dates_weights = np.repeat(clim_dates_weights[None, :], persis_shape[2], axis=0)\n",
    "clim_dates_weights = np.repeat(clim_dates_weights[None, :], persis_shape[1], axis=0)\n",
    "clim_dates_weights = np.repeat(clim_dates_weights[None, :], persis_shape[0], axis=0)\n",
    "\n",
    "# clim_dates_ens = np.repeat(clim_dates_ens[None, :], dates_error_times.size, axis=0)\n",
    "# clim_dates_weights = np.repeat(clim_dates_weights[None, :], dates_error_times.size, axis=0)"
   ]
  },
  {
   "cell_type": "code",
   "execution_count": null,
   "metadata": {},
   "outputs": [],
   "source": [
    "crps_clim_dates = ps.crps_ensemble(\n",
    "    dates_truth.sel(time=dates_error_times).values,\n",
    "    clim_dates_ens, weights=clim_dates_weights)"
   ]
  },
  {
   "cell_type": "code",
   "execution_count": null,
   "metadata": {},
   "outputs": [],
   "source": [
    "print('Average crps climatology for dates: ', crps_clim_dates.mean())"
   ]
  },
  {
   "cell_type": "code",
   "execution_count": null,
   "metadata": {},
   "outputs": [],
   "source": []
  },
  {
   "cell_type": "code",
   "execution_count": null,
   "metadata": {},
   "outputs": [],
   "source": [
    "print('ow_15 SS_RPS persis: ', 1 - crps_15_30.mean()/crps_persistence.mean())\n",
    "print('ow_15_wp3 SS_RPS persis: ', 1 - crps_wp_30.mean()/crps_persistence.mean())"
   ]
  },
  {
   "cell_type": "code",
   "execution_count": null,
   "metadata": {},
   "outputs": [],
   "source": [
    "print('ow_15 SS_RPS dist persis: ', 1 - crps_15_30.mean()/crps_persistent_dist.mean())\n",
    "print('ow_15_wp3 SS_RPS dist persis: ', 1 - crps_wp_30.mean()/crps_persistent_dist.mean())"
   ]
  },
  {
   "cell_type": "code",
   "execution_count": null,
   "metadata": {},
   "outputs": [],
   "source": [
    "print('ow_15 SS_RPS clim dates: ', 1 - crps_15_30.mean()/crps_clim_dates.mean())\n",
    "print('ow_15_wp3 SS_RPS clim dates: ', 1 - crps_wp_30.mean()/crps_clim_dates.mean())\n",
    "print('persistent dist SS_RPS clim dates: ', 1 - crps_persistent_dist.mean()/crps_clim_dates.mean())"
   ]
  },
  {
   "cell_type": "code",
   "execution_count": null,
   "metadata": {},
   "outputs": [],
   "source": [
    "print('ow_15 SS_RPS clim: ', 1 - crps_15_30.mean()/crps_clim.mean())\n",
    "print('ow_15_wp3 SS_RPS clim: ', 1 - crps_wp_30.mean()/crps_clim.mean())\n",
    "print('persistent dist SS_RPS clim: ', 1 - crps_persistent_dist.mean()/crps_clim.mean())"
   ]
  },
  {
   "cell_type": "markdown",
   "metadata": {},
   "source": [
    "# Reliability diagram"
   ]
  },
  {
   "cell_type": "markdown",
   "metadata": {},
   "source": [
    " # Thick cloud"
   ]
  },
  {
   "cell_type": "code",
   "execution_count": null,
   "metadata": {},
   "outputs": [],
   "source": [
    "truth = dates_truth"
   ]
  },
  {
   "cell_type": "code",
   "execution_count": null,
   "metadata": {},
   "outputs": [],
   "source": [
    "error_times = dates_error_times"
   ]
  },
  {
   "cell_type": "code",
   "execution_count": null,
   "metadata": {},
   "outputs": [],
   "source": [
    "ow_15_30 = dates_15"
   ]
  },
  {
   "cell_type": "code",
   "execution_count": null,
   "metadata": {},
   "outputs": [],
   "source": [
    "ow_15_wp3_30 = dates_wp"
   ]
  },
  {
   "cell_type": "code",
   "execution_count": null,
   "metadata": {},
   "outputs": [],
   "source": [
    "thin_ub = 0.4"
   ]
  },
  {
   "cell_type": "code",
   "execution_count": null,
   "metadata": {
    "scrolled": true
   },
   "outputs": [],
   "source": [
    "truth_thick = (truth.sel(time=error_times)>thin_ub).astype('float')"
   ]
  },
  {
   "cell_type": "code",
   "execution_count": null,
   "metadata": {},
   "outputs": [],
   "source": [
    "persistence_thick = (persistence.sel(time=error_times)>thin_ub).astype('float')"
   ]
  },
  {
   "cell_type": "code",
   "execution_count": null,
   "metadata": {},
   "outputs": [],
   "source": [
    "persistence_dist_thick = persistence_thick.copy()"
   ]
  },
  {
   "cell_type": "code",
   "execution_count": null,
   "metadata": {},
   "outputs": [],
   "source": [
    "for ii in range(error_times.size):\n",
    "    persistence_dist_thick[ii] = persistence_dist_thick[ii].mean(dim=['west_east', 'south_north']).item()"
   ]
  },
  {
   "cell_type": "code",
   "execution_count": null,
   "metadata": {},
   "outputs": [],
   "source": [
    "ow_15_thick = (ow_15_30.sel(time=error_times)>thin_ub).astype('int')\n",
    "ow_15_thick = ow_15_thick.mean(dim='ensemble_number')"
   ]
  },
  {
   "cell_type": "code",
   "execution_count": null,
   "metadata": {
    "scrolled": true
   },
   "outputs": [],
   "source": [
    "ow_15_wp3_thick = (ow_15_wp3_30.sel(time=error_times)>thin_ub).astype('int')\n",
    "ow_15_wp3_thick = ow_15_wp3_thick.mean(dim='ensemble_number')"
   ]
  },
  {
   "cell_type": "code",
   "execution_count": null,
   "metadata": {},
   "outputs": [],
   "source": [
    "this = ps.brier_score(truth_thick.values.ravel(), ow_15_wp3_thick.values.ravel()).mean()\n",
    "print('wp3: ', this)"
   ]
  },
  {
   "cell_type": "code",
   "execution_count": null,
   "metadata": {},
   "outputs": [],
   "source": [
    "this = ps.brier_score(truth_thick.values.ravel(), ow_15_thick.values.ravel()).mean()\n",
    "print('ow_15: ', this)"
   ]
  },
  {
   "cell_type": "code",
   "execution_count": null,
   "metadata": {},
   "outputs": [],
   "source": [
    "this = ps.brier_score(truth_thick.values.ravel(), persistence_dist_thick.values.ravel()).mean()\n",
    "print(this)"
   ]
  },
  {
   "cell_type": "code",
   "execution_count": null,
   "metadata": {},
   "outputs": [],
   "source": [
    "this = ps.brier_score(truth_thick.values.ravel(), persistence_thick.values.ravel()).mean()\n",
    "print(this)"
   ]
  },
  {
   "cell_type": "code",
   "execution_count": null,
   "metadata": {},
   "outputs": [],
   "source": [
    "%matplotlib inline"
   ]
  },
  {
   "cell_type": "code",
   "execution_count": null,
   "metadata": {
    "scrolled": false
   },
   "outputs": [],
   "source": [
    "num_of_bins = 10\n",
    "figsize = plt.figaspect(1.38)\n",
    "fig = plt.figure(figsize=figsize, dpi=dpi)\n",
    "ax1 = plt.subplot2grid((3, 1), (0, 0), rowspan=2)\n",
    "ax2 = plt.subplot2grid((3, 1), (2, 0))\n",
    "\n",
    "ax1.plot([0, 1], [0, 1], \"k:\", label=\"Perfectly calibrated\")\n",
    "ax2.hist(truth_thick.values.ravel(), color='k', linestyle=':',\n",
    "         range=(0, 1), bins=num_of_bins, label=\"Perfectly calibrated\",\n",
    "         histtype=\"step\", lw=2)\n",
    "for forecast, name in [(ow_15_thick, 'WRF + Opt. flow'),\n",
    "                       (ow_15_wp3_thick, 'With perturbed winds')]:#,\n",
    "#                        (persistence_dist_thick, 'persistence_dist')]:\n",
    "    \n",
    "    fraction_of_positives, mean_predicted_value = \\\n",
    "        calibration.calibration_curve(\n",
    "            truth_thick.values.ravel(),\n",
    "            forecast.values.ravel(), n_bins=num_of_bins)\n",
    "\n",
    "    ax1.plot(mean_predicted_value, fraction_of_positives, \"s-\",\n",
    "             label=f'{name}')\n",
    "    ax2.hist(forecast.values.ravel(), range=(0, 1), bins=num_of_bins, label=name,\n",
    "             histtype=\"step\", lw=2, linestyle='--')\n",
    "\n",
    "\n",
    "ax1.set_ylabel(\"P(o|y)\")\n",
    "ax1.set_ylim([-0.05, 1.05])\n",
    "ax1.legend(loc=\"lower right\")\n",
    "ax1.set_title('Reliability curve for thick cloud forecast')\n",
    "\n",
    "ax2.set_xlabel(\"P(y)\")\n",
    "ax2.set_ylabel(\"Count\")\n",
    "ax2.legend(loc=\"upper center\", ncol=1)\n",
    "\n",
    "plt.tight_layout()"
   ]
  },
  {
   "cell_type": "code",
   "execution_count": null,
   "metadata": {},
   "outputs": [],
   "source": []
  },
  {
   "cell_type": "markdown",
   "metadata": {},
   "source": [
    "# Clear"
   ]
  },
  {
   "cell_type": "code",
   "execution_count": null,
   "metadata": {},
   "outputs": [],
   "source": [
    "clear_ub = 0.1"
   ]
  },
  {
   "cell_type": "code",
   "execution_count": null,
   "metadata": {
    "scrolled": true
   },
   "outputs": [],
   "source": [
    "truth_clear = (truth.sel(time=error_times)<clear_ub).astype('float')"
   ]
  },
  {
   "cell_type": "code",
   "execution_count": null,
   "metadata": {},
   "outputs": [],
   "source": [
    "persistence_clear = (persistence.sel(time=error_times)<clear_ub).astype('float')"
   ]
  },
  {
   "cell_type": "code",
   "execution_count": null,
   "metadata": {},
   "outputs": [],
   "source": [
    "persistence_dist_clear = persistence_clear.copy()"
   ]
  },
  {
   "cell_type": "code",
   "execution_count": null,
   "metadata": {},
   "outputs": [],
   "source": [
    "for ii in range(error_times.size):\n",
    "    persistence_dist_clear[ii] = persistence_dist_clear[ii].mean(dim=['west_east', 'south_north']).item()"
   ]
  },
  {
   "cell_type": "code",
   "execution_count": null,
   "metadata": {},
   "outputs": [],
   "source": [
    "ow_15_clear = (ow_15_30.sel(time=error_times)<clear_ub).astype('int')\n",
    "ow_15_clear = ow_15_clear.mean(dim='ensemble_number')"
   ]
  },
  {
   "cell_type": "code",
   "execution_count": null,
   "metadata": {
    "scrolled": true
   },
   "outputs": [],
   "source": [
    "ow_15_wp3_clear = (ow_15_wp3_30.sel(time=error_times)<clear_ub).astype('int')\n",
    "ow_15_wp3_clear = ow_15_wp3_clear.mean(dim='ensemble_number')"
   ]
  },
  {
   "cell_type": "code",
   "execution_count": null,
   "metadata": {},
   "outputs": [],
   "source": []
  },
  {
   "cell_type": "code",
   "execution_count": null,
   "metadata": {},
   "outputs": [],
   "source": [
    "this = ps.brier_score(truth_clear.values.ravel(), ow_15_wp3_clear.values.ravel()).mean()\n",
    "print(this)"
   ]
  },
  {
   "cell_type": "code",
   "execution_count": null,
   "metadata": {},
   "outputs": [],
   "source": [
    "this = ps.brier_score(truth_clear.values.ravel(), ow_15_clear.values.ravel()).mean()\n",
    "print(this)"
   ]
  },
  {
   "cell_type": "code",
   "execution_count": null,
   "metadata": {},
   "outputs": [],
   "source": [
    "this = ps.brier_score(truth_clear.values.ravel(), persistence_dist_clear.values.ravel()).mean()\n",
    "print(this)"
   ]
  },
  {
   "cell_type": "code",
   "execution_count": null,
   "metadata": {},
   "outputs": [],
   "source": [
    "this = ps.brier_score(truth_clear.values.ravel(), persistence_clear.values.ravel()).mean()\n",
    "print(this)"
   ]
  },
  {
   "cell_type": "code",
   "execution_count": null,
   "metadata": {},
   "outputs": [],
   "source": [
    "fraction_of_positives, mean_predicted_value = \\\n",
    "        calibration.calibration_curve(\n",
    "            truth_clear.values.ravel(),\n",
    "            ow_15_wp3_clear.values.ravel(), n_bins=num_of_bins)"
   ]
  },
  {
   "cell_type": "code",
   "execution_count": null,
   "metadata": {},
   "outputs": [],
   "source": [
    "mean_predicted_value"
   ]
  },
  {
   "cell_type": "code",
   "execution_count": null,
   "metadata": {},
   "outputs": [],
   "source": [
    "# (ow_15_thick, 'WRF + Opt. flow'),\n",
    "#                        (ow_15_wp3_thick, 'W / perturbed winds')"
   ]
  },
  {
   "cell_type": "code",
   "execution_count": null,
   "metadata": {},
   "outputs": [],
   "source": [
    "%matplotlib inline"
   ]
  },
  {
   "cell_type": "code",
   "execution_count": null,
   "metadata": {
    "scrolled": true
   },
   "outputs": [],
   "source": [
    "num_of_bins = 10\n",
    "figsize = plt.figaspect(1.38)\n",
    "fig = plt.figure(figsize=figsize, dpi=dpi)\n",
    "ax1 = plt.subplot2grid((3, 1), (0, 0), rowspan=2)\n",
    "ax2 = plt.subplot2grid((3, 1), (2, 0))\n",
    "\n",
    "ax1.plot([0, 1], [0, 1], \"k:\", label=\"Perfectly calibrated\")\n",
    "ax2.hist(truth_clear.values.ravel(), color='k', linestyle=':', range=(0, 1), bins=num_of_bins, label=\"Perfectly calibrated\",\n",
    "         histtype=\"step\", lw=2)\n",
    "for forecast, name in [(ow_15_clear, 'WRF + Opt. flow'),\n",
    "                       (ow_15_wp3_clear, 'With perturbed winds')]:#,\n",
    "#                        (persistence_dist_clear, 'persistence_dist')]:\n",
    "    \n",
    "    fraction_of_positives, mean_predicted_value = \\\n",
    "        calibration.calibration_curve(\n",
    "            truth_clear.values.ravel(),\n",
    "            forecast.values.ravel(), n_bins=num_of_bins)\n",
    "\n",
    "    ax1.plot(mean_predicted_value, fraction_of_positives, \"s-\",\n",
    "             label=f'{name}')\n",
    "    ax2.hist(forecast.values.ravel(), range=(0, 1), bins=num_of_bins, label=name,\n",
    "             histtype=\"step\", lw=2, linestyle='--')\n",
    "\n",
    "\n",
    "ax1.set_ylabel(\"P(o|y)\")\n",
    "ax1.set_ylim([-0.05, 1.05])\n",
    "ax1.legend(loc=\"lower right\")\n",
    "ax1.set_title('Reliability curve for clearsky forecast')\n",
    "\n",
    "ax2.set_xlabel(\"P(y)\")\n",
    "ax2.set_ylabel(\"Count\")\n",
    "ax2.legend(loc=\"upper center\", ncol=1)\n",
    "\n",
    "plt.tight_layout()"
   ]
  },
  {
   "cell_type": "code",
   "execution_count": null,
   "metadata": {},
   "outputs": [],
   "source": []
  },
  {
   "cell_type": "markdown",
   "metadata": {},
   "source": [
    "# Thin cloud"
   ]
  },
  {
   "cell_type": "code",
   "execution_count": null,
   "metadata": {
    "scrolled": true
   },
   "outputs": [],
   "source": [
    "truth_thin = np.logical_and(truth.sel(time=error_times)<thin_ub,\n",
    "                            truth.sel(time=error_times)>clear_ub).astype('float')"
   ]
  },
  {
   "cell_type": "code",
   "execution_count": null,
   "metadata": {},
   "outputs": [],
   "source": [
    "persistence_thin = np.logical_and(persistence.sel(time=error_times)<thin_ub,\n",
    "                                  persistence.sel(time=error_times)>clear_ub).astype('float')"
   ]
  },
  {
   "cell_type": "code",
   "execution_count": null,
   "metadata": {},
   "outputs": [],
   "source": [
    "persistence_dist_thin = persistence_thin.copy()"
   ]
  },
  {
   "cell_type": "code",
   "execution_count": null,
   "metadata": {},
   "outputs": [],
   "source": [
    "for ii in range(error_times.size):\n",
    "    persistence_dist_thin[ii] = persistence_dist_thin[ii].mean(dim=['west_east', 'south_north']).item()"
   ]
  },
  {
   "cell_type": "code",
   "execution_count": null,
   "metadata": {},
   "outputs": [],
   "source": [
    "ow_15_thin = np.logical_and(ow_15_30.sel(time=error_times)<thin_ub,\n",
    "                            ow_15_30.sel(time=error_times)>clear_ub).astype('int')\n",
    "ow_15_thin = ow_15_thin.mean(dim='ensemble_number')"
   ]
  },
  {
   "cell_type": "code",
   "execution_count": null,
   "metadata": {
    "scrolled": true
   },
   "outputs": [],
   "source": [
    "ow_15_wp3_thin = np.logical_and(ow_15_wp3_30.sel(time=error_times)<thin_ub,\n",
    "                                ow_15_wp3_30.sel(time=error_times)>clear_ub).astype('int')\n",
    "ow_15_wp3_thin = ow_15_wp3_thin.mean(dim='ensemble_number')"
   ]
  },
  {
   "cell_type": "code",
   "execution_count": null,
   "metadata": {},
   "outputs": [],
   "source": [
    "this = ps.brier_score(truth_thin.values.ravel(), ow_15_wp3_thin.values.ravel()).mean()\n",
    "print('wp3: ', this)"
   ]
  },
  {
   "cell_type": "code",
   "execution_count": null,
   "metadata": {},
   "outputs": [],
   "source": [
    "this = ps.brier_score(truth_thin.values.ravel(), ow_15_thin.values.ravel()).mean()\n",
    "print('ow_15: ', this)"
   ]
  },
  {
   "cell_type": "code",
   "execution_count": null,
   "metadata": {},
   "outputs": [],
   "source": [
    "this = ps.brier_score(truth_thin.values.ravel(), persistence_dist_thin.values.ravel()).mean()\n",
    "print(this)"
   ]
  },
  {
   "cell_type": "code",
   "execution_count": null,
   "metadata": {
    "scrolled": true
   },
   "outputs": [],
   "source": [
    "this = ps.brier_score(truth_thin.values.ravel(), persistence_thin.values.ravel()).mean()\n",
    "print(this)"
   ]
  },
  {
   "cell_type": "code",
   "execution_count": null,
   "metadata": {},
   "outputs": [],
   "source": [
    "%matplotlib inline"
   ]
  },
  {
   "cell_type": "code",
   "execution_count": null,
   "metadata": {},
   "outputs": [],
   "source": [
    "plt.close('all')"
   ]
  },
  {
   "cell_type": "code",
   "execution_count": null,
   "metadata": {},
   "outputs": [],
   "source": [
    "# (ow_15_thick, 'WRF + Opt. flow'),\n",
    "#                        (ow_15_wp3_thick, 'W / perturbed winds')"
   ]
  },
  {
   "cell_type": "code",
   "execution_count": null,
   "metadata": {
    "scrolled": false
   },
   "outputs": [],
   "source": [
    "num_of_bins = 10\n",
    "figsize = plt.figaspect(1.38)\n",
    "fig = plt.figure(figsize=figsize, dpi=dpi)\n",
    "ax1 = plt.subplot2grid((3, 1), (0, 0), rowspan=2)\n",
    "ax2 = plt.subplot2grid((3, 1), (2, 0))\n",
    "\n",
    "ax1.plot([0, 1], [0, 1], \"k:\", label=\"Perfectly calibrated\")\n",
    "ax2.hist(truth_thick.values.ravel(), color='k', linestyle=':', range=(0, 1), bins=num_of_bins, label=\"Perfectly calibrated\",\n",
    "         histtype=\"step\", lw=2)\n",
    "for forecast, name in [(ow_15_thin, 'WRF + Opt. flow'),\n",
    "                       (ow_15_wp3_thin, 'With perturbed winds')]:#,\n",
    "#                        (persistence_dist_thin, 'persistence_dist')]:\n",
    "    \n",
    "    fraction_of_positives, mean_predicted_value = \\\n",
    "        calibration.calibration_curve(\n",
    "            truth_thin.values.ravel(),\n",
    "            forecast.values.ravel(), n_bins=num_of_bins)\n",
    "\n",
    "    ax1.plot(mean_predicted_value, fraction_of_positives, \"s-\",\n",
    "             label=f'{name}')\n",
    "    ax1.axis('equal')\n",
    "    ax2.hist(forecast.values.ravel(), range=(0, 1), bins=num_of_bins, label=name,\n",
    "             histtype=\"step\", lw=2, linestyle='--')\n",
    "\n",
    "\n",
    "ax1.set_ylabel(\"P(o|y)\")\n",
    "ax1.set_ylim([-0.05, 1.05])\n",
    "ax1.legend(loc=\"lower right\")\n",
    "ax1.set_title('Reliability curve for thin cloud forecast')\n",
    "\n",
    "ax2.set_xlabel(\"P(y)\")\n",
    "ax2.set_ylabel(\"Count\")\n",
    "ax2.legend(loc=\"upper center\", ncol=1)\n",
    "\n",
    "plt.tight_layout()"
   ]
  },
  {
   "cell_type": "code",
   "execution_count": null,
   "metadata": {},
   "outputs": [],
   "source": [
    "plt.close('all')"
   ]
  }
 ],
 "metadata": {
  "kernelspec": {
   "display_name": "Python 3",
   "language": "python",
   "name": "python3"
  },
  "language_info": {
   "codemirror_mode": {
    "name": "ipython",
    "version": 3
   },
   "file_extension": ".py",
   "mimetype": "text/x-python",
   "name": "python",
   "nbconvert_exporter": "python",
   "pygments_lexer": "ipython3",
   "version": "3.6.2"
  }
 },
 "nbformat": 4,
 "nbformat_minor": 2
}
