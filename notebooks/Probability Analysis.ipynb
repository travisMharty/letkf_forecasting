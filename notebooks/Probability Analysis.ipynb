{
 "cells": [
  {
   "cell_type": "code",
   "execution_count": 1,
   "metadata": {},
   "outputs": [],
   "source": [
    "import xarray as xr\n",
    "import numpy as np\n",
    "import pandas as pd\n",
    "import properscoring as ps\n",
    "import matplotlib.pyplot as plt\n",
    "import datetime"
   ]
  },
  {
   "cell_type": "code",
   "execution_count": 2,
   "metadata": {},
   "outputs": [],
   "source": [
    "import letkf_forecasting.letkf_io as letkf_io\n",
    "import letkf_forecasting.tmh_plot as tmt_plot\n",
    "import letkf_forecasting.analyse_results as analyse_results\n",
    "import letkf_forecasting.prepare_sat_data as prepare_sat_data"
   ]
  },
  {
   "cell_type": "code",
   "execution_count": 83,
   "metadata": {},
   "outputs": [],
   "source": [
    "import sklearn.calibration as calibration"
   ]
  },
  {
   "cell_type": "code",
   "execution_count": 3,
   "metadata": {},
   "outputs": [],
   "source": [
    "%matplotlib inline"
   ]
  },
  {
   "cell_type": "code",
   "execution_count": 4,
   "metadata": {},
   "outputs": [],
   "source": [
    "sensor_loc = pd.read_hdf('/home/travis/python_code/letkf_forecasting_other_things/data/sensor_loc.h5')"
   ]
  },
  {
   "cell_type": "code",
   "execution_count": 5,
   "metadata": {},
   "outputs": [],
   "source": [
    "year = 2014\n",
    "month = 5\n",
    "day = 29\n",
    "base_folder = '/a2/uaren/travis/'"
   ]
  },
  {
   "cell_type": "code",
   "execution_count": 6,
   "metadata": {},
   "outputs": [],
   "source": [
    "truth = xr.open_dataset(f'{base_folder}data/{year:04}/{month:02}/{day:02}/data.nc')\n",
    "\n",
    "truth = truth['ci']\n",
    "truth = letkf_io.add_crop_attributes(truth)\n",
    "truth_full = truth.copy()\n",
    "truth = analyse_results.return_error_domain(truth)"
   ]
  },
  {
   "cell_type": "code",
   "execution_count": 7,
   "metadata": {},
   "outputs": [],
   "source": [
    "truth = truth.clip(min=0, max=1)"
   ]
  },
  {
   "cell_type": "code",
   "execution_count": 8,
   "metadata": {},
   "outputs": [],
   "source": [
    "ow_15 = letkf_io.return_day(year, month, day, 'ow_15', base_folder)\n",
    "ow_15 = letkf_io.add_crop_attributes(ow_15)\n",
    "ow_15 = letkf_io.add_crop_attributes(ow_15)\n",
    "\n",
    "ow_15 = ow_15.clip(min=0, max=1)\n",
    "ow_15_ed = analyse_results.return_error_domain(ow_15)\n",
    "ow_15_30 = analyse_results.return_horizon(ow_15_ed, 30)"
   ]
  },
  {
   "cell_type": "code",
   "execution_count": 9,
   "metadata": {},
   "outputs": [],
   "source": [
    "ow_15_wp3 = letkf_io.return_day(year, month, day, 'ow_15_wp3', base_folder)\n",
    "ow_15_wp3 = letkf_io.add_crop_attributes(ow_15_wp3)\n",
    "ow_15_wp3 = letkf_io.add_crop_attributes(ow_15_wp3)\n",
    "\n",
    "ow_15_wp3 = ow_15_wp3.clip(min=0, max=1)\n",
    "ow_15_wp3_ed = analyse_results.return_error_domain(ow_15_wp3)\n",
    "ow_15_wp3_30 = analyse_results.return_horizon(ow_15_wp3_ed, 30)"
   ]
  },
  {
   "cell_type": "code",
   "execution_count": 10,
   "metadata": {},
   "outputs": [],
   "source": [
    "persistence = truth.copy()\n",
    "persistence['time'] = persistence.time + pd.Timedelta('30min')"
   ]
  },
  {
   "cell_type": "code",
   "execution_count": 23,
   "metadata": {},
   "outputs": [],
   "source": [
    "climatology = pd.read_hdf('/home2/travis/data/satellite_data/cloudiness_index.h5')\n",
    "climatology = climatology.values.ravel()\n",
    "climatology = climatology[~np.isnan(climatology)]\n",
    "climatology = climatology.clip(min=0, max=1)"
   ]
  },
  {
   "cell_type": "code",
   "execution_count": 166,
   "metadata": {},
   "outputs": [],
   "source": [
    "climatology_day = truth.values.ravel()\n",
    "climatology_day = climatology_day[~np.isnan(climatology_day)]\n",
    "climatology_day = climatology_day.clip(min=0, max=1)"
   ]
  },
  {
   "cell_type": "markdown",
   "metadata": {},
   "source": [
    "# For \"oasis location\""
   ]
  },
  {
   "cell_type": "code",
   "execution_count": 11,
   "metadata": {},
   "outputs": [],
   "source": [
    "def round_25(x):\n",
    "    return np.round(x*4)/4"
   ]
  },
  {
   "cell_type": "code",
   "execution_count": 12,
   "metadata": {},
   "outputs": [],
   "source": [
    "x_oasis, y_oasis = prepare_sat_data.sphere_to_lcc(sensor_loc['lat'].loc[18], sensor_loc['lon'].loc[18])\n",
    "x_oasis = round_25(x_oasis)\n",
    "y_oasis = round_25(y_oasis)"
   ]
  },
  {
   "cell_type": "code",
   "execution_count": 13,
   "metadata": {},
   "outputs": [],
   "source": [
    "ow_15_oasis = ow_15_30['ci'].sel(south_north=y_oasis, west_east=x_oasis)\n",
    "ow_15_wp3_oasis = ow_15_wp3_30['ci'].sel(south_north=y_oasis, west_east=x_oasis)\n",
    "truth_oasis = truth.sel(south_north=y_oasis, west_east=x_oasis)"
   ]
  },
  {
   "cell_type": "code",
   "execution_count": 14,
   "metadata": {},
   "outputs": [],
   "source": [
    "error_times = np.intersect1d(truth_oasis.time.to_pandas(), ow_15_oasis.time.to_pandas())"
   ]
  },
  {
   "cell_type": "code",
   "execution_count": 15,
   "metadata": {},
   "outputs": [],
   "source": [
    "ow_15_oasis = ow_15_oasis.sel(time=error_times)\n",
    "ow_15_wp3_oasis = ow_15_wp3_oasis.sel(time=error_times)\n",
    "truth_oasis = truth_oasis.sel(time=error_times)"
   ]
  },
  {
   "cell_type": "code",
   "execution_count": 137,
   "metadata": {},
   "outputs": [],
   "source": [
    "persistence = persistence.sel(time=error_times)"
   ]
  },
  {
   "cell_type": "code",
   "execution_count": 138,
   "metadata": {},
   "outputs": [],
   "source": [
    "persis_array = persistence.values\n",
    "\n",
    "persis_shape = persis_array.shape\n",
    "\n",
    "persis_array = persis_array.reshape([persis_shape[0], persis_shape[1]*persis_shape[2]])"
   ]
  },
  {
   "cell_type": "code",
   "execution_count": 17,
   "metadata": {
    "scrolled": true
   },
   "outputs": [],
   "source": [
    "ow_15_oasis_mean = ow_15_oasis.mean(dim='ensemble_number')\n",
    "ow_15_oasis_std = ow_15_oasis.var(dim='ensemble_number')\n",
    "ow_15_wp3_oasis_mean = ow_15_wp3_oasis.mean(dim='ensemble_number')\n",
    "ow_15_wp3_oasis_std = ow_15_wp3_oasis.var(dim='ensemble_number')"
   ]
  },
  {
   "cell_type": "code",
   "execution_count": 32,
   "metadata": {},
   "outputs": [],
   "source": [
    "persistence_mean = persis_ens.mean(axis=-1)\n",
    "persistence_std = persis_ens.var(axis=-1)"
   ]
  },
  {
   "cell_type": "code",
   "execution_count": 143,
   "metadata": {},
   "outputs": [
    {
     "data": {
      "text/plain": [
       "(16, 20)"
      ]
     },
     "execution_count": 143,
     "metadata": {},
     "output_type": "execute_result"
    }
   ],
   "source": [
    "climatology."
   ]
  },
  {
   "cell_type": "code",
   "execution_count": 172,
   "metadata": {
    "scrolled": true
   },
   "outputs": [],
   "source": [
    "ens_members = 100\n",
    "clim_weights, bin_edges = np.histogram(climatology, bins=ens_members, range=(0, 1), normed=True)\n",
    "clim_ens = (bin_edges[:-1] + bin_edges[1:])/2\n",
    "clim_ens = np.repeat(clim_ens[None, :], error_times.size, axis=0)\n",
    "clim_weights = np.repeat(clim_weights[None, :], error_times.size, axis=0)"
   ]
  },
  {
   "cell_type": "code",
   "execution_count": 174,
   "metadata": {},
   "outputs": [],
   "source": [
    "ens_members = 100\n",
    "clim_day_weights, bin_edges = np.histogram(climatology_day, bins=ens_members, range=(0, 1), normed=True)\n",
    "clim_day_ens = (bin_edges[:-1] + bin_edges[1:])/2\n",
    "clim_day_ens = np.repeat(clim_day_ens[None, :], error_times.size, axis=0)\n",
    "clim_day_weights = np.repeat(clim_day_weights[None, :], error_times.size, axis=0)"
   ]
  },
  {
   "cell_type": "code",
   "execution_count": 150,
   "metadata": {},
   "outputs": [],
   "source": [
    "ens_members = 100\n",
    "persis_weights = np.ones([error_times.size, ens_members])\n",
    "for ii in range(error_times.size):#range(persis_ens.shape[0]):\n",
    "    persis_weights[ii], bin_edges = np.histogram(persis_array[ii], bins=ens_members, range=(0, 1), normed=True)\n",
    "persis_ens = (bin_edges[:-1] + bin_edges[1:])/2\n",
    "persis_ens = np.repeat(persis_ens[None, :], error_times.size, axis=0)"
   ]
  },
  {
   "cell_type": "code",
   "execution_count": 125,
   "metadata": {},
   "outputs": [],
   "source": [
    "# bins = 50\n",
    "# persis_cdf = np.ones([persis_ens.shape[0], bins])\n",
    "# for ii in range(persis_ens.shape[0]):#range(persis_ens.shape[0]):\n",
    "#     persis_cdf[ii], bin_edges = np.histogram(persis_ens[ii], bins=bins, range=(0, 1), normed=True)\n",
    "#     persis_cdf[ii] = np.cumsum(persis_cdf[ii])*(bin_edges[1] - bin_edges[0])\n",
    "# persis_cdf = persis_cdf.clip(min=0, max=1)"
   ]
  },
  {
   "cell_type": "code",
   "execution_count": 208,
   "metadata": {
    "scrolled": true
   },
   "outputs": [
    {
     "data": {
      "text/plain": [
       "array([ 0.92045383,  0.90401888,  0.93009666,  0.79881374,  0.66233177,\n",
       "        0.72894962,  0.88367382,  1.        ,  0.95060286,  0.94372847,\n",
       "        0.82970527,  0.93696874,  0.96495314,  0.67885022,  0.15079273,\n",
       "        0.10271777])"
      ]
     },
     "execution_count": 208,
     "metadata": {},
     "output_type": "execute_result"
    }
   ],
   "source": [
    "persistence.sel(west_east=x_oasis, south_north=y_oasis).values"
   ]
  },
  {
   "cell_type": "code",
   "execution_count": 209,
   "metadata": {},
   "outputs": [],
   "source": [
    "persis_crps = ps.crps_ensemble(truth_oasis.values, persistence.sel(west_east=x_oasis, south_north=y_oasis).values)"
   ]
  },
  {
   "cell_type": "code",
   "execution_count": 211,
   "metadata": {},
   "outputs": [
    {
     "data": {
      "text/plain": [
       "0.13848048670052276"
      ]
     },
     "execution_count": 211,
     "metadata": {},
     "output_type": "execute_result"
    }
   ],
   "source": [
    "persis_crps.mean()"
   ]
  },
  {
   "cell_type": "code",
   "execution_count": 154,
   "metadata": {},
   "outputs": [],
   "source": [
    "persis_crps_ens = ps.crps_ensemble(truth_oasis.values, persis_ens, weights=persis_weights)"
   ]
  },
  {
   "cell_type": "code",
   "execution_count": 177,
   "metadata": {},
   "outputs": [],
   "source": [
    "clim_crps_ens = ps.crps_ensemble(truth_oasis.values, clim_ens, weights=clim_weights)\n",
    "clim_day_crps_ens = ps.crps_ensemble(truth_oasis.values, clim_day_ens, weights=clim_day_weights)"
   ]
  },
  {
   "cell_type": "code",
   "execution_count": 23,
   "metadata": {},
   "outputs": [],
   "source": [
    "ow_15_crps_ens = ps.crps_ensemble(truth_oasis.values, ow_15_oasis.values)\n",
    "ow_15_wp3_crps_ens = ps.crps_ensemble(truth_oasis.values, ow_15_wp3_oasis.values)"
   ]
  },
  {
   "cell_type": "code",
   "execution_count": 155,
   "metadata": {
    "scrolled": true
   },
   "outputs": [
    {
     "name": "stdout",
     "output_type": "stream",
     "text": [
      "ow_15 ens crps:  0.0723067103995\n",
      "ow_15_wp3 ens crps:  0.0698236420234\n"
     ]
    }
   ],
   "source": [
    "print('ow_15 ens crps: ', ow_15_crps_ens.mean())\n",
    "print('ow_15_wp3 ens crps: ', ow_15_wp3_crps_ens.mean())"
   ]
  },
  {
   "cell_type": "code",
   "execution_count": 178,
   "metadata": {},
   "outputs": [
    {
     "name": "stdout",
     "output_type": "stream",
     "text": [
      "persistence ens crps:  0.089759460887\n",
      "Climatology ens crps:  0.601188219425\n",
      "Climatology day ens crps:  0.167672497919\n"
     ]
    }
   ],
   "source": [
    "print('persistence ens crps: ', persis_crps_ens.mean())\n",
    "print('Climatology ens crps: ', clim_crps_ens.mean())\n",
    "print('Climatology day ens crps: ', clim_day_crps_ens.mean())"
   ]
  },
  {
   "cell_type": "code",
   "execution_count": 179,
   "metadata": {},
   "outputs": [
    {
     "name": "stdout",
     "output_type": "stream",
     "text": [
      "ow_15 SS_RPS persis:  0.194439118897\n",
      "ow_15_wp3 SS_RPS persis:  0.222102702786\n"
     ]
    }
   ],
   "source": [
    "print('ow_15 SS_RPS persis: ', 1 - ow_15_crps_ens.mean()/persis_crps_ens.mean())\n",
    "print('ow_15_wp3 SS_RPS persis: ', 1 - ow_15_wp3_crps_ens.mean()/persis_crps_ens.mean())"
   ]
  },
  {
   "cell_type": "code",
   "execution_count": 180,
   "metadata": {},
   "outputs": [
    {
     "name": "stdout",
     "output_type": "stream",
     "text": [
      "ow_15 SS_RPS clim day:  0.568762252029\n",
      "ow_15_wp3 SS_RPS clim day:  0.583571289926\n",
      "persis SS_RPS clim day:  0.464673920883\n"
     ]
    }
   ],
   "source": [
    "print('ow_15 SS_RPS clim day: ', 1 - ow_15_crps_ens.mean()/clim_day_crps_ens.mean())\n",
    "print('ow_15_wp3 SS_RPS clim day: ', 1 - ow_15_wp3_crps_ens.mean()/clim_day_crps_ens.mean())\n",
    "print('persis SS_RPS clim day: ', 1 - persis_crps_ens.mean()/clim_day_crps_ens.mean())"
   ]
  },
  {
   "cell_type": "code",
   "execution_count": 181,
   "metadata": {},
   "outputs": [
    {
     "name": "stdout",
     "output_type": "stream",
     "text": [
      "ow_15 SS_RPS clim:  0.879727000525\n",
      "ow_15_wp3 SS_RPS clim:  0.883857268377\n",
      "persis SS_RPS clim:  0.850696573907\n"
     ]
    }
   ],
   "source": [
    "print('ow_15 SS_RPS clim: ', 1 - ow_15_crps_ens.mean()/clim_crps_ens.mean())\n",
    "print('ow_15_wp3 SS_RPS clim: ', 1 - ow_15_wp3_crps_ens.mean()/clim_crps_ens.mean())\n",
    "print('persis SS_RPS clim: ', 1 - persis_crps_ens.mean()/clim_crps_ens.mean())"
   ]
  },
  {
   "cell_type": "code",
   "execution_count": null,
   "metadata": {},
   "outputs": [],
   "source": []
  },
  {
   "cell_type": "code",
   "execution_count": null,
   "metadata": {},
   "outputs": [],
   "source": [
    "ow_15_crps_gauss = ps.crps_gaussian(truth_oasis.values, ow_15_oasis_mean, ow_15_oasis_std)\n",
    "ow_15_wp3_crps_gauss = ps.crps_gaussian(truth_oasis.values, ow_15_wp3_oasis_mean, ow_15_wp3_oasis_std)"
   ]
  },
  {
   "cell_type": "code",
   "execution_count": null,
   "metadata": {},
   "outputs": [],
   "source": [
    "persis_crps_gauss = ps.crps_gaussian(truth_oasis.values, persistence_mean, persistence_std)"
   ]
  },
  {
   "cell_type": "code",
   "execution_count": null,
   "metadata": {},
   "outputs": [],
   "source": [
    "print('ow_15 gauss crps: ', ow_15_crps_gauss.mean())\n",
    "print('ow_15_wp3 gauss crps: ', ow_15_wp3_crps_gauss.mean())"
   ]
  },
  {
   "cell_type": "code",
   "execution_count": null,
   "metadata": {},
   "outputs": [],
   "source": [
    "print('persistence gauss crps: ', persis_crps_gauss.mean())"
   ]
  },
  {
   "cell_type": "markdown",
   "metadata": {},
   "source": [
    "# For error domain many dates"
   ]
  },
  {
   "cell_type": "code",
   "execution_count": 444,
   "metadata": {},
   "outputs": [],
   "source": [
    "month_day = [[5, 29], [6, 11], [6, 12]]\n",
    "dates = []\n",
    "for ii in range(len(month_day)):\n",
    "    dates.append(datetime.date(2014, month_day[ii][0], month_day[ii][1]))\n",
    "base_folder = '/a2/uaren/travis'"
   ]
  },
  {
   "cell_type": "code",
   "execution_count": 448,
   "metadata": {},
   "outputs": [],
   "source": [
    "dates_truth = letkf_io.return_many_truths(dates, base_folder)\n",
    "dates_truth = dates_truth['ci']\n",
    "dates_truth = letkf_io.add_crop_attributes(dates_truth)\n",
    "dates_truth = analyse_results.return_error_domain(dates_truth)"
   ]
  },
  {
   "cell_type": "code",
   "execution_count": 446,
   "metadata": {},
   "outputs": [],
   "source": [
    "dates_15 = letkf_io.return_many_days(dates, 'ow_15', base_folder)\n",
    "dates_15 = dates_15['ci']\n",
    "dates_15 = letkf_io.add_crop_attributes(dates_15)\n",
    "dates_15 = analyse_results.return_error_domain(dates_15)\n",
    "dates_15 = analyse_results.return_horizon(dates_15, 30)"
   ]
  },
  {
   "cell_type": "code",
   "execution_count": 458,
   "metadata": {},
   "outputs": [],
   "source": [
    "dates_wp = letkf_io.return_many_days(dates, 'ow_15_wp3', base_folder)\n",
    "dates_wp = dates_wp['ci']\n",
    "dates_wp = letkf_io.add_crop_attributes(dates_wp)\n",
    "dates_wp = analyse_results.return_error_domain(dates_wp)\n",
    "dates_wp = analyse_results.return_horizon(dates_wp, 30)"
   ]
  },
  {
   "cell_type": "code",
   "execution_count": 453,
   "metadata": {},
   "outputs": [],
   "source": [
    "dates_error_times = np.intersect1d(dates_truth.time.to_pandas(), \n",
    "                                   dates_15.time.to_pandas())"
   ]
  },
  {
   "cell_type": "code",
   "execution_count": 457,
   "metadata": {},
   "outputs": [
    {
     "name": "stderr",
     "output_type": "stream",
     "text": [
      "/home/travis/miniconda3/envs/py36letkf/lib/python3.6/site-packages/dask/core.py:306: FutureWarning: elementwise comparison failed; returning scalar instead, but in the future will perform elementwise comparison\n",
      "  elif type_arg is type(key) and arg == key:\n"
     ]
    }
   ],
   "source": [
    "crps_15_30 = ps.crps_ensemble(dates_truth.sel(time=dates_error_times).values,\n",
    "                              dates_15.sel(time=dates_error_times).values.transpose([0, 2, 3, 1]))"
   ]
  },
  {
   "cell_type": "code",
   "execution_count": 459,
   "metadata": {},
   "outputs": [
    {
     "name": "stderr",
     "output_type": "stream",
     "text": [
      "/home/travis/miniconda3/envs/py36letkf/lib/python3.6/site-packages/dask/core.py:306: FutureWarning: elementwise comparison failed; returning scalar instead, but in the future will perform elementwise comparison\n",
      "  elif type_arg is type(key) and arg == key:\n"
     ]
    }
   ],
   "source": [
    "crps_wp_30 = ps.crps_ensemble(dates_truth.sel(time=dates_error_times).values,\n",
    "                              dates_wp.sel(time=dates_error_times).values.transpose([0, 2, 3, 1]))"
   ]
  },
  {
   "cell_type": "code",
   "execution_count": 461,
   "metadata": {},
   "outputs": [
    {
     "name": "stdout",
     "output_type": "stream",
     "text": [
      "0.105026868319\n"
     ]
    }
   ],
   "source": [
    "print(crps_15_30.mean())"
   ]
  },
  {
   "cell_type": "code",
   "execution_count": 462,
   "metadata": {},
   "outputs": [
    {
     "name": "stdout",
     "output_type": "stream",
     "text": [
      "0.0931038704697\n"
     ]
    }
   ],
   "source": [
    "print(crps_wp_30.mean())"
   ]
  },
  {
   "cell_type": "markdown",
   "metadata": {},
   "source": [
    "# For \"oasis location\" many Dates"
   ]
  },
  {
   "cell_type": "code",
   "execution_count": 5,
   "metadata": {},
   "outputs": [],
   "source": [
    "month_day = [[4, 9], [4, 15], [4, 18], [5, 6], [5, 9], [5, 29], [6, 11], [6, 12]]\n",
    "dates = []\n",
    "for ii in range(len(month_day)):\n",
    "    dates.append(datetime.date(2014, month_day[ii][0], month_day[ii][1]))\n",
    "base_folder = '/a2/uaren/travis'"
   ]
  },
  {
   "cell_type": "code",
   "execution_count": 6,
   "metadata": {},
   "outputs": [],
   "source": [
    "def round_25(x):\n",
    "    return np.round(x*4)/4"
   ]
  },
  {
   "cell_type": "code",
   "execution_count": 7,
   "metadata": {},
   "outputs": [],
   "source": [
    "x_oasis, y_oasis = prepare_sat_data.sphere_to_lcc(sensor_loc['lat'].loc[18], sensor_loc['lon'].loc[18])\n",
    "x_oasis = round_25(x_oasis)\n",
    "y_oasis = round_25(y_oasis)"
   ]
  },
  {
   "cell_type": "code",
   "execution_count": 9,
   "metadata": {},
   "outputs": [],
   "source": [
    "dates_truth = letkf_io.return_many_truths(dates, base_folder)\n",
    "dates_truth = dates_truth['ci']\n",
    "dates_truth = letkf_io.add_crop_attributes(dates_truth)\n",
    "dates_truth = analyse_results.return_error_domain(dates_truth)"
   ]
  },
  {
   "cell_type": "code",
   "execution_count": 10,
   "metadata": {},
   "outputs": [],
   "source": [
    "dates_15 = letkf_io.return_many_days(dates, 'ow_15', base_folder)\n",
    "dates_15 = dates_15['ci'].sel(south_north=y_oasis, west_east=x_oasis)\n",
    "# dates_15 = letkf_io.add_crop_attributes(dates_15)\n",
    "# dates_15 = analyse_results.return_error_domain(dates_15)\n",
    "dates_15 = analyse_results.return_horizon(dates_15, 30)"
   ]
  },
  {
   "cell_type": "code",
   "execution_count": 11,
   "metadata": {},
   "outputs": [],
   "source": [
    "dates_wp = letkf_io.return_many_days(dates, 'ow_15_wp3', base_folder)\n",
    "dates_wp = dates_wp['ci'].sel(south_north=y_oasis, west_east=x_oasis)\n",
    "# dates_wp = letkf_io.add_crop_attributes(dates_wp)\n",
    "# dates_wp = analyse_results.return_error_domain(dates_wp)\n",
    "dates_wp = analyse_results.return_horizon(dates_wp, 30)"
   ]
  },
  {
   "cell_type": "code",
   "execution_count": 12,
   "metadata": {},
   "outputs": [],
   "source": [
    "# ow_15_oasis = dates_15.sel(south_north=y_oasis, west_east=x_oasis)\n",
    "# ow_15_wp3_oasis = dates_wp.sel(south_north=y_oasis, west_east=x_oasis)\n",
    "ow_15_oasis = dates_15.copy()\n",
    "ow_15_wp3_oasis = dates_wp.copy()\n",
    "truth_oasis = dates_truth.sel(south_north=y_oasis, west_east=x_oasis)"
   ]
  },
  {
   "cell_type": "code",
   "execution_count": 13,
   "metadata": {},
   "outputs": [],
   "source": [
    "error_times = np.intersect1d(truth_oasis.time.to_pandas(), ow_15_oasis.time.to_pandas())"
   ]
  },
  {
   "cell_type": "code",
   "execution_count": 14,
   "metadata": {},
   "outputs": [],
   "source": [
    "ow_15_oasis = ow_15_oasis.sel(time=error_times)\n",
    "ow_15_wp3_oasis = ow_15_wp3_oasis.sel(time=error_times)\n",
    "truth_oasis = truth_oasis.sel(time=error_times)"
   ]
  },
  {
   "cell_type": "code",
   "execution_count": 15,
   "metadata": {},
   "outputs": [],
   "source": [
    "persistence = dates_truth.copy()\n",
    "persistence['time'] = persistence.time + pd.Timedelta('30min')"
   ]
  },
  {
   "cell_type": "code",
   "execution_count": 16,
   "metadata": {
    "scrolled": true
   },
   "outputs": [],
   "source": [
    "persistence = persistence.sel(time=error_times)"
   ]
  },
  {
   "cell_type": "code",
   "execution_count": 24,
   "metadata": {},
   "outputs": [
    {
     "name": "stderr",
     "output_type": "stream",
     "text": [
      "/home/travis/miniconda3/envs/py36letkf/lib/python3.6/site-packages/dask/core.py:306: FutureWarning: elementwise comparison failed; returning scalar instead, but in the future will perform elementwise comparison\n",
      "  elif type_arg is type(key) and arg == key:\n"
     ]
    }
   ],
   "source": [
    "persis_array = persistence.values"
   ]
  },
  {
   "cell_type": "code",
   "execution_count": 25,
   "metadata": {},
   "outputs": [],
   "source": [
    "persis_shape = persis_array.shape"
   ]
  },
  {
   "cell_type": "code",
   "execution_count": 26,
   "metadata": {},
   "outputs": [],
   "source": [
    "persis_array = persis_array.reshape([persis_shape[0], persis_shape[1]*persis_shape[2]])"
   ]
  },
  {
   "cell_type": "code",
   "execution_count": 27,
   "metadata": {},
   "outputs": [],
   "source": [
    "climatology_dates = dates_truth.values.ravel()\n",
    "climatology_dates = climatology_dates[~np.isnan(climatology_dates)]\n",
    "climatology_dates = climatology_dates.clip(min=0, max=1)"
   ]
  },
  {
   "cell_type": "code",
   "execution_count": 28,
   "metadata": {
    "scrolled": true
   },
   "outputs": [],
   "source": [
    "ens_members = 100\n",
    "clim_weights, bin_edges = np.histogram(climatology, bins=ens_members, range=(0, 1), normed=True)\n",
    "clim_ens = (bin_edges[:-1] + bin_edges[1:])/2\n",
    "clim_ens = np.repeat(clim_ens[None, :], error_times.size, axis=0)\n",
    "clim_weights = np.repeat(clim_weights[None, :], error_times.size, axis=0)"
   ]
  },
  {
   "cell_type": "code",
   "execution_count": 29,
   "metadata": {},
   "outputs": [],
   "source": [
    "ens_members = 100\n",
    "clim_day_weights, bin_edges = np.histogram(climatology_dates, bins=ens_members, range=(0, 1), normed=True)\n",
    "clim_day_ens = (bin_edges[:-1] + bin_edges[1:])/2\n",
    "clim_day_ens = np.repeat(clim_day_ens[None, :], error_times.size, axis=0)\n",
    "clim_day_weights = np.repeat(clim_day_weights[None, :], error_times.size, axis=0)"
   ]
  },
  {
   "cell_type": "code",
   "execution_count": 30,
   "metadata": {},
   "outputs": [],
   "source": [
    "ens_members = 100\n",
    "persis_weights = np.ones([error_times.size, ens_members])\n",
    "for ii in range(error_times.size):#range(persis_ens.shape[0]):\n",
    "    persis_weights[ii], bin_edges = np.histogram(persis_array[ii], bins=ens_members, range=(0, 1), normed=True)\n",
    "persis_ens = (bin_edges[:-1] + bin_edges[1:])/2\n",
    "persis_ens = np.repeat(persis_ens[None, :], error_times.size, axis=0)"
   ]
  },
  {
   "cell_type": "code",
   "execution_count": null,
   "metadata": {},
   "outputs": [],
   "source": [
    "# bins = 50\n",
    "# persis_cdf = np.ones([persis_ens.shape[0], bins])\n",
    "# for ii in range(persis_ens.shape[0]):#range(persis_ens.shape[0]):\n",
    "#     persis_cdf[ii], bin_edges = np.histogram(persis_ens[ii], bins=bins, range=(0, 1), normed=True)\n",
    "#     persis_cdf[ii] = np.cumsum(persis_cdf[ii])*(bin_edges[1] - bin_edges[0])\n",
    "# persis_cdf = persis_cdf.clip(min=0, max=1)"
   ]
  },
  {
   "cell_type": "code",
   "execution_count": 31,
   "metadata": {},
   "outputs": [
    {
     "name": "stderr",
     "output_type": "stream",
     "text": [
      "/home/travis/miniconda3/envs/py36letkf/lib/python3.6/site-packages/dask/core.py:306: FutureWarning: elementwise comparison failed; returning scalar instead, but in the future will perform elementwise comparison\n",
      "  elif type_arg is type(key) and arg == key:\n"
     ]
    }
   ],
   "source": [
    "persis_crps = ps.crps_ensemble(truth_oasis.values, persistence.sel(west_east=x_oasis, south_north=y_oasis).values)"
   ]
  },
  {
   "cell_type": "code",
   "execution_count": 32,
   "metadata": {},
   "outputs": [
    {
     "data": {
      "text/plain": [
       "0.1009778883283011"
      ]
     },
     "execution_count": 32,
     "metadata": {},
     "output_type": "execute_result"
    }
   ],
   "source": [
    "persis_crps.mean()"
   ]
  },
  {
   "cell_type": "code",
   "execution_count": 33,
   "metadata": {},
   "outputs": [
    {
     "name": "stderr",
     "output_type": "stream",
     "text": [
      "/home/travis/miniconda3/envs/py36letkf/lib/python3.6/site-packages/dask/core.py:306: FutureWarning: elementwise comparison failed; returning scalar instead, but in the future will perform elementwise comparison\n",
      "  elif type_arg is type(key) and arg == key:\n"
     ]
    }
   ],
   "source": [
    "persis_crps_ens = ps.crps_ensemble(truth_oasis.values, persis_ens, weights=persis_weights)"
   ]
  },
  {
   "cell_type": "code",
   "execution_count": 34,
   "metadata": {},
   "outputs": [
    {
     "name": "stderr",
     "output_type": "stream",
     "text": [
      "/home/travis/miniconda3/envs/py36letkf/lib/python3.6/site-packages/dask/core.py:306: FutureWarning: elementwise comparison failed; returning scalar instead, but in the future will perform elementwise comparison\n",
      "  elif type_arg is type(key) and arg == key:\n"
     ]
    }
   ],
   "source": [
    "clim_crps_ens = ps.crps_ensemble(truth_oasis.values, clim_ens, weights=clim_weights)\n",
    "clim_day_crps_ens = ps.crps_ensemble(truth_oasis.values, clim_day_ens, weights=clim_day_weights)"
   ]
  },
  {
   "cell_type": "code",
   "execution_count": 35,
   "metadata": {},
   "outputs": [
    {
     "name": "stderr",
     "output_type": "stream",
     "text": [
      "/home/travis/miniconda3/envs/py36letkf/lib/python3.6/site-packages/dask/core.py:306: FutureWarning: elementwise comparison failed; returning scalar instead, but in the future will perform elementwise comparison\n",
      "  elif type_arg is type(key) and arg == key:\n"
     ]
    }
   ],
   "source": [
    "ow_15_crps_ens = ps.crps_ensemble(truth_oasis.values, ow_15_oasis.values)\n",
    "ow_15_wp3_crps_ens = ps.crps_ensemble(truth_oasis.values, ow_15_wp3_oasis.values)"
   ]
  },
  {
   "cell_type": "code",
   "execution_count": 36,
   "metadata": {
    "scrolled": true
   },
   "outputs": [
    {
     "name": "stdout",
     "output_type": "stream",
     "text": [
      "ow_15 crps:  0.0581506044007\n",
      "ow_15_wp3 crps:  0.0599899912061\n"
     ]
    }
   ],
   "source": [
    "print('ow_15 crps: ', ow_15_crps_ens.mean())\n",
    "print('ow_15_wp3 crps: ', ow_15_wp3_crps_ens.mean())"
   ]
  },
  {
   "cell_type": "code",
   "execution_count": 37,
   "metadata": {},
   "outputs": [
    {
     "name": "stdout",
     "output_type": "stream",
     "text": [
      "Persistent dist crps:  0.0624119070422\n",
      "Climatology crps:  0.234126173564\n",
      "Climatology dates crps:  0.180587048336\n"
     ]
    }
   ],
   "source": [
    "print('Persistent dist crps: ', persis_crps_ens.mean())\n",
    "print('Climatology crps: ', clim_crps_ens.mean())\n",
    "print('Climatology dates crps: ', clim_day_crps_ens.mean())"
   ]
  },
  {
   "cell_type": "code",
   "execution_count": 38,
   "metadata": {},
   "outputs": [
    {
     "name": "stdout",
     "output_type": "stream",
     "text": [
      "ow_15 SS_RPS persis:  0.424125366817\n",
      "ow_15_wp3 SS_RPS persis:  0.405909628343\n"
     ]
    }
   ],
   "source": [
    "print('ow_15 SS_RPS persis: ', 1 - ow_15_crps_ens.mean()/persis_crps.mean())\n",
    "print('ow_15_wp3 SS_RPS persis: ', 1 - ow_15_wp3_crps_ens.mean()/persis_crps.mean())"
   ]
  },
  {
   "cell_type": "code",
   "execution_count": 39,
   "metadata": {},
   "outputs": [
    {
     "name": "stdout",
     "output_type": "stream",
     "text": [
      "ow_15 SS_RPS persis dist:  0.0682770779403\n",
      "ow_15_wp3 SS_RPS persis dist:  0.0388053490256\n"
     ]
    }
   ],
   "source": [
    "print('ow_15 SS_RPS persis dist: ', 1 - ow_15_crps_ens.mean()/persis_crps_ens.mean())\n",
    "print('ow_15_wp3 SS_RPS persis dist: ', 1 - ow_15_wp3_crps_ens.mean()/persis_crps_ens.mean())"
   ]
  },
  {
   "cell_type": "code",
   "execution_count": 40,
   "metadata": {},
   "outputs": [
    {
     "name": "stdout",
     "output_type": "stream",
     "text": [
      "ow_15 SS_RPS clim day:  0.67799127935\n",
      "ow_15_wp3 SS_RPS clim day:  0.667805682862\n",
      "persis SS_RPS clim day:  0.654394334382\n"
     ]
    }
   ],
   "source": [
    "print('ow_15 SS_RPS clim day: ', 1 - ow_15_crps_ens.mean()/clim_day_crps_ens.mean())\n",
    "print('ow_15_wp3 SS_RPS clim day: ', 1 - ow_15_wp3_crps_ens.mean()/clim_day_crps_ens.mean())\n",
    "print('persis SS_RPS clim day: ', 1 - persis_crps_ens.mean()/clim_day_crps_ens.mean())"
   ]
  },
  {
   "cell_type": "code",
   "execution_count": 41,
   "metadata": {},
   "outputs": [
    {
     "name": "stdout",
     "output_type": "stream",
     "text": [
      "ow_15 SS_RPS clim:  0.751627067083\n",
      "ow_15_wp3 SS_RPS clim:  0.743770675902\n",
      "persis SS_RPS clim:  0.733426186009\n"
     ]
    }
   ],
   "source": [
    "print('ow_15 SS_RPS clim: ', 1 - ow_15_crps_ens.mean()/clim_crps_ens.mean())\n",
    "print('ow_15_wp3 SS_RPS clim: ', 1 - ow_15_wp3_crps_ens.mean()/clim_crps_ens.mean())\n",
    "print('persis SS_RPS clim: ', 1 - persis_crps_ens.mean()/clim_crps_ens.mean())"
   ]
  },
  {
   "cell_type": "markdown",
   "metadata": {},
   "source": [
    "# Reliability diagram many dates oasis location"
   ]
  },
  {
   "cell_type": "code",
   "execution_count": null,
   "metadata": {},
   "outputs": [],
   "source": []
  },
  {
   "cell_type": "code",
   "execution_count": 17,
   "metadata": {},
   "outputs": [],
   "source": [
    "thin_ub = 0.4"
   ]
  },
  {
   "cell_type": "code",
   "execution_count": 18,
   "metadata": {
    "scrolled": true
   },
   "outputs": [],
   "source": [
    "truth_thick = (truth_oasis.sel(time=error_times)>thin_ub).astype('float')"
   ]
  },
  {
   "cell_type": "code",
   "execution_count": 19,
   "metadata": {},
   "outputs": [],
   "source": [
    "persistence_thick = (persistence.sel(time=error_times)>thin_ub).astype('float')"
   ]
  },
  {
   "cell_type": "code",
   "execution_count": 55,
   "metadata": {},
   "outputs": [],
   "source": [
    "persistence_thick = persistence_thick.sel(south_north=y_oasis, west_east=x_oasis)"
   ]
  },
  {
   "cell_type": "code",
   "execution_count": 64,
   "metadata": {},
   "outputs": [
    {
     "name": "stderr",
     "output_type": "stream",
     "text": [
      "/home/travis/miniconda3/envs/py36letkf/lib/python3.6/site-packages/dask/core.py:306: FutureWarning: elementwise comparison failed; returning scalar instead, but in the future will perform elementwise comparison\n",
      "  elif type_arg is type(key) and arg == key:\n"
     ]
    }
   ],
   "source": [
    "truth_thick = truth_thick.load()\n",
    "persistence_thick = persistence_thick.load()"
   ]
  },
  {
   "cell_type": "code",
   "execution_count": 75,
   "metadata": {
    "scrolled": true
   },
   "outputs": [],
   "source": [
    "persistence_dist_thick = (persistence.sel(time=error_times)>thin_ub).astype('float')\n",
    "persistence_dist_thick = persistence_dist_thick.mean(dim=['west_east', 'south_north'])"
   ]
  },
  {
   "cell_type": "code",
   "execution_count": 78,
   "metadata": {},
   "outputs": [
    {
     "name": "stderr",
     "output_type": "stream",
     "text": [
      "/home/travis/miniconda3/envs/py36letkf/lib/python3.6/site-packages/dask/core.py:306: FutureWarning: elementwise comparison failed; returning scalar instead, but in the future will perform elementwise comparison\n",
      "  elif type_arg is type(key) and arg == key:\n"
     ]
    }
   ],
   "source": [
    "persistence_dist_thick = persistence_dist_thick.load()"
   ]
  },
  {
   "cell_type": "code",
   "execution_count": null,
   "metadata": {},
   "outputs": [],
   "source": [
    "# ow_15_thick = (ow_15_30['ci'].sel(time=error_times)>thin_ub).astype('int')\n",
    "# ow_15_thick = ow_15_thick.mean(dim='ensemble_number')"
   ]
  },
  {
   "cell_type": "code",
   "execution_count": 57,
   "metadata": {},
   "outputs": [],
   "source": [
    "ow_15_thick = (ow_15_oasis.sel(time=error_times)>thin_ub).astype('int')\n",
    "ow_15_thick = ow_15_thick.mean(dim='ensemble_number')"
   ]
  },
  {
   "cell_type": "code",
   "execution_count": 58,
   "metadata": {
    "scrolled": true
   },
   "outputs": [],
   "source": [
    "ow_15_wp3_thick = (ow_15_wp3_oasis.sel(time=error_times)>thin_ub).astype('int')\n",
    "ow_15_wp3_thick = ow_15_wp3_thick.mean(dim='ensemble_number')"
   ]
  },
  {
   "cell_type": "code",
   "execution_count": 65,
   "metadata": {},
   "outputs": [],
   "source": [
    "ow_15_thick = ow_15_thick.load()\n",
    "ow_15_wp3_thick = ow_15_wp3_thick.load()"
   ]
  },
  {
   "cell_type": "code",
   "execution_count": null,
   "metadata": {},
   "outputs": [],
   "source": [
    "# ow_15_wp3_thick = (ow_15_wp3_30['ci'].sel(time=error_times)>thin_ub).astype('int')\n",
    "# ow_15_wp3_thick = ow_15_wp3_thick.mean(dim='ensemble_number')"
   ]
  },
  {
   "cell_type": "code",
   "execution_count": 67,
   "metadata": {},
   "outputs": [
    {
     "name": "stdout",
     "output_type": "stream",
     "text": [
      "wp brier score:  0.0384057971014\n"
     ]
    }
   ],
   "source": [
    "this = ps.brier_score(truth_thick.values.ravel(), ow_15_wp3_thick.values.ravel()).mean()\n",
    "print('wp brier score: ', this)"
   ]
  },
  {
   "cell_type": "code",
   "execution_count": 68,
   "metadata": {},
   "outputs": [
    {
     "name": "stdout",
     "output_type": "stream",
     "text": [
      "ow_15 brier score:  0.0401449275362\n"
     ]
    }
   ],
   "source": [
    "this = ps.brier_score(truth_thick.values.ravel(), ow_15_thick.values.ravel()).mean()\n",
    "print('ow_15 brier score: ', this)"
   ]
  },
  {
   "cell_type": "code",
   "execution_count": 80,
   "metadata": {},
   "outputs": [
    {
     "name": "stdout",
     "output_type": "stream",
     "text": [
      "persistent distribution brier score:  0.0359777531948\n"
     ]
    }
   ],
   "source": [
    "this = ps.brier_score(truth_thick.values.ravel(), persistence_dist_thick.values.ravel()).mean()\n",
    "print('persistent distribution brier score: ', this)"
   ]
  },
  {
   "cell_type": "code",
   "execution_count": 70,
   "metadata": {},
   "outputs": [
    {
     "name": "stdout",
     "output_type": "stream",
     "text": [
      "persistence brier score:  0.0579710144928\n"
     ]
    }
   ],
   "source": [
    "this = ps.brier_score(truth_thick.values.ravel(), persistence_thick.values.ravel()).mean()\n",
    "print('persistence brier score: ', this)"
   ]
  },
  {
   "cell_type": "code",
   "execution_count": null,
   "metadata": {},
   "outputs": [],
   "source": [
    "fraction_of_positives, mean_predicted_value = \\\n",
    "    calibration_curve(truth_thick.values.ravel(),\n",
    "                      ow_15_thick.values.ravel(), n_bins=5)"
   ]
  },
  {
   "cell_type": "code",
   "execution_count": 81,
   "metadata": {},
   "outputs": [],
   "source": [
    "%matplotlib notebook"
   ]
  },
  {
   "cell_type": "code",
   "execution_count": 84,
   "metadata": {
    "scrolled": false
   },
   "outputs": [
    {
     "data": {
      "application/javascript": [
       "/* Put everything inside the global mpl namespace */\n",
       "window.mpl = {};\n",
       "\n",
       "\n",
       "mpl.get_websocket_type = function() {\n",
       "    if (typeof(WebSocket) !== 'undefined') {\n",
       "        return WebSocket;\n",
       "    } else if (typeof(MozWebSocket) !== 'undefined') {\n",
       "        return MozWebSocket;\n",
       "    } else {\n",
       "        alert('Your browser does not have WebSocket support.' +\n",
       "              'Please try Chrome, Safari or Firefox ≥ 6. ' +\n",
       "              'Firefox 4 and 5 are also supported but you ' +\n",
       "              'have to enable WebSockets in about:config.');\n",
       "    };\n",
       "}\n",
       "\n",
       "mpl.figure = function(figure_id, websocket, ondownload, parent_element) {\n",
       "    this.id = figure_id;\n",
       "\n",
       "    this.ws = websocket;\n",
       "\n",
       "    this.supports_binary = (this.ws.binaryType != undefined);\n",
       "\n",
       "    if (!this.supports_binary) {\n",
       "        var warnings = document.getElementById(\"mpl-warnings\");\n",
       "        if (warnings) {\n",
       "            warnings.style.display = 'block';\n",
       "            warnings.textContent = (\n",
       "                \"This browser does not support binary websocket messages. \" +\n",
       "                    \"Performance may be slow.\");\n",
       "        }\n",
       "    }\n",
       "\n",
       "    this.imageObj = new Image();\n",
       "\n",
       "    this.context = undefined;\n",
       "    this.message = undefined;\n",
       "    this.canvas = undefined;\n",
       "    this.rubberband_canvas = undefined;\n",
       "    this.rubberband_context = undefined;\n",
       "    this.format_dropdown = undefined;\n",
       "\n",
       "    this.image_mode = 'full';\n",
       "\n",
       "    this.root = $('<div/>');\n",
       "    this._root_extra_style(this.root)\n",
       "    this.root.attr('style', 'display: inline-block');\n",
       "\n",
       "    $(parent_element).append(this.root);\n",
       "\n",
       "    this._init_header(this);\n",
       "    this._init_canvas(this);\n",
       "    this._init_toolbar(this);\n",
       "\n",
       "    var fig = this;\n",
       "\n",
       "    this.waiting = false;\n",
       "\n",
       "    this.ws.onopen =  function () {\n",
       "            fig.send_message(\"supports_binary\", {value: fig.supports_binary});\n",
       "            fig.send_message(\"send_image_mode\", {});\n",
       "            if (mpl.ratio != 1) {\n",
       "                fig.send_message(\"set_dpi_ratio\", {'dpi_ratio': mpl.ratio});\n",
       "            }\n",
       "            fig.send_message(\"refresh\", {});\n",
       "        }\n",
       "\n",
       "    this.imageObj.onload = function() {\n",
       "            if (fig.image_mode == 'full') {\n",
       "                // Full images could contain transparency (where diff images\n",
       "                // almost always do), so we need to clear the canvas so that\n",
       "                // there is no ghosting.\n",
       "                fig.context.clearRect(0, 0, fig.canvas.width, fig.canvas.height);\n",
       "            }\n",
       "            fig.context.drawImage(fig.imageObj, 0, 0);\n",
       "        };\n",
       "\n",
       "    this.imageObj.onunload = function() {\n",
       "        fig.ws.close();\n",
       "    }\n",
       "\n",
       "    this.ws.onmessage = this._make_on_message_function(this);\n",
       "\n",
       "    this.ondownload = ondownload;\n",
       "}\n",
       "\n",
       "mpl.figure.prototype._init_header = function() {\n",
       "    var titlebar = $(\n",
       "        '<div class=\"ui-dialog-titlebar ui-widget-header ui-corner-all ' +\n",
       "        'ui-helper-clearfix\"/>');\n",
       "    var titletext = $(\n",
       "        '<div class=\"ui-dialog-title\" style=\"width: 100%; ' +\n",
       "        'text-align: center; padding: 3px;\"/>');\n",
       "    titlebar.append(titletext)\n",
       "    this.root.append(titlebar);\n",
       "    this.header = titletext[0];\n",
       "}\n",
       "\n",
       "\n",
       "\n",
       "mpl.figure.prototype._canvas_extra_style = function(canvas_div) {\n",
       "\n",
       "}\n",
       "\n",
       "\n",
       "mpl.figure.prototype._root_extra_style = function(canvas_div) {\n",
       "\n",
       "}\n",
       "\n",
       "mpl.figure.prototype._init_canvas = function() {\n",
       "    var fig = this;\n",
       "\n",
       "    var canvas_div = $('<div/>');\n",
       "\n",
       "    canvas_div.attr('style', 'position: relative; clear: both; outline: 0');\n",
       "\n",
       "    function canvas_keyboard_event(event) {\n",
       "        return fig.key_event(event, event['data']);\n",
       "    }\n",
       "\n",
       "    canvas_div.keydown('key_press', canvas_keyboard_event);\n",
       "    canvas_div.keyup('key_release', canvas_keyboard_event);\n",
       "    this.canvas_div = canvas_div\n",
       "    this._canvas_extra_style(canvas_div)\n",
       "    this.root.append(canvas_div);\n",
       "\n",
       "    var canvas = $('<canvas/>');\n",
       "    canvas.addClass('mpl-canvas');\n",
       "    canvas.attr('style', \"left: 0; top: 0; z-index: 0; outline: 0\")\n",
       "\n",
       "    this.canvas = canvas[0];\n",
       "    this.context = canvas[0].getContext(\"2d\");\n",
       "\n",
       "    var backingStore = this.context.backingStorePixelRatio ||\n",
       "\tthis.context.webkitBackingStorePixelRatio ||\n",
       "\tthis.context.mozBackingStorePixelRatio ||\n",
       "\tthis.context.msBackingStorePixelRatio ||\n",
       "\tthis.context.oBackingStorePixelRatio ||\n",
       "\tthis.context.backingStorePixelRatio || 1;\n",
       "\n",
       "    mpl.ratio = (window.devicePixelRatio || 1) / backingStore;\n",
       "\n",
       "    var rubberband = $('<canvas/>');\n",
       "    rubberband.attr('style', \"position: absolute; left: 0; top: 0; z-index: 1;\")\n",
       "\n",
       "    var pass_mouse_events = true;\n",
       "\n",
       "    canvas_div.resizable({\n",
       "        start: function(event, ui) {\n",
       "            pass_mouse_events = false;\n",
       "        },\n",
       "        resize: function(event, ui) {\n",
       "            fig.request_resize(ui.size.width, ui.size.height);\n",
       "        },\n",
       "        stop: function(event, ui) {\n",
       "            pass_mouse_events = true;\n",
       "            fig.request_resize(ui.size.width, ui.size.height);\n",
       "        },\n",
       "    });\n",
       "\n",
       "    function mouse_event_fn(event) {\n",
       "        if (pass_mouse_events)\n",
       "            return fig.mouse_event(event, event['data']);\n",
       "    }\n",
       "\n",
       "    rubberband.mousedown('button_press', mouse_event_fn);\n",
       "    rubberband.mouseup('button_release', mouse_event_fn);\n",
       "    // Throttle sequential mouse events to 1 every 20ms.\n",
       "    rubberband.mousemove('motion_notify', mouse_event_fn);\n",
       "\n",
       "    rubberband.mouseenter('figure_enter', mouse_event_fn);\n",
       "    rubberband.mouseleave('figure_leave', mouse_event_fn);\n",
       "\n",
       "    canvas_div.on(\"wheel\", function (event) {\n",
       "        event = event.originalEvent;\n",
       "        event['data'] = 'scroll'\n",
       "        if (event.deltaY < 0) {\n",
       "            event.step = 1;\n",
       "        } else {\n",
       "            event.step = -1;\n",
       "        }\n",
       "        mouse_event_fn(event);\n",
       "    });\n",
       "\n",
       "    canvas_div.append(canvas);\n",
       "    canvas_div.append(rubberband);\n",
       "\n",
       "    this.rubberband = rubberband;\n",
       "    this.rubberband_canvas = rubberband[0];\n",
       "    this.rubberband_context = rubberband[0].getContext(\"2d\");\n",
       "    this.rubberband_context.strokeStyle = \"#000000\";\n",
       "\n",
       "    this._resize_canvas = function(width, height) {\n",
       "        // Keep the size of the canvas, canvas container, and rubber band\n",
       "        // canvas in synch.\n",
       "        canvas_div.css('width', width)\n",
       "        canvas_div.css('height', height)\n",
       "\n",
       "        canvas.attr('width', width * mpl.ratio);\n",
       "        canvas.attr('height', height * mpl.ratio);\n",
       "        canvas.attr('style', 'width: ' + width + 'px; height: ' + height + 'px;');\n",
       "\n",
       "        rubberband.attr('width', width);\n",
       "        rubberband.attr('height', height);\n",
       "    }\n",
       "\n",
       "    // Set the figure to an initial 600x600px, this will subsequently be updated\n",
       "    // upon first draw.\n",
       "    this._resize_canvas(600, 600);\n",
       "\n",
       "    // Disable right mouse context menu.\n",
       "    $(this.rubberband_canvas).bind(\"contextmenu\",function(e){\n",
       "        return false;\n",
       "    });\n",
       "\n",
       "    function set_focus () {\n",
       "        canvas.focus();\n",
       "        canvas_div.focus();\n",
       "    }\n",
       "\n",
       "    window.setTimeout(set_focus, 100);\n",
       "}\n",
       "\n",
       "mpl.figure.prototype._init_toolbar = function() {\n",
       "    var fig = this;\n",
       "\n",
       "    var nav_element = $('<div/>')\n",
       "    nav_element.attr('style', 'width: 100%');\n",
       "    this.root.append(nav_element);\n",
       "\n",
       "    // Define a callback function for later on.\n",
       "    function toolbar_event(event) {\n",
       "        return fig.toolbar_button_onclick(event['data']);\n",
       "    }\n",
       "    function toolbar_mouse_event(event) {\n",
       "        return fig.toolbar_button_onmouseover(event['data']);\n",
       "    }\n",
       "\n",
       "    for(var toolbar_ind in mpl.toolbar_items) {\n",
       "        var name = mpl.toolbar_items[toolbar_ind][0];\n",
       "        var tooltip = mpl.toolbar_items[toolbar_ind][1];\n",
       "        var image = mpl.toolbar_items[toolbar_ind][2];\n",
       "        var method_name = mpl.toolbar_items[toolbar_ind][3];\n",
       "\n",
       "        if (!name) {\n",
       "            // put a spacer in here.\n",
       "            continue;\n",
       "        }\n",
       "        var button = $('<button/>');\n",
       "        button.addClass('ui-button ui-widget ui-state-default ui-corner-all ' +\n",
       "                        'ui-button-icon-only');\n",
       "        button.attr('role', 'button');\n",
       "        button.attr('aria-disabled', 'false');\n",
       "        button.click(method_name, toolbar_event);\n",
       "        button.mouseover(tooltip, toolbar_mouse_event);\n",
       "\n",
       "        var icon_img = $('<span/>');\n",
       "        icon_img.addClass('ui-button-icon-primary ui-icon');\n",
       "        icon_img.addClass(image);\n",
       "        icon_img.addClass('ui-corner-all');\n",
       "\n",
       "        var tooltip_span = $('<span/>');\n",
       "        tooltip_span.addClass('ui-button-text');\n",
       "        tooltip_span.html(tooltip);\n",
       "\n",
       "        button.append(icon_img);\n",
       "        button.append(tooltip_span);\n",
       "\n",
       "        nav_element.append(button);\n",
       "    }\n",
       "\n",
       "    var fmt_picker_span = $('<span/>');\n",
       "\n",
       "    var fmt_picker = $('<select/>');\n",
       "    fmt_picker.addClass('mpl-toolbar-option ui-widget ui-widget-content');\n",
       "    fmt_picker_span.append(fmt_picker);\n",
       "    nav_element.append(fmt_picker_span);\n",
       "    this.format_dropdown = fmt_picker[0];\n",
       "\n",
       "    for (var ind in mpl.extensions) {\n",
       "        var fmt = mpl.extensions[ind];\n",
       "        var option = $(\n",
       "            '<option/>', {selected: fmt === mpl.default_extension}).html(fmt);\n",
       "        fmt_picker.append(option)\n",
       "    }\n",
       "\n",
       "    // Add hover states to the ui-buttons\n",
       "    $( \".ui-button\" ).hover(\n",
       "        function() { $(this).addClass(\"ui-state-hover\");},\n",
       "        function() { $(this).removeClass(\"ui-state-hover\");}\n",
       "    );\n",
       "\n",
       "    var status_bar = $('<span class=\"mpl-message\"/>');\n",
       "    nav_element.append(status_bar);\n",
       "    this.message = status_bar[0];\n",
       "}\n",
       "\n",
       "mpl.figure.prototype.request_resize = function(x_pixels, y_pixels) {\n",
       "    // Request matplotlib to resize the figure. Matplotlib will then trigger a resize in the client,\n",
       "    // which will in turn request a refresh of the image.\n",
       "    this.send_message('resize', {'width': x_pixels, 'height': y_pixels});\n",
       "}\n",
       "\n",
       "mpl.figure.prototype.send_message = function(type, properties) {\n",
       "    properties['type'] = type;\n",
       "    properties['figure_id'] = this.id;\n",
       "    this.ws.send(JSON.stringify(properties));\n",
       "}\n",
       "\n",
       "mpl.figure.prototype.send_draw_message = function() {\n",
       "    if (!this.waiting) {\n",
       "        this.waiting = true;\n",
       "        this.ws.send(JSON.stringify({type: \"draw\", figure_id: this.id}));\n",
       "    }\n",
       "}\n",
       "\n",
       "\n",
       "mpl.figure.prototype.handle_save = function(fig, msg) {\n",
       "    var format_dropdown = fig.format_dropdown;\n",
       "    var format = format_dropdown.options[format_dropdown.selectedIndex].value;\n",
       "    fig.ondownload(fig, format);\n",
       "}\n",
       "\n",
       "\n",
       "mpl.figure.prototype.handle_resize = function(fig, msg) {\n",
       "    var size = msg['size'];\n",
       "    if (size[0] != fig.canvas.width || size[1] != fig.canvas.height) {\n",
       "        fig._resize_canvas(size[0], size[1]);\n",
       "        fig.send_message(\"refresh\", {});\n",
       "    };\n",
       "}\n",
       "\n",
       "mpl.figure.prototype.handle_rubberband = function(fig, msg) {\n",
       "    var x0 = msg['x0'] / mpl.ratio;\n",
       "    var y0 = (fig.canvas.height - msg['y0']) / mpl.ratio;\n",
       "    var x1 = msg['x1'] / mpl.ratio;\n",
       "    var y1 = (fig.canvas.height - msg['y1']) / mpl.ratio;\n",
       "    x0 = Math.floor(x0) + 0.5;\n",
       "    y0 = Math.floor(y0) + 0.5;\n",
       "    x1 = Math.floor(x1) + 0.5;\n",
       "    y1 = Math.floor(y1) + 0.5;\n",
       "    var min_x = Math.min(x0, x1);\n",
       "    var min_y = Math.min(y0, y1);\n",
       "    var width = Math.abs(x1 - x0);\n",
       "    var height = Math.abs(y1 - y0);\n",
       "\n",
       "    fig.rubberband_context.clearRect(\n",
       "        0, 0, fig.canvas.width, fig.canvas.height);\n",
       "\n",
       "    fig.rubberband_context.strokeRect(min_x, min_y, width, height);\n",
       "}\n",
       "\n",
       "mpl.figure.prototype.handle_figure_label = function(fig, msg) {\n",
       "    // Updates the figure title.\n",
       "    fig.header.textContent = msg['label'];\n",
       "}\n",
       "\n",
       "mpl.figure.prototype.handle_cursor = function(fig, msg) {\n",
       "    var cursor = msg['cursor'];\n",
       "    switch(cursor)\n",
       "    {\n",
       "    case 0:\n",
       "        cursor = 'pointer';\n",
       "        break;\n",
       "    case 1:\n",
       "        cursor = 'default';\n",
       "        break;\n",
       "    case 2:\n",
       "        cursor = 'crosshair';\n",
       "        break;\n",
       "    case 3:\n",
       "        cursor = 'move';\n",
       "        break;\n",
       "    }\n",
       "    fig.rubberband_canvas.style.cursor = cursor;\n",
       "}\n",
       "\n",
       "mpl.figure.prototype.handle_message = function(fig, msg) {\n",
       "    fig.message.textContent = msg['message'];\n",
       "}\n",
       "\n",
       "mpl.figure.prototype.handle_draw = function(fig, msg) {\n",
       "    // Request the server to send over a new figure.\n",
       "    fig.send_draw_message();\n",
       "}\n",
       "\n",
       "mpl.figure.prototype.handle_image_mode = function(fig, msg) {\n",
       "    fig.image_mode = msg['mode'];\n",
       "}\n",
       "\n",
       "mpl.figure.prototype.updated_canvas_event = function() {\n",
       "    // Called whenever the canvas gets updated.\n",
       "    this.send_message(\"ack\", {});\n",
       "}\n",
       "\n",
       "// A function to construct a web socket function for onmessage handling.\n",
       "// Called in the figure constructor.\n",
       "mpl.figure.prototype._make_on_message_function = function(fig) {\n",
       "    return function socket_on_message(evt) {\n",
       "        if (evt.data instanceof Blob) {\n",
       "            /* FIXME: We get \"Resource interpreted as Image but\n",
       "             * transferred with MIME type text/plain:\" errors on\n",
       "             * Chrome.  But how to set the MIME type?  It doesn't seem\n",
       "             * to be part of the websocket stream */\n",
       "            evt.data.type = \"image/png\";\n",
       "\n",
       "            /* Free the memory for the previous frames */\n",
       "            if (fig.imageObj.src) {\n",
       "                (window.URL || window.webkitURL).revokeObjectURL(\n",
       "                    fig.imageObj.src);\n",
       "            }\n",
       "\n",
       "            fig.imageObj.src = (window.URL || window.webkitURL).createObjectURL(\n",
       "                evt.data);\n",
       "            fig.updated_canvas_event();\n",
       "            fig.waiting = false;\n",
       "            return;\n",
       "        }\n",
       "        else if (typeof evt.data === 'string' && evt.data.slice(0, 21) == \"data:image/png;base64\") {\n",
       "            fig.imageObj.src = evt.data;\n",
       "            fig.updated_canvas_event();\n",
       "            fig.waiting = false;\n",
       "            return;\n",
       "        }\n",
       "\n",
       "        var msg = JSON.parse(evt.data);\n",
       "        var msg_type = msg['type'];\n",
       "\n",
       "        // Call the  \"handle_{type}\" callback, which takes\n",
       "        // the figure and JSON message as its only arguments.\n",
       "        try {\n",
       "            var callback = fig[\"handle_\" + msg_type];\n",
       "        } catch (e) {\n",
       "            console.log(\"No handler for the '\" + msg_type + \"' message type: \", msg);\n",
       "            return;\n",
       "        }\n",
       "\n",
       "        if (callback) {\n",
       "            try {\n",
       "                // console.log(\"Handling '\" + msg_type + \"' message: \", msg);\n",
       "                callback(fig, msg);\n",
       "            } catch (e) {\n",
       "                console.log(\"Exception inside the 'handler_\" + msg_type + \"' callback:\", e, e.stack, msg);\n",
       "            }\n",
       "        }\n",
       "    };\n",
       "}\n",
       "\n",
       "// from http://stackoverflow.com/questions/1114465/getting-mouse-location-in-canvas\n",
       "mpl.findpos = function(e) {\n",
       "    //this section is from http://www.quirksmode.org/js/events_properties.html\n",
       "    var targ;\n",
       "    if (!e)\n",
       "        e = window.event;\n",
       "    if (e.target)\n",
       "        targ = e.target;\n",
       "    else if (e.srcElement)\n",
       "        targ = e.srcElement;\n",
       "    if (targ.nodeType == 3) // defeat Safari bug\n",
       "        targ = targ.parentNode;\n",
       "\n",
       "    // jQuery normalizes the pageX and pageY\n",
       "    // pageX,Y are the mouse positions relative to the document\n",
       "    // offset() returns the position of the element relative to the document\n",
       "    var x = e.pageX - $(targ).offset().left;\n",
       "    var y = e.pageY - $(targ).offset().top;\n",
       "\n",
       "    return {\"x\": x, \"y\": y};\n",
       "};\n",
       "\n",
       "/*\n",
       " * return a copy of an object with only non-object keys\n",
       " * we need this to avoid circular references\n",
       " * http://stackoverflow.com/a/24161582/3208463\n",
       " */\n",
       "function simpleKeys (original) {\n",
       "  return Object.keys(original).reduce(function (obj, key) {\n",
       "    if (typeof original[key] !== 'object')\n",
       "        obj[key] = original[key]\n",
       "    return obj;\n",
       "  }, {});\n",
       "}\n",
       "\n",
       "mpl.figure.prototype.mouse_event = function(event, name) {\n",
       "    var canvas_pos = mpl.findpos(event)\n",
       "\n",
       "    if (name === 'button_press')\n",
       "    {\n",
       "        this.canvas.focus();\n",
       "        this.canvas_div.focus();\n",
       "    }\n",
       "\n",
       "    var x = canvas_pos.x * mpl.ratio;\n",
       "    var y = canvas_pos.y * mpl.ratio;\n",
       "\n",
       "    this.send_message(name, {x: x, y: y, button: event.button,\n",
       "                             step: event.step,\n",
       "                             guiEvent: simpleKeys(event)});\n",
       "\n",
       "    /* This prevents the web browser from automatically changing to\n",
       "     * the text insertion cursor when the button is pressed.  We want\n",
       "     * to control all of the cursor setting manually through the\n",
       "     * 'cursor' event from matplotlib */\n",
       "    event.preventDefault();\n",
       "    return false;\n",
       "}\n",
       "\n",
       "mpl.figure.prototype._key_event_extra = function(event, name) {\n",
       "    // Handle any extra behaviour associated with a key event\n",
       "}\n",
       "\n",
       "mpl.figure.prototype.key_event = function(event, name) {\n",
       "\n",
       "    // Prevent repeat events\n",
       "    if (name == 'key_press')\n",
       "    {\n",
       "        if (event.which === this._key)\n",
       "            return;\n",
       "        else\n",
       "            this._key = event.which;\n",
       "    }\n",
       "    if (name == 'key_release')\n",
       "        this._key = null;\n",
       "\n",
       "    var value = '';\n",
       "    if (event.ctrlKey && event.which != 17)\n",
       "        value += \"ctrl+\";\n",
       "    if (event.altKey && event.which != 18)\n",
       "        value += \"alt+\";\n",
       "    if (event.shiftKey && event.which != 16)\n",
       "        value += \"shift+\";\n",
       "\n",
       "    value += 'k';\n",
       "    value += event.which.toString();\n",
       "\n",
       "    this._key_event_extra(event, name);\n",
       "\n",
       "    this.send_message(name, {key: value,\n",
       "                             guiEvent: simpleKeys(event)});\n",
       "    return false;\n",
       "}\n",
       "\n",
       "mpl.figure.prototype.toolbar_button_onclick = function(name) {\n",
       "    if (name == 'download') {\n",
       "        this.handle_save(this, null);\n",
       "    } else {\n",
       "        this.send_message(\"toolbar_button\", {name: name});\n",
       "    }\n",
       "};\n",
       "\n",
       "mpl.figure.prototype.toolbar_button_onmouseover = function(tooltip) {\n",
       "    this.message.textContent = tooltip;\n",
       "};\n",
       "mpl.toolbar_items = [[\"Home\", \"Reset original view\", \"fa fa-home icon-home\", \"home\"], [\"Back\", \"Back to  previous view\", \"fa fa-arrow-left icon-arrow-left\", \"back\"], [\"Forward\", \"Forward to next view\", \"fa fa-arrow-right icon-arrow-right\", \"forward\"], [\"\", \"\", \"\", \"\"], [\"Pan\", \"Pan axes with left mouse, zoom with right\", \"fa fa-arrows icon-move\", \"pan\"], [\"Zoom\", \"Zoom to rectangle\", \"fa fa-square-o icon-check-empty\", \"zoom\"], [\"\", \"\", \"\", \"\"], [\"Download\", \"Download plot\", \"fa fa-floppy-o icon-save\", \"download\"]];\n",
       "\n",
       "mpl.extensions = [\"eps\", \"jpeg\", \"pdf\", \"png\", \"ps\", \"raw\", \"svg\", \"tif\"];\n",
       "\n",
       "mpl.default_extension = \"png\";var comm_websocket_adapter = function(comm) {\n",
       "    // Create a \"websocket\"-like object which calls the given IPython comm\n",
       "    // object with the appropriate methods. Currently this is a non binary\n",
       "    // socket, so there is still some room for performance tuning.\n",
       "    var ws = {};\n",
       "\n",
       "    ws.close = function() {\n",
       "        comm.close()\n",
       "    };\n",
       "    ws.send = function(m) {\n",
       "        //console.log('sending', m);\n",
       "        comm.send(m);\n",
       "    };\n",
       "    // Register the callback with on_msg.\n",
       "    comm.on_msg(function(msg) {\n",
       "        //console.log('receiving', msg['content']['data'], msg);\n",
       "        // Pass the mpl event to the overriden (by mpl) onmessage function.\n",
       "        ws.onmessage(msg['content']['data'])\n",
       "    });\n",
       "    return ws;\n",
       "}\n",
       "\n",
       "mpl.mpl_figure_comm = function(comm, msg) {\n",
       "    // This is the function which gets called when the mpl process\n",
       "    // starts-up an IPython Comm through the \"matplotlib\" channel.\n",
       "\n",
       "    var id = msg.content.data.id;\n",
       "    // Get hold of the div created by the display call when the Comm\n",
       "    // socket was opened in Python.\n",
       "    var element = $(\"#\" + id);\n",
       "    var ws_proxy = comm_websocket_adapter(comm)\n",
       "\n",
       "    function ondownload(figure, format) {\n",
       "        window.open(figure.imageObj.src);\n",
       "    }\n",
       "\n",
       "    var fig = new mpl.figure(id, ws_proxy,\n",
       "                           ondownload,\n",
       "                           element.get(0));\n",
       "\n",
       "    // Call onopen now - mpl needs it, as it is assuming we've passed it a real\n",
       "    // web socket which is closed, not our websocket->open comm proxy.\n",
       "    ws_proxy.onopen();\n",
       "\n",
       "    fig.parent_element = element.get(0);\n",
       "    fig.cell_info = mpl.find_output_cell(\"<div id='\" + id + \"'></div>\");\n",
       "    if (!fig.cell_info) {\n",
       "        console.error(\"Failed to find cell for figure\", id, fig);\n",
       "        return;\n",
       "    }\n",
       "\n",
       "    var output_index = fig.cell_info[2]\n",
       "    var cell = fig.cell_info[0];\n",
       "\n",
       "};\n",
       "\n",
       "mpl.figure.prototype.handle_close = function(fig, msg) {\n",
       "    var width = fig.canvas.width/mpl.ratio\n",
       "    fig.root.unbind('remove')\n",
       "\n",
       "    // Update the output cell to use the data from the current canvas.\n",
       "    fig.push_to_output();\n",
       "    var dataURL = fig.canvas.toDataURL();\n",
       "    // Re-enable the keyboard manager in IPython - without this line, in FF,\n",
       "    // the notebook keyboard shortcuts fail.\n",
       "    IPython.keyboard_manager.enable()\n",
       "    $(fig.parent_element).html('<img src=\"' + dataURL + '\" width=\"' + width + '\">');\n",
       "    fig.close_ws(fig, msg);\n",
       "}\n",
       "\n",
       "mpl.figure.prototype.close_ws = function(fig, msg){\n",
       "    fig.send_message('closing', msg);\n",
       "    // fig.ws.close()\n",
       "}\n",
       "\n",
       "mpl.figure.prototype.push_to_output = function(remove_interactive) {\n",
       "    // Turn the data on the canvas into data in the output cell.\n",
       "    var width = this.canvas.width/mpl.ratio\n",
       "    var dataURL = this.canvas.toDataURL();\n",
       "    this.cell_info[1]['text/html'] = '<img src=\"' + dataURL + '\" width=\"' + width + '\">';\n",
       "}\n",
       "\n",
       "mpl.figure.prototype.updated_canvas_event = function() {\n",
       "    // Tell IPython that the notebook contents must change.\n",
       "    IPython.notebook.set_dirty(true);\n",
       "    this.send_message(\"ack\", {});\n",
       "    var fig = this;\n",
       "    // Wait a second, then push the new image to the DOM so\n",
       "    // that it is saved nicely (might be nice to debounce this).\n",
       "    setTimeout(function () { fig.push_to_output() }, 1000);\n",
       "}\n",
       "\n",
       "mpl.figure.prototype._init_toolbar = function() {\n",
       "    var fig = this;\n",
       "\n",
       "    var nav_element = $('<div/>')\n",
       "    nav_element.attr('style', 'width: 100%');\n",
       "    this.root.append(nav_element);\n",
       "\n",
       "    // Define a callback function for later on.\n",
       "    function toolbar_event(event) {\n",
       "        return fig.toolbar_button_onclick(event['data']);\n",
       "    }\n",
       "    function toolbar_mouse_event(event) {\n",
       "        return fig.toolbar_button_onmouseover(event['data']);\n",
       "    }\n",
       "\n",
       "    for(var toolbar_ind in mpl.toolbar_items){\n",
       "        var name = mpl.toolbar_items[toolbar_ind][0];\n",
       "        var tooltip = mpl.toolbar_items[toolbar_ind][1];\n",
       "        var image = mpl.toolbar_items[toolbar_ind][2];\n",
       "        var method_name = mpl.toolbar_items[toolbar_ind][3];\n",
       "\n",
       "        if (!name) { continue; };\n",
       "\n",
       "        var button = $('<button class=\"btn btn-default\" href=\"#\" title=\"' + name + '\"><i class=\"fa ' + image + ' fa-lg\"></i></button>');\n",
       "        button.click(method_name, toolbar_event);\n",
       "        button.mouseover(tooltip, toolbar_mouse_event);\n",
       "        nav_element.append(button);\n",
       "    }\n",
       "\n",
       "    // Add the status bar.\n",
       "    var status_bar = $('<span class=\"mpl-message\" style=\"text-align:right; float: right;\"/>');\n",
       "    nav_element.append(status_bar);\n",
       "    this.message = status_bar[0];\n",
       "\n",
       "    // Add the close button to the window.\n",
       "    var buttongrp = $('<div class=\"btn-group inline pull-right\"></div>');\n",
       "    var button = $('<button class=\"btn btn-mini btn-primary\" href=\"#\" title=\"Stop Interaction\"><i class=\"fa fa-power-off icon-remove icon-large\"></i></button>');\n",
       "    button.click(function (evt) { fig.handle_close(fig, {}); } );\n",
       "    button.mouseover('Stop Interaction', toolbar_mouse_event);\n",
       "    buttongrp.append(button);\n",
       "    var titlebar = this.root.find($('.ui-dialog-titlebar'));\n",
       "    titlebar.prepend(buttongrp);\n",
       "}\n",
       "\n",
       "mpl.figure.prototype._root_extra_style = function(el){\n",
       "    var fig = this\n",
       "    el.on(\"remove\", function(){\n",
       "\tfig.close_ws(fig, {});\n",
       "    });\n",
       "}\n",
       "\n",
       "mpl.figure.prototype._canvas_extra_style = function(el){\n",
       "    // this is important to make the div 'focusable\n",
       "    el.attr('tabindex', 0)\n",
       "    // reach out to IPython and tell the keyboard manager to turn it's self\n",
       "    // off when our div gets focus\n",
       "\n",
       "    // location in version 3\n",
       "    if (IPython.notebook.keyboard_manager) {\n",
       "        IPython.notebook.keyboard_manager.register_events(el);\n",
       "    }\n",
       "    else {\n",
       "        // location in version 2\n",
       "        IPython.keyboard_manager.register_events(el);\n",
       "    }\n",
       "\n",
       "}\n",
       "\n",
       "mpl.figure.prototype._key_event_extra = function(event, name) {\n",
       "    var manager = IPython.notebook.keyboard_manager;\n",
       "    if (!manager)\n",
       "        manager = IPython.keyboard_manager;\n",
       "\n",
       "    // Check for shift+enter\n",
       "    if (event.shiftKey && event.which == 13) {\n",
       "        this.canvas_div.blur();\n",
       "        event.shiftKey = false;\n",
       "        // Send a \"J\" for go to next cell\n",
       "        event.which = 74;\n",
       "        event.keyCode = 74;\n",
       "        manager.command_mode();\n",
       "        manager.handle_keydown(event);\n",
       "    }\n",
       "}\n",
       "\n",
       "mpl.figure.prototype.handle_save = function(fig, msg) {\n",
       "    fig.ondownload(fig, null);\n",
       "}\n",
       "\n",
       "\n",
       "mpl.find_output_cell = function(html_output) {\n",
       "    // Return the cell and output element which can be found *uniquely* in the notebook.\n",
       "    // Note - this is a bit hacky, but it is done because the \"notebook_saving.Notebook\"\n",
       "    // IPython event is triggered only after the cells have been serialised, which for\n",
       "    // our purposes (turning an active figure into a static one), is too late.\n",
       "    var cells = IPython.notebook.get_cells();\n",
       "    var ncells = cells.length;\n",
       "    for (var i=0; i<ncells; i++) {\n",
       "        var cell = cells[i];\n",
       "        if (cell.cell_type === 'code'){\n",
       "            for (var j=0; j<cell.output_area.outputs.length; j++) {\n",
       "                var data = cell.output_area.outputs[j];\n",
       "                if (data.data) {\n",
       "                    // IPython >= 3 moved mimebundle to data attribute of output\n",
       "                    data = data.data;\n",
       "                }\n",
       "                if (data['text/html'] == html_output) {\n",
       "                    return [cell, data, j];\n",
       "                }\n",
       "            }\n",
       "        }\n",
       "    }\n",
       "}\n",
       "\n",
       "// Register the function which deals with the matplotlib target/channel.\n",
       "// The kernel may be null if the page has been refreshed.\n",
       "if (IPython.notebook.kernel != null) {\n",
       "    IPython.notebook.kernel.comm_manager.register_target('matplotlib', mpl.mpl_figure_comm);\n",
       "}\n"
      ],
      "text/plain": [
       "<IPython.core.display.Javascript object>"
      ]
     },
     "metadata": {},
     "output_type": "display_data"
    },
    {
     "data": {
      "text/html": [
       "<img src=\"data:image/png;base64,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\" width=\"719.2307956119976\">"
      ],
      "text/plain": [
       "<IPython.core.display.HTML object>"
      ]
     },
     "metadata": {},
     "output_type": "display_data"
    }
   ],
   "source": [
    "fig_index = 1\n",
    "num_of_bins = 10\n",
    "fig = plt.figure(fig_index, figsize=(10, 10))\n",
    "ax1 = plt.subplot2grid((3, 1), (0, 0), rowspan=2)\n",
    "ax2 = plt.subplot2grid((3, 1), (2, 0))\n",
    "\n",
    "ax1.plot([0, 1], [0, 1], \"k:\", label=\"Perfectly calibrated\")\n",
    "ax2.hist(truth_thick.values.ravel(), color='k', linestyle=':', range=(0, 1), bins=num_of_bins, label=\"Perfectly calibrated\",\n",
    "         histtype=\"step\", lw=2)\n",
    "for forecast, name in [(ow_15_thick, 'ow_15'),\n",
    "                       (ow_15_wp3_thick, 'ow_15_wp3'),\n",
    "                       (persistence_dist_thick, 'persistence_dist'),\n",
    "                       (persistence_thick, 'persistence')]:\n",
    "    \n",
    "    fraction_of_positives, mean_predicted_value = \\\n",
    "        calibration.calibration_curve(truth_thick.values.ravel(),\n",
    "                                      forecast.values.ravel(), n_bins=num_of_bins)\n",
    "\n",
    "    ax1.plot(mean_predicted_value, fraction_of_positives, \"s-\",\n",
    "             label=f'{name}')\n",
    "    ax2.hist(forecast.values.ravel(), range=(0, 1), bins=num_of_bins, label=name,\n",
    "             histtype=\"step\", lw=2, linestyle='--')\n",
    "\n",
    "\n",
    "ax1.set_ylabel(\"P(o|y)\")\n",
    "ax1.set_ylim([-0.05, 1.05])\n",
    "ax1.legend(loc=\"lower right\")\n",
    "ax1.set_title('Reliability curve for thick cloud forecast')\n",
    "\n",
    "ax2.set_xlabel(\"P(y)\")\n",
    "ax2.set_ylabel(\"Count\")\n",
    "ax2.legend(loc=\"upper center\", ncol=2)\n",
    "\n",
    "plt.tight_layout()"
   ]
  },
  {
   "cell_type": "markdown",
   "metadata": {},
   "source": [
    "# Reliability diagram one day"
   ]
  },
  {
   "cell_type": "code",
   "execution_count": 383,
   "metadata": {},
   "outputs": [],
   "source": [
    "thin_ub = 0.4"
   ]
  },
  {
   "cell_type": "code",
   "execution_count": 384,
   "metadata": {
    "scrolled": true
   },
   "outputs": [],
   "source": [
    "truth_thick = (truth.sel(time=error_times)>thin_ub).astype('float')"
   ]
  },
  {
   "cell_type": "code",
   "execution_count": 385,
   "metadata": {},
   "outputs": [],
   "source": [
    "persistence_thick = (persistence.sel(time=error_times)>thin_ub).astype('float')"
   ]
  },
  {
   "cell_type": "code",
   "execution_count": 386,
   "metadata": {},
   "outputs": [],
   "source": [
    "persistence_dist_thick = persistence_thick.copy()"
   ]
  },
  {
   "cell_type": "code",
   "execution_count": 387,
   "metadata": {},
   "outputs": [],
   "source": [
    "for ii in range(error_times.size):\n",
    "    persistence_dist_thick[ii] = persistence_dist_thick[ii].mean(dim=['west_east', 'south_north']).item()"
   ]
  },
  {
   "cell_type": "code",
   "execution_count": 388,
   "metadata": {},
   "outputs": [],
   "source": [
    "ow_15_thick = (ow_15_30['ci'].sel(time=error_times)>thin_ub).astype('int')\n",
    "ow_15_thick = ow_15_thick.mean(dim='ensemble_number')"
   ]
  },
  {
   "cell_type": "code",
   "execution_count": 389,
   "metadata": {
    "scrolled": true
   },
   "outputs": [],
   "source": [
    "ow_15_wp3_thick = (ow_15_wp3_30['ci'].sel(time=error_times)>thin_ub).astype('int')\n",
    "ow_15_wp3_thick = ow_15_wp3_thick.mean(dim='ensemble_number')"
   ]
  },
  {
   "cell_type": "code",
   "execution_count": null,
   "metadata": {},
   "outputs": [],
   "source": []
  },
  {
   "cell_type": "code",
   "execution_count": 390,
   "metadata": {},
   "outputs": [
    {
     "name": "stdout",
     "output_type": "stream",
     "text": [
      "0.0732383065908\n"
     ]
    }
   ],
   "source": [
    "this = ps.brier_score(truth_thick.values.ravel(), ow_15_wp3_thick.values.ravel()).mean()\n",
    "print(this)"
   ]
  },
  {
   "cell_type": "code",
   "execution_count": 391,
   "metadata": {},
   "outputs": [
    {
     "name": "stdout",
     "output_type": "stream",
     "text": [
      "0.0821671152519\n"
     ]
    }
   ],
   "source": [
    "this = ps.brier_score(truth_thick.values.ravel(), ow_15_thick.values.ravel()).mean()\n",
    "print(this)"
   ]
  },
  {
   "cell_type": "code",
   "execution_count": 392,
   "metadata": {},
   "outputs": [
    {
     "name": "stdout",
     "output_type": "stream",
     "text": [
      "0.0992428213742\n"
     ]
    }
   ],
   "source": [
    "this = ps.brier_score(truth_thick.values.ravel(), persistence_dist_thick.values.ravel()).mean()\n",
    "print(this)"
   ]
  },
  {
   "cell_type": "code",
   "execution_count": 393,
   "metadata": {},
   "outputs": [
    {
     "name": "stdout",
     "output_type": "stream",
     "text": [
      "0.0937612146308\n"
     ]
    }
   ],
   "source": [
    "this = ps.brier_score(truth_thick.values.ravel(), persistence_thick.values.ravel()).mean()\n",
    "print(this)"
   ]
  },
  {
   "cell_type": "code",
   "execution_count": 394,
   "metadata": {},
   "outputs": [],
   "source": [
    "fraction_of_positives, mean_predicted_value = \\\n",
    "    calibration_curve(truth_thick.values.ravel(),\n",
    "                      ow_15_thick.values.ravel(), n_bins=5)"
   ]
  },
  {
   "cell_type": "code",
   "execution_count": 395,
   "metadata": {},
   "outputs": [
    {
     "data": {
      "text/plain": [
       "array([ 0.22404229,  0.67315716,  0.70360169,  0.74079975,  0.95731191])"
      ]
     },
     "execution_count": 395,
     "metadata": {},
     "output_type": "execute_result"
    }
   ],
   "source": [
    "fraction_of_positives"
   ]
  },
  {
   "cell_type": "code",
   "execution_count": 396,
   "metadata": {},
   "outputs": [
    {
     "data": {
      "text/plain": [
       "array([ 0.00805989,  0.32312736,  0.52488347,  0.73219691,  0.9978851 ])"
      ]
     },
     "execution_count": 396,
     "metadata": {},
     "output_type": "execute_result"
    }
   ],
   "source": [
    "mean_predicted_value"
   ]
  },
  {
   "cell_type": "code",
   "execution_count": 413,
   "metadata": {},
   "outputs": [],
   "source": [
    "%matplotlib notebook"
   ]
  },
  {
   "cell_type": "code",
   "execution_count": 415,
   "metadata": {
    "scrolled": false
   },
   "outputs": [
    {
     "data": {
      "application/javascript": [
       "/* Put everything inside the global mpl namespace */\n",
       "window.mpl = {};\n",
       "\n",
       "\n",
       "mpl.get_websocket_type = function() {\n",
       "    if (typeof(WebSocket) !== 'undefined') {\n",
       "        return WebSocket;\n",
       "    } else if (typeof(MozWebSocket) !== 'undefined') {\n",
       "        return MozWebSocket;\n",
       "    } else {\n",
       "        alert('Your browser does not have WebSocket support.' +\n",
       "              'Please try Chrome, Safari or Firefox ≥ 6. ' +\n",
       "              'Firefox 4 and 5 are also supported but you ' +\n",
       "              'have to enable WebSockets in about:config.');\n",
       "    };\n",
       "}\n",
       "\n",
       "mpl.figure = function(figure_id, websocket, ondownload, parent_element) {\n",
       "    this.id = figure_id;\n",
       "\n",
       "    this.ws = websocket;\n",
       "\n",
       "    this.supports_binary = (this.ws.binaryType != undefined);\n",
       "\n",
       "    if (!this.supports_binary) {\n",
       "        var warnings = document.getElementById(\"mpl-warnings\");\n",
       "        if (warnings) {\n",
       "            warnings.style.display = 'block';\n",
       "            warnings.textContent = (\n",
       "                \"This browser does not support binary websocket messages. \" +\n",
       "                    \"Performance may be slow.\");\n",
       "        }\n",
       "    }\n",
       "\n",
       "    this.imageObj = new Image();\n",
       "\n",
       "    this.context = undefined;\n",
       "    this.message = undefined;\n",
       "    this.canvas = undefined;\n",
       "    this.rubberband_canvas = undefined;\n",
       "    this.rubberband_context = undefined;\n",
       "    this.format_dropdown = undefined;\n",
       "\n",
       "    this.image_mode = 'full';\n",
       "\n",
       "    this.root = $('<div/>');\n",
       "    this._root_extra_style(this.root)\n",
       "    this.root.attr('style', 'display: inline-block');\n",
       "\n",
       "    $(parent_element).append(this.root);\n",
       "\n",
       "    this._init_header(this);\n",
       "    this._init_canvas(this);\n",
       "    this._init_toolbar(this);\n",
       "\n",
       "    var fig = this;\n",
       "\n",
       "    this.waiting = false;\n",
       "\n",
       "    this.ws.onopen =  function () {\n",
       "            fig.send_message(\"supports_binary\", {value: fig.supports_binary});\n",
       "            fig.send_message(\"send_image_mode\", {});\n",
       "            if (mpl.ratio != 1) {\n",
       "                fig.send_message(\"set_dpi_ratio\", {'dpi_ratio': mpl.ratio});\n",
       "            }\n",
       "            fig.send_message(\"refresh\", {});\n",
       "        }\n",
       "\n",
       "    this.imageObj.onload = function() {\n",
       "            if (fig.image_mode == 'full') {\n",
       "                // Full images could contain transparency (where diff images\n",
       "                // almost always do), so we need to clear the canvas so that\n",
       "                // there is no ghosting.\n",
       "                fig.context.clearRect(0, 0, fig.canvas.width, fig.canvas.height);\n",
       "            }\n",
       "            fig.context.drawImage(fig.imageObj, 0, 0);\n",
       "        };\n",
       "\n",
       "    this.imageObj.onunload = function() {\n",
       "        fig.ws.close();\n",
       "    }\n",
       "\n",
       "    this.ws.onmessage = this._make_on_message_function(this);\n",
       "\n",
       "    this.ondownload = ondownload;\n",
       "}\n",
       "\n",
       "mpl.figure.prototype._init_header = function() {\n",
       "    var titlebar = $(\n",
       "        '<div class=\"ui-dialog-titlebar ui-widget-header ui-corner-all ' +\n",
       "        'ui-helper-clearfix\"/>');\n",
       "    var titletext = $(\n",
       "        '<div class=\"ui-dialog-title\" style=\"width: 100%; ' +\n",
       "        'text-align: center; padding: 3px;\"/>');\n",
       "    titlebar.append(titletext)\n",
       "    this.root.append(titlebar);\n",
       "    this.header = titletext[0];\n",
       "}\n",
       "\n",
       "\n",
       "\n",
       "mpl.figure.prototype._canvas_extra_style = function(canvas_div) {\n",
       "\n",
       "}\n",
       "\n",
       "\n",
       "mpl.figure.prototype._root_extra_style = function(canvas_div) {\n",
       "\n",
       "}\n",
       "\n",
       "mpl.figure.prototype._init_canvas = function() {\n",
       "    var fig = this;\n",
       "\n",
       "    var canvas_div = $('<div/>');\n",
       "\n",
       "    canvas_div.attr('style', 'position: relative; clear: both; outline: 0');\n",
       "\n",
       "    function canvas_keyboard_event(event) {\n",
       "        return fig.key_event(event, event['data']);\n",
       "    }\n",
       "\n",
       "    canvas_div.keydown('key_press', canvas_keyboard_event);\n",
       "    canvas_div.keyup('key_release', canvas_keyboard_event);\n",
       "    this.canvas_div = canvas_div\n",
       "    this._canvas_extra_style(canvas_div)\n",
       "    this.root.append(canvas_div);\n",
       "\n",
       "    var canvas = $('<canvas/>');\n",
       "    canvas.addClass('mpl-canvas');\n",
       "    canvas.attr('style', \"left: 0; top: 0; z-index: 0; outline: 0\")\n",
       "\n",
       "    this.canvas = canvas[0];\n",
       "    this.context = canvas[0].getContext(\"2d\");\n",
       "\n",
       "    var backingStore = this.context.backingStorePixelRatio ||\n",
       "\tthis.context.webkitBackingStorePixelRatio ||\n",
       "\tthis.context.mozBackingStorePixelRatio ||\n",
       "\tthis.context.msBackingStorePixelRatio ||\n",
       "\tthis.context.oBackingStorePixelRatio ||\n",
       "\tthis.context.backingStorePixelRatio || 1;\n",
       "\n",
       "    mpl.ratio = (window.devicePixelRatio || 1) / backingStore;\n",
       "\n",
       "    var rubberband = $('<canvas/>');\n",
       "    rubberband.attr('style', \"position: absolute; left: 0; top: 0; z-index: 1;\")\n",
       "\n",
       "    var pass_mouse_events = true;\n",
       "\n",
       "    canvas_div.resizable({\n",
       "        start: function(event, ui) {\n",
       "            pass_mouse_events = false;\n",
       "        },\n",
       "        resize: function(event, ui) {\n",
       "            fig.request_resize(ui.size.width, ui.size.height);\n",
       "        },\n",
       "        stop: function(event, ui) {\n",
       "            pass_mouse_events = true;\n",
       "            fig.request_resize(ui.size.width, ui.size.height);\n",
       "        },\n",
       "    });\n",
       "\n",
       "    function mouse_event_fn(event) {\n",
       "        if (pass_mouse_events)\n",
       "            return fig.mouse_event(event, event['data']);\n",
       "    }\n",
       "\n",
       "    rubberband.mousedown('button_press', mouse_event_fn);\n",
       "    rubberband.mouseup('button_release', mouse_event_fn);\n",
       "    // Throttle sequential mouse events to 1 every 20ms.\n",
       "    rubberband.mousemove('motion_notify', mouse_event_fn);\n",
       "\n",
       "    rubberband.mouseenter('figure_enter', mouse_event_fn);\n",
       "    rubberband.mouseleave('figure_leave', mouse_event_fn);\n",
       "\n",
       "    canvas_div.on(\"wheel\", function (event) {\n",
       "        event = event.originalEvent;\n",
       "        event['data'] = 'scroll'\n",
       "        if (event.deltaY < 0) {\n",
       "            event.step = 1;\n",
       "        } else {\n",
       "            event.step = -1;\n",
       "        }\n",
       "        mouse_event_fn(event);\n",
       "    });\n",
       "\n",
       "    canvas_div.append(canvas);\n",
       "    canvas_div.append(rubberband);\n",
       "\n",
       "    this.rubberband = rubberband;\n",
       "    this.rubberband_canvas = rubberband[0];\n",
       "    this.rubberband_context = rubberband[0].getContext(\"2d\");\n",
       "    this.rubberband_context.strokeStyle = \"#000000\";\n",
       "\n",
       "    this._resize_canvas = function(width, height) {\n",
       "        // Keep the size of the canvas, canvas container, and rubber band\n",
       "        // canvas in synch.\n",
       "        canvas_div.css('width', width)\n",
       "        canvas_div.css('height', height)\n",
       "\n",
       "        canvas.attr('width', width * mpl.ratio);\n",
       "        canvas.attr('height', height * mpl.ratio);\n",
       "        canvas.attr('style', 'width: ' + width + 'px; height: ' + height + 'px;');\n",
       "\n",
       "        rubberband.attr('width', width);\n",
       "        rubberband.attr('height', height);\n",
       "    }\n",
       "\n",
       "    // Set the figure to an initial 600x600px, this will subsequently be updated\n",
       "    // upon first draw.\n",
       "    this._resize_canvas(600, 600);\n",
       "\n",
       "    // Disable right mouse context menu.\n",
       "    $(this.rubberband_canvas).bind(\"contextmenu\",function(e){\n",
       "        return false;\n",
       "    });\n",
       "\n",
       "    function set_focus () {\n",
       "        canvas.focus();\n",
       "        canvas_div.focus();\n",
       "    }\n",
       "\n",
       "    window.setTimeout(set_focus, 100);\n",
       "}\n",
       "\n",
       "mpl.figure.prototype._init_toolbar = function() {\n",
       "    var fig = this;\n",
       "\n",
       "    var nav_element = $('<div/>')\n",
       "    nav_element.attr('style', 'width: 100%');\n",
       "    this.root.append(nav_element);\n",
       "\n",
       "    // Define a callback function for later on.\n",
       "    function toolbar_event(event) {\n",
       "        return fig.toolbar_button_onclick(event['data']);\n",
       "    }\n",
       "    function toolbar_mouse_event(event) {\n",
       "        return fig.toolbar_button_onmouseover(event['data']);\n",
       "    }\n",
       "\n",
       "    for(var toolbar_ind in mpl.toolbar_items) {\n",
       "        var name = mpl.toolbar_items[toolbar_ind][0];\n",
       "        var tooltip = mpl.toolbar_items[toolbar_ind][1];\n",
       "        var image = mpl.toolbar_items[toolbar_ind][2];\n",
       "        var method_name = mpl.toolbar_items[toolbar_ind][3];\n",
       "\n",
       "        if (!name) {\n",
       "            // put a spacer in here.\n",
       "            continue;\n",
       "        }\n",
       "        var button = $('<button/>');\n",
       "        button.addClass('ui-button ui-widget ui-state-default ui-corner-all ' +\n",
       "                        'ui-button-icon-only');\n",
       "        button.attr('role', 'button');\n",
       "        button.attr('aria-disabled', 'false');\n",
       "        button.click(method_name, toolbar_event);\n",
       "        button.mouseover(tooltip, toolbar_mouse_event);\n",
       "\n",
       "        var icon_img = $('<span/>');\n",
       "        icon_img.addClass('ui-button-icon-primary ui-icon');\n",
       "        icon_img.addClass(image);\n",
       "        icon_img.addClass('ui-corner-all');\n",
       "\n",
       "        var tooltip_span = $('<span/>');\n",
       "        tooltip_span.addClass('ui-button-text');\n",
       "        tooltip_span.html(tooltip);\n",
       "\n",
       "        button.append(icon_img);\n",
       "        button.append(tooltip_span);\n",
       "\n",
       "        nav_element.append(button);\n",
       "    }\n",
       "\n",
       "    var fmt_picker_span = $('<span/>');\n",
       "\n",
       "    var fmt_picker = $('<select/>');\n",
       "    fmt_picker.addClass('mpl-toolbar-option ui-widget ui-widget-content');\n",
       "    fmt_picker_span.append(fmt_picker);\n",
       "    nav_element.append(fmt_picker_span);\n",
       "    this.format_dropdown = fmt_picker[0];\n",
       "\n",
       "    for (var ind in mpl.extensions) {\n",
       "        var fmt = mpl.extensions[ind];\n",
       "        var option = $(\n",
       "            '<option/>', {selected: fmt === mpl.default_extension}).html(fmt);\n",
       "        fmt_picker.append(option)\n",
       "    }\n",
       "\n",
       "    // Add hover states to the ui-buttons\n",
       "    $( \".ui-button\" ).hover(\n",
       "        function() { $(this).addClass(\"ui-state-hover\");},\n",
       "        function() { $(this).removeClass(\"ui-state-hover\");}\n",
       "    );\n",
       "\n",
       "    var status_bar = $('<span class=\"mpl-message\"/>');\n",
       "    nav_element.append(status_bar);\n",
       "    this.message = status_bar[0];\n",
       "}\n",
       "\n",
       "mpl.figure.prototype.request_resize = function(x_pixels, y_pixels) {\n",
       "    // Request matplotlib to resize the figure. Matplotlib will then trigger a resize in the client,\n",
       "    // which will in turn request a refresh of the image.\n",
       "    this.send_message('resize', {'width': x_pixels, 'height': y_pixels});\n",
       "}\n",
       "\n",
       "mpl.figure.prototype.send_message = function(type, properties) {\n",
       "    properties['type'] = type;\n",
       "    properties['figure_id'] = this.id;\n",
       "    this.ws.send(JSON.stringify(properties));\n",
       "}\n",
       "\n",
       "mpl.figure.prototype.send_draw_message = function() {\n",
       "    if (!this.waiting) {\n",
       "        this.waiting = true;\n",
       "        this.ws.send(JSON.stringify({type: \"draw\", figure_id: this.id}));\n",
       "    }\n",
       "}\n",
       "\n",
       "\n",
       "mpl.figure.prototype.handle_save = function(fig, msg) {\n",
       "    var format_dropdown = fig.format_dropdown;\n",
       "    var format = format_dropdown.options[format_dropdown.selectedIndex].value;\n",
       "    fig.ondownload(fig, format);\n",
       "}\n",
       "\n",
       "\n",
       "mpl.figure.prototype.handle_resize = function(fig, msg) {\n",
       "    var size = msg['size'];\n",
       "    if (size[0] != fig.canvas.width || size[1] != fig.canvas.height) {\n",
       "        fig._resize_canvas(size[0], size[1]);\n",
       "        fig.send_message(\"refresh\", {});\n",
       "    };\n",
       "}\n",
       "\n",
       "mpl.figure.prototype.handle_rubberband = function(fig, msg) {\n",
       "    var x0 = msg['x0'] / mpl.ratio;\n",
       "    var y0 = (fig.canvas.height - msg['y0']) / mpl.ratio;\n",
       "    var x1 = msg['x1'] / mpl.ratio;\n",
       "    var y1 = (fig.canvas.height - msg['y1']) / mpl.ratio;\n",
       "    x0 = Math.floor(x0) + 0.5;\n",
       "    y0 = Math.floor(y0) + 0.5;\n",
       "    x1 = Math.floor(x1) + 0.5;\n",
       "    y1 = Math.floor(y1) + 0.5;\n",
       "    var min_x = Math.min(x0, x1);\n",
       "    var min_y = Math.min(y0, y1);\n",
       "    var width = Math.abs(x1 - x0);\n",
       "    var height = Math.abs(y1 - y0);\n",
       "\n",
       "    fig.rubberband_context.clearRect(\n",
       "        0, 0, fig.canvas.width, fig.canvas.height);\n",
       "\n",
       "    fig.rubberband_context.strokeRect(min_x, min_y, width, height);\n",
       "}\n",
       "\n",
       "mpl.figure.prototype.handle_figure_label = function(fig, msg) {\n",
       "    // Updates the figure title.\n",
       "    fig.header.textContent = msg['label'];\n",
       "}\n",
       "\n",
       "mpl.figure.prototype.handle_cursor = function(fig, msg) {\n",
       "    var cursor = msg['cursor'];\n",
       "    switch(cursor)\n",
       "    {\n",
       "    case 0:\n",
       "        cursor = 'pointer';\n",
       "        break;\n",
       "    case 1:\n",
       "        cursor = 'default';\n",
       "        break;\n",
       "    case 2:\n",
       "        cursor = 'crosshair';\n",
       "        break;\n",
       "    case 3:\n",
       "        cursor = 'move';\n",
       "        break;\n",
       "    }\n",
       "    fig.rubberband_canvas.style.cursor = cursor;\n",
       "}\n",
       "\n",
       "mpl.figure.prototype.handle_message = function(fig, msg) {\n",
       "    fig.message.textContent = msg['message'];\n",
       "}\n",
       "\n",
       "mpl.figure.prototype.handle_draw = function(fig, msg) {\n",
       "    // Request the server to send over a new figure.\n",
       "    fig.send_draw_message();\n",
       "}\n",
       "\n",
       "mpl.figure.prototype.handle_image_mode = function(fig, msg) {\n",
       "    fig.image_mode = msg['mode'];\n",
       "}\n",
       "\n",
       "mpl.figure.prototype.updated_canvas_event = function() {\n",
       "    // Called whenever the canvas gets updated.\n",
       "    this.send_message(\"ack\", {});\n",
       "}\n",
       "\n",
       "// A function to construct a web socket function for onmessage handling.\n",
       "// Called in the figure constructor.\n",
       "mpl.figure.prototype._make_on_message_function = function(fig) {\n",
       "    return function socket_on_message(evt) {\n",
       "        if (evt.data instanceof Blob) {\n",
       "            /* FIXME: We get \"Resource interpreted as Image but\n",
       "             * transferred with MIME type text/plain:\" errors on\n",
       "             * Chrome.  But how to set the MIME type?  It doesn't seem\n",
       "             * to be part of the websocket stream */\n",
       "            evt.data.type = \"image/png\";\n",
       "\n",
       "            /* Free the memory for the previous frames */\n",
       "            if (fig.imageObj.src) {\n",
       "                (window.URL || window.webkitURL).revokeObjectURL(\n",
       "                    fig.imageObj.src);\n",
       "            }\n",
       "\n",
       "            fig.imageObj.src = (window.URL || window.webkitURL).createObjectURL(\n",
       "                evt.data);\n",
       "            fig.updated_canvas_event();\n",
       "            fig.waiting = false;\n",
       "            return;\n",
       "        }\n",
       "        else if (typeof evt.data === 'string' && evt.data.slice(0, 21) == \"data:image/png;base64\") {\n",
       "            fig.imageObj.src = evt.data;\n",
       "            fig.updated_canvas_event();\n",
       "            fig.waiting = false;\n",
       "            return;\n",
       "        }\n",
       "\n",
       "        var msg = JSON.parse(evt.data);\n",
       "        var msg_type = msg['type'];\n",
       "\n",
       "        // Call the  \"handle_{type}\" callback, which takes\n",
       "        // the figure and JSON message as its only arguments.\n",
       "        try {\n",
       "            var callback = fig[\"handle_\" + msg_type];\n",
       "        } catch (e) {\n",
       "            console.log(\"No handler for the '\" + msg_type + \"' message type: \", msg);\n",
       "            return;\n",
       "        }\n",
       "\n",
       "        if (callback) {\n",
       "            try {\n",
       "                // console.log(\"Handling '\" + msg_type + \"' message: \", msg);\n",
       "                callback(fig, msg);\n",
       "            } catch (e) {\n",
       "                console.log(\"Exception inside the 'handler_\" + msg_type + \"' callback:\", e, e.stack, msg);\n",
       "            }\n",
       "        }\n",
       "    };\n",
       "}\n",
       "\n",
       "// from http://stackoverflow.com/questions/1114465/getting-mouse-location-in-canvas\n",
       "mpl.findpos = function(e) {\n",
       "    //this section is from http://www.quirksmode.org/js/events_properties.html\n",
       "    var targ;\n",
       "    if (!e)\n",
       "        e = window.event;\n",
       "    if (e.target)\n",
       "        targ = e.target;\n",
       "    else if (e.srcElement)\n",
       "        targ = e.srcElement;\n",
       "    if (targ.nodeType == 3) // defeat Safari bug\n",
       "        targ = targ.parentNode;\n",
       "\n",
       "    // jQuery normalizes the pageX and pageY\n",
       "    // pageX,Y are the mouse positions relative to the document\n",
       "    // offset() returns the position of the element relative to the document\n",
       "    var x = e.pageX - $(targ).offset().left;\n",
       "    var y = e.pageY - $(targ).offset().top;\n",
       "\n",
       "    return {\"x\": x, \"y\": y};\n",
       "};\n",
       "\n",
       "/*\n",
       " * return a copy of an object with only non-object keys\n",
       " * we need this to avoid circular references\n",
       " * http://stackoverflow.com/a/24161582/3208463\n",
       " */\n",
       "function simpleKeys (original) {\n",
       "  return Object.keys(original).reduce(function (obj, key) {\n",
       "    if (typeof original[key] !== 'object')\n",
       "        obj[key] = original[key]\n",
       "    return obj;\n",
       "  }, {});\n",
       "}\n",
       "\n",
       "mpl.figure.prototype.mouse_event = function(event, name) {\n",
       "    var canvas_pos = mpl.findpos(event)\n",
       "\n",
       "    if (name === 'button_press')\n",
       "    {\n",
       "        this.canvas.focus();\n",
       "        this.canvas_div.focus();\n",
       "    }\n",
       "\n",
       "    var x = canvas_pos.x * mpl.ratio;\n",
       "    var y = canvas_pos.y * mpl.ratio;\n",
       "\n",
       "    this.send_message(name, {x: x, y: y, button: event.button,\n",
       "                             step: event.step,\n",
       "                             guiEvent: simpleKeys(event)});\n",
       "\n",
       "    /* This prevents the web browser from automatically changing to\n",
       "     * the text insertion cursor when the button is pressed.  We want\n",
       "     * to control all of the cursor setting manually through the\n",
       "     * 'cursor' event from matplotlib */\n",
       "    event.preventDefault();\n",
       "    return false;\n",
       "}\n",
       "\n",
       "mpl.figure.prototype._key_event_extra = function(event, name) {\n",
       "    // Handle any extra behaviour associated with a key event\n",
       "}\n",
       "\n",
       "mpl.figure.prototype.key_event = function(event, name) {\n",
       "\n",
       "    // Prevent repeat events\n",
       "    if (name == 'key_press')\n",
       "    {\n",
       "        if (event.which === this._key)\n",
       "            return;\n",
       "        else\n",
       "            this._key = event.which;\n",
       "    }\n",
       "    if (name == 'key_release')\n",
       "        this._key = null;\n",
       "\n",
       "    var value = '';\n",
       "    if (event.ctrlKey && event.which != 17)\n",
       "        value += \"ctrl+\";\n",
       "    if (event.altKey && event.which != 18)\n",
       "        value += \"alt+\";\n",
       "    if (event.shiftKey && event.which != 16)\n",
       "        value += \"shift+\";\n",
       "\n",
       "    value += 'k';\n",
       "    value += event.which.toString();\n",
       "\n",
       "    this._key_event_extra(event, name);\n",
       "\n",
       "    this.send_message(name, {key: value,\n",
       "                             guiEvent: simpleKeys(event)});\n",
       "    return false;\n",
       "}\n",
       "\n",
       "mpl.figure.prototype.toolbar_button_onclick = function(name) {\n",
       "    if (name == 'download') {\n",
       "        this.handle_save(this, null);\n",
       "    } else {\n",
       "        this.send_message(\"toolbar_button\", {name: name});\n",
       "    }\n",
       "};\n",
       "\n",
       "mpl.figure.prototype.toolbar_button_onmouseover = function(tooltip) {\n",
       "    this.message.textContent = tooltip;\n",
       "};\n",
       "mpl.toolbar_items = [[\"Home\", \"Reset original view\", \"fa fa-home icon-home\", \"home\"], [\"Back\", \"Back to  previous view\", \"fa fa-arrow-left icon-arrow-left\", \"back\"], [\"Forward\", \"Forward to next view\", \"fa fa-arrow-right icon-arrow-right\", \"forward\"], [\"\", \"\", \"\", \"\"], [\"Pan\", \"Pan axes with left mouse, zoom with right\", \"fa fa-arrows icon-move\", \"pan\"], [\"Zoom\", \"Zoom to rectangle\", \"fa fa-square-o icon-check-empty\", \"zoom\"], [\"\", \"\", \"\", \"\"], [\"Download\", \"Download plot\", \"fa fa-floppy-o icon-save\", \"download\"]];\n",
       "\n",
       "mpl.extensions = [\"eps\", \"jpeg\", \"pdf\", \"png\", \"ps\", \"raw\", \"svg\", \"tif\"];\n",
       "\n",
       "mpl.default_extension = \"png\";var comm_websocket_adapter = function(comm) {\n",
       "    // Create a \"websocket\"-like object which calls the given IPython comm\n",
       "    // object with the appropriate methods. Currently this is a non binary\n",
       "    // socket, so there is still some room for performance tuning.\n",
       "    var ws = {};\n",
       "\n",
       "    ws.close = function() {\n",
       "        comm.close()\n",
       "    };\n",
       "    ws.send = function(m) {\n",
       "        //console.log('sending', m);\n",
       "        comm.send(m);\n",
       "    };\n",
       "    // Register the callback with on_msg.\n",
       "    comm.on_msg(function(msg) {\n",
       "        //console.log('receiving', msg['content']['data'], msg);\n",
       "        // Pass the mpl event to the overriden (by mpl) onmessage function.\n",
       "        ws.onmessage(msg['content']['data'])\n",
       "    });\n",
       "    return ws;\n",
       "}\n",
       "\n",
       "mpl.mpl_figure_comm = function(comm, msg) {\n",
       "    // This is the function which gets called when the mpl process\n",
       "    // starts-up an IPython Comm through the \"matplotlib\" channel.\n",
       "\n",
       "    var id = msg.content.data.id;\n",
       "    // Get hold of the div created by the display call when the Comm\n",
       "    // socket was opened in Python.\n",
       "    var element = $(\"#\" + id);\n",
       "    var ws_proxy = comm_websocket_adapter(comm)\n",
       "\n",
       "    function ondownload(figure, format) {\n",
       "        window.open(figure.imageObj.src);\n",
       "    }\n",
       "\n",
       "    var fig = new mpl.figure(id, ws_proxy,\n",
       "                           ondownload,\n",
       "                           element.get(0));\n",
       "\n",
       "    // Call onopen now - mpl needs it, as it is assuming we've passed it a real\n",
       "    // web socket which is closed, not our websocket->open comm proxy.\n",
       "    ws_proxy.onopen();\n",
       "\n",
       "    fig.parent_element = element.get(0);\n",
       "    fig.cell_info = mpl.find_output_cell(\"<div id='\" + id + \"'></div>\");\n",
       "    if (!fig.cell_info) {\n",
       "        console.error(\"Failed to find cell for figure\", id, fig);\n",
       "        return;\n",
       "    }\n",
       "\n",
       "    var output_index = fig.cell_info[2]\n",
       "    var cell = fig.cell_info[0];\n",
       "\n",
       "};\n",
       "\n",
       "mpl.figure.prototype.handle_close = function(fig, msg) {\n",
       "    var width = fig.canvas.width/mpl.ratio\n",
       "    fig.root.unbind('remove')\n",
       "\n",
       "    // Update the output cell to use the data from the current canvas.\n",
       "    fig.push_to_output();\n",
       "    var dataURL = fig.canvas.toDataURL();\n",
       "    // Re-enable the keyboard manager in IPython - without this line, in FF,\n",
       "    // the notebook keyboard shortcuts fail.\n",
       "    IPython.keyboard_manager.enable()\n",
       "    $(fig.parent_element).html('<img src=\"' + dataURL + '\" width=\"' + width + '\">');\n",
       "    fig.close_ws(fig, msg);\n",
       "}\n",
       "\n",
       "mpl.figure.prototype.close_ws = function(fig, msg){\n",
       "    fig.send_message('closing', msg);\n",
       "    // fig.ws.close()\n",
       "}\n",
       "\n",
       "mpl.figure.prototype.push_to_output = function(remove_interactive) {\n",
       "    // Turn the data on the canvas into data in the output cell.\n",
       "    var width = this.canvas.width/mpl.ratio\n",
       "    var dataURL = this.canvas.toDataURL();\n",
       "    this.cell_info[1]['text/html'] = '<img src=\"' + dataURL + '\" width=\"' + width + '\">';\n",
       "}\n",
       "\n",
       "mpl.figure.prototype.updated_canvas_event = function() {\n",
       "    // Tell IPython that the notebook contents must change.\n",
       "    IPython.notebook.set_dirty(true);\n",
       "    this.send_message(\"ack\", {});\n",
       "    var fig = this;\n",
       "    // Wait a second, then push the new image to the DOM so\n",
       "    // that it is saved nicely (might be nice to debounce this).\n",
       "    setTimeout(function () { fig.push_to_output() }, 1000);\n",
       "}\n",
       "\n",
       "mpl.figure.prototype._init_toolbar = function() {\n",
       "    var fig = this;\n",
       "\n",
       "    var nav_element = $('<div/>')\n",
       "    nav_element.attr('style', 'width: 100%');\n",
       "    this.root.append(nav_element);\n",
       "\n",
       "    // Define a callback function for later on.\n",
       "    function toolbar_event(event) {\n",
       "        return fig.toolbar_button_onclick(event['data']);\n",
       "    }\n",
       "    function toolbar_mouse_event(event) {\n",
       "        return fig.toolbar_button_onmouseover(event['data']);\n",
       "    }\n",
       "\n",
       "    for(var toolbar_ind in mpl.toolbar_items){\n",
       "        var name = mpl.toolbar_items[toolbar_ind][0];\n",
       "        var tooltip = mpl.toolbar_items[toolbar_ind][1];\n",
       "        var image = mpl.toolbar_items[toolbar_ind][2];\n",
       "        var method_name = mpl.toolbar_items[toolbar_ind][3];\n",
       "\n",
       "        if (!name) { continue; };\n",
       "\n",
       "        var button = $('<button class=\"btn btn-default\" href=\"#\" title=\"' + name + '\"><i class=\"fa ' + image + ' fa-lg\"></i></button>');\n",
       "        button.click(method_name, toolbar_event);\n",
       "        button.mouseover(tooltip, toolbar_mouse_event);\n",
       "        nav_element.append(button);\n",
       "    }\n",
       "\n",
       "    // Add the status bar.\n",
       "    var status_bar = $('<span class=\"mpl-message\" style=\"text-align:right; float: right;\"/>');\n",
       "    nav_element.append(status_bar);\n",
       "    this.message = status_bar[0];\n",
       "\n",
       "    // Add the close button to the window.\n",
       "    var buttongrp = $('<div class=\"btn-group inline pull-right\"></div>');\n",
       "    var button = $('<button class=\"btn btn-mini btn-primary\" href=\"#\" title=\"Stop Interaction\"><i class=\"fa fa-power-off icon-remove icon-large\"></i></button>');\n",
       "    button.click(function (evt) { fig.handle_close(fig, {}); } );\n",
       "    button.mouseover('Stop Interaction', toolbar_mouse_event);\n",
       "    buttongrp.append(button);\n",
       "    var titlebar = this.root.find($('.ui-dialog-titlebar'));\n",
       "    titlebar.prepend(buttongrp);\n",
       "}\n",
       "\n",
       "mpl.figure.prototype._root_extra_style = function(el){\n",
       "    var fig = this\n",
       "    el.on(\"remove\", function(){\n",
       "\tfig.close_ws(fig, {});\n",
       "    });\n",
       "}\n",
       "\n",
       "mpl.figure.prototype._canvas_extra_style = function(el){\n",
       "    // this is important to make the div 'focusable\n",
       "    el.attr('tabindex', 0)\n",
       "    // reach out to IPython and tell the keyboard manager to turn it's self\n",
       "    // off when our div gets focus\n",
       "\n",
       "    // location in version 3\n",
       "    if (IPython.notebook.keyboard_manager) {\n",
       "        IPython.notebook.keyboard_manager.register_events(el);\n",
       "    }\n",
       "    else {\n",
       "        // location in version 2\n",
       "        IPython.keyboard_manager.register_events(el);\n",
       "    }\n",
       "\n",
       "}\n",
       "\n",
       "mpl.figure.prototype._key_event_extra = function(event, name) {\n",
       "    var manager = IPython.notebook.keyboard_manager;\n",
       "    if (!manager)\n",
       "        manager = IPython.keyboard_manager;\n",
       "\n",
       "    // Check for shift+enter\n",
       "    if (event.shiftKey && event.which == 13) {\n",
       "        this.canvas_div.blur();\n",
       "        event.shiftKey = false;\n",
       "        // Send a \"J\" for go to next cell\n",
       "        event.which = 74;\n",
       "        event.keyCode = 74;\n",
       "        manager.command_mode();\n",
       "        manager.handle_keydown(event);\n",
       "    }\n",
       "}\n",
       "\n",
       "mpl.figure.prototype.handle_save = function(fig, msg) {\n",
       "    fig.ondownload(fig, null);\n",
       "}\n",
       "\n",
       "\n",
       "mpl.find_output_cell = function(html_output) {\n",
       "    // Return the cell and output element which can be found *uniquely* in the notebook.\n",
       "    // Note - this is a bit hacky, but it is done because the \"notebook_saving.Notebook\"\n",
       "    // IPython event is triggered only after the cells have been serialised, which for\n",
       "    // our purposes (turning an active figure into a static one), is too late.\n",
       "    var cells = IPython.notebook.get_cells();\n",
       "    var ncells = cells.length;\n",
       "    for (var i=0; i<ncells; i++) {\n",
       "        var cell = cells[i];\n",
       "        if (cell.cell_type === 'code'){\n",
       "            for (var j=0; j<cell.output_area.outputs.length; j++) {\n",
       "                var data = cell.output_area.outputs[j];\n",
       "                if (data.data) {\n",
       "                    // IPython >= 3 moved mimebundle to data attribute of output\n",
       "                    data = data.data;\n",
       "                }\n",
       "                if (data['text/html'] == html_output) {\n",
       "                    return [cell, data, j];\n",
       "                }\n",
       "            }\n",
       "        }\n",
       "    }\n",
       "}\n",
       "\n",
       "// Register the function which deals with the matplotlib target/channel.\n",
       "// The kernel may be null if the page has been refreshed.\n",
       "if (IPython.notebook.kernel != null) {\n",
       "    IPython.notebook.kernel.comm_manager.register_target('matplotlib', mpl.mpl_figure_comm);\n",
       "}\n"
      ],
      "text/plain": [
       "<IPython.core.display.Javascript object>"
      ]
     },
     "metadata": {},
     "output_type": "display_data"
    },
    {
     "data": {
      "text/html": [
       "<img src=\"data:image/png;base64,iVBORw0KGgoAAAANSUhEUgAAA6cAAAOnCAYAAADcHDBwAAAgAElEQVR4XuzdB3hUxd4G8Hc3vQdSkBqqFGmCCFJUqthQARFQQEAEpSp6vX5cVOyKDRBp0kFFpCgiKiAiivTeQw89Cel12/f8T3ZhCdnsbrKb7AnveR4fvGTOnDm/OfHuuzNnRgMeFKAABShAAQpQgAIUoAAFKECBUhbQlPL1eXkKUIACFKAABShAAQpQgAIUoAAYTvkQUIACFKAABShAAQpQgAIUoECpCzCclnoXsAEUoAAFKEABClCAAhSgAAUowHDKZ4ACFKAABShAAQpQgAIUoAAFSl2A4bTUu4ANoAAFKEABClCAAhSgAAUoQAGGUz4DFKAABShAAQpQgAIUoAAFKFDqAgynpd4FbAAFKEABClCAAhSgAAUoQAEKMJzyGaAABShAAQpQgAIUoAAFKECBUhdgOC31LmADKEABClCAAhSgAAUoQAEKUIDhlM8ABShAAQpQgAIUoAAFKEABCpS6AMNpqXcBG0ABClCAAhSgAAUoQAEKUIACDKd8BihAAQpQgAIUoAAFKEABClCg1AUYTku9C9gAClCAAhSgAAUoQAEKUIACFGA45TNAAQpQoOQE3gLwptXlsgEcBTAVwKwiNuM0gHUAnjOf/yyAuQCqAjjnRJ3Stv8B8LZzTkHlTADGA3jXfG7+MuEAxgBYDmCfE226FYqOBTAKQGUABwA0ddNNS5/8AeCvfPXnf35sXd7RctbnF+UcR28//zPn6HnFKfcMgIUAagCQe7N11AIwA8DdAEIAPAFgZXEu7IHn3g/gXgBve2Db2CQKUEDFAgynKu48Np0CFFCdgCW0tTW3PMocTDoBeArA90W4o/wBQOqUD8e7AOQ6UZ+j4bSKOUhttao7f1DIX6Y6gFMA+gFY5ESbynrRxgD2AphoDi9pAPa76aZthTlHA+SdAFIAnHSifY7W7USV14p6cjiVL2GaARgGINn8BVRSUW7Sg89x9L8XHnwLbBoFKOCJAgynntgrbBMFKFBWBQr6QBcEIA7ANgBdi3DjrgoAxfmwaS8oqC2c+gHIKUJfOHuKfCHxnfnLBGdCn63rFNbu4oZTZ+9Nyrvq2Szo2vaeuaK01945jo6cHgawHUB/exU68HMfAHoAcr+edBTnvxeedB9sCwUo4GECDKce1iFsDgUoUKYFbH2gk1HIUAD18929jKi+AaC5+QPqWgAvmcOspagj03pHA+gDoK75Q66Mzv0fgH+srmdpWwsAX5mnl14A8A6AeQWUs57+W9i0Xkswzd+x7c33chuAlvl+2NE8VfkeAFsKeSK6ABhn9jECOGieXizTnC3Xlev8aVVH/mnPlnLPA5CRTAmMvgCGm0d5a5pHfS1VyP9vyijwbwCGmv+yAoD3ATwMoBwACScyffvHQtoupgPy/XwCAOkHmQb9oXk6qPz7MQAfm6eUWk6x9Jc8G5MBSL/J1HDp6/xHQcFmoLlfLc/P32bLiuZR9xfMnraeM/n7281TuTsAkC9ZpK7pACaZT8r/bAYA+AFAEwCdzU62iArrWzmnoHD6iNm9EYAMAGsAvArgotVF5DzLvVv+WqaobgDQDoA4yCHTccW1h/l3b4nZZWYh03ptPeuWz1qOtk+eHS8AgwFUAhABQEZea5ufM/nvgljuBvAfqzZb7seenUy/l2dV6ssEsNPsJL8/lkP+WyTPnPwOSt9eArAawAjzM2r9eoKcc8b8O1fII88fUYACFLAvwHBq34glKEABCrhKoKBwqjWHTfmgKR9eLUc3ACsALDWHEvmAKOdLcJIP9/LhWw5Hwuln5vcZpay/Oaj2BnCXeVqp1CN1y3ujUuZLc3CQ8CTlZERXwpilXP53UwsLpzKa95D5fVO5hqWeQwDaAPjFfD/W76J+C6AhAAkZto4nAUhg+B3A1wBkSqzcj3yInl2EcCoBRgKKTDuWNssXAZcBfADgPatGyJTsTQDuM7+/GQZgBwD5/1P50C+BXgKuBCDpT7m/gg6Zei0jcWLS3Ryg5B1haYfUf4c5LB4395eMwkmAtrybbOkvCcryZYI8PxI0rKdbW67bCsC/5vcgLV80nAAQb+5vabuM3n8CQJ5HmWYsYb8eAION50yCjYwOSh1iJOFEwqqEeQlM+Z9NcfoZgAR5CaZSvqh9K+flf+YkbK0yX0Pe94w2t0umIssUW8vvi6PhVKbYS53y5ccRAPKlhvS9vBts651TeW5k+rP8zsrzLF/syCFfsDjTPnkG5HzpVznkWZT7kRApbhIaU83Thh8wf7kj08PlsPd7IWXk90PePz4PQPpFvmSR30Xpb0uQtzwfH5mDcQwAeY7kSwuZti/Pn8VE6pSZBvIM8qAABShQLAGG02Lx8WQKUIACTglYwqkERDnk/dDXzB8OZbRws1Vt8uFQRuCsA6uMzMgomoyOTTOXdSScWjdSRmTkv/3yYXa9+Z1X+bllsSZZnGeK1QnygVg+eLY2/11RFkSyNa1XgpDcp4SWkeb6ZZRIPjRLwJGRq4IOaf9Z8wimhMSCRgadHTmVhYKkLutDgqoEmwZWfynuEjTkw7pcV0a2pQ9lpEnaZDkkUMhoeP5RYev6C5om+iiAnwD0MoccS3kJ9RLWJRzJdS39JaNrcxx4Cgub1htoDpXp5nokLC8zt12mm8uR/zkTG3k2JaQm2Li+5RwJeNJ+aYOEqSuFtNeRvpXT89+PPKeWL24kWMsho37yOyWBSkZ0LefZGzmVvpRRRBkltAREOVeuIc+DvQWR5AsFGYGV8GY5nGmffOEgQV+m81oO6WOxk7ZJMJVDfpdlES0JsvKFiKN21vxSh0wdli91ZHEj+SIr0vylw2PmZ7Gg7uK0Xgd+6ViEAhRwXoDh1HkznkEBClCgqAL5V+u11CMfYudbVVrHHEKfLmCRJFnoSD6Q9jWXdyScyqqhMmVUpoBKILYcEhgs77la2ibTCK2nQcr0X/mZTCOUUTRXhlNph9QvUy/lulnmqb4yRVZC2FUb0DLCI8E9v5t1cWfDqbRBRg6tjwfNI58yGrbH/CFebGSk9r/mgjI1WkZtrb9EkB/J6sQy6iQj3rIqc0FHQeFURi3lCwLxtoQsOdcyHVmmZssXFJb+kv60FQ6tr1lYOJXgJNNXLYdcQ0YLZRROpuHKkf85kzAj02Yl6Nk65Bxpq4Q5cZPgLSOZhR2O9K2cb30/webAJiP/1qPclnZLQLX8vjgyciozBmSEuaDfBanf2XDqbPtk9W4JxtaHfGEjX+LIdHPr43Nz30lbHbWTab8y+0FmJ8g0dMshI86yiJN8NpR3oGUk/lPzKGv+1YkZTu08yPwxBShQNAGG06K58SwKUIACRRGwfKCT6XHy31/5kCtT/2QUToKj5Z0vmWJnefetoOvIVFYZRbF8+C5sK5lq5hVgJdDKiKhMHZWwJB9EJVTJ+3ZyWMKOvEtqmcopfy8jcxLG5N1Qmebq6nAq0zxlSqlcR7bpEAOZHijBzdZh8ZHpoXLvBR3OhlOZNivXtz7EQqbpyhcHEl4lgMrUUXk31bKqbqx59NBWW/MHHOtyBYVTsZa+la2ArA/5EkHCoDw7MnXXMq1XRr4cOZxZEKmgke784VRnDt8Scmwdco4EMxkNt56SXFh7HelbOd/6fmSaqTxDsp2STFm1PmRKrbyvKV80WM6zN3IqXzzIVGVbvwvOhlNn2yej8ZYpwZZ7EW9b2zzJqtwypdgRO5n6LlO85b8hYiVfMsj58lzLl1WW0V4ZEZcvtGRKvrz3LF8GyQi4vGogB8OpI791LEMBCjgtwHDqNBlPoAAFKFBkgYI+0MkHXQlksmiPfBCUQ6buyTuZsgdm/n0p5ecyrU9GpOSwN3I6BIAs4iIL3cgHUcsh02nlA33+cFrSI6fSHnm/T8Lv6+ZQLm3aWIiyZWSvsJFTqU9G6yToyQdxyyGmMkJq2QfW3krCEuhln0oJ+YvN74JKOLUcEhTlfUbLe5b5my3TpyVYFHTYGjmVKc4y1bagkVOZ7imB2Nlw4OpwKra/OjByKl8eSMCXEXLZSkjeJy7scKRv5XxnRk5ldFtmIcghX8zIyLT8TlgOGTWWEWLLgkglPXJq3T5b/SRfDImljJTmP+QcGf12xE5GfuX+ZcTUMm1YvuCQUVLpG+upyHId+Zl8cSbBVKazyxR3y8i9I/si2+lu/pgCFKDAjQIMp3wiKEABCpScgK1AIaM0MlojoxryIbOgFWFttdJeOJX3U78wv0eWaK7EMsIiATB/OHXHO6cSjCWgSFCWkcH8h2V1XhktlpFUCWCFHeIj9y3/5H9P1HKelJFpwhKK5D06yyHv2crqso6GU8tiQjIlVRZgkvfyZLqu5ZD/LaOC8oWCs3tZFvbOaU/ze5+W68ioqSyEZf3OqTPhQN4blinD+Uc6C9ruxZGRUxlllpFkWdjJ1vRr67olFMm7ubJqtCwYZOtwpG/l3ILeOZWRxaZW7yBb+s76nVMJVhKq5Tm3HPI+p4ymWsKpu945daR9tsLpAvNiSxIUbe1f7IidhFsJoPJeqWWGhAR3eYdYZgjkD6cWI8uevJb3UOWLJJl+L+/52vrypeT+y8orUYACZUaA4bTMdCVvhAIUUIGArXAq0x5lERRZRMfy7p+EoeXm0Qz5M9n8DpxsjSIfrmXBGjnshVN5r0zel5RzZIsPmUIs7ZAPwTJ6ah1O3bFar7RRFj6SVV2lHXJtCY1HzdOK5efy/0Xyv+VdWxmBlBBl75DwJiOucl8yPVFGk2WxGrmOZYEgCVAyHVZGS2URHgmDsuKqGDgaTqUdssCNLGIlo8oS3KwXPpIpjzJ6Kh/Q5YO/mMoKqPJhXoKkvMNn6ygonMpIlazWKyNUMlol15YVkyU05F+t15lwKvbSD/IurFjJ8yZfVhQ1nEoolVWKZURPtr2RVWTl76QPJYQW9GxKOekLWbxHnmlbhyN9a2u1XllMSkZFZXVbCU+yyJMEVhkZlEOmy75sbqM8czIaKIFL+tV6KxnLar3y5YaUc2S1Xsv9FLQgkmW1XnvtsxVO5ZmV1ZFl1FwWaZLp+RIwJaxKyJTfXTns2Vmmh8s7tRJI5TmVPpGRemmb3Kf8nTzL8mWMPM/y7EuYl8W9ZHRW+vxx8xRf+VJNVrmW32nLVHd7v7v8OQUoQAGbAgynfDgoQAEKlJxAYVMxZWRJPujJFiKyGI0c8mFZAoiMAMkIhSyKIqOdspWEfGAuKADk38dTyshiMHJtmZoqdcsHbvmALiM51uFUriWjt7IirSwCJKOdMjJYnH1OLboStiUsyLts8mE3//6jMhope7jK+3mFreZq3VvyHqG0Wdoq4dCyz6mMjspRHoAsLiNTe+UD/FzzlETZjsWZcCoG8uG/oBV95Try5YK8nyfb/8h0Ygl98kFdQvJ3hTxeBYVTKS6BVzxkOrEEXRntk8Auo2eWw9lpvbLasgQOeb5kkab8+5zK+5qWw5GRUykrC/BIn0pfSp9K4JVnx7Lac0HBV55dCciy2FJh+8Da69uCQpw8Y7L/pnwhI2HUss+pPMeWQxaakkV+5EsgeU9TpvOuNL9zaR1OZaVl631OpR9lVoM8O86+c2r9O2CvfbbCqdQhAVWeRXme5dmW3xNpkzzj1lPX7dnJ75n0gQR4eb9b/v0bqxWG5e9l6rs8M/IFi0xbl2As78LKn3LIlyjiKKtKW94bl+eGBwUoQIFiCTCcFouPJ1OAAhSggIsEJMxZVoh1UZWshgIUoAAFKEABNQkwnKqpt9hWClCAAmVLQEauZCquvLsoo7kyUiMrifKgAAUoQAEKUOAWFGA4vQU7nbdMAQpQwEMELNNHZUEdeR/RkXdNPaTpbAYFKEABClCAAq4WYDh1tSjrowAFKEABClCAAhSgAAUoQAGnBRhOnSbjCRSgAAUoQAEKUIACFKAABSjgagGGU1eLsj4KUIACFKAABShAAQpQgAIUcFqA4dRpMp5AAQpQgAIUoAAFKEABClCAAq4WYDh1tWjB9Ymz7AGnL5nL8SoUoAAFKEABClCAAhSgAAVKTED2Ts8GIPs1F/lgOC0ynVMnyqbfsiE4DwpQgAIUoAAFKEABClCAAmVRIBBAVnFujOG0OHqOn+sDIDcjIwM+PvKvPChAAQpQgAIUoAAFKEABCqhfQKfTISgoSG7EF4CuOHfEcFocPcfPVcJpbm4uw6njZixJAQpQgAIUoAAFKEABCni4gIRTX1/JpQynHt5V15rHcKqWnmI7KUABClCAAhSgAAUoQAGHBRhOHabymIIMpx7TFWwIBShAAQpQgAIUoAAFKOAqAYZTV0mWXD0MpyVnzStRgAIUoAAFKEABClCAAiUkwHBaQtAuvAzDqQsxWRUFKEABClCAAhSgAAUo4BkCDKee0Q/OtILh1BktlqUABShAAQpQgAIUoAAFVCHAcKqKbrqhkQyn6usztpgCFKAABShAAQpQgAIUsCPAcKq+R4ThVH19xhZTgAIUoAAFKEABClCAAgynZe4ZYDgtc13KG6IABShAAQpQgAIUoAAFOHKqvmeA4VR9fcYWU4ACFKAABShAAQpQgAIcOS1zzwDDaZnrUt4QBShAAQpQgAIUoAAFKMCRU/U9Awyn6usztpgCFKAABShAAQpQgAIU4MhpmXsGGE7LXJfyhihAAQpQgAIUoAAFKEABjpyq7xlgOFVfn7HFFKAABShAAQpQgAIUoABHTsvcM8BwWua6lDdEAQpQgAIUoAAFKEABCnDkVH3PAMOp+vqMLaYABShAAQpQgAIUoAAFOHJa5p4BhtMy16W8IQpQgAIUoAAFKEABClCAI6fqewYYTtXXZ2wxBShAAQpQgAIUoAAFKMCR0zL3DDCclrku5Q1RgAIUoAAFKEABClCAAhw5dc0z0BvAcABNAAQC8LZT7V0AvgLQEMBFAG8CWORgUxhOHYRiMQpQgAIUoAAFKEABClBAPQIMp67pqwcAlAcQAGCmnXAaBuA4gE8AfAHgXgArAHQG8K8DzWE4dQCJRShAAQpQgAIUoAAFKEABdQkwnLq2v+4HsM5OOB0IYAKAGAAm8+UXAtADkJ/ZOxhO7Qnx5xSgAAUoQAEKUIACFKCA6gQYTl3bZY6EUxktrQ7gcatLvwSgH4BmBTTHC4DW6u9lynBmbm4ufHwkp/KgAAUoQAEKUIACFKAABSigfgGGU9f2oSPhdLZ5ZHWA1aVlxHQcgNoFNOct8zupN/yI4dS1HcfaKEABClCAAhSgAAUoUNYFTp48ibi4ONx3330eeasMp67tFkfCKUdOXWvO2ihAAQpQgAIUoAAFKEABOwLHjh1Ds2bNEBwcjIMHDyIiIsLjzBhOXdsljoRTGSWV0VB559RyLABg4Dunru0M1kYBClCAAhSgAAUoQAEK5AmYTCZ069YNlSpVwieffIKQkBCPo2E4dU2XyHuh8gKorLz7C4Bgc7U5VoseWa4UDiAWwMcAJgFoB+BHrtbrmo5gLRSgAAUoQAEKUIACFKAAYDQaMW3aNHTp0gV16tRRSCT8efK6NQynrnlynwUwt4CqagCoCmANgAYAzprLtAAwFUAj8z6nb3CfU9d0BGuhAAUoQAEKUIACFKAABYAvvvgCL730Etq1a4eNGzdCo9F4PAvDqcd30U0N5FYy6usztpgCFKAABShAAQpQgAIlKpCenq5M4x03bhw6duxYotcu6sUYTosqV3rnMZyWnj2vTAEKUIACFKAABShAAY8UkJV43377bXz11VcIDAz0yDbaaxTDqT0hz/s5w6nn9QlbRAEKUIACFKAABShAgVIV6NSpE9avX48333wTb70l66+q72A4VV+fMZyqr8/YYgpQgAIUoAAFKEABCrhV4MiRI/jyyy/xwQcfeORKvI7cPMOpI0qeVYbh1LP6g62hAAUoQAEKUIACFKBAiQrISrxTp07F1q1bsXDhQlUsduQIEMOpI0qeVYbh1LP6g62hAAUoQAEKUIACFKBAiQokJiaiXr16SEhIwLZt29CihWwGov6D4VR9fchwqr4+Y4spQAEKUIACFKAABShQLAEZLTWZTPDy8lLqWb16Nfz9/VWzEq8jN89w6oiSZ5VhOPWs/mBrKEABClCAAhSgAAUo4FaBEydOYNCgQejatStef/11t16rNCtnOC1N/aJdm+G0aG48iwIUoAAFKEABClCAAqoU+Pfff9G2bVvUqVMH+/btg6+vryrvw16jGU7tCXnezxlOPa9P2CIKUIACFKAABShAAQq4VEDeK42IiLhW54oVKyDbxYSEhBTtOunxQHaK7XP9w4DgqKLV7aKzGE5dBFmC1TCcliA2L0UBClCAAhSgAAUoQIGSFpgxYwbGjh2LlStXKoG02Ed6PEyTGkOjy7RZlcknEJrR+0o1oDKcFrunS7wChtMSJ+cFKUABClCAAhSgAAUoUHICsl/pyJEjMWHCBLzxxhvFvvDVs4dQfs49duu5OuhflK/WwG45dxVgOHWXrPvqZTh1ny1rpgAFKEABClCAAhSgQIkLyEq8R44cQYMGecFQ/vfOnTtdtkVMXOxeVF18r937inv6L1St08RuOXcVYDh1l6z76mU4dZ8ta6YABShAAQpQgAIUoECJCmRlZeGBBx7A3r17ceDAAVStWtXl12c4dTkpKzQLMJzyUaAABShAAQpQgAIUoEAZEujfvz82bdqEH374Ac2bN3f5nTGcupyUFTKc8hmgAAUoQAEKUIACFKCA+gWOHz+OnJwc3HHHHcrNpKSkwMvLC8HBwW65OYZTt7CyUgAcOeVjQAEKUIACFKAABShAAZUKyJ6lHTt2VPYs3b59u9N7liZmJSItN83m3Yf4hiAi4PoWNFIwYe1niPxngl0xvnNql4gF8gkwnPKRoAAFKEABClCAAhSggEoFcnNzcffdd6Nt27b4+OOPERgY6PCdSDB9cPmDyNJn2TwnwDsAa7qvyQuoJhPw92fA+rcdugbDqUNMLGQlwHDKx4ECFKAABShAAQpQgAIqEZCVd6dPn44+ffqgXLlySqtlEaSAgACn7+B0ymk8uvJRu+etenwVqgdXBn5+Cdi9EEZ4QWfSwE+jt3lupskPVwZtQ/WY6nbrd1cBrtbrLln31ctw6j5b1kwBClCAAhSgAAUoQAGXCrz22mvKCKksejR//vxi1e1wOH3oG1Rf8z/g5J8w+obgZYzFptQKCNVk2rx+rncIfnztcUQG+xWrjcU5meG0OHqlcy7Daem486oUoAAFKEABClCAAhRwWiAuLg7dunXDZ599hvbt2zt9vvUJDofTjABUv3IUxrCqGKV5HT9fCkezauF4v3sj+HppC2xDaIBPqQZTaRTDabEej1I5meG0VNh5UQpQgAIUoAAFKEABCtgXiI2NVabxTpw4EVptXhA0mUzQaDT2T7ZTwuFwGncBMdGN8bLX61gRq8PtFYKxdFhrhAVIlPDcg+HUc/vGVssYTtXXZ2wxBShAAQpQgAIUoMAtICDvl8r2MEeOHMHs2bMxaNAgl961o+H0J5+6mOv7GhbsuIIKoX5Y/mIbVA53/h1XlzbegcoYTh1A8rAiDKce1iFsDgUoQAEKUIACFKAABSwC69atw48//ogPP/wQQUFBLoU5lXIK3VZ2s1tn7wqTMOvPLAT7eeP7ofegQaVQu+d4QgGGU0/oBefawHDqnBdLU4ACFKAABShAAQpQwC0CBoMBkydPRlJSEt5+27HtWorTkLf/fRtLjy21W0X6ibHw0kdj/qC70aZ2pN3ynlKA4dRTesLxdjCcOm7FkhSgAAUoQAEKUIACFHCbgLxf2rBhQ0hIPXHiBGJiYtx2rQUHF2Dijol26zcZfZBx/DV81rMNnrizit3ynlSA4dSTesOxtjCcOubEUhSgAAUoQAEKUIACFHC5gLxXalnoSCqfNWsWbr/9dtx3330uv5alwp9O/IRxf4+DVqPF263fRpOAisDPo4H4Y0BQNPDoF4g1VcKY7/YgM9sXr3Zujhfvr+229rirYoZTd8m6r16GU/fZsmYKUIACFKAABShAAQrYFDh27BgGDhyIMWPG4MknnywRqT/j/sSYDWNgMBmUYPpESG1gcS8g7QJQoRHQdwnOGcuh+1ebcSUtB8+0qoZ3HmvoktWBS+QGrS7CcFrS4sW/HsNp8Q1ZAwUoQAEKUIACFKAABZwW+Oabb/D000+jVatW2Lx5s9sD4M7LOzF07VDkGHIwtvlYPOtXGVj6LJCbDtTpAvScg2SDH3pO/xfHr6Sjc4MKmP5Mc3hpi79tjdM4LjiB4dQFiCVcBcNpCYPzchSgAAUoQAEKUIACt65Aeno6goODFQDZr/Trr79G3759Xb4Sb37ho1ePYuCvA5GmS8PAhgPxsjEM+OVVwGQAWjwHdP0I2UYN+s/ehm2nr6Jp1XB8O6QVAny9VNtZDKfq6zqGU/X1GVtMAQpQgAIUoAAFKKBCgS+++EJZhVdGSevVq1didxCXGof+v/ZHQlYCutd+Am+l6aHZMhWABujyLnDPcBhNwMhvd2P1/ouoHhGIZS+0RkSwX4m10R0XYjh1h6p762Q4da8va6cABShAAQpQgAIUoIAiIO+WTpo0SdkuZuTIkSWiEp8Zj/5r+uNc+jl0qHIfPo1PgveRnwHvAKDHLKD+o0o73vn5EGb/fQoRQb5Y/mJrxES4dk/VErnZfBdhOC0N9eJdk+G0eH48mwIUoAAFKEABClCAAgUKyJYw586du7YlTGZmJnbv3o02bdqUiFhqbqoylfdY0jG0iGqCaefPw+/8rrwVeft+B1RurrTj600n8e7qwwjw8cJ3z7dCk6rhJdI+d1+E4dTdwq6vn+HU9aaskQIUoAAFKEABClDgFhdISEhAt27dcOnSJezbt+/ae6YlxZKlz8KwtcOw68ou1A+tgTlnTiE4+SwQVQ/o+z1QLm8P1Z/3XcCIb3ZD1jz6esBd6FCvgsNN1CcmwpCaarO8V2govCMiHK7P1R2AIHsAACAASURBVAUZTl0t6v76GE7db8wrUIACFKAABShAAQrcYgIyaip7lUo4/fnnn0v0HVOdUYeXNryEjec2IiYgCvNPnUBEVjJQ837gyflAQN7I6NaTieg3extyDUZ80L0R+txdzeFekmB6vFNnmLKybJ6jCQhA7XVrSy2gMpw63J0eU5Dh1GO6gg2hAAUoQAEKUIACFFCzwNGjRxEaGoqKFSsqt3HhwgWEh4cjMDCwxG7LaDJi/D/j8dOJnxDtHYwFp0+gsi4HuPMZ4JEvAC/5+A/EXk5Dj2mbkZqtx6gOtfFyl7pOtTHn1CmcfPAhu+fUXPML/GrUsFvOHQUYTt2h6t46GU7d68vaKUABClCAAhSgAAVuAYFffvkFPXr0QKdOnfDTTz+5fc/Sgkhla5qJOyZi4aGFCNX4Yn7cGdTW6YCObwBtXwY0efuVXk7NRvevNuN8chZ6NKuCT55s7HR7GU5vgYe6FG6R4bQU0HlJClCAAhSgAAUoQIGyJZCYmIhGjRqhV69emDhxInx88kYoS/L4ev/XmLRrEgKgxcwLF9BUrwEe/wpo1PNaM9Kydeg1YwsOX0xFuzqRmPNsC/h4aZ1uJsOp02Q8wQEBhlMHkFiEAhSgAAUoQAEKUIAC1gLyTun8+fPRr1+/a0E0JSUFYWFhpQL1w7EfMOHfCfA2AVMuX0FbBAJ9vgWqtbrWnly9EYPmbcffxxPQoGIovh92D4L9vIvUXobTIrHxJDsCDKd8RChAAQpQgAIUoAAFKOCkwMCBAzFv3jy8/fbbGD9+vJNnu7b42jNr8cqfr8BkMuLD+AQ85FcReHopEFHr2oVkyu/YpXuxfNd5VA4PwIoXWyM61L9IDTFmZuLKlC+RNHeu3fP5zqldIhawEmA45eNAAQpQgAIUoAAFKEABJwW2b9+O/v37Y+bMmWjXrp2TZ7uu+NaLW/HC2mHQmfR4PeEq+pZrDPReDASWv+Ein/x2FF9uOI6wAB8se+Ee1I4OcboRxpwcJC9ZgoQZM2FITHTofIZTh5hYyCzAcMpHgQIUoAAFKEABClCAAnYEjhw5glWrVuHVV1+9VlKm9np5eZWa3cGEgxi0pj8yjbl4ISkFL1btAjw2FfD2u6FNi7eewbgVB+DrrcXi51qiRfUbg6u9GzDpdEhethwJ06ZBf/myUjzgzjuRtXu3vVPBcGqXiAWsBBhO+ThQgAIUoAAFKEABClCgEIGsrCzExMQgPj4ea9euVVbkLe3jZPJJPLuqF5KMOeidmob/a/AcNB3GXVuR19K+dYcu4/mFO2AC8FXfZniwUd42N44cJoMBKatWIWHqV9DFxeWF0mbNEDVmNPxq1eI+p44gsoxTAgynTnGxMAUoQAEKUIACFKDArSgg03cPHz6M9957r0T3LS3I+lJqHPqtfAKXTDnompGFj1q9BW2zZ24quvtsEvrM2oJsnRFvPNIAg9o6tt+oyWhE2u9rET9lCnJPnFDq9b/jDiWUBrVte23bGX1iIgypqTYfB6/QUHhHRJTa48J9TkuNvsgXZjgtMh1PpAAFKEABClCAAhQoiwIyXfezzz5DREQEBg0a5FG3mJx8BgN+fAInoUPrHB2+7DAVPrU73tTG0wkZ6D5tM65m5GJIuxoY93ADu/chiyal//kn4idPQc7hw0p5vzq1ETlqFEI6dXJ6L1S7F3RzAYZTNwO7oXqGUzegskoKUIACFKAABShAAfUKbNq0Cffee6+yLcyZM2dKbXuY/IKZ8Yfx3KqnsN/LhMZ6YNZDixBYsclN0InpOUowPZOYiYcbV8SU3ndCq9UU2iEZ//6L+C8mIWvvXqWcT0w1RI0YidCHHoSmFN+rLc5TxHBaHL3SOZfhtHTceVUKUIACFKAABShAAQ8SkFFDjeZ6gHvrrbeUd0vbtm3rEa3Und2CEb8OwmY/L9Q0eWH+oz8gPKL2TW3LzNWjz6yt2BuXjLtrlMeCQXfD38f2ok2Zu3YjftIkZG7dqtTlXakiol58EWGPPw6Nd9H2QPUIMAAMp57SE463g+HUcSuWpAAFKEABClCAAhQogwLyLumQIUPw+eefo0WLFh53h4aDK/Hfv17Fr4H+qAgfLHh8OW4Lq35TO/UGI4Yu3In1R66gTnQwfhjWGmGB8nH/5iPr4EHET56MjI1/KT/0iopE5NBhCO/1JLS+vh5nUJQGMZwWRa10z2E4LV1/Xp0CFKAABShAAQpQoJQF3n33XYwfPx6PPfYYVq5cWcqtsbq8yQTT5il4b9fnWBIajHJaXyx4dCmqh9e8qY0y8jtu5QF8s/UsKoT6YfmLbVA5POCmcjmxsYif8iXSfv89L5SGhyNiyHMo17cvtAE3l/ccDOdbwnDqvFlpn8FwWto9wOtTgAIUoAAFKEABCpS4QE5ODvz88vYDlRAzadIkvPjii6W+Eu81CIMeWPMqph5fhunlwhCo9cGchxbijog7CrSauuE4Jv52FMF+3vh+6D1oUCn0hnK5Z84g/supSP35Z8BkgjY4GOUHPovyAwbAKzi4xP1L4oIMpyWh7NprMJy61pO1UYACFKAABShAAQp4sIDRaMQnn3yCr776Cjt37lRW5PW4IycNWDoQi6/8iw8jysNH44VpnWegZcWWBTZ12c5zGLt0L7y1GswbeDfa1om8Vk534QISpk1H8vLlgMEATUAAyj/zDCIGD1JGTcvywXCqvt5lOFVfn7HFFKAABShAAQpQgAJFFJDpr926dcPq1auxaNEi9O3bt4g1uem0lPPAN72wOv0k/hsdCS00+PT+z9ApplOBF9wUG4+Bc7dDbzThs15N0L1ZFaWcPj4eCTNmInnJEph0Omh8fVGuT29EDBkC78jr4dVNd+ER1TKcekQ3ONUIhlOnuFiYAhSgAAUoQAEKUEBtAnq9HklJSYiKilKafuHCBZw6dQpt2rTxrFu5uBf45ils0idhVIVo6DXAW/e8hR639yiwnQcvpOCpGVuQnqPHqw/UxfD2taFPSsLV2bNxddFimLKzAW9vhPfogchhQ+FTsaJn3a+bW8Nw6mZgN1TPcOoGVFZJAQpQgAIUoAAFKOAZAnFxcejZsyd8fX2xceNGaLVaz2hY/lYc+02ZyrtHq8OQShWRDRNGNxuN5xo9V2B7zyVlovtXm3ElLQdPt6yGCZ2qI2nefFydNw/GjAxAo0FYt0cROXw4fKtV88x7dnOrGE7dDOyG6hlO3YDKKilAAQpQgAIUoAAFPEMgPT0djRs3ho+PD9avX48qVfKmvXrUsW0WsOY/iPX2woCqVZFm0qN/g/545a5Xbth71dLmlEwdekzfjONX0tG1VhjeMR1G0uzZMKSkKEVCunZF1Ijh8Kt98z6oHnXfbm4Mw6mbgd1QPcOpG1BZJQUoQAEKUIACFKBA6QnIvqUxMTHXVt49evQoqlWrhgBP2yrFaAB+Hw9smYpz3t7oX7024g2Z6FarG95p8w60mptHebN1BvSfvQ27T1zBkJQ9eOzgWhgTExXs4PvvR9SokfBv0KD08D3oygynHtQZDjaF4dRBKBajAAUoQAEKUIACFPB8gW+++QYDBw5UtoX5/PPPPbfBuRnAsiHA0dVI8AvCgBq342xOIu6vcj8+b/85vLXeN7XdaDRh9KLt0P2yCv1i16N8RpJSJvCeVogaNQqBd97pufdbCi1jOC0F9GJekuG0mIA8nQIUoAAFKEABClDAcwSOHDmC5s2bY/jw4fjoo48KnBZb6q1Nuwx8+xRwYTfSQipgcI3bcTjtDJpFN8OMzjPg7+1/UxNNBgMWvDsTVX5ajEoZeSOlAU2bImrMGAS1KniLmVK/z1JuAMNpKXdAES7PcFoENJ5CAQpQgAIUoAAFKOAZArIS78qVK9GjR49rQfTKlSuIjo72jAbmb8XlQ8pWMUiJQ050fQyrVhM7Evejbrm6mNN1DkJ9Q284w2Q0Im3tOsR++CkCL55VfmasfTtiXn0ZQffe65nh20PkGU49pCOcaAbDqRNYLEoBClCAAhSgAAUo4FkCjzzyiLJnqUzn7dOnj2c1Ln9rTvwBfD8AyEmFvsb9eLlyZWw4vwlVQ6piwYMLEBlwff9R2Y8146+/cGXSJOQcOqzUdCakAkJeGI7WA3sylDrQ0wynDiB5WBGGUw/rEDaHAhSgAAUoQAEKUMBxgaVLl2L8+PGYN28eWrVq5fiJJV1y1wLg55cAox6mO/vjzYgwrDjxoxJIJZhKQLUcGVu2In7SJGTt3q381cWgCCys1wWdR/RD33tqlHTLVXs9hlP1dR3Dqfr6jC2mAAUoQAEKUIACt6zAwYMHsXv3bjzzzDPXDHJzc5V9TD3yMBqBP94B/v4sr3md3sJn/ibMPTgXIT4hmNt1LuqWr6v8KGvPHmWkNPPfLXllo6Ixo3p7rKrYDC92qouxXfLK8XBMgOHUMSdPKsVw6km9wbZQgAIUoAAFKEABCtgUuHz5MmrUqAGDwYA9e/agfv36nq2lywZWvgAcXA54+QHdZ2CuKRmf7fwMfl5+mNl5JppVaIbsQ4cQP2ky0jduVO7HKzISfgMGof/lSjiTrkePZlXwyZONOZXXyd5mOHUSzAOKM5x6QCewCRSgAAUoQAEKUIACjgn897//hdFoxIQJEzxv31LrW8hIAL7rC8RtBQIjgD7fYUX2ebyx+Q14abwwucNktMypjPjJU5D22295oTQsDBFDnoN3jyfRe8E+HL6YinZ1IjHn2Rbw8bp5z1PHxG7dUgyn6ut7hlP19RlbTAEKUIACFKAABW4JAVmJ9+OPP0bLli3RsWNH5Z5loSCNRuPZ958QCyx+Ekg6BUTUAZ7+HuvTT+HlP1+G0WTEx7XGosmqw0hZ9TNgNEIbFITyAwei/ID+MAQEYfD87dgUm4AGFUPx/bB7EOx3856nng3gGa1jOPWMfnCmFQynzmixLAUoQAEKUIACFKBAiQnICrxPP/00atasCdm/1MdHPrp6+HH6n7wR0+xkIKYt8NRCbE89gWFrhyE4OQfvHGuEqA0HAL0eGn9/lO/3DMoPGgTvcuWU4D126V4s33UelcMDsOLF1ogOvXnPUw8X8JjmMZx6TFc43BCGU4epWJACFKAABShAAQpQoCQFZPru0KFDMXjwYM9eideCsncJ8ONwwKgDGvcGuk3G4ZSTGL1sALr8lY6ue7Xw0hmg8fFBeO/eiHx+CLyjoq6RfvLbUXy54ThC/b2x/MXWqB0dUpLcZe5aDKfq61KGU/X1GVtMAQpQgAIUoAAFyqTAgQMHMGbMGGVbmCpVqqjnHk0mYONHwJ8f5LX5/teB+17D6XMHsWLCANy/NRP+Onmp1Avh3bsj8sUX4FOx4g33t3jrGYxbcQC+3losGtwSd9cor57799CWMpx6aMcU0iyGU/X1GVtMAQpQgAIUoAAFyqTAoEGDMHfuXAwbNgzTpk1Txz3qc4FVo4C93wJaH+CxqTDUehhxX3+Fq3PnISDHBJMGCH3kEUSPGAHfmJib7mvdoct4fuEOmABM7dsMDzW6MbiqA8LzWslw6nl9Yq9FDKf2hPhzClCAAhSgAAUoQAG3Cci2MF5eXkr9SUlJmDx5Ml577TX4+6vgXcusJGBJP+D0JsA/HMbH5yDpn9NImDULxuQU5Z6ONYlAx7dnIrhugwIN98Qlo/fMf5GtM2L8Iw0wuG0Nt1nfahUznKqvxxlO1ddnbDEFKEABClCAAhRQvYCsxPvRRx/hxx9/xN9//w1fX1913dPVU3kr8ibGwhgag+SggUhYtByG+ATlPnbV0mDHo3Xw7uBvEOQTVOC9nU7IQPdpm3E1IxfPta2B/z1ScIBVF4zntJbh1HP6wtGWMJw6KsVyFKAABShAAQpQgAIuE8jNzcVdd92FgwcP4tdff0Xnzp1dVrfbK4rbDnzbG6b0BKSk3IH4vb7QX7qsXDbu9nDMaJmG3AY1sODBBSjnX67A5iSm5yjB9ExiJh5uXBFTet8JrdbDt8hxO6xrL8Bw6lrPkqiN4bQklHkNClCAAhSgAAUoQAFIWMjJyUFwcLCisXfvXmRnZyv7mKrmOLgCpmXDkHpSg/hjt0F3NUdpun+TJljZMRBz/LajQmAFLHxwISoGF/zuaFauAb1nbcHeuGRl4aMFg+6Gv0/e1GYerhNgOHWdZUnVxHBaUtK8DgUoQAEKUIACFLiFBY4dO4Y+ffqgUaNGymq8qjtMJpj+/gJp8z9Ewv4Q5KTk7bnqV78+okaNwpcBm/HN0W8R7heO+V3no2Z4zQJvUW8wYtiinVh3+ArqRAfjh2GtERaogv1bVddhUL4MMU8Xlznjsl5ykQ+OaReZzqkTGU6d4mJhClCAAhSgAAUoQIGiCMTFxaFhw4aoXLkytmzZgtDQ0KJUUyrnmPS5yPj8WcQv34rspLx3Y31r1ULUyJEI6dIZM/bPxNQ9UxHgHYDZXWajUVSjAttpMpkwbuUBfLP1LKJD/LBieBtUDg8olXu6FS7KcKq+XmY4VV+fscUUoAAFKEABClBAFQKxsbGoVasWtFqt0t5t27ahcePG6liJ1yycsWkD4ieMRda5LOVvfG6LRNRLryhbw2i8vLDkyBK8u/VdeGu9MbXjVLSu1Npm30zdcBwTfzuKYD9vLBnaCndUClNFP6q1kQyn6us5hlP19RlbTAEKUIACFKAABTxeQPYpHT16ND7//HMMHz7c49ubv4FZe/ci/pOPkLF9t/Ij7yAgcthQhD87HBqfvGm4v57+Ff/Z+B/l3yfeNxEPVH/A5n0u23kOY5fuhbdWg7kDW6BdnSjVmaitwQynausxgOFUfX3GFlOAAhSgAAUoQAGPF1i3bh26du2KN998E+PHj/f49loamH34MOInT0H6hg3KX3n5GRDZKgzh7y2DNrLatfvYfH4zhv8xHHqjHuNbjUevur1s3uOm2HgMnLsdeqMJn/Vqgu7NqqjGQ80NZThVX+8xnKqvz9hiClCAAhSgAAUo4HECEgQ2btyITp06XWvbmTNnEBMT43FtLahBOSdPIn7KFKSt+VX5sdbXiIh66Sj/cBto+8wFfK/vVbovfh+e+/05ZOmzMKLpCAxtMtTmPR68kIKnZmxBeo4erz5QF8Pb11aFR1loJMOp+nqR4VR9fcYWU4ACFKAABShAAY8SMBgMaNeuHbZu3Yp//vkHrVq18qj2FdaY3Lg4JEz9Cik//QQYjdD6+6B8rasoXzcdXve+AHR5F9Be3+blRPIJDPh1AFJyUvB0/afxWovXoNEUvJbruaRMdP9qM66k5eDpltXw7uMNbZZVDZiKGspwqqLOMjeV4VR9fcYWU4ACFKAABShAAY8T+OCDD7Bw4UIsWrQIzZo187j25W+Q7tIlJEyfjuQflgF6PTT+/ih3T2VEhP8Db38AXT8CWj5/w2kX0y+i35p+uJx5GQ/XfBjvt30fWk3eYk/5j5RMHXpM34zjV9LRqX40pj/THN5eBZf1eCyVNpDhVH0dx3Cqvj5jiylAAQpQgAIUoECpC+zbtw+XL19G586dlbbo9XrlH39/SXaee+gTE5E4cxaSvv0WptxcwMcH5Xo8gYiKB+BzcR3gEwT0nAPU7XrDTVzNvooBawbgdOpptK3cFpM7TIaPtuD9SbN1BvSfsw3bTl1F06rh+HZIKwT4Xh999VydstUyhlP19SfDqfr6jC2mAAUoQAEKUIACpSpw6NAhNG3aFGFhYZB/j4ry/JVnDSkpSJwzF1cXLoQpMxPw8kJ49ycQ+Ux3+Pw5Gri4Fwi+Dei7BKjU9AbfDF0GBv82GAcTD6JpVFPM7DJT2dO0oMNoNGHkd7uxet9FVI8IxLIXWiMi2K9U++tWvTjDqfp6nuFUfX3GFlOAAhSgAAUoQIFSFTCZTOjVqxfq1KmjrMbr5+e54cuQnoGkhQuUYGpMSwM0GoQ+/DCiRgyHb0AGsLgXkHoOiL4DePp7IOzGlXRzDbl4cd2L2HppK2qH18a8rvMQ5md7f9J3fz6Er/8+hYggXyWYVo+8vpBSqXbaLXhxhlP1dTrDqfr6jC2mAAUoQAEKUIACJSogH/I/+ugj9OzZE/Xq1VOubZTFg7Se+w6lMTsbSYu/QeKsWTAkJyttDuncGZEjR8D/9tuB4+uA758FctOA2p2AnnMB/9AbXA1GA17961WsPbMWlYMrY8GDCxAdGG3Tfvbfp/DOz4fg76PFd8/fo0zp5VF6AgynpWdf1CsznBZVjudRgAIUoAAFKECBW0Tg448/xmuvvaasyCvbxdhandYTOIy5uUheuhSJ02dAHx+vNCno3naIGjUaAQ3vyGvijrnA6rGAyQA0Hwg89Ang5X1D82V0eMK/E7AsdhnK+5fHwgcXolro9X1O89+rTOMd8e0uyLq9s/rfhY71K3gCxy3dBoZT9XU/w6n6+owtpgAFKEABClCAAiUqkJmZib59+2LcuHFo0aJFiV7b0YuZ9Hqk/Pijsi2M7sIF5bTAFi0QNWY0Aps3z6vGaATWvwX8Mynvf3d+B2g9Upnqm/+YvGsyZu2fhWCfYMx5YA7qR9S32RRZ+OiZ2VuRqzfivSca4umW6tjb1VFbtZZjOFVfzzGcqq/P2GIKUIACFKAABSjgVoG9e/diwoQJytYwQUGe/c6kyWhE6i9rkDBlCnLPnFFc/Ovfjujn+yHwribXR3n12cD6t4HY36DsFdN9JtDgsQIdFxxcgIk7JsJX64vpnaejxW22A3ns5TT0mLYZqdl6jGhfG688UNetfcPKHRdgOHXcylNKMpx6Sk+wHRSgAAUoQAEKUMBDBDp27Ig//vgD77zzDv73v/95SKtubIZMu01fvx7xkyYjJzZW+aFfOQOiGiYjuFJOQYOheRUElAf6fg9ULThw/nTiJ4z7e5yyf+nn93+ODtU62Lz/y6nZ6P7VZpxPzkL3ZpXx6ZNWYdgj1W6tRjGcqq+/GU7V12dsMQUoQAEKUIACFHC5gIQ9y7uksbGxmD9/PsaPH+9xK/FKOzP+/gfxkyYh+8ABxcG3Rg1EPfskQg6NsR1KLWL9fwRq3l+g359xf2LMhjEwmAx4u/XbeKLOEzad07J16DVjCw5fTEW7OpGYPaAFfL09d4Eolz8wKqiQ4VQFnZSviQyn6usztpgCFKAABShAAQq4TEA+wL///vvYt28ffvjhB49e7Chz+3ZcmTQJWTt2KvfvU7kyIkeMQNijj0CTfBr40vxuaWE6I3YCkbVvKrHz8k4MXTsUOYYcjG0+Fs82fNZmLTqDEYPmbcem2AQ0qBiKJUNbIcRfPlbz8CQBhlPX9IYXgA8ByG+EP4DfAQwFkGCj+lcAvABA1rW+BOBzAF852BSGUwehWIwCFKAABShAAQqURYHExEQ0aNAA8ufOnTvRpEkTj7vNrH37lOm7Gf/8o7TNOzoakS++gPDu3aHx9c1rb8LxIofTo1ePYuCvA5GmS8PAhgPxcvOXbRrIyO3YpXuxfNd5VA4PwPIXW6NCqHxk5+FpAgynrumRcQAGAOgKIBHAHFlsDMCDBVTfDcC3ADoC2ALgHgDrADwOYK0DzWE4dQCJRShAAQpQgAIUoEBZEsjNzVVGSH188kb71q5di3LlyuGuu+7yqNvMPnpUCaXpf/yhtMurfHlEDn0e4U89Ba2/P5CdClzcA5zfCZz8CziZV67QI9/IaVxqHPr/2h8JWQnoXqc73rrnrUJHjz/9/Sim/HEcof7eWPZCa9SpEGLvivx5KQkwnLoGXpYZexvAbHN1tQAcB1ADwOl8l5CvdXoCaG319/8CWAbgEweaw3DqABKLUIACFKAABShAgbIisH//fvTr1w89e/b02MWOck6eQsKXU5RVeOXQhoYiYmB/lO/UBNqrh4ALu/ICaYIshGRyrmuswml8Zjz6r+mPc+nn0KFqB3x6/6fw1t6436l15Yu3nsG4FQfg66XFouda4u4a5Z27NkuXqADDafG5wwAkA7gTwB6r6lIA9APwU75LVLKa9iuhtA2AlQDuA5D3hviNh0wZtn5TW377MuXbM8s3Z8W/BdZAAQpQgAIUoAAFKOCpAtu3b0erVq3QtGlTbN26Fd7etsNYSd9D7rnzSJg6VdmvVPYk1fr7onzbqihfJwVeKYcBo+7GJvmFApWaApWbAyEVgTX/sd9kczhNzU1VpvIeSzqmbBUzrdM0+Hn52Tx//eHLGLJghxKFv+zTDA83rmj/WixRqgIMp8XnrwrgLICaAE5ZVSejqTLdd1G+S8h/TWR97/+zCp1j5HfGRlPeAvBm/p8xnBa/41gDBShAAQpQgAIU8FSBc+fOoUqVKtea9/vvv+O+++7zjJV4TSboYnchYepkJK/bDhhM0HiZUK5OBiLqpcPb35jXbgmOtzXKC6KVm+X9Wb4WoDWPuzjxzmlWeGUMWzsMu67sQv3y9THngTkI9g222X174pLRZ+YWZOkMGP9IAwxuKxMaeXi6AMNp8XsoHECSEyOnEwD0Mb9jehhAA/Po6vtW04KtW8WR0+L3EWugAAUoQAEKUIACqhH4+OOPlem7q1atwgMPPFD67U6/ApzfpUzN1R/bhsTfDyLpiBdMBg2gNaFcrUxENMiAT0xdoPKdQCVzEI1uAHibFz8q6C7S44FJjQFdpu179AmEbuQuvLT9PWw8txExoTGY33U+IgIibJ5zOiEDPaZtRmJGrhJKJZzyUIcAw6lr+klGSSV0ykJIcsgo6gkb75z+DOAggNesLv2p+RzbGzNdL8x3Tl3TZ6yFAhSgAAUoQAEKeKTAjBkzMHz4cHzyyScYM0Ym2JXgcW3BIvM7ohd2AylxMORqkHgkGFePBcGk1wIaIOzOKET27grfJvcDtzUG/GyPZNq8Awmo2fI2XMGH0S8E4/dOxk8nfkJ0QDQWPLQAlYMr2yyfmJ6jBNPTiZl4uFFFTOlzJ7RaTQkC8lLFEWA4LY7e9XNl+m5/q9V6ZWEkWQZMVu/Nf7xugNP0xgAAIABJREFU3nLmEQDyRnh9ABJY5wF4x4HmMJw6gMQiFKAABShAAQpQQC0C8rqW7FlqWXlXtj45cuQI6teXj4luPPQ5wKUDeQsVKQsW7QISjt2wYJFRp8HV09FIPOgLY7YB0GgQ2qUjIse8DL8a7p0qKw4Td0zEwkMLEeobinld56FOuTo2QbJyDeg9awv2xiXj7urlsWDw3fD3kUmIPNQiwHDqmp6Sp/4jc+iUt7JlS5jnzfucPg1gBgDLV0nyzum7AHoDiARwFcBSAP8FkO+N8QIbx3Dqmj5jLRSgAAUoQAEKUKDUBTIyMtCmTRucOHECBw4cQExMjHvaZDQA8Uevh1AJpJcP3rxgkW+IsmCRMaoJkvbnIHHl3zAk541sBnfqiKiRo+Bf93b3tDFfrV/v/xqTdk1CgHcAZnaeiabRTW1eV28wYtiinVh3+ApqRwfjh2H3IDywkCnFJXIHvIizAgynzoqVfnmG09LvA7aAAhSgAAUoQAEKuExg8ODB2LZtG7777jvccccdxa/XZAKSz+SNhCqjoruBC3sAXcaNdXv55k3HlcWKzO+JmkKqIXnFCiRMmw79lStK+aC2bRE1ehQCGjUqftscrOGHYz9gwr8T4K3xxpSOU9C2clubZ8oI6/9WHsDirWcRHeKH5S+2RpVygQ5eicU8SYDh1JN6w7G2MJw65sRSFKAABShAAQpQwCMFdu3aBa1Wq2wNI0d6ejp8fX2Vf4p0yHubln1EzQsXITPxxqo0WiCqnjmEyoJFzYDoO64tWGTS65Hy0yplWxjd+fPKuYF33YWoMaOVP0vyWHtmLV7Z+AokdH7Y7kM8VPOhQi8/dcNxTPztKIL9vLFkaCvcUUl2euShRgGGU/X1GsOp+vqMLaYABShAAQpQgAKKwJ9//olOnTqhXr162Llzp/Nbw1gvWGR5TzQl7mbd8Jjr27fIqGjFJgUuWGQyGpH266+In/Ilck/l7Yro36gRokaPRlCb1tBoSnYxoa0Xt+KFdS9AZ9Th9btfR9/6fQt9cpbvOoeXv98Lb60Gcwe2QLs6UXzSVCzAcKq+zmM4VV+fscUUoAAFKEABCtwqAnZWn9V5B6LtA08oW8TIdjGFjpZaFiyyHhXNt2CRwhoUlbeHqDI11zxFN8j2VityioxKpm/YgPhJk5Fz9KhSjV/dusr03eD27Us8lMr1DyYcxKDfBiFTn4lhTYZheNPhhT41m2LjMXDuduiNJnz6ZBP0aH59X9hb5XEra/fJcKq+HmU4VV+fscUUoAAFKEABCtwKAg7u26kfsQveYRVvFJEFiyR4yjuilqm5spKuMd96meYFi5QQagmkYVWUVXQdOSSUZmzerITS7H37lFN8q1dH1KiRCOnaFRqt1pFqXF7mZMpJPLvmWSTlJOGpuk9hXMtxhQbkgxdS8NSMLUjP0ePVB+piePvaLm8TKyx5AYbTkjcv7hUZTosryPMpQAEKUIACFKCAOwQSjgNfNrdf84gdgCxGdG0Ll93AxT1AbvqN5yoLFjW6tliREkgj6gBFDJCZO3ci/vMvkLljh3Idn8qVETl8OMK6PQqNt2woUTrHpYxL6LemH+TPrtW74qN7P4JW3pG1cZxPzsITU//BlbQc9G1ZDe893rBURnpLR6tsX5XhVH39y3Cqvj5jiylAAQpQgAIUuBUEHA2n/uFAdnI+EU3egkUyGlr5zrxAWqHhtQWLisOXtf8A4idNQsbffyvVeEdHI/KFYQjv0QOaoi7CVJwGWZ2bnJ2MAb8OgIyctq7UGl92+BI+XvJxt+AjJVOHHtM34/iVdHSqH43pzzSHt1fpjPa6iIDVWAkwnKrvcWA4VV+fscUUoAAFKEABCtwKAo6GU7EIr3bje6LKgkUhLlXKPnoM8VMmI33deqVer3LlEPH88yjXpze0/v4uvVZRKsvUZeK535/D/oT9aBzZGLO6zEKgj+0tYLJ1BvSfsw3bTl1Fk6rh+HZISwT6lt6Ib1HumecULsBwqr4nhOFUfX3GFlOAAhSgAAUoUJYFDHrg3HYY9y2Bdudc+3c6eB1QtYX9ckUskXv6tLL6buovv8jKR9CGhCBi8CCUe6YfvIKDilira0/TGXQY8ccIbL6wGTXDamJ+1/kIlxFlG4fRaMLI73Zj9b6LiIkIxLIXWiMy2M+1jWJtpS7AcFrqXeB0AxhOnSbjCRSgAAUoQAEKUMDFAslngePrgRPrgZN/ATkpjl9gxE4g0vUL+Mj+pPFffYWUlT8CBgM0gYEo378fIgYOhFeY5+z9aTAa8N9N/8Wvp39FxaCKWPDgAtwWdFuhfu/+fAhf/30K5YN8sfyF1qge6Rkh2/FOZ0lHBBhOHVHyrDIMp57VH2wNBShAAQpQgAK3gkBuJnBmM3B8XV4gVbZ0sToqNs17T3TnHPsaLg6nustXkDhjBpKWLgV0OuU90nJ9+yLi+SHwLl/efntKsISsFvze1vew5OgSlPMrpwTT6mHVC23B7L9P4Z2fD8HfR4tvh7TCndXKlWCLeamSFGA4LUlt11yL4dQ1jqyFAhSgAAUoQAEK2BYwmYD4I3mjoxJIJZgacq6XD4pGatRdGDn5R6w7acC2gydR2S/LwdV6XTNyqk9KQuKsr5G0eDFMOTmAjw/Ce/ZA5LBh8KlQwSN7d+qeqZi+dzoCvQMxp+sc3BFxR6Ht/GX/RQz/Zhdko5yZ/e5CpwaeeV8eia3CRjGcqq/TGE7V12dsMQUoQAEKUIACahDISgJO/mmervsHkHr+equ1PkC1VjDUuB/a2ztDU6GRsqXLokWL0LBhQzRt2hRwcJ9TjN4HBEcVWcSQmoqr8+bh6rz5MGZmKu0Ie+wxRA5/Eb5VqhS5XnefuPjwYny47UP4aH0wrdM0tKzYstBLysJHz8zeily9Ee890RBPt4xxdxNZfykLMJyWcgcU4fIMp0VA4ykUoAAFKEABClDgJgGjATi/K2+aroyQnt8BmIzXi5WrAdTuCNTqCNRoh10HYzFgwACMGzcOvXv3LhhUAmp2Ie+f+ocVOZgaMzJwddFiJM6ZA2NK3jVCH3oQkSNGwq9mDY/u4NUnVyvvmcr+pZ/e9yk6xXRS2puQnoPULN1NbT97NQMjvtmD9Bw9hrevhVcfqOfR98fGuUaA4dQ1jiVZC8NpSWrzWhSgAAUoQAEKlC2B1AvXFzI6seHG/UZ9goAa95oDaQcgotYN97506VL06tULHTt2xNq1a6HRyGRT9x/GnBwkf/cdEmbOgiExUblgcIcOiBo9Cv5167q/AcW8wqZzmzDqj1HQm/R485430fP2nteCabuPNiBLZ7B5BS+tBlte74CokNLf+qaYDDzdAQGGUweQPKwIw6mHdQibQwEKUIACFKCABwvosoGz/5oXMvoDuHLoxsbe1ihvZFRGSKu2Arx9b/h5QkICIiMjr/3dkiVL8MQTT8DX98Zy7hAw5eYieflyJEybDv3ly8olgtq0UUJpQOPG7riky+vcc2UPhvw+BNmGbIxuNhrPNXru2jVOxqejw6cb7V7zj7H3oWZUsN1yLKB+AYZT9fUhw6n6+owtpgAFKEABClCgpARkIaPE49cXMjr9N6DPun71wAigVoe8QCp/htheYOeNN97Ap59+iu3bt6NBgwYldQcwGQxI+WkVEqZOhe7cOeW6Ac2bI3rMaAS2cN/+qK6+wdikWAz4dQDSctPQv0F/vHLXKzeMNjOculpc/fUxnKqvDxlO1ddnbDEFKEABClCAAu4UkHc8T/1lDqTrgZSz16+m8QKq3n393VHZ8kWrdag1r776Kr744gvMnDkTAwcOdOic4hQyGY1I++03xE/5ErknTypV+TdsiKjRoxHUtk2JTSMuzj1Yzj2Xdg791/RHfFY8utXqhnF3v4X0bANSsnRIzdYpfx6/ko73fzli93IcObVLVGYKMJyqrysZTtXXZ2wxBShAAQpQgAKuFDAagYt7zAsZ/QHEbQVMVu8thlXLC6Pyj7xDKosQOXDk5OTgzJkzuP3225XSWVlZiI2NRWMnptDaWuDHcvnQAB9EBvvd0BrZ+zN9w5+InzwZOUfywppfnTrK9N3gjh09IpQajCakZeuQmqW/IWDKYkaWwGn5WWJ2Ag7jA+i08dBm3YGsc88gV1/093MZTh14eMtIEYZT9XUkw6n6+owtpgAFKEABClCguAJpl4ETf+QFUvkzM29hIOXwDgCqtzUH0k5ARG3AycWKLl26hM6dOyMtLQ379+9HSEiI0y2WYGpvgZ8AHy9seq29ElAllGb++y+uTJqE7L37lOv5xsQgcuRIZRVejYMjvI40VK6VrTNeG7W0DpUpmTKaaQ6dVmEzJUuvrKQr/6Tl6B25DKDNRmDMTHj5X4A+szqyzg6Gl8YXof7ekGAeFuCDUP+8PwETVu+/ZLdehlO7RGWmAMOp+rqS4VR9fcYWU4ACFKAABSjgrIA+N29E9Pi6vEB6af+NNUQ3yHtnVEZHq7UGfIq3mqvRaESHDh2QkpKC5cuXo0YN57dmceYdytvijiH+i0nI3LYtL19Xqoio4cOV/Uo13t4FasnopRIWzdNirUcxbwib5lB5fUQzb8Qz12C1TY6T/RHo63VDsAwNyAublqAp/x7kZ8J3Z8fjRPo+xITUxqftZqByaHkE+XoVOPrrjBcXRHKyw1RanOFUfR3HcKq+PmOLKUABClCAAhRwRODqyevvjZ7eBOSmXz/LPxyo1f76QkZhlR2psdAyO3bswG233YYqVaoo5eLj4xEeHg4fH/m45fzhSNiqnXwOn6dvgfeOLcoFDOHlEf94X5xp1Rkpek2BU2bTzKOasudnUQ9vrcZq5NIcLK1GMiVsWo9qXh/lzCvr41X4e7p6ox4v//kyNsRtQNWQqljw4AJEBlxf5bigdjviJedx5LSova6+8xhO1ddnDKfq6zO2mAIUoAAFKKBqgaK8R+nQDeekAxJCj6/PGyFNOnX9NI0WqHzX9YWMKjcDtF4OVetIoWXLluGpp55Cly5dsHr16gJH9vQGIzJ1BmTmGJCZq0dmrkHZkzMjR4+sXPm7638v/34xJQvf78hbXTf/EZN6Ec8c/h1tL+aNAKf4BmJpnQ74uUZr5OTbvsZW+4P9vK9Nj7WeImszWFoFThn5dNe+rDJl+M3Nb2LF8RVKIJVgKgHV3uHsNGh79fHn6hdgOFVfHzKcqq/P2GIKUIACFKCAagVcGiBkmxeZnivTdCWQnt0CGHXXbUIqWS1kdB8QWN6um9FoUgKjEhwlLOr0yMgx/7s5UFpCpPw8QymnR3J6Fn5c/Suq1KiFytWqI0tnvB46zYG0ONNgLQ2vmJ6Afkd+w33n9kALE9K9/bGuUSfsursrAsJClLCpjFjmex8zf+AM8feGt53RS7tYbirw2c7PMPfAXIT4hGBu17moW76uw1dy2xcfDreABT1JgOHUk3rDsbYwnDrmxFIUoAAFKEABCrhAQKZePvnpTwjVZNqsLdUUiKVju6HA9wIzEmA68QeMseuhOfkHtBlXrtVj1PoiKaoFLkW1RVz5e3DJNwYZOmOBo5JZ1qFTpzePZuaNZLrj8NJqIKON8k+QrzcCzP8e4OutvENp+d/WP5PgO2ldrNKcqMwk9Dm6Dl3OboeXyYhsLx+srNUOy2rfj59ef7BgK3fciJvrlFAq4dTPyw8zO89EswrN3HxFVl+WBRhO1de7DKfq6zO2mAIUoAAFKKBagdNnTiN6zt0I1OTYvIdMkx9erbQAqd7lkJuTg6pZh9Akewea63ehnvEktBrTtXOPGyvhL2NjbDQ2wVZjPWTjxm1VnIWyBMhAX28lSEpotA6MeT/3xppVP+Lg3l3o2qk9ejz+6E2h01LOUoevl9bpabAS5Hu8twq9j67Hg2e2wMdoQK7WW5m6+/3t7ZHil7cCcFl5h3JF7Aq8sfkNeGm8MLnDZNxb5V5nu4/lKXCDAMOp+h4IhlP19RlbTAEKUIACFFCNgLw/GHc1C4cupuLwxVSci92HT68Mttv+T3U9cYf2DFprDyBUk3WtfKopAP+aGmGbV1Ps9m2OVL+K10YkJTTmhcm8AKmMRvp4IdAvL2jmD4wSOi3hUf709/aCVuvY/pm7du3CCy+8gFmzZjm1b6ndGzcX0Ccl4eTkacj4/jv4G3TQa7T4LaYlvqvbEQkB4TdUUxbC6fqz65UFkIwmI95v+z4erfWoo1QsRwGbAgyn6ns4GE7V12dsMQUoQAEKUMAjBeQdzKOX05QQKv8cupCKI5fSYL0qbA3NRWzwG+tw+03QIDe6CXQ12kNbpxN8Y+6Gt4+vw+e7quD27duVhY7eeuuta1VK8Hb1okCGtDRcnTsPV+fPhzEjAwZo8EfV5vimXmdcCoq46Xas9zl11b2WdD3bL23HsLXDkGvMxX9a/Af9GvQr6SbwemVUgOFUfR3LcKq+PmOLKUABClCAAqUqIKHscmoODl1MweGLaddGRU8nZMB4fcat0kaNBogpH4j6FUPRJNobdbP3oP2uUXbbn16zK4LvfBKo2R4oIJTZrcCFBdLT0xETE4OrV69i3bp16Nixowtrz6vKmJmJq4sWI3H2bBhTUpS/C3mwK7wHPY/M22yvVCsLH0UGF28qs8tvxokKDycexsDfBiJDl4EhjYZgVDP7z4YT1bPoLS7AcKq+B4DhVH19xhZTgAIUoAAFSkwgV29E7BUZDb0+IiqjokmZVqvimlsT5KtBqyg9WoanomHgVVT3ike07gK8U87mbeuSEe9wu+Oe/gtV6zRxuLy7C86fPx9xcXF47bXXirxvaUFtNObkIHnJEiTMmAlDYqJSJLh9e0SNGgn/+vXdfVulWv+Z1DPov6Y/rmZfRc/be+KNVm+4fCS6VG+QFy91AYbTUu8CpxvAcOo0GU+gAAUoQAEKlE2BxPScG0KovCd6/Eo69FbDoX7IRRVNPJoFJ6FZSArq+iWgsukyyuVegE/qWWj02bZxAsohJ6AC/K4esQtYmuE0OzsbEyZMUEZLhw0bZretRSlg0umQvHwFEqZNg/7SJaWKoNb3IGrUKAQ0bVqUKlV1zpXMK0owPZ9+Hp1jOmPivRPh5cJ9Z1WFwca6TYDh1G20bquY4dRttKyYAhSgAAUo4JkCeoMRpxMzcPCCvBt6fUT0SpqsoGtCBFIRo7mMqporqOEVr4yC1vSK/3/2zgM8yir7w28mvXcg9KYISBEVkEVAioKKhbWtKEV6C1jWsq667q7+3WUtoQvSRUVRsFFFqihNpYMU6SW915nJ/7nfDCQgITPJTOabybnPgwmZe8899z2fZH5z7z2HmqZzBBdcY/fTyxvC60JUI4hsCJEXv6rvG0JgBKkn9xM157ZywaQ+9SNR9VuU288ZHTZs2EC3bt2IjIzk5MmThISEOGyaYpOJzG++IWnKVIpOndLsBt50E7ETJhDcob3D5tGzoYyCDAatHMSR9CN0iOvAtB7T8POu+nvEemYkvjmGgIhTx3CsSisiTquStswlBISAEBACQqCKCWTkFXHQmqBIE6LnMzl2Po0Y0wUaeCVqAlQJ0fpWIar+Hlhckh33D+76h1mFp1VwlhaiSph6q7cW12jJR2DKzeVTGLsTYpqW389BPcxmMwaD4ZK1iRMn0rt3b1q1auWQGYrNZrJWryFp8mQKjx7VbAa0aEHshPEE3357tTnOmluUy/A1w9mVtIuW0S2Zfddsgn2DHcJYjAiBKwmIOHW/Z0LEqfvFTDwWAkJACAgBIfAHAmZzMafSci9lyT1x5gzZ5w4TmH2K+lbxqQRofUMicaTgXapW6OXGvCCsjnX3s0Gp3c9Glp8FRlqyHFW0ZSdBQmsoyi3bgm8QjN8NIbEVncWucVu3bmXo0KFaWZiOHTvaNba8zip5VPaGDSRNmkTB/gNad//rmhITH09oz57VRpSqdReZi4j/Pp7NZzbTMKwhC/osIDIgsjyE8roQqDABEacVRueygSJOXYZeJhYCQkAICAGPIaAEV74lw+pVW0C4Q4VWbqGRQ2fTOPn7b6SePkRB4jF8M09Qy3xe2w1VIjTMq2zxV+wbhFfpI7eldz8j6oGPk7O/VjGv8p6z//u//+Nvf/sbf/nLX/joo4/K627z6zk//UTSewnk/fqrNsa3QX1ix44j7O4+eHl722zHEzqq+qUvbXqJ5b8vp2ZQTRb2WUhcSJwnLE3WoGMCIk51HJwyXBNx6n4xE4+FgBAQAkJATwScuBNYnJ9B0slDnD9+kKxzv2FOOU5gzilijWepQzI+XuYySRQE1NB2Ov1iG+EV2bjkKK4SosGxldv91BP/CvqSlZVFaGioNtpoNDJnzhwGDx7skEy8ub/8QlLCJHJ/+kmz7xMXR+yY0YTffz9evuUce67gevQ8TO0ev7XtLT46+BER/hHM7z2fxhGN9eyy+OYhBEScul8gRZy6X8zEYyEgBISAENATgcrcoTSbIPMspB2nKOUYaad/Iz/xKN7pxwnLP0OoObPMlRbiS7p/HYrC6uMb25jw2tfjH6tEaCOIqA9+QXqipBtfTCaTtku6YMECdu/eTWys444O5+/fT2JCAjkbNmrr9Y6NIWbESCIeeRiDX/VN+DNj1wym/jqVQJ9AZt85m1axjrnHq5uHShzRLQERp7oNTZmOiTh1v5iJx0JACAgBIaAjArZmn83u+R9CDEZNiBYmHcWY8jv+2afxLv5jvdCLy0suDuO8oRbZQfW0nc+gmk2IrX8DNRvcgCEsDkol8NEREl27onbx+vXrx7fffsunn37KAw88UGl/C44cIWnSZLJWr7aI0vBwoocPI/LxxzEEBlbavjsbWHxwMf/e+m98DD5M7TGVTrU7ufNyxHc3IyDi1M0Cpq4/AIWFhYUOOcbifssXj4WAEBACQkAIVI7AqcO7qLeoS4WMFBZ7c7o4llPFNTjtVZP8kPr4xDTSdkFrN7qBZvVqEx5U/Y6BVgjmNQapuqWpqanUrl1b63X+/HmSk5O58cYbKzVV4cmTJE2ZQubX30BxMYaQEKIGDyJq4EC8HVh+plJOunDwyuMreX7D85oH/+36X3o37O1Cb2Tq6khAxKn7RV3EqfvFTDwWAkJACAgBVxMoLqY4/SR5v/9I1p4V1Px9WbkerTO1YX9xA04W1yQzoA4BNZtSq25jbqgdQYu4MBrFBOPjXVLKpFyD0sEmAkeOHKFv375ERESwefNmvB2QiKjo3DmSp00n/YsvwGTCKzCQqCeeIOqpwfhESvZZFZgtZ7Yw5vsxGM1GXun4Co80e8SmeEknIeBIAiJOHUmzamyJOK0azjKLEBACQkAI6JhAgdFEem4RabmFpOUUka6+5haRnleo/TwzK5uw9P3UztpD4/y93GA8RA1S7VrR+60+pUXrdjSPCyMmxMnZcO3yzLM75+bm0rp1a02cqqO8NWvWrPCCjUlJJM+cRfonn1BcVKQlN4r4y2PEDBuGjwPvrlbYQZ0M3J20m6Grh5JnzGNM2zGMbDNSJ56JG9WNgIhT94u4iFP3i5l4LASEgBCoEgLJ2QVk5pV9HzIs0Fd3IkvV+szIU6LSIjQ1kZlz8XuL2NRE5xUiNK/IdBnTWNJoZzjMzdqf37jR63f8vYyX9TlTHMM+QzPO+9RmQNFn5cbkVP+N1LuuTbn9pEPlCWzfvp3mzZsTYj1ae/z4cerWrYuPj0+FjJvS00mZPZvUDxdRnJcHPj5E9OtHzKiR+MZJOZTSUI+mH2XgyoFkFGTQv3l/Xrj1hWpVy7VCD5gMchoBEadOQ+s0wyJOnYZWDAsBISAE3JeAEqa3/2cdV4q20isK9PVm0wt3OEWgqqQ1am4lJNNyCjXBqe1qKmGZUyIwS0So5XXVr7jYPu7emLgl4Cyd/I7Q1us3WhgPEWs6f5kRs5cv2dEtKax1C171OxDYuCOB0fW0N9223jkVcWpfXCrae9asWYwcOZLRo0czefLkiprRxpmys0mdN5/UefMwZ2dr5XfC7+tLzJgx+NWvXynbnjj4XPY5nlzxJBdyL3BP43t4s/ObGLzkqLonxtpd1iTi1F0iVeKniFP3i5l4LASEgBBwOoFjSdl0f3tDufN8/2xXGseGXLOf0WTWdjIvHZW1Hp8t+XvJ7mZpEVpoLLuGZ1kTBvgaiAzyI0L9CfQlMthX+z4yyPfSz2t4Z1E7ey/Rqb8SkvQLPud/waso93KTwTWgXnuo18HyNa4t+AZcddrjJ45TY057grwKyuSQW+xP4lPbaNigYblMpUPlCBw+fJj27dvzwgsv8OKLL1bImDk3l7SPPiJl1geYMjI0G6F33UXsuLH4N21aIZuePig1P5WBKwZyPPM4net0ZlL3SfgaJJmXp8dd7+sTcar3CP3RPxGn7hcz8VgICAEh4HQCtorTl+++AT8fb+sR2lK7m9qRWsvfs/IvPw5ri/MGLywC86KoDCwlMoNL/TzIl4hAP02EKlEa4Ot9uXmzGZIOwqmtcGobnN4GKUcu7+PlDTVblghRJUYjGmi7ZLY0xerht78izOsKgVtqcGZxEJ89e1+5Qt6W+aTP5QTy8vL4+OOPGTx48KXjo5mZmYSFhdmNylxYSPriT0l+/31Mycna+JCuXYkdH09AixZ226suA3KKchiyagj7UvbRNrYtM++cqdU0lSYEXE1AxKmrI2D//CJO7WcmI4SAEBACHkfAZC4mMSufs+nqTx57z2Tw/sZjDllnsJ+3ZffSKiDD1Y6mdTfz4s8tu5vW3c4gP0IDfDAohWpvy8+A0ztKhKj6viDzciuBkVBX7Ypa/9RuB/7X3v29lhuuPgJtLyJP6q+Of99xxx1s2LCBhQsX8sQTT1RoeSq5UfqyZVoGXuO5c5qNoNs6EhsfT9BNN1XIZnUZVGgqZPR3o9l6fitNI5oyr/c8wv3Dq8vyZZ06JyDiVOcBuop7Ik7dL2bisRAQAkLALgLqDby6q6lEp/rJwjdDAAAgAElEQVRzLiOfsxnq+3zOWf9+PjMfJVDtbX1urEn9qOBLR2cvHaFVu5uBvlqNTn+fK3Yz7Z2krP7qcmnKUcuuqNoRVTujiQeA0uvwgtgbSoSoOqYb3dTmXVFbXXXH5FG2rk3v/ZYuXcqbb77JvHnzaNmypV3uFptMZC5frtUqLTpxUhsb2LYtsRMmENyxg122qmNnk9nEXzf+lTUn1lAnpA4L+iygRlCN6ohC1qxTAiJOdRqYa7gl4tT9YiYeCwEhIAQuI5BTYORcRh5nrGLzrBKfmujM45zaCc3II7/o2vc3/XwMxIUHUDs8kLiIAFSyo0VbLW/Wr9VsuXNang2bXy/MgTM/lwhRJUbzrijn4hcKdW8pEaN1boHACJunkI76J/Djjz+yd+9ehg0bdslZk8lkV/1S9YFN1po1JE+eTMFhyzFv/xbNqTF+PMFdukh2WRseA8Xw9R9f5/PDnxMVEMXCPgupHyZJomxAJ12qkICI0yqE7aCpRJw6CKSYEQJCQAg4g4BKCnQhM58zVrF58dittvtp3QnNLOdOpzodWyM0gNoRAcRFBFJbidCIQOLCA7Wfqe+jg/0ue0Nu651Tp4lTtSuafrLkeK7aHT2/F4ovL/lCVBPrXdFbLV/VLqnBSTu1zgiw2LSLwNmzZ2nY0JJUateuXVq5GHuaElQ5GzeSlDCJ/P37taF+TZsQOy6e0F498TJIZllbeU76eRKz9swixDeEOXfNoXm0fbGwdR7pJwQqQ0DEaWXouWasiFPXcJdZhYAQEAKompzqOKhFeF4Um/najufF3U/1enmlUaKC/bRdz9JiU9sFVUI0IpAaof74etv3prvKxWlRPpzbZd0VVcmLtkP25eVcUAlW6twM9axCtO6tEBwjT1I1I/CPf/yDgIAAnnvuObvqlub8tJWkhATyfvlFI+Zbvz6xY8cQds89eHnLBxr2PEYL9i1g4o6J+Bn8mNFrBrfWutWe4dJXCFQZARGnVYbaYROJOHUYSjEkBISA3glU5b1AtUOTmWcs2fG8eNRW7XZav1c7okWma9/zDPLztu5yBlDHutupjt1avrcI0kA/x7+xdnqSn8xzlx/PPfcrmAovf4TC65cIUZW8qOaN4C2lKfT+/5kj/VOZeF999VV69uzJXXfdVSHTeb/+SmJCArk//qSN96lVi5jRo4h48EG8fOV5shfqV0e/4uXNL2v1S9/t9i7d63e314T0FwJVRkDEaZWhdthEIk4dhlIMCQEhoGcCjhZbeYUm7S7nxTud2h1P6/3Oi0mHcguvOIJ6BSBfby9qWQXmJbEZEUgddfxWHbkNDyQs0Mc199+yk0hNTSKnoOiqYTX5hRMSHUdMiH/5YTcVwfk9cHq7taTLdsi44j6rtx/EtSkp56Ky6YbFlW9beng0AZWBd8CAATRt2pSDBw/ada80/8AB7fhu9vr1GiPvmBhihg8n4tFHMPjb8Nx6NNmKLW79qfVMWDcBU7GJf3b6Jw9e92DFDMkoIVBFBEScVhFoB04j4tSBMMWUEBAC+iVgzzHVelFB2j3PPxy1tZZZUcduVfbbazVVIjM2xN96tNYiNtVOpyZCrfc+lbCrULkUZ2POToKE1lBUdt1OfINg/G4Iif2jNzkplx/PPbMTjHmX9wupaU1a1MFS1kUJU98AZ69M7LsBAXXqwMtaY1Z9/+yzzzJ06FBa2FhntODoUZImTyFr5UpttYbwcKKHDiGqf38MQUFuQECfLu68sJMRa0ZQYCrg2ZufZdCNg/TpqHglBEoREHHqfo+DiFP3i5l4LASEQAUI2CpOY4L9SM0tpLyqKqpWp3anU+18WpMKaZlurXc9a4YFoDLgumVLPgJTbi7f9bE7IaoRJB0s2RFViYtSj14+1ssbat1o3RVVYvRWiKjv8HIu5TssPfROYMuWLYwfP54lS5bQoEEDu9wtPHWK5ClTyfj6azCbMQQHEzVoEFGDBuIdGmqXLel8OYFDqYcYvHIwWUVZDL5xMM/c/IwgEgJuQUDEqVuE6TInRZy6X8zEYyEgBK5CQGW1TcouIDEznwuZBSRl5ZOYpf5ewIWsfE6l5nI0KccmdgG+BqvwLBGbWqZbLbutJcNtkJ+PTbbcspOt4rRuB0jcD4VZly8zMPLy47l12oFfsFuiEKerlsCQIUOYM2cOEyZM4N1337Vp8qLz50mePoP0zz8HoxGvgACinuhP1JAh+ERG2mRDOpVN4FTmKQasHEByXjIPNn2Q1zu97pqrBhIkIVABAiJOKwDNxUNEnLo4ADK9EBAC1yaQX2QiKatAO2ZrEZuWr0qAJmbla6+pv6fmXJFMp4Jgl43uRJt6EdX7zZet4lRjrOrUNLcc0VXHc1U5l+gmsitaweevOg4rKCjA33oHND09nfnz5zNmzJhyM/Eak5NJmTWLtI8/obiwUEtuFPHoo8SMGI5P7FWOm1dHuJVcc1JuEgNWDOB09mm61+vO293exsfgwR/MVZKXDNcfARGn+otJeR6JOC2PkLwuBISAUwjkFhotAvOi6CwlPJXo1HY8M/Mpr4bnRedC/X2IDfPXyqaomp41te8DqGH9WmA0MWju9nLX4rS6neXOrKMOtorT+6ZAi/sgIFxHzosr7kIgPz+fl19+me+++45t27ZdEqjl+W9KTydl9hxSP/yQ4rw88PYmol8/YkaNxLd27fKGy+s2EsgszNSO8v6W9ptWKmZ6z+n4e0siKRvxSTedEBBxqpNA2OGGiFM7YElXIaA3AlVZGsWWtavkJdkFVtFp3dXUdjy1XU7LTufF71U/W5q626kJzjB/aoYGWAVogPYzda/z4mvlHbO19c5ptRenmWdhw39h59zyw6PunMY0Lb+f9BACVyGg3jS2b9+eAwcOsHr1arp06XJNTqbsbFIXLCB1zlzM2dna7nzYvfdqtUr97LyfKgG5NoE8Yx4j14zk58SfaR7VnDl3zSHEL0SwCQG3IyDi1O1ChohT94uZeCwENAKOLo1yLaxKdGbkFZXc4by023n5UVslPPOKrl0+5eI8UcF+mrCMLS0yL35v3e1UrwX4OqaGp4jTcv7HOb0TfpoG+5eB2bYPDhBxKv8a2UkgNzcX9WYxPNyy275//37tCH3z5s3LtGTOyyPto49ImfUBatdUtdA77yR23Fj8r7vOTg+ke3kEisxFPL3uaTac3kCDsAbM7z2f6MDo8obJ60JAlwREnOoyLNd0SsSp+8VMPBYCGgFHiC2zuZi03ELrHU6L0NTucFqTCmk7ndY7nSrhUHlNVX+IDrYcrb38WK3a+by4yxmglVip6ky2VSnmy+Okm9dNRjjwFfw03VL6RTV1bK9ZH4tILa+JOC2PkLxeisDu3bt56KGHtN3SDz/8sFw25sJC0j/9jOT3Z2BKStb6B3ftQuy4eAJvbFnueOlgPwFzsZlXfniFr45+RY3AGiy4ewF1QurYb0hGCAGdEBBxqpNA2OGGiFM7YElXIaAnAraK0zcfvBGDl9dlAvRiYiElRI3l1UxResXgRUyI2um03OWMVXc5rzhWq15TfXy89Vs+RW/HoF32POWmws8LYNssyDxtcSOkFrQfCjcPhuLiytU5ddnCZGI9Ezh79iwtW7akWbNmrF27luDgq2dwLjYayVi2jKRp0zCePactKah9e2InjCeoXTs9L9GtfVMnZCbumMjC/QsJ8wtjXu95XBcpO9NuHVRxXjup4efnp0io/1y7QHk5vLyEZ5UQEHFaJZhlEiHgeAL7zmRwz+TNlTLs6+2l7WLGhgVQ03qvs3QyoYtHbtURXCVQpbk5gaTfYOsM2PUxFOVaFhPXFm4bAy0eAB/tF7ilZSdBfkbZC1ZJkEIkI6qbPxFOd//nn3+mTZs2eHtbjufv3btXO8J78e+lHSg2m8n8djnJU6ZQeOKE9lJAm9bUmDCB4Ntuc7qv1X2CD/Z8QMLPCQT6BDKz10za1mhb3ZHI+j2AgIhT9wuiiFP3i5l4XI0IqE+yU3IKOZKYrf05mmT9mpjN2Yx8m0h0uS6GRjHBlx2rvbjrGRHoi0FEp00c3baT2gU9+r3l6O6RNZZleBmgeV/oONpS+kWdx5YmBBxM4L///S8vvviiVq90/PjxZVpX/85lffcdyZMmU3D4sNbP/4YbiB0fT0i3btW7rJODY1KWuSW/LeH1H1/Hx8uHyT0m07lO5yqaWaYRAs4lIOLUuXydYV3EqTOoik0hYCcBdffzTHreJRF6SYgmZZOee/VTKMF+3uQUlp98qNpnn7UzFh7TvTAXdi+2iNLkQ5Zl+YfDzQOg/XCIqO8xS5WF6JPAunXruPvuu/nPf/5DfHz8H5xUojRn82aS3ksgf98+7XW/xo2JjR+nJTzyMuj3ioA+iVfMqzUn1vDchudQ8Xjr9re4u/HdFTMko4SADgmIONVhUMpxScSp+8VMPHZjAqrW5vHk3BIRat0JVfdHC8pIOKTueDatEULT2BDtaxPr16z8Inq8s7FcGiJOy0XkWR0yzsD2WbBzHuSlWdYW3RQ6jIQ2fwF/KQfhWQHXz2pUJt41a9Zw//33X3IqMTGRGjVq/MHJnG3bSEqYRN7OndprvnXrEjN2DOF9++JlPQKsn5V5ridbz21l1HejUBl6X2r/Eo83f9xzFysrq5YERJy6X9hFnLpfzMRjNyCQmV9kOYarjuMmWb8mZnMyNZer5R9S9zkbRAXR2Co8NTFaI4TGscGEBaj/Tf/YbE2IJOLUDR4YR7h4eoelFMy+ZVBs3VFvfIfl6G7TniC7UI6gLDbKIGA0GmnXrp12p3Tjxo107nz1Y6F5u3ZpojRnyxbNkk/NmsSMGkXEn/vh5Xv1f+sEunMI7Evex1OrniLXmMvINiMZ03aMcyYSq0LAhQREnLoQfgWnFnFaQXAyTAioI1Aq6+2V90HV39XPr9YCfA2Xdj4v7oAqEdogOgh/H/vqeUppFHkGMRWVKgWz3QLEJwBaP2rZKa3ZQiAJgSojMHHiRL744gvmzZunZeQt3fIPHtREafa6ddqPvaOjiRkxnIhHH8Xg719lPspEFgLHMo4xaMUg0grSeLTZo7zc4WW52ysPh0cSEHHqfmEVcep+MROPq5iA0WTmVNof74OqXdGsAuNVvYkM8rUcxbUew21iPZZbJyLQoQmIpDRKFT8MeplOKwUz31oK5ozFK60UzDBLKZjgaL14Kn54MIHNmzeTlpZG3759tVWaTJYd+9KZeAuOHSNp8mSyVqzUXjOEhxM9ZAhR/R/HUEYpGQ9Gpoulnc85z5MrnkR97d2wN//p8h8MKkmaNCHggQREnLpfUEWcul/MxGMnEcgrNHEsuSQbruU4bg6/J+dQaDJfdVYlNi8KzxIxGkx0iOwEOClM1dts0iFLKZhfPwZjnoVF7ZugoyoFc//lpWCqNylZvZMJ7Nq1i5tuuonIyEgOHDjwh3ulhadPkzx1GhlffglmM4agIKIGDSJq0EC8w8Kc7J2YL4tAen46A1cO1HZOO9XuxJTuU/D1luPU8sR4LgERp+4XWxGn7hczj/fY2buBaao0S6l7oOp7dRRXZctVVTeubKoWaMPo4MuSEV28Dxrk5+Px8ZAFupiAVgpmrbUUzHcWZ7RSMPdZS8G0l1IwLg5RdZ1+wIABtG7dmqeffvrSbmnRhQskT59O+pLPwWjEKyCAyP6PEz10KD6RkdUVlS7WnVuUy9DVQ9mTvIfWMa2ZdecsgnyDdOGbOCEEnEVAxKmzyDrProhT57EVyxUg4Kh7lOo+qKoDerX6oKpu6NVaiL8PTWKDLTuhpbLi1o8KwtdbjjxVIJwypDIEtFIwn8BPM0pKwQSEQ7uBluO7UgqmMnRlrJ0EcnJyeOWVVxgyZAgtW7bURqt/Z72sNXKNKSmkzJxF2scfU1xYCL6+RD7yCNEjhuN7lWy9dk4v3StJoMhUxNjvx7Ll7BYahzdmfu/5RAREVNKqDBcC+icg4lT/MbrSQxGn7hczj/bY3gy0RSYzJ1JySolQy/dHk7LJLaMGaGyovyZCS8qzhGrfq5ItF99oeTRkWZy+CWScttwlVaVg8tMtvqpSMB1HWUrB+AXr23/xziMJvPHGG/z973/n9ttv17LxXmymjAxS5swldeFCinNz1YVTwh98gNhRo/CtU8cjWbjbokxmEy9uepGVx1cSFxzHgj4LqBVcy92WIf4KgQoREHFaIWwuHSTi1KX4ZfIrCdgqTv/UJJrzmfmcSMnFeJXaLAYvqBcVdFlt0It3Q8OD5H6NPHk6JHBqu6UUzP4vS0rBNOluObrbpIeUgtFhyKqTS3l5eQwfPlwTqCoTryk7h7SFCzRhas7K0o6Wh91zD7Fjx+DXsGF1QqPrtard7Te2vsHiQ4uJ9I9kfp/5NApvpGufxTkh4EgCIk4dSbNqbIk4rRrOMouNBGwVpxfN+fkYaBxj3QUtdRy3UUwwAb72lWax0UXpJgQcR0CVglFi9KfpcGaHxa4qBdPmMUspmBrNHTeXWBICdhDYtGkTr7/+OkuXLiU0NPTSSHN+PmkffUzKrFmY0tK0n4f26knM2HEENLvejhmka1UQmPrrVGbsmkGQTxBzes+hZbTlSLY0IVBdCIg4db9Iizh1v5h5tMe2itM3H7yRzk1jqRMZiLfaJpUmBNyJgCoFo47tquO7WWctnofGWe6SthskpWDcKZYe6KvabevRowfr1q3jrbfe4oUXXtDukaYtWULK9BkYk5K0VQfffjux8fEEtrrRAym4/5IWHVjEW9vewtfgy/Se0+kQ18H9FyUrEAJ2EhBxaicwHXQXcaqDIIgLJQRsFaffP9uVxrEhgk4IuBcBVQpG7ZLu+qRUKZh2cJu1FIyUdHCveHqYt0ajER8fSwbyY8eOsWzZMuLHjCH7m29JnjqVorOWD1KCbr2V2AnjCbr5Zg8j4DnL+fbYt9o9U1W/9O2ub9OzQU/PWZysRAjYQUDEqR2wdNJVxKlOAiFuWAiIOJUnweMImM1w9HvLfVJVEkY1L29oYS0FU/dWKQXjcUF3rwWpTLx/+9vfOHLkCN98842WGK7YbCZzxQqSJ0+h8PhxbUEBrVtTQ4nS226T5HE6DvGm05uI/z4eY7GR1257jYeuf0jH3oprQsC5BEScOpevM6yLOHUGVbFZYQIiTiuMTgbqjUBhjmWHdKsqBfObxTtVuuHmQZbju+F19eax+FNNCaSmpmrlYdLT09mxfTv1L1wgKWESBb9Znlv/Zs2IHT+ekDu6iSjV+TPya+KvDFs9jHxTPuPbjWdoq6E691jcEwLOJSDi1Ll8nWFdxKkzqIrNChPYfjyVh2f8eM3xgb7ebHrhDmJC/Cs8jwwUAk4jcNVSMNdZS8E8JqVgnAZeDNtDQO2W+vr64ufnpw3buGEDNc6dw//zL8jfs0f7mV+jRsTGjyP0rrvwMkitZ3v4uqLv4bTDDFw5kKzCLAa0GMBztzwnHya4IhAyp64IiDjVVThsckbEqU2YpFNVEFBJOAbM2camw8k8cktdRnZtctVpwwJ9RZhWRUBkDvsInNpmLQXzValSMD2spWC6SykY+2hKbycS2Lp1K/3799f+qIy8uTt2kPjee+Tt2KnNquqTxowdS3jfe/Gy3kF1ojti2gEETmedZsCKASTlJXFfk/v415/+pd03lSYEqjsBEafu9wSIOHW/mHmsxyv3nmPkhz9TI9Sftc92JTRA6pF6bLA9ZWGXSsFMgzOWN/b4BJYqBXODp6xU1uFBBHbu3EmHDh3o36ED/2x2A7lbtlge3Ro1iBk9ioh+/fCy7qh60LI9dinJeckMXDGQk1kn6Va3G+/c8Y6WoVeaEBACIOLU/Z4CEafuFzOP9Div0ETPdzZwJj2P9x5tywM31fHIdcqiPISAVgpmLmz7oFQpmNqWu6TqTmlQlIcsVJbhKQQOHTpEs2bNtOXkHzrEoX/8A79fftX+7h0VRfTwYUQ+9hiGgABPWXK1WIc6wjtk1RAOpB6gXY12vN/rfQJUrWRpQkAIaAREnLrfgyDi1P1i5pEev736EJO/P0L7hlEsHtFR7sl4ZJQ9YFGJB2GrKgWzuKQUTJ2bLUd3W9wPUgrGA4LseUt4+eWX+b//+z9Wzp5Nyz17tSy8FBdjCAsj+qmniHryCQzBwZ63cA9fUYGpgJFrRrLjwg6aRTZjTu85hPmFefiqZXlCwD4CIk7t46WH3iJO9RCFau7D8eQc7nx3I6biYr4Z15nmcfLLtZo/EvpavlYKZq21FMz3Ft+0UjD3W0RpvVv15a94IwSuIPDhO+9w+p13uC80DC8lSoOCiBw4gOjBg/EOk39v3fGBMZqNPLP+GdadWke90Hos6LOAmMAYd1yK+CwEnEpAxKlT8TrFuIhTp2AVo/YQeGredr4/mMigTg35x30t7RkqfYWA8whopWA+hp9mQMphyzxSCsZ5vMWywwioTLzqXultzW4g5f0ZpH32GRQZ8fL3J/Lxx4keNhSfKDl67jDgVWxIJQ98bctrLD2yVBOkSpgqgSpNCAiBPxIQcep+T4WIU/eLmUd5vPbABYbM30FMiB9rn+1GeKAkcfCoAOtpMdlJkJ9RtkcB4RASC+mnYPss2DmvpH/M9dBhpCXRkZ8cf9RTWMWXywlkZWXR9aab6JOXxxPRMVBYCL6+RD78ENEjRuJbs4Ygc3MC7+x8h7l75xLqG8rc3nNpFmW5SyxNCAgBEaee8AyIOPWEKLrpGvKLTNpx3pOpuUx8qDUP3yKf/LppKPXvthKmCa2hKLdsX1USkSbd4bdVJaVgmva01CdtLKVg9B9k8dCUmUnK3LmcmzkLP5NJK18U/uADxIwajV9dSTLnCU+IEqVKnPp7+zOz10za1WznCcuSNQgBpxGQnVOnoXWaYRGnTkMrhssjMGntYd5Z8xs31Y/g85GdMBi8yhsirwuBihFIPgJTbrZtrCoF0/Yvlp3SWNmRsA2a9HIlgQ0rVxL+ww8ErlqNOTNTcyW0Tx9i48fh36iRK12TuR1IYOnhpby65VW8vbyZ1H0SXep2caB1MSUEPJOAiFP3i6uIU/eLmUd4fCo1VysdU2gy89WYzrSqG+4R65JF6JSAreL0trFw+7NSCkanYRS3Lidgzs/np9dfx/zZEqJ9fLQXQ3r00ERpgLVsjDDzDAJrT67VEiCZi8282flN+jbp6xkLk1UIAScTEHHqZMBOMC/i1AlQxWT5BEYs3MGqfRfo36E+bzzYqvwB0kMIVIaAreJ07E6IaVqZmWSsEHA6geLCQtK/+ILkadMxJiZq8yXXq0e7/00kuE0bp88vE1Qtge3nt2slYwrNhTx/6/M82eLJqnVAZhMCbkxAxKn7BU/EqfvFzO093vBbEgPnbCMiyJd1z3YjMtjP7dckC9ApAVUG5sRm2DoLDn5VvpMiTstnJD1cRqDYaCRxyRJO/HciobmW+9OBt9xMbPx4gttLSSOXBcaJEx9IOcDgVYPJKcphWKthxLeLd+JsYloIeB4BEaeOiak38BYwSBUuAFYDI9QHo2WYV6n3JgL3AkpsHgPuBs7a4I6IUxsgSRfHESgwmujz3iaOJefw5oOteLxDfccZF0tC4CKBpEOw6xPY8xlknLKdi4hT21lJzyojUGw2k7VyJUmTp1D4++/avGeDg+iQMIngP3XCy0vu61dZMKpwohOZJxiwYgCp+ak8dP1DvNrxVYl1FfKXqTyDgIhTx8TxZWAg0BtIAeYAQUCfq5hX4nU78BPwEpAKNAfUuzFLVoRrNxGn5RGS1x1KYPr6o/xn5UFa1Qln2Zg/4S1JkBzKt1obUxl59y6xiNJzv5agqNECmvSAHyeXj0fEafmMpEeVEVD1LLPXrSMpYRIFhw5p83o3bsyc/DyemjGD66+/vsp8kYmqlkBibqImTM9kn6FXg15M7DIRb4Pau5AmBISAPQREnNpDq+y+J4B/ArOtXZoARwCVcu/4FcPUjurfgcZAUQWmF3FaAWgypGIEzmXk0ePtDeQWmlg6uhM31Y+smCEZJQQuEijKg4Pfwu7FcGRtSQmYkJrQ6mFo/SjUagUpR23L1iviVJ4tHRBQojRnyxZNlObv3q155NuwIbHjxhLWpw9eBoMOvBQXnEUgoyCDQSsHcST9CB3iOjCtxzT8vOX6i7N4i13PJiDitPLxVSlL04GbgFIf/aMqx6sb8FdemvoEUO/wzwD3A0nATOCdMlxRH7uV/q2m0vvlFhYW4uurdKo0IeA8AmM/+plvdp/jkVvq8t+HJGmH80h7uOWL90h3LYb9X0JhlmXBvkFww73Q5lFo1A28LdlLtWZLnVM1fvxuCIn1cICyPD0TyN25k6T3Esjdrg5FwYXiYiadP0+/yZN4YsAAPbsuvjmAQG5RLsPXDGdX0i5aRrdk9l2zCfYNdoBlMSEEqicBEaeVj3s94KR1J9RyscTS1G6qOu774RVTfAf0ACYA04HWwEpgPLDoKu78A3jtyp+LOK184MTCtQlsOZrM47O2Ehbgw/fPdSMmxF+QCQH7CCQehN2fwO7PIPO0dawXNO4KrR+D5veCf2jZNpVAzVef85XRAsJFmNoXEentQAJ5e/aSNGkSOZs2aVZ9YmOJHjWSfXFx/Lx7N+PGjcMgO6YOJK4/U0XmIuK/j2fzmc00DGvI/D7ziQqI0p+j4pEQcCMCIk4rH6wIIM2OndOlgErRV7fU1O8BtYFHruKO7JxWPkZiwU4CRSYzdyds4nBiNq/f15KBnRraaUG6V1sC2YmwZ4lFlJ7bVYJB3SNt85jl6G6Y+udOmhBwTwL5v/1G8uTJZK1RnzVDnq8vvzRqyOBPP8UQoNJKSKsOBFT90pc2vcTy35dTM6gmC/ssJC4krjosXdYoBJxKQMSpY/CqXdLXrYmQlEV1n/RoGXdO1S7oUEDtuF5sSpyqf9EetcEduXNqAyTpUjkCH2w6xr+/PcANtUL5ZlxnfNaYZRwAACAASURBVLzlvlTliHr46MJcOLTcktjo6Pdl3yOVDKUe/iB49vIKjx/Xsu9mLl8OxcUYQkPh/vvp9OYbFBgMHD16lJo1a3o2BFmdRkDdMX5r21t8dPAjwv3DWdB7AY0j1Fs/aUJACFSWgIjTyhK0jFfHd9XFkovZelViJHVWTf39ytYAOAD8FZgB3Aioj1/HAottcEfEqQ2QpEvFCSRm5tP97Q1kFxj5bORt3NpQjihVnKYHj6zIPVIPxiFL81wCRWfOkDR9OhlLl4HJhFdgIFEDBhD91GC8w8P5/PPPadOmDU2bNvVcCLKyywjM2DWDqb9OJdAnkA/u/IDWseqGljQhIAQcQUDEqSMogjp6+x9rnVN1MW8NMNxa57Q/8D4QUmqqbsC7gMopr2qbqp3TqTa6IuLURlDSrWIEnln8K1/8coYHb6rDu4+2rZgRGeW5BCp7j9RzycjKPIxAUWIiKTPeJ+2zz6CoCC8/P3K6dGHIt9/w7D//yZNPqpyH0qobgcUHF/Pvrf/Gx+DD1B5T6VS7U3VDIOsVAk4lIOLUqXidYlzEqVOwilFFYPvxVB6e8SMh/j58/2xXaoTJ/Sl5MlTm3LLukba0ZNqVe6TymHgQAWNaGimzPiBt0SKKCwrAx4eIhx8iZuRIvtmyhX79+nH//fezbNkyD1q1LMUWAiuPr+T5Dc9rXf/b9b/0bni1A3K2WJI+QkAIlEVAxKn7PRsiTt0vZm7hsdFkpu+UHzhwLpO/39OcobfL/Rm3CJyznCzvHqlKbqTqkUoTAh5CwJSVRerceaTOn485JwcMBsLvv5+iBx+gQfv2l1a5fPlyevfuLZl4PSTuti5jy5ktjPl+DEazkVc6vsIjza6Ww9JWa9JPCAgBEaee8wyIOPWcWOpqJQt+PM6rX+7juhohLB9/O76SBElX8akSZ9Q90uObYLeqR/qVbfVIq8QxmUQIOI+AOTeX1IUfkjJnDuYMS+misLv7ED1mDM8nJPD++++zfft2WreWe4XOi4K+Le9O2s3Q1UPJM+Yxpu0YRrYZqW+HxTsh4MYEZOfU/YIn4tT9YqZ7j1OyC7jjf+vJzDfy0dAOdGoao3ufxUEHErh0j/RTyDxjNVy6Hmlf8C99bd6Bc4spIeAiAuaCAtI/+YTkmbMwpaRoXoR0705s/DgCbrhB+/tLL73EpEmTmDt3Lo88IjtlLgqVS6c9mn6UgSsHklGQQf/m/Xnh1hfwkszjLo2JTO7ZBEScul98RZy6X8x07/ELS3azeMcp7mkdx9TH2+neX3HQAQTkHqkDIIoJdyRQXFRE+udfkDx9OsYLF7QlBHfqROyE8RgbNeL333+/tEuan5/P2bNnadxYrjm4Y6wr6/O57HM8ueJJLuRe4J7G9/Bm5zcxeElptcpylfFC4FoERJy63/Mh4tT9YqZrj385mcaD07YQ6OvN9891JS48UNf+inOVIFDmPdJa0OohkHuklYArQ/VOoNhkIuPrr0meOo2iU6c0dwPbtdNEaXD79pw+fZrOnTtjMpnYu3cv4eHhel+S+OdEAqn5qQxcMZDjmcfpXKczk7pPwteg3oJJEwJCwJkERJw6k65zbIs4dQ7XamnVZC7mgak/sOdMBs/3bsboblKnz+MehGvdI23eF1o/Co27gUFVxJImBDyPQLHZTNbq1SRNmkzhsWPaAgNatrSI0s6dLx3RLC4uplevXhiNRhYtWkSdOnU8D4asyCYCOUU5DFk1hH0p+2gb25aZd87UappKEwJCwPkERJw6n7GjZxBx6mii1djex9tO8tIXe2gUE8zKCbfj7yMCxWMeh8QDsOsT2PPZH++RtvkL3HCv3CP1mGDLQq5GQInN7PXrNVFacOCA1sX/uuuIHR9PSI8emihdu3YtTZs2pUGDBtrr6enphIWFSSbeavxIFZoKGf3daLae30rTiKbM6z2PcH/ZRa/Gj4QsvYoJiDitYuAOmE7EqQMgiglIzy3UkiCl5RYx/6n2dL0+VrC4O4GsC7B3iUWUnt9dspoaUo/U3UMr/ttHIOfHH0l6L4G8Xbu0gX4NGhAzbhxhfXrj5W35EO7DDz/kySef1HZLV61aJUlu7EPskb1NZhPPbXiO705+R52QOizos4AaQTU8cq2yKCGgVwIiTvUambL9EnHqfjHTpcd/X7aHD386yZ0tajJzwC269FGcsoGA3CO1AZJ0qS4Ecn/+haSEBHK3btWW7FM7jtgxY7R6pV4+PpdhULukHTt2ZNy4cYwaNUp2S6vLQ1LGOtVO++s/vs7nhz8nKiBKE6YNwiw76tKEgBCoOgIiTquOtaNmEnHqKJLV2M7eMxn0nbIZP28D3z3TlXpRQdWYhhsuXe6RumHQxGVnEsjbt08TpTkbN2nTeMfGEDNyJBEPP4zBz0/7WVZWFu+88w4vvvgi/v7+2s/U/VKfK0SrM/0U2/olMOnnSczaM4sQ3xDm3DWH5tHN9euseCYEPJiAiFP3C66IU/eLma48NpuLeWjGFn4+mc7TPa9nfM/rdOWfOHMNAle7R6rKGjTqasm0K/dI5fGpZgQKDh/W7pRmrVljEaUREUQPG0bk43/BEHh5ApsHHniAL7/8kr///e/861//qmakZLnXIrBg3wIm7piIn8GPGb1mcGutWwWYEBACLiIg4tRF4CsxrYjTSsCTofDZjlP8dclu6kcFsfrpLgT4ShKkKn0uspMgP6PsKQPCIaTU/d+y7pHWvNGSabfVwxAWV6VLkMmEgKsJFJ44QdKUqWR+8w0UF2MICSHqqcFEDRiId0jwVd3btWsXzz//PNOnT5e6pa4OoI7m/+roV7y8+WWtfum73d6le/3uOvJOXBEC1Y+AiFP3i7mIU/eLmW48zsgrosfb60nOLuSDAbfQs0VN3fhWLRxRwjShNRTllr1c3yAYvRVObYXdn8DRdVBssvQPkXqk1eI5kUWWSaDo7FmSp08n/YulYDLhFRhI1JNPEv3UYG3XtHRbs2YNq1evZuLEiUJUCFyVwPpT65mwbgKmYhP/7PRPHrzuQSElBISAiwmIOHVxACowvYjTCkCTIRYCr3+9j7k/HOeOZrHMGXSrZKes6gcj+QhMubn8WZVAvShg1fdSj7R8ZtLDowkYk5JIfn8m6YsXU1xUhJefH5F/eUw7wusTE/OHtWdmZtKwYUPS0tJYt24d3bp182g+sjj7Cey8sJMRa0ZQYCrgmZufYfCNg+03IiOEgBBwOAERpw5H6nSDIk6djtgzJzh4PpN7Jm3G28tLO87bMObqR988c/U6WZWt4hQvaNxN7pHqJGzihusIGNPSSJ09m9QPF1Gcnw8+PkT8+c/EjBqJb61a13Tso48+0sSpZOJ1Xfz0OvOh1EMMXjmYrKIsTZQqcSpNCAgBfRAQcaqPONjjhYhTe2hJX42ASpH/6Myf2PZ7KmPvaMpzdzUTMq4gYKs4HbwCGnRyhYcypxDQBQFTVhap8+aTOm8e5pwcMBgI79uXmLFj8KtX7w8+qp3Sv/71r7Rs2ZL4+HhdrEGc0CeBU5mnGLByAMl5yTzY9EFe7/S6nCLSZ6jEq2pKQMSp+wVexKn7xczlHn/56xnGf/IrdSICtdIxgX6SBKnKgqLqkKr7o79vhN9WQeK+8qceuxNimpbfT3oIAQ8jYM7NJXXRIlI/mI0pw5I4LLR3b2LHjcW/SZMyV7thwwbt6G5sbCzHjx8nKEjKY3nYo+GQ5STlJjFgxQBOZ5+me73uvN3tbXwMl9e/dchEYkQICIEKExBxWmF0Lhso4tRl6N1z4uwCI93/t57ErAKm929Hn1aS2dWpkTQVwZmdFjF6bAOc3gamQvumFHFqHy/p7fYEzAUFpC/+lOSZMzElJ2vrCVFic3w8Ac2vXm9SvYHx9VW/Ei1t2rRp9OnTh0aNGrk9D1mA4wlkFmZqR3l/S/tNKxUzved0/L0t9W6lCQEhoB8CIk71EwtbPRFxaisp6acReHP5AWZuPMbt18Ww4Kn2cnzJ0c+F2QTn91jE6O8b4MSPUJRTMou3H9RtD427QlRj+HxI+R6IOC2fkfTwCAIquVH60qUkT5uO8fx5bU3BnW4jNj6ewLZty1yjysQ7fPhwFi5cSOfOnT2ChSzCeQTyjHmMXDOSnxN/pnlUc+bcNYcQvxDnTSiWhYAQqDABEacVRueygSJOXYbe/SY+kphF7/c2aY6vnNCFpjXkl3Glo1hcDMm/lYjR3zdBfnqJWS8D1L4JGnWFRl2gXgfwsx4xtPXOqYjTSodJDOibQLHJROa332q1SotOntScDbzpJmInTCC4Q/tynVflYVTN0iFDhvDBBx+U2186VF8CReYinl73NBtOb6BBWAPm955PdGB09QUiKxcCOicg4lTnAbqKeyJO3S9mLvFYJUF6cvY2Nh9JZkSXxrx099WPxrnEOXebNO2EVYyq3dGNkG3Z4bnUarS0CFG1O6oSGQWEX32FttY5Hb8bQmLdjZL4KwTKJVBsNpO15juSJk+i8MhRrX9AixbEThhP8O23X/NkR3JyMjHWsjEmk4klS5bw8MMPYzAYyp1XOlRPAuZiM6/88ApfHf2KGoE1WHD3AuqE1KmeMGTVQsBNCIg4dZNAlXJTxKn7xcwlHi/fc47Ri36mZpg/a5/tRoi/JH2wORDZiaV2RjdC2vHLh6rjuUqMqt3RhrfbJySVQM23JHq5alPCVoSpzaGSju5BQH1YlrNxI4kJCRTsP6A57de0iXZ8N7RXr2uKUvVGZfTo0SxdupR9+/ZRs2ZN91i0eOlSAuqZm7hjIgv3LyTML4x5vedxXeR1LvVJJhcCQqB8AiJOy2ektx4iTvUWER36k1topOfbGzibkU/CY225v618UnzNMOWlw/HNJbujSZY3z5daaFzJMV0lSiP+WMpCh4+BuCQEdEEg56etJCUkkPfLL5o/vvXra9l3w+6+Gy9v2zKHqx3SFStW8Pnnn3PXXXfpYl3ihL4JfLDnAxJ+TiDQJ5CZvWbStkbZd5j1vRLxTghULwIiTt0v3iJO3S9mVe7xxFUHmbruKB0aRfHJ8I6SBOnKCBTmwMkfS8TouV1QbC7pFRgFjW4v2R2NbgpeXlUeR5lQCLgzgdxffiEpYRK5P/2kLcMnLo6Y0aOIeOABvEpl2b3aGjMyMkhPT6dBgwbay4mJieTm5tKwYUN3RiK+VxGBJb8t4fUfX8fHy4fJPSbTuY4kzaoi9DKNEKg0ARGnlUZY5QZEnFY5cvea8PfkHO56dyOm4mKWx99Os1qh7rUAZ3hrLIQzOyylXdSd0dPbwVxUMpPK2tjgT1Yx2gVq3ghyj80ZkRCb1YBA/v79mijN3rBBW613TAwxI0YQ8egjGPz8yiWwf/9+bXc0Li6OLVu24OMjVxLKhSYdLhFYc2INz214DnXf9K3b3+KexvcIHSEgBNyIgIhTNwqW1VURp+4XsyrzWN2xGTxvO+sPJfHUnxrxat8WVTa3riZS5V3Ubqgq7aLE6MmfoCi3xEVV265+h5KdUZVd17ukXqKu1iLOCAE3IVBw5AhJk6eQtWqVRZSGhxM9bCiR/ftjCAy0eRV5eXm0bduWevXqsXjxYqKjJbOqzfCqecet57Yy6rtRqAy9L7Z/kf7N+1dzIrJ8IeB+BEScul/MRJy6X8yqzOM1+y8wbMEOYkL8+P65boQFVBPBpcq7JB20CFG1O6rujxaUSjrk5Q112pUq79IefG1/s1xlAZSJhIAbEig8eZLkqVPJ+PobMJsxhIQQNXgQUQMH4h1iW/mq7777jg4dOhAaajnpce7cOWrVqiVXEtzweXCVy/uS9/HUqqfINeYyss1IxrQd4ypXZF4hIAQqQUDEaSXguWioiFMXgdf7tPlFJnq9u4FTqXn87+E2PHRzXb27XHH/lBhVGXSVGNV2RzdBTuLl9mq2spR2UQmM6t8GAWEVn09GCgEh8AcCRefOkTx9BulffAFGI14BAUQ9+QRRTz2FT2SkzcTee+89nn76aUaOHMn06dNtHicdhcBFAscyjjFoxSDSCtJ4tNmjvNzhZflgQx4PIeCmBEScWgKnLrREAOmAUeexFHGq8wC5yr33vvuN9747zM0NIvlsxG0YDB6WwCfzHBzfZBGjxzZCxsnLUaukRaXLuwTLUUBXPYsyr2cTMCYnkzxzJukff0JxUZGW3CjisceIGT4Mn1j76/MePXqUP/3pT7z++uuMGDHCs+HJ6hxO4HzOeZ5c8STqa++GvbV7pt4G27JAO9wZMSgEhEClCVRncRoHqN+CDwA3AuqdfDGwD1gGzFAniypN2PEGRJw6nqnbWzyVmkvPdzZQZDLz1djO3Fgn3O3XRG7q5eVdkg9dvqawOpeXdwmXcjnuH3RZgZ4JmNLTSZk9m9QPF1Gclwc+PkT060fMqJH4xqlfqbY1lYl33rx5xMfHX9rdys/PJyAgwDYD0ksIWAmk56czcOVA1M5pp9qdmNJ9Cr6SP0CeDyHg1gSqqzj9J6AuI6wA1gB7gExAnftTQrUX0AeYCrymswiLONVZQPTgjrpnqu6bPtmxAf96QD3CbtgKsq3lXaxJjM7ttn5eZF1LUHRJNt1GXSGqsZR3ccMwi8vuR8CUnU3q/Pmkzp2HOTtb+/8urO+9xI4di1/9+nYtSCVt69ixI9u2bWPOnDkMHjzYrvHSWQhcJJBblMvQ1UPZk7yH1jGtmXXnLIJ8gwSQEBACbk6guorTtwD1Rx3jLaupY77PA3/TWYxFnOosIK52Z92hRAbP3U5kkC/rnutGRFD5pRoc5nN2EuSXSjx0peGAcAgp45ifsQBObSupNapKvZhLnar3D7u8vEuNFlLexWGBE0NCoHwC5rw80hYtImXWB5gyLP+fh951F7HjxuLftGn5Bsro8fXXXzNp0iQ++OCDS3VMK2xMBlZLAkWmIsZ+P5YtZ7fQOLwx83vPJyJAvW2TJgSEgLsTqK7i1J3jJuLUnaPnYN8LjCatpunxlFze6teKx9rbt4tRKXeUME1ofXmJlisNqk+xx++2CFST0VreZX1JeRdjfskInwCo37Hk3mhcW/CW+oaVipEMFgIVIGAuLCR98ackv/8+puRkzUJI167ExI8jsGVLuy2uWLGCw4cPa8d4Lza1g+rl5WH34u0mIwMqQsBkNvHiphdZeXwlccFxLOizgFrBtSpiSsYIASGgQwIiTuFlYDZwXofxuZpLIk7dJFBV4ebUdUeYuOoQbeqGs3T0n6o2CVLyEZhyc/nL7PwMJB6AEz9AgTo9b20GH6hzS8lR3bq3gq/cOSsfqPQQAs4hoJIbZXz5JUnTpmE8a0m5ENSxI7Hx8QS1u6lCk548eZImTZpoY/fu3UuzZs0qZEcGCQFFQH2o8cbWN1h8aDGR/pHM7zOfRuGNBI4QEAIeREDEKWwEOgArgZnA8ssvuuku2iJOdRcS1zh0Nj2PHm9vIN9o0oRp23pVfKTJVnF6CY8X1LpY3qWrZZfU31LTUJoQEAKuI1BsMpG5fDlJU6ZQdMKSBTuwTRtin55AcMeOlXbsrbfeIioqimHDhsluaaVpVm8DU3+dyoxdMwjyCWLOXXNoGWP/Tn71JiirFwL6JyDi1BKj64EhwABrKZm51t3UEzoMoYhTHQbFFS6NWfQz3+45x2O31uOtP7euehdsFaetHobm90HDzhAUVfV+yoxCQAhclYDahcpas4bkyZMpOHxE6+PfvDmx4+O1Y7wVOXabnp7OM888Q79+/bj33nuFvBBwGIFFBxbx1ra38DX4Mr3ndDrEqX0FaUJACHgaARGnl0dUFcZSv01Vhl71bv874D3rrqpeYi/iVC+RcKEfPxxJpv8HWwkL8NGSIEWH+Fe9N7aK07E7IabiyVOqfmEyoxDwbAJKlOZs2kTSewnk79+vLdavSRPt+G5or554GQwVBrBw4UIGDBigHd/dv38/hkrYqrATMtDjCHx77FvtnqnBy8DbXd+mZ4OeHrdGWZAQEAIWAiJOS54EleL0IWAo0B5YAvwODAO+tJae0cNzI+JUD1FwoQ+FRjN3T9rEkcRs/nV/S568raFrvBFx6hruMqsQqASBnK3bSEpIIO/nnzUrvvXqadl3w+65By9v9fms/c1sNl8SoUr4vvbaawwZMkQy8dqPUkZchcCm05uI/z4eY7GR1257jYeuV2/VpAkBIeCpBEScQhurIH0cOAPMAhYAF+tj1ATUeSe9XI4Tceqp/zfauK5ZG4/xxvIDtIgL4+txnfE2uCjjpYhTGyMm3YSA6wnk/forSZMmkbPlR80Zn1q1iBk9iogHH8TLV/1aqVhTmXiffvpp1NdGjSQxTcUoyqiyCPya+CvDVg8j35TP+HbjGdpK7R9IEwJCwJMJiDiFXOBTqyj9oYxgvw08q5MHQcSpTgLhCjcuZObT/X/rySk0sWTkbdzS0IV3OEWcuuIRkDmFgF0E8g8cIClhEtnr12vjvKOjiRkxgohHH8HgX/nrACNGjGDmzJm89NJLvPnmm3b5Jp2FwLUIHE47zMCVA8kqzGJAiwE8d8tzFboHLZSFgBBwLwIiTkGlOE13o7CJOHWjYDna1Qmf/MKyX8/Sr10d3nmkraPN22cv6TeYeuu1x5Suc2qfdektBIRAJQgUHDtG0qTJZK1UiejBEB5O9NAhRPXvjyEoqBKWISsri9BQy2GizMxMli5dqt0zrUgCpUo5IoM9lsDprNMMWDGApLwk7mtyH//607+0+6bShIAQ8HwCIk7dL8YiTt0vZg7xeOuxFB6d+ROh/j6sfa4rNUJdXBN0yRDYuwQa/An6JgBXOV4cEA4hsQ5ZvxgRAkKgfAKFp06RPGUqGV9/DeouaHAwUYMGETVoIN5WQVm+lav3yMnJYezYsfz000/88ssvBAS4+N+gii5ExumaQHJeMgNXDORk1km61u3Ku3e8q2XolSYEhED1IFBdxek6O2uZzrPeQ9XDUyHiVA9RqGIfjCYz907ezMHzWbxybwuGdHbx3a59y+CzgRAQAaN/grC4KiYi0wkBIVCaQNH58yRPn0H655+D0YhXQABRT/QnasgQfCIjHQLLaDRy2223cejQIdasWUOHDlLKwyFgxcglAuoI75BVQziQeoB2Ndrxfq/3CfCRD0HkEREC1YlAdRWnA+0M8q/ALjvHOKu7iFNnkdWx3Xk//M4/vt7P9TVD+Db+dny9XXi8KTsJpnWA3BToNwtaP6JjcuKaEPBsAsaUFFJmziTt408oLizUkhtFPPoo0cOH4VujRqUXr+qWqmy8UVGW++2HDx/G39+f+vXrV9q2GBACpQkUmAoYuWYkOy7soFlkM+b0nkOYX5hAEgJCoJoRqK7i1J3DLOLUnaNXAd+Tsgro/vZ6svKNfDysI7c1ia6AFQcNKS6GxU/AwW+geV94ZCF4uShbsIOWJGaEgDsSMGVkkDJ7Dqkffkhxbi54exPR70FiRo3Ct3Zthyxp69at9OvXj86dO7N48WKH2BQjQuBqBIxmI8+sf4Z1p9ZRN6QuC+9eSExgjMASAkKgGhIQcVoSdFUyph5wCrig42dBxKmOg+MM1/762S4+23mavm1qM/kvNzljCttt7v4UvhgGQdEweqvcJ7WdnPQUAg4hYMrOIXXBfFLnzsOclaV9OBR2773Ejh2DX4MGDpnjopHz58/TsmVLbrnlFpYtW0ZgYKBD7YsxIaAIaLVxt7zG0iNLNUG6oM8C6oWqt2PShIAQqI4ERJyCuoyzELjb+gAUA8sBdfQ3VYcPhYhTHQbFWS7tPJHGn6dvIcjPm7XPdiUu3IVvDjPPwrSOkJ9h2TFtcZ+zli12hYAQuIKAOS+PtI8+JmXWLEzplgTzob16ETNuLAHXX+8wXhs2bNB2Sr29vTWbR48epXHjxpKJ12GExdCVBN7Z+Q5z984l1DeUub3n0iyqmUASAkKgGhMQcQoq2ZE6O/KM+j0MNAH+ZxWmg3T4bIg41WFQnOGSyVzM/VM3s/dMJi/2uYGRXdWj6aKmjvMuehiOrIFWD8OfP3CRIzKtEKheBMyFhaR/9hkpM97HmJSkLT64y+3Exo8n8MaWDoXxyiuv8O9//5v//e9/PPusXkp7O3SJYkxnBJQoVeLU39tfS350c82bdeahuCMEhEBVExBxCmeB5kBGKfhqN3U/oMcUpCJOq/r/EhfNt2jrCV5eupfGscGsHN8FPx8XJkHaOR++joeQWjD6RwiyJEeRJgSEgHMIFBuNZHz5JclTp1F0Vv2agqD27YmdMJ6gdu2cMummTZu47777eO+99xg40N68gU5xSYx6MIGlh5fy6pZX8fbyJuGOBLrW6+rBq5WlCQEhYCsBEacWcXqDqiVeClo4cFDEqa2PkfRzNIG0nELueHs96blFLHiqPV2ud2Gt0PSTMK0TFGbB45/C9Xc5erliTwgIASuBYrOZzOUrSJ48mcITJ7SfBrRpTY0JEwjq2NGhx2vT0tJYvnw5/fv3v8Q/MzOTsDDJkCoPpHMJrD25VkuAZC4282bnN+nbpK9zJxTrQkAIuA0BEaewAFBi9GngONAQeBvIAgboMJKyc6rDoDjapb8t3cNHW0/Su2UtZjzpwmNOZjMsvB9+3wg3PQH3T3X0UsWeEBAC1qQw2WvXkpQwiYLDhzUm/jfcQOz4eEK6dXOoKFW21S//5s2ba3dK169fT9eusmslD2LVENh+frtWMqbQXMhfb/krA1rq8a1W1bCQWYSAEPgjARGnoM4nfgTcqd4fWBGtBp4AUnT40Ig41WFQHOnS7tPp3D/1B/x9DHz3TFfqRgY50rx9trbOhBV/hfB6MGoLBMiOin0ApbcQuDYBlak0Z/MPJCUkkL93r9bZr3FjYuPHEXrnnXgZnHec/91332XVqlXMmjWLevUkO6o8q84ncCDlAINXDSanKIdhrYYR3y7e+ZPKDEJACLgVARGnJeFS90svlpI5p+MoijjVINpkhgAAIABJREFUcXAq65rZXEy/6Vv49VQ6z/a6nnE9rqusyYqPTzkKMzpDUS4M+BIad6u4LRkpBITAHwjkbt9OYkICeTt2aq/51q1LzNgxhPfti5c1W64jsX399dcUFhby5z//WTNrNpu1HVn1R5oQcDaBE5knGLBiAKn5qTx0/UO82vFVefacDV3sCwE3JCDi1P2CJuLU/WJms8efbj/F85/vpkF0EKsmdCHA11LOocqb2QRz+8CprXDrMLhHJbCWJgSEgCMI5O3eTdJ7CeRs2aKZ86lZk5hRo4j4cz+8fNU/8Y5vO3bs4NZbbyUyMpJDhw4RG+vCe+yOX55Y1DmBxNxETZieyT5Drwa9mNhlIt4GF/1+0zkrcU8IVHcC1VWczgdes94xLesZUHdPX7fWO9XTcyLiVE/RcKAvGblFdH97PSk5hcwZdAvdb6jpQOt2mvphEqx5BSIbwagfwC/YTgPSXQgIgSsJ5B86pN0pzf7+e+0l76goYkYMJ+KxxzD4+zsd2KhRozSBOnjwYNmxcjptmeAigYyCDAatHMSR9CN0iOvAtB7T8PP2E0BCQAgIgasSqK7idKRVeO4G1ljLxqhsvepCXQugF9AaeAWYqbNnR8SpzgLiKHde+3Iv8388QY8bajB70K2OMmu/ncSD8H4XMBXC4BXQ4Db7bcgIISAELhEoOPY7yVMma1l4VTOEhRE9ZAhRT/THEOycD35UJt5nnnlG+9OqVSuJhhBwCYHcolyGrxnOrqRdtIxuyey7ZhPs65xn3iULlEmFgBBwOIHqKk4VSJVlRiU9egBQReNUbdM04BdgGbAQyHU48cobFHFaeYa6s7D/bCb3Tt6Ej7eBNU93oUG0i355m4wwuyec/QVuGwt3vaE7VuKQEHAXAoWnT2t1SlW9UsxmDEFBRA0aSNSgQXg7uVzLv/71L1599VXuuOMOvrfu1LoLN/HTMwgUmYuI/z6ezWc20zCsIfP7zCcqQGpke0Z0ZRVCwHkEqrM4VVSbAuoj5V3AMedhdqhlEacOxel6Yypb5yPv/8j242nEd2/KM3c2c51TGybCun9DzPUwYiP4BrrOF5lZCLgpgaILF0ieMYP0JZ+rmi14+fsT2b8/0cOG4hOpPgd1TlP/llxMblRQUKDtmr700kvUrVvXOROKVSFQBgFVv/SlTS+x/Pfl1AyqycI+C4kLUXknpQkBISAErk2gOovTfsBide0HKATU35e7wQMj4tQNgmSPi0t/Oc3Ti3dRJyJQKx0T6OeiJBHndsOsO6C4GIasgbourK9qD0DpKwR0QsCYmkrKzFmkffwxxQUF4OtL5MMPEz1yBL41ajjVy6+++oo33niD1atXEx6uSndLEwKuIaA+JHlr21t8dPAjwv3DWdB7AY0jGrvGGZlVCAgBtyNQncXpz8DHwDRgLNAX6OwGERRx6gZBstXFrHyVBGkDSVkFzHjiZnrfWMvWoY7tZyyAWd3hwl64/Tnooa5bSxMCQsAWAqaMDFLmziV1wUKKc3PB25vwBx8gdtQofOvUscVEpfooMdCrVy/Wrl3Le++9x/jx4ytlTwYLAVsIpOSlkFWY9Yeunxz8hEUHFxHgHaDdMW0dq1J4SBMCQkAI2EagOotTdb80WpV6U+XlgFOAi5SBbcGy9hJxahcufXf+9zf7+WDz79x+XQwLnmrvugyaa/8Jm96GmjfCsHXgI5kU9f3kiHd6IGDKziHtw4WkzJmLOTMTvLwIu/turVapf6NGTncxPz+fgIAAbZ4TJ05od0sHDRrkun9HnL5imUAvBJQw7fNFH/KMeWW65GfwY/VDq4kOVG+1pAkBISAEbCNQncXpxey8F0mlAu5wU1/EqW3Ptu57/XYhiz4JmzB4wcoJXWgSG+Ian0/vgNm9wMsbhq+DWpLZ0zWBkFndhYA5P5+0jz8hZeZMTGnqc04I6dmD2HHxBDS73unLSE9PZ9y4cVy4cIFVq1aJGHU6cZngSgLHM47Td5k6cHbt9vUDX9MwXFXmkyYEhIAQsI1AdRan+cA/S2H6O/DvK7C9aRvGKu0l4rRKcTtnMnUM7//ZOw/wqqqsf7/JTe/t0kE6goACgnQIRZoUkSJdeg98o87M31FnLPP5OSNKEgi9iagoIooKSgm9iTQRQTqh5qaTepN783/OCWbQEbhJbjs36zyPRszeq7zrJOSXvffaw5ccZP+FZKZ0qsNfez1sG0cPspqfAws7QPJZiHwZOr34oBnyeSFQbgkUGo2krltH8oKFFBgMKgf/Dh3QR0Xh26Sx3bgo4rRx48ZkZmZy6NAh6te3vSC2W3LiSBMERJxqokwSpBDQJIHyLE53AIX3qZryuS5OWFURp05YlJKG9NWJ68z48CiVgnzY9nwn/L09SmrCOuO//RvsnwdVmhc1QdI5KA7rZCNWhIBNCBQWFJD+5UaS5s8n/9o11Yff44+jnz1L/WiPJyUlBX9/f7y9vVV3Bw8eVLvwVrXDmVZ75Cc+tEVAxKm26iXRCgEtESjP4lRLdbo7VhGnWq3cnbiz8gro9u5ObqTnEjusGX0freKYjC7vgxW9QecFU3aD3oFX2DiGgHgVAvclUGg2k7FpE0mx8zBeuqSO9WnaFP2sKPzbtrXbdlrlLOnw4cMZP3682pFXHiHgKALZ+dnsu76Pjec3sj1h+wPDkG29D0QkA4SAEPgdARGn2nslRJxqr2a/ifjtzadZsOM8bWqH8+HEJ+z2A+5vgsjLhIXtIPUSPPkmtJ2pcaoSvhCwHgFl233m9u0YomPI++UX1bB3gwaqKA2IjLT71+zx48d5/PHH6dOnD+vXr8fd3d16yYolIfAAAkk5SexI2EF8QjwHrh/AaFZu37PsEXFqGScZJQSEwH8IiDjV3tsg4lR7NSuO+IIhkx5zd2EuhE2zOlC/YqBjsvn6efh+KVRvDWO/AXcH3a3qmOzFqxD4QwKKKM3auw9DdDS5P/6ojvGqVQv9zBkE9uyJmx1F4eHDh1VB+utz4sQJmjRpYndhLK9K+SOgfB1cSL+gitH4K/GcSDpRDMHD3YNWlVrRNKIpC08sfCAcEacPRCQDhIAQ+B0BEafaeyVEnGqvZmrEyl/4Y1Z8z65fDIxvX4tXnmrkmEzOx8PqAeDpB1P2QHgdx8QhXoWAExHIPnwYw9xolI/Ko9xPGjF9OsH9+uLmYd+z2NOnTycuLo4NGzbQv39/J6IkobgqAZPZxDHDMVWMKqL0yu0rxakGegbSvlp7ulTvQruq7Qj0CkTOnLrqmyB5CQHHExBx6vgalDQCEaclJeYk47/96SaTV/9ARIA38S90ItBHKaWdn9x0iGsLGVeh9zvQaqKdAxB3QsC5COT8+KO6fTdrzx41MI8KFYiYOoWQZ57Bzcsx9/2uWrWKWbNmsWTJEgYPHuxcwCQalyGgnB/df2O/Kkh3Xd1Fal7RtUjKU8m/EpHVI9V/Hq/4OJ663/59Zck9p74evmwauEnuOXWZN0YSEQL2ISDi1D6crelFxKk1adrJVo7RpDZBupaWw7tDHmVg82p28vw7Nxumw7EPoFZHGPUF2HGbomMSFq9C4I8J5J75BUNsDJlbt6kDdGFhhE+aSOizz+Lu42NXbMnJySjbeHv06KH6VXZZJCUlodfr7RqHOHN9Asr5UUWIKoJUEaZ5przipBuGNVTFaOfqnXk47OEHbiFXBOpt4+17QlNWWMN9w10fqmQoBISAVQmIOLUqTrsYE3FqF8zWdfLull+I2XaWljVD+WRymwf+pW9d73esndkMHw0Fr0CYtg9CatjEjRgVAs5MIO/iRZLmzSfjm28UFYh7UBDh48YRNmok7v7+dg9dubO0YcOGpKeno5wrrVu3rt1jEIeuTUA5P6o2NLoSz3HDcQrv3KLn4ebB45UeL14hrRxQ2bVBSHZCQAhogoCIU02U6TdBijjVWM2uJGfT7b2dFJjMfDWzA42qBNk/g+wUiGsNmbegXyw0H23/GMSjEHAgAePVayQtiCN9wxdgMuHm50fYmNGEjx2LLsgBX5N3sVDOmF6+fJnFixdTpYqDrpZyYG3EtXUJKOdHlSZGv54fvZRRdA2S8gR4BtC+antVkCrnSIO8HPvuWzdzsSYEhIArEBBxqr0qijjVWM0mrPqerT8nMqbNQ7zWv7Fjol83Hk6ug3pPwvBPwM3NMXGIVyFgZwL5txJJXrSQ1E/XQX4+bt7ehA4fTvjECXiEhdk5miJ3n3/+OZUqVaJNmzbqn5W/iD08PByzo8IhBMSptQnkFOSo17wozYx2Xt1JSm5KsYuKfhXVrbpKQ6OWlVr+1/lRa8ci9oSAEBACZSEg4rQs9BwzV8SpY7iXyuv207cYt/IwYf5exD/fmWA/BzRB+mkDfDoGfEJg2gEIkq1bpSqmTNIUgYLUVJIXLyH1ww8pzMsDT09CBw8ifPJkPCtWdFguX375pdqBt169euo2Xh87n291WOLi2OoEFAG6M2GnKkj3X99Prim32EeD0AaqII2sEUmjsEbyiw+r0xeDQkAI2IqAiFNbkbWdXRGntmNrVcu5+Sb1TtPLydm8/UwThrZ0wBnPTAPEPQHZyTBwCTQdYtUcxZgQcDYCpowMklesIHXV+5izs9WmX8EDBhAxbRpe1ao6PFyTyUTfvn159tlnGTVqlIgGh1dEWwEoV7io50cT4tWrX8yFZjUBnZtO7aqriFFFlFYNcPy7ri2yEq0QEALOQkDEqbNUwvI4RJxazsqhI+dtP8s73/3Co9VD+HxqW9zd7byVtrAQ1o6E019Bw74wZLVs53XoGyHObUnAnJVFyuoPSF6+HHNGhuoqqHdvImbMwLt2LVu6vq9tpRPvSy+9xOuvv07FOyu2SjdeN9la77CaaMmxIj5PGE6oYlT552L6xeLw/Tz8is6P1oikQ9UOBHsHayk1iVUICAEh8IcERJxq78UQcaqBml1NzVavjskrMPPF9HY0rRZi/6iPr4XPJ4FfOEw7CAFyLYX9iyAebU3AnJtL6scfq1t4TSlF5+wCunZFHzUTnwYNbO3+gfYnTpzI0qVLGT16NMr9pfIIgQcRyC3I5eCNg6oYVVZJk3OTi6dU8K1QvF23VaVWeOkccxfvg3KQzwsBISAESktAxGlpyTlunohTx7G32PPUD35g08mbDGtVg7cGNrF4ntUGZlwv6s6bm160Ytqon9VMiyEh4AwECo1G0tavJ2nBQgpu3VJD8m/XDv2sKHybNnWGENUYEhMTeeGFF3j77bepXFnOeztNYZwskNTc1KL7RxPi2Xd9H0qDo1+feqH1iq97aRTeCHc3dyeLXsIRAkJACFiPgIhT67G0lyURp/YiXUo/u88aGLXsECF+nmx/vrPaDMmuj7Kdd81gOLcFmgyGZ5ba1b04EwK2JFBoMpH+5UaS5s8n/+pV1ZXv4y2oMGsWfi1b2tK1RbbXr1/PypUrUT4qHXjlEQL3InAl40rxdt2jiUd/c360ecXmqiBVzo9WD6wuEIWAEBAC5YaAiFPtlVrEqRPXzFhgpmf0Li4YsnhzQGNGtn7I/tH+sAo2RkFAJZi2H/wcc12G/RMXj65MoNBs5va332KInYfxwgU1VZ/GjdHPno1/u7ZOcYbTaDTStGlTzpw5w9q1axkyRBqQufI7WdLclPOjJ5NOFgnSK/GcTz9fbMLXw7f4/lHl/GiI0l1dHiEgBIRAOSQg4lR7RRdx6sQ1W7TzPG9tOs0jVYL4ckZ7dPZugpR6GRa0BWNm0X2m9Xs4MS0JTQg8mIDSPCgzfgeGmBjyTp9WJ3jXr69u3w3o0sUpRGlBQUHxKumBAwc4d+4cI0aMcIrYHkxYRtiSQJ4pr/j8qHLtiyHHUOwuwjei6Pxo9UieqPwE3jpvW4YitoWAEBACmiAg4lQTZfpNkCJOnbRmN9Nz6TJnB9lGE59NbUuLh0LtG6nZDO/3g0u7odlI6D/fvv7FmxCwIgFFlGbv309idDS5x0+olr1q1iRi5gyCevXCzd3x5+6SkpKYOXMmISEhLFiwwIrZiyktE0jPSy8+P7rn2p7fnB+tG1K3WJA2jmgs50e1XGiJXQgIAZsQEHFqE6w2NSri1KZ4S2886qOjfHn8OoNaVOOdwY+W3lBpZx5cDJtehODqMHUf+ASV1pLMEwIOJZB95AiG9+aS/f33ahyeVaoQMX06wf374eZE5zgvXLhAkyZN8PHxUbfyRkREOJSbOHccgYTbCcX3jx65dQRToUkNRmle1KxCs+KGRjWCHHDfteOwiGchIASEQIkJiDgtMTKHTxBx6vAS/HcA+88nM2zJAQJ9PNQmSPpAO2/PSj4PC9tDfjaM/gJqd3ZCShKSELg/gZyTP2GIjiZr9251oIdeT/jUKYQMGoS7l50bi90j1LS0NIKDg4u37H799dc0b95cOvGWs5dbOT96KvkU269sV8+Qnks7V0xAOT/atkpbVZB2rNaRUB8776IpZ7WQdIWAEHAtAiJOtVdPEadOVrN8k5mnYvZw5tZt/t63EWPb1bJvhGYTrOgFCQeh5QToM8e+/sWbECgjgdxffiEpNpbbW7aqlnShoYRPnEjosGdx9/Uto3XrTVeE6NixY9VrYZSP8pQvAkaTkUM3D6nNjJT7RxNzEosBhPuE/+b8qI+HT/mCI9kKASEgBKxEQMSplUDa0YyIUzvCtsTV8j0Xef2rUzSoGMjXUe3x0Nn5LNzeGNjyCoTWgil7wDvAkrBljBBwOAHjpUsY5s0n4+uvobAQ98BAwseNJXTUaHQB/g6P7/cBbNy4kX79+jF69GhWrVrldPFJQNYnoJwf3X1ttypI917fS1Z+VrGTWsG1irfrNtU3lfOj1scvFoWAECiHBEScaq/oIk6dqGaJt3Pp+s5ObucVsHZSa56oHW7f6BJPw6KOYDLC2E3wUBv7+hdvQqAUBPKvX8cQF0f65xvAZMLNz4+wUaNUYaoLDi6FRdtNOX36NA8//HCxg71799K2rXNcXWO7rMu35WuZ14rOj16J5/Ctw8XnR91wKz4/qnTZrRlcs3yDkuyFgBAQAjYgIOLUBlBtbFLEqY0Bl8T8858c57MjV+n/WBWin21WkqllH2vKh2Xd4fpRaDMDevyz7DbFghCwIYH8xESSFy0m7ZNPKMzPx83Li9BhwwifNBGPcDv/YucBeSrdgkeNGqXeV3ro0CGaNbPz17cN6yCmf0tAqfWplFOqGFXOj/6S+kvxAB+dD22qtFFXSDtV70SYj9wbLe+PEBACQsCWBESc2pKubWyLOLUN1xJb/eFyCs8s2I+/l47tL3SmYpCdzxjt/BfE/xMi6sPkXeDpPGfzSgxTJrg0gYLUVJKXLiV1zYcU5uaChwchg54hYupUPCtWdNrcX3nlFebPn8/q1avp06eP08YpgZWcQL4pn+9vfs/2hO3qKumt7FvFRhQB2qlaJ1WQtq7SGqXBkTxCQAgIASFgHwIiTu3D2ZpeRJxak2YpbZnMhfSN3cOpGxm81PthJnWsU0pLpZx24wQsiVTP6TF+C1RrUUpDMk0I2I6A6fZtUlasJGXVKsxZWeDuTnC/fkTMmI5XtWq2c1xKywaDgUuXLtGyZUvVgtFoJCUlhUqVKpXSokxzJgIZxgz2XN2jro4q949m5mcWh1czqGbR+dEakTSNaIrOXedMoUssQkAICIFyQ0DEqXVKrfwt9n/Ac4CyfPYdMBlIeoD5qUAc8ArwpoWhiDi1EJQth63ef4lXvviJOnp/Ns3qiJeHHZsgFeTBki5w6yR0eAG6Kq+PPELAeQiYs7NJ+WANycuWYU5PVwML7NUT/cyZeNeu7TyB3hWJIkpbtWqFp6cnJ0+eJDRUrv9wykKVMKgbmTdUMar8c/jmYQoKC1QLyvnRR/WPqmJUEaVKcyN5hIAQEAJCwPEERJxapwZ/A8YAPYFkYDngB/S6j/mHgG1ANvCJiFPrFMIeVpIz84h8ZwcZuQV8MP4J2teLsIfb//jY9jrsngMVG8PEePBwjvsf7QtBvDkjAXNeHmlr15K0aDGmZOVbIQRERqKfFYXPXU2FnDF25dxhr1698PHxYcmSJej1emcMU2J6AAGljqdTTqtiVNmu+3PKz8UzvHXetKncRhWkyv2jEb52/t4t1RMCQkAICIEHEhBx+kBEFg24DLwOLLszWtnjqdzIrfwq9tI9LCgX+i0BlNVT5b9l5dQi1I4f9P/Wn+CjQwn0blKJuBF23k579XBREyQ3HUyKh0pNHA9EIij3BJTmRmnrPydpwQIKbt5Uefi3bauKUt9HH3VaPuvWraN58+bUvrOam52dja+vL25ubk4bswT23wTyzfnqquivgvRG1o3iQaHeoaoQVQSpIkz9PJXfG8sjBISAEBACzkpAxGnZK6Pce5AGKK0cj91lTtnLNgr48g9cKFt+le4a/YAdDxCnypbhu/eMeiirrcpZKGX7mTz2JXA8IY0BcXvx8dCx9flOVA2xY6OM/BxY2AGSz0Lky9DpRfsmL96EwO8IFJpMZHz1lXpXaX5CgvpZ3+bN0c+ehX+rVk7NS1kdnTRpEp07d2bbtm24u9txa75Tk9FGcJnGTPXcqNLQSDlHejv/dnHgNQJrFJ8ffUz/mJwf1UZJJUohIASEgEpAxGnZX4TqwBVAOUh18S5zymqqst33g9+5qAHsBVoD1ywQp/8A/v77MEWclr1wJbVgNhfydNxejl9N58UeDZgeWbekJso2/tu/wf55UKV5URMknfJ7CnmEgP0JFJrN3P5uC4bYWIznz6sB+DzySJEobd9eEyuPGRkZqjB98cUXefbZZzURs/0r7Vweb2bdLLp/NCGeQzcPUWAuOj+qPEoTo1/Pj9YOri31dK7SSTRCQAgIAYsJiDi1GNU9B4YAqSVYOVWaJX0GLLpjUVZOy14Du1j4+NAV/rr+R2qG+/Ht/3TE28OO3Rwv74MVvUHnBVN2g76BXXIWJ0LgbgLKeb7MnTsxRMeQ93PRWT7venWJiIoisFs3pxYEiYmJvPXWW/zv//6vunVXeZR8ZAuv877jSn2UO0eV1VHlDtK7z496uXup17wozYw6V+8s50edt4wSmRAQAkKgRAREnJYI1z0HK6ukr91phKQMUlZRleWEPzpzWgikKD8X3bGmbAs2AkeADhaEI916LYBk7SFp2Ua1CVJqdj4rxrYkskEFa7u4t728TFjYDlIvwZNvQtuZ9vMtnoTAHQJZBw5gmBtNzrGi0wueD9VAP2MmQb174aaz4y9qSlkRpdnR5s2bUe4uff11pUWAPM5IQDk/euTWkeLzo9cylQ1GRU+wd3Dx/aNtq7SV86POWECJSQgIASFQRgIiTssI8M50Zfvu6Lu69SqNkQLv/Pn3Hn5/ud+nwG5gDvCfW8DvHZeIU+vUrERWXtlwktUHLtOtYUWWjnm8RHPLPPjr5+H7pVC9NYz9BuT+vTIjFQOWE8g+chRDdDTZBw+qkzyqVEY/bRrBAwbg5qGdreXK9TBvvPEGMTExVKxY0XIAMtLmBLLys9Tzo8p23d1Xd6PcR/rrUy2gWvF23WYVmuHhrp13zubgxIEQEAJCwAUJiDi1TlGVZYO379xz6g1sASbdued0xJ0tvAH3cPWgbb2/nybi1Do1s9jKyWvp9Ju3Bw+dO9v+1InqYXbs9ng+HlYPAKXD5JQ9EK40gpZHCNieQM5PP2GIiSFr5y7VmU4fQcTkKYQMGYy7l/NfX/Tpp58SHx9PXJxylbQ8zkYgMTtRPT+qbNk9dOMQyorpr0+TiCbqVl1ly27dkLqy9drZiifxCAEhIARsSEDEqQ3h2si0iFMbgf0js8qZp0EL9/PD5VRmda3H/3Svbz/vuekQ1xYyrkLvd6DVRPv5Fk/llkDe2bMYYudx+zvleDzoQkIInziB0OHDcb9zVtPZ4aSmplKnTh2Uj3v27KFdu3bOHrLLx6d8Lz2Xdk5dHVXOj55MPlmcs6e7J09UfqL4/GgFPzsem3B58pKgEBACQkBbBEScaqteSrQiTu1Ys89+uMrznx6nWqgvW//UCR9PO56t2zAdjn0AtTrCqC9ArrqwY+XLnyvj5csY5s8nY+NXSqcg3AMCCBs3lrDRo9EF3Gvjh/NwUsSP8vza4Oizzz5T29EPHTpUVt4cVCalm+7RxKNsv7JdXSW9mnm1OJIgr6Ci+0erR9Kuajv8Pf0dFKW4FQJCQAgIAWciIOLUmaphWSwiTi3jVOZRGbn5dHlnJ0mZeSwe1YInH6lUZpsWGzizGT4aCl6BMG0fhCg3EMkjBKxPIP/6dZIWLCRt/XowmXDz9SVs5EjCx49TV0218CideKdNm0abNm14/vnntRCyy8aYnZ/N3ut71dXRXdd2kZ6nXPld9FQNqFp0/2j1SJpVbIayYiqPEBACQkAICIG7CYg41d77IOLUTjV7feMplu+9SKf6elaObWm/1ZfsFIhrDZm3oF8sNFd6bckjBKxLoMBgIGnxEtI+/pjC/HzcvLwIHfYs4RMn4hERYV1nNra2e/duOnXqRNWqVTl79iw+Pj429ijm7yZgyDaw4+oOVZAevHEQo1lpQF/0NApvVCxI64fWt9/3USmREBACQkAIaJKAiFPtlU3EqR1qdubmbXrH7Ebn5qbeaVorwo5bztaNh5ProN6TMPwTZZ+iHTIWF+WFQEFqKinLl5PywRoKc3LAw4OQZ54hYspkPCtX1gyG7Oxs/Pz+05xs1apV9OzZUzrx2qGCyhbq82nniwXpiaQTxV6VbrpPVCo6P9qpeicq+dtxx4kdchcXQkAICAEhYFsCIk5ty9cW1kWc2oLqXTaVH7yeXXyAgxdTmNa5Dn/u+bCNPd5l/qcN8OkY8AmBaQcgSDtiwX6QxFNpCJgyM0lZuYqUlSsxZ2aqZ5iD+/YlYvo0vGpoa9v4unXr1G28SkdeZcVUHtsTMJlN6vlRtaFRQjwJtxOKnQZ6BtKhWgfDLRpiAAAgAElEQVT1ypf2VdoT4OX8Z5RtT0w8CAEhIASEQGkIiDgtDTXHzhFxamP+Xx6/TtRHR6kc7MO25zvh52Wne/UyDRD3BGQnw8Al0HSIjTMV8+WBgDk7m5Q1a0hZugxTetH5v8CePdHPnIF3HW1eTfTee+/xpz/9idmzZ6P8tzy2IaCcH91/fb963cuuq7tIy0srdlTZv3LRdt0akbSo2ELOj9qmBGJVCAgBIVDuCIg41V7JRZzasGZZeQV0mbODWxl5zB/enD5N7bRyqXQaXTsSTn8FDfvCkNWyndeGdS4Pps1GI2kfryVp8WJMSUlqygGdO6OPmolPo0aaQqDsZkhISKDGnRVek8nEli1b6NGjh5xhtHIlk3KS2JmwU10dPXDjAHmmvGIPDcMaFgvSBqENhL2V2Ys5ISAEhIAQQO2071V0n7ryr/9cgl0KOHIwrhTQSjFFxGkpoFk65a1NP7No5wXa1glnzYQn7PfD1/G18Pkk8AuHaQchQG9pyDJOCPyGgNLcKO3zz9UOvAU3bqif82vTGn1UFH7NmmmOltFoZNiwYWzfvp1Tp05RWUPnYrUC+0L6BbWZkSJITxhOUEjRtTwebh60rNRSXR3tXK0zlQPs9Ms6rYCTOIWAEBACQsDqBEScWh2pzQ2KOLUR4nOJmfSK3qVc8cimWR2oVzHQRp5+ZzbjelF33tz0ohXTRv3s41e8uBSBQpOJjK+/xjBvPvlXrqi5+T72GPrZs/Fv/YSmc1XE6datW1HuLu3YsaOmc3GG4JXzo8cNx1Uxqtw/einjUnFYAZ4BdKh65/xo1fYEKtdZySMEhIAQEAJCwE4ERJzaCbQV3Yg4tSLMX00p2wZHLz/E7rNJTOxQi7/1sdO2R0UJrxkM57ZAk8HwzFIbZCcmXZlAodnM7S1bMcTGYDx3Xk3Vu1FDKsyahX/HjvZb/bci5Fu3bpGRkUG9evVUq8nJyShbeStUqGBFL+XLVE5Bjnp+VBGkyvnRlNyUYgBKR11lZVRZIW1ZsSWeOrl/tHy9HZKtEBACQsB5CIg4dZ5aWBqJiFNLSZVg3OaTN5jywREqBHqrTZACfez0w9kPq2BjFARUgmn7wS+sBFHL0PJMQPmFStauXSRGR5N36mcVhVfdOur23cDu3TUpSpUcjh49Srdu3ahZsyYHDhzA09NOX4su+DIl5ySrQlRpaHTg+gFyTbnFWSpnRhUxqjQ1Us6SusmVVS74BkhKQkAICAHtERBxqr2aiTi1cs1yjCa6vbuTa2k5zB36GAOaVbWyh3uYS70MC9qCMbPoPtP6PezjV7xonkDWgYMYoqPJOXpUzcWzRg21+25Q79646XSazi83N5cWLVrQsGFDli1bRnBwsKbzsXfwl9IvFV/3cizx2G/Oj7ao1EIVo52rd6ZqgJ2+z9kbgPgTAkJACAgBTRMQcaq98ok4tXLN5nx3htjt52hVM4y1k1vbZwXBbIb3+8Gl3dBsJPSfb+WsxJwrEsg5dkxdKc3ef0BNz6NyZSKmTSVkwADcNLrCqKwAK2dJu3fvXixEU1NTCQ0NdcUSWj0nc6FZbWL06/2jF9MvFvvw9/SnfdX2qiBVPgZ7i9C3egHEoBAQAkJACFiVgIhTq+K0izERp1bEfCkpiyff20WB2czXUR1oWDnIitbvY+rgYtj0IgRXh6n7wMdOfu2TnXixMoHcn3/GMDeazJ07Vcu6iAgiJk8mZMhg3L29rezNvubefPNNXnnlFSZMmMCSJUvs61yj3nILctVrXn5taHT3+dEKfhWKrnupHql22vXSqe345RECQkAICAEhoAkCIk41UabfBCni1Io1G7fye7afTuS5tjX5R79HrGj5PqaSz8OCdlCQA6O/gNqd7eNXvGiOQN758xhi53F78+YiURocTPjECYQOH467n5/m8vmjgC9dukSXLl14++23GTx4sEvkdK8klDOgt42375mj0hk33Df8Dz+fmpvKzqs71Stf9t/Yj9Lg6NenXmg9VYx2qd6FRuGN7LP7w6UrJckJASEgBISAowiIOHUU+dL7FXFaena/mbnt51uMX3WYcH8vtr/QmWBfOzReMZtgRS9IOAgtJ0CfOVbKRsy4EgFjQgJJ8+aRvvErMJtx9/cnbOxYwsaMRheo7as9bt68qa6Qvvzyy8UiqqCgAA8PD1cq4X/logjTXut7/UZU/n6Qr4cvmwZuKhaoVzKuqKuj269s55jhGMoWXvWXFG46WlT8z/nRaoHVXJqdJCcEhIAQEALlh4CIU+3VWsSpFWqWm29St/NeScnmX4OaMuTx6lawaoGJvTGw5RUIrQVT9oB3gAWTZEh5IZB/8yZJcQtIW78eCgpw8/EhbNRIwsaNw8MFzmAq50ubNWvG8ePH1WZH48aNKy+lRWlU1HdD3wfm+++O/+Z0ymn1/tHz6UVXAymPn4cf7aq2U1dIO1brKOdHH0hSBggBISAEhIAWCYg41V7VRJxaoWYx287y7pZfaFYjhM+mtMXd3c0KVh9gIvE0LOoIJiOM3QQPtbG9T/GgCQIFSUkkLV5M2sdrKTQa1eZGIc8+S8SkiXjo9ZrIwdIgN23axIoVK5g/fz56F8vtfgwsFad329D76tXOuoogbVW5Fd46bZ8vtvQdkXFCQAgIASFQfgmIONVe7UWclrFmCSnZ6tUxRpOZL6e3p0k1O3SwNOXDsu5w/Si0mQE9/lnGLGS6KxAwpaWRvGw5KR98QGFODuh0hAwcqHbg9axcWfMpKiulH330EVevXuXPf/6z5vMpSwKWitMagTXoUbOHKkgfiXgEdzf3sriVuUJACAgBISAENEVAxKmmyqUGK+K0jDWbvPow3/50ixFP1OCfTzcpozULp+/8F8T/EyLqw+Rd4Olr4UQZ5ooETJmZpKxaRcqKlZgzM8HNjaC+T6GfPh2vhx5ymZQvXLhAgwYNUETqmTNnqFOnjsvkVtJELBWnGwdspGZwzZKal/FCQAgIASEgBFyCgIhT7ZVRxGkZarbzFwNjlh8ixM+T+Oc7E+pvh2sWbpyAJZFQWAjjt0C1FmXIQKZqmYA5J4fUDz8keclSlFVT5Ql88kn0M2fgXa+ellO7Z+xz586lWrVqDBo0yCXzszQpEaeWkpJxQkAICAEhUJ4JiDjVXvVFnJayZnkFJnrN3c2FpCz++XRjRjxhhxWqgjxYHAmJP0GHF6DrK6WMXqZpmYDZaCTtk09JWrQQkyFJTcW/U0f0UVH4PmKnK4zsAFDpxDt16lTGjBnDgAED7OBROy5EnGqnVhKpEBACQkAIOI6AiFPHsS+tZxGnpSS3YMd53t58miZVg9kwvR06ezRB2vY67J4DFRvDxHjwsMNKbSn5yDTrEygsKCB9wwYMcXEUXL+hOvB74gn0s2bh17yZ9R062OL777+vCtMmTZqoHXnd3OzQaMzBOVvqXsSppaRknBAQAkJACJRnAiJOtVd9EaelqNmN9By6ztlJttHE+mltaV4jtBRWSjjl6uGiJkhuOpgUD5XsdL61hGHKcOsTKDSZyPhmE4Z5seRfvqI68H30UfT/Mxv/1q2t79CBFo1GI15eRb90Uc6WvvPOOzz33HPlqhOvJfhLc8+pJXZljBAQAkJACAgBVyIg4lR71RRxWoqazfjwCF+duMGQx6vxr0GPlsJCCafk58DCDpB8FiJfhk4vltCADNciAUWc3d66laSYGPLOnlNT8G7YEP2sKAI6dXK5lcQPP/yQv/zlL8THx1O3bl0tlsyuMSsC9bbx9j19BnoFEu4bbteYxJkQEAJCQAgIAWciIOLUmaphWSwiTi3jVDxq3/kkhi85SKCPB/EvdCYiwA53BX77N9g/D6o0L2qCpPMoYdQyXEsEFFGatWcPhrnR5P70kxq6V5066GfOJPDJ7ri5u+Z1INOnTycuLo433niDl19+WUslk1iFgBAQAkJACAgBJyQg4tQJi/KAkESclqBm+SYzvaN3czYxk3/0bcRz7WqVYHYph17eByt6g84LpuwGfYNSGpJpWiCQdegQhugYcn74QQ3Xs3p19DOmE/TUU7jpdFpIweIYFRGelJRUvGU3MzOTbdu20b9/f4ttyEAhIASEgBAQAkJACNyLgIhT7b0bIk5LULOluy/w5tc/83ClQL6a2R4PnY1XsPIyYWE7SL0E3d+AdlEliFaGaolAzvHjGKKjydq3Xw3bo1IlIqZOJWTg07h5Kl+mrvWkp6czevRofv75Z44dO4afn59rJSjZCAEhIASEgBAQAg4nIOLU4SUocQAiTi1ElpiRS5c5O8nMK+CTyW1oVSvMwpllGPbVn+DwMqjeGsZ+A+6utXJWBjIuMzX39Gl1pTQzPl7NSRceTsTkSYQMHYq7tx22jDuIpMlkol27dly8eJHNmzfTrJnrdRt2EFpxKwSEgBAQAkJACNwhIOJUe6+CiFMLa/antcdYf/QaTzeryntDH7NwVhmGnY+H1QPA0w+m7IHwOmUwJlOdjUDehQsYYmO5vWmzGpp7cDDh48cTNnIE7i66injjxg10Oh0VKlRQc1aEaWBgIBEREc5WHolHCAgBISAEhIAQcAECIk61V0QRpxbU7PtLKQxeuJ8Abw+2P9+JCkE+Fswqw5DcdIhrCxlXofc70GpiGYzJVGciYExIIGl+HOlffglmM+7+/oQ99xxhz41BFxjoTKFaNZadO3cyYMAAIiMj+eyzz1yu07BVYYkxISAEhIAQEAJCwCoERJxaBaNdjYg4fQDuApOZp2L3cPrmbV7u05AJHWrbvkAbpsOxD6BWRxj1Bbhod1bbg3QeD/k3b5K0cCFp6z6DggLcfHwIHTGc8AkT8Ai1wz25DkaRmJjII488Qrdu3Vi5ciXeLrxl2cGoxb0QEAJCQAgIASFwh4CIU+29CiJOH1CzVfsu8fcvf6JuhQA2zeqAp62bIJ3ZDB8NBa9AmLYPQmpo762SiIsJFCQnk7x4CakffUSh0QienoQOGUL45El43tne6oq4lE68X375JX369MHDo+jqI2Vbb+XKlV0xXclJCAgBISAEhIAQcEICIk6dsCgPCEnE6X0AJWXm0eWdHWTkFvDhhCdoW9fGZ+OyUyCuNWTegn6x0Hy09t4oiVglYEpPJ3n5ClJWr6YwOxt0OrXzbsSUKXhWrerylGbNmkVMTAxvvfUWf/3rX10+X0lQCAgBISAEhIAQcD4CIk6dryYPikjE6X0I/WXdCdYeTqBP08rMH978QSzL/vl14+HkOqj3JAz/BNzcym5TLNiVgCkzi9TV76vC1Hz7tlrDoD591LtKvWrWtGssjnS2b98+Bg0aRFxcnHrWVB4hIASEgBAQAkJACNibgIhTexMvuz8Rp/dgePRKKk/H7cPXU8e25ztRJcS37LTvZ+GnDfDpGPAJgWkHIEi2P9oWuHWtm3NzSf3wI5KXLMGUmqoaD+zenYiZM/CpX9+6zpzQ2vXr1/nqq6+YNGlScXS5ubn4+Ni4eZgTspCQhIAQEAJCQAgIAecgIOLUOepQkihEnP4BLZO5kAHz9/LjtXT+3LMB0zrXLQnTko/NNEDcE5CdDAOXQNMhJbchMxxCQDlHmrpuHckLFlJgMKgx+HfsgD5qFr6NH3FITPZ2mpeXR926dbl69Spbt26la9eu9g5B/AkBISAEhIAQEAJC4L8IiDjV3ksh4vQPavbhwSu89PmP1IrwZ/PsDnh76GxX2cJCWDsSTn8FDfvCkNWyndd2tK1mubCggPQvviRp/nzyr19X7fq1bIl+9iz8WrSwmh+tGIqNjeXAgQPqOdPw8HCthC1xCgEhIASEgBAQAi5MQMSp9oor4vR3NUvNMhI5Zwdp2fmsGteKTvX1tq3q8bXw+STwC4dpByHAxv5sm43LWy80m8n4ZhNJsbEYL19W8/Vp2pQKiiht06Zc3N+pdOJdvXq12oV3+PDhKgPl/7nJGWmXf/8lQSEgBISAEBACWiIg4lRL1SqKVcTp72r2t89/ZM3BKzzZqCKLRz9u24pmXC/qzpubDkPeh0b9betPrJeagCK+MrdtwxAdQ97Zs6od74cfRh8VRUBk53IlzPbv30/btm0JCgri4sWLhIWFlZqrTBQCQkAICAEhIASEgK0IiDi1FVnb2RVxehfbk9fS6TtvD146d7b+qRPVw/xsR17ZzrtmEJzbCk0GwzNLbedLLJeagCJKs/bsxRAdTe7Jk6odr1q10EfNJLBHD9zc3UttW8sTn3/+eTp06CCdeLVcRIldCAgBISAEhICLExBxqr0Cizi9UzOzuZBBC/dx5Eoa/9OtPrO61bNtNX9YBRujIKASTNsPfrL6ZFvgJbee/f33JEZHk3P4B3WyZ7VqRMyYTvBTT+Hm4VFygxqdce3aNWbMmMGrr75Ks2bNNJqFhC0EhIAQEAJCQAiUNwIiTrVXcRGnd2r26eEEXlx3guphvmz5n074eNqwCVLqZVjQFoyZRfeZ1u+hvTfHhSPOOXFC3b6btXevmqVHxYpETJ1KyMCncfPycuHM/zi1119/nb///e88+eSTfPvtt+Uuf0lYCAgBISAEhIAQ0CYBEafaq5uIUyA9J5+uc3aQlGlk6ejH6daoou0qaTbD+/3g0m5oNhL6z7edL7FcIgK5Z86oojRz+3Z1ni4sjIjJkwgZOhT3cnZfp9lsxv3OlmXlqph//OMfvPDCC9KJt0RvlAwWAkJACAgBISAEHElAxKkj6ZfOt4hT4B9f/sTKfZeIbKBn+XMtbdvc5uBi2PQiBFeHqfvAJ6h0lZNZViOQd+EiSfPmkbFpk9J2FvegIMLHjyds5Ajc/f2t5kcLhpQztu+//z7/+te/2LNnD6GhoVoIW2IUAkJACAgBISAEhMB/ERBxqr2XotyL059vZNAnZjce7u589z8dqRlhQzGSfB4WtIOCHBj9BdTurL03xoUiNl69RlJcHOkbNoCyUujnR9hzYwh77jl0QeXzlwaKOO3ZsyffffcdixcvZuLEiS5UcUlFCAgBISAEhIAQKE8ERJxqr9rlWpwqP4gPXXSAQ5dSmBFZlxd6NLBdBc0mWNELEg5CywnQZ47tfInl+xLIv5VI0sIFpK37DPLzcfP2JnTECMInjMejHF6Lonwd3L59W70aRnkSEhI4cuQI/fvL1UbypSQEhIAQEAJCQAhol4CIU+3VrlyL0y+OXWPWx8eoEuzD1uc74edlww6se6Nhy6sQWgum7AHvAO29LRqPuCAlheTFS0j96CMK8/LA05PQwYMJnzwZz4oVNJ5d6cJPTExk7NixZGdns23btuJzpqWzJrOEgBAQAkJACAgBIeA8BEScOk8tLI2k3IrTzLwCuryzg8TbeSwY0ZxeTSpbyqzk4xJPw6KOYDLC2E3wUJuS25AZpSZgysggeflyUt5fTWF2Nuh0BA/oT8TUaXhVq1pqu64wMSMjg8aNG6N88963bx+1atVyhbQkByEgBISAEBACQkAIqD/feBXdtKD8K78sSNzKMlnmWkyg3IrT//3mZxbvukD7uhGsHt/Kdk2QTPmwrDtcPwptZkCPf1pcHBlYNgLmrCxSVq8mefkKzBkZ4OZGUO/e6l2l3uVYhCn3loaHh+NzpwPx0aNHeeihhwgrh1uay/aGyWwhIASEgBAQAkLAmQmIOHXm6vxxbOVSnJ5LvE3PubtVIptnd6RuBRtusd35L4j/J0TUh8m7wNNXe2+JxiI25+aS+tHHJC9ejCk1VY0+oFtX9DOj8GlQX2PZWDfcjRs3MmrUKCZPnszbb79tXeNiTQgIASEgBISAEBACTkRAxKkTFcPCUMqdOFWav4xcdpC955KZ3LE2/693QwtRlWLYjROwJBIKzTB+K1RrUQojMsVSAoVGI2mffUbSgoUUJCaq0/zbt0c/KwrfJk0sNePS406ePEmLFi0YNmwYK1assN2OAZemKMkJASEgBISAEBACWiAg4lQLVfptjOVOnH7z4w2mrTlCxSBvtj3fmQBvGzVBKsiDxZGQ+BN0eAG6vqK9t0MjERcWFJD+5UaS5s8n/9o1NWq/xx9HP3uW+rE8P8ovY7Zv307Xrl2LMZw/f546deqUZyySuxAQAkJACAgBIVAOCIg41V6Ry5U4zTYW0G3OTq6n5xL97GP0f8yGzXC2vQ6750DFxjAxHjzUw9jyWJFAodnM7c2bMcTOw3jxomrZp0kTVZT6t20rq4LAyJEjWbNmDZ9++imDBg2yIn0xJQSEgBAQAkJACAgB5yYg4tS56/NH0ZUrcfrvb08zP/48T9QK4+NJrW0nXq4eLmqC5KaDSfFQSbaUWvNLQ1kNzIyPxxAdQ96ZM6pp7wYN1O27AZGRtqurNZOwky1FmL744ossW7aMXr162cmruBECQkAICAEhIASEgOMJiDh1fA1KGkG5EacXk7Lo8d4uTIWFfB3VnocrBZWUlWXj83NgYQdIPguRL0OnFy2bJ6MeSEARpVn79qmiNPfECXW8V82a6KNmEtizJ27u7g+04eoDrl69yvfff8/TTz+tpqoK+cxMAgMDXT11yU8ICAEhIASEgBAQAr8hIOJUey9EuRCnyg/oz634np2/GBjbriZ/7/uI7Sr17d9g/zyo0hzGbwGdjc602i4Dp7Sc/cMPGN6bS/bhw2p8nlWrEjF9OsH9+uLmIYwVJsnJydStW5fc3FyOHTtGgwYNnLKWEpQQEAJCQAgIASEgBOxBQMSpPShb10e5EKdbTt1i4vuHiQjwYvsLnQnyUdK2wXN5H6zoDTovmLIb9CIOyko558eTGKKjydqzRzXlUaECEVOnEPLMM7gVXaosz10EZs+eTWpqKu+9957cWypvhhAQAkJACAgBIVCuCYg41V75XV6c5uab6PbuTq6m5vDO4EcZ1KKabaqUlwkL20HqJej+BrSLso2fcmI195dfMMTEkLl1m5qxLjSU8EmTCB32LO4+PuWEwv3TVHYEKNfBKKulHTt2VAebzWbcZXuzvB9CQAgIASEgBISAEEDEqfZeApcXp3O3/sLcrWdp8VAon05ug7u7m22q9NWf4PAyqN4axn4D7jrb+HFxq8ZLl9TuuxnffKMcmMQ9MJDw8eMIHTkKXYC/i2dfsvTWrVvH4MGDqV27NqdOncLb27tkBmS0EBACQkAICAEhIARcmICIU+0V16XFaUJKtrpqajSZ2TijPY2rBtumQue3w+qnwdMPpuyBcLlDsqSglftJDXFxpG/4Akwm3Pz8CBs9ivCxY9EF26huJQ3SycabTCaGDRvG6NGjeeqpp5wsOglHCAgBISAEhIAQEAKOJSDi1LH8S+PdpcWpcs5UOW86snUN3hxgo+tcctMhrg1kXIPe70CriaWpQ7mdk5+YSPLCRaR++ink56vnSEOHDyd80kQ8wsLKLZc/SjwhIYEXXniBuXPnUrlyZWEjBISAEBACQkAICAEhcB8CIk6193q4rDiNP5PI2BXfE+rnSfwLnQnxs1HznA3T4dgHUKsjjPoC5LyfRV8FBampJC9ZSuqaNRTm5YGnJyGDniFiyhQ8K1a0yEZ5GzR+/HiWL1/O2LFj1Y/yCAEhIASEgBAQAkJACNybgIhT7b0dLilO8wpM6p2ml5KzeWtgE4a1qmGbypzZDB8NBa9AmLYPQmzkxzbRO8SqKSODlJUrSVm5CnN2tirmgwcMIGLaVLyq2ahZlUMytY5TpemRm1vROemkpCRef/11XnvtNUJDQ63jQKwIASEgBISAEBACQsBFCYg41V5hXVKczo8/x7+/PcOj1YL5fFo72zRByk6BuNaQeQv6xULz0dqrvh0jNmdlkfLBGpKXL8ecnq56Durdi4gZM/GuXcuOkWjDlSJKly1bxocffsi3336Lp6eNrj/SBg6JUggIASEgBISAEBACJSYg4rTEyBw+weXE6bW0HLrN2UlOvokN09vxWPUQ20BeNx5OroN6T8LwT+DO6pZtnGnXqjkvj7SPPyZp8RJMyclqIgFduqCfFYVPA7kH9l6VzcvLo3nz5moX3i+++IJ+/fpp9yWQyIWAEBACQkAICAEh4AACIk4dAL2MLl1OnE5fc4Svf7zB0Mer8/agpmXEc4/pP22AT8eATwhMOwBB0pzm96QKjUbS1n9O0oIFFNy6pX7av107VZT6NrVRXWxTbbtZVVZLjUZj8ZUwhw8f5tatW/Tp08duMYgjISAEhIAQEAJCQAi4CgERp9qrpEuJ0z1nkxi57CBBPh5qE6TwABvc+5hpgLgnIDsZBi6BpkO0V3UbRlxoMpG+cSNJ8+aTf/Wq6sm3RQsqzJ6FX8uWNvSsbdNXr15FaXhUo0YNlixZou1kJHohIASEgBAQAkJACDgBARGnTlCEEobgMuLUWGCmV/QuzhuyeL3/I4xuU7OEKCwYXlgIa0fC6a+gYV8Yslq2897BVmg2c/vbbzHEzsN44YL6f30aN0Y/axb+7dsVN/WxgHK5HHLp0iWaNGlCcHAwP/74ozQ8KpdvgSQtBISAEBACQkAIWJOAiFNr0rSPLZcRp4t3ned/vzlNo8pBbJzZHp17UYdTqz7H18Lnk8AvHKYdhAC9Vc1r0ZiyFTVzxw4M0THknT6tpuBdr566fTega1cRpfcp6o0bN6hUqVIxo/j4eJo1a0ZIiI3OSWvxBZOYhYAQEAJCQAgIASFQSgIiTksJzoHTXEKc3srIpcs7O8gymlg3pQ2P1wyzPtKM60XdeXPTYcj70Ki/9X1oyKIiSrMPHMAwN5qc48fVyL0eeoiImTPVLrxuct/rfav58ccfM2nSJObMmcPEiRM1VHkJVQgIASEgBISAEBAC2iAg4lQbdbo7SpcQp7M/PsqGY9cZ2Lwq7w55zPpVULbzrhkE57ZCk8HwzFLr+9CQxewjR1RRmn3okBq1R5XK6KdPJ7h/f9w8PDSUieNC3bRpE71792bmzJnExMQ4LhDxLASEgBAQAkJACAgBFyUg4lR7hdW8OJUhpGAAACAASURBVD14IZmhiw8Q4O3B9hc6USHQx/pV+GEVbIyCgEowbT/42WBl1vpRW91izsmfMMREk7Vrt2pbp48gYsoUQgYPxt3Ly+r+XMmgstL8ww8/8PjjjxendeLECZpK52JXKrPkIgSEgBAQAkJACDgRARGnTlQMC0PRtDgtMJl5KnYPp2/e5uU+DZnQobaFaZdgWOplWNAWjJlF95nW71GCya4xNO/sWQwxsdzesqVIlIaEED5xIqHDh+Hu6+saSdowC0WY9u3bl82bN3PgwIHfCFQbuhXTQkAICAEhIASEgBAo1wREnGqv/JoWpyv2XuS1jaeoXzGAr6M64Klzt24FzGZ4vx9c2g3NRkL/+da17+TWjJcvY5g3n4yvvoLCQtwDAwkfN5bQUaPRBfg7efTOFd5rr72mXhGzZs0aOnXq5FzBSTRCQAgIASEgBISAEHBBAiJOtVdUzYpTw+08tQnS7bwCPprYmjZ1wq1P/+Bi2PQiBFWDafvAJ9j6PpzQYv716yQtWEDa+s/BZMLN15ewUaNUYaqsmsrzYAKXL1/mypUrdOjQQR2sfHPMysqSTrwPRicjhIAQEAJCQAgIASFgFQIiTq2C0a5GNCtOX/j0OOt+uErfR6sQO6yZ9aEln4cF7aAgB0ZtgDqR1vfhZBYLDAaSFi0mbe1aCvPzcfPyInTYMMInTcQj3Abi38nyt1Y4586do3nz5vj5+XHq1CnCwsrnGWVr8RQ7QkAICAEhIASEgBAoDQERp6Wh5tg5mhSnP1xO5ZkF+/Dz0rHt+U5UDrbyuUezCVb0goSD0HIC9Jnj2CrZ2HtBaiopy5aR8sEaCnNzwcODkEHPqM2OPCtVsrF31zP/6xnTihUr8u677xIcXD5W3F2vkpKREBACQkAICAEhoGUCIk61Vz3NiVOTuZD+8/dw8loGf+31MFM61bE+9b3RsOVVCK0FU/aAd4D1fTiBRdPt26SsXEXKypWYs7LA3Z3gfv2ImD4Nr+rVnSBCbYSgiFHlPGmXLl2oW7euGrTyzdDTU/nykkcICAEhIASEgBAQAkLAEQREnDqCetl8ak6cfnDgMi9vOEntCH82z+6Il4eVmyAl/gyLOoIpH8ZugofalI2wE842Z2erq6TJy5ZhTk9XIwzs1RP9jBl417GB2HdCBtYMKTY2lqioKPV86c6dO3Fzc7OmebElBISAEBACQkAICAEhUAoCIk5LAc3BUzQlTlOzjETO2UFadj7vj2tFx/p66+JTBOnSbnDjGLSZAT3+aV37DrZmzstTz5Mq50pNyclqNAGRkeijZuLTsKGDo9Ou+8zMTHr37s1LL71Ez549tZuIRC4EhIAQEAJCQAgIARciIOJUe8XUlDj9f+t/5KNDV+j5SCUWjmphfdo7/wXx/4SI+jB5F3ha+Syr9SO2yKLS3EjpvKt04C24eVOd49+2DfqoKHwfe8wiGzLoPwSUTrxvvPEGMTExatMjeYSAEBACQkAICAEhIAScj4CIU+eryYMi0ow4PXE1jf7z9+Lt4c7WP3WiWqiVRcGNE7AkEgrNMH4rVLOB+H1QNaz8+UKTSb2jVLmrND8hQbXu27w5+lmz8H+ilZW9lR9zTz75JFu2bOHVV19Fub9UHiEgBISAEBACQkAICAHnIyDi1Plq8qCINCFOzeZCBi7Yx7GENJ7vXp+ZXes9KK+Sfb4gDxZHQuJP0OEF6PpKyeY72ehCs5nb323BEBuL8fx5NTqfRx5BP3sW/u3by5nIMtbr9OnTzJ07l7fffls68ZaRpUwXAkJACAgBISAEhICtCIg4tRVZ29l1OnGalJlHRk7+bzLe9ONN/v3dGaqE+PDp5DZUtfaq6bbXYfccqNgYJsaDh5ftiNvQstI1NnPnTgwxMeSd+ln15F2vLhFRUQR26yaitBTsFaaLFi1i//79rFy5UhiWgqFMEQJCQAgIASEgBISAIwiIOHUE9bL5dCpxqgjTDm/Hk5NvumdWvp46dv8lkogA77Jl/uvsq4dhWXdw08GkeKjUxDp27Wwl68ABDHOjyTl2TPXs+VAN9DNmEtS7F246nZ2jcR13ycnJPPzwwyQlJXHw4EFatZLt0K5TXclECAgBISAEhIAQcGUCIk61V12nEqcXDJl0mbPzgRS3P9+J2nor3D2anwMLO0DyWYh8GTq9+EDfzjYg++hRDNExZB84oIbmUbky+unTCO7fHze5Z7NU5TKbzSgrpro7ov7LL7/E29ubHj16lMqeTBICQkAICAEhIASEgBCwPwERp/ZnXlaP5Vucbn4JDsyHKs2KmiDpPMrK027zc0+dIjE6mqydu1SfOn0EEZOnEDJkMO5e2tyWbDd493F06dIlxo8fj9L06C9/+YszhCQxCAEhIASEgBAQAkJACJSCgIjTUkBz8JTyK04v74MVvUHnVXRtTIWHHVwKy9znnTuHIXYet7/9tkiUBgcTPmkiocOH4+7rGlffWEbCNqOUs6Xt2rWjbt26nDx5Ei8R+rYBLVaFgBAQAkJACAgBIWBjAiJObQzYBubLpzjNy4SF7SD1EnR/A9pF2QCtdU0ar1zBMG8eGRu/gsJC3AMCCBv7HGFjxqALsMIWZ+uGqylrqamphIaGFse8bt06unfvLp14NVVFCVYICAEhIASEgBAQAr8lIOJUe29E+RSnX/0JDi+D6q1h7Dfg7rwNg/Jv3CApbgFp69eDyYSbry9hI0cSPn4cupAQ7b1xThbx8uXLmT17Nhs2bKBLly5OFp2EIwSEgBAQAkJACAgBIVBaAiJOS0vut/MUpfR/wHPK9ZTAd8BkIOkPzPcGXgCaKjs8gZPAS8BuC0Mpf+L0/HZY/TR4+sGUPRBex0JU9h1WkJRE0qLFpH38MYX5+Wpzo5BhzxIxcSIeer19g3Fhb7GxsURFRfHqq6/y2muvuXCmkpoQEAJCQAgIASEgBMoXARGn1qn334AxQE8gGVgO+AG9/sD8CCAbiAcygYnAv4GGQIIF4ZQvcZqbDnFtIOMa9H4HWim4nOsxpaWRvGwZKR+soTAnBzw8CBk4kIipU/CsXNm5gtVgNEon3l9++UW9HkZ5lD8rV8S0adNGg9lIyEJACAgBISAEhIAQEAL3IiDi1DrvxmXgdWDZHXPK0t45oBZwyQIXBmAS8LkFY51KnNr8ntMN0+HYB1CrI4z6AtzdLUBknyGmzExSVq4iZeVKzJmZ4OZGcL++REyfjleNGvYJwsW95Obm0rt3b44cOaI2O6pWrZqLZyzpCQEhIASEgBAQAkKg/BIQcVr22gcDaUAz4Nhd5tKBUcCXD3ChbO9V5jUAzv7BWGXr792KTLk7JdtoNOLpJHdiKgI1Iyf/nmkG+XoSEeBdctJnNsNHQ8ErEKbtgxDnEHzmnBxS16wheclSTOlKmSGwRw/0M2fgXbduyfOUGfclMGrUKHbu3Mlnn31Gy5YthZYQEAJCQAgIASEgBISAixIQcVr2wlYHrgC1gYt3mVNWU5Xtvh/cx0UFYA+wHvjrPcb9A/j77z/nTOK07Aj/wEJ2CsS1hsxb0C8Wmo+2iZuSGDUbjaSt/YSkRYswJRUdJw7o1An9rCh8GjUqiSkZex8CFy9eJCcnh0Z3mKalpeHu7k5QUJBwEwJCQAgIASEgBISAEHBhAiJOy15cpf1qailWTqsAW+6cPZ0JFN4jFKdfOS07wj+wsG48nFwH9Z6E4Z+oW2Yd9SjNjdI2bFA78BbcuKGG4demNfqoKPyaKQvm8liLgHKWtGvXruqdpYcOHZI7S60FVuwIASEgBISAEBACQkADBEScWqdIyiqp0jZUaYSkPMoq6vn7nDmtCWy7c8ZU6dxbksepzpyWJHCLx/60AT4dAz4hMO0ABDmmqVChyUTGN9+od5XmX1YWx8H3scfQz56Nf+snLE5HBlpOQNkRoGzdbd26Ne+++y7+/v6WT5aRQkAICAEhIASEgBAQApomIOLUOuVTtu8q+05/7darNEYKvPPn33tQWo5uBVYCL5fCvWuL08zEou282ckwcAk0HVIKRGWbUlhYyO0tW0iKjSXvrNLXCrwbNaTCrFn4d+yImwNXccuWmfPNVjrvLl26lMGDBxMaGqoGmJ2djZ+f0uxaHiEgBISAEBACQkAICIHyREDEqXWqrWy9ffvOPadK5x9lu67SfVc5mKhcHbNIOZ54x9WKO+OyfudauRd1jQXhuK44LSyEtSPh9Ffw8FMw9AO7budVRGnW7t0Y5kaTe+qUWgqvunXQz4wisHs33JyoU7AF74kmhrz00ku89dZbjBkzhpUrld/XyCMEhIAQEAJCQAgIASFQXgmIONVe5V1XnB5fC59PAr9wmHYQAvR2q07WwUMYoqPJOXJE9elZowb6GdMJ6tMHN53yuwd5bEEgISGBPn36qFt4u3XrZgsXYlMICAEhIASEgBAQAkJAIwREnGqkUHeF6ZriNON60Xbe3HQY8j406m+XyuQcO0ZidDTZ+w+o/jwqVSJi2lRCnn4aNye5qscuIOzk5MKFCyxatEhdLVU68CqPsmItW6XtVABxIwSEgBAQAkJACAgBJyYg4tSJi3OP0FxPnCrbedcMgnNboclgeGapzauS+/PPGKJjyNyxQ/Wli4ggYtIkQoYOwd27FHey2jxi7TtQzpc2adKEU6dOqedMx48fr/2kJAMhIASEgBAQAkJACAgBqxEQcWo1lHYz5Hri9IdVsDEKAirBtP3gF2YzmHnnz2OIncftzZtVH+7BwYRPGE/YiBG4SxMem3H/1fCWLVv47LPP+Pe//01goNIzTB4hIASEgBAQAkJACAgBIVBEQMSp9t4E1xKnqZdhQVswZhbdZ1q/h00qYkxIIGnefNI3bgSzGXd/f8LGjiVszGh0IpJswlxZKY2LiyM5OZm///3vNvEhRoWAEBACQkAICAEhIARch4CIU+3V0nXEqdkM7/eDS7uh2UjoP9/q1ci/eZOkBQtJ++wzKCjAzceHsJEjCBs/Ho87V5dY3akYVAmcPXuWxo0bYzKZOHfuHDVrKtf7yiMEhIAQEAJCQAgIASEgBP6YgIhT7b0ZriNODy6CTX+GoGowbR/4BFutGgVJSSQvWULqRx9TaDSqzY1Chg4lYvIkPPT26wJstYQ0Yuj3zY2U5kd169ala9euGslAwhQCQkAICAEhIASEgBBwFAERp44iX3q/riFOk8/DgnZQkAOjNkCdyNITuWumKS2N5OUrSFm9msKcHNDpCBk4kIipU/CsUsUqPsTIHxM4f/4848aNIyoqimeeeUYwCQEhIASEgBAQAkJACAiBEhEQcVoiXE4xWPvi1GyCFb0g4SC0nAB95pQZrCkzk5T33ydl+QrMmZng5kZQ36fQT5+O10MPldm+GHgwgQ8//JARI0bQqlUrDhw4INfDPBiZjBACQkAICAEhIASEgBC4i4CIU+29DtoXp3ujYcurEFoLpuwB74BSV8Gck0Pqhx+pW3iVVVPlCXzySfQzZ+Bdr16p7cpEywhkZWXh7++vDla29CrbeBWBKp14LeMno4SAEBACQkAICAEhIAT+Q0DEqfbeBm2L08SfYVFHMOXD2E3wUJtSVcBsNJL26ackL1xEgcGg2vDv1BH9zCh8Gz9SKpsyqWQE5s+fr3bh3bt3Lw0aNCjZZBktBISAEBACQkAICAEhIAR+R0DEqfZeCe2KU0WQLu0GN45BmxnQ458lpl9YUED6F19gmD+fgus31Pl+rVqhnz0Lv+bNS2xPJpSewKxZs4iJiWHu3Lko/y2PEBACQkAICAEh4DgCyhVuBQUFjgtAPAsBCwl4eHjg7u7+h6NFnFoI0YmGaVec7vwXxP8TIurD5F3g6Wsx1kKzmYyvvyFp3jyMly+r83webUqF2bPxb1O61VeLnctAlYDyl961a9eoXr26+mdlS+/hw4fp1KmTEBICQkAICAEhIAQcREA5VmMwGNR7xeURAlohEB4ejl6v/68eJSJOtVLB/8SpTXF64zgs6QKFZhi/Faq1sIi88g339tatJMXEknf2rDrH++GH0c+KIqBzZ2m6YxHFsg9S/sJ7+umnVXF64sSJ4nOmZbcsFoSAEBACQkAICIGyEEhMTFSFaaVKlfDz85OfjcoCU+banIDys312djY3b95EEagVKlT4jU8RpzYvgdUdOL84zTRAbvp/EjcZYe0oSDkHLcZB5EsQcP+7RpUXN2vPHgzRMeSePKna8qpdG33UTLXhkds9tgJYnbYYVAmYTCZ1hVQRp19//TWNGjUSMkJACAgBISAEhICDCSi7ms6cOaMK09DQUAdHI+6FgOUEUlNTVYGq9C25e4uviFPLGTrLSOcWp4owjW4K+dn35uXpB7NO3FOgZh06pIrSnB9+UG14Vq+OfsZ0gp56Cjedzlnq4PJxnDt3joCAAPUvPOW5evUqISEh6v+TRwgIASEgBISAEHA8AaPRiHLPeO3atfH29nZ8QBKBELCQQF5eHhcuXKBOnTp4eXkVzxJxaiFAJxrm3OI06RzMs2DL7owfIKLub7DmnDiBYW40Wfv2qf/fo2JFIqZNI2Tg07h5KmnLYy8CmzdvZuDAgXTv3p0NGzbIFiF7gRc/QkAICAEhIARKQOBXcfr7H/BLYEKGCgGHELjXuyvi1CHlKJNTlxOnuadPY4iJJXP7dhWMLjyciMmTCBk6FHf5LWCZXpbSTk5KSqJx48Y888wzajdeT/nlQGlRyjwhIASEgBAQAjYjIOK0CO3//d//8d5776nNGuPj42nZsqVVme/YsYNu3bo5pBvyc889h9LddunSpWpOjzzyCK+++ipDhw7FkXFZAnjChAkqs5UrV/7XcBGnlhDUxhiXEad5Ge5q992Mbzap5N2DgwkfP56wEcNx9/fXRjVcJErlzMoHH3zAsGHDioWochZAzq+4SIElDSEgBISAEHBJAloTp507d2b//v3qzxo6nU7djvzyyy+rvwwv7aMcO6pRowYnT560Sk+Mf/zjH+zZs4etW7cWh+RIEfh7cXo3J1vFdT+fJamTiNOS0NLuWM2LU2OmjiTzcNI3xyv3k+Du50fYc88R9twYdEFB2q2MhiNXvnksW7aMN998k7/97W8azkRCFwJCQAgIASFQfghoUZwqK5CKIFVW1N59911eeuklTp06Rf369UtcOGUL6MGDB1FEr7XueHVlcao0HFWaXCorsfd7RJyW+FUs1xM0K07zs91JOhVI2nk/KHTDzceH0BHDCZ8wAQ/pMOfQl/rQoUOMGDGCxYsXExkZ6dBYxLkQEAJCQAgIASFgGQEti1Mlw8zMTAIDA1m3bp26eqpcifPnP/+Z7777jtzcXPVnktjYWCpWrKgCqVmzJuPGjVO37io/u8TFxTFlyv9n70zAbar6P/41ds1kqPDKmCEhUQglQ8oQMvSaSnqV/kmJSlHK8JapUlGRTEWGVxIqNBgaKPOQeZ7JGMpw/893Ofs4jnPuOefeM+x97nc9j4d799pr+Ky1t/Xdv9/6rSdM3ixZsph8DBDFo0ro+jpt2jQcP34ct99+O9577z0UL34p3glF7aBBgzB27Fjs3bvXHGcycOBAI3DbtWtnznZPSEgweXmE3s6dO91uvevXr0f58uVNoEjrGBSKviJFiqBv377mfu/krz72ef78+Uagb9y40YjG2rVrY9iwYe6yvYUiGdCY0LZtW7dbLw0M7O/JkyfRuHFj01crgGWaNGnMFq3x48dj7dq1hh3dn/3VSQ6WocIKskWGtHQzDgn7SMY33HCD+cjA9aOVRo8ejf79+5tzdx944AGQC/skt97gnmen5nKcOD1/Ni2OrM+Ko5uzIPFCGiBtInI1bYTcXXsgg9fZRk4dFKe1e9OmTZg5cya6devmbjpfyIG+pDmtn2qvCIiACIiACMQzASeLU7ad+0R79+5tLKcM6lSzZk1ztMiQIUOM62+XLl2wfft2I+AscUrL35dffokKFSoYUUrLqfd+0NatW+PEiRPGK4xblCiYPv/8c6xevdqU+8ILL5h10KRJk3DLLbeYo/L+/PNPlCtXDsFYTtnORo0aoUePHqZdFNPcA0qhmylTpqumXFL10YWYIvDWW28FY360bNkSBQoUwMSJE005gcQpBTxFLvtKHjyXnn368MMPzf0Up/x5+vTpRtxzvbd06dKQ6mQ5c+fOxUMPPWQE6p133onffvsN9957L2bMmGHGbeHChahXr54ZG7bps88+Q8eOHY14lTiN57cQYBtxev7IEVw4ceJK2kd3AhOaun93fHtm/LkxCxLPpwXSJCJHkdPIe/MpZHhhyVXReuN72OzTuzNnzpiXEw/t5n4KfqFTEgEREAEREAERcB6BpMQpj+eg9Yyiy0q0+NHyx+PiuE+TifEmaGGkqKhfv775Ha1j/MNAQ9aHbOZh3vbt27uD81BUhnL2Od1vKSYpxtg+WjJ79uxphB7FDkUOY15YFjtaUvPkyYNdu3ahYMGCbssprYRW8t53SYGXN29e7Nixw91HWkIpUnlWO4UVrbUUqw0aNLhq0IMRp4zTQevlH3/8Ye6nMKUVlVZe70TrYVL1eef/6quvjHWY6zSmYMQpx5Pinolru4YNGxrrMc8PpTilhZjj5i8FqpP3sUxaoD3Z8+MB15UM1vSf//zHiGNaaK1E1iVKlJA4dd6rJaQW20KcUphurlMXiWfOJNH4RH6vAZCI7DeeQd6yJ5Ex2wUgwDmnIdFQ5mQR4Nc0fj3kfzo6tzRZCHWTCIiACIiACMScgBPFqbXn1BvelClTjGWOQs4z8TxMWk6rVatmxOnrr79+hdDyFqe0ClJE5ciR44pyyIrWRX6Up/sv3WgpnLxTMOKUIozWTVoNS5cubf5NN2NaXr0TRWZS9f3+++/GxXblypVGUFLM0t2ZfwcrTuk2bHm/UaiyXwcOHDCCmeL0xx9/NMLfSqHWyfsYJZhWbM8THGjFrlGjBmbPno377rsPlSpVMh81rETXY7n1xvw1EfEG2EKc/r1tG7bed3/AzmapVAH5unREQrHCl/Mm5ACy5g14rzKEhwBfHPySlzNnTvP1TUkEREAEREAERCA+CDjZrdd7BCjuKFyPHTtmLH6+kud+S+u6tzi1xCD/pgXVO1mWzMmTJ+P++69ey1L8LliwIGC0XlqUaeWlNZouuLQI+0qB6qOQbN68ubEgZ8+eHbRi0pIcijgNZDmly2316tXdzQtUJy23HAPr+BreSFZ017Vcmb37yuCa/JAgy2l8vFtC6YWjxGnRObNxTZEiofRPecNMgHsZ+FWLLzxu6Pf+khjm6lScCIiACIiACIhAlAjEkzil6y3dfin2aL3MnTu3CaxDqyktqkzBiFPm4z5HsmEgIFo1KXgZCKhu3brGY4wCa86cOWbPKS2C3CtK92fuzWRwyMGDB5ujaeh6zOTryBa69NJSyPJZHsWZv5RUfbSqPvvss2YfLN2XuV928eLFIYnTFi1aGCFJi26zZs2MNXfkyJGmObSceovTQHXSkvvLL78YgW59KOC+2g4dOhhmtGLT+EEvPIpocqCg5x5Uiuu77rrL5GN+7TmN0ssghtVInMYQvlOq5ouCLyMrMdgA3Vj40lcSAREQAREQARGIDwLxJE45IhSIXLNwbyj3m9LyySA7H3zwQUjilO6xAwYMMPtK9+/fb7zH+KGego1RfcmNW5vGjRtnrl9//fUmWi+FHa2htGQuX77cRO3l39y/6h10iQ2iCFu2bBn27duX5DappOqja/Bzzz1n2lGqVCkT7feZZ54JWpyyXVa0XgaBotX1/fffd7tH+xKngercunWr2V9M12euKTkWjNbLcaHb7oYNG4xopbCnpdlaX1IgM/gU8zNqMJPceuPjXZNULyRO43+MU9RDvkg6depkvvrxS5aSCIiACIiACIhAfBJwmjiNt1HgdilaV2ltVQqNgL+5y/2zLos1zdbnQiv1ytyXzTQpKUX3BiIgcRqIUCq/zi9ajKTGL2eMvKckAiIgAiIgAiIQnwQkTmM3rjQG8PgX7jUtW7Zs7Bri0JolTh06cD6aLXEaP2MZtp7wAbf2RfCLE88HY3hvuq4oiYAIiIAIiIAIxCcBidPYjCvdfr/55huzT7RXr16xaYTDa5U4dfgAejRf4jR+xjLFPeFeCG72f++998z5YNdee22Ky1QBIiACIiACIiACziAgceqMcVIrryYgcRo/s8IW4jSYc07TZMqE4vPmIn3u3PFD32Y94SZ1uu9ygzpDd/M8KSUREAEREAEREIHUQUDiNHWMczz2UuI0fkbVFuKUOClQL5w44ZdsuuzZJUwjMO8Yupsh0RlinWnPnj3g+VaMGKckAiIgAiIgAiKQeghInKaesY63nkqcxs+I2kacxg9S5/Rk9+7daNWqlQnLzfO6/B1S7ZweqaUiIAIiIAIiIALJJSBxmlxyui/WBCROYz0C4atf4jR8LB1X0qlTp8wB0TxrigdCFyxY0HF9UINFQAREQAREQATCQ0DiNDwcVUr0CUicRp95pGqUOI0UWZuWy1DlFKGZM2c2LVy/fj0KFSqkSLw2HS81SwREQAREQASiRUDiNFqkVU+4CUichpto7MqTOI0d+6jX/Pnnn4MHPD/55JPmeBglERABERABERABEbAISJxqLjiVgMSpU0fu6nZLnMbPWAbsCa2kt912G5544gkjTtOkSRPwHmUQAREQAREQARFIHQRSKk4Pn/obJ86c8wsre6YMyJP1mtQBU72MKgGJ06jijmhlEqcRxRvbwhmJd+bMmXjggQfcQnT//v24/vrrY9sw1S4CIiACIiACImA7AikRpxSmNd78HmfOXfDbr0wZ0mHhC7UkUG038s5vkMSp88fQ6oHEafyM5VU9oSj98ssvMWnSJBOVV0kEREAEREAEREAE/BFIiTjdeugU7hnyY0C43z13F4rmzRown10yzJ8/HwMGDMDy5ctx9OhRmQ7MFwAAIABJREFU7Nq164oAktu3b0eRIkVMLA/LIy1nzpzgiQhK0SMgcRo91pGuSeI00oRjWP7kyZPx0ksvYcyYMahevXoMW6KqRUAEREAEREAE7E5A4vTqEfrll1+wYcMG5MmTBw0bNvQrTr1Fq93HOt7aJ3EaPyMqcRo/Y2lenr///jtat25tepWYmIi///4bCQkJcdRLdUUEREAEREAERCASBPwt8Ev3/hrnL15MskquOc4nncXcnz4tkox5kT5tWqzvWz/o7h05cgTPPvss5s6da9Y99957L9566y1zfjs/0HNtxNS7d2/069cPW7ZsQdGiRfHrr7+iXr164P087z1Qsiyk/iynEqeBCEb2usRpZPlGs3SJ02jSjmBdBw8eNG4l58+fx4oVK1C6dOkI1qaiRUAEREAEREAE4o2AE8Vp/fr1kSFDBowbN84MR9u2bc3fEyZMMNbObdu2mSPzqlatisOHD6NHjx7o1KkT+vfvjyVLlmDGjBlBDWMgcZo/f36Q380334w+ffrg7rvvDqpcZQoPAYnT8HC0QykSp3YYhTC14fnnn8e5c+fMC9c6xzRMRasYERABERABERCBOCfgNLfevXv3okCBAuAZ7iVKlDCjQ0tpqVKlwGuNGzdG586d0bx5c7NPdNiwYZg1axamTJmCWrVqoVmzZujSpUtQo+pPnJ46dQpr1qxBxYoVzRps9OjR4HqMltly5coFVbYypZyAxGnKGdqlBIlTu4xEiO1gJN6hQ4eao2HuuececzfdWXQ8TIgglV0EREAEREAERMAQcJo4pQCsUqWKEYWWay49yGhJ5bXp06djx44dJijk8OHDMX78eJQpUwYUmrSqMshRsJ5m/sSpr6lTt25d066+fftqZkWJgMRplEBHoRqJ0yhAjkQVEydONHtLuW/ijz/+MC9iJREQAREQAREQARFILgGniVPLcrpp0yYUL17cdJtW1JIlSxrL6bp169CmTRtjOS1cuDC6d++O8uXLo0WLFhgxYgT27NkTNKpQxCn3vVauXNnscVWKDgGJ0+hwjkYtEqfRoByBOi5evIiOHTuaP4rEGwHAKlIEREAEREAEUhmBlIjTWJ1zSiHIwI9jx441HmTt27cHvctmz55tgkLmypXLfMBfsGCBEabdunXDxx9/jCZNmph7AiWut8iFFli6C2/evNm4EmfMmBFp06YFo/lmzZrVXKPVlntfn376aSxevNh4tylFh4DEaXQ4R6MWidNoUA5DHevXrzfR6EaNGnXF+VphKFpFiIAIiIAIiIAIiECK3HqJjwL1xJlzfklmz5QBebJeE1bShw4dMuujefPmGXHKCLyM1ku3XSb+vHLlSuzfv99sfaJobdCggRGR7dq1C9iWH374wexP9U6MBsygR/RkYyTgffv2GZFMt+FXXnkFdO1Vih4BidPosY50TRKnkSYcpvIfffRRfPLJJ3j88cfxwQcfhKlUFSMCIiACIiACIiAClwikxHIqhiIQSwISp7GkH966JU7DyzOspdEtJV26dKbMP//803wJ7NmzpyLxhpWyChMBERABERABEZA41RxwMgGJUyeP3pVtlzi14VhSlA4ZMgT/+9//zB4J7mtQEgEREAEREAEREIFIEkiNltMBAwaAf3ylOXPmoEaNGpFErrLDREDiNEwgbVCMxKkNBsG7CdzAX6lSJaxduxZ8MXKzv5IIiIAIiIAIiIAIRJJAahSnkeSpsqNHQOI0eqwjXZPEaaQJB1k+I7xRlGbJksXcsWLFCvz111+48847gyxB2URABERABERABEQg+QQkTpPPTnfGloDEaWz5h7N2idNw0kxmWQxLznO4GOGNQY+UREAEREAEREAERCDaBCROo01c9YWLgMRpuEjGvhyJ09iPAXbu3ImyZcvihhtuwNKlS5E9e3YbtEpNEAEREAEREAERSE0EJE5T02jHV18lTuNnPCVOYzSWW7duReHChc0Bzkw8xJmHQ2fKlClGLVK1IiACIiACIiACqZmAxGlqHn1n913i1Nnj59l6idMYjOXIkSPRpUsXczRM586dY9ACVSkCIiACIiACIiACVxKQONWMcCoBiVOnjtzV7ZY4jcFYfvvtt7jvvvvQq1cvvPbaazFogaoUAREQAREQAREQgTCL01OHgLPH/WNNyAFkzeso7PPnzzdHzSxfvhxHjx7Frl27ULBgQXcftm/fjiJFipgz6NOkSWN+nzNnTuzevTuq/Xz33XfBPwcPHkS6dOnMqQ+DBg1CuXLlotqOWFUmcRor8uGvV+I0/EyvKpGReBctWoS7777bfY1uvUWLFo1C7apCBERABERABERABAITSJHllML0nXLAudP+K8qQGei6ylEClduuNmzYgDx58qBhw4Z+xam3aA1MO7w5tmzZghw5cph2chwpVOmhx3ZZojm8NdqrNIlTe41HSlojcZoSekHce/HiRdx111346aefzJ877rgjiLuURQREQAREQAREQASiSyBF4vTwZuC92wI3+KnfgTzFA+cLMseRI0fw7LPPYu7cuUhMTDRnw1OUff/993jppZeMsGTq3bs3+vXrB4o4Ggd+/fVX1KtXD7w/ffr0AWuzLKT+LKehitPDhw/juuuuM+Ixf/78oIW2Tp06GD16NDp06AAaNq699lrz+8qVKxuByX6NGTPG9IGWUW4TK178apYcx+HDhxsux48fTxWBNiVOA05hx2SQOI3CUNEdZOzYsZgwYYJ5wSiJgAiIgAiIgAiIgN0IOFGc1q9fHxkyZMC4ceMMzrZt25q/ueaiFXHbtm0oVKgQqlatCgrCHj16oFOnTujfvz+WLFmCGTNmBDUMgcQpBSb53XzzzejTp88V3nL+Krj11luNgGzfvj169uyJqVOnmnXiZ599hsWLF6NRo0amzQyeSXFaunRpfPnllyhQoIDpx3fffYfVq1cbN14meunRunvixAnzc/fu3TFw4MCg+uf0TBKnTh/By+2XOI3AWK5duxb79u0zX8CY+PXr3LlzisQbAdYqUgREQAREQAREIDwE/IrT/jcAF84lXUliIpB4PnBD0qQHXHszfWZOlwF4eV/gcgDs3bvXCLWNGzeiRIkS5h5aSkuVKmWuNW7c2ASebN68udknOmzYMMyaNQtTpkxBrVq10KxZMxOgMpjkT5yeOnUKa9asQcWKFc1aj5bP559/3lhmA+33pMA8cOCAEdYUpRSTTz/9NPbv34/XX38dq1atwrRp00zzKE5HjRqFjh07mp9Pnz6NXLlyGQtxtWrVrujCsWPHjFGEfX7wwQeD6Z7j80icOn4I3R2QOA3zWK5fvx4VKlQwfv8UqXnzOmvjf5hxqDgREAEREAEREAGHEHCaOKUArFKlihGFlmsuDQK0pPLa9OnTsWPHDrRq1cq4uY4fPx5lypQBhSatqgxyRGtkMMmfOPV1b926dU27+vbtm2TR33zzDR599FEjbnm8IK2kXEN++umnRjS3bt3afaoDxem8efNQu3Ztd5kUn0OHDkXLli2vqofbyugW/PPPPwfdx2A42DWPxKldRyb0dkmchs4syTu434Ff6LifgV+9dG5pmAGrOBEQAREQAREQgYgQcJpbr2U53bRpk3vvJa2oJUuWNJbTdevWoU2bNmZdRvFHyyTPlG/RogVGjBiBPXv2BM0xFHHKfa+0hHKPa1LpzJkzxvr58ssvGzH91VdfoWvXriba73//+19j5LAswqFYTlknRXr27NkxefJk4+ob70niNH5GWOI0hWPJh3/w4MFo2rSpeRky8WsV9wcoiYAIiIAIiIAIiIBTCDhNnJIrhWBCQoJxY6WBgPs3L1y4gNmzZ+Pvv/824o+W1AULFhhh2q1bN3z88cdo0qSJuSdQ4pqOXGiBpbvw5s2bjStxxowZzVqP0XyzZs1qrnFNSBdduuZyz+httwUOEEX34mXLlhmDBoUp95S2a9fOCFTWaSWKU+5n5R5Z1k/XYQaBotWVe04//PBDNGjQwFxjkCceV0hhSjfn1ODFJ3EaaCY757rEaQrHisKUewaqV69uXnypIVx3CpHpdhEQAREQAREQARsScKI4PXTokAkqRJdXilNG4GVUW7rtMvHnlStXmn2cXKNRtFLEUURSBAZKP/zwg9mf6p2415NHBE6cONFEAmasEYpkug2/8soroGtvMIlBM2k5pZWU9zKYUe7cuY3Ipoj2FKfs1yeffAIeR8g9rozWe9NNN5ks3Is6Z84cE503W7ZsuP32201gJuZLDUniNH5GWeI0hWP5119/mb0M/ELF/QVKIiACIiACIiACIuBEAikSp3F6zqldxpHCeuHChcYYonQ1AYnT+JkVEqchjiXdJ1577TVzzlSWLFlCvFvZRUAEREAEREAERMCeBFIkTtklCtSzx/13LiEHkFWBIpMz+hKnSVOTOE3OrLLnPRKnIY4Lo6TxXCnuDaAbh5IIiIAIiIAIiIAIxAOBFItTB0KgWy3/+Ep0k61Ro0aye8Wou48//rjP+7lHlMGagk0SpxKnwc4Vp+eTOA1iBLmHwdpLyihwPMPq1VdfVSTeINgpiwiIgAiIgAiIgDMIpEZx6oyRUSsDEZDlNBAh51yXOE1irBh1beDAgeYcLEY8U7Aj50xstVQEREAEREAERCA0AhKnofFSbvsQkDi1z1iktCUSp0kQZChuRk7joci//fYbbr311pTy1v0iIAIiIAIiIAIiYEsCEqe2HBY1KggCEqdBQHJIFolTr4GitZQpffr05u9vvvnGnDV1xx13OGRI1UwREAEREAEREAERCJ2AxGnozHSHPQhInNpjHMLRColTD4rr1q0z50o1bdrUnDmlJAIiIAIiIAIiIAKphYDEaWoZ6fjrp8Rp/IypxKnHWC5ZsgRVq1bFLbfcYtx4Letp/Ay3eiICIiACIiACIiACvglInGpmOJWAxKlTR+7qdqd6cbp3717kz5/fTebrr7/G3XffjYSEhPgZZfVEBERABERABERABAIQkDjVFHEqAYlTp46cxOkVBIYOHYqePXti5syZqFevXvyMqnoiAiIgAiIgAiIgAiESSKk4PXLmCE7+c9JvrdkyZkPuTLlDbJU9si9cuBCNGjXCsWPH7NGgCLaiTp06qF69Ovr06YOdO3ea4KA8StHTmBPB6pNVtMRpsrDZ8qZUbTkdMWIEnnrqKXNczHPPPWfLAVKjREAEREAEREAERCAaBFIiTilM7/vffThz/ozfpmZKnwlzms1xrEANdgzogUeB16tXr2BvsVU+T3EaSsMeeeQRsyVu1KhRodwWlrwSp2HBaItCUpU4PXfuHNasWeM+EubixYtgEKSyZcvaYjDUCBEQAREQAREQARGIFYGUiNPtx7ej0ReNAjZ9ZpOZKJyjcMB80c7ANWKGDFwWpzxJnEqcpnwWpd4SUo04PX36NGrUqIFNmzYZgVqoUKHUO+rquQiIgAiIgAiIgAh4EXCaOC1cuDAeffRRfPvtt1ixYgVKlSoFesVVrlzZ9GzkyJF45513sGvXLhQtWhRvvvmmexsXXVYXLFiAihUrYvz48ebvGTNmGI+6L774AmfPnsX111+PAQMGoHnz5vjhhx+MNdQ6cnDevHno0aMHtmzZgowZM6JChQrg73g/20ALIsVugQIFsGHDhqDaQ9dhHl1oWR47d+6M1157zT1Kq1atwvPPP4/ff/8dFy5cwG233Ya5c+ea63S/7datGxYvXmx+pgvykCFDkC1btiTneWJiIt544w28//774Fr54YcfBuvhmpmMtm/fjiJFihiGBQsWxPLly9GlSxesXr0a6dKlM8xnzZplWFsnXVxzzTWmzuPHj5s80UiynEaDcnTqSDXilDg7dOgARuT9/PPPZS2NzvxSLSIgAiIgAiIgAg4h4G+Bf/unt+PcxXMBRc6FxAsBe5ouTTqkSZPGb74MaTNgSZslActhBopTtpmxQ3jSAmOJUJBRME6aNMls25o2bZq5xoCXLVu2NCK2ePHiRnj169fPCFaKLYrOCRMmGGFJkZk7d24jyE6ePGn2XHqLU+6/7N+/P+jKyjb89NNPqFWrlmm3L8vpRx99FLA9LO/dd9/FY489ZgQo932y3jvvvBP79u0z7aA4ffrpp43wpbimYKaQphdg69atTSwV/tymTRsjrkePHp0kSwpzbm2bM2eO4TRo0CDDhkLTlzitVq0a6tevb67TA5Ht5H1ZsmQxLOTWG9TUVaYkCMS1OOWXH34RKl++vEHAFwwfZkXi1TMhAiIgAiIgAiIgAlcScKI4bdeuHfr27Ws6wjXfjTfeaCyBtHhSyPH8eivRmkjLJPeCUniNGzcOW7dudV8fM2aMEZwUdDxa0PNIQW9xSmHctm1bYymlCPRMvsQpxWOg9kyZMgVr1651F0ULMOvo2rWrEba8vnTp0qum7dSpU/HCCy8YUW4likYKSVpDk7Je1q1bF1WqVHEzpOAkw44dO/oUp+wbxT0ZkoFnkjjVGyUcBOJWnFpfk2666SbzVcdyMQgHNJUhAiIgAiIgAiIgAvFGwIluvb179zZCykq0NjZu3Ni4w6ZNm/YKYUbrKMUsraOWW+93333nvpfXaXmlCOQ2sNq1axtRSDHmLU5XrlxpBDDvz5s3Lzp16oRnnnnGlOVLnNKyGKg9ixYtMlZbK3mW8+STTxo32U8//fSqaUdr50svvWSsl56JFlQKVroW+0ulS5dG9+7dr2JIi6wvy+m2bduMkKUrNQ0+FM+vvvqqEfISp/H2RohNf+JWnPIFyy9G/CLEh0viNDYTTLWKgAiIgAiIgAg4g4ATxak/yylddilQW7Ro4RM+14beYtAzI4+MoVWUezlp8PAWp1ZeWmtZDo8k5N7Le+65x/3HM1ovXXJDbY+nOKVIpoWU29O80+TJk03ZnlbXYGccRSitxJ7WZ8Zl8Wc59SyX+07Zb1qbufeXfyjAFa03WPrK54tA3IhTRll7++23zcN07bXXmr6GM/Kapo8IiIAIiIAIiIAIxDMBJ4pTrvWsPadvvfWWsXTSWkjBxnUhLY3c3kUrIj3p8uTJY4L4+BKntILmyJED5cqVM/spubeTFlT+3lOcktPEiRPRoEEDUx4DbdJdmPs2a9asafZ+MkgS3YStxIBBobbHU5zu3bsXtHLSQso9staeU1p36brLgEy0XPJa1qxZwfwUsk2bNk1yyo4dO9a4G1t7TgcPHoxXXnnF755T5qfhh3tuuSeXhiCKU7pPs22//PKLsf5SpEYzKSBSNGlHtq64EaeMUMaXEr+gcQ+BkgiIgAiIgAiIgAiIQPAEUiJOY3HOKfc8MtglI9Yy0FHJkiUxfPhwIxSZKKQoCOmKSjHHiLwUXwzg40ucUnDSgkhrKcXl7bffbgIUlShR4ipx2qRJEyP+KHrz5csHut3SPZaJ+0LZrt27dxuXWsuiGWp7vN2DGSmXEYKXLVtm6qlUqZJxr2WiUGQwpO+//97EWKF4bNWq1RXRfn3NBFp+KS7p6nzmzJmA0XoZzZd1so6cOXOawEt0b+a+Vu7f/fe//42NGzea/b9HjhxRtN7gHz/ldBGIG3G6Z88e8xBSoFohxDXKIiACIiACIiACIiACwRFIiThlDRSoJ/856beybBmzIXem3ME1JohcFKd03+W+R6XUTUCW0/gZf8eKU0bi5VcenssUbdeB+Bl+9UQEREAEREAEREAELhFIqTiNNkeJ02gTt299Eqf2HZtQW+ZIccqDh7mxnG4DDPdN1wklERABERABERABERCB5BOQOE0+O7veuXDhQtx3330+m8c9ovwTD0niNB5G8VIfHClO2XD61HPDNTdtKxJv/ExI9UQEREAEREAERCA2BJwmTmNDSbXakYDEqR1HJXltcoQ4ZSQ2brZmNLI333wzeT3VXSIgAiIgAiIgAiIgAn4JSJxqcjiVgMRpZEcuHYA3ADwCIAEAw3A9DuCwn2rrAxgCoCiALQC6ue4JppWOEKd037XCejMSWMGCBYPpm/KIgAiIgAiIgAiIgAgESUDiNEhQymY7AhKnkR2SlwE8DICi8wiA0QAyA/DlME5BugZAJwCTAfCk4Y8A3AxgexDNtK04PX/+vAk/nSZNGtMNht+++eabTdhsJREQAREQAREQAREQgfASkDgNL0+VFj0CEqeRZb0DwOsAPnZVUwzAZgBFfAjO1wDcA6CGR5MWApgHgNcCJVuK05UrV5qDhF944QU89NBDgfqg6yIgAiIgAiIgAiIgAikkIHGaQoC6PWYEJE4jhz4HgGMAbgWwwqOa4wDaAfjSq+ovXIL1GY/fvwPgXwCa+WgmXYbTevw+PYDTHFAeTmyX9PnnnxtRysOHv/vuO7f11C7tUztEQAREQAREQAREIN4ISJzG24imnv5InEZurCkqd7r2j27zqIbWVLr7TvCqej6ARQBe9fg9LaZ3Aqjjo5l9vPKaLHYTp4mJiZg4cSIefPBBReKN3FxTySIgAiIgAiIgAiLgJiBx6n8y8EiWRo0a4dgx2pCU7EZA4jRyI5ITwNHUbjmNHF6VLAIiIAIiIAIiIAIi4ItASsXp+SNHcOHECb9w02XPjvS5c8c9fHr+1alTB7169Yr7vtqlgxKnkR0JWklp/WQgJCYrCq+/Pae1ANT0aNICALSoOnbPaWTxqnQREAEREAEREAEREAFvAikRpxSmm+vUReKZM37BpsmUCcXnzbWlQOWxheHa4iZxGv1nS+I0sszpvtveI1ovAyNlc/3sXTODJa0G0BHAVADNAYyKh2i9kUWs0kVABERABERABERABDwJpESc/r1tG7bed39AoEXnzMY1RWhvSXkqXLgwHn30UXz77bdYsWIFSpUqhREjRqBy5cqm8JEjR+Kdd97Brl27ULRoUbz55puoV6+eudanTx8sWLAAFStWxPjx483fM2bMwFNPPYUvvvgCZ8+exfXXX48BAwagefPm+OGHH4w1lKdJMM2bNw89evTAli1bkDFjRlSoUMH8jvezDenTpzdit0CBAtiwYUNQ7aHr8B133IFRo7iUBzp37ozXXrtsa1q1ahWef/55/P7777hw4QJuu+02zJ071+TduXMnunXrhsWLF5uf6YI8ZMgQZMtGCRH/SeI0smPMoEVvus45vQYAZx2PiuE5p20AfAggq0cTPM853Qrg2Xg75zSyuFW6CIiACIiACIiACIiAE8Up2zxz5kzccsstGDp0qBFkFIyTJk3CwIEDMW3aNHPt66+/RsuWLY2ILV68uBGn/fr1M4K1S5cuRnROmDDBCEuKzNy5cxtRe/LkSZQpU+YqcZo/f37079/fnC7BNvz000+oVYvOjDABPb3dej/66KOA7WF57777Lh577DEjQKtXr27qvfPOO7Fv3z7TDorTp59+2ghfimvWQyFdtmxZtG7dGj179jQ/t2nTxojr0aMtR8z4nt8Sp/EzvrY8SiZ+8KonIiACIiACIiACIuAMAv4W+H/cWhGJLouh354kJgKB8vDm9OkB1xn2vspKkz49Si1fFhQwWk7btWuHvn37mvwMqHnjjTfijTfeMBZPCrn27emMeCnRmkjLJPeCUpyOGzcOW7fSrnMpjRkzxghOCrqqVasa66eVvC2nrLtt27bGUkoR6Jl8iVOKx0DtmTJlCtauXesuihZg1tG1a1cjbHl96dKlV7GZOnWqOX6RotxKFLfVqlXD6dOnkS4d7V7xnSRO42d8JU7jZyzVExEQAREQAREQARFINgEnitPevXujY0fubruUaG1s3LixcYdNmzbtFcKM1lGKWVpHLbdeHlloJV6n5ZUicNOmTahdu7YRhbS0eovTlStXGgHM+/PmzYtOnTrhmWcunezoS5xmyZIlYHsWLVpkrLZW8iznySefxPHjx/Hpp59eNb6DBg3CSy+9BNbhmWhBpWCla3G8J4nT+BlhidP4GUv1RAREQAREQAREQASSTcCJbr3+LKd02aVAbdGihU8eFKfeYtAzI4+MoVWUeznpPustTq28tNayHO5lnTVrFu655x73H89ovXTJDbU9nuKUIpkW0iVLllzVn8mTJ5uyPa2uyZ4EDr1R4tShA+ej2RKn8TOW6okIiIAIiIAIiIAIJJuAE8Upo+xae07feustY+mktZCC7e233zaWxvLly5t9mHR1zZMnjwmc5Euc0gqaI0cOlCtXDhcvXjR7O2lB5e89xSk5TZw4EQ0aNDDlrVmzxrgLz5kzBzVr1jR7PxkkiW7CVmJwplDb4ylO9+7di9KlSxsLKffIWntOad2l6y4DMnH/K69lzZoVzE8h27Rp02TPByfdKHHqpNFKuq0Sp/EzluqJCIiACIiACIiACCSbgBPFaYcOHUzEWgY6KlmyJIYPH26EItPYsWONINy2bZsRc4zIO3jwYBMgyZc4peDk/lVaSykub7/9dhOgqESJEleJ0yZNmhjxR9GbL18+0O22e/fupl7uC2W7du/ebVxqLYtmqO3xdg9evny5iRC8bNmlPbmVKlUykYqZGLyJwZC+//57E8SJAZtatWp1RbTfZE8MB9woceqAQQqyiRKnQYJSNhEQAREQAREQARGIZwIpEaexOOeUQYnovsugQUqpm4DEafyMv8Rp/IyleiICIiACIiACIiACySaQEnHKSilQL5w44bf+dNmzI33u3Mlun/eNEqdhQ+n4giROHT+E7g5InMbPWKonIiACIiACIiACIpBsAikVp8muOJk3SpwmE1wc3iZxGj+DKnEaP2OpnoiACIiACIiACIhAsgk4TZwmu6O6Me4ISJzGz5BKnMbPWKonIiACIiACIiACIpBsAhKnyUanG2NMQOI0xgMQxuolTsMIU0WJgAiIgAiIgAiIgFMJSJw6deTUbonT+JkDEqfxM5bqiQiIgAiIgAiIgAgkm4C1wC9SpAgSEhKSXY5uFIFoE+CRPjwyqFixYuYYICvxHFzXz/zluZS0K01KbtZczLitAAAgAElEQVS9QROQOA0alTKKgAiIgAiIgAiIQPwSSExMxKZNm5AuXTpzdicX9WnSaEkevyPu/J5xzvKjysGDB3HhwgVzJq3nnJU4dd4YS5w6b8zUYhEQAREQAREQARGICAEu5vfv349Tp05FpHwVKgKRIJA1a1Zcf/31yJCB0uZykjiNBO3IlilxGlm+Kl0EREAEREAEREAEHEWA1qiLFy8aS5SSCNidAC39adOm9Wnllzi1++hd3T6JU+eNmVosAiIgAiIgAiIgAiIgAiIQgIDEqfOmiMSp88ZMLRYBERABERABERABERABEZA4jbs5IHEad0OqDomACIiACIiACIiACIiACMhy6rw5IHHqvDFTi0VABERABERABERABERABGQ5jbs5YMTpX3/9dVV0q7jrqTokAiIgAiIgAiIgAiIgAiKQagjQcpolSxb2V+ecOmTUMwE47ZC2qpkiIAIiIAIiIAIiIAIiIAIiECqBzADOhHqTZ36d+JsSesHfS84JAM4Hf0tUcqZ3iWZOJLu1LSoAVElECGheRQSrCgWguaVpEAkCmleRoKoyNa80ByJFwK5zi+06CyAxJR2XOE0JPeffa9yNw2GCdz4K9SCMBDSvwghTRV1BQHNLEyISBDSvIkFVZWpeaQ5EikBczy2J00hNG2eUG9eT2xlDEJet1LyKy2G1Rac0t2wxDHHXCM2ruBtSW3RI88oWwxCXjYjruSVxGpdzNuhOxfXkDpqCMoabgOZVuImqPIuA5pbmQiQIaF5FgqrK1LzSHIgUgbieWxKnkZo2zig3HYDeAPoCuOCMJquVDiCgeeWAQXJoEzW3HDpwNm+25pXNB8ihzdO8cujAOaDZcT23JE4dMAPVRBEQAREQAREQAREQAREQARGIdwISp/E+wuqfCIiACIiACIiACIiACIiACDiAgMSpAwZJTRQBERABERABERABERABERCBeCcgcRrvI6z+iYAIiIAIiIAIiIAIiIAIiIADCEicOmCQUtBEbph+A8AjABIAfAvgcQCH/ZRZH8AQAEUBbAHQzXVPCpqgW+OUQChz634A3QGUA8D71gB4CcDCOGWjbiWfQCjzyrOWzgCGuwK89Ut+9bozjgmEOrfyARgEoCEARsbcCoDvsr1xzEhdC51AqPOK/xfyfcX5tR/AW653V+g16454JvAQgP8DUB5AZgDpA3S2kmselQWwD8CrACY4FZDEqVNHLrh2vwzgYQAUnUcAjHZN8vt83E5BStHQCcBkAC0AfATgZgDbg6tOuVIRgVDmVhsApwF8D+AUgP+4Fn2lAexKRczU1cAEQplXVmk3ApjvmmN8d0mcBuacGnOEMrf4MXcpgF8A9ATwJwDrfXUiNcJTn/0SCGVeNQYwEUBt19yqCmAegCYA5oqxCHgQuBfAtQAyudbiSYnTHAA2AxgM4G0ANQFMB1AXwM9OpCpx6sRRC77NOwC8DuBj1y3FXBO4iA/B+RqAewDU8Cieli2+OHlNSQQ8CYQyt3yRO+T6EMIXqJIIWASSM6/4jhrpskbw3xKnmk++CIQyt+hh1MvlRXROOEUgCQKhzCt6ozUHUM2jPIqHaS5hIdAi4E3gbtc6PClx2sG1TueH2kRXAeMBnAfAa45LEqeOG7KgG8wvKccA3ApghcddxwG0A/ClV0lfuATrMx6/fwfAvwA0C7pWZUwNBEKdW95M6N7LOVkSwKbUAEx9DIpAcuYVRUQDALRI/OD6T1ziNCjcqSpTqHNrEoBcAPYAeAAAP6bRk2hoqqKmzgYiEOq8yu+xvYqi9E4AXHvd5fJcC1Sfrqc+AsGIU1pLC7ss8BahZ11r/YpORCZx6sRRC67NFJU7XV9+t3ncwq98dEPx9kWnW9wil5+6lZ0WU7486wRXpXKlEgKhzi1PLNxnw3n2PwAvphJe6mZwBEKdV4UALAZQxSUiJE6D45wac4U6t2iBp+slP9aOcO2X/xpAVwCfpkaA6rNPAqHOK1q/aJFnzIW0rhI5x94TXxHwQyAYcUrvSM4tbuOzEi2mXOsXdyJZiVMnjlpwbc4J4Kgsp8HBUq6QCIQ6t6zC+dWY+2q497SLh/tJSJUrc9wSCHVeMcAb3eE+dBGROI3bqZHijoU6t7jdoDKAgh410zrBd1jLFLdGBcQLgVDnFT/4/9tl4VoPoIzLi22Ax/areGGjfoSHQDDiVJbT8LBWKVEiQCspX4YMhMRkReH1t+e0lmsjtdW8Ba5AI9pzGqUBc1A1ocwtdosuJ7TOc9HHaIVKIuCLQCjzintrGKjG2mNDF7t/ACzz2jsv0iJAAqHMLUa6fMy1rcWixwXgDQBaCacIeBAIZV59BWAtgBc87rdOSGgqqiLgg0Aw4pRW0j4AuOfUSuMAXNCeU80pOxKgSb+9R7Remv6zuX72bi+DJa0G0BHAVNem/VGK1mvHYbVFm0KZW6VcewHHuFyabNEBNcKWBEKZV55WLXZmiut4Ii72Dtiyd2pULAmEMre4yKNlqweADwDweAa6+j4F4PNYdkJ1245AKPOKkZ95tB+PJ2K8BUaApmDl/419bdczNSiWBHhEEY+wYuTd2QCyuhrztw+vM1rwOZ8GAmCsGAY2naFovbEcPtWdFAFO7jddL8NrXC6VPCqG55zyeA+6w1kTnuV4nnPKM924oZquc0oi4E0glLn1iWsO/uVVCIPZaP+W5pYngVDmlTc5ufVqLoXz/0NaLHgG5U2us01pOX1fiEXAi0Ao7yzuC2TANp5hmcfl+cGPaoy/oKjQmlqeBPgRg2sn70TPR+51nuNyC2dsGSZuQ+D76RbXOaev6JxTTSgREAEREAEREAEREAEREAEREAERSAEBBURKATzdKgIiIAIiIAIiIAIiIAIiIAIiEB4CEqfh4ahSREAEREAEREAEREAEREAEREAEUkBA4jQF8HSrCIiACIiACIiACIiACIiACIhAeAhInIaHo0oRAREQAREQAREQAREQAREQARFIAQGJ0xTA060iIAIiIAIiIAIiIAIiIAIiIALhISBxGh6OKkUEREAEREAEREAEREAEREAERCAFBCROUwBPt4qACIiACIiACIiACIiACIiACISHgMRpeDiqFBEQAREQAREQAREQAREQAREQgRQQkDhNATzdKgIiIAIiIAIiIAIiIAIiIAIiEB4CEqfh4ahSREAEREAEREAEREAEREAEREAEUkBA4jQF8HSrCIiACIiACIiACIiACIiACIhAeAhInIaHo0oRAREQAREQAREQAREQAREQARFIAQGJ0xTA060iIAIiIAIiIAIiIAIiIAIiIALhISBxGh6OKkUEREAEREAEREAEREAEREAERCAFBCROUwBPt4qACIiACIiACIiACIiACIiACISHgMRpeDiqFBEQAREQAREQAREQAREQAREQgRQQkDhNATzdKgIiIAIiIAIiIAIiIAIiIAIiEB4CEqfh4ahSREAEREAEREAEREAEREAEREAEUkBA4jQF8HSrCIiACIiACIiACIiACIiACIhAeAhInIaHo0oRAREQAREQAREQAREQAREQARFIAQGJ0xTAC+FWck4AcD6Ee5RVBERABERABERABERABERABJxAID2AswASU9JYidOU0Av+3kwATgefXTlFQAREQAREQAREQAREQAREwFEEMgM4k5IWS5ymhF7w92YA8M9ff/2FDBn4TyUREAEREAEREAEREAEREAERcD6Bc+fOIUuWLOxIRgDnUtIjidOU0Av+XiNO//nnH4nT4JkppwiIgAiIgAiIgAiIgAiIgM0JUJxmzEhdKnFq86FyN0/i1CkjpXaKgAiIgAiIgAiIgAiIgAgETUDiNGhUtskocWqboVBDREAEREAEREAEREAEREAEwkVA4jRcJKNXjsRp9FirJhGIOIGLFy/i/HkF3444aFUgAiIQ9wQYiyNNGu0yi/uBVgfjmoDEqfOGV+LUeWOmFovAVQQSExNx6NAhHDlyRHREQAREQATCQCBdunQoUqSIYnKEgaWKEIFYEYhHcToGQBsAf3tAfR7AcI+f2wN4FcANAFYDeBLA7x7XK7nylwWwz5V3gsf1fAA+AFDXdQbPaAA9AVx05UkH4A0Aj7jOJP0WwOMADofQBn9zQuI0Vk+L6hWBMBI4ePCgEabXX389MmfOrK/9YWSrokRABFIfAXqh7NmzxwRSKViwoN6pqW8KqMdxQiBexSl95B7zM0bVAXwDoCmAHwF0BfAcgBIATgDIAWAzgMEA3gZQE8B0lxD92VXmXAAnAXQAkBvA1wA+BvCm6/rLAB4GUB8AzSIUrzyr5z7X9UBtSGp6SZzGycOnbqReAlxEbdiwwQjTXLlypV4Q6rkIiIAIhJHAyZMnsXv3btx0002gFVVJBETAeQRSozgdCyAtgHau4eLmhB0AegPgNQrO1wDcCCDRlWc8AApeXisCYCuA4gC2uK53BNDLdY2/YnmvuwQrfy7mEry8d7urnqTaIHHqvGdJLRaBoAnwKKgtW7agaNGiuOaaa4K+TxlFQAREQAT8E/j777+xdetWFCtWzDqKQrhEQAQcRiBexekDLmFJN9oZLrF5yjU2KwDQ9ZdWUSsxD4VmN9fvCwNo4nH9WZeYrej6Pe/P6XH9VgDLXFZXit1jAPg71mWl464yvnT9Pqk2eE4jfvqjkLVSegCndc6pw540NVcEPAhY4lQLKE0LERABEQgfAb1bw8dSJYlArAjEozi9DcBuAIcAlAbwiUt4/tsFmSK0n+v3FndaTM+5XIHpnksBSLdcK9FiSlddWktpceX9tKxaybKm/gsAxelOAEUBbPPIQ2sqy+De1UBt8JwPfVx7Xq+YIxKnsXpkVK8IpJxAMAuo1atX45FHuG0dePXVV9G4cWN3xfPmzcMLL7xgfn7//fdRpUoV97VPP/0UQ4cONT9PnTrVBAex0ltvvYUJEy5tny9VqhSYN5bpjTfeANv0119/4fvvv0flypXD2pwffvgBderUiUk0ZI5d+vTpMWrUKNOnm2++Ga+88gpatWqFWLYrGMCPPfaYYTZmDL+hRj69sOAFbDvu+d/l5To7l++MWoVquX8xY/MMfLo+8LwdevdQFMxW0H3f4KWDsWT/EvNzkRxF8GZNaxdO5PsXTA0LFy5Eo0aNcOwYv23Hd+IzWb16dfTp0wc7d+5EmTJlsHHjRuTPnz/FHQ/m3ZriSlSA7Qns6d4D/2ylkyNwXa9eyFyR9qJL6cjoT3Diq68C9qHQuHFIlzWLO9/eF17E35s2JXlfhgIFUPDdYVfk2dbswYB1Za1VC3m7POXOd3bDRuzryVA2SafcTzyO7PXquTMdnzkTf34S+L1dYOgQZCxMO9yldHDIEJzbtx8FBg8KVGVUrsejOPUGdyeAHwBkdQVJiqTllNZUitOjspxGZf6qEhFwJIFgFlC//PILqlatavo3evRodOjAb2SXEkVnixYtzL+//fZb1K3L2GyXEsVet250AgHWrVuH0qX5je5Seu6559zCtWLFivj9d884cP5R3n333fj5559NBEzu46I7cq9evfDgg4H/0/VXKveFFSpUCGvWrDGL05QmLnQXLVoECncrxVIEeotTz/5Fql1J1RkK32iL05YzW2L9n+t9NvH1aq+jaQmGiLiURq8Zjbd+fytgd2Y8MANFc/Ib8aX0zPfPYP7O+ebfpa8tjcmNJgcsw64Z+DxS4PEZdGLyFKehtD+Y+R3MuzWUOpXXmQQoCM+uW2ca/6+RHyFrjRrujhz473/x59hxATt209IlSJctmzvftlatcHblqiTvy1i0KIrNnnVFnvWlLv8f7O/mHE2bIv9/B7gvn1mxAtsfsmxq/qu8/rXXkKtVS3eGI2PG4OAbgT+8FZnxBRJKljT3/bN7Dw4OGYxzO3aiyP+mBeQSjQypQZxydbcAAGfYWdd+TwpIRuxl4r+5D/QVjz2ntFZ6WkY5iy947TnlPtJLn2WAR117Vi0TBa2k3LfKQEhM/B+S1lLPPadJtSGpsVdApGg8GapDBCJIwNcCauTIkdi/f78JkvSf//wHkbKc0lr6ySefGIGZJcvlr8JJdddzMUyLGi2zL730khG/DDwSauJ/PL/++itYbrjOeI1nccpjhy5cuGAssUmlYBbvwYxVrMRpQroEY9X0TOG0nH6+4XOcvXA2JuKUc54fd8KRJE4veSP4ShKn4Zhhzi/DU5ze+Nlnspx6Damn5XR727Y4f+gQ0mXJKnEawan/kCt6Ln1jGIGXLrs8Dsb6xM9IuYyuy32pCwE8DaCHR7ReWj9ptx8I4B0A/NzCPak0TXhG6+UeUopSK1ov3Yd5fAwT3Xcpfq1ovXQVpjjmz0yB2pAUHonTCE4eFS0C0SDgawF12223YdmyZQjFohmNtrIO78XwqVOnkC1bNmPBpfWUR+I8//zzxop79uxZ1KpVC++++y6uu+4608TChQvj0UcfNa67S5YswfDhw/HEE0+YvBTIzMcAUadPnzaur9OmTcPx48dx++2347333kPx4txRAXCBP2jQIIwdOxZ79+5Fvnz5MHDgQCNw27VrB0ZBTkhIMHlXrVplXAYtt97169ejfPnyJpIn72Oi6KPbc9++fc393slffezz/PnzjUCnOyJFY+3atTFs2DB32d5CkQz69euHtm3but16P/74Y9NfRhil2zb7mjUrnXxgjsF4++23MX78eKxdu9awo/uzvzrJ4eWX+V8P3EG2yJCW7i+++ML0kYxvuOEGY3Fr04Ynrl1KtMz379/fnLv7wAMPGC7sU7Tcei3LaaQtmqHWY81bzusVK1YYV/gRI0a43c/5Qemdd97Brl27zMeeN998E/VcLnb8WLJgwQLzPHMM+feMGTPw1FNPmfHg3OeHqAEDBqB58+ZXuXrTA6BHjx5mzHg0SoUKFYxXAO9nGzg+FLsFChQwkb+ZArWHrsN33HGH29W8c+fOeO01fke/lPjM8DmmRwU/hvCdNHcuDyeAeZbokbF48WLzM12QhwwZYt4DSSXOJbrvc/sBn++HH37Y1FOjRg3j1rt9+3bzDJIhj39Zvnw5unTpYj7Oce6S+axZs0zf/M1vz/olTpMcjlRz0RKnCWXK2EZw2RW+HVnFo+WULrzl+P8z3ahdx8DQEspjYqxE4cjfWeecdvY655Qbn94HcItL2NKq6u+cU56nSgvpi17nnNKuzg1jbAff7p18nHOaVBv8zWOJU7s+4WqXCARJwMnilG2n63Dv3r2N5ZRBnWrWrImSJUuaxSoXzFxcctFJAcfERT4Xu19++aVZZHNhTsup937Q1q1b48SJE6Bo4xE7FEyff/65WaiyXO6znTlzJiZNmoRbbrnFnGn4559/oly5cmahG8itl+3kopqLfiaKDu4BpdDNlCnTVaOXVH2si5GWb731Vhw+fBgtW7Y0QmHixImmnEDilAKeIpd9JY+mTZuaPn344YfmfopT/jx9+nTDjwJ86dKlIdXJciguHnroISOI7rzzTvz222+49957jVAiDwoWCiqODdv02WefoWPHjka8SpwWBuc75xzHgh4DnOMUjJyD/CDADym89vXXX5s5QBHLjymcj/wYQcHK54Hjx/3eFJYUmblz5zaCjB8m6Nbu7erN/Zec/5xHbMNPP/1kxofJl+X0o48+CtgelsePRrSMU4By3yfr5bzYt2+faQfF6dNPP22eN4prPqOcn2XLlgWfz549e5qfOT8orvlhI6lEYc7tBHPmzDGc+HGJbCg0fYnTatWqoX79+uY6PzaxnbyPH7GC8QyQOA3yP6E4z2ZHwWVX5HZkFY/i1K7jH652SZyGi6TKEYEYEfC1gDpw4ICxDHJRaFkcY9S8q6rlYphikmKMVhwuvrlIpdCj2KHIOXr0qNtiR0tqnjx53NYQywJFK6GVvBfjFHh58+bFjh07zF5UJi5OKVJpOeECmlYaitUGDRpc1cZgxCnFAQXDH3/8Ye6nMKUVlQt270SLT1L1eef/6quvjHX44EF+Ew1OnG7evNmIeyYKloYNGxrrUtq0aY04pYW4fXtrB8rVsyFQnbyDZdIC7cmeYunMmTPGgkYXcooNiggrkXWJEiWiJk7XH1mP0+dPI3P6zCidO/D+rOQ+F8mxnNKiTqszE+fEjTfeaCyBtHhSyHmOD58HWiZpmeZ8HDdunDnWxEoU+xSIFHTcT+7ppu39PPCZoZWdllKKQM/kS5xSPAZqz5QpU4wV3koMQMY6unbtaoQtr/MDiHeihwQ/1FCUW4mikUKS8zWp80S5H54B2yyGfKbJkB9AfIlT9o3vFzIkA88kcZrcmZ/67rOj4LLrKNiRlcSpXWeL/3ZJnDpvzNRiEbiCQCy/7r/44ovYtm2bcaXjIjuYlNQeNy5oaZnzdu/jeYO0nHIBy0Xm66+/fsVC3nsxzkUxRVSOHDmuYkXrIt1mKdrpRkvh5J2CEacUYbRu0mrIQFH8N92MaXn1ThSZSdXHxTldbFeuXGkW6BQudHfm30zBWE75H7AlUChU2S9+pKBgpjj98ccfjfD3FASh1Mn7GCWYVmzP/Y60YtOtcvbs2bjvvvtQqVIlt3jgPRQs0XTrDWYOhiNPcsQpPQQopKxEayNdsOkOy48InsLMci+nddRy6/3uu+/c9/I6La98ZjZt2mTmNEUhxZj388B5RQHM+/nRplOnTnjmmWdMWb6eR1oWA7XH27PAs5wnn3zSuNL7iuBNayfnnfcedT5PFKx8jvwlPmfdu3e/iiEtsr7EKd9NFLL0auCc5VxktHLOR4nTcDwFqaMMOwouu5K3IyuJU7vOFolT542MWiwCQRKIpThNzt7WpMQpxR0XmjwCg4tjX8lzv6V13XsxbolB/s3FuHeyLJmTJ0/G/ffff9V1il+6IQaK1st9c7Tycv8pXXBpEfaVAtVHIcm9grQgZ8+eHbRi0nIWijgNZDmlyy3FkJUC1UnLLcfAOr6G95EV3UEtV2bvvtLFkx8SYmk5DfKxSXG25IhTf5ZTWuApUK2o2d6N8/WxxDMPnxdaRbmXk/PWXwRnzieKSrpe04Pgnnvucf/xjNZLl9xQ2+P5XFMk00LK59k78Zlj2Z5W12AHg+8GWok9rc/0jPBnOfUsl+787DetzZzbvua3dzti+W4NlonyRZ6AHQVX5HudvBrsyEriNHljGcu7ZDmNJX3VLQJhIBDLBdRdd91l9sVx7yctc8GkpMQp3fR4nWKPC3LupWNgHVpNaVFlCkacMh/3sZENAwHRGsMFPAMB0TWQgYIosLh3jfv9aBHkXlHuOeWeNO65Gzx4sDmahq7HTL4W/HTppaWQ5bM8ijN/Kan6aFV99tlnjbsj9w5yPx6DxYQiTilsKCRpgWrWrJmx5jLwCxMtp97iNFCdtG7xCCIKdOtDAS1QPIaIzGjFptWUi362kxwojLgHleKac4P5mD+ae06DmYPhyPPI149gw58bUPLakhhTP/BZgJy3XCRZe06515oijtZCCjbOU1oaOfc5hrSm052dQXx8iVNaQekZQEs9nxvu7aQFlb/3nKt8BvjhhO7rLI9zmu7CnPu0pHOucY577gnmvAm1PZ7PNZ8lzj/OIbp9W3tOad2lZwDfF7Rc8hqfReankOVe6aQSXdPpbmztOeUzShdzf3tOmZ/PO/fc8rninKU4pfu0r/ktcRqOJyP+yrCj4LIrZTuykji162zx3y6JU+eNmVosAlcQ8CVOaYmhCyETI3sywIqnBZGWBwa1oejw3hdGCwzPIeXeNFpXPBODtHAxzQV0oOAl/oYp0NEVFIhsO+vmflO2mxaPDz74ICRxykUwXRm5r5TH6uTMmdO4n3LhTZdCcqMrMvfyWcfuUCxQ2NEaSksmo31y4c+/uX/VO+gSG0QRxsjIDAJjRcf11fek6qNrMAO9sB0UI7Sw0e0yWHHKdlnRehkEilZXRjS13KN9idNAdXJ/47///W/j+sx2cCzodspx4fxhVFfOHwp7Wpo5rkwUyBQAzE+XVaZouvV+uPJDvLfiPVMvI/Ymld6v/T7yZr5sWe//S3+sPLQyyXtyJeTCh3UvBZoKJVGcUqgzqBQ/6DDoFyNNUygyUUhRENIVlWKOzy3FFz+W+BKnFJwcB1pLKS7pxs79zrSIe4vTJk2aGPFH0Us3b7rd0j2Wic8/28XI0/zIYlk0Q22P93PNZ4YfZPhsMPHjBT9uMFEo0kuAH4sYxInikXu2PaP9+mLLeci5RVdn7nMOFK2X11kn6+Dzz48kfCdwHvub3571xvLDXyhzS3kjS+DUosW4eOI40mbPgazV74xsZQ4vXeLU4QNok+ZLnNpkINQMEUguAV8LKEZp5fEqVmIkWi4ArUQLH8UMxQWtX56J0S2/+eYbE0iIgswzMVAKF6+0QFjHQCS33fFyHy1AFAe0tirFnsDkDZPR95dLQYcCpW8e/Ab5s15+Lp6Y+wQW7710vIm/lDdTXnzX8vLez0B1WNd9WfyDvVf5YkNA4jQ23FWrcwls/3drnF2/HgmlS6PwxM9s0RFZTm0xDCE1QuI0JFzKLAL2I+BvAUWBagkmO1lO7Ucw+S2iVZHHv3CvKYW7kj0IUKBO3Tg1YGOibTm1zqYN2DBlsAUBiVNbDIMaIQIpIiBxmiJ8MblZ4jQm2FWpCISPgBZQ4WMZSkl0+6WFmftEPYPJhFKG8qYeArKcBh5r7otmxGdfiXtE+SeaSe/WaNJWXSIQGQISp5HhGslSJU4jSVdli0AUCGgBFQXIqkIERCDVEdC7NdUNuc8OH530Oc4fOoT0efMi10OtBMVhBCROHTZgACROnTdmarEIXEFACyhNCBEQAREIPwG9W8PP1Ikl2jHIjxM5xqrNEqexIp/8eiVOk89Od4qALQhoAWWLYVAjREAE4oyA3q1xNqDJ7M53FSvihtNnkFCmDIr8b5q7FEaD5tFMxYsXN1HhPRPd03nO9p133olhw7buANwAACAASURBVIZdcY3ngzPx6CTPLSEHDhxwn7vNgIb/+c9/3PfxyC4G32N69dVX3ZHQ+TOP++L2EiZGaa9SpYr7Ph5PNXToUPMzzx4uUqSI+xqPs5owYYL5mceAMYq9lV588UUTWZwR6L2PieMZwStXrkSxYsXMMVie6X8VKyLvmbM4mi0bGi/xfe53Moch2bdJnCYbXcxulDiNGXpVLALhIaAFVHg4qhQREAER8CSgd6vmAwnMpii9mIg0xYuj1Fcz3VAoAhkMj8c9rVq16gpYBQsWBKPkU6TOnj37ims82ouJ4tMzyjuPc/rXv/5lrvF4Lus4OP7MM6erVq1qrvEYNx7/ZCWKTp5zzcSjk3i2r5UoQLt162Z+XLdunTl/2Eo8vswSrjyCzDp6jNd5tBOFZ/bs2XH8+PEr2k/B/dNPP5ljxCjOPdPUwkVwc0ICtqVNg/vXrbPFBJI4tcUwhNQIidOQcCmzCNiPgBZQ9hsTtUgERMD5BPRudf4YhqMHljjdkT496q9Z7S5SltOrLaeWOD2YLRvuWrokHPhTXIbEaYoRRr0AidOoI1eFIhBeAlpAhZenShMBERABEtC7VfOABBbeUQV5jh/H4Rw5UOPXXwQlCQJ23J8rceq8KStx6rwxU4tF4AoCWkBpQoiACIhA+Ano3Rp+pk4s0Y6Cy64c7chK4tSus8V/uyROnTdmarEIBBSnXSctx5ZDp3yS6lr7JtQtc5372tTfd2PMT9sCUh3R5jb869rM7nz9Z63Dz1uPmJ+L5c2Kdx66NWAZyiACkSawp3sP/LN1q89q8jz1f8h2zz3ua8emf4Gj48cHbFKBYe8gY8GC7nwH3hyI079eCvaRsWhRFBg8KGAZ0czA80IbNWqEY8eORbPauKtL4jTuhjRZHbKj4EpWR6Jwkx1ZSZxGYeDDXIXEaZiBqjgRiDYBXwuohu8uxJo9J3w2ZWDzcmhZ6VLQBaYPftyCN+b8EbDZ87rVRPF82dz5Hh//G75Ze8D8XLZAdnzVpUbAMpRBBCJNwFoc+arnhv79kfPBZu5LR0aNwsHBQwI2qeisr3BNsWLufLu7dMHJufPMz94RPAMWZrMMd999N+rUqXNF1FCbNTFmzZE4jRl6W1VsR8FlK0AejbEjK4lTu84W/+2SOHXemKnFInAFgaTEaUKGtCieL+sV+cNpOR3/yw6cPXfRduJ0/vz5GDBgAJYvX46jR49i165dYPREK23fvt2E1M+cOTOsyIk5c+YEoyUqOZuAtThKk5CAa4oWvaIz4bScHp04EYlnz8ZEnHKxlSED//tOeZI49c9Q4jTl8yseStjStCn+Wf8HMpYuhWLTp8dDlyLWh9llbkaRixexLW1a3L9ubcTqCaVgidNQaNkjr8SpPcZBrRCBZBNISpxG2qJpWWgjXU+ocBh2f8OGDciTJw8aNmzoV5x6i9ZQ61F++xGI1pf7UOspXLgweD4gj3pYsWIFSpUqhREjRqBy5coG4siRI/HOO++YuVq0aFG8+eabqFevnrnWp08fcw5hxYoVMX78ePP3jBkz8NRTT+GLL77A2bNncf3115sPMs2bN8cPP/xgrKHnz5839/McxB49emDLli3ImDEjKlSoYH7H+9mG9OnTG7FboEAB89wE0x66Dt9xxx0YNWqUyd+5c2e89tpr7gnBozWef/55/P7777hw4QJ4tiPPTWTauXOnOd5i8eLF5me6IA8ZMuSKoyzsMLMkTu0wCrFvQ+1bK+KPNatRquwtmL98WewbZOMWWJGNdZSMjQfJAU2TOHXAIKmJIpAUASeK0yNHjuDZZ581i9XExETce++94Hls33//PV566SX3ApnnvPXr188sqrlg55lyXLDzfi6oAyXLQurPcipxGoig866HKhqT28NQ66E45bM6c+ZMcy4izxekIOPcnjRpEgYOHIhp06aZa19//TVatmxpRGzx4sWNOOVzQMHapUsXIzonTJhghCVFZu7cuY2oPXnyJMqUKXOVOM2fPz/69++PRx55xLSBZxTWqlXLdN2X5ZRnLwZqD8t799138dhjjxkBWr16dVMvz0Dct2+faQfF6dNPP22EL8U1BTOFdNmyZdG6dWv07NnT/NymTRsjrnl+o52SxKmdRiN2beGHlWXLlpmPQpzrSv4JfNWwEdIfOoTzefOioceZsLFkJstpLOknr26J0+Rx010iYBsCvhZQa/Ycx+l/LiBzxnQoWyBHxNqaXMtp/fr1zYJ13Lhxpm1t27Y1f3PBTWvntm3bUKhQIXPo+OHDh43Vp1OnTmaBvWTJEmM1CiYFEqdctJMfDxOnAOBCXcnZBM6uW4eLp08jbebMxuU2Uik54rRdu3bo27evaRI/ytx444144403jMWTQq59+/bu5tKaSMtkr169zNzks7LVI9DTmDFjzPNAQcfnxPNjjbfllMKYzxgtpRSBnsmXOKV4DNSeKVOmYO3ay257tACzjq5duxphy+tLly69Cv/UqVPxwgsvGFFuJS74q1WrhtOnTyNdunSRGrKQy5U4DRlZXN7Aj0jc8sGtIc899xxGLtiKGSv3BOzrpE5VkfWayx9Ru01egY0HTiZ5X8GcmfFBu9uuyMP/ZwOl2qWuw7N1b3Jn+2P/CXSfsjLQbXiqVnHUL3uDO98Xy/dg1CLfAeU8C3v33xVRJE8W968Yt2LR5kPun+0UJFHiNOA0sF0GiVPbDYkaJAKhEYjlAio54nTv3r3GfXDjxo0oUaKE6SxdCenmyGuNGzc2LoJ0T+RiYNiwYZg1a5ZZ7NLa06xZM2M9Cib5E6enTp3CmjVrzJdw/sfFBT4X47TMlitXLpiilSeVE0iOOKUnQMeOHd3kaG3kfKc7bNq0aa8QZrSOUszSOmq59X733Xfue3mdi2Y+F5s2bULt2rWNKKSl1Vucrly50ghg3p83b17zoeeZZ54xZfkSp1myZAnYnkWLFhmrrZU8y3nyySdx/PhxfPrpp1fNkkGDBhnvCNbhmWhBpWDlu8EuKZbvVrswUDuuJvD6zHUYvThwhPtVfeohe8LlveFN3l+MFbuSjqBdLG8WzH/uyo+khV+cFXAYmt9WEINblHfnW7bzKJoN/yngfQOa3oLWdxRy5xu1cCv6zVof8L45XWug9A3Z3fn+77NlmLVqn/tnO231kTgNOJy2yyBxarshUYNEIDQCsVxAJUecUgBWqVLFiELL2sOFNi2pvDZ9+nTs2LEDrVq1wvDhw80eO7oIUmjSqsogR6VLlw4Kkj9x6uvmunXrmnZZlq2gKlCmVEsgOeLUn+WULrsUqC1atPDJk+LUWwx6ZuSRMbSKci8n3We9xamVl9ZalkPXeH7wueeee9x/aKG1Ep+3UNvjKU4pkmkhpZeDd5o8ebIp29PqatdJFMt3q12ZpMZ2rerxMi7u3o20BQui3KD+spwC8Gc53XzwlO2CJEqcOu+plTh13pipxSJwBYFYLqBafvgz1u89gdL5s2Py41WDGhnLckprD608TLSilixZ0lhO161bZ/ag0XJKd8Tu3bujfPnyZuFOK9KePYHdqayGhCJOue+VrokUCkoiEIjAjrbtcPaPP5BQqhRunBD4rFTOZS6SrD2n3GNNEUdrIQXb22+/bSyNnOu0ItLVlR9j6FHgS5zSCpojRw5j6b948aLZ28lnir/3FKd8P0ycOBENGjQw5dFjgO7Cc+bMQc2aNc3eTwZJopuwlRicKdT2eIpTPsf8gEQLKb0crD2ntO7SdZcBmbj/ldeyZs1qnnsK2aZNmwbCHtXrsXy3RrWjqixJAquqVUCGP/8Grk2D0g/nuZT3tkeASo9evm/zfGD+5YBgfgu8bxBQ6I7Ll396F1g9JfAIPDILuObyUW6Y/gRwcF3S9+UsBLSacGWeD2sGruum+4BaPS/nO7AW+KJz4PtqdMeD04FtB0+hSL6smPZy48D3RCGHxGkUIIe5ConTMANVcSIQbQK+FlDvzt+EIXM3mqbQvSapNPrhysiXPcGd5ZUZa0CXoKRSrswZMb6jx3+wIXaaQjAhIQFjx441e++4144RPWfPno2///4buXLlci9ouVhnZM+PP/4YTZo0MfcESlyskwstsFzcb9682bgLchFO90lG8+WimNdoteV+Pi7uGT2UwS+UnEvg8IgROPTOMNOBQHtOC34wAhny5XN3dv/rfXFmxYokO58uVy4U+vhShNpQEsVphw4dTBAwBjrixxh6BlAoMnFeUxByvzXFHF3OBw8ebAIk+RKnFJy08tNaynl9++23mwBFdJX3Fqd8bij+KHrz5csHut3yow8T94WyXdxTx2fEsmiG2h5v92B6OHCvOAPJMFWqVMlEKmZi8CYGQ2IANAZx4t5vekp4RvsNhW2k8kqcRoqss8pdX7UMcDQRCbn+QZF7D19q/F0vXing1kwDpnqIVX9dbDMNKFHn8tWvewK/DA8M5MWdQIJH/IiRtYE9vyV9X56bgKe89n33CSIGRYU2QBOPNu1aCnzs0WZ/tTZ8GzM7j0HxkwexOVs+NFr6Y+B+RSGHxGkUIIe5ConTMANVcSIQbQK+FlCf/roDL09fE1RTFr1QCwVzZXbnbT96CRZsvBzYwFch+bJdgyUvB/GflZ8WHDp0yETr5Z41ilO6GdKSRMsOE3/mPrn9+/ebc0gpWmn5oYika2SgxMW5FY3UMy8Xw1xEc2HP/X+MKkqRTDfGV155BXTtVXI2gaOTPsf+Pn2C6kTx+fOQwWOP487H/oO/Fi1K8t70efOixMIFQZXvmYnilFZ5K/hXyAXohqgTkDiNOnJbVriuSmmkOQZkzHUOxR7Jf6mNspxePVY1umPmw0MkTm05i53VKIlTZ42XWisCVxHwt4CiQJ24ZGdAYrGwnAZslDKIQAoIUKAemzw5YAnRtpxKnAYcEltlkDi11XDErDGWOE3MCZT5ZT1azmwZsC13/+tuPFnhSXe+jUc3oteiy/u6/RXQqVwn1Lnx8offr7Z+hXFrL0W1TyoNumsQbsx+ozvLW7+/hZ/3/pzkPdekuwbj779yS8KT857E4TMu67Cfu8vmKYtXqr7ivvrn2T/xxNwnzM+PDlqHGw9ewK68GVBv4apAzY7KdVlOo4I5rJVInIYVpwoTgegT0AIq+sxVowiESkCW01CJxT6/3q2xHwM7tMBy60WuNCj98zrcMvaWgM16oNgD6Ff9cvyClYdWou3sS0emJZUo+lrcdDkwGoXpoN8GBboNUxtNRclrS7rzdf+xO77Z/k2S9yWkS8DStle6/dabWg/7/rocdddXAXdcfwdG3Xt5a8PB0wdRe0ptk/WNT86j6H5gdz6g7oLAUX8DdiwMGSROwwAxykVInEYZuKoTgXATSI0LKB6LwT++EgO91KhRI9yYVZ4IiEAqI5Aa362pbIiD6u76amWAPxMvBUT6aZ0sp0lYTh8ZvBpFDgB7r0uD2j8GCNgUFP2UZ5I4TTnDaJcgcRpt4qpPBMJMQAuoMANVcSIgAiIAmKBqjKZcrFgxE3RKKXUS+KFmaVx3EDiQD7jbJtZAu47E/LvKIP+BRIlTuw6QQ9olceqQgVIzRcAfAS2gNDdEQAREIPwE9G4NP1MnljjnrnIofOActl+XAff9aI99lHblOP+u0shvLKdA7R/l1mvXcbJ7uyRO7T5Cap8IBCCgBZSmiAiIgAiEn4DereFn6sQSJ9W/Ff86fBa78iTgoa+XO7ELUWvz3JqlUPBgGuzOl4i6C/6IWr1JVSS3XlsMQ0iNkDgNCZcyi4D9CGgBZb8xUYtEQAScT0DvVuePYTh6cMvQykDus8CRBKzu5nVuaDgqiKMy5tYsjYIHFRApjoY0Jl2ROI0JdlUqAuEjoAVU+FiqJBEQARGwCOjdqrlAAuUGlUNivkSkOZgGq3rIrTepWTHt0ZuRcPYsziYk4MHRa20xgWQ5tcUwhNQIidOQcCmzCNiPgM8F1LTHgMMbfTf2rheBUvdfvrbiM+DXDwJ3rOU4IFfhy/m+eRnYvvDSz3luAh68HFo+cGHKIQIiIAL2JiBxau/xiVbrmnxSGVvSnkWxiwn4ooMsp0lx39y3Iopf2ILN6YqheO9l0RqiJOuROLXFMITUCInTkHApswjYj4DPBdSHNYF9K3039oH3gVs9zltb9DYw79XAHfu/JUDey+eoYVIb4I+vLt13Q3ng8QWBy4hSjvnz55ujZpYvX46jR49i165dKFiwoLv27du3o0iRIsicOTPSpEljfp8zZ07s3r07Si28VM27775r/hw8eBDp0qVDpUqVMGjQIJQrVy6q7VBlIiACVxOQONWsIIGWn1TA+rQXUPpiOkzusEJQkiAgcarpEQ4CEqfhoKgyRCCGBJIUp+kzAXlvurJ14bScLv0YOH/GduL0l19+wYYNG5AnTx40bNjQrzj1Fq3RHkYeU5EjRw7TTo4jhepbb71l2muJ5mi3SfWJgAhcIiBxqplAArPrlMF1hxJxIG8a3D/PHmd32nVkOr09CTsPHEWh63Lho2ceskUzZTm1xTCE1AiJ05BwKbMI2I9AkuI00hZNy0IbYj1HjhzBs88+i7lz5yIxMRH33nuvEWXff/89XnrpJSMsmXr37o1+/fqZswaLFi2KX3/9FfXq1QPvT58+fcDBsCyk/iynoYrTw4cP47rrrjPiMX/+/KCFtk6dOhg9ejQ6dOiA8+fP49prrzW/r1y5shGY7NeYMWNMH2gZHTlyJIoXL35V2zmOw4cPN1yOHz+O7NmzB+yfMoiACESOgMRp5Ng6qWQ7BvmxK79Huz2Pc3+dQoYsWTF66EBbNFPi1BbDEFIjJE5DwqXMImA/Ak4Up/Xr10eGDBkwbtw4A7Rt20tuxhMmTDBWxG3btqFQoUKoWrUqKAh79OiBTp06oX///liyZAlmzJgR1EAEEqcUmOR38803o0+fPrj77rsDlnvrrbcaAdm+fXv07NkTU6dONUL0s88+w+LFi9GoUSPT5rRp0xpxWrp0aXz55ZcoUKCA6cd3332H1atXGzdepkWLFhnr7okTJ8zP3bt3x8CB9vhPPSAMZRCBOCYgcRrHgxtC136sURr5DgEH8wJ3LbTH2Z0hND+qWb+qcQuKHTqPLXnTo+HC1VGt219lEqe2GIaQGiFxGhIuZRYB+xHwuYDiftN//gIyZrnkchuplAzL6d69e41Q27hxI0qUKGFaRktpqVKlwGuNGzdG586d0bx5c7NPdNiwYZg1axamTJmCWrVqoVmzZujSpUtQPfInTk+dOoU1a9agYsWK4H9ctHw+//zzxjIbaL8nBeaBAweMsKYopZh8+umnsX//frz++utYtWoVpk2bZtpHcTpq1Ch07NjR/Hz69GnkypXLWIirVat2RR+OHTuGsWPHmj4/+OCDQfVPmURABCJHQOI0cmydVPK6KqWR5hiQmBMo84vEaVJjJ3Ea3Zmdlh+4AVQF8C8AVtSM9gAYSeQGAPxE8CSA3z2aVgnAcABlAexz5Z3gcT0fAIbJrAvgLIDRAHoCuOjKw0/rbwB4BEACgG8BPA7gsEcZgdqQFCmJ0+jOI9UmAmEnENMFVDLEKQVglSpVjCi0XHPpDktLKq9Nnz4dO3bsQKtWrYyb6/jx41GmTBlQaNKqyiBHtEYGk/yJU1/31q1b17Srb9++SRb9zTff4NFHHzXitnDhwsZKWqFCBXz66adGNLdu3dqIa0uczps3D7Vr13aXSfE5dOhQtGzZ8qp6Ll68aNyCf/7556D7GAwH5REBEQidQEzfraE3V3dEiIDEafBgv615M/518CJ25UuLegt0lEzw5JKX8zkA9wHgCsMSp9UBfAOgKYAfAXQFwHw0BdA/KweAzQAGA3gbQE0A011C9GdXM+YCOAmgA4DcAL4G8DGAN13XXwbwMID6AI64xGtmV1uYJVAbAvVW4jQQIV0XAZsTiOkCKhni1LKcbtq0yb33klbUkiVLGsvpunXr0KZNG2M5pfijZbJ8+fJo0aIFRowYgT179gQ9IqGIU+57pSWUe1yTSmfOnDHWz5dfftmI6a+++gpdu3Y10X7/+9//Yu3atW6LcCiWU9ZJkc69ppMnTzauvkoiIAKxIxDTd2vsuq2avQisr1oGOJoI5EqD0j8rIFJSE2TeXaVR4ACw5zqgzo/2sDLHq1svQ13OAUA/q+Ue4nQsAFpU27kGiucR7GAMDwC8RsH5GoAbASS68ozn+sN1rQiArQAYGWOL6zp9v3oB4DUmlve6S7Dy52Iuwcvr2131JNWGQC8ZidNAhHRdBGxOIKYLqE/uB/avBq6/BegwO2hSFIIJCQnGjZUBkbh/88KFC5g9ezb+/vtvI/5oSV2wYIERpt26dcPHH3+MJk2amHsCJVogyYUWWLoLb9682bgSZ8yY0ewFZTTfrFmzmmsUhHTRpWsu94zedtttgYo37sXLli0zbrwUptxT2q5dOyNQWaeVKE65n5V7ZFk/XYcZBIpWV+45/fDDD9GgQQNzjUGeevXqZYQp3Zzz5s0bsB3KIAIiEDkCMX23Rq5bKjlEAuuqlUGaPxOReG0alPlJ4jQpfPPvKoP8BxKx97o0qP2jPVjFozil8OPhfUMB8DTZbf/P3pmAR12cf/yzOTlCSIAknGoMKhtIQDy5kirgSb2lSrWK4tl6UOWvVvHCG1u1tmq1ilfVovVEEAFrQMELlUOCSuSQKwkESCAh1+7/mWSTLDTsgUl2NvnO8/hI8ntn5p3PO7vZ775zeIlTc9nR856saF2szCkdRmj+0fN7c2P9GV6BnOgRs4M9vzf1E7yeH+7px2RdjdjdDpjfeV+stMPTxrue3/vyYe85ZJYJmzHVFXPcZal5AzYfBFVEQATCj0CjH6BypsJ/PRlAf3tOx02HTt0bBv7+jbD+C98gOnSFC81CkP0rhYWFNYcKmSWvRpyaE3jNqbZm2a4p5uclS5bU7OM0As+IViPijIg0ItBf+fjjj2sE5N7F7PU0hx69+uqrNScBb9q0qUYkm2XDt99+O2ZpbyDF3KFqMqcmS2rqmsOMunbtWiOyjYiuK3Wn9U6bNo2ffvqpZo+rOa330ENrr/cxe1FnzZpVczpvp06dOProo2sOZjJ2KiIgAqElIHEaWv629D4nK53eBW7WJzsYPd8OwWULm739kDhtmcgYMTkMOAcwQtNbnBoRaj79TfNyxXylXwlM8GQ7jfgzy3LrismmmqW6JltqPmGZ+iazWlfqsqlm6bARp+uAgz391tmYr+VNG2bvqj8f9qZ0p2ff6x6/lzhtmcmkXkSgOQg0+gHqq+dghnn7CqBcvwwSDmgwfOksyJvnu2Jcd7ix9roXlX0TMOJ0wYIFDB9udmCoiIAIhBMBidNwilbz+TozeyCp+RWsTonhlJwlzddRK2h5bpaTXgWwIRlGzdey3uYIqRGQHwPmUKPNjYjT5sycmmyqEafblDltjtCqTRFoPQT2+QHKCNTFZmGFnxKCzKk/l1rLc4nT1hJJjaMtEpA4bYtR/98xT/3t0SSV7KSwUxyT/uVnVVEbRzYnqx+9CxysT3Yzev5KK2i0tmW95oTcf3gOLDKAzXLYRI9gNPtCj/EISHNarilGTJp9oLd77Tk1mUrvzKi51K96rz2nZh+p2XtqyiWePavee07NvlVziq8pJotqsqXee05Nv/vywd/E0J5Tf4T0XAQsJ9AWP0CZZbXmv8aKWSY7YsSI/Y6aOXX3iivMoej/W8weUXNYU6BF4jRQUrITAfsItMX3VvuiEHqPMh4eBEnVUBjJshu9d9mF3jfbPJiT5aR3AaxPhtHKnDZLeMypuF28Wu4NmFN2jwLM1wGDPKfrng4sAK4FJnmd1muynz8C5jb1xwDzacnsSTWbmrxP6zV7SI0orTut1ywTNtfHmGKW7xrhWXdar9nM1Mnzs3lu1oqZE3735YM/MBKn/gjpuQhYTkAfoCwPkNwTAREISwJ6bw3LsDW505lTM3Enu3EUOFg6aWmTt9+aGvxgYibxFdsojknkpEfsYNXaMqd7z5e995ya50Y4muxo3T2n5nI773tOjZD9O5DhuefUZFX3dc9puSdDevNe95yaa2VMFjcWMFfPXN7IPae+fPA17yVOW9O7gsbSJgnoA1SbDLsGLQIi0MwE9N7azIDDpPlzpx3Oyogq+rmieH28ubRDZV8EVk0ZTN/qPFZFptF3sjlHNvSltYvT0BNueg8kTpueqVoUgRYloA9QLYpbnYmACLQRAnpvbSOB9jPMyx8ZyDpXNQdERPL0RB2I5AvXinuOJbUyj9XRaaTf9pkVE0ji1IowBOWExGlQuGQsAvYRqPsAlZqaWnMtiooIiIAIiMAvJ2DuXDZXQKWlpdXckazSNgnMzXbSKx82pMCoHDtOoLU1EmMeX8DyDcUM6BXPjGv2/+yHphyfxGlT0myZtiROW4azehGBZiNg7gn98ccfiYyMJDk5ueZDlDmIR0UEREAERGD/CJj31S1btrBz504OOeQQIiK8r4jfvzZVKzwJ2HjIj60kb7n4bDqV7qSkQxz3P/8fK9yUOLUiDEE5IXEaFC4Zi4CdBMyb7+bNm2s+SKmIgAiIgAj8cgJGkPbp04cOHcz5mCptlcCi4U4StsD2bjDkE2VOfc2DGSMySCusIi8pijELllkxZSROrQhDUE5InAaFS8YiYC8B802/y+WiutrcVqUiAiIgAiLwSwhERUUpY/pLALaSuiuOdeLYDu4ESP9M4lTitJVMbIuHIXFqcXDkmgiIgAiIgAiIgAiIQOgISJwGzn5OVjq9C9ysT3Ywev6KwCs2o6Uyp80It5maljhtJrBqVgREQAREQAREQAREILwJ5A5NhyI3dHHgXGiH4LKV6NzsdHrlu9mQ4mBUjh2sJE5tnS379kviNPxiJo9FQAREQAREQAREQARagMC3w9KJ3eqmvKuDQZ/aIbhaYNj71cW87HR65rvZmOJgpMTp1Hz/bQAAIABJREFUfjFUJZA41SwQAREQAREQAREQAREQgUYIfJjdnz75Ln5OieCEnO/EyAcBiVNNj6YgIHHaFBTVhgiIgAiIgAiIgAiIQKsjMDN7IKn5FaxOieGUnCWtbnxNOaC5WU56FcCGZBg1347Do7Sstykj3DJtSZy2DGf1IgIiIAIiIAIiIAIiEGYE/nDtEDpXFrMjOp6//XVRmHnfsu7aeCesxGnLzoGm6E3itCkoqg0REAEREAEREAEREIFWRyBzaibuZDeOAgdLJy1tdeNrygFJnDYlzbbblsRp2429Ri4CIiACIiACIiACIuCDwNGPDqIssZr22yL54vpvxcoHgW8nD6JP9Tp+jjyAQVPsYKXMafhNWYnT8IuZPBYBERABERABERABEWgBAmOnDSI3ohqnK5Lp4+0QXC0w7P3qYtWUwfStzmNVZBp9J3+9X200dSWJ06Ym2vztSZw2P2P1IAIiIAIiIAIiIAIiEIYEJv8pg+3lLhJiI5hy37IwHEHLuTzr/t8QX/ozxR36cPIt/265jn30JHFqRRiCckLiNChcMhYBERABERABERABEWgrBGw8gdZW9mMeX8DyDcUM6BXPjGtGWOGmxKkVYQjKCYnToHDJWAREQAREQAREQAREoK0QsPGQH1vZ//30YXQvKWVzpw78/p1PrXBT4tSKMATlhMRpULhkLAIiIAIiIAIiIAIi0FYILB7qpEMRlHaBIxbacXenrexnjMggrbCKvKQoxiywYwm0xKmts2Xffkmchl/M5LEIiIAIiIAIiIAIiEALEFhxrBPHdnAnQPpnEqe+kL+flcHBBVX8lBzFqfMlTltgerbKLiROW2VYNSgREAEREAEREAEREIFfSkDiNHCCNi6BVuY08PjZYilxaksk5IcIiIAIiIAIiIAIiIBVBHKHpkORG7o4cC5cYZVvtjkzNzudXvluNqQ4GJVjByuJU9tmiX9/JE79M5KFCIiACIiACIiACIhAGyTw+fB04re4Ke7m4JhP7BBctoZhXnY6PfPdbExxMFLi1NYwWe+XxKn1IZKDIiACIiACIiACIiACoSAwO3sAB+RXsy4lkhNzlofChbDpU+I0bEJltaMSp1aHR86JgAiIgAiIgAiIgAiEisDM7IGk5lewOiWGU3KWhMqNsOhXe07DIkzWOylxan2I5KAIiIAIiIAIiIAIiEAoCPz6jiG0iy5hd2Un3rtrUShcCJs+JU7DJlRWOypxanV45JwIiIAIiIAIiIAIiECoCGROzcSd7MZR4GDppKWhciMs+n33ZCeJ29xsS3Rw2iw7rt3RgUhhMXX2cFLiNPxiJo9FQAREQAREQAREQARagMDIp46koH05yWWxzLvyqxboMXy7WDVlMH2r81gVmUbfyV9bMRCJUyvCEJQTEqdB4ZKxCIiACIiACIiACIhAWyEwdtogciOqcboimT7+27Yy7P0ap8TpfmFTpb0ISJxqSoiACIiACIiACIiACIhAIwT+NmEA7p0uHHER/OGfOq3X1yR5cupNVO/YRGTnHlw16UEr5pMyp1aEISgnJE6DwiVjERABERABERABERCBtkLAxkN+bGU/5vEFLN9QzIBe8cy4ZoQVbkqcWhGGoJyQOA0Kl4xFQAREQAREQAREQATaCgGJ08Aj/W52JqmFlaxOiua0HDsOj5I4DTx+tlhKnNoSCfkhAiIgAiIgAiIgAiJgFYFlQ5xEbYOqRMhYZMcJtFYB8nJmxogM0gqryEuKYsyCZVa4KXFqRRiCckLiNChcMhYBERABERABERABEWgrBFYc68SxHdwJkP6ZxKmvuM/KGsBBBdWsSY7k5Pl27M+VOA2/V6rEafjFTB6LgAiIgAiIgAiIgAi0AIHcIU7YBiSCU5lTn8RtXAItcdoCL5Im7kLitImBqjkREAEREAEREAEREIHWQSB3aDoUuaGLA+fCFa1jUM00innZ6fTMd7MxxcHIHDtYSZw2U7CbsVmJ02aEq6ZFQAREQAREQAREQATCl8CCEel0K3SzJcnBiAV2CC5baUqc2hqZ8PJL4jS84iVvRUAEREAEREAEREAEWojArOxMDsqvZE1KNCdbcgJtCw096G4kToNGpgqNEJA41bQQAREQAREQAREQAREQgUYIzMweSGp+BatTYjglZ4kY+SAwJ6sfvQscrE92M3r+SitYaVmvFWEIygmJ06BwyVgEREAEREAEREAERKCtEBj456NxJJbi3taBJTd80VaGvV/j1IFI+4VNlfYiIHGqKSECIiACIiACIiACIiACjRDInJqJO9mNo8DB0klLxcgHgTfGpdNuVxW7O0Zxzit27M9trZnTe4FxQFdgNzAf+COwzhOf3wF3AD0Ac+Ps1cBir9gdCTwBDAA2eWxf9nqeDDwFjPa0/xxwC+Dy2EQCDwAXA+2AD4ErgC1ebfjzYV9TSeJUbzMiIAIiIAIiIAIiIAIi0AiBXz97FGuidnNQVTveu/RLMfJBYNWUwfStzmNVZBp9J39tBavWKk77eUTlDqADcA9wLDAUGA7MBs4EcoDrgBuAQ4BioDOwCngYeBTIAt7yCNFFnqjNAUqA8R4B/AHwLPCg5/mtwEXAScBWwIhX48fJnuf+fPA1OSROrXjpyAkREAEREAEREAEREAHbCIydNojciGqcrkimj//WNves8kfiNDTh6Ajc5SUkXwAigAs97jiAtcBkwDwzgtPYHwi4PTYvAVWeZ6nAT0BfIM/z/FLgNsA8M8W0d7dHsJqf0zyC1zxf4+nHlw8Sp6GZK+pVBERABERABERABEQgjAlMP70/8UUuirtEMPad78J4JM3v+k1/eZItWwrp1i2JB/94VfN3GEAPrTVzaoZulvU+CcR7hKVZ1vs4YL5Ced6TFa1D9I5HaBobky09CDjDi99Ej5gd7Pm9qZ/g9fxwwOTCTdbViN3tgPmd99c1JotrBPG7AfjgHTqzRNgI2boSBZRWVFQQHW2SqCoiIAIiIAIiIAIiIAIiIAKGgI2H/NgamfNue5Si4mK6xMfz2j3XW+FmaxandYC7Ayaz+SnwsUeEmmW+07wiYDKmlcAET7bTCECzLLeumGyqWaprsqVGYJr6JrNaV+qyqX084tTsbT0YWO1lY7Kppg2zd9VkXH354D057vTsed1jwkicWvH6kRMiIAIiIAIiIAIiIAIWEfgoy0mPAtiUDMfPz7XIM/tcmTEig7TCKvKSohizwBzDE/pimzg14s0cZrR3MYcN3f8LcJkDjMxS3AOAj5oxc2qyqSZzuk2Z018QLVUVAREQAREQAREQAREQgf0gsOJYJ47t4E6A9M8kTn0hlDj1P8HMgURmGe7epQjo4r/6Pi16AhuADGCSR0Ca03JNMWLS7AO93WvPqclWemdGXwSq99pzavaRGsFryiWePavee07NvlVzEJIpJotqsqXee05Nv/vywddQdSDSL5gIqioCIiACIiACIiACItB6CUicBh7b2VkDOKCgmnXJkZw4f3ngFZvR0pbMqRGPpvzgOTXXCLe6Yk7Rfc1z7UsgKMz+THM1zHSgAOjt2Ws6yNO2ObXXnK57OrAAuNYjWOtO6zXZzx+Bh4DHgBGA2ZNqro3xPq3X7CE1otRcV2PaM8uEzfUxppgMsBGedaf1mpN8O3l+Ns/Nab2+fJA4DSTSshEBERABERABERABERABLwK5Q9JhmxsSHTgX2XF3p60BmpvlpFcBbEiGUZYsgbZFnJr7QetOxvWOnxGpJmNpTtKtE37+4mvE6QzA3FVqTuo1hxOZvaYmM1p3uq4RjiY7WnfPqTmeyvue06OAv3syreaeU1N3X/eclnsypDfvdc+puVbG3HMaa/ZmA5c3cs+pLx/2NU5lTv3NAD0XAREQAREQAREQARFokwRyh6ZDkRu6OHAulDj1NQnmZafTM9/NxhQHI3PsYGWLODVLaI0QNafbDvSCaERrIbC7Tb66Gh+0xKkmgwiIgAiIgAiIgAiIgAg0QmBelpOeBbAxGUZakg20NVASp7ZGJrz8kjgNr3jJWxEQAREQAREQAREQgRYiMDN7IKn5FaxOieGUnCUt1Gt4djM320mvfNiQAqNy7Dg8ypbMqXdEh3iW5Jo9mt7lvvAMe5N7LXHa5EjVoAiIgAiIgAiIgAiIQGsg8MwZR9BzeykbEzpw2dveu/Zaw+iadgxzsvrRu8DB+mQ3o+evbNrG97M128Sp2YP5J8/y3l1eYzL7UY/fzzG2tmoSp60tohqPCIiACIiACIiACIhAkxDI+PNg6FYJW6JZdsPXTdJma21kTpaT3gWwPhlGW7IE2jZxuhk4DfiitU6CJhiXxGkTQFQTIiACIiACIiACIiACrY9A5tRM3MluHAUOlk5a2voG2IQjeueqAbQv30lZbBynP6mrZBpDm+85QdcchKTSOAGJU80MERABERABERABERABEWiEwNnTjuCHiAoOdcXwn/Fa1utrkqyaMpi+1Xmsikyj72Q7ssy2ZU7vBdYAz+jVtk8CEqeaHCIgAiIgAiIgAiIgAiLQCIFxTw/k+4hqDnNF8srlOhBJ4vSXvUzmAiOAHwBzv6h3OeGXNd1qakuctppQaiAiIAIiIAIiIAIiIAJNScDGE2ibcnxN2dZvHpvFD5u2c2iPBP593clN2fR+t2Vb5vQOHyO5a79H2boqSpy2rnhqNCIgAiIgAiIgAiIgAk1EwMZDfppoaE3ezB+umkBU6U6qOsTxtyf/2eTt70+DtonT/RlDW6sjcdrWIq7xioAIiIAIiIAIiIAIBETgk+FOum6Brd1g+Cd23N0ZkOMhMJoxIoO0wirykqIYs2BZCDz43y5tE6dDfVBZaAWx0DshcRr6GMgDERABERABERABERABCwmsONaJYzu4EyD9M4lTXyGSOPU/gRs7pdfccWpKpP/qbcJC4rRNhFmDFAEREAEREAEREAERCJaAxGngxD7M6k+fAhc/J0dwwvzvAq/YjJa2ZU73HmpP4B5gBvBmM3IIp6YlTsMpWvJVBERABERABERABESgxQjkDkmHbW5IdOBctKLF+g3Hjmw8PMp2cWri3AkwF+8cEo5BbwafJU6bAaqaFAEREAEREAEREAERCH8Cy4amE1XkpqqLg4yFEqe+IjovO52e+W42pjgYmWMHq3AQp92APKBz+L9cmmQEEqdNglGNiIAIiIAIiIAIiIAItDYCH2al06fAzc/JDk6Yb4fgspWxxKn/yPxpL5OOwOnASuAc/9XbhIXEaZsIswYpAiIgAiIgAiIgAiIQLIGZ2QNJza9gdUoMp+QsCbZ6m7Kfm+WkVwFsSIZR8+04PMq2zOl/95oRO4GvgEeA4jY1W/Y9WIlTTQQREAEREAEREAEREAERaITAbROOpWtpMVs7xHPPPz8TIx8EbLwT1jZxqgnkn4DEqX9GshABERABERABERABEWiDBDKmZkKyGwocLJu0tA0SCHzIEqeBsXIARwN9gHXAl0DddTKBtdC6rSROW3d8NToREAEREAEREAEREIH9JDBwagauZIgogCWTlu1nK22j2vybBtK1Kp+tUSlkPWjHEmjbMqdGkL4HOIECIBkwC6BP8wjVtjFTfI9S4lSzQAREQAREQAREQAREQAQaITB22iByI6pxuiKZPv5bMfJBYNWUwfStzmNVZBp9J5vLUUJfbBOn5i7TrcD1wC4gDvgzkAKcEXpcVnggcWpFGOSECIiACIiACIiACIiAbQQm3pvJ5qpqukdF8sitWtbrKz6f3XsC3cvXsDn2II699UMrQmmbODXZ0gOBMi86HYA1niyqFdBC7ITEaYgDoO5FQAREQAREQAREQATsJGDjCbR2koIxjy9g+YZiBvSKZ8Y1I6xw0zZxavaYmv2mm73o9PDsO+1tBbHQOyFxGvoYyAMREAEREAEREAEREAELCdh4yI+FmGpcuve8E+m6aydbO8Zx62uzrXDTNnH6mEec3gqsBlKBKZ7rZK6zgljonZA4DX0M5IEIiIAIiIAIiIAIiICFBL4Y5qTTVijpCkd/asfdnRZiqnFpxogM0gqryEuKYswCOw6Psk2ctgceBS4E2gHlwAvAxL2W+toa45bwS+K0JSirDxEQAREQAREQAREQgbAjsOJYJ47t4E6A9M8kTn0FcMaITNIKK8lLimbMAjv259oiTs2BR9nAdA9Ac51MElAInAt87Dm9N+xeIM3gsMRpM0BVkyIgAiIgAiIgAiIgAuFPQOI08BjauATaFnH6F88pvfc2gvNmj1C9IXDUrdpS4rRVh1eDEwEREAEREAEREAER2F8CuUPTocgNXRw4F67Y32baRL252en0ynezIcXBqBw7WNkiTld6Mqf5jcwEc9fpAuCwNjFL/A9S4tQ/I1mIgAiIgAiIgAiIgAi0QQKLh6XTYaub0q4OjvjUDsFlaxjmZafTM9/NxhQHIyVO9wjTdiDBR+B2AJ1tDWwL+yVx2sLA1Z0IiIAIiIAIiIAIiEB4EJidPYAD8qtZlxLJiTnLw8PpEHkpcbpv8OZ+04HApkZMzFUy5viobiGKm23dSpzaFhH5IwIiIAIiIAIiIAIiYAWBmdkDSc2vYHVKDKfkLLHCJ1udsPFOWFuW9b4FmOO0/tRI8O4B+gNn2hrYFvZL4rSFgas7ERABERABERABERCB8CDwu/8bSpx7BzsdnXnxoYXh4XSIvNSBSPsGf6RnX+nLwKvABqAXcD7wW2A48HWI4mZbtxKntkVE/oiACIiACIiACIiACFhBIHNqJu5kN44CB0sn2XE9ihVgGnHiw1856VEAm5LhhI/tuHbHlsypwTUa+DvQF3AD5jqZVcDVwFxbgxoCvyROQwBdXYqACIiACIiACIiACNhPYPjfBrOjUyWdS6L55A/KbfmK2Kopg+lbnceqyDT6TraDlU3itI7dIV53nP5o/0ugxT2UOG1x5OpQBERABERABERABEQgHAiMnTaI3IhqnK5Ipo//NhxcDpmPEqchQ9+qOpY4bVXh1GBEQAREQAREQAREQASaisAD12dQWuqiQ4cIbn7UnKmqsi8Crz14ObE711Me15vzbnraClA2Zk6tAGOxExKnFgdHromACIiACIiACIiACISOgI2H/ISOhu+exzy+gOUbihnQK54Z14ywwk2JUyvCEJQTEqdB4ZKxCIiACIiACIiACIhAWyEgcRp4pF886Sh6by9jfUJ7fvfBl4FXbEZLidNmhNtMTUucNhNYNSsCIiACIiACIiACIhDeBL4Z6qRdEezuAocvtOMEWluJzhiRQVphFXlJUYxZYMcSaIlTW2fLvv2SOA2/mMljERABERABERABERCBFiCw4lgnju3gToD0zyROfSGfmZVBakEVq5OjOGW+xGlzTc8HgTFAH2An8D5wE1Dk1eHvgDuAHoCJhLmuZrHXc3Pv6hPAAGCTx9bcwVpXkoGnPNff7AaeA24BXB6DSOAB4GKgHfAhcAWwJQgf9sVH4rS5Zo7aFQEREAEREAEREAERCGsCK4Y4cWwDdyKkL5I49RVMG5dAt8bM6X3A68ByIAF4EagATvcEZzgwGzgTyAGuA24AzBU2xUBnz/2qDwOPAlnAWx4husjTxhygBBgPdAU+AJ4FjDA25VbgIuAkYKtHvHYATg7QB1/zSOI0rN8y5bwIiIAIiIAIiIAIiEBzEcgdmg5FbujiwLlwRXN10yranZedTs98NxtTHIzMsYNVaxSne0+WU4FXPKLTPHsBiAAu9Bg6gLXAZM8zIzjvAg4E3B6bl4AqjxhNBX4C+gJ5nueXArcB5pkppr27PYLV/JzmEbzm+ZoAfJA4bRUveQ1CBERABERABERABESgJQksGp5OwhY327s5GPKJHYKrJccfTF8Sp8HQajrbvwBHAXXnI5vbeJ/3ZEXrennHIzT/6Pn9QcAZXi5M9IjZwZ7fm/omK1tXDge+9ghgI3a3A+Z33jf/7vC08a7n97588B69WSJsxHRdiQJKKyoqiI42SVQVERABERABERABERABERABQ+CD7AwOzK9ibUoUJ+XYsY/S1shInLZ8ZM72CNFsj3g0Hphs5z3ANC93TDa1EpjgyXYaAWiW5dYVk001S3VNttRkXE19k1mtK3XZVLPP1YjTdcDBwGovG5NNNW2Yvav+fPAmdadnz+se9CROW34yqUcREAEREAEREAEREAG7CczMHkhqfgWrU2I4JWeJ3c6G2Ls5Wf3oXeBgfbKb0fNXhtib2u5b87Lec4F/AEag/teLdnNmTk021YjTbcqcWjG/5YQIiIAIiIAIiIAIiEAbIpB977FEd9hJZWkcObd+1oZGHvxQdSBS8Mz2t4bJdP4Z+DXw6V6NmCypEZDmxF5TzL/NPtDbvfacmmyld2bUHKpUvdeeU7OP1Ow9NeUSz55V7z2nZt+qOcXXFJNFNdlS7z2nvnzwNW4diLS/s0L1REAEREAEREAEREAEWjWBzKmZuJPdOAocLJ20tFWP9ZcO7s0z04nb4WJn5wjOesuO/bmtMXN6rWcZrDkp98tGgmZO6zWn65rTexcAxn6S12m9Jvv5I/AQ8Jhnr6rZkzoa8D6t1+whNaK07rRes0zYXB9jilm+a8Rv3Wm95iTfTp6fzXN/Pkic/tJXm+qLgAiIgAiIgAiIgAi0OQInPXMUG2J206uiHR9c1pgUaHNI9jngVVMG07c6j1WRafSdbI7PCX1pjeLUnLBrTtYt3wtvnNfPRjia7GjdPadX7XXPqTlA6e9AhueeU5NV3dc9p6YfkyG9ea97Ts21Muae01jAXD1zeSP3nPryYV+zQ5nT0L9u5IEIiIAIiIAIiIAIiICFBMZOG0RuRDVOVyTTx3ufTWqhsyF2SeI0xAFoJd1LnLaSQGoYIiACIiACIiACIiACTUvg2d/2J3aHm/LODi7913dN23gra+3Bh+9l17Z8OiamcNONZuFn6EtrzJyGnmrzeiBx2rx81boIiIAIiIAIiIAIiECYErDxkB9bUZ7x4BusLiwhNakTb990jhVuSpxaEYagnJA4DQqXjEVABERABERABERABNoKAYnTwCM9Y0QGaYVV5CVFMWaBHXfCSpwGHj9bLCVObYmE/BABERABERABERABEbCKwHfHOonYDq4E6P9ZrlW+2eaMxKltEQlPfyROwzNu8loEREAEREAEREAERKCZCaw41oljO7gTIF3i1CftD7IGcGBBNWuTIzlp/vJmjkxgzStzGhgnm6wkTm2KhnwRAREQAREQAREQARGwhkDuECdsAxLBuUiZU1+BsXEJtMSpNS+lgB2ROA0YlQxFQAREQAREQAREQATaEoHcoelQ5IYuDpwLV7SloQc91nnZ6fTMd7MxxcHIHDtYSZwGHcaQV5A4DXkI5IAIiIAIiIAIiIAIiICNBD4e4SSlEPKT4FcLlDn1FSOJUxtncPj5JHEafjGTxyIgAiIgAiIgAiIgAi1AYFZ2JgflV7ImJZqTc5a2QI/h28W8bCc982FjCozMsUPIK3MafvNJ4jT8YiaPRUAEREAEREAEREAEWoDA6ycczgGFu1mX1I5zP/ymBXoM3y7mZPWjd4GD9cluRs9facVAJE6tCENQTkicBoVLxiIgAiIgAiIgAiIgAm2FQMYjR0GX3VDUjmUTv2wrw96vcepApP3Cpkp7EZA41ZQQAREQAREQAREQAREQgUYIZE7NxJ3sxlHgYOkkLev1NUn+M74/7crK2d0+lrOnfWfFfFLm1IowBOWExGlQuGQsAiIgAiIgAiIgAiLQVgicMe0o8iJ2k+Zqx9vjlTn1FfdVUwbTtzqPVZFp9J38tRVTROLUijAE5YTEaVC4ZCwCIiACIiACIiACItBWCIydNojciGqcrkimj/+2rQx7v8Ypcbpf2FRpLwISp5oSIiACIiACIiACIiACItAIgRknpJNU6KYwycGYD+24u9PWQF35yCusL9hK7+SuPDVxnBVuKnNqRRiCckLiNChcMhYBERABERABERABEWgrBGw85MdW9hff8CfKd5UQ27ETz//5PivclDi1IgxBOSFxGhQuGYuACIiACIiACIiACLQVAjkjnCQXQkESZC+w4+5OW9nPGJFBWmEVeUlRjFmwzAo3JU6tCENQTkicBoVLxiIgAiIgAiIgAiIgAm2FwIpjnTi2gzsB0j+TOPUVd4nTtvKqaN5xSpw2L1+1LgIiIAIiIAIiIAIiEKYEJE4DD9zsrP4cUOBiXXIEJ87XVTKBk5OlNwGJU80HERABERABERABERABEWiEQO6QdNjmhkQHzkU6EMnXJJmb7aRXPmxIgVE5dmSZtaw3/F7WEqfhFzN5LAIiIAIiIAIiIAIi0AIEVgxNx1Hkxt3FQfpCiVNfyOdlp9Mz383GFAcjc+xgJXHaAi+SJu5C4rSJgao5ERABERABERABERCB1kFgTlY6vQvcrE92MHq+HYLLVrISp7ZGJrz8kjgNr3jJWxEQAREQAREQAREQgRYiMDN7IKn5FaxOieGUnCUt1Gt4dqNlveEZN9u8lji1LSLyRwREQAREQAREQAREwAoCfz7/aFJKdpLfKY4bXv3CCp9sdWJOVj96FzhYn+xm9PyVVripZb1WhCEoJyROg8IlYxEQAREQAREQAREQgbZCIOPhQZBUDYWRLLvx27Yy7P0a55wsJ70LYH0yjJ6vA5H2C6IqIXGqSSACIiACIiACIiACIiACjRDInJqJO9mNo8DB0klLxcgHgVnXZ9CpYjslMQmc/OgyK1gpc2pFGIJyQuI0KFwyFgEREAEREAEREAERaCsEzp12OCsjqujniuL18d+0lWHv1zhXTRlM3+o8VkWm0Xfy1/vVRlNXkjhtaqLN357EafMzVg8iIAIiIAIiIAIiIAJhSGDCYwNZ46rmoIhI/nmdDkTyFcLv7zmKgyvz+Ck6jcNu+9KKaEucWhGGoJyQOA0Kl4xFQAREQAREQAREQATemQEEAAAgAElEQVTaCgEbT6C1lf2YxxewfEMxA3rFM+OaEVa4KXFqRRiCckLiNChcMhYBERABERABERABEWgrBGw85MdW9jddMpaOpTvZ1SGOB5+bboWbEqdWhCEoJyROg8IlYxEQAREQAREQAREQgbZCYNFwJwlbYHs3GPKJHSfQ2sp+xogM0gqryEuKYswCHYhka5xs90vi1PYIyT8REAEREAEREAEREIGQEFhxrBPHdnAnQPpnEqe+giBxGpIp2uo6lThtdSHVgERABERABERABERABJqCgMRp4BTnZKXTu8DN+mQHo+evCLxiM1pqWW8zwm2mpiVOmwmsmhUBERABERABERABEQhvArlD06HIDV0cOBfaIbhsJTo3O51e+W42pDgYlWMHK4lTW2fLvv2SOA2/mMljERABERABERABERCBFiDw7bB0Yre6Ke/qYNCndgiuFhj2fnUxLzudnvluNqY4GClxul8MVQkkTjULREAEREAEREAEREAERKARAh9m96dPvoufUyI4Iec7MfJBQOJU06MpCEicNgVFtSECIiACIiACIiACItDqCMzMHkhqfgWrU2I4JWdJqxtfUw5obpaTXgWwIRlGzbfj8Cgt623KCLdMW9aK03fffZe77rqrhsLzzz9PRkZGPZFnnnmGp556qubnmTNnkpKSUv/snnvu4a233qr5efHixXtQvPbaa/n0009JTk5m1qxZezz7zW9+w6pVqxgwYAAvvPDCHs+OO+44iouLGTlyJA899FD9s7KyMoYPH17z87hx47jhhhvqn61du5azzjqr5ufrr7+eCy+8sP7ZF198wVVXXVXz8/33388JJ5xQ/+y9997jzjvvrPn52WefZdCgQfXPzM9PPPFEzc8zZsygR48eLTNL1IsIiIAIiIAIiIAItEEC1/1hCJ0ritkRE89jf1vUBgkEPmQb74SVOA08frZYWitOp02bxu/ve4rOw8bR77DD6BjXsZ7Zpk2b2bhxY83PRrT+5bwjGNCrc83Pl19+OdOXF9P+0CEcccTgPTiv+nEVO4qLiYmOJiMzg7euHkZ0ZESNTWZmJptST6Zz70Po1++wPeot+XYJVdXVJCYkMPrYTB477/Ca56WlpcR1TiTltw+RkpxM7z696+vt3l3Od9/VLv/o3bs3l4waxFW/Sqv5ed68eZxy4dV0OeFqDk5NJbFLYn29rVuLWLNmTc3Phx12GHecOZjj+iXX/HzvvffywPQc4g4/lYwBA4iJjamvl5YUV++XLZNLfoiACIiACIiACIhAOBPInJqJO9mNo8DB0klLw3koze67xGmzI24THVgrTk3m9JZn3mVX/zP9BmL6FUM4OrVLjZ3JnL60spry3kf6rffjvSfXi1OTOf2q2wlUd+rus96AXvHMuGZEjY3JnA7LOo6ikZP99vW7IQdy9+kDauxM5nTCrVMpPuJiv/Ue+c1Azjy8VvSazOnDs5ZT1nfU/9TrFlHKV/ed67c9GYiACDQ9gZvm38SB8Qdy9aCr6xv/YdsP3PbJbX47uzzzckYd2PCanvHTDF787kW/9aZmT63ps648svgRFm30/a1+bGQsL53y0h5tXz33araUbfH9vtdtALcPub3epmh3EVfOudKvj2cecibn9zu/3u7zTZ/z56/+XPNzaudUHsx60G8bMhABERCBUBI46pFB7O5STbuiSL6c+G0oXbG+78WTB9Graj0bonpzxBQ7WLXGzOl5wO+BgUAHIGqvmXESYP7SHgzkAX8EPvSy6QuY9adDgG3AIx77OhPT5t8Ao8AcwH+APxjd49XGJLMyFEgAzCePy4GfvJ7788HXZLZWnBqn56zI57F5P/h9MT5wVmZ95tQYPz7vR2av2Oy3nnfm1Bj//pWvWbt1l896e2cod1dWc85TC/32dWpGz/rMqTH+9uft3Pb2Mr/1bhh9WH3m1Bj/+8t1vPTZ2vp6y9dtgcgYIos3kvfEZX7bk4EIiEDTExj73lgOTTyUqwZdRa+4XjUdLClcwgUzL/DbmRF95x7a8MWSEaZTv5rqt94bv36Dw7o0rPK4MedGZq+Z7bNeu8h2fHnBl3vYnPDGCWzatclnvWO6H8M/T/xnvU1BaQEjXx/p18fLMi7j2sHX1tvNXTuXiR9PrPnZ2cXJ9F9P99uGDERABEQglATGThtEbkQ1Tlck08fbIbhCycNX36umDKZvdR6rItPoO/lrK9xsjeL0RMCk5NoDT+8lTo0gXe4Ri+YvrPl0YWz6A2ZdZqTn+VzgJqAf8AFwjdEYnog947E34tQNvG0+0wC1GxLhtx5BawToSuAB4HiPWK72iGJfPvibGFaLU3/O6zmkXf0M1fE9JU41GUQghASMOK10VRIfE88LJ9fuWVfmFBrLnE74cILEaQjnqroWAREIjsCtt2WwrdxFYmwE997jP6kQXOuty/rD+88hoWwd29sfwAm3vGHF4FqjOK0D+yvAiEzvzKk5rccIxdo1nrVlgcfOPDsOeB8wGwZ3ep5PAcwJOuaZEbxFwBizDdHz3HwV/Z5HEO8GcoD5QN260TigADjZ88yfD/4mhpXi9K4XZ1Owo4zkzu2543fm+wGVfRE49a8L+G5jMf17xvP+td5TUcxEQARaioARp7lFucoGBgBcrAKAJBMREAFrCNh4Aq01cPZyZMzjC1i+oRjvLXCh9rWtiVOT5TQZUrPktq48BvQBzDGt5vdmU2HDcau1y3ef9YhP8/tvAHMaznZPA+bfRrCaZcRm17X5vWnD9FVXTGbVtPFXz+99+bD3nDDZ3NoTgGqLEdulFRUVREcbnWpHUTYw8DjY+EYQuPeyFIHWQUCCK/A4ilXgrGQpAiIQegI2HvITeiqNe/DXM7NIKdlFfqeOXPuWya2FvrQ1cWqynZ8Ad3ihN5nMYYA53cJkO83/s72em4zpHI8oNGkuEzkjFs2SXlPMv81yXfPMtG3+bdr4r1cbJptq2rjHk3H15cPes8LcUeLtb81zidPQv3j214ON28uoqHIRExVBzwSTjFcRARFoaQISXIETF6vAWclSBEQg9AS+GuqkYxHs6gJHLrTj7s7QU2ncgxkjMkgrrCIvKYoxC+xYAt3WxKkyp8306jju/g9YvaOa1M6R/PcWs91WRQREQATsJSDBFXhsxCpwVrIUAREIPYEVxzpxbAd3AqR/JnHqKyLvZ2VwcEEVPyVHcep8idPmnr372nNqMqFZXp2bTKjJqHrvOU0C6o6AvduTFfXec3oq8JGnDbOHdcZee05NprTuDP/G9pz68sEfFyv3nGqpqr+wNTy//vrrycvLIy0tjUcffTTwirIUARFoMgISXIGjFKvAWclSBEQg9AQkTgOPgY1LoFtj5tTs0TQCzgjQmYARh6aUe07KNV8LXAqYI6nOAcxZ+3uf1muulrkZMGf+m3P+rwNe87RjTut1evaoml+96Tnht+4COXNa71+AutN67wdGA5meJb9pgC8f/M0oK8Xpx/edRtfda2kfHUnf5DrknqEccyUMGtcwrpUzIcccYuynnPY49DBbeT0lZyqsNGdP+SkT5kGk137c1y+GIu+bfBqp3+1QOLvh2gUqy+C5AA52Mne6Dq+9ZqGmrF8M73v93EhXubkrueH9beTHZ7J48WJ/o9FzERCBZiAgwRU4VLEKnJUsRUAEQk8gd2g6FLmhiwPnwhWhd8hiD+Zmp9Mr382GFAejcuxg1RrFqTmMaFoj8yDVcxiS9x2jRrEYJbH3Paf/8Nxzag43MkLzYa/26u45NQcomdLYPaf/18g9p+ZO1brizwdf09hKcVp3T1Kjjo+6C4Z7nUH1zcvwjrmK1k8ZPwsOHNpg9O618HXtlQ8+y2Rzj6iXOH1iKBR857uOEcFXeG0EryiF+3r46wmOugxO9ZoeP30ML57ut951m8cwv8LJN8/d5tdWBiIgAk1PQIIrcKZfbf6KnZU7iYuO48juRwZeUZYiIAIiEAICXwxPp9MWNyXdHBz9iR2CKwQYAupyXnY6PfPdbExxMFLiNCBmMvpfAlaK05V3DqQfa9hNDO16mMSyV1HmdA8cqwp2ck/ZWWzpkc2Ma3SVjF7kIhAKAhKnoaCuPkVABESg+QnMzh7AAfnVrEuJ5MSc5c3fYRj3IHEaxsGzyHUrxenyW9MZEL2B5ZW9GHCvvqXyNV+0P9eiV5NcEQEREAEREAERaFUEZmYPJDW/gtUpMZySY25zVNkXAe051dxoCgISp01BMYRtSJyGEL66FgEREAEREAERaNUEzpg8hPZRxZRVxfP2lEWteqy/dHASp7+UoOobAlaK08ULP6JsVwkdSstJfOHffiOVeOGFJJx5Rr1dyUcfseVvf/dbr8c9U2iXnl5vt+XJJymZM9dvvYP+/RqO6IZ9qOsnTqRy7Tqf9WIOPpheD0+tt3Ht3s3acea8K9+l08kn0e2yy+qNypYuZfOd5jDo2lKQvxFXdSVlXbtw/Pve2539taznIiACItDyBF5e8TIFpQUkd0jmgvQLWt4B9SgCIiACQRDInJqJO9mNo8DB0klLg6jZ9kzfO8lJlyIo6gK//sCOa3da44FIrX1mWSlO66CX5+Xx06lj/MYg+cYb6DphQr3d9v+8yaZbb/Vb78CXX6LDkQ0HcmyafDvbX3/db71+y5buIU5/Ou10yn/4wWc9I4JT3zTnXdUWV1kZ3x8+2G9fiePG0f32yfV2uxYtYt34S/6nnu7f8otSBiIgAhYQ0P5cC4IgF0RABAImcPxTR1LYvpykslg+uvKrgOu1RcO6A01XRabRd/LXViCQOLUiDEE5YbU4rVi/ng3Xmpt3fJe2nDkt+34FjmpdDu1vjui5CDQngYn/nUjejjzSOqfxyHGPNGdXYd+2xGnYh1ADEIE2RWDstEHkRlTjdEUyffy3bWrswQ5W4jRYYrJvjIDV4lQh809Al0P7ZyQLEWhuAhJcgRMWq8BZyVIERCD0BB67YgCuEhcRnSK47h86rddXRJ5+6EZcxZuIiO/B5f/nfXNm6OKozGno2O9vz1aK009PH0aHkp2Udopj2Duf7u/Y2kQ9XQ7dJsKsQVpOQIIr8ACJVeCsZCkCIhB6AjYe8hN6Ko17YOMhnRKnts6WfftlpThVNjDwibRyaDruIjeOLg76LdS1O4GTk6UINB0BCa7AWYpV4KxkKQIiEHoCEqeBx+CtXw0kdUsFq7vFcObHdly7I3EaePxssZQ4tSUS++nHzpuPoXrzWiK7H0jcA5/vZyuqJgIi8EsISHAFTk+sAmclSxEQgdATWDrESfQ2qEyEzEV2nEAbeiqNezBjRAZphVXkJUUxZsEyK9yUOLUiDEE5YaU41VLVIGL4jyzYtAR6DIQr5gdRUaYiIAJNRUCCK3CSYhU4K1mKgAiEnoBW8wUeg1lZGRxUUMWa5ChOni9xGjg5WXoTkDgN8/nwww09OLRTKT+UdODQP28K89HIfREITwISXIHHTawCZyVLERCB0BPIHeKEbUAiOJU59RkQG5dAK3Ma+tdQsB5InAZLzDL73OuTcSaUk7s9FuejBZZ5J3dEoG0QkOAKPM5iFTgrWYqACISegFbzBR6Dednp9Mx3szHFwcgcO85BkTgNPH62WEqc2hKJ/fTjrvOuot3u3exu1447XntyP1tRNREQgV9CQIIrcHo7ynfgcruIcETQObZz4BVlKQIiIAIhIPDJiHS6FrrZmuRg+AI7BFcIMATUpcRpQJhk5IeAleJ0xRAnjm3gToR0LaHwGcI5I06kd+E61icdwOgFszXhRUAEQkDg1k9uZc2ONRzU+SDuHX5vCDxQlyIgAiIgAs1BYFZ2JgflV7ImJZqTc5Y2Rxetpk2J01YTypAOxE5xeqwTx3ZwJ0D6ZzoZzdcMkTgN6etHnYuACIiACIiACLRiAjOzB5KaX8HqlBhOybHjehRbcc/J6kfvAgfrk92Mnr/SCje1rNeKMATlhJXidNnwdKJ3uKjsHEHGJ1pCIXEa1JyWsQiIgAiIgAiIgAg0CYHBDx+DI2EX7u0d+fpGXdnn8zNplpPeBbA+GUbPtyO5JHHaJC+DFm3ESnHaogTCvLNvhh5Bu6JSdnfpwOELF4f5aOS+CIhAaydw+6e3s7Z4LQfGH8jdw+5u7cPV+ERABMKcQObUTNzJbhwFDpZO0rJeX+F84/x02pdUUdYpinNetSO5JHEafi9AidPwi9keHuv+rTAPoNxvFQR2Ve6qP+SnY3THVjGm5hqEDo9qLrJqVwREoDkIjHn2KNZG7ebAqnbMuPTL5uii1bS5aspg+lbnsSoyjb6Tv7ZiXBKnVoQhKCckToPCZZ+xxKl9MZFHbY+ABFfgMRerwFnJUgREIPQExk4bRG5ENU5XJNPHfxt6hyz2QOLU4uCEkWsSp2EUrMZc1eXQYR5Aud8qCEhwBR5GsQqclSxFQARCT+C1M/vTaZuLksQIznvru9A7ZLEHf/rL39i6pZCu3ZK4749/sMJTZU6tCENQTlgpTpdmDSCmuJKK+Ggy5y8PakBtzViXQ7e1iGu8NhKQ4Ao8KmIVOCtZioAIhJ7AHAsP+Qk9lcY9GHvH39iyvYRuCZ2YfpfEqa1xst0vK8WplqoGPm2+H9Yf11YXEV0jOOxTfaMXODlZikDTEZDgCpylWAXOSpYiIAKhJ/BRlpMeBbApGY635ATa0FNp3IMZIzJIK6wiLymKMQuWWeGmMqdWhCEoJyROg8Jln3Hlw8Nwb8rF0cNJ9I2f2uegPBKBNkBAgivwIItV4KxkKQIiEHoCSpgEHgOJ08BZyXLfBKwUp1qqGviUrXh8CDFbV1DRNZ2YaxYFXlGWIiACTUZAgitwlGIVOCtZioAIhJ6AxGngMZidNYADCqpZlxzJiZZsy1PmNPD42WIpcWpLJPbTj9zrk3EmlJO7PRbnowX72YqqiYAI/BICElyB0xOrwFk1Znn3ortZvsX3WQzd2nfjiVFP7FH9wpkXUl5d7rPzIT2HMPGIifU25j7aSTmT/Dr8u/6/Y8zBY+rt5q6dy9NLn/Zb757h93Bo4qH1dk98+wQf//yx33rTfz19D5uJ/53Ihp0ban6X2jmVB7Me9NuGDEQgUAK5Q9JhmxsSHTgX2XF3Z6C+t7Td3CwnvQpgQzKMsmQJtMRpS8+CX96fxOkvZxjSFj6/pjdpHUrIK+3EMY+vD6kv6lwE2ioBCa7AI3/NR9eQtz2PtIQ0Hj/+8cArtkHLot1FVLmqiIqIoku7LjUEJsyewOebP/dJo0fHHnx4zod72Bz18lHsrt7ts96JB53Iw9kP19t8X/Q957x3jl/yk46chBGodeX1H17HiGh/5eVTXmZg0sB6s9s+uY138t7xV41lF+25l+20t09j9Y7VNfWcXZzsLV79NigDEfBBQKv5Ap8e87LT6ZnvZmOKg5E5dgh5idPA42eLpcSpLZHYTz/+etoE4ncUUdy5C9e++8/9bEXVREAEfgkBidNfQk9190WgsXmlzCn/Iz5N5vSTDZ/UiG+JU72empqADkQKnKjEaeCsZLlvAlaKU63vD3zKzhlxIr0L17E+6QBGL5gdeEVZioAINBmBF757gc27NtO9Y3cu6n9Rk7Wrhto2AX3pEXj8xSpwVrIMjsDM7IGk5lewOiWGU3KWBFe5jVnPzXbSKx82pMConFwrRq/MqRVhCMoJidOgcNlnLHFqX0zkkQiIgAg0BQEJrsApilXgrGQZHIHnTjuCnttK2ZjYgUveXRxc5TZmPSerH70LHKxPdjN6/korRi9xakUYgnLCSnH66SlHEbezjJ1x7Rk288ugBtTWjCVO21rENV4REIG2QkCCK/BIi1XgrGQZHIGMPx8B3SpgSwzLbpA49UVvTpaT3gWwPhlG60Ck4CaarOsJWClOFZ/ACXw3ZAAR26pxJUbSf5HvExwDb1WWIiACItA8BMa9P47crbk4uzp55dRXmqeTVtKqBFfggRSrwFnJMjgCmVMzcSe7cRQ4WDppaXCV25j121cOoP3uXZS168gZT9nxmVSZ0/CbhBKn4RezPTzW/twwD6DcbxUEvi34lp2VO4mLjmNQ8qBWMabmGoREROBkxUqsAicgy+YicNa0I/kxopxDXLG8Of6r5uqmVbS7aspg+lbnsSoyjb6Tv7ZiTBKnVoQhKCckToPCZZ+xxKl9MZFHbY+ARETgMRcrsQqcQOCWt35yK2t2rOGgzgdx7/B7A68oSxHwQ+C8fw5kZUQ1/VyRvDZBByL5wiVxqpdTUxCwUpzmL/uaqrJdRLXvSErG4KYYZ6ttQ5dDt9rQamBhRECCK/BgiZVYBU5AliIQegI2nkAbeiqNezDusRms2rSdvj0SeOW6MVa4qcypFWEIygkrxamygYHHUJdDB85KliLQXAQkuAInK1ZiFTgBWYpA6AnYeMhP6Kk07sHVv7+SiNKduDrE8cTfn7LCTYlTK8IQlBMSp0Hhss847/gBVG+pILJbDGkf2bH53D5K8kgEmpeABFfgfMUqcFavrnyVwtJCkjokcX6/8wOvKEsREIEmI7BghJNuhbAlCUYssOPuziYbXBM3NGNEBmmFVeQlRTFmwbImbn3/mpM43T9uoaxlpTjNHeKEbUAiOBfpjcDnBPlHFmxaAj0GwhXzQzmX1LcItFkCElyBh16sAmcly8AJ7KrchcvtIsIRQcfojoFXlKUI+CGg1XyBTxGJ08BZyXLfBOwUp0PTocgNXRw4F65Q/HwQ2PHQIDqXrmZHh1Q6/9+3YiUCIhACAhJcgUMXq8BZyTJwAppXgbPiPxNgyw8wbjp06t5Q8f0bYf0Xvhvq0BUufGtPm2mnQMVO3/UOGgEneh1UtW0NTP+df6ePuRIGjWuwWzkTch7wX++0x2u/tK8rOVNh5Xv+602YB5Hmo7GnvH4xeX/5hIpt0bgTIP0zJUx8Qfwwqz99Clz8nBzBCfO/88+7BSyUOW0ByE3chcRpEwNt6eZyr08mzlFGYVUHBj+eX9v9jvXwmteb+b6cOmoCDPb64/DDh/Dfe/wP4dRHoPcRDXafPALf7fXHqrFWLpkN0e0bntT9gfTVY5eD4dznGyyqK+GfI/372O/XkD2pwc5kl9+9xn+97Juh3ykNdt++Ap8HsG9i7IuQeFBDvdm3wpoFvvuLiYPxM/e0eelMKN3qu17vo+HUhxtsSjbDK2P9j+2Ii+HISxrsVs2DeXf5rtftUDj7n/7bbuMW+mAc+ASoZ+WKYnpFJ98V+46GkZMbbAq/hzcv89/ZsOtgwNkNdsv/A58+5r/eWc9A0mENdvOmwKo5vutFRMFlH+1p8+r5ULzBd73uGXD63xtsyrbBi6c3XkevQ7+x02vQL6IGg7oVVxe/DwcNb/j9S2dB3jzfDcV1hxu/39Pm/j5QXuy7Xr8xcN6/9nwt//1o/06PuguGX99g983L8M7v/dcbPwsOHNpg9+618PUL/utN3rKnOH1iKKtfymf3thhIdOBcpISJL4g2Hh4lcep/2jeXRSRgvkq6GGgHfAhcAWzx06HEaXNFpIXaXXFjH9YUw2ObD2f2u+/W9ro1Dx4P4JTj42+DLC8Bt+Tf8Nbl/j3/3Ttw8K8a7My3rV8+47/enzZBTIf//QPpq2Zyf7h6YYOFEadTuvnva/BFcNpfG+zWLoRpJ/uvZz4sHn5Bg90nj8LcO/zX+/0Xe36ofe23sHKG73qx8XDLz3vaPHwY7Nzsu17aSLjwzQab7evg0Qz/PhrhfdwtDXbmA/sbXmK1sRa0XNw/V2DsS8eQ6yrF6YpkekU8RLWDS83bsFf517mw0/MF0r5a7TkYfv1ow9NdW+Dls/z7cPiFcLSXaPspB+Z4ibp9tXDi/XDQsIannz0JS1713595D2if2GBnPixu9rO/KL4XnP8qf/36r2zctZGe37zGtUVm/4aPkjEWzvZ6b9n4DTzt9d6zr6onT4VjvN7LPn8aZnm91+2r3uUfQ8/DG57+5zJYNt23j0ac3r7XF0qPDYJtq33XO2AIXPKBV6y3wtSD96jzebtYSiIi6ORycUxiPxh4Phx7VYPNmk9httdrel89jp4CB2c3PP3iGfjmJf9xvuBN6Oj1fvve9bDRz92FcSnw29f3bPvZE6Bqt+/+Dj4ORnt9WWb+jr0x3r+PQ/4AmWOROPWPqt6iTpyaL3+v/aahojKn0EjmdPkjXxBZ5GZ31xgO/1RXyfiaafOy0+mZ72ZjioOROXYIeYnTIN4bmtj0VuAi4CQjTYDnAKMC/H0at1OcDkmHbW59SxXAJPkm+3Ait1WyonMqL4/9v5oa3aoLua2kIQPaM6E9HWLM9xe1pbCknB1llbzf7lTmtDuh/vdHVnzJBaUv1/98cFIcEY4GJ34uKqO8qponOl7ND9EN2YWzy95gRHltljAmKoIDujQIULcb8gprl/v8X+eHqHDE1jd4Y8lUelevr/k5vn00yZ0anpVVVrNhWxkbI3vyUKeb6utEuqv4844b6n9Ojm9HfLuo+p+3lVaydWc5i2KG8O8O5zWMpSqPa3c2iFXjo/G1rmzasZtd5VW80mEcX8QcU//743fP47TdtaI/wuHg4KQ99zKt3rKLapeb+zvdQn5kw/KoS3Y9S2bl0pp6HWKi6JlgvjOqLZXVbtZu3UWZoz23dN5zedLdxZOJd9V+A53YMYauHWPq65XsriK/eDcro/rxVFzDB9REVxF3FDd8qOuR0J6O3vHeWcGO0go+aHcSH7RreEs4vOJrLipt+CY5NSmOyLp4m0wz8HPsofS55cuGSaB/NUpg7LRB5EZU4yyvYPrGzRDVHm7b60uGRwbAjr2+jNi7tdQsuMhr6VnxJvhLP//UR9wAI29vsFvxLky/0H+981+Dw7z+THw4GRZ6famzrxYm/QQduzY8fe4kWLfId3+JqXDdt1z32jc17wl/3vFHIt3Vjdbp1imWhPbR4MmcvrdkI/+Yn0fvqp+5cafXqsNg7SEAABjDSURBVIG9avfu0oF25nXtyZw+PPt7Pv6hgBHl8zm77D+N++dw0Lfude3JnE544Ss2F5dxQelLHFnxVaP12kVH0juxPXgypztKK/nts5/V2N5WPIVursa/G07oEEO3uBjwZE4//2krU95fQUfXTu4tNn/KG8qfUnaRGxvTMK+GXgsnTKkxeHHRGtYsfIPbS2p/9lnGvgTpp9WY/OmtZQz84a/8psyP6DbGf1wJ8T1q6p395EJu33oTA6tq39f2WTr3gYm1h/OZ98drXv2aN7aeTTvKfdfrf2b9KpkPlm9ixpw5/G1HAKtdTrwPhvy+Xpz2rXDwlivBd19nPAkp/Rts/ns//DDLH8X/Pdfh3xeA+XLQV0lOhzO9Vt+Ul8Dzp/rvK+NcGOo1/nWfB/YFy8g7oK/X6qKvnoPFXquPgIrNK4lxl7M6ui+pty7ew5ex/1hEaUWVT/+GHNyVW09Nr7f5uaiUq/61ZzuNNXDx0FTOOaJ3/aM5K/J5bN4Pflk8cFYmA3p1rrd7fN6PzF7h50tc4K2rhxEd2fB3/vevfF3zt9dXSUuK47HzGr6g2l1ZzdyRg0krqGB1Sgyn5Eic+uIncep3Orcpg7XA3cCznlGnAauAVGCNDxJWilNtPg987s4ZcSK9C9fxY+deXHvcxEYr/mvCMQzr2/Dt9+3vLOfFRWbK+C65d59Eey+RM+bxBSzf4HvpTr/unfjg+qz6hiurXRxyq/8/+ucf3Yf7z8qsr/fF6iLMH0l/5aFzMhl7ZJ96s6dy8nhg1kp/1Zj7xyz6JjcsKbzipa+Y/Z3vrFan2CiW3XXiHm0ffe9cCkp8f+jKOjSJFy9pWL60flspwx/8r18frxt5CBNHH1pvZz6gX/Oq17fc+2jh+fFH8avDkuuf3v3eCp771E8WB1h65wnEt6vda5P/XQ73/OcLNpRFUdHzSM4se5Ps8pw9ejR/9A/s6pUJB84tv5UyR8PvJu78CwdW7TnXOrWLJiW+4YuIknY9Ob94z2Vaj26/7n9Gl9Qpls5GsHjKyvhh3LilYQn2gVVrmLjzkf+p16dLB2K9voh4M+58nisaUG/3q/L/ckbZ23vUczgcpO31RcTNjutZXp5Ub3fRruc5vLI2HutjCtgdUU17VyTZCQfXZ07NFyUXTavdw3VH8Z0kuhrPFNZ/EeHJnC5ctYX7ZuUS79rB3cVeonOv0fXo3J6OsZHgyZw+98lq3vxmPZmVS7hkl/mOsvGS2q0jkeabJ0/m9P/eWMKKTcWcVvYOx5fvtUTV08Qe8fZkTk//+6dUu1xcu/MxDq76qdHO4tpF093E25M5HTxlDkW7KnzO/7tO689FQxuWyb+wcA13vOt//9J7fxhORu+GD7HXv/YNb3+70WdfUREOVt3ntZQfyJ76X9ZuLfVZ76iDEnn9yoZlg2ZMZmz+yhVZB3PLKc56s7kr8pnwYuMC+LDUyWxsV8lB5fByaRydj/1dfeZ06uyVfPnxDCZH+86A9useT/RJ99RnTsc98xlpa15lbOTH+3TVxNq8l+OVOe03eRaT3c+QGZG3z3rm9XnAAan1mdPcTcWc/NgC3oi5k1j2HXMzj7tlnlifOX3l83U8/faHPB79uE+cRkh0yL6uJnN65tvnsGrH9w1C3lfNS+dCn6NqLK58aTFnr7+P0eVz/YUO7txRY7OzvIrznl7Ek9uvpI/nC9Z9Vu51JFxWu1R28doiHnz7C6Zv+43/vo69Gk66v8buX5+v5ftP3uLukgBW8ZzzXP2SdvO3vt/KvzGurPHVEMtcB5Fx955iK+OO2ZSU+xanJ/ZP4R8XHlk/hlUFJYz6i/8DGW8+uR9XZpuPp7Vl+lc/839v+Pmyw9hdMYSjU7vU17vlzaW8+oWfL/qAH+89eQ9xetKj81m5ucQn+wG94plxzYh6m7KKauaNkjj1P2FrLeZmOelVABuSYdR8O/bnKnMaaPSa1s78Jd4OmK96vE/EMe+i5qtzz1rPmk5N+qzhayQwKafSXbt2ER3ttQG8af0LurUVwzJw7IANSfDsDQ0fIhtr6K/H/7XmmP26cv/n97O00PebXWK7RJ4Y9cQezV06+1JKK/18GOl+FH888o/19daXrGdSjv+lYuYKgNP61n5rbcrH6z7mH0v/4ZfL7UNux9m14UPMM0ue4aOf9/zgeNEjP3JgfjnlUQ42JNRmR2PcKTgcEazp0Zf3ho9ld9RfKNy5hi473fzp0yiqXO6abJ8pbre75j/cUcQ6ajku6p/NF+lHUcitVOwu56jNUfxmiZuKao8t4Kqp78bhakdMRO3yvreyzmfXoe1Yml/7B/XcH2M45qdqyqtc9WN1uWr/HeGKJzqiNgv55Jk3EtflK5YVvFbz8w1fRJNS5MII21ofzX+1/45ydSMyIpotnZN59YQJRMS+wNodi4l0uXngw0iMW2Z8e4yNCGLdKeCA7w4exEdHnML2iDspKS0idZuD338RUZPNdJmOvJg4XDHERNRmh+YeeSqrDktlXemdVFVVMWpdNCfluqioclFbyzCpG1tHoiPia3738omX4zhgK0s21+4tm7A8hsM2VNfUqyt19SJdCURFtKc8Opanz7iBDh1n8P3W2qWhd+RE0aHMTVU9k4ZYxLhScEREsLZ7Ku+OOJ+K6MfIL8mjc6mbyQv8x/uL9OF81n8YhY5bKC/bzeD8SM7+ylXL3eNkNFVEUV2zvLBbdW22K2XwDtb2hLu71TIashj6row1s6J+bOYDaQTumjqmrikHHLeV9xM78Gp87ZcDp82OJH7Lnu8/7T1Zll5VVcS43UR3rKb3sG38pUsCX7arzUJf+koU5e6GrHkELmKprHmDO7CyssYmrmc5SQNKuDoliW2RkSQVwq/nRFPhblhJYMZlxtfe7aZ7Ve2Hsq7pOyk/sIJrU2pF/oBcOOLrWKq9xhZDJZG4SHC5SPQwcY2IJ/6PMxkzpvby8cmHpuPO8y2OKiKjWTP5YQZHb+Lmm2+uqfdwz1S25/te8vpjYh8GTr2XFfOm8/LLLxPndjMlIYWtO30LvzkHHsWd/7ydmyf+gSVLlvCrrt04sYyalQO+yntDz+XphycwdOhQqqurue6QQ4lfXVj7/uGjfHr5ZC46pisXX2x2ncAdBzlxbfgZR/T2mpUZ3q9v877lcMDOxGjeHJ/KYSWHMevRWZQn9+eBknwiHLuodtR+uKx/7zLvJxG1f9bWODsx/+QedP+mOwtnLKRbn2OYuGUV1Y4duBy1y0rr6pkvIMx/pnw1MpkfDu/Grn/uYsOGDRxzyK84bf0yqiK24KZ2vte/53nqmZUU743rQ6e0fnx000e4ImMZ2zODQVvyqIoorCdS9/qu688RFcEL1/YlnXRmTJlBZecDuMkRQWL5FqojzJ9yLx8jqsHhxuGOoUfGSAY99hBPPvkkzz//PBHdB3H39nX1YzD1zIcwExtT2nleJ4ddcC59Jozn6quvZvHixRyalsVFG/cU+uXl5TVcDMeYmBiMYD/q/tvpeMwxZGVlYZ6PPHgEx29qWKZn7M3vTYmKjCIqOoq42CiOfPV5Vm/dygUXXEB1+0Qu69yLtB2bGnhUu6iorJ2j0dExREZGkNCrO0f+6zneeustHnjgAcqT+nHfriJivDLr5n3X/GdKbGxszbh7jczGOfkm7r77bv6TNJ8eFVu47p1qot0Q54L46ob3ot0ON0VRtStgFmUlsfzIZFavXk1ZdDwjf9rOKV+W1bTdpQrauRvqlUS4KYmsrff2uDTyk2P44cdVVHfqzqWfb6D/T7W8kyvNB6qGeluj3FREUPO3+JmJ6ZjPWT9vKsDdIZFb399AYrG75gNZSqXX8iRgc7Qbt8NBYfdY3hnXly1bttSsduocEcnkN2qz8e1dkOg1tkrcFEbX+rh8UGcWHd+bn9f/TIkrliMKSxn3ce3qpfhqw6Whv2JHJKXta99D552Uwk+HdmLF+to+Ri0vY9SKWiZRrkRwx1BeXvsaioktJSq2dtyvXnwg+dEu1m6tfV1eOr+EQzbXvv9Gu5JxVbvr4x3bcReRkS5KO0byr0tT2bx1B0VltbZ3vrWNdpXmr0c0Ua4uNbGujbeb2LiSmi/TVqd1ZO6pPVi9eQtlVZC0o4obZtd+YR7hbk+kO56Kioqav8WOiCrax9X6//mwriw9IpGV6wtx4eDI1eWc82VtBtXUMXV37zZz2U3U/7d35zFzVWUAxp8oUqFFxagRwYVgFIuIEIli41KpGyKKqajRugQQcYdocBcFkaqgxF1wifuGS0UkWlNciCYYYmINEpDNWCA1uKGRTc3bnqu3k2Fmzsz9Zs6997n/aL/vLuf8zst8896z3eVf7LzL9jJtWLsnW+67jJXfv4x73/Rvbtx1BW8/uzbNaNtZHnWBjav3Z8+t27+/r9lUzlYyy5dv+74ZQ9G2N+6Ux47/tU55k55cFt1GMa4kJqvUu0eiuyLGCP1/nCacHN8NeuJiNRVQQAEFFFBAAQUUUECBGNa1/Y3FlIfJ6eRwMbkiXrFP03NavUkY/ap98rI0dea2Ht00b3b06/ymnuh9+iBgXPWhlRdTR2NrMe5df6px1fUWXkz9jKvFuPfhqaXGVpQruv5HD/UZ00Imp3khHL2ksSJKNckoelFjYsi4Oad5T5nf2dvmwjbRBT+/IvukFggYVy1opJYW0dhqacMVXmzjqvAGamnxjKuWNlwLit3p2DI5zYvAGL4bG1ZWq/XGwkgxoSv+3caj08HdxgbpSJmNq440ZIHVMLYKbJQOFMm46kAjFlgF46rARulIkTodWyaneVEa8+rXp31OYxnMWDIwNnkbt89p3lPmd3ang3t+jD5pQMC4MiSWSsDYWirZft/XuOp3+y9V7Y2rpZL1vp2OLZPTfgd4JNuxg3xs4DZ8I7x++1j76QSMq+ncvGq8gLE13sgz8gWMq3wzrxgvYFyNN/KM6QQ6HVsmp9MFhVcpoIACCiiggAIKKKCAAgo0KGBy2iCmt1JAAQUUUEABBRRQQAEFFJhOwOR0OjevUkABBRRQQAEFFFBAAQUUaFDA5LRBTG+lgAIKKKCAAgoooIACCigwnYDJ6XRubbkqJkyfnlYXvivwQ+C4EasLx5Y4ZwDV/q0npmvaUl/LOT+BnNg6DHgD8AggrtsMvAX42fyK65NaIpATV/UqHQ98LC3wdmpL6mox5yuQG1v3Ad4PHA7EyphXAvFZtmW+xfZphQvkxlX8LYzPq4iv64EPps+uwqtp8eYs8HzgVcABwK7ATmOe/6gURw8HrgPeCXxxzmVu7HEmp41RFnmj2Jf1JbV9WT+TgvzpQ0obCWkkDbE1zteB5wKfAvYDri6ydhZqkQI5sfVC4J/AJuAm4Nj0pe9hwB8WWQmfXZxATlxVhX8g8OMUY/HZZXJaXLMWUaCc2IqXuRcDvwTeDNwIVJ9XfyuiNhaiFIGcuDoC+ApwaIqtQ4CNwLPT1oSl1MlyLF7gqcA9gV3Sd/FRyendgSuADwAfAh4PfBt4MvCLxVclvwQmp/lmbbriGuDdwKdTofdJAbz3kITzXcCTgMfVKhg9W/HBGb/zUKAukBNbw+S2phch8QHqoUAlME1cxWfU2ak3Iv6/yanxNEwgJ7ZihNHb0iiiW+VUYIRATlzFaLS1wGNr94vk4dyUWAitwKDAE9P38FHJ6cvS9/R4UfufdIMvALcB8bvWHSanrWuyiQscb1L+AhwI/Lp21V+BdcCGgTt9JyWsr6/9/Czg/sBzJn6qJ/ZBIDe2Bk1ieG/E5EOBy/sAZh0nEpgmriKJeAYQPRIXpj/iJqcTcffqpNzY+iqwO/BH4FlAvEyLkURn9krNyo4TyI2r+9WmV0VSugqI715PSCPXxj3P3/dPYJLkNHpLH5R64CuhE9J3/YPaSGZy2sZWm6zMkVRem978XlW7JN7yxTCUwbHoMSzu52mcenV69JjGh+eayR7pWT0RyI2tOkvMs4k4+xbwpp54Wc3JBHLj6gHARcBjUhJhcjqZcx/Pyo2t6IGPoZfxsvbjab78BcDrgC/1EdA6DxXIjavo/Yoe+Vhz4U7pjhFjH9FXgTsQmCQ5jdGREVsxja86osc0vus/uI2yJqdtbLXJynwP4M/2nE6G5VlZArmxVd083hr/KM09fU1t+EnWwz25swK5cRULvMVwuE8mEZPTzobGzBXLja2YbnAwsFftydE7EZ9hR81cGm/QFYHcuIoX/i9IPVyXAivTKLbTatOvumJjPZoRmCQ5tee0GWvvMieB6CWND8NYCCmOahXeO5pzujpNpK6K99O00IhzTufUYC16TE5sRbViyEn0zseXvlit0EOBYQI5cRVza2KhmmqOTQyxuwW4ZGDuvNIKhEBObMVKl8ekaS2VXnwB3AN4npwK1ARy4uo84LfASbXrqx0SjlRVgSECkySn0Ut6MhBzTqvj88Dtzjk1pkoUiC79F9dW642u/93SvwfLG4sl/QY4GvhmmrR/jqv1ltisRZQpJ7b2TXMBP5eGNBVRAQtRpEBOXNV7taIy30jbE8WXvRuKrJ2FWqRATmzFl7zo2Xoj8AkgtmeIob6vBr62yEr47OIEcuIqVn5+adqeKNZbiBWgI2GNv42nFFczC7RIgdiiKLawipV3zwdWpMLcPGTUWfTgRzy9D4i1YmJh0++6Wu8im89njxKI4F6fPgyXpSGVsVXMn4DY3iOGw1UBH/ep73Mae7rFhOoYOuehwKBATmx9NsXgPwZuEovZOH/L2KoL5MTVoJzDeo2lJv8eRo9F7EH5kLS3afScflRiBQYEcj6zYl5gLNgWe1jeK438iJdqsf6Cq0IbWnWBeIkR350Gjxj5GHOdf5CGhcfaMnHENIT4fNo/7XP6Dvc5NaAUUEABBRRQQAEFFFBAAQUUmEHABZFmwPNSBRRQQAEFFFBAAQUUUECBZgRMTptx9C4KKKCAAgoooIACCiiggAIzCJiczoDnpQoooIACCiiggAIKKKCAAs0ImJw24+hdFFBAAQUUUEABBRRQQAEFZhAwOZ0Bz0sVUEABBRRQQAEFFFBAAQWaETA5bcbRuyiggAIKKKCAAgoooIACCswgYHI6A56XKqCAAgoooIACCiiggAIKNCNgctqMo3dRQAEFFFBg0QKvAFYB6yYoyDJgM/BM4HcTnO8pCiiggAIKLLmAyemSE/sABRRQQAEFGhG4EDgEuBW4HbgSOBU4F1gOXJV+//sJn3YccHhKUCe8xNMUUEABBRRYOgGT06Wz9c4KKKCAAgo0KRDJ6caUkO4EnAicBqwEVgNHAYdmPPBuwHXAAcAVGdd5qgIKKKCAAksiYHK6JKzeVAEFFFBAgcYF6slp3HwF8HdgLXAM8BPg9PTU44EY5huJZ3XsA1wGxP9ek34Y99wAnNl4ab2hAgoooIACmQImp5lgnq6AAgoooMCCBOrJ6c7ACcApqef0IuDYlGhG8aJXdEvqUb04lTd6WQ8CnlYr/4eB3YEXLahOPlYBBRRQQIH/CZicGgwKKKCAAgq0QyCS00cDNwO3pKG47wW+l/79FCDOqY5zgNtSD+qdgWuB16Y5qtU57wEOBA5rB4GlVEABBRTosoDJaZdb17opoIACCnRJYHBYb71uNwz0nMbvDk5zVPdIc1EjWd0rLahUXWvPaZcixLoooIACLRcwOW15A1p8BRRQQIHeCIxKTi9IvabVnNMK5RLgLODINN/0pAGtTcB5wBm9UbSiCiiggALFCpicFts0FkwBBRRQQIEdBEYlp7H4USyMtGbALH7+SmBfYD/g8trvdwOuBx458HPZFVBAAQUUWIiAyelC2H2oAgoooIAC2QKjktPY5/TqNCc19j+tjkhAY2GkX6XFkeoPfTlwRNrrNLswXqCAAgoooEDTAianTYt6PwUUUEABBRYjEL2kq4B1tcfH3/lIVt8KfLn282XA5pScXrqY4vpUBRRQQAEFdhQwOTUiFFBAAQUU6K5AbBGzHtg7rejb3ZpaMwUUUECB1guYnLa+Ca2AAgoooIACQwW2pq1kjgbO10gBBRRQQIHSBUxOS28hy6eAAgoooIACCiiggAIK9EDA5LQHjWwVFVBAAQUUUEABBRRQQIHSBUxOS28hy6eAAgoooIACCiiggAIK9EDA5LQHjWwVFVBAAQUUUEABBRRQQIHSBUxOS28hy6eAAgoooIACCiiggAIK9EDA5LQHjWwVFVBAAQUUUEABBRRQQIHSBUxOS28hy6eAAgoooIACCiiggAIK9EDA5LQHjWwVFVBAAQUUUEABBRRQQIHSBUxOS28hy6eAAgoooIACCiiggAIK9EDA5LQHjWwVFVBAAQUUUEABBRRQQIHSBUxOS28hy6eAAgoooIACCiiggAIK9EDA5LQHjWwVFVBAAQUUUEABBRRQQIHSBUxOS28hy6eAAgoooIACCiiggAIK9EDA5LQHjWwVFVBAAQUUUEABBRRQQIHSBf4LRzjHvFtN1+YAAAAASUVORK5CYII=\" width=\"NaN\">"
      ],
      "text/plain": [
       "<IPython.core.display.HTML object>"
      ]
     },
     "metadata": {},
     "output_type": "display_data"
    }
   ],
   "source": [
    "fig_index = 1\n",
    "num_of_bins = 10\n",
    "fig = plt.figure(fig_index, figsize=(10, 10))\n",
    "ax1 = plt.subplot2grid((3, 1), (0, 0), rowspan=2)\n",
    "ax2 = plt.subplot2grid((3, 1), (2, 0))\n",
    "\n",
    "ax1.plot([0, 1], [0, 1], \"k:\", label=\"Perfectly calibrated\")\n",
    "ax2.hist(truth_thick.values.ravel(), color='k', linestyle=':', range=(0, 1), bins=num_of_bins, label=\"Perfectly calibrated\",\n",
    "         histtype=\"step\", lw=2)\n",
    "for forecast, name in [(ow_15_thick, 'ow_15'),\n",
    "                       (ow_15_wp3_thick, 'ow_15_wp3'),\n",
    "                       (persistence_dist_thick, 'persistence_dist'),\n",
    "                       (persistence_thick, 'persistence')]:\n",
    "    \n",
    "    fraction_of_positives, mean_predicted_value = \\\n",
    "        calibration_curve(truth_thick.values.ravel(),\n",
    "                          forecast.values.ravel(), n_bins=num_of_bins)\n",
    "\n",
    "    ax1.plot(mean_predicted_value, fraction_of_positives, \"s-\",\n",
    "             label=f'{name}')\n",
    "    ax2.hist(forecast.values.ravel(), range=(0, 1), bins=num_of_bins, label=name,\n",
    "             histtype=\"step\", lw=2, linestyle='--')\n",
    "\n",
    "\n",
    "ax1.set_ylabel(\"P(o|y)\")\n",
    "ax1.set_ylim([-0.05, 1.05])\n",
    "ax1.legend(loc=\"lower right\")\n",
    "ax1.set_title('Reliability curve for thick cloud forecast')\n",
    "\n",
    "ax2.set_xlabel(\"P(y)\")\n",
    "ax2.set_ylabel(\"Count\")\n",
    "ax2.legend(loc=\"upper center\", ncol=2)\n",
    "\n",
    "plt.tight_layout()"
   ]
  },
  {
   "cell_type": "code",
   "execution_count": null,
   "metadata": {},
   "outputs": [],
   "source": []
  },
  {
   "cell_type": "code",
   "execution_count": null,
   "metadata": {},
   "outputs": [],
   "source": []
  },
  {
   "cell_type": "code",
   "execution_count": 417,
   "metadata": {},
   "outputs": [],
   "source": [
    "clear_ub = 0.05"
   ]
  },
  {
   "cell_type": "code",
   "execution_count": 418,
   "metadata": {
    "scrolled": true
   },
   "outputs": [],
   "source": [
    "truth_clear = (truth.sel(time=error_times)<clear_ub).astype('float')"
   ]
  },
  {
   "cell_type": "code",
   "execution_count": 419,
   "metadata": {},
   "outputs": [],
   "source": [
    "persistence_clear = (persistence.sel(time=error_times)<clear_ub).astype('float')"
   ]
  },
  {
   "cell_type": "code",
   "execution_count": 420,
   "metadata": {},
   "outputs": [],
   "source": [
    "persistence_dist_clear = persistence_clear.copy()"
   ]
  },
  {
   "cell_type": "code",
   "execution_count": 421,
   "metadata": {},
   "outputs": [],
   "source": [
    "for ii in range(error_times.size):\n",
    "    persistence_dist_clear[ii] = persistence_dist_clear[ii].mean(dim=['west_east', 'south_north']).item()"
   ]
  },
  {
   "cell_type": "code",
   "execution_count": 422,
   "metadata": {},
   "outputs": [],
   "source": [
    "ow_15_clear = (ow_15_30['ci'].sel(time=error_times)<clear_ub).astype('int')\n",
    "ow_15_clear = ow_15_clear.mean(dim='ensemble_number')"
   ]
  },
  {
   "cell_type": "code",
   "execution_count": 423,
   "metadata": {
    "scrolled": true
   },
   "outputs": [],
   "source": [
    "ow_15_wp3_clear = (ow_15_wp3_30['ci'].sel(time=error_times)<clear_ub).astype('int')\n",
    "ow_15_wp3_clear = ow_15_wp3_clear.mean(dim='ensemble_number')"
   ]
  },
  {
   "cell_type": "code",
   "execution_count": null,
   "metadata": {},
   "outputs": [],
   "source": []
  },
  {
   "cell_type": "code",
   "execution_count": 424,
   "metadata": {},
   "outputs": [
    {
     "name": "stdout",
     "output_type": "stream",
     "text": [
      "0.0314223343685\n"
     ]
    }
   ],
   "source": [
    "this = ps.brier_score(truth_clear.values.ravel(), ow_15_wp3_clear.values.ravel()).mean()\n",
    "print(this)"
   ]
  },
  {
   "cell_type": "code",
   "execution_count": 425,
   "metadata": {},
   "outputs": [
    {
     "name": "stdout",
     "output_type": "stream",
     "text": [
      "0.0364378752588\n"
     ]
    }
   ],
   "source": [
    "this = ps.brier_score(truth_clear.values.ravel(), ow_15_clear.values.ravel()).mean()\n",
    "print(this)"
   ]
  },
  {
   "cell_type": "code",
   "execution_count": 426,
   "metadata": {},
   "outputs": [
    {
     "name": "stdout",
     "output_type": "stream",
     "text": [
      "0.0647009057435\n"
     ]
    }
   ],
   "source": [
    "this = ps.brier_score(truth_clear.values.ravel(), persistence_dist_clear.values.ravel()).mean()\n",
    "print(this)"
   ]
  },
  {
   "cell_type": "code",
   "execution_count": 427,
   "metadata": {},
   "outputs": [
    {
     "name": "stdout",
     "output_type": "stream",
     "text": [
      "0.0474603174603\n"
     ]
    }
   ],
   "source": [
    "this = ps.brier_score(truth_clear.values.ravel(), persistence_clear.values.ravel()).mean()\n",
    "print(this)"
   ]
  },
  {
   "cell_type": "code",
   "execution_count": 428,
   "metadata": {},
   "outputs": [],
   "source": [
    "%matplotlib notebook"
   ]
  },
  {
   "cell_type": "code",
   "execution_count": 430,
   "metadata": {
    "scrolled": false
   },
   "outputs": [
    {
     "data": {
      "application/javascript": [
       "/* Put everything inside the global mpl namespace */\n",
       "window.mpl = {};\n",
       "\n",
       "\n",
       "mpl.get_websocket_type = function() {\n",
       "    if (typeof(WebSocket) !== 'undefined') {\n",
       "        return WebSocket;\n",
       "    } else if (typeof(MozWebSocket) !== 'undefined') {\n",
       "        return MozWebSocket;\n",
       "    } else {\n",
       "        alert('Your browser does not have WebSocket support.' +\n",
       "              'Please try Chrome, Safari or Firefox ≥ 6. ' +\n",
       "              'Firefox 4 and 5 are also supported but you ' +\n",
       "              'have to enable WebSockets in about:config.');\n",
       "    };\n",
       "}\n",
       "\n",
       "mpl.figure = function(figure_id, websocket, ondownload, parent_element) {\n",
       "    this.id = figure_id;\n",
       "\n",
       "    this.ws = websocket;\n",
       "\n",
       "    this.supports_binary = (this.ws.binaryType != undefined);\n",
       "\n",
       "    if (!this.supports_binary) {\n",
       "        var warnings = document.getElementById(\"mpl-warnings\");\n",
       "        if (warnings) {\n",
       "            warnings.style.display = 'block';\n",
       "            warnings.textContent = (\n",
       "                \"This browser does not support binary websocket messages. \" +\n",
       "                    \"Performance may be slow.\");\n",
       "        }\n",
       "    }\n",
       "\n",
       "    this.imageObj = new Image();\n",
       "\n",
       "    this.context = undefined;\n",
       "    this.message = undefined;\n",
       "    this.canvas = undefined;\n",
       "    this.rubberband_canvas = undefined;\n",
       "    this.rubberband_context = undefined;\n",
       "    this.format_dropdown = undefined;\n",
       "\n",
       "    this.image_mode = 'full';\n",
       "\n",
       "    this.root = $('<div/>');\n",
       "    this._root_extra_style(this.root)\n",
       "    this.root.attr('style', 'display: inline-block');\n",
       "\n",
       "    $(parent_element).append(this.root);\n",
       "\n",
       "    this._init_header(this);\n",
       "    this._init_canvas(this);\n",
       "    this._init_toolbar(this);\n",
       "\n",
       "    var fig = this;\n",
       "\n",
       "    this.waiting = false;\n",
       "\n",
       "    this.ws.onopen =  function () {\n",
       "            fig.send_message(\"supports_binary\", {value: fig.supports_binary});\n",
       "            fig.send_message(\"send_image_mode\", {});\n",
       "            if (mpl.ratio != 1) {\n",
       "                fig.send_message(\"set_dpi_ratio\", {'dpi_ratio': mpl.ratio});\n",
       "            }\n",
       "            fig.send_message(\"refresh\", {});\n",
       "        }\n",
       "\n",
       "    this.imageObj.onload = function() {\n",
       "            if (fig.image_mode == 'full') {\n",
       "                // Full images could contain transparency (where diff images\n",
       "                // almost always do), so we need to clear the canvas so that\n",
       "                // there is no ghosting.\n",
       "                fig.context.clearRect(0, 0, fig.canvas.width, fig.canvas.height);\n",
       "            }\n",
       "            fig.context.drawImage(fig.imageObj, 0, 0);\n",
       "        };\n",
       "\n",
       "    this.imageObj.onunload = function() {\n",
       "        fig.ws.close();\n",
       "    }\n",
       "\n",
       "    this.ws.onmessage = this._make_on_message_function(this);\n",
       "\n",
       "    this.ondownload = ondownload;\n",
       "}\n",
       "\n",
       "mpl.figure.prototype._init_header = function() {\n",
       "    var titlebar = $(\n",
       "        '<div class=\"ui-dialog-titlebar ui-widget-header ui-corner-all ' +\n",
       "        'ui-helper-clearfix\"/>');\n",
       "    var titletext = $(\n",
       "        '<div class=\"ui-dialog-title\" style=\"width: 100%; ' +\n",
       "        'text-align: center; padding: 3px;\"/>');\n",
       "    titlebar.append(titletext)\n",
       "    this.root.append(titlebar);\n",
       "    this.header = titletext[0];\n",
       "}\n",
       "\n",
       "\n",
       "\n",
       "mpl.figure.prototype._canvas_extra_style = function(canvas_div) {\n",
       "\n",
       "}\n",
       "\n",
       "\n",
       "mpl.figure.prototype._root_extra_style = function(canvas_div) {\n",
       "\n",
       "}\n",
       "\n",
       "mpl.figure.prototype._init_canvas = function() {\n",
       "    var fig = this;\n",
       "\n",
       "    var canvas_div = $('<div/>');\n",
       "\n",
       "    canvas_div.attr('style', 'position: relative; clear: both; outline: 0');\n",
       "\n",
       "    function canvas_keyboard_event(event) {\n",
       "        return fig.key_event(event, event['data']);\n",
       "    }\n",
       "\n",
       "    canvas_div.keydown('key_press', canvas_keyboard_event);\n",
       "    canvas_div.keyup('key_release', canvas_keyboard_event);\n",
       "    this.canvas_div = canvas_div\n",
       "    this._canvas_extra_style(canvas_div)\n",
       "    this.root.append(canvas_div);\n",
       "\n",
       "    var canvas = $('<canvas/>');\n",
       "    canvas.addClass('mpl-canvas');\n",
       "    canvas.attr('style', \"left: 0; top: 0; z-index: 0; outline: 0\")\n",
       "\n",
       "    this.canvas = canvas[0];\n",
       "    this.context = canvas[0].getContext(\"2d\");\n",
       "\n",
       "    var backingStore = this.context.backingStorePixelRatio ||\n",
       "\tthis.context.webkitBackingStorePixelRatio ||\n",
       "\tthis.context.mozBackingStorePixelRatio ||\n",
       "\tthis.context.msBackingStorePixelRatio ||\n",
       "\tthis.context.oBackingStorePixelRatio ||\n",
       "\tthis.context.backingStorePixelRatio || 1;\n",
       "\n",
       "    mpl.ratio = (window.devicePixelRatio || 1) / backingStore;\n",
       "\n",
       "    var rubberband = $('<canvas/>');\n",
       "    rubberband.attr('style', \"position: absolute; left: 0; top: 0; z-index: 1;\")\n",
       "\n",
       "    var pass_mouse_events = true;\n",
       "\n",
       "    canvas_div.resizable({\n",
       "        start: function(event, ui) {\n",
       "            pass_mouse_events = false;\n",
       "        },\n",
       "        resize: function(event, ui) {\n",
       "            fig.request_resize(ui.size.width, ui.size.height);\n",
       "        },\n",
       "        stop: function(event, ui) {\n",
       "            pass_mouse_events = true;\n",
       "            fig.request_resize(ui.size.width, ui.size.height);\n",
       "        },\n",
       "    });\n",
       "\n",
       "    function mouse_event_fn(event) {\n",
       "        if (pass_mouse_events)\n",
       "            return fig.mouse_event(event, event['data']);\n",
       "    }\n",
       "\n",
       "    rubberband.mousedown('button_press', mouse_event_fn);\n",
       "    rubberband.mouseup('button_release', mouse_event_fn);\n",
       "    // Throttle sequential mouse events to 1 every 20ms.\n",
       "    rubberband.mousemove('motion_notify', mouse_event_fn);\n",
       "\n",
       "    rubberband.mouseenter('figure_enter', mouse_event_fn);\n",
       "    rubberband.mouseleave('figure_leave', mouse_event_fn);\n",
       "\n",
       "    canvas_div.on(\"wheel\", function (event) {\n",
       "        event = event.originalEvent;\n",
       "        event['data'] = 'scroll'\n",
       "        if (event.deltaY < 0) {\n",
       "            event.step = 1;\n",
       "        } else {\n",
       "            event.step = -1;\n",
       "        }\n",
       "        mouse_event_fn(event);\n",
       "    });\n",
       "\n",
       "    canvas_div.append(canvas);\n",
       "    canvas_div.append(rubberband);\n",
       "\n",
       "    this.rubberband = rubberband;\n",
       "    this.rubberband_canvas = rubberband[0];\n",
       "    this.rubberband_context = rubberband[0].getContext(\"2d\");\n",
       "    this.rubberband_context.strokeStyle = \"#000000\";\n",
       "\n",
       "    this._resize_canvas = function(width, height) {\n",
       "        // Keep the size of the canvas, canvas container, and rubber band\n",
       "        // canvas in synch.\n",
       "        canvas_div.css('width', width)\n",
       "        canvas_div.css('height', height)\n",
       "\n",
       "        canvas.attr('width', width * mpl.ratio);\n",
       "        canvas.attr('height', height * mpl.ratio);\n",
       "        canvas.attr('style', 'width: ' + width + 'px; height: ' + height + 'px;');\n",
       "\n",
       "        rubberband.attr('width', width);\n",
       "        rubberband.attr('height', height);\n",
       "    }\n",
       "\n",
       "    // Set the figure to an initial 600x600px, this will subsequently be updated\n",
       "    // upon first draw.\n",
       "    this._resize_canvas(600, 600);\n",
       "\n",
       "    // Disable right mouse context menu.\n",
       "    $(this.rubberband_canvas).bind(\"contextmenu\",function(e){\n",
       "        return false;\n",
       "    });\n",
       "\n",
       "    function set_focus () {\n",
       "        canvas.focus();\n",
       "        canvas_div.focus();\n",
       "    }\n",
       "\n",
       "    window.setTimeout(set_focus, 100);\n",
       "}\n",
       "\n",
       "mpl.figure.prototype._init_toolbar = function() {\n",
       "    var fig = this;\n",
       "\n",
       "    var nav_element = $('<div/>')\n",
       "    nav_element.attr('style', 'width: 100%');\n",
       "    this.root.append(nav_element);\n",
       "\n",
       "    // Define a callback function for later on.\n",
       "    function toolbar_event(event) {\n",
       "        return fig.toolbar_button_onclick(event['data']);\n",
       "    }\n",
       "    function toolbar_mouse_event(event) {\n",
       "        return fig.toolbar_button_onmouseover(event['data']);\n",
       "    }\n",
       "\n",
       "    for(var toolbar_ind in mpl.toolbar_items) {\n",
       "        var name = mpl.toolbar_items[toolbar_ind][0];\n",
       "        var tooltip = mpl.toolbar_items[toolbar_ind][1];\n",
       "        var image = mpl.toolbar_items[toolbar_ind][2];\n",
       "        var method_name = mpl.toolbar_items[toolbar_ind][3];\n",
       "\n",
       "        if (!name) {\n",
       "            // put a spacer in here.\n",
       "            continue;\n",
       "        }\n",
       "        var button = $('<button/>');\n",
       "        button.addClass('ui-button ui-widget ui-state-default ui-corner-all ' +\n",
       "                        'ui-button-icon-only');\n",
       "        button.attr('role', 'button');\n",
       "        button.attr('aria-disabled', 'false');\n",
       "        button.click(method_name, toolbar_event);\n",
       "        button.mouseover(tooltip, toolbar_mouse_event);\n",
       "\n",
       "        var icon_img = $('<span/>');\n",
       "        icon_img.addClass('ui-button-icon-primary ui-icon');\n",
       "        icon_img.addClass(image);\n",
       "        icon_img.addClass('ui-corner-all');\n",
       "\n",
       "        var tooltip_span = $('<span/>');\n",
       "        tooltip_span.addClass('ui-button-text');\n",
       "        tooltip_span.html(tooltip);\n",
       "\n",
       "        button.append(icon_img);\n",
       "        button.append(tooltip_span);\n",
       "\n",
       "        nav_element.append(button);\n",
       "    }\n",
       "\n",
       "    var fmt_picker_span = $('<span/>');\n",
       "\n",
       "    var fmt_picker = $('<select/>');\n",
       "    fmt_picker.addClass('mpl-toolbar-option ui-widget ui-widget-content');\n",
       "    fmt_picker_span.append(fmt_picker);\n",
       "    nav_element.append(fmt_picker_span);\n",
       "    this.format_dropdown = fmt_picker[0];\n",
       "\n",
       "    for (var ind in mpl.extensions) {\n",
       "        var fmt = mpl.extensions[ind];\n",
       "        var option = $(\n",
       "            '<option/>', {selected: fmt === mpl.default_extension}).html(fmt);\n",
       "        fmt_picker.append(option)\n",
       "    }\n",
       "\n",
       "    // Add hover states to the ui-buttons\n",
       "    $( \".ui-button\" ).hover(\n",
       "        function() { $(this).addClass(\"ui-state-hover\");},\n",
       "        function() { $(this).removeClass(\"ui-state-hover\");}\n",
       "    );\n",
       "\n",
       "    var status_bar = $('<span class=\"mpl-message\"/>');\n",
       "    nav_element.append(status_bar);\n",
       "    this.message = status_bar[0];\n",
       "}\n",
       "\n",
       "mpl.figure.prototype.request_resize = function(x_pixels, y_pixels) {\n",
       "    // Request matplotlib to resize the figure. Matplotlib will then trigger a resize in the client,\n",
       "    // which will in turn request a refresh of the image.\n",
       "    this.send_message('resize', {'width': x_pixels, 'height': y_pixels});\n",
       "}\n",
       "\n",
       "mpl.figure.prototype.send_message = function(type, properties) {\n",
       "    properties['type'] = type;\n",
       "    properties['figure_id'] = this.id;\n",
       "    this.ws.send(JSON.stringify(properties));\n",
       "}\n",
       "\n",
       "mpl.figure.prototype.send_draw_message = function() {\n",
       "    if (!this.waiting) {\n",
       "        this.waiting = true;\n",
       "        this.ws.send(JSON.stringify({type: \"draw\", figure_id: this.id}));\n",
       "    }\n",
       "}\n",
       "\n",
       "\n",
       "mpl.figure.prototype.handle_save = function(fig, msg) {\n",
       "    var format_dropdown = fig.format_dropdown;\n",
       "    var format = format_dropdown.options[format_dropdown.selectedIndex].value;\n",
       "    fig.ondownload(fig, format);\n",
       "}\n",
       "\n",
       "\n",
       "mpl.figure.prototype.handle_resize = function(fig, msg) {\n",
       "    var size = msg['size'];\n",
       "    if (size[0] != fig.canvas.width || size[1] != fig.canvas.height) {\n",
       "        fig._resize_canvas(size[0], size[1]);\n",
       "        fig.send_message(\"refresh\", {});\n",
       "    };\n",
       "}\n",
       "\n",
       "mpl.figure.prototype.handle_rubberband = function(fig, msg) {\n",
       "    var x0 = msg['x0'] / mpl.ratio;\n",
       "    var y0 = (fig.canvas.height - msg['y0']) / mpl.ratio;\n",
       "    var x1 = msg['x1'] / mpl.ratio;\n",
       "    var y1 = (fig.canvas.height - msg['y1']) / mpl.ratio;\n",
       "    x0 = Math.floor(x0) + 0.5;\n",
       "    y0 = Math.floor(y0) + 0.5;\n",
       "    x1 = Math.floor(x1) + 0.5;\n",
       "    y1 = Math.floor(y1) + 0.5;\n",
       "    var min_x = Math.min(x0, x1);\n",
       "    var min_y = Math.min(y0, y1);\n",
       "    var width = Math.abs(x1 - x0);\n",
       "    var height = Math.abs(y1 - y0);\n",
       "\n",
       "    fig.rubberband_context.clearRect(\n",
       "        0, 0, fig.canvas.width, fig.canvas.height);\n",
       "\n",
       "    fig.rubberband_context.strokeRect(min_x, min_y, width, height);\n",
       "}\n",
       "\n",
       "mpl.figure.prototype.handle_figure_label = function(fig, msg) {\n",
       "    // Updates the figure title.\n",
       "    fig.header.textContent = msg['label'];\n",
       "}\n",
       "\n",
       "mpl.figure.prototype.handle_cursor = function(fig, msg) {\n",
       "    var cursor = msg['cursor'];\n",
       "    switch(cursor)\n",
       "    {\n",
       "    case 0:\n",
       "        cursor = 'pointer';\n",
       "        break;\n",
       "    case 1:\n",
       "        cursor = 'default';\n",
       "        break;\n",
       "    case 2:\n",
       "        cursor = 'crosshair';\n",
       "        break;\n",
       "    case 3:\n",
       "        cursor = 'move';\n",
       "        break;\n",
       "    }\n",
       "    fig.rubberband_canvas.style.cursor = cursor;\n",
       "}\n",
       "\n",
       "mpl.figure.prototype.handle_message = function(fig, msg) {\n",
       "    fig.message.textContent = msg['message'];\n",
       "}\n",
       "\n",
       "mpl.figure.prototype.handle_draw = function(fig, msg) {\n",
       "    // Request the server to send over a new figure.\n",
       "    fig.send_draw_message();\n",
       "}\n",
       "\n",
       "mpl.figure.prototype.handle_image_mode = function(fig, msg) {\n",
       "    fig.image_mode = msg['mode'];\n",
       "}\n",
       "\n",
       "mpl.figure.prototype.updated_canvas_event = function() {\n",
       "    // Called whenever the canvas gets updated.\n",
       "    this.send_message(\"ack\", {});\n",
       "}\n",
       "\n",
       "// A function to construct a web socket function for onmessage handling.\n",
       "// Called in the figure constructor.\n",
       "mpl.figure.prototype._make_on_message_function = function(fig) {\n",
       "    return function socket_on_message(evt) {\n",
       "        if (evt.data instanceof Blob) {\n",
       "            /* FIXME: We get \"Resource interpreted as Image but\n",
       "             * transferred with MIME type text/plain:\" errors on\n",
       "             * Chrome.  But how to set the MIME type?  It doesn't seem\n",
       "             * to be part of the websocket stream */\n",
       "            evt.data.type = \"image/png\";\n",
       "\n",
       "            /* Free the memory for the previous frames */\n",
       "            if (fig.imageObj.src) {\n",
       "                (window.URL || window.webkitURL).revokeObjectURL(\n",
       "                    fig.imageObj.src);\n",
       "            }\n",
       "\n",
       "            fig.imageObj.src = (window.URL || window.webkitURL).createObjectURL(\n",
       "                evt.data);\n",
       "            fig.updated_canvas_event();\n",
       "            fig.waiting = false;\n",
       "            return;\n",
       "        }\n",
       "        else if (typeof evt.data === 'string' && evt.data.slice(0, 21) == \"data:image/png;base64\") {\n",
       "            fig.imageObj.src = evt.data;\n",
       "            fig.updated_canvas_event();\n",
       "            fig.waiting = false;\n",
       "            return;\n",
       "        }\n",
       "\n",
       "        var msg = JSON.parse(evt.data);\n",
       "        var msg_type = msg['type'];\n",
       "\n",
       "        // Call the  \"handle_{type}\" callback, which takes\n",
       "        // the figure and JSON message as its only arguments.\n",
       "        try {\n",
       "            var callback = fig[\"handle_\" + msg_type];\n",
       "        } catch (e) {\n",
       "            console.log(\"No handler for the '\" + msg_type + \"' message type: \", msg);\n",
       "            return;\n",
       "        }\n",
       "\n",
       "        if (callback) {\n",
       "            try {\n",
       "                // console.log(\"Handling '\" + msg_type + \"' message: \", msg);\n",
       "                callback(fig, msg);\n",
       "            } catch (e) {\n",
       "                console.log(\"Exception inside the 'handler_\" + msg_type + \"' callback:\", e, e.stack, msg);\n",
       "            }\n",
       "        }\n",
       "    };\n",
       "}\n",
       "\n",
       "// from http://stackoverflow.com/questions/1114465/getting-mouse-location-in-canvas\n",
       "mpl.findpos = function(e) {\n",
       "    //this section is from http://www.quirksmode.org/js/events_properties.html\n",
       "    var targ;\n",
       "    if (!e)\n",
       "        e = window.event;\n",
       "    if (e.target)\n",
       "        targ = e.target;\n",
       "    else if (e.srcElement)\n",
       "        targ = e.srcElement;\n",
       "    if (targ.nodeType == 3) // defeat Safari bug\n",
       "        targ = targ.parentNode;\n",
       "\n",
       "    // jQuery normalizes the pageX and pageY\n",
       "    // pageX,Y are the mouse positions relative to the document\n",
       "    // offset() returns the position of the element relative to the document\n",
       "    var x = e.pageX - $(targ).offset().left;\n",
       "    var y = e.pageY - $(targ).offset().top;\n",
       "\n",
       "    return {\"x\": x, \"y\": y};\n",
       "};\n",
       "\n",
       "/*\n",
       " * return a copy of an object with only non-object keys\n",
       " * we need this to avoid circular references\n",
       " * http://stackoverflow.com/a/24161582/3208463\n",
       " */\n",
       "function simpleKeys (original) {\n",
       "  return Object.keys(original).reduce(function (obj, key) {\n",
       "    if (typeof original[key] !== 'object')\n",
       "        obj[key] = original[key]\n",
       "    return obj;\n",
       "  }, {});\n",
       "}\n",
       "\n",
       "mpl.figure.prototype.mouse_event = function(event, name) {\n",
       "    var canvas_pos = mpl.findpos(event)\n",
       "\n",
       "    if (name === 'button_press')\n",
       "    {\n",
       "        this.canvas.focus();\n",
       "        this.canvas_div.focus();\n",
       "    }\n",
       "\n",
       "    var x = canvas_pos.x * mpl.ratio;\n",
       "    var y = canvas_pos.y * mpl.ratio;\n",
       "\n",
       "    this.send_message(name, {x: x, y: y, button: event.button,\n",
       "                             step: event.step,\n",
       "                             guiEvent: simpleKeys(event)});\n",
       "\n",
       "    /* This prevents the web browser from automatically changing to\n",
       "     * the text insertion cursor when the button is pressed.  We want\n",
       "     * to control all of the cursor setting manually through the\n",
       "     * 'cursor' event from matplotlib */\n",
       "    event.preventDefault();\n",
       "    return false;\n",
       "}\n",
       "\n",
       "mpl.figure.prototype._key_event_extra = function(event, name) {\n",
       "    // Handle any extra behaviour associated with a key event\n",
       "}\n",
       "\n",
       "mpl.figure.prototype.key_event = function(event, name) {\n",
       "\n",
       "    // Prevent repeat events\n",
       "    if (name == 'key_press')\n",
       "    {\n",
       "        if (event.which === this._key)\n",
       "            return;\n",
       "        else\n",
       "            this._key = event.which;\n",
       "    }\n",
       "    if (name == 'key_release')\n",
       "        this._key = null;\n",
       "\n",
       "    var value = '';\n",
       "    if (event.ctrlKey && event.which != 17)\n",
       "        value += \"ctrl+\";\n",
       "    if (event.altKey && event.which != 18)\n",
       "        value += \"alt+\";\n",
       "    if (event.shiftKey && event.which != 16)\n",
       "        value += \"shift+\";\n",
       "\n",
       "    value += 'k';\n",
       "    value += event.which.toString();\n",
       "\n",
       "    this._key_event_extra(event, name);\n",
       "\n",
       "    this.send_message(name, {key: value,\n",
       "                             guiEvent: simpleKeys(event)});\n",
       "    return false;\n",
       "}\n",
       "\n",
       "mpl.figure.prototype.toolbar_button_onclick = function(name) {\n",
       "    if (name == 'download') {\n",
       "        this.handle_save(this, null);\n",
       "    } else {\n",
       "        this.send_message(\"toolbar_button\", {name: name});\n",
       "    }\n",
       "};\n",
       "\n",
       "mpl.figure.prototype.toolbar_button_onmouseover = function(tooltip) {\n",
       "    this.message.textContent = tooltip;\n",
       "};\n",
       "mpl.toolbar_items = [[\"Home\", \"Reset original view\", \"fa fa-home icon-home\", \"home\"], [\"Back\", \"Back to  previous view\", \"fa fa-arrow-left icon-arrow-left\", \"back\"], [\"Forward\", \"Forward to next view\", \"fa fa-arrow-right icon-arrow-right\", \"forward\"], [\"\", \"\", \"\", \"\"], [\"Pan\", \"Pan axes with left mouse, zoom with right\", \"fa fa-arrows icon-move\", \"pan\"], [\"Zoom\", \"Zoom to rectangle\", \"fa fa-square-o icon-check-empty\", \"zoom\"], [\"\", \"\", \"\", \"\"], [\"Download\", \"Download plot\", \"fa fa-floppy-o icon-save\", \"download\"]];\n",
       "\n",
       "mpl.extensions = [\"eps\", \"jpeg\", \"pdf\", \"png\", \"ps\", \"raw\", \"svg\", \"tif\"];\n",
       "\n",
       "mpl.default_extension = \"png\";var comm_websocket_adapter = function(comm) {\n",
       "    // Create a \"websocket\"-like object which calls the given IPython comm\n",
       "    // object with the appropriate methods. Currently this is a non binary\n",
       "    // socket, so there is still some room for performance tuning.\n",
       "    var ws = {};\n",
       "\n",
       "    ws.close = function() {\n",
       "        comm.close()\n",
       "    };\n",
       "    ws.send = function(m) {\n",
       "        //console.log('sending', m);\n",
       "        comm.send(m);\n",
       "    };\n",
       "    // Register the callback with on_msg.\n",
       "    comm.on_msg(function(msg) {\n",
       "        //console.log('receiving', msg['content']['data'], msg);\n",
       "        // Pass the mpl event to the overriden (by mpl) onmessage function.\n",
       "        ws.onmessage(msg['content']['data'])\n",
       "    });\n",
       "    return ws;\n",
       "}\n",
       "\n",
       "mpl.mpl_figure_comm = function(comm, msg) {\n",
       "    // This is the function which gets called when the mpl process\n",
       "    // starts-up an IPython Comm through the \"matplotlib\" channel.\n",
       "\n",
       "    var id = msg.content.data.id;\n",
       "    // Get hold of the div created by the display call when the Comm\n",
       "    // socket was opened in Python.\n",
       "    var element = $(\"#\" + id);\n",
       "    var ws_proxy = comm_websocket_adapter(comm)\n",
       "\n",
       "    function ondownload(figure, format) {\n",
       "        window.open(figure.imageObj.src);\n",
       "    }\n",
       "\n",
       "    var fig = new mpl.figure(id, ws_proxy,\n",
       "                           ondownload,\n",
       "                           element.get(0));\n",
       "\n",
       "    // Call onopen now - mpl needs it, as it is assuming we've passed it a real\n",
       "    // web socket which is closed, not our websocket->open comm proxy.\n",
       "    ws_proxy.onopen();\n",
       "\n",
       "    fig.parent_element = element.get(0);\n",
       "    fig.cell_info = mpl.find_output_cell(\"<div id='\" + id + \"'></div>\");\n",
       "    if (!fig.cell_info) {\n",
       "        console.error(\"Failed to find cell for figure\", id, fig);\n",
       "        return;\n",
       "    }\n",
       "\n",
       "    var output_index = fig.cell_info[2]\n",
       "    var cell = fig.cell_info[0];\n",
       "\n",
       "};\n",
       "\n",
       "mpl.figure.prototype.handle_close = function(fig, msg) {\n",
       "    var width = fig.canvas.width/mpl.ratio\n",
       "    fig.root.unbind('remove')\n",
       "\n",
       "    // Update the output cell to use the data from the current canvas.\n",
       "    fig.push_to_output();\n",
       "    var dataURL = fig.canvas.toDataURL();\n",
       "    // Re-enable the keyboard manager in IPython - without this line, in FF,\n",
       "    // the notebook keyboard shortcuts fail.\n",
       "    IPython.keyboard_manager.enable()\n",
       "    $(fig.parent_element).html('<img src=\"' + dataURL + '\" width=\"' + width + '\">');\n",
       "    fig.close_ws(fig, msg);\n",
       "}\n",
       "\n",
       "mpl.figure.prototype.close_ws = function(fig, msg){\n",
       "    fig.send_message('closing', msg);\n",
       "    // fig.ws.close()\n",
       "}\n",
       "\n",
       "mpl.figure.prototype.push_to_output = function(remove_interactive) {\n",
       "    // Turn the data on the canvas into data in the output cell.\n",
       "    var width = this.canvas.width/mpl.ratio\n",
       "    var dataURL = this.canvas.toDataURL();\n",
       "    this.cell_info[1]['text/html'] = '<img src=\"' + dataURL + '\" width=\"' + width + '\">';\n",
       "}\n",
       "\n",
       "mpl.figure.prototype.updated_canvas_event = function() {\n",
       "    // Tell IPython that the notebook contents must change.\n",
       "    IPython.notebook.set_dirty(true);\n",
       "    this.send_message(\"ack\", {});\n",
       "    var fig = this;\n",
       "    // Wait a second, then push the new image to the DOM so\n",
       "    // that it is saved nicely (might be nice to debounce this).\n",
       "    setTimeout(function () { fig.push_to_output() }, 1000);\n",
       "}\n",
       "\n",
       "mpl.figure.prototype._init_toolbar = function() {\n",
       "    var fig = this;\n",
       "\n",
       "    var nav_element = $('<div/>')\n",
       "    nav_element.attr('style', 'width: 100%');\n",
       "    this.root.append(nav_element);\n",
       "\n",
       "    // Define a callback function for later on.\n",
       "    function toolbar_event(event) {\n",
       "        return fig.toolbar_button_onclick(event['data']);\n",
       "    }\n",
       "    function toolbar_mouse_event(event) {\n",
       "        return fig.toolbar_button_onmouseover(event['data']);\n",
       "    }\n",
       "\n",
       "    for(var toolbar_ind in mpl.toolbar_items){\n",
       "        var name = mpl.toolbar_items[toolbar_ind][0];\n",
       "        var tooltip = mpl.toolbar_items[toolbar_ind][1];\n",
       "        var image = mpl.toolbar_items[toolbar_ind][2];\n",
       "        var method_name = mpl.toolbar_items[toolbar_ind][3];\n",
       "\n",
       "        if (!name) { continue; };\n",
       "\n",
       "        var button = $('<button class=\"btn btn-default\" href=\"#\" title=\"' + name + '\"><i class=\"fa ' + image + ' fa-lg\"></i></button>');\n",
       "        button.click(method_name, toolbar_event);\n",
       "        button.mouseover(tooltip, toolbar_mouse_event);\n",
       "        nav_element.append(button);\n",
       "    }\n",
       "\n",
       "    // Add the status bar.\n",
       "    var status_bar = $('<span class=\"mpl-message\" style=\"text-align:right; float: right;\"/>');\n",
       "    nav_element.append(status_bar);\n",
       "    this.message = status_bar[0];\n",
       "\n",
       "    // Add the close button to the window.\n",
       "    var buttongrp = $('<div class=\"btn-group inline pull-right\"></div>');\n",
       "    var button = $('<button class=\"btn btn-mini btn-primary\" href=\"#\" title=\"Stop Interaction\"><i class=\"fa fa-power-off icon-remove icon-large\"></i></button>');\n",
       "    button.click(function (evt) { fig.handle_close(fig, {}); } );\n",
       "    button.mouseover('Stop Interaction', toolbar_mouse_event);\n",
       "    buttongrp.append(button);\n",
       "    var titlebar = this.root.find($('.ui-dialog-titlebar'));\n",
       "    titlebar.prepend(buttongrp);\n",
       "}\n",
       "\n",
       "mpl.figure.prototype._root_extra_style = function(el){\n",
       "    var fig = this\n",
       "    el.on(\"remove\", function(){\n",
       "\tfig.close_ws(fig, {});\n",
       "    });\n",
       "}\n",
       "\n",
       "mpl.figure.prototype._canvas_extra_style = function(el){\n",
       "    // this is important to make the div 'focusable\n",
       "    el.attr('tabindex', 0)\n",
       "    // reach out to IPython and tell the keyboard manager to turn it's self\n",
       "    // off when our div gets focus\n",
       "\n",
       "    // location in version 3\n",
       "    if (IPython.notebook.keyboard_manager) {\n",
       "        IPython.notebook.keyboard_manager.register_events(el);\n",
       "    }\n",
       "    else {\n",
       "        // location in version 2\n",
       "        IPython.keyboard_manager.register_events(el);\n",
       "    }\n",
       "\n",
       "}\n",
       "\n",
       "mpl.figure.prototype._key_event_extra = function(event, name) {\n",
       "    var manager = IPython.notebook.keyboard_manager;\n",
       "    if (!manager)\n",
       "        manager = IPython.keyboard_manager;\n",
       "\n",
       "    // Check for shift+enter\n",
       "    if (event.shiftKey && event.which == 13) {\n",
       "        this.canvas_div.blur();\n",
       "        event.shiftKey = false;\n",
       "        // Send a \"J\" for go to next cell\n",
       "        event.which = 74;\n",
       "        event.keyCode = 74;\n",
       "        manager.command_mode();\n",
       "        manager.handle_keydown(event);\n",
       "    }\n",
       "}\n",
       "\n",
       "mpl.figure.prototype.handle_save = function(fig, msg) {\n",
       "    fig.ondownload(fig, null);\n",
       "}\n",
       "\n",
       "\n",
       "mpl.find_output_cell = function(html_output) {\n",
       "    // Return the cell and output element which can be found *uniquely* in the notebook.\n",
       "    // Note - this is a bit hacky, but it is done because the \"notebook_saving.Notebook\"\n",
       "    // IPython event is triggered only after the cells have been serialised, which for\n",
       "    // our purposes (turning an active figure into a static one), is too late.\n",
       "    var cells = IPython.notebook.get_cells();\n",
       "    var ncells = cells.length;\n",
       "    for (var i=0; i<ncells; i++) {\n",
       "        var cell = cells[i];\n",
       "        if (cell.cell_type === 'code'){\n",
       "            for (var j=0; j<cell.output_area.outputs.length; j++) {\n",
       "                var data = cell.output_area.outputs[j];\n",
       "                if (data.data) {\n",
       "                    // IPython >= 3 moved mimebundle to data attribute of output\n",
       "                    data = data.data;\n",
       "                }\n",
       "                if (data['text/html'] == html_output) {\n",
       "                    return [cell, data, j];\n",
       "                }\n",
       "            }\n",
       "        }\n",
       "    }\n",
       "}\n",
       "\n",
       "// Register the function which deals with the matplotlib target/channel.\n",
       "// The kernel may be null if the page has been refreshed.\n",
       "if (IPython.notebook.kernel != null) {\n",
       "    IPython.notebook.kernel.comm_manager.register_target('matplotlib', mpl.mpl_figure_comm);\n",
       "}\n"
      ],
      "text/plain": [
       "<IPython.core.display.Javascript object>"
      ]
     },
     "metadata": {},
     "output_type": "display_data"
    },
    {
     "data": {
      "text/html": [
       "<img src=\"data:image/png;base64,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\" width=\"719.2307956119976\">"
      ],
      "text/plain": [
       "<IPython.core.display.HTML object>"
      ]
     },
     "metadata": {},
     "output_type": "display_data"
    }
   ],
   "source": [
    "fig_index = 1\n",
    "num_of_bins = 10\n",
    "fig = plt.figure(fig_index, figsize=(10, 10))\n",
    "ax1 = plt.subplot2grid((3, 1), (0, 0), rowspan=2)\n",
    "ax2 = plt.subplot2grid((3, 1), (2, 0))\n",
    "\n",
    "ax1.plot([0, 1], [0, 1], \"k:\", label=\"Perfectly calibrated\")\n",
    "ax2.hist(truth_clear.values.ravel(), color='k', linestyle=':', range=(0, 1), bins=num_of_bins, label=\"Perfectly calibrated\",\n",
    "         histtype=\"step\", lw=2)\n",
    "for forecast, name in [(ow_15_clear, 'ow_15'),\n",
    "                       (ow_15_wp3_clear, 'ow_15_wp3'),\n",
    "                       (persistence_dist_clear, 'persistence_dist'),\n",
    "                       (persistence_clear, 'persistence')]:\n",
    "    \n",
    "    fraction_of_positives, mean_predicted_value = \\\n",
    "        calibration_curve(truth_clear.values.ravel(),\n",
    "                          forecast.values.ravel(), n_bins=num_of_bins)\n",
    "\n",
    "    ax1.plot(mean_predicted_value, fraction_of_positives, \"s-\",\n",
    "             label=f'{name}')\n",
    "    ax2.hist(forecast.values.ravel(), range=(0, 1), bins=num_of_bins, label=name,\n",
    "             histtype=\"step\", lw=2, linestyle='--')\n",
    "\n",
    "\n",
    "ax1.set_ylabel(\"P(o|y)\")\n",
    "ax1.set_ylim([-0.05, 1.05])\n",
    "ax1.legend(loc=\"lower right\")\n",
    "ax1.set_title('Reliability curve for clearsky forecast')\n",
    "\n",
    "ax2.set_xlabel(\"P(y)\")\n",
    "ax2.set_ylabel(\"Count\")\n",
    "ax2.legend(loc=\"upper center\", ncol=2)\n",
    "\n",
    "plt.tight_layout()"
   ]
  }
 ],
 "metadata": {
  "kernelspec": {
   "display_name": "Python 3",
   "language": "python",
   "name": "python3"
  },
  "language_info": {
   "codemirror_mode": {
    "name": "ipython",
    "version": 3
   },
   "file_extension": ".py",
   "mimetype": "text/x-python",
   "name": "python",
   "nbconvert_exporter": "python",
   "pygments_lexer": "ipython3",
   "version": "3.6.2"
  }
 },
 "nbformat": 4,
 "nbformat_minor": 2
}
