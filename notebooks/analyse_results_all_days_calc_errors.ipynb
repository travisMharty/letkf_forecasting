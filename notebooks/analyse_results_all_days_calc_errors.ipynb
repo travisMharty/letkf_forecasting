{
 "cells": [
  {
   "cell_type": "code",
   "execution_count": 46,
   "metadata": {},
   "outputs": [],
   "source": [
    "# import ocw.plotter as oplt\n",
    "import importlib\n",
    "import datetime\n",
    "import os\n",
    "import pandas as pd\n",
    "import numpy as np\n",
    "import matplotlib.pyplot as plt\n",
    "import xarray as xr\n",
    "from letkf_forecasting import analyse_results, letkf_io\n",
    "# import seaborn as sns\n",
    "# cpal = sns.color_palette()\n",
    "# sns.set_style('whitegrid')\n",
    "# sns.set_context('paper', font_scale=1.0,\n",
    "#                 rc={'lines.linewidth':1.0,\n",
    "#                     'lines.markersize':7})"
   ]
  },
  {
   "cell_type": "code",
   "execution_count": 47,
   "metadata": {
    "scrolled": true
   },
   "outputs": [
    {
     "name": "stdout",
     "output_type": "stream",
     "text": [
      "opt_flow_with_div\n"
     ]
    },
    {
     "name": "stderr",
     "output_type": "stream",
     "text": [
      "/home/travis/miniconda3/envs/letkf/lib/python3.6/site-packages/dask/core.py:306: FutureWarning: elementwise comparison failed; returning scalar instead, but in the future will perform elementwise comparison\n",
      "  elif type_arg is type(key) and arg == key:\n",
      "/home/travis/miniconda3/envs/letkf/lib/python3.6/site-packages/dask/core.py:306: FutureWarning: elementwise comparison failed; returning scalar instead, but in the future will perform elementwise comparison\n",
      "  elif type_arg is type(key) and arg == key:\n",
      "/home/travis/miniconda3/envs/letkf/lib/python3.6/site-packages/dask/core.py:306: FutureWarning: elementwise comparison failed; returning scalar instead, but in the future will perform elementwise comparison\n",
      "  elif type_arg is type(key) and arg == key:\n",
      "/home/travis/miniconda3/envs/letkf/lib/python3.6/site-packages/dask/core.py:306: FutureWarning: elementwise comparison failed; returning scalar instead, but in the future will perform elementwise comparison\n",
      "  elif type_arg is type(key) and arg == key:\n",
      "/home/travis/miniconda3/envs/letkf/lib/python3.6/site-packages/dask/core.py:306: FutureWarning: elementwise comparison failed; returning scalar instead, but in the future will perform elementwise comparison\n",
      "  elif type_arg is type(key) and arg == key:\n",
      "/home/travis/miniconda3/envs/letkf/lib/python3.6/site-packages/dask/core.py:306: FutureWarning: elementwise comparison failed; returning scalar instead, but in the future will perform elementwise comparison\n",
      "  elif type_arg is type(key) and arg == key:\n",
      "/home/travis/miniconda3/envs/letkf/lib/python3.6/site-packages/dask/core.py:306: FutureWarning: elementwise comparison failed; returning scalar instead, but in the future will perform elementwise comparison\n",
      "  elif type_arg is type(key) and arg == key:\n",
      "/home/travis/miniconda3/envs/letkf/lib/python3.6/site-packages/dask/core.py:306: FutureWarning: elementwise comparison failed; returning scalar instead, but in the future will perform elementwise comparison\n",
      "  elif type_arg is type(key) and arg == key:\n",
      "/home/travis/miniconda3/envs/letkf/lib/python3.6/site-packages/dask/core.py:306: FutureWarning: elementwise comparison failed; returning scalar instead, but in the future will perform elementwise comparison\n",
      "  elif type_arg is type(key) and arg == key:\n",
      "/home/travis/miniconda3/envs/letkf/lib/python3.6/site-packages/dask/core.py:306: FutureWarning: elementwise comparison failed; returning scalar instead, but in the future will perform elementwise comparison\n",
      "  elif type_arg is type(key) and arg == key:\n",
      "/home/travis/miniconda3/envs/letkf/lib/python3.6/site-packages/dask/core.py:306: FutureWarning: elementwise comparison failed; returning scalar instead, but in the future will perform elementwise comparison\n",
      "  elif type_arg is type(key) and arg == key:\n",
      "/home/travis/miniconda3/envs/letkf/lib/python3.6/site-packages/dask/core.py:306: FutureWarning: elementwise comparison failed; returning scalar instead, but in the future will perform elementwise comparison\n",
      "  elif type_arg is type(key) and arg == key:\n"
     ]
    }
   ],
   "source": [
    "importlib.reload(analyse_results)\n",
    "importlib.reload(letkf_io)\n",
    "# month_day = [[4, 9],  [4, 15], [4, 18],\n",
    "#              [5, 6],  [5, 9],  [5, 29],\n",
    "#              [6, 11], [6, 12]]\n",
    "# month_day = [[4 2], [4 5],  [4 19],\n",
    "#              [5 7], [5 8],  [5 19],\n",
    "#              [6 3], [6 10], [6 14],\n",
    "#              [6 15]]\n",
    "# month_day = [[4, 9],  [4, 15], [4, 18],\n",
    "#              [5, 6],  [5, 9],  [5, 29],\n",
    "#              [6, 11], [6, 12],\n",
    "#              [4, 2],  [4, 5],  [4, 19],\n",
    "#              [5, 7],  [5, 8],  [5, 19],\n",
    "#              [6, 3],  [6, 10], [6, 14],\n",
    "#              [6, 15]]\n",
    "month_day = [[4, 9],  [4, 15], [4, 18],\n",
    "             [5, 6],  [5, 9],  [5, 29],\n",
    "             [6, 11], [6, 12],\n",
    "             [4, 2],  [4, 5],  [4, 19],\n",
    "             [5, 7],  [5, 8],  [5, 19],\n",
    "             [6, 3],  [6, 10], [6, 14],\n",
    "             [6, 15],\n",
    "             [4, 10], [4, 11], [4, 12],\n",
    "             [4, 20], [4, 21], [4, 22],\n",
    "             [4, 25], [4, 26], [5, 5],\n",
    "             [5, 20], [5, 21], [5, 22],\n",
    "             [5, 23], [5, 24], [5, 25],\n",
    "             [5, 30], [6, 16], [6, 17],\n",
    "             [6, 18], [6, 19], [6, 22]]\n",
    "\n",
    "dates = []\n",
    "for ii in range(len(month_day)):\n",
    "    dates.append(datetime.date(2014, month_day[ii][0], month_day[ii][1]))\n",
    "base_folder = '/a2/uaren/travis'\n",
    "# runs = ['persistence', 'radiosonde', 'opt_flow',\n",
    "#         'wrf', 'wrf_no_div', 'ow_15', 'owp_opt']\n",
    "\n",
    "runs = ['opt_flow_with_div']\n",
    "\n",
    "horizons = [15, 30, 45, 60]\n",
    "only_cloudy = False\n",
    "mean_win_size = None\n",
    "only_of_times = True\n",
    "error_stats_full = analyse_results.error_stats_many_days(\n",
    "    dates, runs, horizons, base_folder,\n",
    "    only_cloudy=only_cloudy, only_of_times=only_of_times,\n",
    "    mean_win_size=mean_win_size\n",
    ")"
   ]
  },
  {
   "cell_type": "code",
   "execution_count": 48,
   "metadata": {
    "scrolled": true
   },
   "outputs": [],
   "source": [
    "if only_cloudy:\n",
    "    directory_name = 'third_set_only_cloudy'\n",
    "else:\n",
    "    directory_name = 'third_set'\n",
    "for error_stats in error_stats_full:\n",
    "    run_name = error_stats['name']\n",
    "    save_directory = ('/a2/uaren/travis/'\n",
    "        + f'results/multi_day_error/{directory_name}/{run_name}')\n",
    "    if not os.path.exists(save_directory):\n",
    "        os.makedirs(save_directory)\n",
    "    for error_stat in error_stats:\n",
    "        if error_stat == 'name':\n",
    "            continue\n",
    "        this_dir = os.path.join(\n",
    "            save_directory,\n",
    "            error_stat + '.h5')\n",
    "        error_stats[error_stat].to_hdf(this_dir, error_stat)"
   ]
  },
  {
   "cell_type": "markdown",
   "metadata": {},
   "source": [
    "# Checking dates"
   ]
  },
  {
   "cell_type": "code",
   "execution_count": 49,
   "metadata": {},
   "outputs": [],
   "source": [
    "import glob\n",
    "import os"
   ]
  },
  {
   "cell_type": "code",
   "execution_count": 50,
   "metadata": {
    "scrolled": true
   },
   "outputs": [
    {
     "name": "stdout",
     "output_type": "stream",
     "text": [
      "persistence\n",
      "     true_sd\n",
      "0   0.222200\n",
      "15  0.221953\n",
      "30  0.222176\n",
      "45  0.222086\n",
      "60  0.221167\n",
      "radiosonde\n",
      "     true_sd\n",
      "15  0.221953\n",
      "30  0.222176\n",
      "45  0.222086\n",
      "60  0.221167\n",
      "wrf\n",
      "     true_sd\n",
      "0   0.222200\n",
      "15  0.221953\n",
      "30  0.222176\n",
      "45  0.222086\n",
      "60  0.221167\n",
      "wrf_no_div\n",
      "     true_sd\n",
      "0   0.222200\n",
      "15  0.221953\n",
      "30  0.222176\n",
      "45  0.222086\n",
      "60  0.221167\n",
      "ow_15\n",
      "     true_sd\n",
      "0   0.222200\n",
      "15  0.221953\n",
      "30  0.222176\n",
      "45  0.222086\n",
      "60  0.221167\n",
      "owp_opt\n",
      "     true_sd\n",
      "0   0.222200\n",
      "15  0.221953\n",
      "30  0.222176\n",
      "45  0.222086\n",
      "60  0.221167\n",
      "opt_flow\n",
      "     true_sd\n",
      "0   0.222200\n",
      "15  0.221953\n",
      "30  0.222176\n",
      "45  0.222086\n",
      "60  0.221167\n",
      "wrf_mean\n",
      "     true_sd\n",
      "15  0.221953\n",
      "30  0.222176\n",
      "45  0.222086\n",
      "60  0.221167\n",
      "opt_flow_with_div\n",
      "     true_sd\n",
      "15  0.221549\n",
      "30  0.222255\n",
      "45  0.222861\n",
      "60  0.222732\n"
     ]
    }
   ],
   "source": [
    "directory = \"/a2/uaren/travis/results/multi_day_error/third_set/\"\n",
    "directory_list = glob.glob(os.path.join(directory, '*'))\n",
    "dates_dict = {}\n",
    "# dates_df = pd.DataFrame()\n",
    "for a_dir in directory_list:\n",
    "    run_name = os.path.split(a_dir)[-1]\n",
    "    print(run_name)\n",
    "    dates_dict[run_name] = pd.read_hdf(\n",
    "        os.path.join(a_dir, 'stat_times.h5'))\n",
    "#     dates_df[run_name] = pd.read_hdf(\n",
    "#         os.path.join(a_dir, 'stat_times.h5'))\n",
    "    print(pd.read_hdf(\n",
    "        os.path.join(a_dir, 'truth_sd.h5')))"
   ]
  },
  {
   "cell_type": "code",
   "execution_count": 51,
   "metadata": {
    "scrolled": false
   },
   "outputs": [
    {
     "name": "stdout",
     "output_type": "stream",
     "text": [
      "radiosonde\n",
      "Empty DataFrame\n",
      "Columns: [15, 30, 45, 60]\n",
      "Index: []\n",
      "wrf\n",
      "Empty DataFrame\n",
      "Columns: [0, 15, 30, 45, 60]\n",
      "Index: []\n",
      "wrf_no_div\n",
      "Empty DataFrame\n",
      "Columns: [0, 15, 30, 45, 60]\n",
      "Index: []\n",
      "ow_15\n",
      "Empty DataFrame\n",
      "Columns: [0, 15, 30, 45, 60]\n",
      "Index: []\n",
      "owp_opt\n",
      "Empty DataFrame\n",
      "Columns: [0, 15, 30, 45, 60]\n",
      "Index: []\n",
      "opt_flow\n",
      "Empty DataFrame\n",
      "Columns: [0, 15, 30, 45, 60]\n",
      "Index: []\n",
      "wrf_mean\n",
      "Empty DataFrame\n",
      "Columns: [15, 30, 45, 60]\n",
      "Index: []\n",
      "opt_flow_with_div\n",
      "                        15     30     45     60\n",
      "time                                           \n",
      "2014-04-02 17:00:00  False  False  False  False\n",
      "2014-04-02 17:15:00   True  False  False  False\n",
      "2014-04-02 17:30:00   True   True  False  False\n",
      "2014-04-02 17:45:00   True   True   True  False\n",
      "2014-04-05 17:00:00  False  False  False  False\n",
      "2014-04-05 17:15:00   True  False  False  False\n",
      "2014-04-05 17:30:00   True   True  False  False\n",
      "2014-04-05 17:45:00   True   True   True  False\n",
      "2014-04-09 17:00:00  False  False  False  False\n",
      "2014-04-09 17:15:00   True  False  False  False\n",
      "2014-04-09 17:30:00   True   True  False  False\n",
      "2014-04-09 17:45:00   True   True   True  False\n",
      "2014-04-10 17:00:00  False  False  False  False\n",
      "2014-04-10 17:15:00   True  False  False  False\n",
      "2014-04-10 17:30:00   True   True  False  False\n",
      "2014-04-10 17:45:00   True   True   True  False\n",
      "2014-04-11 17:00:00  False  False  False  False\n",
      "2014-04-11 17:15:00   True  False  False  False\n",
      "2014-04-11 17:30:00   True   True  False  False\n",
      "2014-04-11 17:45:00   True   True   True  False\n",
      "2014-04-12 17:00:00  False  False  False  False\n",
      "2014-04-12 17:15:00   True  False  False  False\n",
      "2014-04-12 17:30:00   True   True  False  False\n",
      "2014-04-12 17:45:00   True   True   True  False\n",
      "2014-04-15 17:00:00  False  False  False  False\n",
      "2014-04-15 17:15:00   True  False  False  False\n",
      "2014-04-15 17:30:00   True   True  False  False\n",
      "2014-04-15 17:45:00   True   True   True  False\n",
      "2014-04-18 17:00:00  False  False  False  False\n",
      "2014-04-18 17:15:00   True  False  False  False\n",
      "...                    ...    ...    ...    ...\n",
      "2014-06-12 17:30:00   True   True  False  False\n",
      "2014-06-12 17:45:00   True   True   True  False\n",
      "2014-06-14 17:00:00  False  False  False  False\n",
      "2014-06-14 17:15:00   True  False  False  False\n",
      "2014-06-14 17:30:00   True   True  False  False\n",
      "2014-06-14 17:45:00   True   True   True  False\n",
      "2014-06-15 17:00:00  False  False  False  False\n",
      "2014-06-15 17:15:00   True  False  False  False\n",
      "2014-06-15 17:30:00   True   True  False  False\n",
      "2014-06-15 17:45:00   True   True   True  False\n",
      "2014-06-16 17:00:00  False  False  False  False\n",
      "2014-06-16 17:15:00   True  False  False  False\n",
      "2014-06-16 17:30:00   True   True  False  False\n",
      "2014-06-16 17:45:00   True   True   True  False\n",
      "2014-06-17 17:00:00  False  False  False  False\n",
      "2014-06-17 17:15:00   True  False  False  False\n",
      "2014-06-17 17:30:00   True   True  False  False\n",
      "2014-06-17 17:45:00   True   True   True  False\n",
      "2014-06-18 17:00:00  False  False  False  False\n",
      "2014-06-18 17:15:00   True  False  False  False\n",
      "2014-06-18 17:30:00   True   True  False  False\n",
      "2014-06-18 17:45:00   True   True   True  False\n",
      "2014-06-19 17:00:00  False  False  False  False\n",
      "2014-06-19 17:15:00   True  False  False  False\n",
      "2014-06-19 17:30:00   True   True  False  False\n",
      "2014-06-19 17:45:00   True   True   True  False\n",
      "2014-06-22 17:00:00  False  False  False  False\n",
      "2014-06-22 17:15:00   True  False  False  False\n",
      "2014-06-22 17:30:00   True   True  False  False\n",
      "2014-06-22 17:45:00   True   True   True  False\n",
      "\n",
      "[153 rows x 4 columns]\n"
     ]
    }
   ],
   "source": [
    "persis_df = dates_dict['persistence']\n",
    "for name, a_df in dates_dict.items():\n",
    "    if name == 'persistence':\n",
    "        continue\n",
    "    print(name)\n",
    "    this = persis_df ^ a_df\n",
    "    print(a_df[this.any(axis=1)])"
   ]
  },
  {
   "cell_type": "code",
   "execution_count": null,
   "metadata": {},
   "outputs": [],
   "source": []
  },
  {
   "cell_type": "code",
   "execution_count": null,
   "metadata": {},
   "outputs": [],
   "source": []
  },
  {
   "cell_type": "markdown",
   "metadata": {},
   "source": [
    "# Smothing runs"
   ]
  },
  {
   "cell_type": "code",
   "execution_count": null,
   "metadata": {},
   "outputs": [],
   "source": []
  },
  {
   "cell_type": "code",
   "execution_count": 17,
   "metadata": {},
   "outputs": [],
   "source": [
    "importlib.reload(analyse_results)\n",
    "importlib.reload(letkf_io)\n",
    "# month_day = [[4, 9],  [4, 15], [4, 18],\n",
    "#              [5, 6],  [5, 9],  [5, 29],\n",
    "#              [6, 11], [6, 12]]\n",
    "# month_day = [[4 2], [4 5],  [4 19],\n",
    "#              [5 7], [5 8],  [5 19],\n",
    "#              [6 3], [6 10], [6 14],\n",
    "#              [6 15]]\n",
    "# month_day = [[4, 9],  [4, 15], [4, 18],\n",
    "#              [5, 6],  [5, 9],  [5, 29],\n",
    "#              [6, 11], [6, 12],\n",
    "#              [4, 2],  [4, 5],  [4, 19],\n",
    "#              [5, 7],  [5, 8],  [5, 19],\n",
    "#              [6, 3],  [6, 10], [6, 14],\n",
    "#              [6, 15]]\n",
    "month_day = [[4, 9],  [4, 15], [4, 18],\n",
    "             [5, 6],  [5, 9],  [5, 29],\n",
    "             [6, 11], [6, 12],\n",
    "             [4, 2],  [4, 5],  [4, 19],\n",
    "             [5, 7],  [5, 8],  [5, 19],\n",
    "             [6, 3],  [6, 10], [6, 14],\n",
    "             [6, 15],\n",
    "             [4, 10], [4, 11], [4, 12],\n",
    "             [4, 20], [4, 21], [4, 22],\n",
    "             [4, 25], [4, 26], [5, 5],\n",
    "             [5, 20], [5, 21], [5, 22],\n",
    "             [5, 23], [5, 24], [5, 25],\n",
    "             [5, 30], [6, 16], [6, 17],\n",
    "             [6, 18], [6, 19], [6, 22]]\n",
    "\n",
    "dates = []\n",
    "for ii in range(len(month_day)):\n",
    "    dates.append(datetime.date(2014, month_day[ii][0], month_day[ii][1]))\n",
    "base_folder = '/a2/uaren/travis'\n",
    "# runs = ['persistence', 'radiosonde', 'opt_flow',\n",
    "#         'wrf', 'wrf_no_div', 'ow_15', 'owp_opt']\n",
    "\n",
    "runs = ['wrf_no_div', 'opt_flow']\n",
    "horizons = [15, 30, 45, 60]\n",
    "only_cloudy = False"
   ]
  },
  {
   "cell_type": "code",
   "execution_count": 20,
   "metadata": {
    "scrolled": true
   },
   "outputs": [
    {
     "name": "stdout",
     "output_type": "stream",
     "text": [
      "[63]\n",
      "smoothing_runs\n",
      "63\n",
      "wrf_no_div\n"
     ]
    },
    {
     "name": "stderr",
     "output_type": "stream",
     "text": [
      "/home/travis/miniconda3/envs/letkf/lib/python3.6/site-packages/xarray/conventions.py:838: UserWarning: CF decoding is overwriting dtype\n",
      "  warnings.warn(\"CF decoding is overwriting dtype\")\n",
      "/home/travis/miniconda3/envs/letkf/lib/python3.6/site-packages/dask/core.py:306: FutureWarning: elementwise comparison failed; returning scalar instead, but in the future will perform elementwise comparison\n",
      "  elif type_arg is type(key) and arg == key:\n",
      "/home/travis/miniconda3/envs/letkf/lib/python3.6/site-packages/dask/core.py:306: FutureWarning: elementwise comparison failed; returning scalar instead, but in the future will perform elementwise comparison\n",
      "  elif type_arg is type(key) and arg == key:\n",
      "/home/travis/miniconda3/envs/letkf/lib/python3.6/site-packages/dask/core.py:306: FutureWarning: elementwise comparison failed; returning scalar instead, but in the future will perform elementwise comparison\n",
      "  elif type_arg is type(key) and arg == key:\n",
      "/home/travis/miniconda3/envs/letkf/lib/python3.6/site-packages/dask/core.py:306: FutureWarning: elementwise comparison failed; returning scalar instead, but in the future will perform elementwise comparison\n",
      "  elif type_arg is type(key) and arg == key:\n",
      "/home/travis/miniconda3/envs/letkf/lib/python3.6/site-packages/dask/core.py:306: FutureWarning: elementwise comparison failed; returning scalar instead, but in the future will perform elementwise comparison\n",
      "  elif type_arg is type(key) and arg == key:\n",
      "/home/travis/miniconda3/envs/letkf/lib/python3.6/site-packages/dask/core.py:306: FutureWarning: elementwise comparison failed; returning scalar instead, but in the future will perform elementwise comparison\n",
      "  elif type_arg is type(key) and arg == key:\n",
      "/home/travis/miniconda3/envs/letkf/lib/python3.6/site-packages/dask/core.py:306: FutureWarning: elementwise comparison failed; returning scalar instead, but in the future will perform elementwise comparison\n",
      "  elif type_arg is type(key) and arg == key:\n",
      "/home/travis/miniconda3/envs/letkf/lib/python3.6/site-packages/dask/core.py:306: FutureWarning: elementwise comparison failed; returning scalar instead, but in the future will perform elementwise comparison\n",
      "  elif type_arg is type(key) and arg == key:\n",
      "/home/travis/miniconda3/envs/letkf/lib/python3.6/site-packages/dask/core.py:306: FutureWarning: elementwise comparison failed; returning scalar instead, but in the future will perform elementwise comparison\n",
      "  elif type_arg is type(key) and arg == key:\n",
      "/home/travis/miniconda3/envs/letkf/lib/python3.6/site-packages/dask/core.py:306: FutureWarning: elementwise comparison failed; returning scalar instead, but in the future will perform elementwise comparison\n",
      "  elif type_arg is type(key) and arg == key:\n",
      "/home/travis/miniconda3/envs/letkf/lib/python3.6/site-packages/dask/core.py:306: FutureWarning: elementwise comparison failed; returning scalar instead, but in the future will perform elementwise comparison\n",
      "  elif type_arg is type(key) and arg == key:\n",
      "/home/travis/miniconda3/envs/letkf/lib/python3.6/site-packages/dask/core.py:306: FutureWarning: elementwise comparison failed; returning scalar instead, but in the future will perform elementwise comparison\n",
      "  elif type_arg is type(key) and arg == key:\n"
     ]
    },
    {
     "name": "stdout",
     "output_type": "stream",
     "text": [
      "opt_flow\n"
     ]
    },
    {
     "name": "stderr",
     "output_type": "stream",
     "text": [
      "/home/travis/miniconda3/envs/letkf/lib/python3.6/site-packages/xarray/conventions.py:838: UserWarning: CF decoding is overwriting dtype\n",
      "  warnings.warn(\"CF decoding is overwriting dtype\")\n",
      "/home/travis/miniconda3/envs/letkf/lib/python3.6/site-packages/dask/core.py:306: FutureWarning: elementwise comparison failed; returning scalar instead, but in the future will perform elementwise comparison\n",
      "  elif type_arg is type(key) and arg == key:\n",
      "/home/travis/miniconda3/envs/letkf/lib/python3.6/site-packages/dask/core.py:306: FutureWarning: elementwise comparison failed; returning scalar instead, but in the future will perform elementwise comparison\n",
      "  elif type_arg is type(key) and arg == key:\n",
      "/home/travis/miniconda3/envs/letkf/lib/python3.6/site-packages/dask/core.py:306: FutureWarning: elementwise comparison failed; returning scalar instead, but in the future will perform elementwise comparison\n",
      "  elif type_arg is type(key) and arg == key:\n",
      "/home/travis/miniconda3/envs/letkf/lib/python3.6/site-packages/dask/core.py:306: FutureWarning: elementwise comparison failed; returning scalar instead, but in the future will perform elementwise comparison\n",
      "  elif type_arg is type(key) and arg == key:\n",
      "/home/travis/miniconda3/envs/letkf/lib/python3.6/site-packages/dask/core.py:306: FutureWarning: elementwise comparison failed; returning scalar instead, but in the future will perform elementwise comparison\n",
      "  elif type_arg is type(key) and arg == key:\n",
      "/home/travis/miniconda3/envs/letkf/lib/python3.6/site-packages/dask/core.py:306: FutureWarning: elementwise comparison failed; returning scalar instead, but in the future will perform elementwise comparison\n",
      "  elif type_arg is type(key) and arg == key:\n",
      "/home/travis/miniconda3/envs/letkf/lib/python3.6/site-packages/dask/core.py:306: FutureWarning: elementwise comparison failed; returning scalar instead, but in the future will perform elementwise comparison\n",
      "  elif type_arg is type(key) and arg == key:\n",
      "/home/travis/miniconda3/envs/letkf/lib/python3.6/site-packages/dask/core.py:306: FutureWarning: elementwise comparison failed; returning scalar instead, but in the future will perform elementwise comparison\n",
      "  elif type_arg is type(key) and arg == key:\n",
      "/home/travis/miniconda3/envs/letkf/lib/python3.6/site-packages/dask/core.py:306: FutureWarning: elementwise comparison failed; returning scalar instead, but in the future will perform elementwise comparison\n",
      "  elif type_arg is type(key) and arg == key:\n",
      "/home/travis/miniconda3/envs/letkf/lib/python3.6/site-packages/dask/core.py:306: FutureWarning: elementwise comparison failed; returning scalar instead, but in the future will perform elementwise comparison\n",
      "  elif type_arg is type(key) and arg == key:\n",
      "/home/travis/miniconda3/envs/letkf/lib/python3.6/site-packages/dask/core.py:306: FutureWarning: elementwise comparison failed; returning scalar instead, but in the future will perform elementwise comparison\n",
      "  elif type_arg is type(key) and arg == key:\n",
      "/home/travis/miniconda3/envs/letkf/lib/python3.6/site-packages/dask/core.py:306: FutureWarning: elementwise comparison failed; returning scalar instead, but in the future will perform elementwise comparison\n",
      "  elif type_arg is type(key) and arg == key:\n"
     ]
    }
   ],
   "source": [
    "window_array = np.arange(49)[::6] + 3\n",
    "window_array = [63]\n",
    "print(window_array)\n",
    "if only_cloudy:\n",
    "    directory_name = 'smoothing_runs_only_cloudy'\n",
    "else:\n",
    "    directory_name = 'smoothing_runs'\n",
    "print(directory_name)\n",
    "for mean_win_size in window_array:\n",
    "    print(mean_win_size)\n",
    "    error_stats_full = analyse_results.error_stats_many_days(\n",
    "        dates, runs, horizons, base_folder,\n",
    "        only_cloudy=only_cloudy, only_of_times=True,\n",
    "        mean_win_size=mean_win_size)\n",
    "    for error_stats in error_stats_full:\n",
    "        run_name = error_stats['name']\n",
    "        save_directory = (\n",
    "            '/a2/uaren/travis/'\n",
    "            + f'results/multi_day_error/{directory_name}'\n",
    "            + f'/{run_name}_{mean_win_size}')\n",
    "        if not os.path.exists(save_directory):\n",
    "            os.makedirs(save_directory)\n",
    "        for error_stat in error_stats:\n",
    "            if error_stat == 'name':\n",
    "                continue\n",
    "            this_dir = os.path.join(\n",
    "                save_directory,\n",
    "                error_stat + '.h5')\n",
    "            error_stats[error_stat].to_hdf(this_dir, error_stat)"
   ]
  },
  {
   "cell_type": "code",
   "execution_count": 14,
   "metadata": {},
   "outputs": [
    {
     "data": {
      "text/plain": [
       "'smoothing_runs_only_cloudy'"
      ]
     },
     "execution_count": 14,
     "metadata": {},
     "output_type": "execute_result"
    }
   ],
   "source": [
    "directory_name"
   ]
  },
  {
   "cell_type": "code",
   "execution_count": 15,
   "metadata": {},
   "outputs": [
    {
     "data": {
      "text/plain": [
       "True"
      ]
     },
     "execution_count": 15,
     "metadata": {},
     "output_type": "execute_result"
    }
   ],
   "source": [
    "only_cloudy"
   ]
  },
  {
   "cell_type": "code",
   "execution_count": null,
   "metadata": {},
   "outputs": [],
   "source": []
  },
  {
   "cell_type": "code",
   "execution_count": null,
   "metadata": {},
   "outputs": [],
   "source": []
  },
  {
   "cell_type": "code",
   "execution_count": null,
   "metadata": {},
   "outputs": [],
   "source": []
  },
  {
   "cell_type": "code",
   "execution_count": null,
   "metadata": {},
   "outputs": [],
   "source": []
  },
  {
   "cell_type": "code",
   "execution_count": null,
   "metadata": {},
   "outputs": [],
   "source": []
  },
  {
   "cell_type": "code",
   "execution_count": null,
   "metadata": {},
   "outputs": [],
   "source": [
    "directory_name = 'third_set_only_cloudy'\n",
    "importlib.reload(analyse_results)\n",
    "importlib.reload(letkf_io)\n",
    "# month_day = [[4, 9],  [4, 15], [4, 18],\n",
    "#              [5, 6],  [5, 9],  [5, 29],\n",
    "#              [6, 11], [6, 12]]\n",
    "# month_day = [[4 2], [4 5],  [4 19],\n",
    "#              [5 7], [5 8],  [5 19],\n",
    "#              [6 3], [6 10], [6 14],\n",
    "#              [6 15]]\n",
    "# month_day = [[4, 9],  [4, 15], [4, 18],\n",
    "#              [5, 6],  [5, 9],  [5, 29],\n",
    "#              [6, 11], [6, 12],\n",
    "#              [4, 2],  [4, 5],  [4, 19],\n",
    "#              [5, 7],  [5, 8],  [5, 19],\n",
    "#              [6, 3],  [6, 10], [6, 14],\n",
    "#              [6, 15]]\n",
    "month_day = [[4, 9],  [4, 15], [4, 18],\n",
    "             [5, 6],  [5, 9],  [5, 29],\n",
    "             [6, 11], [6, 12],\n",
    "             [4, 2],  [4, 5],  [4, 19],\n",
    "             [5, 7],  [5, 8],  [5, 19],\n",
    "             [6, 3],  [6, 10], [6, 14],\n",
    "             [6, 15],\n",
    "             [4, 10], [4, 11], [4, 12],\n",
    "             [4, 20], [4, 21], [4, 22],\n",
    "             [4, 25], [4, 26], [5, 5],\n",
    "             [5, 20], [5, 21], [5, 22],\n",
    "             [5, 23], [5, 24], [5, 25],\n",
    "             [5, 30], [6, 16], [6, 17],\n",
    "             [6, 18], [6, 19], [6, 22]]\n",
    "dates = []\n",
    "for ii in range(len(month_day)):\n",
    "    dates.append(datetime.date(2014, month_day[ii][0], month_day[ii][1]))\n",
    "base_folder = '/a2/uaren/travis'\n",
    "# runs_list = ['persistence', 'radiosonde', 'wrf', 'wrf_no_div', 'ow_15', 'owp_opt']\n",
    "# runs_list = ['wrf_no_div', 'owp_opt']\n",
    "# still need\n",
    "runs_list = ['opt_flow', 'ow_15', 'wrf']\n",
    "for runs in runs_list:\n",
    "    runs = [runs]\n",
    "    error_stats_full = analyse_results.error_stats_many_days(\n",
    "        dates, runs, base_folder, only_cloudy=True)\n",
    "    for error_stats in error_stats_full:\n",
    "        run_name = error_stats['name']\n",
    "        save_directory = ('/a2/uaren/travis/'\n",
    "            + f'results/multi_day_error/{directory_name}/{run_name}')\n",
    "        if not os.path.exists(save_directory):\n",
    "            os.makedirs(save_directory)\n",
    "        for error_stat in error_stats:\n",
    "            if error_stat == 'name':\n",
    "                continue\n",
    "            this_dir = os.path.join(\n",
    "                save_directory,\n",
    "                error_stat + '.h5')\n",
    "            error_stats[error_stat].to_hdf(this_dir, error_stat)"
   ]
  }
 ],
 "metadata": {
  "kernelspec": {
   "display_name": "Python 3",
   "language": "python",
   "name": "python3"
  },
  "language_info": {
   "codemirror_mode": {
    "name": "ipython",
    "version": 3
   },
   "file_extension": ".py",
   "mimetype": "text/x-python",
   "name": "python",
   "nbconvert_exporter": "python",
   "pygments_lexer": "ipython3",
   "version": "3.6.2"
  }
 },
 "nbformat": 4,
 "nbformat_minor": 2
}
