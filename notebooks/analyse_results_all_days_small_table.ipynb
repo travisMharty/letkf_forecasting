{
 "cells": [
  {
   "cell_type": "code",
   "execution_count": 13,
   "metadata": {},
   "outputs": [],
   "source": [
    "import dask\n",
    "import os\n",
    "import datetime\n",
    "import numpy as np\n",
    "import xarray as xr\n",
    "import matplotlib.pyplot as plt\n",
    "import pandas as pd\n",
    "import importlib\n",
    "\n",
    "from letkf_forecasting import analyse_results, letkf_io"
   ]
  },
  {
   "cell_type": "code",
   "execution_count": 14,
   "metadata": {},
   "outputs": [],
   "source": [
    "importlib.reload(analyse_results)\n",
    "importlib.reload(letkf_io)\n",
    "\n",
    "base_folder = '/a2/uaren/travis'\n",
    "\n",
    "file_name = 'all_days'\n",
    "\n",
    "decimals = 3\n",
    "\n",
    "runs = [ 'owp_opt', 'persistence', 'opt_flow', 'wrf_no_div',\n",
    "        'opt_flow_with_div', 'wrf', 'radiosonde', 'wrf_mean']\n",
    "# runs = ['wrf_mean']"
   ]
  },
  {
   "cell_type": "code",
   "execution_count": 15,
   "metadata": {},
   "outputs": [],
   "source": [
    "save_directory = \"/home2/travis/python_code/letkf_forecasting/tables/\""
   ]
  },
  {
   "cell_type": "code",
   "execution_count": 16,
   "metadata": {
    "scrolled": true
   },
   "outputs": [],
   "source": [
    "horizons = [15, 30, 45, 60]"
   ]
  },
  {
   "cell_type": "code",
   "execution_count": 17,
   "metadata": {},
   "outputs": [],
   "source": [
    "legend_dict = {'opt_flow': 'Opt. Flow', \n",
    "               'opt_flow_with_div': 'Opt. Flow w/ Div.',\n",
    "               'wrf_no_div': 'WRF',\n",
    "               'wrf': 'WRF w/ Div.',\n",
    "               'owp_opt': 'BACON',                                                                                \n",
    "               'persistence': 'Persis.',\n",
    "               'radiosonde': 'Radiosonde',\n",
    "               'wrf_mean': 'WRF Mean',\n",
    "               'ens_member': 'Ens. Member'} "
   ]
  },
  {
   "cell_type": "code",
   "execution_count": 18,
   "metadata": {},
   "outputs": [],
   "source": [
    "rmse = pd.DataFrame(index=horizons, columns=runs)\n",
    "rmse.index.name = 'Horizon'\n",
    "correlation = rmse.copy()\n",
    "bias = rmse.copy()\n",
    "for run_name in runs:\n",
    "    results_folder_path = os.path.join(                                          \n",
    "        base_folder,                                                               \n",
    "        'results',                                                               \n",
    "        'multi_day_error',\n",
    "        'third_set',                                                             \n",
    "        run_name)\n",
    "    stat_name = 'rmse'\n",
    "    file_path = os.path.join(results_folder_path,\n",
    "                             f'{stat_name}.h5')\n",
    "    rmse[run_name] = pd.read_hdf(file_path, stat_name)\n",
    "    \n",
    "    stat_name = 'bias'\n",
    "    file_path = os.path.join(results_folder_path,\n",
    "                             f'{stat_name}.h5')\n",
    "    bias[run_name] = pd.read_hdf(file_path, stat_name)\n",
    "    \n",
    "    stat_name = 'correlation'\n",
    "    file_path = os.path.join(results_folder_path,\n",
    "                             f'{stat_name}.h5')\n",
    "    correlation[run_name] = pd.read_hdf(file_path, stat_name)"
   ]
  },
  {
   "cell_type": "code",
   "execution_count": 19,
   "metadata": {},
   "outputs": [],
   "source": [
    "peices = [rmse, correlation, bias]\n",
    "combined = pd.concat(peices, axis=0,\n",
    "                     keys=['RMSE', 'Corr.', 'Bias'])\n",
    "combined = combined.rename(columns=legend_dict)"
   ]
  },
  {
   "cell_type": "code",
   "execution_count": 20,
   "metadata": {},
   "outputs": [],
   "source": [
    "def is_empty(str):\n",
    "    return str != ''"
   ]
  },
  {
   "cell_type": "code",
   "execution_count": 25,
   "metadata": {},
   "outputs": [],
   "source": [
    "def format_table(text, header_num=5, footer_num=2):\n",
    "    text = text.split(' ')\n",
    "    text = list(filter(is_empty, text))\n",
    "    text = ' '.join(text)\n",
    "    split_text = text.split('\\n')\n",
    "    split_titles2 = split_text[2].split('&')\n",
    "    split_titles3 = split_text[3].split('&')\n",
    "    for num, title in enumerate(split_text[2].split('&')):\n",
    "        if ' w/ Div.' in title:\n",
    "            split_titles2[num] = title[:-8]\n",
    "            split_titles3[num] = title[-9:]\n",
    "    split_titles2 = '&'.join(split_titles2)\n",
    "    split_titles3 = '&'.join(split_titles3)\n",
    "    split_text[2] = split_titles2\n",
    "    split_text[3] = split_titles3\n",
    "    \n",
    "    for line_num, line in enumerate(split_text[header_num:-footer_num - 1]):\n",
    "        split_line = line.split(' ')\n",
    "        if split_line[0] == 'Corr.':\n",
    "            Corr = True\n",
    "        elif split_line[0] != '':\n",
    "            Corr = False\n",
    "        num_slice = slice(4, None, 2)\n",
    "        numbers_str = split_line[num_slice]\n",
    "        numbers = np.array(\n",
    "            split_line[num_slice],\n",
    "            dtype='float')\n",
    "        if Corr:\n",
    "            best_num = numbers.max()\n",
    "        else:\n",
    "            best_num = numbers[np.abs(numbers).argmin()]\n",
    "        argmins = np.where(numbers == best_num)[0]\n",
    "#         numbers = list(numbers.astype('str'))\n",
    "        for argmin in argmins:\n",
    "            numbers_str[argmin] = '\\\\textbf{' + numbers_str[argmin] + '}'\n",
    "        split_line[num_slice] = numbers_str\n",
    "        split_text[header_num + line_num] = ' '.join(split_line)\n",
    "    \n",
    "#     for count in range(hor_num - 1):\n",
    "#         split_line.insert(((count + 1)*run_num)*2 + 2 + count, '&')\n",
    "#     split_line\n",
    "\n",
    "    \n",
    "    return '\\n'.join(split_text)"
   ]
  },
  {
   "cell_type": "code",
   "execution_count": 29,
   "metadata": {},
   "outputs": [
    {
     "name": "stdout",
     "output_type": "stream",
     "text": [
      "\\begin{tabular}{llcccccccc}\n",
      "\\toprule\n",
      " & & BACON & Persis. & Opt. Flow & WRF & Opt. Flow & WRF & Radiosonde & WRF Mean \\\\\n",
      "{} & Horizon & & & & & w/ Div. & w/ Div. & & \\\\\n",
      "\\midrule\n",
      "RMSE & 15 & \\textbf{0.108} & 0.124 & 0.113 & 0.118 & 0.131 & 0.118 & 0.139 & 0.116 \\\\\n",
      " & 30 & \\textbf{0.124} & 0.143 & 0.133 & 0.142 & 0.162 & 0.144 & 0.154 & 0.140 \\\\\n",
      " & 45 & \\textbf{0.127} & 0.154 & 0.145 & 0.147 & 0.180 & 0.151 & 0.159 & 0.149 \\\\\n",
      " & 60 & \\textbf{0.132} & 0.158 & 0.153 & 0.150 & 0.190 & 0.155 & 0.164 & 0.152 \\\\\n",
      "Corr. & 15 & \\textbf{0.877} & 0.844 & 0.869 & 0.855 & 0.819 & 0.853 & 0.797 & 0.858 \\\\\n",
      " & 30 & \\textbf{0.837} & 0.791 & 0.816 & 0.786 & 0.716 & 0.779 & 0.747 & 0.790 \\\\\n",
      " & 45 & \\textbf{0.826} & 0.759 & 0.778 & 0.770 & 0.652 & 0.756 & 0.728 & 0.763 \\\\\n",
      " & 60 & \\textbf{0.808} & 0.743 & 0.753 & 0.759 & 0.611 & 0.740 & 0.708 & 0.750 \\\\\n",
      "Bias & 15 & \\textbf{-0.001} & -0.002 & \\textbf{-0.001} & -0.007 & -0.004 & -0.008 & -0.006 & -0.006 \\\\\n",
      " & 30 & \\textbf{-0.005} & \\textbf{-0.005} & \\textbf{-0.005} & -0.016 & -0.010 & -0.017 & -0.011 & -0.016 \\\\\n",
      " & 45 & -0.008 & \\textbf{-0.007} & -0.009 & -0.020 & -0.012 & -0.022 & -0.016 & -0.020 \\\\\n",
      " & 60 & -0.011 & \\textbf{-0.009} & -0.011 & -0.025 & -0.013 & -0.027 & -0.018 & -0.024 \\\\\n",
      "\\bottomrule\n",
      "\\end{tabular}\n",
      "\n"
     ]
    }
   ],
   "source": [
    "column_format = 'll' + 'c' * len(runs)\n",
    "text = combined.round(decimals=decimals).to_latex(column_format=column_format)\n",
    "text2 = format_table(text)\n",
    "print(text2)"
   ]
  },
  {
   "cell_type": "code",
   "execution_count": 30,
   "metadata": {},
   "outputs": [],
   "source": [
    "this_file = os.path.join(save_directory, f'{file_name}_results.tex')\n",
    "with open(this_file, 'w') as file:\n",
    "    file.write(text2)"
   ]
  },
  {
   "cell_type": "code",
   "execution_count": null,
   "metadata": {},
   "outputs": [],
   "source": []
  },
  {
   "cell_type": "code",
   "execution_count": null,
   "metadata": {},
   "outputs": [],
   "source": []
  }
 ],
 "metadata": {
  "kernelspec": {
   "display_name": "Python 3",
   "language": "python",
   "name": "python3"
  },
  "language_info": {
   "codemirror_mode": {
    "name": "ipython",
    "version": 3
   },
   "file_extension": ".py",
   "mimetype": "text/x-python",
   "name": "python",
   "nbconvert_exporter": "python",
   "pygments_lexer": "ipython3",
   "version": "3.6.2"
  }
 },
 "nbformat": 4,
 "nbformat_minor": 2
}
