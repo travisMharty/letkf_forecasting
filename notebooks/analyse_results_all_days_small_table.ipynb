{
 "cells": [
  {
   "cell_type": "code",
   "execution_count": 1,
   "metadata": {},
   "outputs": [],
   "source": [
    "import dask\n",
    "import os\n",
    "import datetime\n",
    "import numpy as np\n",
    "import xarray as xr\n",
    "import matplotlib.pyplot as plt\n",
    "import pandas as pd\n",
    "import importlib\n",
    "\n",
    "from letkf_forecasting import analyse_results, letkf_io"
   ]
  },
  {
   "cell_type": "code",
   "execution_count": 2,
   "metadata": {},
   "outputs": [],
   "source": [
    "import re"
   ]
  },
  {
   "cell_type": "code",
   "execution_count": 3,
   "metadata": {},
   "outputs": [],
   "source": [
    "importlib.reload(analyse_results)\n",
    "importlib.reload(letkf_io)\n",
    "\n",
    "base_folder = '/a2/uaren/travis'\n",
    "\n",
    "file_name = 'all_days'\n",
    "\n",
    "decimals = 2\n",
    "\n",
    "runs = [ 'owp_opt', 'persistence', 'opt_flow', 'wrf_no_div', 'wrf_mean', 'radiosonde']\n",
    "# runs = ['wrf_mean']"
   ]
  },
  {
   "cell_type": "code",
   "execution_count": 4,
   "metadata": {},
   "outputs": [],
   "source": [
    "save_directory = \"/home2/travis/python_code/letkf_forecasting/tables/\""
   ]
  },
  {
   "cell_type": "code",
   "execution_count": 5,
   "metadata": {
    "scrolled": true
   },
   "outputs": [],
   "source": [
    "horizons = [15, 30, 45, 60]"
   ]
  },
  {
   "cell_type": "code",
   "execution_count": 6,
   "metadata": {},
   "outputs": [],
   "source": [
    "legend_dict = {'opt_flow': 'Opt.~Flow', \n",
    "               'opt_flow_with_div': 'Opt. Flow w/ Div.',\n",
    "               'wrf_no_div': 'NWP Winds',\n",
    "               'wrf': 'NWP w/ Div.',\n",
    "               'owp_opt': 'ANOC',                                                                                \n",
    "               'persistence': 'Persis.',\n",
    "               'radiosonde': 'Radiosonde',\n",
    "               'wrf_mean': 'NWP Avg.~Winds',\n",
    "               'ens_member': 'Ens.~Member'} "
   ]
  },
  {
   "cell_type": "code",
   "execution_count": 7,
   "metadata": {},
   "outputs": [],
   "source": [
    "rmse = pd.DataFrame(index=horizons, columns=runs)\n",
    "rmse.index.name = 'Horizon'\n",
    "correlation = rmse.copy()\n",
    "bias = rmse.copy()\n",
    "truth_sd = rmse.copy()\n",
    "for run_name in runs:\n",
    "    results_folder_path = os.path.join(                                          \n",
    "        base_folder,                                                               \n",
    "        'results',                                                               \n",
    "        'multi_day_error',\n",
    "        'third_set',                                                             \n",
    "        run_name)\n",
    "    stat_name = 'rmse'\n",
    "    file_path = os.path.join(results_folder_path,\n",
    "                             f'{stat_name}.h5')\n",
    "    rmse[run_name] = pd.read_hdf(file_path, stat_name)\n",
    "    \n",
    "    stat_name = 'bias'\n",
    "    file_path = os.path.join(results_folder_path,\n",
    "                             f'{stat_name}.h5')\n",
    "    bias[run_name] = pd.read_hdf(file_path, stat_name)\n",
    "    \n",
    "    stat_name = 'correlation'\n",
    "    file_path = os.path.join(results_folder_path,\n",
    "                             f'{stat_name}.h5')\n",
    "    correlation[run_name] = pd.read_hdf(file_path, stat_name)\n",
    "    \n",
    "    stat_name = 'truth_sd'\n",
    "    file_path = os.path.join(results_folder_path,\n",
    "                             f'{stat_name}.h5')\n",
    "    truth_sd[run_name] = pd.read_hdf(file_path, stat_name)"
   ]
  },
  {
   "cell_type": "code",
   "execution_count": 8,
   "metadata": {},
   "outputs": [],
   "source": [
    "peices = [rmse, correlation, bias]\n",
    "combined = pd.concat(peices, axis=0,\n",
    "                     keys=['RMSE', 'Corr.', 'Bias'])\n",
    "combined = combined.rename(columns=legend_dict)"
   ]
  },
  {
   "cell_type": "code",
   "execution_count": 9,
   "metadata": {},
   "outputs": [],
   "source": [
    "def is_empty(str):\n",
    "    return str != ''"
   ]
  },
  {
   "cell_type": "code",
   "execution_count": 10,
   "metadata": {},
   "outputs": [],
   "source": [
    "def format_table(text, header_num=5, footer_num=2):\n",
    "    text = text.split(' ')\n",
    "    text = list(filter(is_empty, text))\n",
    "    text = ' '.join(text)\n",
    "    split_text = text.split('\\n')\n",
    "    split_titles2 = split_text[2]\n",
    "    removed = split_titles2[-2:]\n",
    "    split_titles2 = split_titles2[:-2]\n",
    "    split_titles2 = split_titles2.split('&')\n",
    "    for count, this in enumerate(split_titles2):\n",
    "        if len(this) > 2:\n",
    "            this = this[0] + '{' + this[1:-1] + '}' + this[-1]\n",
    "            split_titles2[count] = this\n",
    "    split_text[2] = '&'.join(split_titles2) + removed\n",
    "#     split_titles3 = split_text[3].split('&')\n",
    "#             split_titles2[num] = title[:-8]\n",
    "#             split_titles3[num] = title[-9:]\n",
    "#     print(split_titles2)\n",
    "#     return split_text[2]\n",
    "#     split_titles2 = '&'.join(split_titles2)\n",
    "#     split_titles3 = '&'.join(split_titles3)\n",
    "#     split_text[2] = split_titles2\n",
    "#     split_text[3] = split_titles3\n",
    "    \n",
    "    for line_num, line in enumerate(split_text[header_num:-footer_num - 1]):\n",
    "        split_line = line.split(' ')\n",
    "        if split_line[0] == 'Corr.':\n",
    "            Corr = True\n",
    "        elif split_line[0] != '':\n",
    "            Corr = False\n",
    "        num_slice = slice(4, None, 2)\n",
    "        numbers_str = split_line[num_slice]\n",
    "        numbers = np.array(\n",
    "            split_line[num_slice],\n",
    "            dtype='float')\n",
    "        if Corr:\n",
    "            best_num = numbers.max()\n",
    "        else:\n",
    "            best_num = numbers[np.abs(numbers).argmin()]\n",
    "        argmins = np.where(numbers == best_num)[0]\n",
    "#         numbers = list(numbers.astype('str'))\n",
    "        for argmin in argmins:\n",
    "            numbers_str[argmin] = '\\\\B ' + numbers_str[argmin]\n",
    "        split_line[num_slice] = numbers_str\n",
    "        split_text[header_num + line_num] = ' '.join(split_line)\n",
    "    \n",
    "#     for count in range(hor_num - 1):\n",
    "#         split_line.insert(((count + 1)*run_num)*2 + 2 + count, '&')\n",
    "#     split_line\n",
    "\n",
    "    \n",
    "    return '\\n'.join(split_text)"
   ]
  },
  {
   "cell_type": "code",
   "execution_count": 11,
   "metadata": {
    "scrolled": false
   },
   "outputs": [
    {
     "name": "stdout",
     "output_type": "stream",
     "text": [
      "\\begin{tabular}{llS[table-format=-1.3]S[table-format=-1.3]S[table-format=-1.3]S[table-format=-1.3]S[table-format=-1.3]S[table-format=-1.3]}\n",
      "\\toprule\n",
      " & & {ANOC} & {Persis.} & {Opt.~Flow} & {NWP Winds} & {NWP Avg.~Winds} & {Radiosonde} \\\\\n",
      "{} & Horizon & & & & & & \\\\\n",
      "\\midrule\n",
      "RMSE & 15 & \\B 0.11 & 0.12 & \\B 0.11 & 0.12 & 0.12 & 0.14 \\\\\n",
      " & 30 & \\B 0.12 & 0.14 & 0.13 & 0.14 & 0.14 & 0.15 \\\\\n",
      " & 45 & \\B 0.13 & 0.15 & 0.15 & 0.15 & 0.15 & 0.16 \\\\\n",
      " & 60 & \\B 0.13 & 0.16 & 0.15 & 0.15 & 0.15 & 0.16 \\\\\n",
      "Corr. & 15 & \\B 0.88 & 0.84 & 0.87 & 0.85 & 0.86 & 0.80 \\\\\n",
      " & 30 & \\B 0.84 & 0.79 & 0.82 & 0.79 & 0.79 & 0.75 \\\\\n",
      " & 45 & \\B 0.83 & 0.76 & 0.78 & 0.77 & 0.76 & 0.73 \\\\\n",
      " & 60 & \\B 0.81 & 0.74 & 0.75 & 0.76 & 0.75 & 0.71 \\\\\n",
      "Bias & 15 & \\B -0.00 & \\B -0.00 & \\B -0.00 & -0.01 & -0.01 & -0.01 \\\\\n",
      " & 30 & \\B -0.00 & \\B -0.00 & \\B -0.00 & -0.02 & -0.02 & -0.01 \\\\\n",
      " & 45 & \\B -0.01 & \\B -0.01 & \\B -0.01 & -0.02 & -0.02 & -0.02 \\\\\n",
      " & 60 & \\B -0.01 & \\B -0.01 & \\B -0.01 & -0.02 & -0.02 & -0.02 \\\\\n",
      "\\bottomrule\n",
      "\\end{tabular}\n",
      "\n"
     ]
    }
   ],
   "source": [
    "column_format = 'll' + 'S[table-format=-1.3]' * len(runs)\n",
    "text = combined.round(decimals=decimals).to_latex(column_format=column_format)\n",
    "text2 = format_table(text)\n",
    "text2 = re.sub('\\\\\\\\textasciitilde', '~', text2, count=5)\n",
    "print(text2)"
   ]
  },
  {
   "cell_type": "code",
   "execution_count": 12,
   "metadata": {},
   "outputs": [],
   "source": [
    "this_file = os.path.join(save_directory, f'{file_name}_results.tex')\n",
    "with open(this_file, 'w') as file:\n",
    "    file.write(text2)"
   ]
  },
  {
   "cell_type": "code",
   "execution_count": 13,
   "metadata": {},
   "outputs": [
    {
     "name": "stdout",
     "output_type": "stream",
     "text": [
      "\\begin{tabular}{llS[table-format=-1.3]S[table-format=-1.3]S[table-format=-1.3]S[table-format=-1.3]S[table-format=-1.3]S[table-format=-1.3]}\n",
      "\\toprule\n",
      " & & {ANOC} & {Persis.} & {Opt.~Flow} & {NWP Winds} & {NWP Avg.~Winds} & {Radiosonde} \\\\\n",
      "{} & Horizon & & & & & & \\\\\n",
      "\\midrule\n",
      "RMSE & 15 & \\B 0.11 & 0.12 & \\B 0.11 & 0.12 & 0.12 & 0.14 \\\\\n",
      " & 30 & \\B 0.12 & 0.14 & 0.13 & 0.14 & 0.14 & 0.15 \\\\\n",
      " & 45 & \\B 0.13 & 0.15 & 0.15 & 0.15 & 0.15 & 0.16 \\\\\n",
      " & 60 & \\B 0.13 & 0.16 & 0.15 & 0.15 & 0.15 & 0.16 \\\\\n",
      "Corr. & 15 & \\B 0.88 & 0.84 & 0.87 & 0.85 & 0.86 & 0.80 \\\\\n",
      " & 30 & \\B 0.84 & 0.79 & 0.82 & 0.79 & 0.79 & 0.75 \\\\\n",
      " & 45 & \\B 0.83 & 0.76 & 0.78 & 0.77 & 0.76 & 0.73 \\\\\n",
      " & 60 & \\B 0.81 & 0.74 & 0.75 & 0.76 & 0.75 & 0.71 \\\\\n",
      "Bias & 15 & \\B -0.00 & \\B -0.00 & \\B -0.00 & -0.01 & -0.01 & -0.01 \\\\\n",
      " & 30 & \\B -0.00 & \\B -0.00 & \\B -0.00 & -0.02 & -0.02 & -0.01 \\\\\n",
      " & 45 & \\B -0.01 & \\B -0.01 & \\B -0.01 & -0.02 & -0.02 & -0.02 \\\\\n",
      " & 60 & \\B -0.01 & \\B -0.01 & \\B -0.01 & -0.02 & -0.02 & -0.02 \\\\\n",
      "\\bottomrule\n",
      "\\end{tabular}\n",
      "\n"
     ]
    }
   ],
   "source": [
    "print(text2)"
   ]
  },
  {
   "cell_type": "code",
   "execution_count": 14,
   "metadata": {},
   "outputs": [
    {
     "data": {
      "text/plain": [
       "'/home2/travis/python_code/letkf_forecasting/tables/all_days_results.tex'"
      ]
     },
     "execution_count": 14,
     "metadata": {},
     "output_type": "execute_result"
    }
   ],
   "source": [
    "this_file"
   ]
  },
  {
   "cell_type": "markdown",
   "metadata": {},
   "source": [
    "# Skill Score table"
   ]
  },
  {
   "cell_type": "code",
   "execution_count": 15,
   "metadata": {},
   "outputs": [],
   "source": [
    "def format_table_SS(text, header_num=4, footer_num=2):\n",
    "    text = text.split(' ')\n",
    "    text = list(filter(is_empty, text))\n",
    "    text = ' '.join(text)\n",
    "    split_text = text.split('\\n')\n",
    "    hor = split_text[3]\n",
    "    hor = hor.split('&')[0]\n",
    "    split_text.pop(3)\n",
    "    split_titles2 = split_text[2]\n",
    "    removed = split_titles2[-2:]\n",
    "    split_titles2 = split_titles2[:-2]\n",
    "    split_titles2 = split_titles2.split('&')\n",
    "    split_titles2[0] = hor\n",
    "    for count, this in enumerate(split_titles2):\n",
    "        if len(this) > 2:\n",
    "            if this[0] == ' ':\n",
    "                this = this[1:]\n",
    "            if this[-1] == ' ':\n",
    "                this = this[:-1]\n",
    "            this = ' {' + this + '} '\n",
    "            split_titles2[count] = this\n",
    "#     split_text[2] = '&'.join(split_titles2) + removed\n",
    "    split_text[2] = '&'.join(split_titles2) + removed\n",
    "#     split_titles3 = split_text[3].split('&')\n",
    "#             split_titles2[num] = title[:-8]\n",
    "#             split_titles3[num] = title[-9:]\n",
    "#     print(split_titles2)\n",
    "#     return split_text[2]\n",
    "#     split_titles2 = '&'.join(split_titles2)\n",
    "#     split_titles3 = '&'.join(split_titles3)\n",
    "#     split_text[2] = split_titles2\n",
    "#     split_text[3] = split_titles3\n",
    "    \n",
    "    for line_num, line in enumerate(split_text[header_num:-footer_num - 1]):\n",
    "        split_line = line.split(' ')\n",
    "        num_slice = slice(2, None, 2)\n",
    "        numbers_str = split_line[num_slice]\n",
    "        numbers = np.array(\n",
    "            split_line[num_slice],\n",
    "            dtype='float')\n",
    "        best_num = numbers.max()\n",
    "        argmins = np.where(numbers == best_num)[0]\n",
    "#         numbers = list(numbers.astype('str'))\n",
    "        for argmin in argmins:\n",
    "            numbers_str[argmin] = '\\\\B ' + numbers_str[argmin]\n",
    "        split_line[num_slice] = numbers_str\n",
    "        split_text[header_num + line_num] = ' '.join(split_line)\n",
    "    \n",
    "#     for count in range(hor_num - 1):\n",
    "#         split_line.insert(((count + 1)*run_num)*2 + 2 + count, '&')\n",
    "#     split_line\n",
    "\n",
    "    \n",
    "    return '\\n'.join(split_text)"
   ]
  },
  {
   "cell_type": "code",
   "execution_count": 16,
   "metadata": {},
   "outputs": [],
   "source": [
    "SS_per = 1 - rmse[\n",
    "    ['owp_opt',\n",
    "     'opt_flow',\n",
    "     'wrf_no_div']].div(\n",
    "    rmse['persistence'], axis='index')\n",
    "SS_per = SS_per.rename(columns=legend_dict)"
   ]
  },
  {
   "cell_type": "code",
   "execution_count": 17,
   "metadata": {},
   "outputs": [
    {
     "name": "stdout",
     "output_type": "stream",
     "text": [
      "\\begin{tabular}{lS[table-format=-1.3]S[table-format=-1.3]S[table-format=-1.3]}\n",
      "\\toprule\n",
      "{} &  ANOC &  Opt.\\textasciitildeFlow &  NWP Winds \\\\\n",
      "Horizon &       &            &            \\\\\n",
      "\\midrule\n",
      "15      &  0.12 &       0.09 &       0.05 \\\\\n",
      "30      &  0.14 &       0.07 &       0.01 \\\\\n",
      "45      &  0.17 &       0.05 &       0.04 \\\\\n",
      "60      &  0.16 &       0.03 &       0.05 \\\\\n",
      "\\bottomrule\n",
      "\\end{tabular}\n",
      "\n",
      "\\begin{tabular}{lS[table-format=-1.3]S[table-format=-1.3]S[table-format=-1.3]}\n",
      "\\toprule\n",
      " {Horizon} & {ANOC} & {Opt.~Flow} & {NWP Winds} \\\\\n",
      "\\midrule\n",
      "15 & \\B 0.12 & 0.09 & 0.05 \\\\\n",
      "30 & \\B 0.14 & 0.07 & 0.01 \\\\\n",
      "45 & \\B 0.17 & 0.05 & 0.04 \\\\\n",
      "60 & \\B 0.16 & 0.03 & 0.05 \\\\\n",
      "\\bottomrule\n",
      "\\end{tabular}\n",
      "\n"
     ]
    }
   ],
   "source": [
    "column_format = 'l' + 'S[table-format=-1.3]' * 3\n",
    "text = SS_per.round(\n",
    "    decimals=decimals).to_latex(\n",
    "    column_format=column_format)\n",
    "text2 = format_table_SS(text)\n",
    "text2 = re.sub('\\\\\\\\textasciitilde', '~', text2, count=5)\n",
    "print(text)\n",
    "print(text2)"
   ]
  },
  {
   "cell_type": "code",
   "execution_count": 18,
   "metadata": {},
   "outputs": [],
   "source": [
    "this_file = os.path.join(save_directory, f'{file_name}_SS.tex')\n",
    "with open(this_file, 'w') as file:\n",
    "    file.write(text2)"
   ]
  },
  {
   "cell_type": "code",
   "execution_count": null,
   "metadata": {},
   "outputs": [],
   "source": []
  },
  {
   "cell_type": "code",
   "execution_count": null,
   "metadata": {},
   "outputs": [],
   "source": []
  },
  {
   "cell_type": "code",
   "execution_count": null,
   "metadata": {},
   "outputs": [],
   "source": []
  },
  {
   "cell_type": "code",
   "execution_count": null,
   "metadata": {},
   "outputs": [],
   "source": []
  },
  {
   "cell_type": "code",
   "execution_count": null,
   "metadata": {},
   "outputs": [],
   "source": []
  },
  {
   "cell_type": "code",
   "execution_count": null,
   "metadata": {},
   "outputs": [],
   "source": []
  },
  {
   "cell_type": "code",
   "execution_count": null,
   "metadata": {},
   "outputs": [],
   "source": []
  },
  {
   "cell_type": "code",
   "execution_count": null,
   "metadata": {},
   "outputs": [],
   "source": []
  },
  {
   "cell_type": "code",
   "execution_count": null,
   "metadata": {},
   "outputs": [],
   "source": []
  },
  {
   "cell_type": "code",
   "execution_count": null,
   "metadata": {},
   "outputs": [],
   "source": []
  },
  {
   "cell_type": "code",
   "execution_count": null,
   "metadata": {},
   "outputs": [],
   "source": []
  },
  {
   "cell_type": "code",
   "execution_count": null,
   "metadata": {},
   "outputs": [],
   "source": []
  },
  {
   "cell_type": "code",
   "execution_count": null,
   "metadata": {},
   "outputs": [],
   "source": []
  },
  {
   "cell_type": "code",
   "execution_count": null,
   "metadata": {},
   "outputs": [],
   "source": []
  },
  {
   "cell_type": "code",
   "execution_count": 75,
   "metadata": {},
   "outputs": [
    {
     "data": {
      "text/plain": [
       "'all_days'"
      ]
     },
     "execution_count": 75,
     "metadata": {},
     "output_type": "execute_result"
    }
   ],
   "source": [
    "file_name"
   ]
  },
  {
   "cell_type": "code",
   "execution_count": 24,
   "metadata": {},
   "outputs": [
    {
     "name": "stdout",
     "output_type": "stream",
     "text": [
      "1564567\n"
     ]
    }
   ],
   "source": [
    "this = '1234567'\n",
    "print(re.sub('23', '56', this))"
   ]
  },
  {
   "cell_type": "code",
   "execution_count": null,
   "metadata": {},
   "outputs": [],
   "source": []
  },
  {
   "cell_type": "code",
   "execution_count": null,
   "metadata": {},
   "outputs": [],
   "source": []
  },
  {
   "cell_type": "code",
   "execution_count": null,
   "metadata": {},
   "outputs": [],
   "source": []
  },
  {
   "cell_type": "code",
   "execution_count": 13,
   "metadata": {},
   "outputs": [
    {
     "data": {
      "text/plain": [
       "'/home2/travis/python_code/letkf_forecasting/tables/all_days_results.tex'"
      ]
     },
     "execution_count": 13,
     "metadata": {},
     "output_type": "execute_result"
    }
   ],
   "source": [
    "this_file"
   ]
  },
  {
   "cell_type": "code",
   "execution_count": 69,
   "metadata": {},
   "outputs": [
    {
     "data": {
      "text/plain": [
       "       Horizon\n",
       "RMSE   15         0.123792\n",
       "       30         0.143389\n",
       "       45         0.153501\n",
       "       60         0.157643\n",
       "Corr.  15         0.843885\n",
       "       30         0.790749\n",
       "       45         0.759401\n",
       "       60         0.743022\n",
       "Bias   15        -0.002230\n",
       "       30        -0.004713\n",
       "       45        -0.006853\n",
       "       60        -0.009265\n",
       "Name: Persis., dtype: float64"
      ]
     },
     "execution_count": 69,
     "metadata": {},
     "output_type": "execute_result"
    }
   ],
   "source": [
    "combined['Persis.']"
   ]
  },
  {
   "cell_type": "code",
   "execution_count": 79,
   "metadata": {},
   "outputs": [
    {
     "data": {
      "text/html": [
       "<div>\n",
       "<style>\n",
       "    .dataframe thead tr:only-child th {\n",
       "        text-align: right;\n",
       "    }\n",
       "\n",
       "    .dataframe thead th {\n",
       "        text-align: left;\n",
       "    }\n",
       "\n",
       "    .dataframe tbody tr th {\n",
       "        vertical-align: top;\n",
       "    }\n",
       "</style>\n",
       "<table border=\"1\" class=\"dataframe\">\n",
       "  <thead>\n",
       "    <tr style=\"text-align: right;\">\n",
       "      <th></th>\n",
       "      <th>BACON</th>\n",
       "      <th>Persis.</th>\n",
       "      <th>Opt. Flow</th>\n",
       "      <th>WRF</th>\n",
       "      <th>WRF Mean</th>\n",
       "      <th>Radiosonde</th>\n",
       "    </tr>\n",
       "    <tr>\n",
       "      <th>Horizon</th>\n",
       "      <th></th>\n",
       "      <th></th>\n",
       "      <th></th>\n",
       "      <th></th>\n",
       "      <th></th>\n",
       "      <th></th>\n",
       "    </tr>\n",
       "  </thead>\n",
       "  <tbody>\n",
       "    <tr>\n",
       "      <th>15</th>\n",
       "      <td>0.124201</td>\n",
       "      <td>0.0</td>\n",
       "      <td>0.088876</td>\n",
       "      <td>0.049304</td>\n",
       "      <td>0.060016</td>\n",
       "      <td>-0.119027</td>\n",
       "    </tr>\n",
       "    <tr>\n",
       "      <th>30</th>\n",
       "      <td>0.137696</td>\n",
       "      <td>0.0</td>\n",
       "      <td>0.071620</td>\n",
       "      <td>0.009154</td>\n",
       "      <td>0.021082</td>\n",
       "      <td>-0.073548</td>\n",
       "    </tr>\n",
       "    <tr>\n",
       "      <th>45</th>\n",
       "      <td>0.173878</td>\n",
       "      <td>0.0</td>\n",
       "      <td>0.053268</td>\n",
       "      <td>0.040620</td>\n",
       "      <td>0.031870</td>\n",
       "      <td>-0.035722</td>\n",
       "    </tr>\n",
       "    <tr>\n",
       "      <th>60</th>\n",
       "      <td>0.164442</td>\n",
       "      <td>0.0</td>\n",
       "      <td>0.030065</td>\n",
       "      <td>0.047529</td>\n",
       "      <td>0.037172</td>\n",
       "      <td>-0.040449</td>\n",
       "    </tr>\n",
       "  </tbody>\n",
       "</table>\n",
       "</div>"
      ],
      "text/plain": [
       "            BACON  Persis.  Opt. Flow       WRF  WRF Mean  Radiosonde\n",
       "Horizon                                                              \n",
       "15       0.124201      0.0   0.088876  0.049304  0.060016   -0.119027\n",
       "30       0.137696      0.0   0.071620  0.009154  0.021082   -0.073548\n",
       "45       0.173878      0.0   0.053268  0.040620  0.031870   -0.035722\n",
       "60       0.164442      0.0   0.030065  0.047529  0.037172   -0.040449"
      ]
     },
     "execution_count": 79,
     "metadata": {},
     "output_type": "execute_result"
    }
   ],
   "source": [
    "1 - combined.loc['RMSE'].divide(combined.loc['RMSE']['Persis.'], axis=0)"
   ]
  },
  {
   "cell_type": "code",
   "execution_count": 74,
   "metadata": {},
   "outputs": [
    {
     "data": {
      "text/plain": [
       "Horizon\n",
       "15    0.123792\n",
       "30    0.143389\n",
       "45    0.153501\n",
       "60    0.157643\n",
       "Name: Persis., dtype: float64"
      ]
     },
     "execution_count": 74,
     "metadata": {},
     "output_type": "execute_result"
    }
   ],
   "source": [
    "combined.loc['RMSE']['Persis.']"
   ]
  },
  {
   "cell_type": "code",
   "execution_count": 72,
   "metadata": {},
   "outputs": [
    {
     "name": "stderr",
     "output_type": "stream",
     "text": [
      "/home/travis/miniconda3/envs/letkf/lib/python3.6/site-packages/pandas/core/indexes/base.py:3033: RuntimeWarning: '<' not supported between instances of 'str' and 'int', sort order is undefined for incomparable objects\n",
      "  return this.join(other, how=how, return_indexers=return_indexers)\n"
     ]
    },
    {
     "data": {
      "text/html": [
       "<div>\n",
       "<style>\n",
       "    .dataframe thead tr:only-child th {\n",
       "        text-align: right;\n",
       "    }\n",
       "\n",
       "    .dataframe thead th {\n",
       "        text-align: left;\n",
       "    }\n",
       "\n",
       "    .dataframe tbody tr th {\n",
       "        vertical-align: top;\n",
       "    }\n",
       "</style>\n",
       "<table border=\"1\" class=\"dataframe\">\n",
       "  <thead>\n",
       "    <tr style=\"text-align: right;\">\n",
       "      <th></th>\n",
       "      <th>BACON</th>\n",
       "      <th>Persis.</th>\n",
       "      <th>Opt. Flow</th>\n",
       "      <th>WRF</th>\n",
       "      <th>WRF Mean</th>\n",
       "      <th>Radiosonde</th>\n",
       "      <th>15</th>\n",
       "      <th>30</th>\n",
       "      <th>45</th>\n",
       "      <th>60</th>\n",
       "    </tr>\n",
       "    <tr>\n",
       "      <th>Horizon</th>\n",
       "      <th></th>\n",
       "      <th></th>\n",
       "      <th></th>\n",
       "      <th></th>\n",
       "      <th></th>\n",
       "      <th></th>\n",
       "      <th></th>\n",
       "      <th></th>\n",
       "      <th></th>\n",
       "      <th></th>\n",
       "    </tr>\n",
       "  </thead>\n",
       "  <tbody>\n",
       "    <tr>\n",
       "      <th>15</th>\n",
       "      <td>NaN</td>\n",
       "      <td>NaN</td>\n",
       "      <td>NaN</td>\n",
       "      <td>NaN</td>\n",
       "      <td>NaN</td>\n",
       "      <td>NaN</td>\n",
       "      <td>NaN</td>\n",
       "      <td>NaN</td>\n",
       "      <td>NaN</td>\n",
       "      <td>NaN</td>\n",
       "    </tr>\n",
       "    <tr>\n",
       "      <th>30</th>\n",
       "      <td>NaN</td>\n",
       "      <td>NaN</td>\n",
       "      <td>NaN</td>\n",
       "      <td>NaN</td>\n",
       "      <td>NaN</td>\n",
       "      <td>NaN</td>\n",
       "      <td>NaN</td>\n",
       "      <td>NaN</td>\n",
       "      <td>NaN</td>\n",
       "      <td>NaN</td>\n",
       "    </tr>\n",
       "    <tr>\n",
       "      <th>45</th>\n",
       "      <td>NaN</td>\n",
       "      <td>NaN</td>\n",
       "      <td>NaN</td>\n",
       "      <td>NaN</td>\n",
       "      <td>NaN</td>\n",
       "      <td>NaN</td>\n",
       "      <td>NaN</td>\n",
       "      <td>NaN</td>\n",
       "      <td>NaN</td>\n",
       "      <td>NaN</td>\n",
       "    </tr>\n",
       "    <tr>\n",
       "      <th>60</th>\n",
       "      <td>NaN</td>\n",
       "      <td>NaN</td>\n",
       "      <td>NaN</td>\n",
       "      <td>NaN</td>\n",
       "      <td>NaN</td>\n",
       "      <td>NaN</td>\n",
       "      <td>NaN</td>\n",
       "      <td>NaN</td>\n",
       "      <td>NaN</td>\n",
       "      <td>NaN</td>\n",
       "    </tr>\n",
       "  </tbody>\n",
       "</table>\n",
       "</div>"
      ],
      "text/plain": [
       "         BACON  Persis.  Opt. Flow  WRF  WRF Mean  Radiosonde  15  30  45  60\n",
       "Horizon                                                                      \n",
       "15         NaN      NaN        NaN  NaN       NaN         NaN NaN NaN NaN NaN\n",
       "30         NaN      NaN        NaN  NaN       NaN         NaN NaN NaN NaN NaN\n",
       "45         NaN      NaN        NaN  NaN       NaN         NaN NaN NaN NaN NaN\n",
       "60         NaN      NaN        NaN  NaN       NaN         NaN NaN NaN NaN NaN"
      ]
     },
     "execution_count": 72,
     "metadata": {},
     "output_type": "execute_result"
    }
   ],
   "source": [
    "combined.loc['RMSE'] - combined['Persis.'].loc['RMSE']"
   ]
  },
  {
   "cell_type": "code",
   "execution_count": 68,
   "metadata": {},
   "outputs": [
    {
     "ename": "ValueError",
     "evalue": "cannot join with no level specified and no overlapping names",
     "output_type": "error",
     "traceback": [
      "\u001b[0;31m---------------------------------------------------------------------------\u001b[0m",
      "\u001b[0;31mValueError\u001b[0m                                Traceback (most recent call last)",
      "\u001b[0;32m<ipython-input-68-9b7b96333e11>\u001b[0m in \u001b[0;36m<module>\u001b[0;34m()\u001b[0m\n\u001b[0;32m----> 1\u001b[0;31m \u001b[0mcombinedss\u001b[0m \u001b[0;34m=\u001b[0m \u001b[0mcombined\u001b[0m \u001b[0;34m-\u001b[0m \u001b[0mcombined\u001b[0m\u001b[0;34m[\u001b[0m\u001b[0;34m'Persis.'\u001b[0m\u001b[0;34m]\u001b[0m\u001b[0;34m\u001b[0m\u001b[0m\n\u001b[0m",
      "\u001b[0;32m/home/travis/miniconda3/envs/letkf/lib/python3.6/site-packages/pandas/core/ops.py\u001b[0m in \u001b[0;36mf\u001b[0;34m(self, other, axis, level, fill_value)\u001b[0m\n\u001b[1;32m   1234\u001b[0m             \u001b[0;32mreturn\u001b[0m \u001b[0mself\u001b[0m\u001b[0;34m.\u001b[0m\u001b[0m_combine_frame\u001b[0m\u001b[0;34m(\u001b[0m\u001b[0mother\u001b[0m\u001b[0;34m,\u001b[0m \u001b[0mna_op\u001b[0m\u001b[0;34m,\u001b[0m \u001b[0mfill_value\u001b[0m\u001b[0;34m,\u001b[0m \u001b[0mlevel\u001b[0m\u001b[0;34m)\u001b[0m\u001b[0;34m\u001b[0m\u001b[0m\n\u001b[1;32m   1235\u001b[0m         \u001b[0;32melif\u001b[0m \u001b[0misinstance\u001b[0m\u001b[0;34m(\u001b[0m\u001b[0mother\u001b[0m\u001b[0;34m,\u001b[0m \u001b[0mABCSeries\u001b[0m\u001b[0;34m)\u001b[0m\u001b[0;34m:\u001b[0m\u001b[0;34m\u001b[0m\u001b[0m\n\u001b[0;32m-> 1236\u001b[0;31m             \u001b[0;32mreturn\u001b[0m \u001b[0mself\u001b[0m\u001b[0;34m.\u001b[0m\u001b[0m_combine_series\u001b[0m\u001b[0;34m(\u001b[0m\u001b[0mother\u001b[0m\u001b[0;34m,\u001b[0m \u001b[0mna_op\u001b[0m\u001b[0;34m,\u001b[0m \u001b[0mfill_value\u001b[0m\u001b[0;34m,\u001b[0m \u001b[0maxis\u001b[0m\u001b[0;34m,\u001b[0m \u001b[0mlevel\u001b[0m\u001b[0;34m)\u001b[0m\u001b[0;34m\u001b[0m\u001b[0m\n\u001b[0m\u001b[1;32m   1237\u001b[0m         \u001b[0;32melse\u001b[0m\u001b[0;34m:\u001b[0m\u001b[0;34m\u001b[0m\u001b[0m\n\u001b[1;32m   1238\u001b[0m             \u001b[0;32mif\u001b[0m \u001b[0mfill_value\u001b[0m \u001b[0;32mis\u001b[0m \u001b[0;32mnot\u001b[0m \u001b[0;32mNone\u001b[0m\u001b[0;34m:\u001b[0m\u001b[0;34m\u001b[0m\u001b[0m\n",
      "\u001b[0;32m/home/travis/miniconda3/envs/letkf/lib/python3.6/site-packages/pandas/core/frame.py\u001b[0m in \u001b[0;36m_combine_series\u001b[0;34m(self, other, func, fill_value, axis, level)\u001b[0m\n\u001b[1;32m   3504\u001b[0m                                                    fill_value=fill_value)\n\u001b[1;32m   3505\u001b[0m         return self._combine_series_infer(other, func, level=level,\n\u001b[0;32m-> 3506\u001b[0;31m                                           fill_value=fill_value)\n\u001b[0m\u001b[1;32m   3507\u001b[0m \u001b[0;34m\u001b[0m\u001b[0m\n\u001b[1;32m   3508\u001b[0m     \u001b[0;32mdef\u001b[0m \u001b[0m_combine_series_infer\u001b[0m\u001b[0;34m(\u001b[0m\u001b[0mself\u001b[0m\u001b[0;34m,\u001b[0m \u001b[0mother\u001b[0m\u001b[0;34m,\u001b[0m \u001b[0mfunc\u001b[0m\u001b[0;34m,\u001b[0m \u001b[0mlevel\u001b[0m\u001b[0;34m=\u001b[0m\u001b[0;32mNone\u001b[0m\u001b[0;34m,\u001b[0m \u001b[0mfill_value\u001b[0m\u001b[0;34m=\u001b[0m\u001b[0;32mNone\u001b[0m\u001b[0;34m)\u001b[0m\u001b[0;34m:\u001b[0m\u001b[0;34m\u001b[0m\u001b[0m\n",
      "\u001b[0;32m/home/travis/miniconda3/envs/letkf/lib/python3.6/site-packages/pandas/core/frame.py\u001b[0m in \u001b[0;36m_combine_series_infer\u001b[0;34m(self, other, func, level, fill_value)\u001b[0m\n\u001b[1;32m   3516\u001b[0m \u001b[0;34m\u001b[0m\u001b[0m\n\u001b[1;32m   3517\u001b[0m         return self._combine_match_columns(other, func, level=level,\n\u001b[0;32m-> 3518\u001b[0;31m                                            fill_value=fill_value)\n\u001b[0m\u001b[1;32m   3519\u001b[0m \u001b[0;34m\u001b[0m\u001b[0m\n\u001b[1;32m   3520\u001b[0m     \u001b[0;32mdef\u001b[0m \u001b[0m_combine_match_index\u001b[0m\u001b[0;34m(\u001b[0m\u001b[0mself\u001b[0m\u001b[0;34m,\u001b[0m \u001b[0mother\u001b[0m\u001b[0;34m,\u001b[0m \u001b[0mfunc\u001b[0m\u001b[0;34m,\u001b[0m \u001b[0mlevel\u001b[0m\u001b[0;34m=\u001b[0m\u001b[0;32mNone\u001b[0m\u001b[0;34m,\u001b[0m \u001b[0mfill_value\u001b[0m\u001b[0;34m=\u001b[0m\u001b[0;32mNone\u001b[0m\u001b[0;34m)\u001b[0m\u001b[0;34m:\u001b[0m\u001b[0;34m\u001b[0m\u001b[0m\n",
      "\u001b[0;32m/home/travis/miniconda3/envs/letkf/lib/python3.6/site-packages/pandas/core/frame.py\u001b[0m in \u001b[0;36m_combine_match_columns\u001b[0;34m(self, other, func, level, fill_value)\u001b[0m\n\u001b[1;32m   3530\u001b[0m     \u001b[0;32mdef\u001b[0m \u001b[0m_combine_match_columns\u001b[0m\u001b[0;34m(\u001b[0m\u001b[0mself\u001b[0m\u001b[0;34m,\u001b[0m \u001b[0mother\u001b[0m\u001b[0;34m,\u001b[0m \u001b[0mfunc\u001b[0m\u001b[0;34m,\u001b[0m \u001b[0mlevel\u001b[0m\u001b[0;34m=\u001b[0m\u001b[0;32mNone\u001b[0m\u001b[0;34m,\u001b[0m \u001b[0mfill_value\u001b[0m\u001b[0;34m=\u001b[0m\u001b[0;32mNone\u001b[0m\u001b[0;34m)\u001b[0m\u001b[0;34m:\u001b[0m\u001b[0;34m\u001b[0m\u001b[0m\n\u001b[1;32m   3531\u001b[0m         left, right = self.align(other, join='outer', axis=1, level=level,\n\u001b[0;32m-> 3532\u001b[0;31m                                  copy=False)\n\u001b[0m\u001b[1;32m   3533\u001b[0m         \u001b[0;32mif\u001b[0m \u001b[0mfill_value\u001b[0m \u001b[0;32mis\u001b[0m \u001b[0;32mnot\u001b[0m \u001b[0;32mNone\u001b[0m\u001b[0;34m:\u001b[0m\u001b[0;34m\u001b[0m\u001b[0m\n\u001b[1;32m   3534\u001b[0m             raise NotImplementedError(\"fill_value %r not supported\" %\n",
      "\u001b[0;32m/home/travis/miniconda3/envs/letkf/lib/python3.6/site-packages/pandas/core/frame.py\u001b[0m in \u001b[0;36malign\u001b[0;34m(self, other, join, axis, level, copy, fill_value, method, limit, fill_axis, broadcast_axis)\u001b[0m\n\u001b[1;32m   2726\u001b[0m                                             \u001b[0mmethod\u001b[0m\u001b[0;34m=\u001b[0m\u001b[0mmethod\u001b[0m\u001b[0;34m,\u001b[0m \u001b[0mlimit\u001b[0m\u001b[0;34m=\u001b[0m\u001b[0mlimit\u001b[0m\u001b[0;34m,\u001b[0m\u001b[0;34m\u001b[0m\u001b[0m\n\u001b[1;32m   2727\u001b[0m                                             \u001b[0mfill_axis\u001b[0m\u001b[0;34m=\u001b[0m\u001b[0mfill_axis\u001b[0m\u001b[0;34m,\u001b[0m\u001b[0;34m\u001b[0m\u001b[0m\n\u001b[0;32m-> 2728\u001b[0;31m                                             broadcast_axis=broadcast_axis)\n\u001b[0m\u001b[1;32m   2729\u001b[0m \u001b[0;34m\u001b[0m\u001b[0m\n\u001b[1;32m   2730\u001b[0m     \u001b[0;34m@\u001b[0m\u001b[0mAppender\u001b[0m\u001b[0;34m(\u001b[0m\u001b[0m_shared_docs\u001b[0m\u001b[0;34m[\u001b[0m\u001b[0;34m'reindex'\u001b[0m\u001b[0;34m]\u001b[0m \u001b[0;34m%\u001b[0m \u001b[0m_shared_doc_kwargs\u001b[0m\u001b[0;34m)\u001b[0m\u001b[0;34m\u001b[0m\u001b[0m\n",
      "\u001b[0;32m/home/travis/miniconda3/envs/letkf/lib/python3.6/site-packages/pandas/core/generic.py\u001b[0m in \u001b[0;36malign\u001b[0;34m(self, other, join, axis, level, copy, fill_value, method, limit, fill_axis, broadcast_axis)\u001b[0m\n\u001b[1;32m   4935\u001b[0m                                       \u001b[0mcopy\u001b[0m\u001b[0;34m=\u001b[0m\u001b[0mcopy\u001b[0m\u001b[0;34m,\u001b[0m \u001b[0mfill_value\u001b[0m\u001b[0;34m=\u001b[0m\u001b[0mfill_value\u001b[0m\u001b[0;34m,\u001b[0m\u001b[0;34m\u001b[0m\u001b[0m\n\u001b[1;32m   4936\u001b[0m                                       \u001b[0mmethod\u001b[0m\u001b[0;34m=\u001b[0m\u001b[0mmethod\u001b[0m\u001b[0;34m,\u001b[0m \u001b[0mlimit\u001b[0m\u001b[0;34m=\u001b[0m\u001b[0mlimit\u001b[0m\u001b[0;34m,\u001b[0m\u001b[0;34m\u001b[0m\u001b[0m\n\u001b[0;32m-> 4937\u001b[0;31m                                       fill_axis=fill_axis)\n\u001b[0m\u001b[1;32m   4938\u001b[0m         \u001b[0;32melse\u001b[0m\u001b[0;34m:\u001b[0m  \u001b[0;31m# pragma: no cover\u001b[0m\u001b[0;34m\u001b[0m\u001b[0m\n\u001b[1;32m   4939\u001b[0m             \u001b[0;32mraise\u001b[0m \u001b[0mTypeError\u001b[0m\u001b[0;34m(\u001b[0m\u001b[0;34m'unsupported type: %s'\u001b[0m \u001b[0;34m%\u001b[0m \u001b[0mtype\u001b[0m\u001b[0;34m(\u001b[0m\u001b[0mother\u001b[0m\u001b[0;34m)\u001b[0m\u001b[0;34m)\u001b[0m\u001b[0;34m\u001b[0m\u001b[0m\n",
      "\u001b[0;32m/home/travis/miniconda3/envs/letkf/lib/python3.6/site-packages/pandas/core/generic.py\u001b[0m in \u001b[0;36m_align_series\u001b[0;34m(self, other, join, axis, level, copy, fill_value, method, limit, fill_axis)\u001b[0m\n\u001b[1;32m   5029\u001b[0m                     join_index, lidx, ridx = self.columns.join(\n\u001b[1;32m   5030\u001b[0m                         \u001b[0mother\u001b[0m\u001b[0;34m.\u001b[0m\u001b[0mindex\u001b[0m\u001b[0;34m,\u001b[0m \u001b[0mhow\u001b[0m\u001b[0;34m=\u001b[0m\u001b[0mjoin\u001b[0m\u001b[0;34m,\u001b[0m \u001b[0mlevel\u001b[0m\u001b[0;34m=\u001b[0m\u001b[0mlevel\u001b[0m\u001b[0;34m,\u001b[0m\u001b[0;34m\u001b[0m\u001b[0m\n\u001b[0;32m-> 5031\u001b[0;31m                         return_indexers=True)\n\u001b[0m\u001b[1;32m   5032\u001b[0m \u001b[0;34m\u001b[0m\u001b[0m\n\u001b[1;32m   5033\u001b[0m                 \u001b[0;32mif\u001b[0m \u001b[0mlidx\u001b[0m \u001b[0;32mis\u001b[0m \u001b[0;32mnot\u001b[0m \u001b[0;32mNone\u001b[0m\u001b[0;34m:\u001b[0m\u001b[0;34m\u001b[0m\u001b[0m\n",
      "\u001b[0;32m/home/travis/miniconda3/envs/letkf/lib/python3.6/site-packages/pandas/core/indexes/base.py\u001b[0m in \u001b[0;36mjoin\u001b[0;34m(self, other, how, level, return_indexers, sort)\u001b[0m\n\u001b[1;32m   2994\u001b[0m             \u001b[0;32melse\u001b[0m\u001b[0;34m:\u001b[0m\u001b[0;34m\u001b[0m\u001b[0m\n\u001b[1;32m   2995\u001b[0m                 return self._join_multi(other, how=how,\n\u001b[0;32m-> 2996\u001b[0;31m                                         return_indexers=return_indexers)\n\u001b[0m\u001b[1;32m   2997\u001b[0m \u001b[0;34m\u001b[0m\u001b[0m\n\u001b[1;32m   2998\u001b[0m         \u001b[0;31m# join on the level\u001b[0m\u001b[0;34m\u001b[0m\u001b[0;34m\u001b[0m\u001b[0m\n",
      "\u001b[0;32m/home/travis/miniconda3/envs/letkf/lib/python3.6/site-packages/pandas/core/indexes/base.py\u001b[0m in \u001b[0;36m_join_multi\u001b[0;34m(self, other, how, return_indexers)\u001b[0m\n\u001b[1;32m   3089\u001b[0m         \u001b[0;31m# need at least 1 in common, but not more than 1\u001b[0m\u001b[0;34m\u001b[0m\u001b[0;34m\u001b[0m\u001b[0m\n\u001b[1;32m   3090\u001b[0m         \u001b[0;32mif\u001b[0m \u001b[0;32mnot\u001b[0m \u001b[0mlen\u001b[0m\u001b[0;34m(\u001b[0m\u001b[0moverlap\u001b[0m\u001b[0;34m)\u001b[0m\u001b[0;34m:\u001b[0m\u001b[0;34m\u001b[0m\u001b[0m\n\u001b[0;32m-> 3091\u001b[0;31m             raise ValueError(\"cannot join with no level specified and no \"\n\u001b[0m\u001b[1;32m   3092\u001b[0m                              \"overlapping names\")\n\u001b[1;32m   3093\u001b[0m         \u001b[0;32mif\u001b[0m \u001b[0mlen\u001b[0m\u001b[0;34m(\u001b[0m\u001b[0moverlap\u001b[0m\u001b[0;34m)\u001b[0m \u001b[0;34m>\u001b[0m \u001b[0;36m1\u001b[0m\u001b[0;34m:\u001b[0m\u001b[0;34m\u001b[0m\u001b[0m\n",
      "\u001b[0;31mValueError\u001b[0m: cannot join with no level specified and no overlapping names"
     ]
    }
   ],
   "source": [
    "combinedss = combined - combined['Persis.']"
   ]
  },
  {
   "cell_type": "code",
   "execution_count": null,
   "metadata": {},
   "outputs": [],
   "source": []
  },
  {
   "cell_type": "code",
   "execution_count": null,
   "metadata": {},
   "outputs": [],
   "source": []
  },
  {
   "cell_type": "code",
   "execution_count": null,
   "metadata": {},
   "outputs": [],
   "source": []
  },
  {
   "cell_type": "code",
   "execution_count": null,
   "metadata": {},
   "outputs": [],
   "source": []
  },
  {
   "cell_type": "code",
   "execution_count": 21,
   "metadata": {},
   "outputs": [],
   "source": [
    "importlib.reload(analyse_results)\n",
    "importlib.reload(letkf_io)\n",
    "\n",
    "base_folder = '/a2/uaren/travis'\n",
    "\n",
    "file_name = 'all_days'\n",
    "\n",
    "decimals = 3\n",
    "\n",
    "runs = [ 'owp_opt', 'persistence', 'opt_flow', 'wrf_no_div']\n",
    "# runs = ['wrf_mean']"
   ]
  },
  {
   "cell_type": "code",
   "execution_count": 22,
   "metadata": {},
   "outputs": [],
   "source": [
    "save_directory = \"/home2/travis/python_code/letkf_forecasting/tables/\""
   ]
  },
  {
   "cell_type": "code",
   "execution_count": 23,
   "metadata": {
    "scrolled": true
   },
   "outputs": [],
   "source": [
    "horizons = [15, 30, 45, 60]"
   ]
  },
  {
   "cell_type": "code",
   "execution_count": 24,
   "metadata": {},
   "outputs": [],
   "source": [
    "legend_dict = {'opt_flow': 'Opt. Flow', \n",
    "               'opt_flow_with_div': 'Opt. Flow w/ Div.',\n",
    "               'wrf_no_div': 'WRF',\n",
    "               'wrf': 'WRF w/ Div.',\n",
    "               'owp_opt': 'BACON',                                                                                \n",
    "               'persistence': 'Persis.',\n",
    "               'radiosonde': 'Radiosonde',\n",
    "               'wrf_mean': 'WRF Mean',\n",
    "               'ens_member': 'Ens. Member'} "
   ]
  },
  {
   "cell_type": "code",
   "execution_count": 49,
   "metadata": {},
   "outputs": [],
   "source": [
    "rmse = pd.DataFrame(index=horizons, columns=runs)\n",
    "rmse.index.name = 'Horizon'\n",
    "correlation = rmse.copy()\n",
    "bias = rmse.copy()\n",
    "truth_sd = rmse.copy()\n",
    "for run_name in runs:\n",
    "    results_folder_path = os.path.join(                                          \n",
    "        base_folder,                                                               \n",
    "        'results',                                                               \n",
    "        'multi_day_error',\n",
    "        'third_set_only_cloudy',                                                             \n",
    "        run_name)\n",
    "    stat_name = 'rmse'\n",
    "    file_path = os.path.join(results_folder_path,\n",
    "                             f'{stat_name}.h5')\n",
    "    rmse[run_name] = pd.read_hdf(file_path, stat_name)\n",
    "    \n",
    "    stat_name = 'bias'\n",
    "    file_path = os.path.join(results_folder_path,\n",
    "                             f'{stat_name}.h5')\n",
    "    bias[run_name] = pd.read_hdf(file_path, stat_name)\n",
    "    \n",
    "    stat_name = 'correlation'\n",
    "    file_path = os.path.join(results_folder_path,\n",
    "                             f'{stat_name}.h5')\n",
    "    correlation[run_name] = pd.read_hdf(file_path, stat_name)\n",
    "    \n",
    "    stat_name = 'truth_sd'\n",
    "    file_path = os.path.join(results_folder_path,\n",
    "                             f'{stat_name}.h5')\n",
    "    truth_sd[run_name] = pd.read_hdf(file_path, stat_name)"
   ]
  },
  {
   "cell_type": "code",
   "execution_count": 50,
   "metadata": {},
   "outputs": [],
   "source": [
    "peices = [rmse, correlation, bias]\n",
    "combined = pd.concat(peices, axis=0,\n",
    "                     keys=['RMSE', 'Corr.', 'Bias'])\n",
    "combined = combined.rename(columns=legend_dict)"
   ]
  },
  {
   "cell_type": "code",
   "execution_count": 51,
   "metadata": {},
   "outputs": [],
   "source": [
    "def is_empty(str):\n",
    "    return str != ''"
   ]
  },
  {
   "cell_type": "code",
   "execution_count": 52,
   "metadata": {},
   "outputs": [],
   "source": [
    "def format_table(text, header_num=5, footer_num=2):\n",
    "    text = text.split(' ')\n",
    "    text = list(filter(is_empty, text))\n",
    "    text = ' '.join(text)\n",
    "    split_text = text.split('\\n')\n",
    "    split_titles2 = split_text[2].split('&')\n",
    "    split_titles3 = split_text[3].split('&')\n",
    "    for num, title in enumerate(split_text[2].split('&')):\n",
    "        if ' w/ Div.' in title:\n",
    "            split_titles2[num] = title[:-8]\n",
    "            split_titles3[num] = title[-9:]\n",
    "    split_titles2 = '&'.join(split_titles2)\n",
    "    split_titles3 = '&'.join(split_titles3)\n",
    "    split_text[2] = split_titles2\n",
    "    split_text[3] = split_titles3\n",
    "    \n",
    "    for line_num, line in enumerate(split_text[header_num:-footer_num - 1]):\n",
    "        split_line = line.split(' ')\n",
    "        if split_line[0] == 'Corr.':\n",
    "            Corr = True\n",
    "        elif split_line[0] != '':\n",
    "            Corr = False\n",
    "        num_slice = slice(4, None, 2)\n",
    "        numbers_str = split_line[num_slice]\n",
    "        numbers = np.array(\n",
    "            split_line[num_slice],\n",
    "            dtype='float')\n",
    "        if Corr:\n",
    "            best_num = numbers.max()\n",
    "        else:\n",
    "            best_num = numbers[np.abs(numbers).argmin()]\n",
    "        argmins = np.where(numbers == best_num)[0]\n",
    "#         numbers = list(numbers.astype('str'))\n",
    "        for argmin in argmins:\n",
    "            numbers_str[argmin] = '\\\\textbf{' + numbers_str[argmin] + '}'\n",
    "        split_line[num_slice] = numbers_str\n",
    "        split_text[header_num + line_num] = ' '.join(split_line)\n",
    "    \n",
    "#     for count in range(hor_num - 1):\n",
    "#         split_line.insert(((count + 1)*run_num)*2 + 2 + count, '&')\n",
    "#     split_line\n",
    "\n",
    "    \n",
    "    return '\\n'.join(split_text)"
   ]
  },
  {
   "cell_type": "code",
   "execution_count": 53,
   "metadata": {
    "scrolled": true
   },
   "outputs": [
    {
     "name": "stdout",
     "output_type": "stream",
     "text": [
      "\\begin{tabular}{llcccc}\n",
      "\\toprule\n",
      " & & BACON & Persis. & Opt. Flow & WRF \\\\\n",
      "{} & Horizon & & & & \\\\\n",
      "\\midrule\n",
      "RMSE & 15 & \\textbf{0.108} & 0.143 & 0.113 & 0.118 \\\\\n",
      " & 30 & \\textbf{0.124} & 0.164 & 0.133 & 0.142 \\\\\n",
      " & 45 & \\textbf{0.127} & 0.175 & 0.145 & 0.147 \\\\\n",
      " & 60 & \\textbf{0.132} & 0.178 & 0.153 & 0.150 \\\\\n",
      "Corr. & 15 & \\textbf{0.868} & 0.832 & 0.859 & 0.844 \\\\\n",
      " & 30 & \\textbf{0.825} & 0.776 & 0.802 & 0.772 \\\\\n",
      " & 45 & \\textbf{0.814} & 0.743 & 0.764 & 0.756 \\\\\n",
      " & 60 & \\textbf{0.797} & 0.728 & 0.739 & 0.746 \\\\\n",
      "Bias & 15 & -0.002 & -0.003 & \\textbf{-0.001} & -0.009 \\\\\n",
      " & 30 & -0.007 & \\textbf{-0.006} & \\textbf{-0.006} & -0.020 \\\\\n",
      " & 45 & -0.011 & \\textbf{-0.008} & -0.012 & -0.026 \\\\\n",
      " & 60 & -0.016 & \\textbf{-0.011} & -0.014 & -0.031 \\\\\n",
      "\\bottomrule\n",
      "\\end{tabular}\n",
      "\n"
     ]
    }
   ],
   "source": [
    "column_format = 'll' + 'c' * len(runs)\n",
    "text = combined.round(decimals=decimals).to_latex(column_format=column_format)\n",
    "text2 = format_table(text)\n",
    "print(text2)"
   ]
  },
  {
   "cell_type": "code",
   "execution_count": null,
   "metadata": {},
   "outputs": [],
   "source": []
  },
  {
   "cell_type": "code",
   "execution_count": null,
   "metadata": {},
   "outputs": [],
   "source": []
  },
  {
   "cell_type": "code",
   "execution_count": null,
   "metadata": {},
   "outputs": [],
   "source": []
  },
  {
   "cell_type": "code",
   "execution_count": 40,
   "metadata": {},
   "outputs": [],
   "source": [
    "importlib.reload(analyse_results)\n",
    "importlib.reload(letkf_io)\n",
    "\n",
    "base_folder = '/a2/uaren/travis'\n",
    "\n",
    "file_name = 'all_days'\n",
    "\n",
    "decimals = 3\n",
    "\n",
    "runs = [ 'owp_opt', 'persistence', 'opt_flow', 'wrf_no_div']\n",
    "# runs = ['wrf_mean']"
   ]
  },
  {
   "cell_type": "code",
   "execution_count": 41,
   "metadata": {},
   "outputs": [],
   "source": [
    "save_directory = \"/home2/travis/python_code/letkf_forecasting/tables/\""
   ]
  },
  {
   "cell_type": "code",
   "execution_count": 42,
   "metadata": {
    "scrolled": true
   },
   "outputs": [],
   "source": [
    "horizons = [15, 30, 45, 60]"
   ]
  },
  {
   "cell_type": "code",
   "execution_count": 43,
   "metadata": {},
   "outputs": [],
   "source": [
    "legend_dict = {'opt_flow': 'Opt. Flow', \n",
    "               'opt_flow_with_div': 'Opt. Flow w/ Div.',\n",
    "               'wrf_no_div': 'WRF',\n",
    "               'wrf': 'WRF w/ Div.',\n",
    "               'owp_opt': 'BACON',                                                                                \n",
    "               'persistence': 'Persis.',\n",
    "               'radiosonde': 'Radiosonde',\n",
    "               'wrf_mean': 'WRF Mean',\n",
    "               'ens_member': 'Ens. Member'} "
   ]
  },
  {
   "cell_type": "code",
   "execution_count": 44,
   "metadata": {},
   "outputs": [],
   "source": [
    "rmse = pd.DataFrame(index=horizons, columns=runs)\n",
    "rmse.index.name = 'Horizon'\n",
    "correlation = rmse.copy()\n",
    "bias = rmse.copy()\n",
    "truth_sd = rmse.copy()\n",
    "for run_name in runs:\n",
    "    results_folder_path = os.path.join(                                          \n",
    "        base_folder,                                                               \n",
    "        'results',                                                               \n",
    "        'multi_day_error',\n",
    "        'third_set_only_cloudy_old',                                                             \n",
    "        run_name)\n",
    "    stat_name = 'rmse'\n",
    "    file_path = os.path.join(results_folder_path,\n",
    "                             f'{stat_name}.h5')\n",
    "    rmse[run_name] = pd.read_hdf(file_path, stat_name)\n",
    "    \n",
    "    stat_name = 'bias'\n",
    "    file_path = os.path.join(results_folder_path,\n",
    "                             f'{stat_name}.h5')\n",
    "    bias[run_name] = pd.read_hdf(file_path, stat_name)\n",
    "    \n",
    "    stat_name = 'correlation'\n",
    "    file_path = os.path.join(results_folder_path,\n",
    "                             f'{stat_name}.h5')\n",
    "    correlation[run_name] = pd.read_hdf(file_path, stat_name)\n",
    "    \n",
    "    stat_name = 'truth_sd'\n",
    "    file_path = os.path.join(results_folder_path,\n",
    "                             f'{stat_name}.h5')\n",
    "    truth_sd[run_name] = pd.read_hdf(file_path, stat_name)"
   ]
  },
  {
   "cell_type": "code",
   "execution_count": 45,
   "metadata": {},
   "outputs": [],
   "source": [
    "peices = [rmse, correlation, bias]\n",
    "combined = pd.concat(peices, axis=0,\n",
    "                     keys=['RMSE', 'Corr.', 'Bias'])\n",
    "combined = combined.rename(columns=legend_dict)"
   ]
  },
  {
   "cell_type": "code",
   "execution_count": 46,
   "metadata": {},
   "outputs": [],
   "source": [
    "def is_empty(str):\n",
    "    return str != ''"
   ]
  },
  {
   "cell_type": "code",
   "execution_count": 47,
   "metadata": {},
   "outputs": [],
   "source": [
    "def format_table(text, header_num=5, footer_num=2):\n",
    "    text = text.split(' ')\n",
    "    text = list(filter(is_empty, text))\n",
    "    text = ' '.join(text)\n",
    "    split_text = text.split('\\n')\n",
    "    split_titles2 = split_text[2].split('&')\n",
    "    split_titles3 = split_text[3].split('&')\n",
    "    for num, title in enumerate(split_text[2].split('&')):\n",
    "        if ' w/ Div.' in title:\n",
    "            split_titles2[num] = title[:-8]\n",
    "            split_titles3[num] = title[-9:]\n",
    "    split_titles2 = '&'.join(split_titles2)\n",
    "    split_titles3 = '&'.join(split_titles3)\n",
    "    split_text[2] = split_titles2\n",
    "    split_text[3] = split_titles3\n",
    "    \n",
    "    for line_num, line in enumerate(split_text[header_num:-footer_num - 1]):\n",
    "        split_line = line.split(' ')\n",
    "        if split_line[0] == 'Corr.':\n",
    "            Corr = True\n",
    "        elif split_line[0] != '':\n",
    "            Corr = False\n",
    "        num_slice = slice(4, None, 2)\n",
    "        numbers_str = split_line[num_slice]\n",
    "        numbers = np.array(\n",
    "            split_line[num_slice],\n",
    "            dtype='float')\n",
    "        if Corr:\n",
    "            best_num = numbers.max()\n",
    "        else:\n",
    "            best_num = numbers[np.abs(numbers).argmin()]\n",
    "        argmins = np.where(numbers == best_num)[0]\n",
    "#         numbers = list(numbers.astype('str'))\n",
    "        for argmin in argmins:\n",
    "            numbers_str[argmin] = '\\\\textbf{' + numbers_str[argmin] + '}'\n",
    "        split_line[num_slice] = numbers_str\n",
    "        split_text[header_num + line_num] = ' '.join(split_line)\n",
    "    \n",
    "#     for count in range(hor_num - 1):\n",
    "#         split_line.insert(((count + 1)*run_num)*2 + 2 + count, '&')\n",
    "#     split_line\n",
    "\n",
    "    \n",
    "    return '\\n'.join(split_text)"
   ]
  },
  {
   "cell_type": "code",
   "execution_count": 48,
   "metadata": {},
   "outputs": [
    {
     "name": "stdout",
     "output_type": "stream",
     "text": [
      "\\begin{tabular}{llcccc}\n",
      "\\toprule\n",
      " & & BACON & Persis. & Opt. Flow & WRF \\\\\n",
      "{} & Horizon & & & & \\\\\n",
      "\\midrule\n",
      "RMSE & 15 & \\textbf{0.108} & 0.142 & 0.113 & 0.118 \\\\\n",
      " & 30 & \\textbf{0.124} & 0.163 & 0.133 & 0.142 \\\\\n",
      " & 45 & \\textbf{0.127} & 0.174 & 0.145 & 0.147 \\\\\n",
      " & 60 & \\textbf{0.132} & 0.177 & 0.153 & 0.150 \\\\\n",
      "Corr. & 15 & \\textbf{0.868} & 0.832 & 0.859 & 0.844 \\\\\n",
      " & 30 & \\textbf{0.825} & 0.776 & 0.803 & 0.772 \\\\\n",
      " & 45 & \\textbf{0.815} & 0.744 & 0.764 & 0.756 \\\\\n",
      " & 60 & \\textbf{0.797} & 0.728 & 0.739 & 0.746 \\\\\n",
      "Bias & 15 & -0.002 & -0.003 & \\textbf{-0.001} & -0.009 \\\\\n",
      " & 30 & -0.008 & \\textbf{-0.006} & \\textbf{-0.006} & -0.020 \\\\\n",
      " & 45 & -0.012 & \\textbf{-0.009} & -0.012 & -0.026 \\\\\n",
      " & 60 & -0.016 & \\textbf{-0.011} & -0.015 & -0.031 \\\\\n",
      "\\bottomrule\n",
      "\\end{tabular}\n",
      "\n"
     ]
    }
   ],
   "source": [
    "column_format = 'll' + 'c' * len(runs)\n",
    "text = combined.round(decimals=decimals).to_latex(column_format=column_format)\n",
    "text2 = format_table(text)\n",
    "print(text2)"
   ]
  },
  {
   "cell_type": "code",
   "execution_count": null,
   "metadata": {},
   "outputs": [],
   "source": []
  }
 ],
 "metadata": {
  "kernelspec": {
   "display_name": "Python 3",
   "language": "python",
   "name": "python3"
  },
  "language_info": {
   "codemirror_mode": {
    "name": "ipython",
    "version": 3
   },
   "file_extension": ".py",
   "mimetype": "text/x-python",
   "name": "python",
   "nbconvert_exporter": "python",
   "pygments_lexer": "ipython3",
   "version": "3.6.2"
  }
 },
 "nbformat": 4,
 "nbformat_minor": 2
}
