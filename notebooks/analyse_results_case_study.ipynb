{
 "cells": [
  {
   "cell_type": "code",
   "execution_count": 40,
   "metadata": {},
   "outputs": [],
   "source": [
    "import dask\n",
    "import os\n",
    "import datetime\n",
    "import numpy as np\n",
    "import xarray as xr\n",
    "import matplotlib.pyplot as plt\n",
    "import pandas as pd\n",
    "import importlib\n",
    "\n",
    "from letkf_forecasting import analyse_results, letkf_io"
   ]
  },
  {
   "cell_type": "code",
   "execution_count": 91,
   "metadata": {},
   "outputs": [],
   "source": [
    "importlib.reload(analyse_results)\n",
    "importlib.reload(letkf_io)\n",
    "\n",
    "base_folder = '/a2/uaren/travis'\n",
    "\n",
    "decimals = 3\n",
    "\n",
    "year = 2014\n",
    "\n",
    "# month = 4\n",
    "# day = 15\n",
    "# day_name = 'translation'\n",
    "\n",
    "# month = 5\n",
    "# day = 29\n",
    "# day_name = 'more_complex'\n",
    "\n",
    "month = 4\n",
    "day = 26\n",
    "day_name = 'two_levels'\n",
    "\n",
    "dates = [datetime.date(2014, month, day)]\n",
    "runs = [ 'owp_opt', 'persistence', 'opt_flow', 'wrf_no_div',\n",
    "        'opt_flow_with_div', 'wrf', 'radiosonde', 'wrf_mean']\n",
    "# runs = ['wrf_mean']"
   ]
  },
  {
   "cell_type": "code",
   "execution_count": 92,
   "metadata": {},
   "outputs": [],
   "source": [
    "save_directory = \"/home2/travis/python_code/letkf_forecasting/tables/\""
   ]
  },
  {
   "cell_type": "code",
   "execution_count": 93,
   "metadata": {
    "scrolled": true
   },
   "outputs": [],
   "source": [
    "horizons = [15, 30, 45, 60]"
   ]
  },
  {
   "cell_type": "code",
   "execution_count": 94,
   "metadata": {},
   "outputs": [],
   "source": [
    "legend_dict = {'opt_flow': 'Opt. Flow', \n",
    "               'opt_flow_with_div': 'Opt. Flow w/ Div.',\n",
    "               'wrf_no_div': 'WRF',\n",
    "               'wrf': 'WRF w/ Div.',\n",
    "               'owp_opt': 'BACON',                                                                                \n",
    "               'persistence': 'Persis.',\n",
    "               'radiosonde': 'Radiosonde',\n",
    "               'wrf_mean': 'WRF Mean',\n",
    "               'ens_member': 'Ens. Member'} "
   ]
  },
  {
   "cell_type": "code",
   "execution_count": 95,
   "metadata": {},
   "outputs": [],
   "source": [
    "rmse = pd.DataFrame(index=horizons, columns=runs)\n",
    "rmse.index.name = 'Horizon'\n",
    "correlation = rmse.copy()\n",
    "bias = rmse.copy()\n",
    "for run_name in runs:\n",
    "    results_folder_path = os.path.join(                                          \n",
    "        base_folder,                                                               \n",
    "        'results',                                                               \n",
    "        f'{year:04}',                                                            \n",
    "        f'{month:02}',                                                           \n",
    "        f'{day:02}',                                                             \n",
    "        run_name)\n",
    "    results_folder_path = letkf_io.find_latest_run(results_folder_path)\n",
    "    results_folder_path = os.path.join(results_folder_path, 'single_day')\n",
    "    \n",
    "    stat_name = 'rmse'\n",
    "    file_path = os.path.join(results_folder_path,\n",
    "                             f'{stat_name}.h5')\n",
    "    rmse[run_name] = pd.read_hdf(file_path, stat_name)\n",
    "    \n",
    "    stat_name = 'bias'\n",
    "    file_path = os.path.join(results_folder_path,\n",
    "                             f'{stat_name}.h5')\n",
    "    bias[run_name] = pd.read_hdf(file_path, stat_name)\n",
    "    \n",
    "    stat_name = 'correlation'\n",
    "    file_path = os.path.join(results_folder_path,\n",
    "                             f'{stat_name}.h5')\n",
    "    correlation[run_name] = pd.read_hdf(file_path, stat_name)"
   ]
  },
  {
   "cell_type": "code",
   "execution_count": 96,
   "metadata": {},
   "outputs": [],
   "source": [
    "peices = [rmse, correlation, bias]\n",
    "combined = pd.concat(peices, axis=0,\n",
    "                     keys=['RMSE', 'Corr.', 'Bias'])\n",
    "combined = combined.rename(columns=legend_dict)"
   ]
  },
  {
   "cell_type": "code",
   "execution_count": 97,
   "metadata": {},
   "outputs": [],
   "source": [
    "def is_empty(str):\n",
    "    return str != ''"
   ]
  },
  {
   "cell_type": "code",
   "execution_count": 98,
   "metadata": {},
   "outputs": [],
   "source": [
    "def format_table(text, header_num=5, footer_num=2):\n",
    "    text = text.split(' ')\n",
    "    text = list(filter(is_empty, text))\n",
    "    text = ' '.join(text)\n",
    "    split_text = text.split('\\n')\n",
    "    split_titles2 = split_text[2].split('&')\n",
    "    split_titles3 = split_text[3].split('&')\n",
    "    for num, title in enumerate(split_text[2].split('&')):\n",
    "        if ' w/ Div.' in title:\n",
    "            split_titles2[num] = title[:-8]\n",
    "            split_titles3[num] = title[-9:]\n",
    "    split_titles2 = '&'.join(split_titles2)\n",
    "    split_titles3 = '&'.join(split_titles3)\n",
    "    split_text[2] = split_titles2\n",
    "    split_text[3] = split_titles3\n",
    "    \n",
    "    for line_num, line in enumerate(split_text[header_num:-footer_num - 1]):\n",
    "        split_line = line.split(' ')\n",
    "        if split_line[0] == 'Corr.':\n",
    "            Corr = True\n",
    "        elif split_line[0] != '':\n",
    "            Corr = False\n",
    "        num_slice = slice(4, None, 2)\n",
    "        numbers_str = split_line[num_slice]\n",
    "        numbers = np.array(\n",
    "            split_line[num_slice],\n",
    "            dtype='float')\n",
    "        if Corr:\n",
    "            best_num = numbers.max()\n",
    "        else:\n",
    "            best_num = numbers[np.abs(numbers).argmin()]\n",
    "        argmins = np.where(numbers == best_num)[0]\n",
    "#         numbers = list(numbers.astype('str'))\n",
    "        for argmin in argmins:\n",
    "            numbers_str[argmin] = '\\\\textbf{' + numbers_str[argmin] + '}'\n",
    "        split_line[num_slice] = numbers_str\n",
    "        split_text[header_num + line_num] = ' '.join(split_line)\n",
    "    \n",
    "#     for count in range(hor_num - 1):\n",
    "#         split_line.insert(((count + 1)*run_num)*2 + 2 + count, '&')\n",
    "#     split_line\n",
    "\n",
    "    \n",
    "    return '\\n'.join(split_text)"
   ]
  },
  {
   "cell_type": "code",
   "execution_count": 99,
   "metadata": {},
   "outputs": [
    {
     "name": "stdout",
     "output_type": "stream",
     "text": [
      "\\begin{tabular}{llcccccccc}\n",
      "\\toprule\n",
      " & & BACON & Persis. & Opt. Flow & WRF & Opt. Flow & WRF & Radiosonde & WRF Mean \\\\\n",
      "{} & Horizon & & & & & w/ Div. & w/ Div. & & \\\\\n",
      "\\midrule\n",
      "RMSE & 15 & \\textbf{0.226} & 0.239 & 0.230 & 0.298 & 0.270 & 0.306 & 0.362 & 0.287 \\\\\n",
      " & 30 & \\textbf{0.278} & 0.322 & 0.292 & 0.395 & 0.346 & 0.413 & 0.389 & 0.380 \\\\\n",
      " & 45 & \\textbf{0.289} & 0.374 & 0.342 & 0.400 & 0.389 & 0.423 & 0.374 & 0.412 \\\\\n",
      " & 60 & \\textbf{0.295} & 0.380 & 0.351 & 0.391 & 0.385 & 0.412 & 0.354 & 0.392 \\\\\n",
      "Corr. & 15 & \\textbf{0.756} & 0.733 & 0.752 & 0.607 & 0.674 & 0.567 & 0.396 & 0.629 \\\\\n",
      " & 30 & \\textbf{0.632} & 0.516 & 0.615 & 0.243 & 0.487 & 0.188 & 0.237 & 0.321 \\\\\n",
      " & 45 & \\textbf{0.600} & 0.358 & 0.482 & 0.183 & 0.364 & 0.130 & 0.278 & 0.158 \\\\\n",
      " & 60 & \\textbf{0.603} & 0.347 & 0.491 & 0.233 & 0.394 & 0.225 & 0.402 & 0.267 \\\\\n",
      "Bias & 15 & -0.020 & \\textbf{0.009} & 0.024 & -0.100 & -0.022 & -0.084 & -0.099 & -0.079 \\\\\n",
      " & 30 & -0.033 & \\textbf{0.010} & 0.044 & -0.115 & -0.044 & -0.078 & -0.045 & -0.099 \\\\\n",
      " & 45 & -0.042 & \\textbf{0.001} & 0.041 & -0.110 & -0.080 & -0.038 & 0.012 & -0.103 \\\\\n",
      " & 60 & -0.066 & -0.029 & 0.016 & -0.090 & -0.107 & \\textbf{-0.004} & -0.011 & -0.070 \\\\\n",
      "\\bottomrule\n",
      "\\end{tabular}\n",
      "\n"
     ]
    }
   ],
   "source": [
    "column_format = 'll' + 'c' * len(runs)\n",
    "text = combined.round(decimals=decimals).to_latex(column_format=column_format)\n",
    "text2 = format_table(text)\n",
    "print(text2)"
   ]
  },
  {
   "cell_type": "code",
   "execution_count": 100,
   "metadata": {},
   "outputs": [],
   "source": [
    "this_file = os.path.join(save_directory, f'{day_name}_results.tex')\n",
    "with open(this_file, 'w') as file:\n",
    "    file.write(text2)"
   ]
  },
  {
   "cell_type": "code",
   "execution_count": null,
   "metadata": {},
   "outputs": [],
   "source": []
  },
  {
   "cell_type": "code",
   "execution_count": null,
   "metadata": {},
   "outputs": [],
   "source": []
  },
  {
   "cell_type": "code",
   "execution_count": null,
   "metadata": {},
   "outputs": [],
   "source": []
  },
  {
   "cell_type": "code",
   "execution_count": null,
   "metadata": {},
   "outputs": [],
   "source": []
  },
  {
   "cell_type": "code",
   "execution_count": null,
   "metadata": {},
   "outputs": [],
   "source": []
  },
  {
   "cell_type": "code",
   "execution_count": null,
   "metadata": {},
   "outputs": [],
   "source": []
  },
  {
   "cell_type": "code",
   "execution_count": null,
   "metadata": {},
   "outputs": [],
   "source": []
  },
  {
   "cell_type": "code",
   "execution_count": null,
   "metadata": {},
   "outputs": [],
   "source": []
  },
  {
   "cell_type": "code",
   "execution_count": null,
   "metadata": {},
   "outputs": [],
   "source": []
  },
  {
   "cell_type": "code",
   "execution_count": null,
   "metadata": {},
   "outputs": [],
   "source": []
  },
  {
   "cell_type": "code",
   "execution_count": null,
   "metadata": {},
   "outputs": [],
   "source": []
  },
  {
   "cell_type": "code",
   "execution_count": null,
   "metadata": {},
   "outputs": [],
   "source": []
  },
  {
   "cell_type": "code",
   "execution_count": null,
   "metadata": {},
   "outputs": [],
   "source": []
  },
  {
   "cell_type": "code",
   "execution_count": null,
   "metadata": {},
   "outputs": [],
   "source": []
  },
  {
   "cell_type": "code",
   "execution_count": null,
   "metadata": {},
   "outputs": [],
   "source": []
  },
  {
   "cell_type": "code",
   "execution_count": null,
   "metadata": {},
   "outputs": [],
   "source": []
  },
  {
   "cell_type": "code",
   "execution_count": null,
   "metadata": {},
   "outputs": [],
   "source": []
  },
  {
   "cell_type": "code",
   "execution_count": null,
   "metadata": {},
   "outputs": [],
   "source": []
  },
  {
   "cell_type": "code",
   "execution_count": null,
   "metadata": {},
   "outputs": [],
   "source": []
  },
  {
   "cell_type": "code",
   "execution_count": null,
   "metadata": {},
   "outputs": [],
   "source": []
  }
 ],
 "metadata": {
  "kernelspec": {
   "display_name": "Python 3",
   "language": "python",
   "name": "python3"
  },
  "language_info": {
   "codemirror_mode": {
    "name": "ipython",
    "version": 3
   },
   "file_extension": ".py",
   "mimetype": "text/x-python",
   "name": "python",
   "nbconvert_exporter": "python",
   "pygments_lexer": "ipython3",
   "version": "3.6.2"
  }
 },
 "nbformat": 4,
 "nbformat_minor": 2
}
