{
 "cells": [
  {
   "cell_type": "code",
   "execution_count": 1,
   "metadata": {},
   "outputs": [],
   "source": [
    "import dask\n",
    "import os\n",
    "import numpy as np\n",
    "import letkf_forecasting.letkf_forecasting as lf\n",
    "import letkf_forecasting.tmh_plot as tmh_plot\n",
    "import letkf_forecasting.analyse_results as ar\n",
    "import xarray as xr\n",
    "import matplotlib.pyplot as plt\n",
    "import pandas as pd\n",
    "import importlib"
   ]
  },
  {
   "cell_type": "code",
   "execution_count": 2,
   "metadata": {},
   "outputs": [],
   "source": [
    "import datetime"
   ]
  },
  {
   "cell_type": "code",
   "execution_count": 3,
   "metadata": {},
   "outputs": [],
   "source": [
    "from letkf_forecasting import letkf_io, analyse_results, letkf_forecasting, tmh_plot"
   ]
  },
  {
   "cell_type": "code",
   "execution_count": 51,
   "metadata": {
    "collapsed": true
   },
   "outputs": [
    {
     "name": "stdout",
     "output_type": "stream",
     "text": [
      "/a2/uaren/travis/results/2014/04/09/owp_opt_000\n",
      "/a2/uaren/travis/results/2014/04/09/persistence_000\n",
      "/a2/uaren/travis/results/2014/04/09/opt_flow_001\n",
      "/a2/uaren/travis/results/2014/04/09/wrf_no_div_001\n",
      "/a2/uaren/travis/results/2014/04/15/owp_opt_000\n",
      "/a2/uaren/travis/results/2014/04/15/persistence_000\n",
      "/a2/uaren/travis/results/2014/04/15/opt_flow_000\n",
      "/a2/uaren/travis/results/2014/04/15/wrf_no_div_000\n",
      "/a2/uaren/travis/results/2014/04/18/owp_opt_000\n",
      "/a2/uaren/travis/results/2014/04/18/persistence_000\n",
      "/a2/uaren/travis/results/2014/04/18/opt_flow_001\n",
      "/a2/uaren/travis/results/2014/04/18/wrf_no_div_000\n",
      "/a2/uaren/travis/results/2014/05/06/owp_opt_000\n",
      "/a2/uaren/travis/results/2014/05/06/persistence_000\n",
      "/a2/uaren/travis/results/2014/05/06/opt_flow_001\n",
      "/a2/uaren/travis/results/2014/05/06/wrf_no_div_000\n",
      "/a2/uaren/travis/results/2014/05/09/owp_opt_000\n",
      "/a2/uaren/travis/results/2014/05/09/persistence_000\n",
      "/a2/uaren/travis/results/2014/05/09/opt_flow_001\n",
      "/a2/uaren/travis/results/2014/05/09/wrf_no_div_000\n",
      "/a2/uaren/travis/results/2014/05/29/owp_opt_000\n",
      "/a2/uaren/travis/results/2014/05/29/persistence_000\n",
      "/a2/uaren/travis/results/2014/05/29/opt_flow_001\n",
      "/a2/uaren/travis/results/2014/05/29/wrf_no_div_002\n",
      "/a2/uaren/travis/results/2014/06/11/owp_opt_000\n",
      "/a2/uaren/travis/results/2014/06/11/persistence_000\n",
      "/a2/uaren/travis/results/2014/06/11/opt_flow_001\n",
      "/a2/uaren/travis/results/2014/06/11/wrf_no_div_000\n",
      "/a2/uaren/travis/results/2014/06/12/owp_opt_000\n",
      "/a2/uaren/travis/results/2014/06/12/persistence_000\n",
      "/a2/uaren/travis/results/2014/06/12/opt_flow_001\n",
      "/a2/uaren/travis/results/2014/06/12/wrf_no_div_000\n",
      "/a2/uaren/travis/results/2014/04/02/owp_opt_000\n",
      "/a2/uaren/travis/results/2014/04/02/persistence_000\n",
      "/a2/uaren/travis/results/2014/04/02/opt_flow_000\n",
      "/a2/uaren/travis/results/2014/04/02/wrf_no_div_001\n",
      "/a2/uaren/travis/results/2014/04/05/owp_opt_000\n",
      "/a2/uaren/travis/results/2014/04/05/persistence_000\n",
      "/a2/uaren/travis/results/2014/04/05/opt_flow_000\n",
      "/a2/uaren/travis/results/2014/04/05/wrf_no_div_000\n",
      "/a2/uaren/travis/results/2014/04/19/owp_opt_000\n",
      "/a2/uaren/travis/results/2014/04/19/persistence_000\n",
      "/a2/uaren/travis/results/2014/04/19/opt_flow_000\n",
      "/a2/uaren/travis/results/2014/04/19/wrf_no_div_000\n",
      "/a2/uaren/travis/results/2014/05/07/owp_opt_000\n",
      "/a2/uaren/travis/results/2014/05/07/persistence_000\n",
      "/a2/uaren/travis/results/2014/05/07/opt_flow_000\n",
      "/a2/uaren/travis/results/2014/05/07/wrf_no_div_000\n",
      "/a2/uaren/travis/results/2014/05/08/owp_opt_000\n",
      "/a2/uaren/travis/results/2014/05/08/persistence_000\n",
      "/a2/uaren/travis/results/2014/05/08/opt_flow_000\n",
      "/a2/uaren/travis/results/2014/05/08/wrf_no_div_000\n",
      "/a2/uaren/travis/results/2014/05/19/owp_opt_000\n",
      "/a2/uaren/travis/results/2014/05/19/persistence_000\n",
      "/a2/uaren/travis/results/2014/05/19/opt_flow_000\n",
      "/a2/uaren/travis/results/2014/05/19/wrf_no_div_000\n",
      "/a2/uaren/travis/results/2014/06/03/owp_opt_000\n",
      "/a2/uaren/travis/results/2014/06/03/persistence_000\n",
      "/a2/uaren/travis/results/2014/06/03/opt_flow_000\n",
      "/a2/uaren/travis/results/2014/06/03/wrf_no_div_000\n",
      "/a2/uaren/travis/results/2014/06/10/owp_opt_000\n",
      "/a2/uaren/travis/results/2014/06/10/persistence_000\n",
      "/a2/uaren/travis/results/2014/06/10/opt_flow_000\n",
      "/a2/uaren/travis/results/2014/06/10/wrf_no_div_000\n",
      "/a2/uaren/travis/results/2014/06/14/owp_opt_000\n",
      "/a2/uaren/travis/results/2014/06/14/persistence_000\n",
      "/a2/uaren/travis/results/2014/06/14/opt_flow_000\n",
      "/a2/uaren/travis/results/2014/06/14/wrf_no_div_000\n",
      "/a2/uaren/travis/results/2014/06/15/owp_opt_000\n",
      "/a2/uaren/travis/results/2014/06/15/persistence_000\n",
      "/a2/uaren/travis/results/2014/06/15/opt_flow_000\n",
      "/a2/uaren/travis/results/2014/06/15/wrf_no_div_000\n",
      "/a2/uaren/travis/results/2014/04/10/owp_opt_001\n",
      "/a2/uaren/travis/results/2014/04/10/persistence_000\n",
      "/a2/uaren/travis/results/2014/04/10/opt_flow_002\n",
      "/a2/uaren/travis/results/2014/04/10/wrf_no_div_001\n",
      "/a2/uaren/travis/results/2014/04/11/owp_opt_000\n",
      "/a2/uaren/travis/results/2014/04/11/persistence_000\n",
      "/a2/uaren/travis/results/2014/04/11/opt_flow_001\n",
      "/a2/uaren/travis/results/2014/04/11/wrf_no_div_000\n",
      "/a2/uaren/travis/results/2014/04/12/owp_opt_001\n",
      "/a2/uaren/travis/results/2014/04/12/persistence_000\n",
      "/a2/uaren/travis/results/2014/04/12/opt_flow_001\n",
      "/a2/uaren/travis/results/2014/04/12/wrf_no_div_001\n",
      "/a2/uaren/travis/results/2014/04/20/owp_opt_000\n",
      "/a2/uaren/travis/results/2014/04/20/persistence_000\n",
      "/a2/uaren/travis/results/2014/04/20/opt_flow_000\n",
      "/a2/uaren/travis/results/2014/04/20/wrf_no_div_000\n",
      "/a2/uaren/travis/results/2014/04/21/owp_opt_000\n",
      "/a2/uaren/travis/results/2014/04/21/persistence_000\n",
      "/a2/uaren/travis/results/2014/04/21/opt_flow_000\n",
      "/a2/uaren/travis/results/2014/04/21/wrf_no_div_000\n",
      "/a2/uaren/travis/results/2014/04/22/owp_opt_000\n",
      "/a2/uaren/travis/results/2014/04/22/persistence_000\n",
      "/a2/uaren/travis/results/2014/04/22/opt_flow_000\n",
      "/a2/uaren/travis/results/2014/04/22/wrf_no_div_000\n",
      "/a2/uaren/travis/results/2014/04/25/owp_opt_000\n",
      "/a2/uaren/travis/results/2014/04/25/persistence_000\n",
      "/a2/uaren/travis/results/2014/04/25/opt_flow_000\n",
      "/a2/uaren/travis/results/2014/04/25/wrf_no_div_000\n",
      "/a2/uaren/travis/results/2014/04/26/owp_opt_000\n",
      "/a2/uaren/travis/results/2014/04/26/persistence_000\n",
      "/a2/uaren/travis/results/2014/04/26/opt_flow_000\n",
      "/a2/uaren/travis/results/2014/04/26/wrf_no_div_000\n",
      "/a2/uaren/travis/results/2014/05/05/owp_opt_000\n",
      "/a2/uaren/travis/results/2014/05/05/persistence_000\n",
      "/a2/uaren/travis/results/2014/05/05/opt_flow_000\n",
      "/a2/uaren/travis/results/2014/05/05/wrf_no_div_000\n",
      "/a2/uaren/travis/results/2014/05/20/owp_opt_000\n",
      "/a2/uaren/travis/results/2014/05/20/persistence_000\n",
      "/a2/uaren/travis/results/2014/05/20/opt_flow_000\n",
      "/a2/uaren/travis/results/2014/05/20/wrf_no_div_000\n",
      "/a2/uaren/travis/results/2014/05/21/owp_opt_000\n",
      "/a2/uaren/travis/results/2014/05/21/persistence_000\n",
      "/a2/uaren/travis/results/2014/05/21/opt_flow_000\n",
      "/a2/uaren/travis/results/2014/05/21/wrf_no_div_000\n",
      "/a2/uaren/travis/results/2014/05/22/owp_opt_000\n",
      "/a2/uaren/travis/results/2014/05/22/persistence_000\n",
      "/a2/uaren/travis/results/2014/05/22/opt_flow_000\n",
      "/a2/uaren/travis/results/2014/05/22/wrf_no_div_000\n",
      "/a2/uaren/travis/results/2014/05/23/owp_opt_000\n",
      "/a2/uaren/travis/results/2014/05/23/persistence_000\n",
      "/a2/uaren/travis/results/2014/05/23/opt_flow_000\n",
      "/a2/uaren/travis/results/2014/05/23/wrf_no_div_000\n",
      "/a2/uaren/travis/results/2014/05/24/owp_opt_000\n",
      "/a2/uaren/travis/results/2014/05/24/persistence_000\n",
      "/a2/uaren/travis/results/2014/05/24/opt_flow_000\n",
      "/a2/uaren/travis/results/2014/05/24/wrf_no_div_000\n",
      "/a2/uaren/travis/results/2014/05/25/owp_opt_000\n",
      "/a2/uaren/travis/results/2014/05/25/persistence_000\n",
      "/a2/uaren/travis/results/2014/05/25/opt_flow_000\n",
      "/a2/uaren/travis/results/2014/05/25/wrf_no_div_000\n",
      "/a2/uaren/travis/results/2014/05/30/owp_opt_000\n",
      "/a2/uaren/travis/results/2014/05/30/persistence_000\n",
      "/a2/uaren/travis/results/2014/05/30/opt_flow_000\n",
      "/a2/uaren/travis/results/2014/05/30/wrf_no_div_000\n",
      "/a2/uaren/travis/results/2014/06/16/owp_opt_000\n",
      "/a2/uaren/travis/results/2014/06/16/persistence_000\n",
      "/a2/uaren/travis/results/2014/06/16/opt_flow_000\n",
      "/a2/uaren/travis/results/2014/06/16/wrf_no_div_000\n",
      "/a2/uaren/travis/results/2014/06/17/owp_opt_000\n",
      "/a2/uaren/travis/results/2014/06/17/persistence_000\n",
      "/a2/uaren/travis/results/2014/06/17/opt_flow_000\n",
      "/a2/uaren/travis/results/2014/06/17/wrf_no_div_000\n",
      "/a2/uaren/travis/results/2014/06/18/owp_opt_000\n",
      "/a2/uaren/travis/results/2014/06/18/persistence_000\n",
      "/a2/uaren/travis/results/2014/06/18/opt_flow_000\n",
      "/a2/uaren/travis/results/2014/06/18/wrf_no_div_000\n",
      "/a2/uaren/travis/results/2014/06/19/owp_opt_000\n",
      "/a2/uaren/travis/results/2014/06/19/persistence_000\n",
      "/a2/uaren/travis/results/2014/06/19/opt_flow_000\n",
      "/a2/uaren/travis/results/2014/06/19/wrf_no_div_000\n",
      "/a2/uaren/travis/results/2014/06/22/owp_opt_004\n",
      "/a2/uaren/travis/results/2014/06/22/persistence_000\n",
      "/a2/uaren/travis/results/2014/06/22/opt_flow_000\n",
      "/a2/uaren/travis/results/2014/06/22/wrf_no_div_000\n"
     ]
    }
   ],
   "source": [
    "# runs = ['persistence', 'opt_flow', 'wrf_no_div', 'owp_opt']#, 'radiosonde', 'wrf_mean']\n",
    "runs = ['owp_opt', 'persistence', 'opt_flow', 'wrf_no_div']\n",
    "# runs = ['persistence', 'opt_flow', 'wrf_no_div', 'owp_opt', 'wrf_mean']\n",
    "base_folder = '/a2/uaren/travis/'\n",
    "year = 2014\n",
    "decimals = 3\n",
    "month_day = [[4, 9],  [4, 15], [4, 18],\n",
    "             [5, 6],  [5, 9],  [5, 29],\n",
    "             [6, 11], [6, 12],\n",
    "             [4, 2],  [4, 5],  [4, 19],\n",
    "             [5, 7],  [5, 8],  [5, 19],\n",
    "             [6, 3],  [6, 10], [6, 14],\n",
    "             [6, 15],\n",
    "             [4, 10], [4, 11], [4, 12],\n",
    "             [4, 20], [4, 21], [4, 22],\n",
    "             [4, 25], [4, 26], [5, 5],\n",
    "             [5, 20], [5, 21], [5, 22],\n",
    "             [5, 23], [5, 24], [5, 25],\n",
    "             [5, 30], [6, 16], [6, 17],\n",
    "             [6, 18], [6, 19], [6, 22]]\n",
    "bad_dates = []\n",
    "persistence = pd.DataFrame(columns=[15, 30, 45, 60])\n",
    "opt_flow = persistence.copy()\n",
    "wrf_no_div = persistence.copy()\n",
    "owp_opt = persistence.copy()\n",
    "\n",
    "# wrf_mean = persistence.copy()\n",
    "\n",
    "persistence_full = persistence.copy()\n",
    "opt_flow_full = persistence.copy()\n",
    "wrf_no_div_full = persistence.copy()\n",
    "owp_opt_full = persistence.copy()\n",
    "\n",
    "# wrf_mean_full = persistence.copy()\n",
    "for this_month_day in month_day:\n",
    "    month = this_month_day[0]\n",
    "    day = this_month_day[1]\n",
    "    try:\n",
    "        returned = analyse_results.find_error_stats(\n",
    "            year, month, day, runs, base_folder)\n",
    "        for this_stat in returned:\n",
    "            name = this_stat['name']\n",
    "            this_date = this_stat['rmse'].index[0].date()\n",
    "            command = (name + '.loc[this_date] = '\n",
    "                + 'np.sqrt((this_stat[\\'rmse\\']**2).mean())')\n",
    "#             print(command)\n",
    "            exec(command)\n",
    "            command = (name + '_full = pd.concat(['\n",
    "                 + name +'_full, this_stat[\\'rmse\\'][[15, 30, 45, 60]]])')\n",
    "#             print(command)\n",
    "            exec(command)\n",
    "    except:\n",
    "        bad_dates.append(this_month_day)"
   ]
  },
  {
   "cell_type": "code",
   "execution_count": 5,
   "metadata": {},
   "outputs": [],
   "source": [
    "persistence = persistence.sort_index()\n",
    "opt_flow = opt_flow.sort_index()\n",
    "wrf_no_div = wrf_no_div.sort_index()\n",
    "owp_opt = owp_opt.sort_index()\n",
    "\n",
    "# wrf_mean = wrf_mean.sort_index()"
   ]
  },
  {
   "cell_type": "code",
   "execution_count": 6,
   "metadata": {},
   "outputs": [],
   "source": [
    "figsize = plt.figaspect(0.3)\n",
    "xticks = [str(index.month) + '/' + str(index.day)\n",
    "          for index in persistence.index]\n",
    "xarange = np.arange(len(xticks))\n",
    "width = 0.28"
   ]
  },
  {
   "cell_type": "code",
   "execution_count": 15,
   "metadata": {},
   "outputs": [],
   "source": [
    "%matplotlib inline"
   ]
  },
  {
   "cell_type": "code",
   "execution_count": 8,
   "metadata": {},
   "outputs": [],
   "source": [
    "# for hor in [15, 30, 45, 60]:\n",
    "#     of_skill = 1 - opt_flow[hor]/persistence[hor]\n",
    "#     wrf_skill = 1 - wrf_no_div[hor]/persistence[hor]\n",
    "#     owp_skill = 1 - owp_opt[hor]/persistence[hor]\n",
    "    \n",
    "\n",
    "    \n",
    "#     plt.figure(figsize=figsize)\n",
    "#     plt.bar(xarange,\n",
    "#             of_skill, width, color='k')\n",
    "#     plt.bar(xarange + width,\n",
    "#                 wrf_skill, width)\n",
    "#     plt.bar(xarange + 2*width,\n",
    "#                 owp_skill, width)\n",
    "#     plt.xticks(xarange + width, xticks , rotation=90)\n",
    "#     plt.title(f'RMSE skill score; Horizon: {hor}')\n",
    "#     plt.legend(['Opt. Flow',\n",
    "#                 'WRF',\n",
    "#                 'Assim'])\n",
    "#     plt.xlabel('Date')\n",
    "#     plt.ylabel('RMSE skill score')\n",
    "    \n",
    "#     plt.ylim([0, None])\n",
    "#     plt.tight_layout()"
   ]
  },
  {
   "cell_type": "code",
   "execution_count": 16,
   "metadata": {
    "scrolled": true
   },
   "outputs": [
    {
     "data": {
      "image/png": "[encoded data removed]",
      "text/plain": [
       "<matplotlib.figure.Figure at 0x7f1807569550>"
      ]
     },
     "metadata": {},
     "output_type": "display_data"
    },
    {
     "data": {
      "image/png": "[encoded data removed]",
      "text/plain": [
       "<matplotlib.figure.Figure at 0x7f180737f5c0>"
      ]
     },
     "metadata": {},
     "output_type": "display_data"
    },
    {
     "data": {
      "image/png": "[encoded data removed]",
      "text/plain": [
       "<matplotlib.figure.Figure at 0x7f1807217c88>"
      ]
     },
     "metadata": {},
     "output_type": "display_data"
    },
    {
     "data": {
      "image/png": "[encoded data removed]",
      "text/plain": [
       "<matplotlib.figure.Figure at 0x7f1807033ba8>"
      ]
     },
     "metadata": {},
     "output_type": "display_data"
    }
   ],
   "source": [
    "for hor in [15, 30, 45, 60]:\n",
    "    plt.figure(figsize=figsize)\n",
    "    plt.bar(xarange,\n",
    "            opt_flow[hor], width)\n",
    "    plt.bar(xarange + width,\n",
    "            wrf_no_div[hor], width)\n",
    "    plt.bar(xarange + 2*width,\n",
    "            owp_opt[hor], width)\n",
    "    plt.xticks(xarange + width, xticks , rotation=90)\n",
    "    plt.title(f'RMSE; Horizon: {hor}')\n",
    "    plt.legend(['Opt. Flow',\n",
    "                'WRF',\n",
    "                'Assim'])"
   ]
  },
  {
   "cell_type": "code",
   "execution_count": null,
   "metadata": {},
   "outputs": [],
   "source": []
  },
  {
   "cell_type": "code",
   "execution_count": null,
   "metadata": {},
   "outputs": [],
   "source": []
  },
  {
   "cell_type": "code",
   "execution_count": 203,
   "metadata": {},
   "outputs": [],
   "source": [
    "persistence.loc['All Dates'] = np.sqrt((persistence_full**2).mean(axis=0))\n",
    "opt_flow.loc['All Dates'] = np.sqrt((opt_flow_full**2).mean(axis=0))\n",
    "wrf_no_div.loc['All Dates'] = np.sqrt((wrf_no_div_full**2).mean(axis=0))\n",
    "owp_opt.loc['All Dates'] = np.sqrt((owp_opt_full**2).mean(axis=0))\n",
    "\n",
    "# wrf_mean.loc['All_Dates'] = np.sqrt((wrf_mean_full**2).mean(axis=0))"
   ]
  },
  {
   "cell_type": "code",
   "execution_count": 204,
   "metadata": {},
   "outputs": [],
   "source": [
    "peices = [owp_opt, persistence, opt_flow, wrf_no_div]\n",
    "combined = pd.concat(peices, axis=1,\n",
    "                    keys=['BACON', 'Persis.', 'Opt. Flow', 'NWP'],\n",
    "                    names=['Method', 'Horizon'])\n",
    "combined = combined.swaplevel(axis=1).sort_index(axis=1,\n",
    "                                                 level='Horizon')\n",
    "\n",
    "# peices = [persistence, opt_flow, wrf_no_div, owp_opt]\n",
    "# combined = pd.concat(peices, axis=1,\n",
    "#                     keys=['Persis.', 'Opt. Flow', 'WRF', 'BACON'],\n",
    "#                     names=['Method', 'Horizon'])\n",
    "# combined = combined.swaplevel(axis=1).sort_index(axis=1,\n",
    "#                                                  level='Horizon')"
   ]
  },
  {
   "cell_type": "code",
   "execution_count": 205,
   "metadata": {},
   "outputs": [],
   "source": [
    "def is_empty(str):\n",
    "    return str != ''"
   ]
  },
  {
   "cell_type": "code",
   "execution_count": 206,
   "metadata": {},
   "outputs": [],
   "source": [
    "def format_table(text, header_num=5, footer_num=2):\n",
    "    text = text.split(' ')\n",
    "    text = list(filter(is_empty, text))\n",
    "    text = ' '.join(text)\n",
    "    split_text = text.split('\\n')\n",
    "    hor_num = len(split_text[2].split('&')) - 1\n",
    "    run_num = int((len(split_text[3].split('&')) - 1) / hor_num)\n",
    "    \n",
    "    header1 = split_text[header_num - 3].split(' ')\n",
    "    for count in range(hor_num - 1):\n",
    "        index = (count + 1) * 2 + 1 + count\n",
    "        header1.insert(index, '&')\n",
    "    header1 = ' '.join(header1)\n",
    "    split_text[header_num - 3] = header1\n",
    "    \n",
    "    header2 = split_text[header_num - 2].split('&')\n",
    "    for count in range(hor_num - 1):\n",
    "        index = (count + 1) * run_num + 1 + count\n",
    "        header2.insert(index, ' ')\n",
    "    header2 = '&'.join(header2)\n",
    "    split_text[header_num - 2] = header2\n",
    "    \n",
    "    header3 = ''\n",
    "    buff = 1\n",
    "    for count in range(hor_num):\n",
    "        start = count * (run_num + 1) + 2\n",
    "        end = start + run_num - 1\n",
    "        header3 += f'\\cmidrule(lr){{{start}-{end}}} '\n",
    "    split_text[header_num - 1] = header3\n",
    "    \n",
    "    split_titles2 = split_text[3]\n",
    "    removed = split_titles2[-2:]\n",
    "    split_titles2 = split_titles2[:-2]\n",
    "    split_titles2 = split_titles2.split('&')\n",
    "    for count, this in enumerate(split_titles2[1:]):\n",
    "        count += 1\n",
    "        if len(this) > 2:\n",
    "            this = this[0] + '{' + this[1:-1] + '}' + this[-1]\n",
    "            split_titles2[count] = this\n",
    "    split_text[3] = '&'.join(split_titles2) + removed\n",
    "    for line_num, line in enumerate(split_text[header_num:-footer_num - 0]):\n",
    "        split_line = line.split(' ')\n",
    "        if split_line[1] != '&':\n",
    "            split_line[1] = split_line[0] + ' ' + split_line[1]\n",
    "            split_line = split_line[1:]\n",
    "        else:\n",
    "            split_line[0] = split_line[0][5:].replace('-', '/')\n",
    "        for hor_count in range(hor_num):\n",
    "            num_slice = slice(\n",
    "                (hor_count*run_num)*2 + 2, ((hor_count + 1)*run_num)*2 + 2, 2)\n",
    "            numbers_str = split_line[num_slice]\n",
    "            numbers = np.array(\n",
    "                split_line[num_slice],\n",
    "                dtype='float')\n",
    "            argmins = np.where(numbers == numbers.min())[0]\n",
    "            numbers = list(numbers.astype('str'))\n",
    "            for argmin in argmins:\n",
    "                numbers_str[argmin] = '\\\\B ' + numbers_str[argmin]\n",
    "#                 numbers[argmin] = '\\\\B ' + numbers[argmin]\n",
    "#                 numbers[argmin] = '\\\\textbf{' + numbers[argmin] + '}'\n",
    "            split_line[num_slice] = numbers_str\n",
    "        for count in range(hor_num - 1):\n",
    "            split_line.insert(((count + 1)*run_num)*2 + 2 + count, '&')\n",
    "        split_line\n",
    "        split_text[header_num + line_num] = ' '.join(split_line)\n",
    "    return '\\n'.join(split_text)"
   ]
  },
  {
   "cell_type": "code",
   "execution_count": 207,
   "metadata": {},
   "outputs": [],
   "source": [
    "save_directory = \"/home2/travis/python_code/letkf_forecasting/tables/\""
   ]
  },
  {
   "cell_type": "code",
   "execution_count": 208,
   "metadata": {},
   "outputs": [],
   "source": [
    "this_combined = combined[[15, 30]]\n",
    "hor_num = this_combined.columns.levels[0].size\n",
    "c_num = combined.columns.size + hor_num - 1\n",
    "column_format = 'l' + 'S[table-format=-1.3]' * c_num\n",
    "text = this_combined.round(decimals=decimals).to_latex(\n",
    "#     column_format='l|ccc|ccc|ccc|ccc',\n",
    "    column_format=column_format,\n",
    "    multicolumn_format='c')"
   ]
  },
  {
   "cell_type": "code",
   "execution_count": 209,
   "metadata": {
    "scrolled": false
   },
   "outputs": [
    {
     "name": "stdout",
     "output_type": "stream",
     "text": [
      "\\begin{tabular}{lS[table-format=-1.3]S[table-format=-1.3]S[table-format=-1.3]S[table-format=-1.3]S[table-format=-1.3]S[table-format=-1.3]S[table-format=-1.3]S[table-format=-1.3]S[table-format=-1.3]S[table-format=-1.3]S[table-format=-1.3]S[table-format=-1.3]S[table-format=-1.3]S[table-format=-1.3]S[table-format=-1.3]S[table-format=-1.3]S[table-format=-1.3]S[table-format=-1.3]S[table-format=-1.3]}\n",
      "\\toprule\n",
      "Horizon & \\multicolumn{4}{c}{15} & & \\multicolumn{4}{c}{30} \\\\\n",
      "Method & {BACON} & {Persis.} & {Opt. Flow} & {NWP} & & {BACON} & {Persis.} & {Opt. Flow} & {NWP} \\\\\n",
      "\\cmidrule(lr){2-5} \\cmidrule(lr){7-10} \n",
      "04/09 & 0.037 & 0.066 & \\B 0.034 & 0.038 & & 0.043 & 0.075 & \\B 0.042 & 0.045 \\\\\n",
      "04/15 & 0.039 & 0.069 & \\B 0.038 & \\B 0.038 & & \\B 0.045 & 0.071 & 0.046 & 0.050 \\\\\n",
      "04/18 & \\B 0.078 & 0.096 & 0.091 & 0.082 & & \\B 0.111 & 0.127 & 0.148 & 0.117 \\\\\n",
      "05/06 & \\B 0.070 & 0.102 & 0.073 & 0.071 & & \\B 0.095 & 0.141 & 0.107 & 0.100 \\\\\n",
      "05/09 & \\B 0.039 & 0.078 & 0.054 & 0.045 & & \\B 0.055 & 0.086 & 0.079 & 0.063 \\\\\n",
      "05/29 & \\B 0.143 & 0.170 & 0.154 & 0.155 & & \\B 0.174 & 0.218 & 0.199 & 0.192 \\\\\n",
      "06/11 & \\B 0.161 & 0.171 & 0.175 & 0.171 & & \\B 0.169 & 0.200 & 0.191 & 0.199 \\\\\n",
      "06/12 & 0.162 & 0.176 & \\B 0.157 & 0.175 & & \\B 0.175 & 0.202 & 0.180 & 0.186 \\\\\n",
      "04/02 & 0.072 & \\B 0.065 & 0.066 & \\B 0.065 & & 0.081 & 0.078 & 0.079 & \\B 0.076 \\\\\n",
      "04/05 & \\B 0.203 & 0.239 & 0.217 & 0.215 & & \\B 0.240 & 0.258 & 0.261 & 0.272 \\\\\n",
      "04/19 & 0.094 & 0.102 & \\B 0.088 & 0.107 & & 0.125 & 0.133 & \\B 0.117 & 0.143 \\\\\n",
      "05/07 & 0.088 & 0.100 & 0.096 & \\B 0.084 & & \\B 0.095 & 0.114 & 0.100 & 0.098 \\\\\n",
      "05/08 & 0.046 & 0.060 & \\B 0.034 & 0.045 & & 0.052 & 0.065 & \\B 0.044 & 0.053 \\\\\n",
      "05/19 & 0.039 & 0.057 & 0.038 & \\B 0.037 & & 0.048 & 0.062 & \\B 0.047 & \\B 0.047 \\\\\n",
      "06/03 & 0.029 & 0.033 & \\B 0.021 & \\B 0.021 & & 0.032 & 0.032 & \\B 0.024 & 0.026 \\\\\n",
      "06/10 & 0.081 & 0.077 & \\B 0.066 & 0.069 & & 0.081 & 0.092 & 0.083 & \\B 0.072 \\\\\n",
      "06/14 & 0.047 & 0.050 & 0.048 & \\B 0.044 & & 0.047 & 0.050 & 0.049 & \\B 0.043 \\\\\n",
      "06/15 & \\B 0.065 & 0.157 & 0.074 & 0.068 & & \\B 0.089 & 0.185 & 0.103 & 0.100 \\\\\n",
      "04/10 & 0.047 & 0.045 & 0.044 & \\B 0.041 & & 0.045 & 0.051 & 0.047 & \\B 0.044 \\\\\n",
      "04/11 & \\B 0.160 & 0.177 & 0.180 & 0.179 & & \\B 0.184 & 0.209 & 0.202 & 0.195 \\\\\n",
      "04/12 & 0.112 & \\B 0.091 & 0.103 & 0.106 & & 0.143 & \\B 0.110 & 0.130 & 0.174 \\\\\n",
      "04/20 & \\B 0.096 & 0.104 & 0.103 & 0.101 & & \\B 0.111 & 0.122 & 0.126 & 0.126 \\\\\n",
      "04/21 & 0.029 & \\B 0.023 & 0.025 & 0.029 & & 0.032 & \\B 0.026 & 0.030 & 0.030 \\\\\n",
      "04/22 & 0.046 & 0.044 & 0.043 & \\B 0.040 & & 0.045 & 0.049 & 0.043 & \\B 0.040 \\\\\n",
      "04/25 & 0.038 & 0.038 & 0.034 & \\B 0.031 & & 0.040 & 0.042 & 0.035 & \\B 0.034 \\\\\n",
      "04/26 & \\B 0.225 & 0.240 & 0.230 & 0.293 & & \\B 0.274 & 0.321 & 0.292 & 0.388 \\\\\n",
      "05/05 & 0.024 & 0.018 & \\B 0.011 & 0.012 & & 0.026 & 0.016 & \\B 0.010 & 0.012 \\\\\n",
      "05/20 & 0.107 & \\B 0.095 & 0.096 & 0.105 & & \\B 0.103 & 0.104 & 0.104 & 0.107 \\\\\n",
      "05/21 & 0.035 & 0.030 & 0.029 & \\B 0.028 & & 0.036 & 0.035 & 0.034 & \\B 0.030 \\\\\n",
      "05/22 & \\B 0.086 & 0.091 & 0.090 & 0.092 & & \\B 0.091 & 0.099 & 0.094 & 0.099 \\\\\n",
      "05/23 & 0.017 & \\B 0.015 & 0.016 & \\B 0.015 & & 0.014 & 0.016 & \\B 0.012 & \\B 0.012 \\\\\n",
      "05/24 & \\B 0.100 & 0.111 & 0.105 & \\B 0.100 & & \\B 0.119 & 0.131 & 0.134 & 0.130 \\\\\n",
      "05/25 & \\B 0.138 & 0.174 & 0.158 & 0.149 & & \\B 0.159 & 0.195 & 0.179 & 0.176 \\\\\n",
      "05/30 & 0.026 & \\B 0.018 & 0.019 & 0.020 & & 0.031 & \\B 0.025 & 0.026 & 0.028 \\\\\n",
      "06/16 & 0.175 & 0.184 & 0.180 & \\B 0.167 & & \\B 0.181 & 0.196 & 0.200 & 0.190 \\\\\n",
      "06/17 & \\B 0.241 & 0.252 & 0.250 & 0.255 & & \\B 0.263 & 0.278 & 0.275 & 0.285 \\\\\n",
      "06/18 & \\B 0.190 & 0.219 & 0.203 & 0.193 & & \\B 0.199 & 0.224 & 0.223 & 0.209 \\\\\n",
      "06/19 & \\B 0.064 & 0.069 & 0.067 & 0.067 & & \\B 0.077 & 0.078 & 0.080 & 0.085 \\\\\n",
      "06/22 & 0.035 & \\B 0.012 & \\B 0.012 & 0.013 & & 0.039 & \\B 0.013 & \\B 0.013 & \\B 0.013 \\\\\n",
      "All Dates & \\B 0.108 & 0.122 & 0.113 & 0.116 & & \\B 0.123 & 0.141 & 0.133 & 0.140 \\\\\n",
      "\\bottomrule\n",
      "\\end{tabular}\n",
      "\n"
     ]
    }
   ],
   "source": [
    "# print(text, '\\n \\n')\n",
    "text2 = format_table(text, footer_num=3)\n",
    "print(text2)\n",
    "this_file = os.path.join(save_directory, 'all_days_1.tex')\n",
    "with open(this_file, 'w') as file:\n",
    "    file.write(text2)"
   ]
  },
  {
   "cell_type": "code",
   "execution_count": 210,
   "metadata": {},
   "outputs": [],
   "source": [
    "this_combined = combined[[45, 60]]\n",
    "hor_num = this_combined.columns.levels[0].size\n",
    "c_num = combined.columns.size + hor_num - 1\n",
    "column_format = 'l' + 'S[table-format=-1.3]' * c_num\n",
    "text = this_combined.round(decimals=3).to_latex(\n",
    "#     column_format='l|ccc|ccc|ccc|ccc',\n",
    "    column_format=column_format,\n",
    "    multicolumn_format='c')"
   ]
  },
  {
   "cell_type": "code",
   "execution_count": 211,
   "metadata": {
    "scrolled": true
   },
   "outputs": [
    {
     "name": "stdout",
     "output_type": "stream",
     "text": [
      "\\begin{tabular}{lS[table-format=-1.3]S[table-format=-1.3]S[table-format=-1.3]S[table-format=-1.3]S[table-format=-1.3]S[table-format=-1.3]S[table-format=-1.3]S[table-format=-1.3]S[table-format=-1.3]S[table-format=-1.3]S[table-format=-1.3]S[table-format=-1.3]S[table-format=-1.3]S[table-format=-1.3]S[table-format=-1.3]S[table-format=-1.3]S[table-format=-1.3]S[table-format=-1.3]S[table-format=-1.3]}\n",
      "\\toprule\n",
      "Horizon & \\multicolumn{4}{c}{45} & & \\multicolumn{4}{c}{60} \\\\\n",
      "Method & {BACON} & {Persis.} & {Opt. Flow} & {NWP} & & {BACON} & {Persis.} & {Opt. Flow} & {NWP} \\\\\n",
      "\\cmidrule(lr){2-5} \\cmidrule(lr){7-10} \n",
      "04/09 & \\B 0.050 & 0.076 & 0.051 & 0.051 & & \\B 0.054 & 0.072 & 0.059 & 0.055 \\\\\n",
      "04/15 & \\B 0.052 & 0.075 & 0.059 & 0.059 & & \\B 0.056 & 0.085 & 0.062 & 0.065 \\\\\n",
      "04/18 & \\B 0.111 & 0.139 & 0.190 & 0.127 & & \\B 0.136 & 0.152 & 0.219 & 0.148 \\\\\n",
      "05/06 & \\B 0.098 & 0.156 & 0.118 & 0.099 & & 0.103 & 0.139 & 0.112 & \\B 0.099 \\\\\n",
      "05/09 & \\B 0.062 & 0.082 & 0.088 & 0.071 & & \\B 0.080 & 0.083 & 0.099 & 0.085 \\\\\n",
      "05/29 & \\B 0.166 & 0.236 & 0.245 & 0.201 & & \\B 0.180 & 0.265 & 0.276 & 0.210 \\\\\n",
      "06/11 & \\B 0.185 & 0.225 & 0.204 & 0.218 & & \\B 0.194 & 0.236 & 0.200 & 0.223 \\\\\n",
      "06/12 & \\B 0.179 & 0.219 & 0.192 & 0.193 & & \\B 0.189 & 0.231 & 0.205 & 0.196 \\\\\n",
      "04/02 & 0.080 & 0.080 & 0.086 & \\B 0.078 & & 0.085 & 0.085 & 0.095 & \\B 0.080 \\\\\n",
      "04/05 & \\B 0.238 & 0.261 & 0.274 & 0.288 & & \\B 0.247 & 0.273 & 0.287 & 0.296 \\\\\n",
      "04/19 & 0.139 & 0.152 & \\B 0.137 & 0.158 & & \\B 0.148 & 0.158 & 0.151 & 0.165 \\\\\n",
      "05/07 & \\B 0.092 & 0.121 & 0.105 & 0.096 & & \\B 0.084 & 0.123 & 0.105 & 0.089 \\\\\n",
      "05/08 & \\B 0.052 & 0.065 & 0.053 & 0.057 & & \\B 0.054 & 0.063 & 0.060 & 0.057 \\\\\n",
      "05/19 & 0.055 & 0.066 & \\B 0.054 & 0.055 & & \\B 0.051 & 0.062 & 0.060 & 0.056 \\\\\n",
      "06/03 & 0.032 & 0.033 & \\B 0.026 & 0.027 & & 0.034 & 0.033 & \\B 0.027 & 0.028 \\\\\n",
      "06/10 & 0.077 & 0.092 & 0.078 & \\B 0.072 & & 0.085 & 0.099 & 0.090 & \\B 0.080 \\\\\n",
      "06/14 & 0.050 & 0.051 & 0.049 & \\B 0.044 & & 0.049 & 0.049 & 0.045 & \\B 0.041 \\\\\n",
      "06/15 & \\B 0.101 & 0.192 & 0.114 & 0.114 & & \\B 0.115 & 0.180 & 0.132 & 0.126 \\\\\n",
      "04/10 & \\B 0.047 & 0.054 & 0.048 & \\B 0.047 & & \\B 0.049 & 0.058 & 0.050 & 0.050 \\\\\n",
      "04/11 & \\B 0.188 & 0.234 & 0.212 & 0.205 & & \\B 0.188 & 0.247 & 0.219 & 0.208 \\\\\n",
      "04/12 & 0.156 & \\B 0.118 & 0.140 & 0.186 & & 0.166 & \\B 0.135 & 0.167 & 0.196 \\\\\n",
      "04/20 & \\B 0.116 & 0.124 & 0.136 & 0.137 & & \\B 0.122 & 0.126 & 0.138 & 0.144 \\\\\n",
      "04/21 & 0.033 & \\B 0.026 & 0.032 & 0.034 & & 0.034 & \\B 0.026 & 0.034 & 0.038 \\\\\n",
      "04/22 & 0.046 & 0.050 & 0.046 & \\B 0.042 & & 0.046 & 0.051 & 0.048 & \\B 0.042 \\\\\n",
      "04/25 & 0.040 & 0.046 & 0.036 & \\B 0.032 & & 0.042 & 0.046 & 0.041 & \\B 0.034 \\\\\n",
      "04/26 & \\B 0.292 & 0.369 & 0.342 & 0.397 & & \\B 0.298 & 0.383 & 0.351 & 0.392 \\\\\n",
      "05/05 & 0.028 & 0.016 & \\B 0.011 & \\B 0.011 & & 0.032 & 0.016 & \\B 0.010 & 0.012 \\\\\n",
      "05/20 & \\B 0.102 & 0.105 & 0.106 & 0.104 & & \\B 0.099 & 0.100 & 0.102 & 0.102 \\\\\n",
      "05/21 & 0.038 & 0.034 & 0.033 & \\B 0.030 & & 0.042 & 0.037 & 0.036 & \\B 0.031 \\\\\n",
      "05/22 & \\B 0.078 & 0.084 & 0.079 & 0.087 & & \\B 0.086 & 0.091 & \\B 0.086 & 0.091 \\\\\n",
      "05/23 & 0.013 & 0.016 & \\B 0.009 & \\B 0.009 & & 0.013 & 0.016 & \\B 0.008 & \\B 0.008 \\\\\n",
      "05/24 & \\B 0.117 & 0.131 & 0.134 & 0.130 & & \\B 0.119 & 0.136 & 0.141 & 0.134 \\\\\n",
      "05/25 & \\B 0.171 & 0.206 & 0.194 & 0.187 & & \\B 0.180 & 0.211 & 0.203 & 0.191 \\\\\n",
      "05/30 & 0.032 & \\B 0.025 & 0.028 & 0.028 & & 0.035 & \\B 0.027 & 0.030 & 0.028 \\\\\n",
      "06/16 & \\B 0.183 & 0.199 & 0.207 & 0.189 & & \\B 0.183 & 0.206 & 0.215 & 0.194 \\\\\n",
      "06/17 & \\B 0.271 & 0.287 & 0.293 & 0.286 & & \\B 0.266 & 0.289 & 0.297 & 0.284 \\\\\n",
      "06/18 & \\B 0.191 & 0.230 & 0.224 & 0.205 & & \\B 0.192 & 0.230 & 0.234 & 0.205 \\\\\n",
      "06/19 & \\B 0.078 & 0.079 & 0.088 & 0.093 & & 0.077 & \\B 0.075 & 0.087 & 0.092 \\\\\n",
      "06/22 & 0.044 & \\B 0.012 & 0.013 & \\B 0.012 & & 0.051 & \\B 0.012 & \\B 0.012 & \\B 0.012 \\\\\n",
      "All Dates & \\B 0.127 & 0.151 & 0.145 & 0.146 & & \\B 0.132 & 0.156 & 0.153 & 0.149 \\\\\n",
      "\\bottomrule\n",
      "\\end{tabular}\n",
      "\n"
     ]
    }
   ],
   "source": [
    "# print(text, '\\n \\n')\n",
    "text2 = format_table(text, footer_num=3)\n",
    "print(text2)\n",
    "this_file = os.path.join(save_directory, 'all_days_2.tex')\n",
    "with open(this_file, 'w') as file:\n",
    "    file.write(text2)"
   ]
  },
  {
   "cell_type": "code",
   "execution_count": null,
   "metadata": {},
   "outputs": [],
   "source": []
  },
  {
   "cell_type": "code",
   "execution_count": null,
   "metadata": {},
   "outputs": [],
   "source": []
  },
  {
   "cell_type": "code",
   "execution_count": 212,
   "metadata": {},
   "outputs": [],
   "source": [
    "this_combined = combined[[15, 30, 45, 60]]\n",
    "hor_num = this_combined.columns.levels[0].size\n",
    "c_num = combined.columns.size + hor_num - 1\n",
    "column_format = 'l' + 'S[table-format=-1.3]' * c_num\n",
    "text = this_combined.round(decimals=3).to_latex(\n",
    "#     column_format='l|ccc|ccc|ccc|ccc',\n",
    "    column_format=column_format,\n",
    "    multicolumn_format='c')"
   ]
  },
  {
   "cell_type": "code",
   "execution_count": 213,
   "metadata": {
    "scrolled": true
   },
   "outputs": [
    {
     "name": "stdout",
     "output_type": "stream",
     "text": [
      "\\begin{tabular}{lS[table-format=-1.3]S[table-format=-1.3]S[table-format=-1.3]S[table-format=-1.3]S[table-format=-1.3]S[table-format=-1.3]S[table-format=-1.3]S[table-format=-1.3]S[table-format=-1.3]S[table-format=-1.3]S[table-format=-1.3]S[table-format=-1.3]S[table-format=-1.3]S[table-format=-1.3]S[table-format=-1.3]S[table-format=-1.3]S[table-format=-1.3]S[table-format=-1.3]S[table-format=-1.3]}\n",
      "\\toprule\n",
      "Horizon & \\multicolumn{4}{c}{15} & & \\multicolumn{4}{c}{30} & & \\multicolumn{4}{c}{45} & & \\multicolumn{4}{c}{60} \\\\\n",
      "Method & {BACON} & {Persis.} & {Opt. Flow} & {NWP} & & {BACON} & {Persis.} & {Opt. Flow} & {NWP} & & {BACON} & {Persis.} & {Opt. Flow} & {NWP} & & {BACON} & {Persis.} & {Opt. Flow} & {NWP} \\\\\n",
      "\\cmidrule(lr){2-5} \\cmidrule(lr){7-10} \\cmidrule(lr){12-15} \\cmidrule(lr){17-20} \n",
      "04/09 & 0.037 & 0.066 & \\B 0.034 & 0.038 & & 0.043 & 0.075 & \\B 0.042 & 0.045 & & \\B 0.050 & 0.076 & 0.051 & 0.051 & & \\B 0.054 & 0.072 & 0.059 & 0.055 \\\\\n",
      "04/15 & 0.039 & 0.069 & \\B 0.038 & \\B 0.038 & & \\B 0.045 & 0.071 & 0.046 & 0.050 & & \\B 0.052 & 0.075 & 0.059 & 0.059 & & \\B 0.056 & 0.085 & 0.062 & 0.065 \\\\\n",
      "04/18 & \\B 0.078 & 0.096 & 0.091 & 0.082 & & \\B 0.111 & 0.127 & 0.148 & 0.117 & & \\B 0.111 & 0.139 & 0.190 & 0.127 & & \\B 0.136 & 0.152 & 0.219 & 0.148 \\\\\n",
      "05/06 & \\B 0.070 & 0.102 & 0.073 & 0.071 & & \\B 0.095 & 0.141 & 0.107 & 0.100 & & \\B 0.098 & 0.156 & 0.118 & 0.099 & & 0.103 & 0.139 & 0.112 & \\B 0.099 \\\\\n",
      "05/09 & \\B 0.039 & 0.078 & 0.054 & 0.045 & & \\B 0.055 & 0.086 & 0.079 & 0.063 & & \\B 0.062 & 0.082 & 0.088 & 0.071 & & \\B 0.080 & 0.083 & 0.099 & 0.085 \\\\\n",
      "05/29 & \\B 0.143 & 0.170 & 0.154 & 0.155 & & \\B 0.174 & 0.218 & 0.199 & 0.192 & & \\B 0.166 & 0.236 & 0.245 & 0.201 & & \\B 0.180 & 0.265 & 0.276 & 0.210 \\\\\n",
      "06/11 & \\B 0.161 & 0.171 & 0.175 & 0.171 & & \\B 0.169 & 0.200 & 0.191 & 0.199 & & \\B 0.185 & 0.225 & 0.204 & 0.218 & & \\B 0.194 & 0.236 & 0.200 & 0.223 \\\\\n",
      "06/12 & 0.162 & 0.176 & \\B 0.157 & 0.175 & & \\B 0.175 & 0.202 & 0.180 & 0.186 & & \\B 0.179 & 0.219 & 0.192 & 0.193 & & \\B 0.189 & 0.231 & 0.205 & 0.196 \\\\\n",
      "04/02 & 0.072 & \\B 0.065 & 0.066 & \\B 0.065 & & 0.081 & 0.078 & 0.079 & \\B 0.076 & & 0.080 & 0.080 & 0.086 & \\B 0.078 & & 0.085 & 0.085 & 0.095 & \\B 0.080 \\\\\n",
      "04/05 & \\B 0.203 & 0.239 & 0.217 & 0.215 & & \\B 0.240 & 0.258 & 0.261 & 0.272 & & \\B 0.238 & 0.261 & 0.274 & 0.288 & & \\B 0.247 & 0.273 & 0.287 & 0.296 \\\\\n",
      "04/19 & 0.094 & 0.102 & \\B 0.088 & 0.107 & & 0.125 & 0.133 & \\B 0.117 & 0.143 & & 0.139 & 0.152 & \\B 0.137 & 0.158 & & \\B 0.148 & 0.158 & 0.151 & 0.165 \\\\\n",
      "05/07 & 0.088 & 0.100 & 0.096 & \\B 0.084 & & \\B 0.095 & 0.114 & 0.100 & 0.098 & & \\B 0.092 & 0.121 & 0.105 & 0.096 & & \\B 0.084 & 0.123 & 0.105 & 0.089 \\\\\n",
      "05/08 & 0.046 & 0.060 & \\B 0.034 & 0.045 & & 0.052 & 0.065 & \\B 0.044 & 0.053 & & \\B 0.052 & 0.065 & 0.053 & 0.057 & & \\B 0.054 & 0.063 & 0.060 & 0.057 \\\\\n",
      "05/19 & 0.039 & 0.057 & 0.038 & \\B 0.037 & & 0.048 & 0.062 & \\B 0.047 & \\B 0.047 & & 0.055 & 0.066 & \\B 0.054 & 0.055 & & \\B 0.051 & 0.062 & 0.060 & 0.056 \\\\\n",
      "06/03 & 0.029 & 0.033 & \\B 0.021 & \\B 0.021 & & 0.032 & 0.032 & \\B 0.024 & 0.026 & & 0.032 & 0.033 & \\B 0.026 & 0.027 & & 0.034 & 0.033 & \\B 0.027 & 0.028 \\\\\n",
      "06/10 & 0.081 & 0.077 & \\B 0.066 & 0.069 & & 0.081 & 0.092 & 0.083 & \\B 0.072 & & 0.077 & 0.092 & 0.078 & \\B 0.072 & & 0.085 & 0.099 & 0.090 & \\B 0.080 \\\\\n",
      "06/14 & 0.047 & 0.050 & 0.048 & \\B 0.044 & & 0.047 & 0.050 & 0.049 & \\B 0.043 & & 0.050 & 0.051 & 0.049 & \\B 0.044 & & 0.049 & 0.049 & 0.045 & \\B 0.041 \\\\\n",
      "06/15 & \\B 0.065 & 0.157 & 0.074 & 0.068 & & \\B 0.089 & 0.185 & 0.103 & 0.100 & & \\B 0.101 & 0.192 & 0.114 & 0.114 & & \\B 0.115 & 0.180 & 0.132 & 0.126 \\\\\n",
      "04/10 & 0.047 & 0.045 & 0.044 & \\B 0.041 & & 0.045 & 0.051 & 0.047 & \\B 0.044 & & \\B 0.047 & 0.054 & 0.048 & \\B 0.047 & & \\B 0.049 & 0.058 & 0.050 & 0.050 \\\\\n",
      "04/11 & \\B 0.160 & 0.177 & 0.180 & 0.179 & & \\B 0.184 & 0.209 & 0.202 & 0.195 & & \\B 0.188 & 0.234 & 0.212 & 0.205 & & \\B 0.188 & 0.247 & 0.219 & 0.208 \\\\\n",
      "04/12 & 0.112 & \\B 0.091 & 0.103 & 0.106 & & 0.143 & \\B 0.110 & 0.130 & 0.174 & & 0.156 & \\B 0.118 & 0.140 & 0.186 & & 0.166 & \\B 0.135 & 0.167 & 0.196 \\\\\n",
      "04/20 & \\B 0.096 & 0.104 & 0.103 & 0.101 & & \\B 0.111 & 0.122 & 0.126 & 0.126 & & \\B 0.116 & 0.124 & 0.136 & 0.137 & & \\B 0.122 & 0.126 & 0.138 & 0.144 \\\\\n",
      "04/21 & 0.029 & \\B 0.023 & 0.025 & 0.029 & & 0.032 & \\B 0.026 & 0.030 & 0.030 & & 0.033 & \\B 0.026 & 0.032 & 0.034 & & 0.034 & \\B 0.026 & 0.034 & 0.038 \\\\\n",
      "04/22 & 0.046 & 0.044 & 0.043 & \\B 0.040 & & 0.045 & 0.049 & 0.043 & \\B 0.040 & & 0.046 & 0.050 & 0.046 & \\B 0.042 & & 0.046 & 0.051 & 0.048 & \\B 0.042 \\\\\n",
      "04/25 & 0.038 & 0.038 & 0.034 & \\B 0.031 & & 0.040 & 0.042 & 0.035 & \\B 0.034 & & 0.040 & 0.046 & 0.036 & \\B 0.032 & & 0.042 & 0.046 & 0.041 & \\B 0.034 \\\\\n",
      "04/26 & \\B 0.225 & 0.240 & 0.230 & 0.293 & & \\B 0.274 & 0.321 & 0.292 & 0.388 & & \\B 0.292 & 0.369 & 0.342 & 0.397 & & \\B 0.298 & 0.383 & 0.351 & 0.392 \\\\\n",
      "05/05 & 0.024 & 0.018 & \\B 0.011 & 0.012 & & 0.026 & 0.016 & \\B 0.010 & 0.012 & & 0.028 & 0.016 & \\B 0.011 & \\B 0.011 & & 0.032 & 0.016 & \\B 0.010 & 0.012 \\\\\n",
      "05/20 & 0.107 & \\B 0.095 & 0.096 & 0.105 & & \\B 0.103 & 0.104 & 0.104 & 0.107 & & \\B 0.102 & 0.105 & 0.106 & 0.104 & & \\B 0.099 & 0.100 & 0.102 & 0.102 \\\\\n",
      "05/21 & 0.035 & 0.030 & 0.029 & \\B 0.028 & & 0.036 & 0.035 & 0.034 & \\B 0.030 & & 0.038 & 0.034 & 0.033 & \\B 0.030 & & 0.042 & 0.037 & 0.036 & \\B 0.031 \\\\\n",
      "05/22 & \\B 0.086 & 0.091 & 0.090 & 0.092 & & \\B 0.091 & 0.099 & 0.094 & 0.099 & & \\B 0.078 & 0.084 & 0.079 & 0.087 & & \\B 0.086 & 0.091 & \\B 0.086 & 0.091 \\\\\n",
      "05/23 & 0.017 & \\B 0.015 & 0.016 & \\B 0.015 & & 0.014 & 0.016 & \\B 0.012 & \\B 0.012 & & 0.013 & 0.016 & \\B 0.009 & \\B 0.009 & & 0.013 & 0.016 & \\B 0.008 & \\B 0.008 \\\\\n",
      "05/24 & \\B 0.100 & 0.111 & 0.105 & \\B 0.100 & & \\B 0.119 & 0.131 & 0.134 & 0.130 & & \\B 0.117 & 0.131 & 0.134 & 0.130 & & \\B 0.119 & 0.136 & 0.141 & 0.134 \\\\\n",
      "05/25 & \\B 0.138 & 0.174 & 0.158 & 0.149 & & \\B 0.159 & 0.195 & 0.179 & 0.176 & & \\B 0.171 & 0.206 & 0.194 & 0.187 & & \\B 0.180 & 0.211 & 0.203 & 0.191 \\\\\n",
      "05/30 & 0.026 & \\B 0.018 & 0.019 & 0.020 & & 0.031 & \\B 0.025 & 0.026 & 0.028 & & 0.032 & \\B 0.025 & 0.028 & 0.028 & & 0.035 & \\B 0.027 & 0.030 & 0.028 \\\\\n",
      "06/16 & 0.175 & 0.184 & 0.180 & \\B 0.167 & & \\B 0.181 & 0.196 & 0.200 & 0.190 & & \\B 0.183 & 0.199 & 0.207 & 0.189 & & \\B 0.183 & 0.206 & 0.215 & 0.194 \\\\\n",
      "06/17 & \\B 0.241 & 0.252 & 0.250 & 0.255 & & \\B 0.263 & 0.278 & 0.275 & 0.285 & & \\B 0.271 & 0.287 & 0.293 & 0.286 & & \\B 0.266 & 0.289 & 0.297 & 0.284 \\\\\n",
      "06/18 & \\B 0.190 & 0.219 & 0.203 & 0.193 & & \\B 0.199 & 0.224 & 0.223 & 0.209 & & \\B 0.191 & 0.230 & 0.224 & 0.205 & & \\B 0.192 & 0.230 & 0.234 & 0.205 \\\\\n",
      "06/19 & \\B 0.064 & 0.069 & 0.067 & 0.067 & & \\B 0.077 & 0.078 & 0.080 & 0.085 & & \\B 0.078 & 0.079 & 0.088 & 0.093 & & 0.077 & \\B 0.075 & 0.087 & 0.092 \\\\\n",
      "06/22 & 0.035 & \\B 0.012 & \\B 0.012 & 0.013 & & 0.039 & \\B 0.013 & \\B 0.013 & \\B 0.013 & & 0.044 & \\B 0.012 & 0.013 & \\B 0.012 & & 0.051 & \\B 0.012 & \\B 0.012 & \\B 0.012 \\\\\n",
      "All Dates & \\B 0.108 & 0.122 & 0.113 & 0.116 & & \\B 0.123 & 0.141 & 0.133 & 0.140 & & \\B 0.127 & 0.151 & 0.145 & 0.146 & & \\B 0.132 & 0.156 & 0.153 & 0.149 \\\\\n",
      "\\bottomrule\n",
      "\\end{tabular}\n",
      "\n"
     ]
    }
   ],
   "source": [
    "# print(text, '\\n \\n')\n",
    "text2 = format_table(text, footer_num=3)\n",
    "print(text2)\n",
    "this_file = os.path.join(save_directory, 'all_days_3.tex')\n",
    "with open(this_file, 'w') as file:\n",
    "    file.write(text2)"
   ]
  },
  {
   "cell_type": "code",
   "execution_count": null,
   "metadata": {},
   "outputs": [],
   "source": []
  },
  {
   "cell_type": "code",
   "execution_count": null,
   "metadata": {},
   "outputs": [],
   "source": []
  },
  {
   "cell_type": "code",
   "execution_count": 214,
   "metadata": {},
   "outputs": [],
   "source": [
    "this_combined = combined.iloc[:20]\n",
    "hor_num = this_combined.columns.levels[0].size\n",
    "c_num = combined.columns.size + hor_num - 1\n",
    "column_format = 'l' + 'S[table-format=-1.3]' * c_num\n",
    "text = this_combined.round(decimals=3).to_latex(\n",
    "    column_format=column_format,\n",
    "    multicolumn_format='c')"
   ]
  },
  {
   "cell_type": "code",
   "execution_count": 215,
   "metadata": {
    "scrolled": true
   },
   "outputs": [
    {
     "ename": "IndexError",
     "evalue": "list index out of range",
     "output_type": "error",
     "traceback": [
      "\u001b[0;31m---------------------------------------------------------------------------\u001b[0m",
      "\u001b[0;31mIndexError\u001b[0m                                Traceback (most recent call last)",
      "\u001b[0;32m<ipython-input-215-d37cd759e25e>\u001b[0m in \u001b[0;36m<module>\u001b[0;34m()\u001b[0m\n\u001b[1;32m      1\u001b[0m \u001b[0;31m# print(text, '\\n \\n')\u001b[0m\u001b[0;34m\u001b[0m\u001b[0;34m\u001b[0m\u001b[0m\n\u001b[0;32m----> 2\u001b[0;31m \u001b[0mtext2\u001b[0m \u001b[0;34m=\u001b[0m \u001b[0mformat_table\u001b[0m\u001b[0;34m(\u001b[0m\u001b[0mtext\u001b[0m\u001b[0;34m)\u001b[0m\u001b[0;34m\u001b[0m\u001b[0m\n\u001b[0m\u001b[1;32m      3\u001b[0m \u001b[0mprint\u001b[0m\u001b[0;34m(\u001b[0m\u001b[0mtext2\u001b[0m\u001b[0;34m)\u001b[0m\u001b[0;34m\u001b[0m\u001b[0m\n",
      "\u001b[0;32m<ipython-input-206-257e583ce275>\u001b[0m in \u001b[0;36mformat_table\u001b[0;34m(text, header_num, footer_num)\u001b[0m\n\u001b[1;32m     41\u001b[0m     \u001b[0;32mfor\u001b[0m \u001b[0mline_num\u001b[0m\u001b[0;34m,\u001b[0m \u001b[0mline\u001b[0m \u001b[0;32min\u001b[0m \u001b[0menumerate\u001b[0m\u001b[0;34m(\u001b[0m\u001b[0msplit_text\u001b[0m\u001b[0;34m[\u001b[0m\u001b[0mheader_num\u001b[0m\u001b[0;34m:\u001b[0m\u001b[0;34m-\u001b[0m\u001b[0mfooter_num\u001b[0m \u001b[0;34m-\u001b[0m \u001b[0;36m0\u001b[0m\u001b[0;34m]\u001b[0m\u001b[0;34m)\u001b[0m\u001b[0;34m:\u001b[0m\u001b[0;34m\u001b[0m\u001b[0m\n\u001b[1;32m     42\u001b[0m         \u001b[0msplit_line\u001b[0m \u001b[0;34m=\u001b[0m \u001b[0mline\u001b[0m\u001b[0;34m.\u001b[0m\u001b[0msplit\u001b[0m\u001b[0;34m(\u001b[0m\u001b[0;34m' '\u001b[0m\u001b[0;34m)\u001b[0m\u001b[0;34m\u001b[0m\u001b[0m\n\u001b[0;32m---> 43\u001b[0;31m         \u001b[0;32mif\u001b[0m \u001b[0msplit_line\u001b[0m\u001b[0;34m[\u001b[0m\u001b[0;36m1\u001b[0m\u001b[0;34m]\u001b[0m \u001b[0;34m!=\u001b[0m \u001b[0;34m'&'\u001b[0m\u001b[0;34m:\u001b[0m\u001b[0;34m\u001b[0m\u001b[0m\n\u001b[0m\u001b[1;32m     44\u001b[0m             \u001b[0msplit_line\u001b[0m\u001b[0;34m[\u001b[0m\u001b[0;36m1\u001b[0m\u001b[0;34m]\u001b[0m \u001b[0;34m=\u001b[0m \u001b[0msplit_line\u001b[0m\u001b[0;34m[\u001b[0m\u001b[0;36m0\u001b[0m\u001b[0;34m]\u001b[0m \u001b[0;34m+\u001b[0m \u001b[0;34m' '\u001b[0m \u001b[0;34m+\u001b[0m \u001b[0msplit_line\u001b[0m\u001b[0;34m[\u001b[0m\u001b[0;36m1\u001b[0m\u001b[0;34m]\u001b[0m\u001b[0;34m\u001b[0m\u001b[0m\n\u001b[1;32m     45\u001b[0m             \u001b[0msplit_line\u001b[0m \u001b[0;34m=\u001b[0m \u001b[0msplit_line\u001b[0m\u001b[0;34m[\u001b[0m\u001b[0;36m1\u001b[0m\u001b[0;34m:\u001b[0m\u001b[0;34m]\u001b[0m\u001b[0;34m\u001b[0m\u001b[0m\n",
      "\u001b[0;31mIndexError\u001b[0m: list index out of range"
     ]
    }
   ],
   "source": [
    "# print(text, '\\n \\n')\n",
    "text2 = format_table(text)\n",
    "print(text2)"
   ]
  },
  {
   "cell_type": "code",
   "execution_count": null,
   "metadata": {},
   "outputs": [],
   "source": []
  },
  {
   "cell_type": "code",
   "execution_count": null,
   "metadata": {},
   "outputs": [],
   "source": []
  },
  {
   "cell_type": "code",
   "execution_count": null,
   "metadata": {},
   "outputs": [],
   "source": []
  }
 ],
 "metadata": {
  "kernelspec": {
   "display_name": "Python 3",
   "language": "python",
   "name": "python3"
  },
  "language_info": {
   "codemirror_mode": {
    "name": "ipython",
    "version": 3
   },
   "file_extension": ".py",
   "mimetype": "text/x-python",
   "name": "python",
   "nbconvert_exporter": "python",
   "pygments_lexer": "ipython3",
   "version": "3.6.2"
  }
 },
 "nbformat": 4,
 "nbformat_minor": 2
}
