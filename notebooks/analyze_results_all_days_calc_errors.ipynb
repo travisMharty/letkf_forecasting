{
 "cells": [
  {
   "cell_type": "code",
   "execution_count": 3,
   "metadata": {},
   "outputs": [],
   "source": [
    "# import ocw.plotter as oplt\n",
    "import importlib\n",
    "import datetime\n",
    "import os\n",
    "import pandas as pd\n",
    "import numpy as np\n",
    "import matplotlib.pyplot as plt\n",
    "import xarray as xr\n",
    "from letkf_forecasting import analyse_results, letkf_io\n",
    "# import seaborn as sns\n",
    "# cpal = sns.color_palette()\n",
    "# sns.set_style('whitegrid')\n",
    "# sns.set_context('paper', font_scale=1.0,\n",
    "#                 rc={'lines.linewidth':1.0,\n",
    "#                     'lines.markersize':7})"
   ]
  },
  {
   "cell_type": "code",
   "execution_count": 10,
   "metadata": {
    "scrolled": true
   },
   "outputs": [
    {
     "name": "stdout",
     "output_type": "stream",
     "text": [
      "wrf_mean\n"
     ]
    },
    {
     "name": "stderr",
     "output_type": "stream",
     "text": [
      "/home/travis/miniconda3/envs/letkf/lib/python3.6/site-packages/dask/core.py:306: FutureWarning: elementwise comparison failed; returning scalar instead, but in the future will perform elementwise comparison\n",
      "  elif type_arg is type(key) and arg == key:\n",
      "/home/travis/miniconda3/envs/letkf/lib/python3.6/site-packages/dask/core.py:306: FutureWarning: elementwise comparison failed; returning scalar instead, but in the future will perform elementwise comparison\n",
      "  elif type_arg is type(key) and arg == key:\n",
      "/home/travis/miniconda3/envs/letkf/lib/python3.6/site-packages/dask/core.py:306: FutureWarning: elementwise comparison failed; returning scalar instead, but in the future will perform elementwise comparison\n",
      "  elif type_arg is type(key) and arg == key:\n",
      "/home/travis/miniconda3/envs/letkf/lib/python3.6/site-packages/dask/core.py:306: FutureWarning: elementwise comparison failed; returning scalar instead, but in the future will perform elementwise comparison\n",
      "  elif type_arg is type(key) and arg == key:\n",
      "/home/travis/miniconda3/envs/letkf/lib/python3.6/site-packages/dask/core.py:306: FutureWarning: elementwise comparison failed; returning scalar instead, but in the future will perform elementwise comparison\n",
      "  elif type_arg is type(key) and arg == key:\n",
      "/home/travis/miniconda3/envs/letkf/lib/python3.6/site-packages/dask/core.py:306: FutureWarning: elementwise comparison failed; returning scalar instead, but in the future will perform elementwise comparison\n",
      "  elif type_arg is type(key) and arg == key:\n",
      "/home/travis/miniconda3/envs/letkf/lib/python3.6/site-packages/dask/core.py:306: FutureWarning: elementwise comparison failed; returning scalar instead, but in the future will perform elementwise comparison\n",
      "  elif type_arg is type(key) and arg == key:\n",
      "/home/travis/miniconda3/envs/letkf/lib/python3.6/site-packages/dask/core.py:306: FutureWarning: elementwise comparison failed; returning scalar instead, but in the future will perform elementwise comparison\n",
      "  elif type_arg is type(key) and arg == key:\n",
      "/home/travis/miniconda3/envs/letkf/lib/python3.6/site-packages/dask/core.py:306: FutureWarning: elementwise comparison failed; returning scalar instead, but in the future will perform elementwise comparison\n",
      "  elif type_arg is type(key) and arg == key:\n",
      "/home/travis/miniconda3/envs/letkf/lib/python3.6/site-packages/dask/core.py:306: FutureWarning: elementwise comparison failed; returning scalar instead, but in the future will perform elementwise comparison\n",
      "  elif type_arg is type(key) and arg == key:\n",
      "/home/travis/miniconda3/envs/letkf/lib/python3.6/site-packages/dask/core.py:306: FutureWarning: elementwise comparison failed; returning scalar instead, but in the future will perform elementwise comparison\n",
      "  elif type_arg is type(key) and arg == key:\n",
      "/home/travis/miniconda3/envs/letkf/lib/python3.6/site-packages/dask/core.py:306: FutureWarning: elementwise comparison failed; returning scalar instead, but in the future will perform elementwise comparison\n",
      "  elif type_arg is type(key) and arg == key:\n"
     ]
    }
   ],
   "source": [
    "importlib.reload(analyse_results)\n",
    "importlib.reload(letkf_io)\n",
    "# month_day = [[4, 9],  [4, 15], [4, 18],\n",
    "#              [5, 6],  [5, 9],  [5, 29],\n",
    "#              [6, 11], [6, 12]]\n",
    "# month_day = [[4 2], [4 5],  [4 19],\n",
    "#              [5 7], [5 8],  [5 19],\n",
    "#              [6 3], [6 10], [6 14],\n",
    "#              [6 15]]\n",
    "# month_day = [[4, 9],  [4, 15], [4, 18],\n",
    "#              [5, 6],  [5, 9],  [5, 29],\n",
    "#              [6, 11], [6, 12],\n",
    "#              [4, 2],  [4, 5],  [4, 19],\n",
    "#              [5, 7],  [5, 8],  [5, 19],\n",
    "#              [6, 3],  [6, 10], [6, 14],\n",
    "#              [6, 15]]\n",
    "month_day = [[4, 9],  [4, 15], [4, 18],\n",
    "             [5, 6],  [5, 9],  [5, 29],\n",
    "             [6, 11], [6, 12],\n",
    "             [4, 2],  [4, 5],  [4, 19],\n",
    "             [5, 7],  [5, 8],  [5, 19],\n",
    "             [6, 3],  [6, 10], [6, 14],\n",
    "             [6, 15],\n",
    "             [4, 10], [4, 11], [4, 12],\n",
    "             [4, 20], [4, 21], [4, 22],\n",
    "             [4, 25], [4, 26], [5, 5],\n",
    "             [5, 20], [5, 21], [5, 22],\n",
    "             [5, 23], [5, 24], [5, 25],\n",
    "             [5, 30], [6, 16], [6, 17],\n",
    "             [6, 18], [6, 19], [6, 22]]\n",
    "\n",
    "dates = []\n",
    "for ii in range(len(month_day)):\n",
    "    dates.append(datetime.date(2014, month_day[ii][0], month_day[ii][1]))\n",
    "base_folder = '/a2/uaren/travis'\n",
    "# runs = ['persistence', 'radiosonde', 'opt_flow',\n",
    "#         'wrf', 'wrf_no_div', 'ow_15', 'owp_opt']\n",
    "\n",
    "# runs = [['anly_fore', 'owp_opt']]\n",
    "\n",
    "# runs = ['persistence', 'radiosonde',\n",
    "#         'wrf_mean', 'owp_opt',\n",
    "#         ['anly_fore', 'owp_opt']]\n",
    "\n",
    "runs = ['wrf_mean']\n",
    "\n",
    "horizons = [15, 30, 45, 60]\n",
    "only_cloudy = False\n",
    "mean_win_size = None\n",
    "only_of_times = True\n",
    "\n",
    "one_km_err = True\n",
    "\n",
    "error_stats_full = analyse_results.error_stats_many_days(\n",
    "    dates, runs, horizons, base_folder,\n",
    "    only_cloudy=only_cloudy, only_of_times=only_of_times,\n",
    "    mean_win_size=mean_win_size, one_km_err=one_km_err\n",
    ")"
   ]
  },
  {
   "cell_type": "code",
   "execution_count": 11,
   "metadata": {
    "scrolled": true
   },
   "outputs": [
    {
     "name": "stdout",
     "output_type": "stream",
     "text": [
      "third_set\n"
     ]
    }
   ],
   "source": [
    "if only_cloudy:\n",
    "    directory_name = 'third_set_only_cloudy'\n",
    "else:\n",
    "    directory_name = 'third_set'\n",
    "print(directory_name)\n",
    "for error_stats in error_stats_full:\n",
    "    run_name = error_stats['name']\n",
    "    if run_name[0] == 'anly_fore':\n",
    "        run_name = '_'.join(run_name[::-1])\n",
    "    save_directory = ('/a2/uaren/travis/'\n",
    "        + f'results/multi_day_error/{directory_name}/{run_name}')\n",
    "    if not os.path.exists(save_directory):\n",
    "        os.makedirs(save_directory)\n",
    "    for error_stat in error_stats:\n",
    "        if error_stat == 'name':\n",
    "            continue\n",
    "        this_dir = os.path.join(\n",
    "            save_directory,\n",
    "            error_stat + '.h5')\n",
    "        error_stats[error_stat].to_hdf(this_dir, error_stat)"
   ]
  }
 ],
 "metadata": {
  "kernelspec": {
   "display_name": "Python 3",
   "language": "python",
   "name": "python3"
  },
  "language_info": {
   "codemirror_mode": {
    "name": "ipython",
    "version": 3
   },
   "file_extension": ".py",
   "mimetype": "text/x-python",
   "name": "python",
   "nbconvert_exporter": "python",
   "pygments_lexer": "ipython3",
   "version": "3.6.2"
  }
 },
 "nbformat": 4,
 "nbformat_minor": 2
}
