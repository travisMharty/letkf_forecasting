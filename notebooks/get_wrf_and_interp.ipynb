{
 "cells": [
  {
   "cell_type": "markdown",
   "metadata": {},
   "source": [
    "Probably don't need "
   ]
  },
  {
   "cell_type": "code",
   "execution_count": 1,
   "metadata": {
    "collapsed": true
   },
   "outputs": [],
   "source": [
    "import sys\n",
    "import importlib\n",
    "import datetime\n",
    "\n",
    "import numpy as np\n",
    "import pandas as pd\n",
    "import xarray as xr\n",
    "import pvlib as pv\n",
    "import matplotlib.pyplot as plt\n",
    "import matplotlib.colors as colors\n",
    "import matplotlib.colorbar as colorbar\n",
    "import scipy.ndimage.filters as filters\n",
    "from distributed import LocalCluster, Client"
   ]
  },
  {
   "cell_type": "code",
   "execution_count": 2,
   "metadata": {
    "collapsed": true
   },
   "outputs": [],
   "source": [
    "%matplotlib inline"
   ]
  },
  {
   "cell_type": "code",
   "execution_count": 3,
   "metadata": {
    "collapsed": true
   },
   "outputs": [],
   "source": [
    "sys.path.append('/home/travis/python_code/letkf_forecasting/')\n",
    "import letkf_forecasting as lf\n",
    "import prepare_sat_data as prep\n",
    "import random_functions as rf\n",
    "import get_wrf_data as gwd\n",
    "import interpolate_data as tmh_id"
   ]
  },
  {
   "cell_type": "code",
   "execution_count": 4,
   "metadata": {
    "collapsed": true
   },
   "outputs": [],
   "source": [
    "cloudy_month = 4\n",
    "cloudy_day = 15"
   ]
  },
  {
   "cell_type": "code",
   "execution_count": 12,
   "metadata": {
    "collapsed": true
   },
   "outputs": [],
   "source": [
    "month_day_list = [[4, 9], [5, 6], [5, 9], [6, 11]]"
   ]
  },
  {
   "cell_type": "code",
   "execution_count": 15,
   "metadata": {},
   "outputs": [
    {
     "name": "stdout",
     "output_type": "stream",
     "text": [
      "2014-04-09 12:30:00\n",
      "./data/for_4_9/raw_winds/\n",
      "2014-05-06 12:30:00\n",
      "./data/for_5_6/raw_winds/\n",
      "2014-05-09 12:30:00\n",
      "./data/for_5_9/raw_winds/\n",
      "2014-06-11 12:30:00\n",
      "./data/for_6_11/raw_winds/\n"
     ]
    }
   ],
   "source": [
    "for month, day in month_day_list:\n",
    "    year=2014\n",
    "#     month = cloudy_month\n",
    "#     day = cloudy_day\n",
    "    solar_noon = pd.Timestamp('12:30:00')\n",
    "    solar_noon = solar_noon.replace(year=year, month=month, day=day)\n",
    "    print(solar_noon)\n",
    "    step = pd.Timedelta('3h')\n",
    "    start = solar_noon - step\n",
    "    start = (start - pd.Timedelta('30min')).round(freq='1h')\n",
    "    end = solar_noon + step\n",
    "    end = (end + pd.Timedelta('30min')).round(freq='1h')\n",
    "    time_range = pd.date_range(start, end, freq='1h')\n",
    "    time_range = time_range.tz_localize('MST')\n",
    "    # print(time_range)\n",
    "\n",
    "    wrf_path = '/a2/uaren/{year}/{month:02}/{day:02}/solar_3/wrfsolar_d02_hourly.nc'\n",
    "    wrf_path = wrf_path.format(year=year, month=month, day=day)\n",
    "    # print(wrf_path)\n",
    "    save_path = './data/'\n",
    "    # print(save_path)\n",
    "\n",
    "    importlib.reload(gwd)\n",
    "    gwd.main(time_range=time_range, wrf_path=wrf_path, save_path=save_path)\n",
    "\n",
    "    # suffix = '_' + str(month) + '_' + str(day)\n",
    "    # file = save_path + 'for' + suffix + '/raw_winds/' + '{var}'\n",
    "    # U = pd.read_hdf(file.format(var='U.h5'))                                                                     \n",
    "    # V = pd.read_hdf(file.format(var='V.h5'))                                                                                                                             \n",
    "    # wind_lats = np.load(file.format(var='wind_lats.npy'))                                                                                                                 \n",
    "    # wind_lons = np.load(file.format(var='wind_lons.npy'))                                                                                                                 \n",
    "    # U_shape = np.load(file.format(var='U_shape.npy'))                                                                                                                   \n",
    "    # V_shape = np.load(file.format(var='V_shape.npy'))\n",
    "\n",
    "    importlib.reload(tmh_id)\n",
    "    save_path='./data/'\n",
    "    date = pd.Timestamp(0)\n",
    "    date = date.replace(year=year, day=day, month=month)\n",
    "    date = date.tz_localize('MST')\n",
    "    tmh_id.interp_wind(save_path=save_path, date=date)\n",
    "\n",
    "    # suffix = '_' + str(cloudy_month) + '_' + str(cloudy_day)\n",
    "    # load_path = './data/for' + suffix + '/' + '{var}'\n",
    "    # U = pd.read_hdf(load_path.format(var='U.h5'))\n",
    "    # U_shape = np.load(load_path.format(var='U_shape.npy'))\n",
    "    # x = np.load(load_path.format(var='x.npy'))\n",
    "    # y = np.load(load_path.format(var='y.npy'))"
   ]
  }
 ],
 "metadata": {
  "kernelspec": {
   "display_name": "Python 3",
   "language": "python",
   "name": "python3"
  },
  "language_info": {
   "codemirror_mode": {
    "name": "ipython",
    "version": 3
   },
   "file_extension": ".py",
   "mimetype": "text/x-python",
   "name": "python",
   "nbconvert_exporter": "python",
   "pygments_lexer": "ipython3",
   "version": "3.6.2"
  }
 },
 "nbformat": 4,
 "nbformat_minor": 1
}
