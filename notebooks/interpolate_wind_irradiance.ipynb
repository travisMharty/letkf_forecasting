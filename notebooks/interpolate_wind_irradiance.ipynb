{
 "cells": [
  {
   "cell_type": "code",
   "execution_count": 1,
   "metadata": {
    "collapsed": true
   },
   "outputs": [],
   "source": [
    "import sys\n",
    "import importlib\n",
    "import datetime\n",
    "\n",
    "import numpy as np\n",
    "import pandas as pd\n",
    "import xarray as xr\n",
    "import pvlib as pv\n",
    "import matplotlib.pyplot as plt\n",
    "import scipy.interpolate as interpolate\n",
    "from scipy.ndimage.filters import uniform_filter"
   ]
  },
  {
   "cell_type": "code",
   "execution_count": 2,
   "metadata": {
    "collapsed": true
   },
   "outputs": [],
   "source": [
    "%matplotlib inline"
   ]
  },
  {
   "cell_type": "code",
   "execution_count": 3,
   "metadata": {
    "collapsed": true
   },
   "outputs": [],
   "source": [
    "sys.path.append('/home/travis/python_code/letkf_forecasting/')\n",
    "import letkf_forecasting as lf\n",
    "import prepare_sat_data as prep"
   ]
  },
  {
   "cell_type": "code",
   "execution_count": 4,
   "metadata": {},
   "outputs": [],
   "source": [
    "sensor_CI = pd.read_hdf('/home/travis/python_code/letkf_forecasting/data/sensor_CI.h5')\n",
    "sensor_loc = pd.read_hdf('/home/travis/python_code/forecasting/current_data/sensor_loc.h5')\n",
    "domain_shape = np.load('./data/domain_shape.npy')\n",
    "lats = np.load('./data/lats.npy')\n",
    "lons = np.load('./data/lons.npy')\n",
    "x = np.load('./data/x.npy')\n",
    "y = np.load('./data/y.npy')\n",
    "cloudiness_index = pd.read_hdf('./data/cloudiness_index.h5')\n",
    "clearsky = pd.read_hdf('./data/clearsky.h5')\n",
    "pixel = pd.read_hdf('./data/pixel.h5')"
   ]
  },
  {
   "cell_type": "code",
   "execution_count": null,
   "metadata": {
    "collapsed": true,
    "scrolled": true
   },
   "outputs": [],
   "source": [
    "# For 5/29\n",
    "file = './data/for{suffix}/raw_winds/{variable}{suffix}.h5'\n",
    "suffix = '_5_29'\n",
    "U = pd.read_hdf(file.format(variable='U', suffix=suffix))\n",
    "V = pd.read_hdf(file.format(variable='V', suffix=suffix))\n",
    "U_shape = np.load(file.format(variable='U_shape', suffix=suffix)[:-3]+'.npy')\n",
    "V_shape = np.load(file.format(variable='V_shape', suffix=suffix)[:-3]+'.npy')\n",
    "wind_lats = np.load(file.format(variable='wind_lats', suffix=suffix)[:-3]+'.npy')\n",
    "wind_lons = np.load(file.format(variable='wind_lons', suffix=suffix)[:-3]+'.npy')\n",
    "wind_times = U.index"
   ]
  },
  {
   "cell_type": "code",
   "execution_count": null,
   "metadata": {
    "collapsed": true
   },
   "outputs": [],
   "source": [
    "# for 5/29\n",
    "cloudiness_5_29 = cloudiness_index.ix['2014-05-29']\n",
    "cloudiness_6_1 = cloudiness_index.ix['2014-06-01']\n",
    "cloudiness_6_1.index = cloudiness_6_1.index - pd.Timedelta('3day')\n",
    "\n",
    "cc_5_29 = (cloudiness_5_29 - cloudiness_6_1).clip(lower=0)\n",
    "\n",
    "clearsky_5_29 = clearsky.ix['2014-05-29']\n",
    "cloudiness_6_1 = cloudiness_index.ix['2014-06-01']\n",
    "clearsky_6_1 = clearsky.ix['2014-06-01']\n",
    "\n",
    "ktm_5_29 = (2.36*cloudiness_5_29**5 - 6.2*cloudiness_5_29**4 +\n",
    "       6.22*cloudiness_5_29**3 - 2.63*cloudiness_5_29**2 -\n",
    "       0.58*cloudiness_5_29 + 1)\n",
    "\n",
    "ktm_5_29_cc = (2.36*cc_5_29**5 - 6.2*cc_5_29**4 +\n",
    "             6.22*cc_5_29**3 - 2.63*cc_5_29**2 -\n",
    "             0.58*cc_5_29 + 1)\n",
    "# GHI_15 = ktm*clearsky_15*(0.0001*ktm*clearsky_15 + 0.9)\n",
    "GHI_5_29 = ktm_5_29*(0.0001*ktm_5_29 + 0.9)\n",
    "\n",
    "ktm_6_1 = (2.36*cloudiness_6_1**5 - 6.2*cloudiness_6_1**4 +\n",
    "       6.22*cloudiness_6_1**3 - 2.63*cloudiness_6_1**2 -\n",
    "       0.58*cloudiness_6_1 + 1)\n",
    "# GHI_14 = ktm*clearsky_14*(0.0001*ktm*clearsky_14 + 0.9)\n",
    "GHI_6_1 = ktm_6_1*(0.0001*ktm_6_1 + 0.9)\n",
    "GHI_6_1.index = GHI_6_1.index - pd.Timedelta('3day')\n",
    "ktm_6_1.index = ktm_6_1.index - pd.Timedelta('3day')\n",
    "cloudiness_6_1.index = cloudiness_6_1.index - pd.Timedelta('3day')\n",
    "# csi_15 = GHI_15/GHI_14\n",
    "csi_5_29 = ktm_5_29/ktm_6_1"
   ]
  },
  {
   "cell_type": "code",
   "execution_count": null,
   "metadata": {
    "collapsed": true
   },
   "outputs": [],
   "source": [
    "csi_5_29 = csi_5_29.dropna()"
   ]
  },
  {
   "cell_type": "code",
   "execution_count": null,
   "metadata": {
    "collapsed": true,
    "scrolled": true
   },
   "outputs": [],
   "source": [
    "# date_range = pd.date_range('2014-04-15')\n",
    "for d in csi_5_29.index[10:20]:\n",
    "#     this_time = '2014-05-29 12:45:00'\n",
    "    this_time = d\n",
    "#     cmap = 'jet'\n",
    "    cmap = 'Blues'\n",
    "\n",
    "    # vmin=0\n",
    "    # vmax=1.2\n",
    "\n",
    "    plt.figure()\n",
    "    im = plt.pcolormesh(x.reshape(domain_shape), y.reshape(domain_shape),\n",
    "        (csi_5_29).ix[this_time].values.reshape(domain_shape),\n",
    "        cmap=cmap)\n",
    "    plt.colorbar(im)\n",
    "    plt.title('csi: ' + str(this_time))\n",
    "    plt.axis('equal')"
   ]
  },
  {
   "cell_type": "code",
   "execution_count": null,
   "metadata": {
    "collapsed": true
   },
   "outputs": [],
   "source": [
    "dx = .25\n",
    "dy = .25\n",
    "x_fine = np.arange(x[0], x[-1] + dx, dx)\n",
    "y_fine = np.arange(y[0], y[-1] + dy, dy)\n",
    "x_fine, y_fine = np.meshgrid(x_fine, y_fine)\n",
    "fine_shape = x_fine.shape\n",
    "x_fine = x_fine.ravel()\n",
    "y_fine = y_fine.ravel()\n",
    "interp_positions = np.stack([x_fine, y_fine], axis=1)\n",
    "sat_times = csi_5_29.index"
   ]
  },
  {
   "cell_type": "code",
   "execution_count": null,
   "metadata": {
    "collapsed": true
   },
   "outputs": [],
   "source": [
    "data = csi_5_29.ix[0].values\n",
    "data_positions = np.stack([x, y], axis=1)\n",
    "f = interpolate.NearestNDInterpolator(data_positions, data)\n",
    "data = f(interp_positions)\n",
    "data = data.reshape(fine_shape)\n",
    "data = uniform_filter(data, size=(4, 4)).ravel()\n",
    "csi_fine = pd.DataFrame(data=data[None, :], index=[sat_times[0]])"
   ]
  },
  {
   "cell_type": "code",
   "execution_count": null,
   "metadata": {
    "collapsed": true
   },
   "outputs": [],
   "source": [
    "for t in np.arange(sat_times.size - 1) + 1:\n",
    "    this_time = sat_times[t]\n",
    "    data = csi_5_29.ix[this_time].values\n",
    "    f = interpolate.NearestNDInterpolator(data_positions, data)\n",
    "    data = f(interp_positions)\n",
    "    data = data.reshape(fine_shape)\n",
    "    data = uniform_filter(data, size=(4, 4)).ravel()\n",
    "    temp = pd.DataFrame(data=data[None, :], index=[this_time])\n",
    "    csi_fine = csi_fine.append(temp)"
   ]
  },
  {
   "cell_type": "code",
   "execution_count": null,
   "metadata": {
    "collapsed": true
   },
   "outputs": [],
   "source": [
    "csi_fine.to_hdf('./data/for_5_29/csi_5_29.h5', 'csi_5_29')"
   ]
  },
  {
   "cell_type": "code",
   "execution_count": null,
   "metadata": {
    "collapsed": true
   },
   "outputs": [],
   "source": [
    "data = cloudiness_5_29.values.T\n",
    "data_positions = np.stack([x, y], axis=1)\n",
    "f = interpolate.NearestNDInterpolator(data_positions, data)\n",
    "data = f(interp_positions).T\n",
    "data = data.reshape(\n",
    "    [sat_times.size, fine_shape[0], fine_shape[1]])\n",
    "data = uniform_filter(\n",
    "    data, size=(0, 4, 4)).reshape(\n",
    "    [sat_times.size, fine_shape[0]*fine_shape[1]])\n",
    "cloudiness_5_29 = pd.DataFrame(data=data, index=sat_times)"
   ]
  },
  {
   "cell_type": "code",
   "execution_count": null,
   "metadata": {
    "collapsed": true
   },
   "outputs": [],
   "source": [
    "cloudiness_5_29.to_hdf('./data/for_5_29/cloudiness_5_29.h5', 'cloudiness_5_29')"
   ]
  },
  {
   "cell_type": "code",
   "execution_count": null,
   "metadata": {
    "collapsed": true
   },
   "outputs": [],
   "source": [
    "cloudiness_6_1 = cloudiness_6_1.ix[cloudiness_5_29.index]"
   ]
  },
  {
   "cell_type": "code",
   "execution_count": null,
   "metadata": {
    "collapsed": true
   },
   "outputs": [],
   "source": [
    "data = cloudiness_6_1.values.T\n",
    "data_positions = np.stack([x, y], axis=1)\n",
    "f = interpolate.NearestNDInterpolator(data_positions, data)\n",
    "data = f(interp_positions).T\n",
    "data = data.reshape(\n",
    "    [sat_times.size, fine_shape[0], fine_shape[1]])\n",
    "data = uniform_filter(\n",
    "    data, size=(0, 4, 4)).reshape(\n",
    "    [sat_times.size, fine_shape[0]*fine_shape[1]])\n",
    "cloudiness_6_1 = pd.DataFrame(data=data, index=sat_times)"
   ]
  },
  {
   "cell_type": "code",
   "execution_count": null,
   "metadata": {
    "collapsed": true
   },
   "outputs": [],
   "source": [
    "cloudiness_6_1.to_hdf('./data/for_5_29/cloudiness_6_1.h5', 'cloudiness_6_1')"
   ]
  },
  {
   "cell_type": "code",
   "execution_count": null,
   "metadata": {
    "collapsed": true,
    "scrolled": true
   },
   "outputs": [],
   "source": [
    "# date_range = pd.date_range('2014-04-15')\n",
    "for d in csi_5_29.index[10:11]:\n",
    "#     this_time = '2014-05-29 12:45:00'\n",
    "    this_time = d\n",
    "#     cmap = 'jet'\n",
    "    cmap = 'Blues'\n",
    "\n",
    "    # vmin=0\n",
    "    # vmax=1.2\n",
    "\n",
    "    plt.figure()\n",
    "    im = plt.pcolormesh(x_fine.reshape(fine_shape), y_fine.reshape(fine_shape),\n",
    "        (csi_fine).ix[this_time].values.reshape(fine_shape),\n",
    "        cmap=cmap)\n",
    "    plt.colorbar(im)\n",
    "    plt.title('csi: ' + str(this_time))\n",
    "    plt.axis('equal')\n",
    "    \n",
    "    plt.figure()\n",
    "    im = plt.pcolormesh(x_fine.reshape(fine_shape), y_fine.reshape(fine_shape),\n",
    "        (cloudiness_5_29).ix[this_time].values.reshape(fine_shape),\n",
    "        cmap=cmap)\n",
    "    plt.colorbar(im)\n",
    "    plt.title('ci 5/29: ' + str(this_time))\n",
    "    plt.axis('equal')\n",
    "    \n",
    "    plt.figure()\n",
    "    im = plt.pcolormesh(x_fine.reshape(fine_shape), y_fine.reshape(fine_shape),\n",
    "        (cloudiness_6_1).ix[this_time].values.reshape(fine_shape),\n",
    "        cmap=cmap)\n",
    "    plt.colorbar(im)\n",
    "    plt.title('ci 6/1: ' + str(this_time))\n",
    "    plt.axis('equal')"
   ]
  },
  {
   "cell_type": "code",
   "execution_count": null,
   "metadata": {
    "collapsed": true
   },
   "outputs": [],
   "source": [
    "wind_x, wind_y = prep.sphere_to_lcc(wind_lats, wind_lons)"
   ]
  },
  {
   "cell_type": "code",
   "execution_count": null,
   "metadata": {
    "collapsed": true
   },
   "outputs": [],
   "source": [
    "wind_x = wind_x.reshape([U_shape[0], V_shape[1]])\n",
    "wind_y = wind_y.reshape([U_shape[0], V_shape[1]])"
   ]
  },
  {
   "cell_type": "code",
   "execution_count": null,
   "metadata": {
    "collapsed": true
   },
   "outputs": [],
   "source": [
    "y_step_sn = np.diff(wind_y, axis=0).mean(axis=0)\n",
    "y_step_we = np.diff(wind_y, axis=1).mean(axis=1)\n",
    "x_step_sn = np.diff(wind_x, axis=0).mean(axis=0)\n",
    "x_step_we = np.diff(wind_x, axis=1).mean(axis=1)\n",
    "\n",
    "U_y = np.concatenate([wind_y - y_step_we[:, None]/2,\n",
    "                      (wind_y[:, -1] + y_step_we/2)[:, None]], axis=1)\n",
    "U_x = np.concatenate([wind_x - x_step_we[:, None]/2,\n",
    "                      (wind_x[:, -1] + x_step_we/2)[:, None]], axis=1)\n",
    "\n",
    "V_y = np.concatenate([wind_y - y_step_sn[None, :]/2,\n",
    "                      (wind_y[-1, :] + y_step_sn/2)[None, :]], axis=0)\n",
    "V_x = np.concatenate([wind_x - x_step_sn[None, :]/2,\n",
    "                      (wind_x[-1, :] + x_step_sn/2)[None, :]], axis=0)\n",
    "U_data_positions = np.stack([U_x.ravel(), U_y.ravel()], axis=1)\n",
    "V_data_positions = np.stack([V_x.ravel(), V_y.ravel()], axis=1)"
   ]
  },
  {
   "cell_type": "code",
   "execution_count": null,
   "metadata": {
    "collapsed": true
   },
   "outputs": [],
   "source": [
    "dx"
   ]
  },
  {
   "cell_type": "code",
   "execution_count": null,
   "metadata": {
    "collapsed": true
   },
   "outputs": [],
   "source": [
    "## NEW\n",
    "U_x_fine = np.concatenate([x_fine - .25/2, \n",
    "                           [x_fine[-1] + .25/2]], axis=0)\n",
    "V_y_fine = np.concatenate([y_fine - dx/2,\n",
    "                           [y_fine[-1] + dx/2]], axis=0)"
   ]
  },
  {
   "cell_type": "code",
   "execution_count": null,
   "metadata": {
    "collapsed": true
   },
   "outputs": [],
   "source": [
    "y_fine = y_fine.reshape(fine_shape)\n",
    "x_fine = x_fine.reshape(fine_shape)\n",
    "U_y_fine = np.concatenate([y_fine, \n",
    "                           (y_fine[:, -1])[:, None]], axis=1)\n",
    "U_x_fine = np.concatenate([x_fine - .25/2, \n",
    "                           (x_fine[:, -1] + .25/2)[:, None]], axis=1)\n",
    "V_y_fine = np.concatenate([y_fine - .25/2, \n",
    "                           (y_fine[-1, :] + .25/2)[None, :]], axis=0)\n",
    "V_x_fine = np.concatenate([x_fine, \n",
    "                           (x_fine[-1, :])[None, :]], axis=0)\n",
    "U_fine_shape = U_x_fine.shape\n",
    "V_fine_shape = V_x_fine.shape\n",
    "U_interp_positions = np.stack([U_x_fine.ravel(), U_y_fine.ravel()], axis=1)\n",
    "V_interp_positions = np.stack([V_x_fine.ravel(), V_y_fine.ravel()], axis=1)"
   ]
  },
  {
   "cell_type": "code",
   "execution_count": null,
   "metadata": {
    "collapsed": true
   },
   "outputs": [],
   "source": [
    "## New\n",
    "data = U.iloc[0].values.reshape(U_shape)\n",
    "f = interpolate.interp2d(U_x, U_y, data, kind='linear')"
   ]
  },
  {
   "cell_type": "code",
   "execution_count": null,
   "metadata": {
    "collapsed": true
   },
   "outputs": [],
   "source": [
    "## New\n",
    "fine_data = f(U_x_fine, y_fine)"
   ]
  },
  {
   "cell_type": "code",
   "execution_count": null,
   "metadata": {
    "collapsed": true
   },
   "outputs": [],
   "source": [
    "U = U.ix[wind_times]\n",
    "V = V.ix[wind_times]"
   ]
  },
  {
   "cell_type": "code",
   "execution_count": null,
   "metadata": {
    "collapsed": true
   },
   "outputs": [],
   "source": [
    "data = U.values.T\n",
    "f = interpolate.NearestNDInterpolator(U_data_positions, data)"
   ]
  },
  {
   "cell_type": "code",
   "execution_count": null,
   "metadata": {
    "collapsed": true
   },
   "outputs": [],
   "source": [
    "data = f(U_interp_positions).T"
   ]
  },
  {
   "cell_type": "code",
   "execution_count": null,
   "metadata": {
    "collapsed": true
   },
   "outputs": [],
   "source": [
    "data = data.reshape(\n",
    "    [wind_times.size, U_fine_shape[0], U_fine_shape[1]])\n",
    "data = uniform_filter(\n",
    "    data, size=(0, 4, 4)).reshape(\n",
    "    [wind_times.size, U_fine_shape[0]*U_fine_shape[1]])\n",
    "U_fine = pd.DataFrame(data=data, index=wind_times)"
   ]
  },
  {
   "cell_type": "code",
   "execution_count": null,
   "metadata": {
    "collapsed": true
   },
   "outputs": [],
   "source": [
    "data = V.values.T\n",
    "f = interpolate.NearestNDInterpolator(V_data_positions, data)\n",
    "data = f(V_interp_positions).T\n",
    "data = data.reshape(\n",
    "    [wind_times.size, V_fine_shape[0], V_fine_shape[1]])\n",
    "data = uniform_filter(\n",
    "    data, size=(0, 4, 4)).reshape(\n",
    "    [wind_times.size, V_fine_shape[0]*V_fine_shape[1]])\n",
    "V_fine = pd.DataFrame(data=data, index=wind_times)"
   ]
  },
  {
   "cell_type": "code",
   "execution_count": null,
   "metadata": {
    "collapsed": true,
    "scrolled": true
   },
   "outputs": [],
   "source": [
    "plt.figure()\n",
    "im = plt.pcolormesh(U_fine.ix['2014-05-29 12:00:00'].reshape(U_fine_shape))\n",
    "plt.colorbar(im)\n",
    "\n",
    "plt.figure()\n",
    "im = plt.pcolormesh(V_fine.ix['2014-05-29 12:00:00'].reshape(V_fine_shape))\n",
    "plt.colorbar(im)"
   ]
  },
  {
   "cell_type": "code",
   "execution_count": null,
   "metadata": {
    "collapsed": true
   },
   "outputs": [],
   "source": [
    "U_fine.to_hdf('./data/for_5_29/winds/U_fine.h5', 'U_fine')\n",
    "V_fine.to_hdf('./data/for_5_29/V_fine.h5', 'V_fine')\n",
    "np.save('./data/for_5_29/U_fine_shape', U_fine_shape)\n",
    "np.save('./data/for_5_29/V_fine_shape', V_fine_shape)"
   ]
  },
  {
   "cell_type": "code",
   "execution_count": null,
   "metadata": {
    "collapsed": true
   },
   "outputs": [],
   "source": [
    "np.save('./data/for_5_29/x_fine', x_fine.ravel())\n",
    "np.save('./data/for_5_29/y_fine', y_fine.ravel())\n",
    "np.save('./data/for_5_29/fine_shape', fine_shape)"
   ]
  },
  {
   "cell_type": "code",
   "execution_count": null,
   "metadata": {
    "collapsed": true
   },
   "outputs": [],
   "source": [
    "file.format(variable='x', suffix='_3')[:-3]"
   ]
  },
  {
   "cell_type": "code",
   "execution_count": 7,
   "metadata": {
    "collapsed": true
   },
   "outputs": [],
   "source": [
    "# For 4/15\n",
    "U = pd.read_hdf('./data/winds/U_15.h5')\n",
    "V = pd.read_hdf('./data/winds/V_15.h5')\n",
    "wind_lats = np.load('./data/winds/wind_lats.npy')\n",
    "wind_lons = np.load('./data/winds/wind_lons.npy')\n",
    "U_shape = np.load('./data/winds/U_shape.npy')\n",
    "V_shape = np.load('./data/winds/V_shape.npy')\n",
    "wind_times = pd.read_hdf('./data/winds/times.h5').index"
   ]
  },
  {
   "cell_type": "code",
   "execution_count": 6,
   "metadata": {
    "collapsed": true
   },
   "outputs": [],
   "source": [
    "# For 4/15\n",
    "cloudiness_15 = cloudiness_index.ix['2014-04-15']\n",
    "cloudiness_14 = cloudiness_index.ix['2014-04-14']\n",
    "cloudiness_14.index = cloudiness_14.index + pd.Timedelta('1day')\n",
    "\n",
    "cc_15 = (cloudiness_15 - cloudiness_14).clip(lower=0)\n",
    "\n",
    "clearsky_15 = clearsky.ix['2014-04-15']\n",
    "cloudiness_14 = cloudiness_index.ix['2014-04-14']\n",
    "clearsky_14 = clearsky.ix['2014-04-14']\n",
    "\n",
    "ktm_15 = (2.36*cloudiness_15**5 - 6.2*cloudiness_15**4 +\n",
    "       6.22*cloudiness_15**3 - 2.63*cloudiness_15**2 -\n",
    "       0.58*cloudiness_15 + 1)\n",
    "\n",
    "ktm_15_cc = (2.36*cc_15**5 - 6.2*cc_15**4 +\n",
    "             6.22*cc_15**3 - 2.63*cc_15**2 -\n",
    "             0.58*cc_15 + 1)\n",
    "# GHI_15 = ktm*clearsky_15*(0.0001*ktm*clearsky_15 + 0.9)\n",
    "GHI_15 = ktm_15*(0.0001*ktm_15 + 0.9)\n",
    "\n",
    "ktm_14 = (2.36*cloudiness_14**5 - 6.2*cloudiness_14**4 +\n",
    "       6.22*cloudiness_14**3 - 2.63*cloudiness_14**2 -\n",
    "       0.58*cloudiness_14 + 1)\n",
    "# GHI_14 = ktm*clearsky_14*(0.0001*ktm*clearsky_14 + 0.9)\n",
    "GHI_14 = ktm_14*(0.0001*ktm_14 + 0.9)\n",
    "GHI_14.index = GHI_14.index + pd.Timedelta('1day')\n",
    "ktm_14.index = ktm_14.index + pd.Timedelta('1day')\n",
    "cloudiness_14.index = cloudiness_14.index + pd.Timedelta('1day')\n",
    "# csi_15 = GHI_15/GHI_14\n",
    "csi_15 = ktm_15/ktm_14"
   ]
  },
  {
   "cell_type": "code",
   "execution_count": null,
   "metadata": {
    "collapsed": true,
    "scrolled": true
   },
   "outputs": [],
   "source": [
    "# date_range = pd.date_range('2014-04-15')\n",
    "this_time = '2014-04-15 13:00:00'\n",
    "cmap='jet'\n",
    "\n",
    "# vmin=0\n",
    "# vmax=1.2\n",
    "cloudiness_1415 = cloudiness_14.copy()\n",
    "cloudiness_1415.index = cloudiness_14.index + pd.Timedelta('1day')\n",
    "\n",
    "cloudiness_norm = cloudiness_15/cloudiness_1415\n",
    "\n",
    "plt.figure()\n",
    "im = plt.pcolormesh(x.reshape(domain_shape), y.reshape(domain_shape),\n",
    "    (cc_15).ix[this_time].values.reshape(domain_shape),\n",
    "    cmap=cmap)\n",
    "plt.colorbar(im)\n",
    "plt.title('cc: ' + str(this_time))\n",
    "plt.axis('equal')\n",
    "\n",
    "plt.figure()\n",
    "im = plt.pcolormesh(x.reshape(domain_shape), y.reshape(domain_shape),\n",
    "    (ktm_15_cc).ix[this_time].values.reshape(domain_shape),\n",
    "    cmap=cmap)\n",
    "plt.colorbar(im)\n",
    "plt.title('ktm_cc: ' + str(this_time))\n",
    "plt.axis('equal')\n",
    "\n",
    "plt.figure()\n",
    "im = plt.pcolormesh(x.reshape(domain_shape), y.reshape(domain_shape),\n",
    "    (ktm_15).ix[this_time].values.reshape(domain_shape),\n",
    "    cmap=cmap)\n",
    "plt.colorbar(im)\n",
    "plt.title('ktm: ' + str(this_time))\n",
    "plt.axis('equal')"
   ]
  },
  {
   "cell_type": "code",
   "execution_count": null,
   "metadata": {
    "collapsed": true,
    "scrolled": true
   },
   "outputs": [],
   "source": [
    "dx = .25\n",
    "dy = .25\n",
    "x_fine = np.arange(x[0], x[-1] + dx, dx)\n",
    "y_fine = np.arange(y[0], y[-1] + dy, dy)\n",
    "x_fine, y_fine = np.meshgrid(x_fine, y_fine)\n",
    "fine_shape = x_fine.shape\n",
    "x_fine = x_fine.ravel()\n",
    "y_fine = y_fine.ravel()\n",
    "interp_positions = np.stack([x_fine, y_fine], axis=1)\n",
    "sat_times = csi_15.index"
   ]
  },
  {
   "cell_type": "code",
   "execution_count": null,
   "metadata": {
    "collapsed": true
   },
   "outputs": [],
   "source": [
    "data = cloudiness_15.values.T\n",
    "data_positions = np.stack([x, y], axis=1)\n",
    "f = interpolate.NearestNDInterpolator(data_positions, data)\n",
    "data = f(interp_positions).T\n",
    "data = data.reshape(\n",
    "    [sat_times.size, fine_shape[0], fine_shape[1]])\n",
    "data = uniform_filter(\n",
    "    data, size=(0, 4, 4)).reshape(\n",
    "    [sat_times.size, fine_shape[0]*fine_shape[1]])\n",
    "cloudiness_15 = pd.DataFrame(data=data, index=sat_times)"
   ]
  },
  {
   "cell_type": "code",
   "execution_count": null,
   "metadata": {
    "collapsed": true
   },
   "outputs": [],
   "source": [
    "data = cloudiness_14.values.T\n",
    "data_positions = np.stack([x, y], axis=1)\n",
    "f = interpolate.NearestNDInterpolator(data_positions, data)\n",
    "data = f(interp_positions).T\n",
    "data = data.reshape(\n",
    "    [sat_times.size, fine_shape[0], fine_shape[1]])\n",
    "data = uniform_filter(\n",
    "    data, size=(0, 4, 4)).reshape(\n",
    "    [sat_times.size, fine_shape[0]*fine_shape[1]])\n",
    "cloudiness_14 = pd.DataFrame(data=data, index=sat_times)"
   ]
  },
  {
   "cell_type": "code",
   "execution_count": null,
   "metadata": {
    "collapsed": true,
    "scrolled": false
   },
   "outputs": [],
   "source": [
    "this_time = '2014-04-15 13:00:00'\n",
    "cmap='jet'\n",
    "\n",
    "# vmin=0\n",
    "# vmax=1.2\n",
    "\n",
    "plt.figure()\n",
    "im = plt.pcolormesh(x_fine.reshape(fine_shape), y_fine.reshape(fine_shape),\n",
    "    (cloudiness_15).ix[this_time].values.reshape(fine_shape),\n",
    "    cmap=cmap)\n",
    "plt.colorbar(im)\n",
    "plt.title('cc: ' + str(this_time))\n",
    "plt.axis('equal')\n",
    "\n",
    "plt.figure()\n",
    "im = plt.pcolormesh(x_fine.reshape(fine_shape), y_fine.reshape(fine_shape),\n",
    "    (cloudiness_14).ix[this_time].values.reshape(fine_shape),\n",
    "    cmap=cmap)\n",
    "plt.colorbar(im)\n",
    "plt.title('cc: ' + str(this_time))\n",
    "plt.axis('equal')\n",
    "\n",
    "plt.figure()\n",
    "im = plt.pcolormesh(x_fine.reshape(fine_shape), y_fine.reshape(fine_shape),\n",
    "    (cloudiness_15 - cloudiness_14).ix[this_time].values.clip(min=0).reshape(fine_shape),\n",
    "    cmap=cmap)\n",
    "plt.colorbar(im)\n",
    "plt.title('cc: ' + str(this_time))\n",
    "plt.axis('equal')"
   ]
  },
  {
   "cell_type": "code",
   "execution_count": null,
   "metadata": {
    "collapsed": true
   },
   "outputs": [],
   "source": [
    "data = csi_15.ix[0].values\n",
    "data_positions = np.stack([x, y], axis=1)\n",
    "f = interpolate.NearestNDInterpolator(data_positions, data)\n",
    "data = f(interp_positions)\n",
    "data = data.reshape(fine_shape)\n",
    "data = uniform_filter(data, size=(4, 4)).ravel()\n",
    "csi_fine = pd.DataFrame(data=data[None, :], index=[sat_times[0]])"
   ]
  },
  {
   "cell_type": "code",
   "execution_count": null,
   "metadata": {
    "collapsed": true
   },
   "outputs": [],
   "source": [
    "for t in np.arange(sat_times.size - 1) + 1:\n",
    "    this_time = sat_times[t]\n",
    "    data = csi_15.ix[this_time].values\n",
    "    f = interpolate.NearestNDInterpolator(data_positions, data)\n",
    "    data = f(interp_positions)\n",
    "    data = data.reshape(fine_shape)\n",
    "    data = uniform_filter(data, size=(4, 4)).ravel()\n",
    "    temp = pd.DataFrame(data=data[None, :], index=[this_time])\n",
    "    csi_fine = csi_fine.append(temp)"
   ]
  },
  {
   "cell_type": "code",
   "execution_count": null,
   "metadata": {
    "collapsed": true
   },
   "outputs": [],
   "source": [
    "csi_fine.to_hdf('./data/for_15/csi_15.h5', 'csi_15')"
   ]
  },
  {
   "cell_type": "code",
   "execution_count": 8,
   "metadata": {
    "collapsed": true
   },
   "outputs": [],
   "source": [
    "wind_x, wind_y = prep.sphere_to_lcc(wind_lats, wind_lons)"
   ]
  },
  {
   "cell_type": "code",
   "execution_count": 10,
   "metadata": {
    "collapsed": true
   },
   "outputs": [],
   "source": [
    "wind_x = wind_x.reshape([U_shape[0], V_shape[1]])\n",
    "wind_y = wind_y.reshape([U_shape[0], V_shape[1]])"
   ]
  },
  {
   "cell_type": "code",
   "execution_count": 11,
   "metadata": {
    "collapsed": true
   },
   "outputs": [],
   "source": [
    "y_step_sn = np.diff(wind_y, axis=0).mean(axis=0)\n",
    "y_step_we = np.diff(wind_y, axis=1).mean(axis=1)\n",
    "x_step_sn = np.diff(wind_x, axis=0).mean(axis=0)\n",
    "x_step_we = np.diff(wind_x, axis=1).mean(axis=1)"
   ]
  },
  {
   "cell_type": "code",
   "execution_count": 13,
   "metadata": {},
   "outputs": [
    {
     "data": {
      "text/plain": [
       "1.7991511"
      ]
     },
     "execution_count": 13,
     "metadata": {},
     "output_type": "execute_result"
    }
   ],
   "source": [
    "y_step_sn.mean()"
   ]
  },
  {
   "cell_type": "code",
   "execution_count": 14,
   "metadata": {},
   "outputs": [
    {
     "data": {
      "text/plain": [
       "-0.070897624"
      ]
     },
     "execution_count": 14,
     "metadata": {},
     "output_type": "execute_result"
    }
   ],
   "source": [
    "y_step_we.mean()"
   ]
  },
  {
   "cell_type": "code",
   "execution_count": 15,
   "metadata": {},
   "outputs": [
    {
     "data": {
      "text/plain": [
       "0.070897706"
      ]
     },
     "execution_count": 15,
     "metadata": {},
     "output_type": "execute_result"
    }
   ],
   "source": [
    "x_step_sn.mean()"
   ]
  },
  {
   "cell_type": "code",
   "execution_count": 16,
   "metadata": {},
   "outputs": [
    {
     "data": {
      "text/plain": [
       "1.7991515"
      ]
     },
     "execution_count": 16,
     "metadata": {},
     "output_type": "execute_result"
    }
   ],
   "source": [
    "x_step_we.mean()"
   ]
  },
  {
   "cell_type": "code",
   "execution_count": null,
   "metadata": {
    "collapsed": true
   },
   "outputs": [],
   "source": [
    "y_step_sn = np.diff(wind_y, axis=0).mean(axis=0)\n",
    "y_step_we = np.diff(wind_y, axis=1).mean(axis=1)\n",
    "x_step_sn = np.diff(wind_x, axis=0).mean(axis=0)\n",
    "x_step_we = np.diff(wind_x, axis=1).mean(axis=1)\n",
    "\n",
    "U_y = np.concatenate([wind_y - y_step_we[:, None]/2,\n",
    "                      (wind_y[:, -1] + y_step_we/2)[:, None]], axis=1)\n",
    "U_x = np.concatenate([wind_x - x_step_we[:, None]/2,\n",
    "                      (wind_x[:, -1] + x_step_we/2)[:, None]], axis=1)\n",
    "\n",
    "V_y = np.concatenate([wind_y - y_step_sn[None, :]/2,\n",
    "                      (wind_y[-1, :] + y_step_sn/2)[None, :]], axis=0)\n",
    "V_x = np.concatenate([wind_x - x_step_sn[None, :]/2,\n",
    "                      (wind_x[-1, :] + x_step_sn/2)[None, :]], axis=0)\n",
    "U_data_positions = np.stack([U_x.ravel(), U_y.ravel()], axis=1)\n",
    "V_data_positions = np.stack([V_x.ravel(), V_y.ravel()], axis=1)"
   ]
  },
  {
   "cell_type": "code",
   "execution_count": null,
   "metadata": {
    "collapsed": true
   },
   "outputs": [],
   "source": [
    "y_fine = y_fine.reshape(fine_shape)\n",
    "x_fine = x_fine.reshape(fine_shape)\n",
    "U_y_fine = np.concatenate([y_fine, \n",
    "                           (y_fine[:, -1])[:, None]], axis=1)\n",
    "U_x_fine = np.concatenate([x_fine - .25/2, \n",
    "                           (x_fine[:, -1] + .25/2)[:, None]], axis=1)\n",
    "V_y_fine = np.concatenate([y_fine - .25/2, \n",
    "                           (y_fine[-1, :] + .25/2)[None, :]], axis=0)\n",
    "V_x_fine = np.concatenate([x_fine, \n",
    "                           (x_fine[-1, :])[None, :]], axis=0)\n",
    "U_fine_shape = U_x_fine.shape\n",
    "V_fine_shape = V_x_fine.shape\n",
    "U_interp_positions = np.stack([U_x_fine.ravel(), U_y_fine.ravel()], axis=1)\n",
    "V_interp_positions = np.stack([V_x_fine.ravel(), V_y_fine.ravel()], axis=1)"
   ]
  },
  {
   "cell_type": "code",
   "execution_count": null,
   "metadata": {
    "collapsed": true
   },
   "outputs": [],
   "source": [
    "wind_times = wind_times[5:11]"
   ]
  },
  {
   "cell_type": "code",
   "execution_count": null,
   "metadata": {
    "collapsed": true
   },
   "outputs": [],
   "source": [
    "U = U.ix[wind_times]\n",
    "V = V.ix[wind_times]"
   ]
  },
  {
   "cell_type": "code",
   "execution_count": null,
   "metadata": {
    "collapsed": true
   },
   "outputs": [],
   "source": [
    "data = U.values.T\n",
    "f = interpolate.NearestNDInterpolator(U_data_positions, data)"
   ]
  },
  {
   "cell_type": "code",
   "execution_count": null,
   "metadata": {
    "collapsed": true
   },
   "outputs": [],
   "source": [
    "data = f(U_interp_positions).T"
   ]
  },
  {
   "cell_type": "code",
   "execution_count": null,
   "metadata": {
    "collapsed": true
   },
   "outputs": [],
   "source": [
    "data = data.reshape(\n",
    "    [wind_times.size, U_fine_shape[0], U_fine_shape[1]])\n",
    "data = uniform_filter(\n",
    "    data, size=(0, 4, 4)).reshape(\n",
    "    [wind_times.size, U_fine_shape[0]*U_fine_shape[1]])\n",
    "U_fine = pd.DataFrame(data=data, index=wind_times)"
   ]
  },
  {
   "cell_type": "code",
   "execution_count": null,
   "metadata": {
    "collapsed": true
   },
   "outputs": [],
   "source": [
    "data = V.values.T\n",
    "f = interpolate.NearestNDInterpolator(V_data_positions, data)\n",
    "data = f(V_interp_positions).T\n",
    "data = data.reshape(\n",
    "    [wind_times.size, V_fine_shape[0], V_fine_shape[1]])\n",
    "data = uniform_filter(\n",
    "    data, size=(0, 4, 4)).reshape(\n",
    "    [wind_times.size, V_fine_shape[0]*V_fine_shape[1]])\n",
    "V_fine = pd.DataFrame(data=data, index=wind_times)"
   ]
  },
  {
   "cell_type": "code",
   "execution_count": null,
   "metadata": {
    "collapsed": true
   },
   "outputs": [],
   "source": [
    "# for this_time in wind_times:\n",
    "#     data = U.ix[this_time].values\n",
    "#     f = interpolate.NearestNDInterpolator(U_data_positions, data)\n",
    "#     data = f(U_interp_positions)\n",
    "#     data = data.reshape(U_fine_shape)\n",
    "#     data = uniform_filter(data, size=(5, 5)).ravel()\n",
    "#     data = pd.DataFrame(data=data[None, :], index=[this_time])\n",
    "#     U_fine = U_fine.append(data)\n",
    "\n",
    "#     data = V.ix[this_time].values\n",
    "#     f = interpolate.NearestNDInterpolator(V_data_positions, data)\n",
    "#     data = f(V_interp_positions)\n",
    "#     data = data.reshape(V_fine_shape)\n",
    "#     data = uniform_filter(data, size=(5, 5)).ravel()\n",
    "#     data = pd.DataFrame(data=data[None, :], index=[this_time])\n",
    "#     V_fine = V_fine.append(data)"
   ]
  },
  {
   "cell_type": "code",
   "execution_count": null,
   "metadata": {
    "collapsed": true
   },
   "outputs": [],
   "source": [
    "U_fine.to_hdf('./data/for_15/U_fine.h5', 'U_fine')\n",
    "V_fine.to_hdf('./data/for_15/V_fine.h5', 'V_fine')\n",
    "np.save('./data/for_15/U_fine_shape', U_fine_shape)\n",
    "np.save('./data/for_15/V_fine_shape', V_fine_shape)"
   ]
  },
  {
   "cell_type": "code",
   "execution_count": null,
   "metadata": {
    "collapsed": true
   },
   "outputs": [],
   "source": [
    "np.save('./data/for_15/x_fine', x_fine.ravel())\n",
    "np.save('./data/for_15/y_fine', y_fine.ravel())\n",
    "np.save('./data/for_15/fine_shape', fine_shape)"
   ]
  },
  {
   "cell_type": "code",
   "execution_count": null,
   "metadata": {
    "collapsed": true
   },
   "outputs": [],
   "source": [
    "cloudiness_14.to_hdf('./data/for_15/cloudiness_14.h5', 'cloudiness_14')\n",
    "cloudiness_15.to_hdf('./data/for_15/cloudiness_15.h5', 'cloudiness_15')"
   ]
  }
 ],
 "metadata": {
  "kernelspec": {
   "display_name": "Python 3",
   "language": "python",
   "name": "python3"
  },
  "language_info": {
   "codemirror_mode": {
    "name": "ipython",
    "version": 3
   },
   "file_extension": ".py",
   "mimetype": "text/x-python",
   "name": "python",
   "nbconvert_exporter": "python",
   "pygments_lexer": "ipython3",
   "version": "3.6.2"
  }
 },
 "nbformat": 4,
 "nbformat_minor": 1
}
