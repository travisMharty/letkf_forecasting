{
 "cells": [
  {
   "cell_type": "code",
   "execution_count": 1,
   "metadata": {},
   "outputs": [],
   "source": [
    "import xarray as xr\n",
    "import numpy as np\n",
    "import pandas as pd\n",
    "import properscoring as ps\n",
    "import matplotlib.pyplot as plt\n",
    "import datetime"
   ]
  },
  {
   "cell_type": "code",
   "execution_count": 2,
   "metadata": {},
   "outputs": [],
   "source": [
    "import importlib"
   ]
  },
  {
   "cell_type": "code",
   "execution_count": 3,
   "metadata": {},
   "outputs": [],
   "source": [
    "import seaborn as sns\n",
    "\n",
    "cpal = sns.color_palette()\n",
    "sns.set_style('whitegrid')\n",
    "sns.set_context('paper', font_scale=1.0, rc={'lines.linewidth':1.0, 'lines.markersize':7})\n",
    "dpi = 300\n",
    "\n",
    "%matplotlib inline"
   ]
  },
  {
   "cell_type": "code",
   "execution_count": 4,
   "metadata": {},
   "outputs": [],
   "source": [
    "import letkf_forecasting.letkf_io as letkf_io\n",
    "import letkf_forecasting.tmh_plot as tmt_plot\n",
    "import letkf_forecasting.analyse_results as analyse_results\n",
    "import letkf_forecasting.prepare_sat_data as prepare_sat_data"
   ]
  },
  {
   "cell_type": "code",
   "execution_count": 5,
   "metadata": {},
   "outputs": [],
   "source": [
    "import numba"
   ]
  },
  {
   "cell_type": "code",
   "execution_count": 6,
   "metadata": {},
   "outputs": [],
   "source": [
    "import sklearn.calibration as calibration"
   ]
  },
  {
   "cell_type": "code",
   "execution_count": 7,
   "metadata": {},
   "outputs": [],
   "source": [
    "%matplotlib inline"
   ]
  },
  {
   "cell_type": "code",
   "execution_count": 17,
   "metadata": {},
   "outputs": [
    {
     "name": "stdout",
     "output_type": "stream",
     "text": [
      "[4, 9]\n",
      "owp_opt\n",
      "ow_15\n",
      "[4, 15]\n",
      "owp_opt\n",
      "ow_15\n",
      "[4, 18]\n",
      "owp_opt\n",
      "ow_15\n",
      "[5, 6]\n",
      "owp_opt\n",
      "ow_15\n",
      "[5, 9]\n",
      "owp_opt\n",
      "ow_15\n",
      "[5, 29]\n",
      "owp_opt\n",
      "ow_15\n",
      "[6, 11]\n",
      "owp_opt\n",
      "ow_15\n",
      "[6, 12]\n",
      "owp_opt\n",
      "ow_15\n",
      "[4, 2]\n",
      "owp_opt\n",
      "ow_15\n",
      "[4, 5]\n",
      "owp_opt\n",
      "ow_15\n",
      "[4, 19]\n",
      "owp_opt\n",
      "ow_15\n",
      "[5, 7]\n",
      "owp_opt\n",
      "ow_15\n",
      "[5, 8]\n",
      "owp_opt\n",
      "ow_15\n",
      "[5, 19]\n",
      "owp_opt\n",
      "ow_15\n",
      "[6, 3]\n",
      "owp_opt\n",
      "ow_15\n",
      "[6, 10]\n",
      "owp_opt\n",
      "ow_15\n",
      "[6, 14]\n",
      "owp_opt\n",
      "ow_15\n",
      "[6, 15]\n",
      "owp_opt\n",
      "ow_15\n",
      "[4, 10]\n",
      "owp_opt\n",
      "ow_15\n",
      "[4, 11]\n",
      "owp_opt\n",
      "ow_15\n",
      "[4, 12]\n",
      "owp_opt\n",
      "ow_15\n",
      "[4, 20]\n",
      "owp_opt\n",
      "ow_15\n",
      "[4, 21]\n",
      "owp_opt\n",
      "ow_15\n",
      "[4, 22]\n",
      "owp_opt\n",
      "ow_15\n",
      "[4, 25]\n",
      "owp_opt\n",
      "ow_15\n",
      "[4, 26]\n",
      "owp_opt\n",
      "ow_15\n",
      "[5, 5]\n",
      "owp_opt\n",
      "ow_15\n",
      "[5, 20]\n",
      "owp_opt\n",
      "ow_15\n",
      "[5, 21]\n",
      "owp_opt\n",
      "ow_15\n",
      "[5, 22]\n",
      "owp_opt\n",
      "ow_15\n",
      "[5, 23]\n",
      "owp_opt\n",
      "ow_15\n",
      "[5, 24]\n",
      "owp_opt\n",
      "ow_15\n",
      "[5, 25]\n",
      "owp_opt\n",
      "ow_15\n",
      "[5, 30]\n",
      "owp_opt\n",
      "ow_15\n",
      "[6, 16]\n",
      "owp_opt\n",
      "ow_15\n",
      "[6, 17]\n",
      "owp_opt\n",
      "ow_15\n",
      "[6, 18]\n",
      "owp_opt\n",
      "ow_15\n",
      "[6, 19]\n",
      "owp_opt\n",
      "ow_15\n",
      "[6, 22]\n",
      "owp_opt\n",
      "ow_15\n"
     ]
    }
   ],
   "source": [
    "importlib.reload(analyse_results)\n",
    "# month_day = [[4, 9], [4, 15], [4, 18], [5, 6], [5, 9], [5, 29], [6, 11], [6, 12]]\n",
    "# month_day = [[4, 9],  [4, 15], [4, 18],\n",
    "#              [5, 6],  [5, 9],  [5, 29],\n",
    "#              [6, 11], [6, 12],\n",
    "#              [4, 2],  [4, 5],  [4, 19],\n",
    "#              [5, 7],  [5, 8],  [5, 19],\n",
    "#              [6, 3],  [6, 10], [6, 14],\n",
    "#              [6, 15]]\n",
    "month_day = [[4, 9],  [4, 15], [4, 18],\n",
    "             [5, 6],  [5, 9],  [5, 29],\n",
    "             [6, 11], [6, 12],\n",
    "             [4, 2],  [4, 5],  [4, 19],\n",
    "             [5, 7],  [5, 8],  [5, 19],\n",
    "             [6, 3],  [6, 10], [6, 14],\n",
    "             [6, 15],\n",
    "             [4, 10], [4, 11], [4, 12],\n",
    "             [4, 20], [4, 21], [4, 22],\n",
    "             [4, 25], [4, 26], [5, 5],\n",
    "             [5, 20], [5, 21], [5, 22],\n",
    "             [5, 23], [5, 24], [5, 25],\n",
    "             [5, 30], [6, 16], [6, 17],\n",
    "             [6, 18], [6, 19], [6, 22]]\n",
    "runs = ['owp_opt', 'ow_15']\n",
    "this = analyse_results.prob_analysis_runs(\n",
    "    month_day, runs, [15, 30, 45, 60])"
   ]
  },
  {
   "cell_type": "code",
   "execution_count": null,
   "metadata": {
    "scrolled": true
   },
   "outputs": [
    {
     "name": "stdout",
     "output_type": "stream",
     "text": [
      "[4, 9]\n",
      "owp_opt\n",
      "clear\n",
      "thin\n",
      "thick\n",
      "ow_15\n",
      "clear\n",
      "thin\n",
      "thick\n"
     ]
    }
   ],
   "source": [
    "importlib.reload(analyse_results)\n",
    "# month_day = [[4, 9], [4, 15], [4, 18], [5, 6], [5, 9], [5, 29], [6, 11], [6, 12]]\n",
    "# month_day = [[4, 9],  [4, 15], [4, 18],\n",
    "#              [5, 6],  [5, 9],  [5, 29],\n",
    "#              [6, 11], [6, 12],\n",
    "#              [4, 2],  [4, 5],  [4, 19],\n",
    "#              [5, 7],  [5, 8],  [5, 19],\n",
    "#              [6, 3],  [6, 10], [6, 14],\n",
    "#              [6, 15]]\n",
    "month_day = [[4, 9],  [4, 15], [4, 18],\n",
    "             [5, 6],  [5, 9],  [5, 29],\n",
    "             [6, 11], [6, 12],\n",
    "             [4, 2],  [4, 5],  [4, 19],\n",
    "             [5, 7],  [5, 8],  [5, 19],\n",
    "             [6, 3],  [6, 10], [6, 14],\n",
    "             [6, 15],\n",
    "             [4, 10], [4, 11], [4, 12],\n",
    "             [4, 20], [4, 21], [4, 22],\n",
    "             [4, 25], [4, 26], [5, 5],\n",
    "             [5, 20], [5, 21], [5, 22],\n",
    "             [5, 23], [5, 24], [5, 25],\n",
    "             [5, 30], [6, 16], [6, 17],\n",
    "             [6, 18], [6, 19], [6, 22]]\n",
    "runs = ['owp_opt', 'ow_15']\n",
    "bounds_dict = {'clear': [0, 0.1],\n",
    "               'thin': [0.1, 0.4],\n",
    "               'thick': [0.4, 1]}\n",
    "N_bins = 4\n",
    "this = analyse_results.fraction_of_positives_runs(\n",
    "    month_day, runs, [15, 30, 45, 60], bounds_dict, N_bins)"
   ]
  },
  {
   "cell_type": "code",
   "execution_count": null,
   "metadata": {
    "scrolled": true
   },
   "outputs": [],
   "source": [
    "# importlib.reload(analyse_results)\n",
    "# # month_day = [[4, 9], [4, 15], [4, 18], [5, 6], [5, 9], [5, 29], [6, 11], [6, 12]]\n",
    "# # month_day = [[4, 9],  [4, 15], [4, 18],\n",
    "# #              [5, 6],  [5, 9],  [5, 29],\n",
    "# #              [6, 11], [6, 12],\n",
    "# #              [4, 2],  [4, 5],  [4, 19],\n",
    "# #              [5, 7],  [5, 8],  [5, 19],\n",
    "# #              [6, 3],  [6, 10], [6, 14],\n",
    "# #              [6, 15]]\n",
    "# month_day = [[4, 9],  [4, 15], [4, 18],\n",
    "#              [5, 6],  [5, 9],  [5, 29],\n",
    "#              [6, 11], [6, 12],\n",
    "#              [4, 2],  [4, 5],  [4, 19],\n",
    "#              [5, 7],  [5, 8],  [5, 19],\n",
    "#              [6, 3],  [6, 10], [6, 14],\n",
    "#              [6, 15],\n",
    "#              [4, 10], [4, 11], [4, 12],\n",
    "#              [4, 20], [4, 21], [4, 22],\n",
    "#              [4, 25], [4, 26], [5, 5],\n",
    "#              [5, 20], [5, 21], [5, 22],\n",
    "#              [5, 23], [5, 24], [5, 25],\n",
    "#              [5, 30], [6, 16], [6, 17],\n",
    "#              [6, 18], [6, 19], [6, 22]]\n",
    "# this = analyse_results.prob_analysis_baselines(\n",
    "#     month_day, [15, 30, 45, 60],\n",
    "#     '/a2/uaren/travis/data/satellite_data/cloudiness_index.h5')"
   ]
  },
  {
   "cell_type": "code",
   "execution_count": null,
   "metadata": {},
   "outputs": [],
   "source": []
  },
  {
   "cell_type": "code",
   "execution_count": null,
   "metadata": {},
   "outputs": [],
   "source": []
  },
  {
   "cell_type": "code",
   "execution_count": null,
   "metadata": {},
   "outputs": [],
   "source": [
    "directory_name = 'third_set'\n",
    "stat_type = 'crps'\n",
    "for key in returned_dict:\n",
    "    save_directory = ('/a2/uaren/travis/'\n",
    "        + f'results/multi_day_error/probabilistic/{directory_name}/{stat_type}')\n",
    "    if not os.path.exists(save_directory):\n",
    "        os.makedirs(save_directory)\n",
    "#     for error_stat in error_stats:\n",
    "#         if error_stat == 'name':\n",
    "#             continue\n",
    "    this_dir = os.path.join(\n",
    "        save_directory,\n",
    "        key + '.h5')\n",
    "    returned_dict[key].to_hdf(this_dir, key)\n",
    "    error_stats[error_stat].to_hdf(this_dir, error_stat)"
   ]
  },
  {
   "cell_type": "code",
   "execution_count": null,
   "metadata": {},
   "outputs": [],
   "source": []
  },
  {
   "cell_type": "code",
   "execution_count": null,
   "metadata": {},
   "outputs": [],
   "source": []
  },
  {
   "cell_type": "code",
   "execution_count": null,
   "metadata": {},
   "outputs": [],
   "source": []
  },
  {
   "cell_type": "code",
   "execution_count": null,
   "metadata": {},
   "outputs": [],
   "source": []
  }
 ],
 "metadata": {
  "kernelspec": {
   "display_name": "Python 3",
   "language": "python",
   "name": "python3"
  },
  "language_info": {
   "codemirror_mode": {
    "name": "ipython",
    "version": 3
   },
   "file_extension": ".py",
   "mimetype": "text/x-python",
   "name": "python",
   "nbconvert_exporter": "python",
   "pygments_lexer": "ipython3",
   "version": "3.6.2"
  }
 },
 "nbformat": 4,
 "nbformat_minor": 2
}
