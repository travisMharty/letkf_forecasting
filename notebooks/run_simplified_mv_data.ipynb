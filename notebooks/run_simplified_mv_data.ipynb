{
 "cells": [
  {
   "cell_type": "markdown",
   "metadata": {},
   "source": [
    "loads processed data, calculates crop domain, saves in the correct location"
   ]
  },
  {
   "cell_type": "code",
   "execution_count": 1,
   "metadata": {},
   "outputs": [],
   "source": [
    "import sys\n",
    "import importlib\n",
    "import os\n",
    "import logging\n",
    "\n",
    "import numpy as np\n",
    "import pandas as pd\n",
    "import matplotlib.pyplot as plt\n",
    "import scipy.ndimage.filters as filters\n",
    "from distributed import LocalCluster, Client\n",
    "from netCDF4 import Dataset, date2num, num2date"
   ]
  },
  {
   "cell_type": "code",
   "execution_count": 2,
   "metadata": {},
   "outputs": [],
   "source": [
    "import letkf_forecasting.letkf_forecasting as lf\n",
    "import letkf_forecasting.prepare_sat_data as prep\n",
    "import letkf_forecasting.random_functions as rf"
   ]
  },
  {
   "cell_type": "code",
   "execution_count": 3,
   "metadata": {},
   "outputs": [],
   "source": [
    "sensor_data = pd.read_hdf('/home/travis/python_code/letkf_forecasting_other_things/data/sensor_data.h5')\n",
    "sensor_CI = pd.read_hdf('/home/travis/python_code/letkf_forecasting_other_things/data/sensor_CI.h5')\n",
    "sensor_loc = pd.read_hdf('/home/travis/python_code/letkf_forecasting_other_things/data/sensor_loc.h5')"
   ]
  },
  {
   "cell_type": "code",
   "execution_count": 4,
   "metadata": {},
   "outputs": [],
   "source": [
    "sensor_loc.sort_values(by='id', inplace=True)"
   ]
  },
  {
   "cell_type": "code",
   "execution_count": 5,
   "metadata": {},
   "outputs": [],
   "source": [
    "year = 2014\n",
    "month = 5\n",
    "day = 29\n",
    "suffix = '_{month}_{day}'.format(month=month, day=day)\n",
    "file = '/home/travis/python_code/letkf_forecasting_other_things/data/for' + suffix + '/' + '{var}'"
   ]
  },
  {
   "cell_type": "code",
   "execution_count": 6,
   "metadata": {},
   "outputs": [],
   "source": [
    "csi = pd.read_hdf(file.format(var='csi.h5'))\n",
    "x_sat = np.load(file.format(var='x.npy'))\n",
    "y_sat = np.load(file.format(var='y.npy'))\n",
    "domain_shape = np.load(file.format(var='domain_shape.npy'))\n",
    "U = pd.read_hdf(file.format(var='U.h5'))\n",
    "V = pd.read_hdf(file.format(var='V.h5'))\n",
    "U_shape = np.load(file.format(var='U_shape.npy'))\n",
    "V_shape = np.load(file.format(var='V_shape.npy'))\n",
    "\n",
    "U.index = U.index.tz_convert('MST')\n",
    "V.index = V.index.tz_convert('MST')\n",
    "csi.index = csi.index.tz_convert('MST')"
   ]
  },
  {
   "cell_type": "code",
   "execution_count": 8,
   "metadata": {},
   "outputs": [],
   "source": [
    "## filter winds\n",
    "filter_len = 30*4\n",
    "U_smooth = U.values.reshape(\n",
    "    [U.shape[0], U_shape[0], U_shape[1]])\n",
    "U_smooth = filters.uniform_filter(\n",
    "    U_smooth, size=(0, filter_len, filter_len))\n",
    "this_shape = U_smooth.shape\n",
    "U_smooth = U_smooth.reshape(this_shape[0], this_shape[1]*this_shape[2])\n",
    "U_smooth = pd.DataFrame(data=U_smooth, index=U.index)\n",
    "\n",
    "V_smooth = V.values.reshape(\n",
    "    [V.shape[0], V_shape[0], V_shape[1]])\n",
    "V_smooth = filters.uniform_filter(\n",
    "    V_smooth, size=(0, filter_len, filter_len))\n",
    "this_shape = V_smooth.shape\n",
    "V_smooth = V_smooth.reshape(this_shape[0], this_shape[1]*this_shape[2])\n",
    "V_smooth = pd.DataFrame(data=V_smooth, index=V.index)"
   ]
  },
  {
   "cell_type": "code",
   "execution_count": 8,
   "metadata": {},
   "outputs": [],
   "source": [
    "# crop fields"
   ]
  },
  {
   "cell_type": "code",
   "execution_count": 9,
   "metadata": {},
   "outputs": [],
   "source": [
    "x_range = x_sat\n",
    "y_range = y_sat\n",
    "x_sat, y_sat = np.meshgrid(x_sat, y_sat)\n",
    "x_sat = x_sat.ravel()\n",
    "y_sat = y_sat.ravel()"
   ]
  },
  {
   "cell_type": "code",
   "execution_count": 10,
   "metadata": {},
   "outputs": [],
   "source": [
    "lon_sens = sensor_loc['lon'].values\n",
    "lat_sens = sensor_loc['lat'].values"
   ]
  },
  {
   "cell_type": "code",
   "execution_count": 11,
   "metadata": {},
   "outputs": [],
   "source": [
    "x_sens, y_sens = prep.sphere_to_lcc(lat_sens, lon_sens)\n",
    "x_min = np.floor(x_sens.min())\n",
    "x_max = np.ceil(x_sens.max())\n",
    "y_min = np.floor(y_sens.min())\n",
    "y_max = np.ceil(y_sens.max())\n",
    "west_east_min = np.argmin(abs(x_min - x_range))\n",
    "west_east_max = np.argmin(abs(x_max - x_range))\n",
    "south_north_min = np.argmin(abs(y_min - y_range))\n",
    "south_north_max = np.argmin(abs(y_max - y_range))"
   ]
  },
  {
   "cell_type": "code",
   "execution_count": 12,
   "metadata": {},
   "outputs": [
    {
     "name": "stdout",
     "output_type": "stream",
     "text": [
      "X length: 568\n",
      "Y length: 1063\n"
     ]
    }
   ],
   "source": [
    "# max_forecast = 45\n",
    "# max_forecast = 60\n",
    "max_forecast = 120\n",
    "if U.values.mean()>0:\n",
    "    U_max = U.values.max() # know U is positive\n",
    "    left = int(U_max*60*max_forecast/250) + 10\n",
    "    right = 10\n",
    "else:\n",
    "    U_min = U.values.min() # know U is negative\n",
    "    left = 10\n",
    "    right = int(abs(U_min)*60*max_forecast/250) + 10\n",
    "\n",
    "if V.values.mean()>0:  \n",
    "    V_max = V.values.max() # know V is positive\n",
    "    down = int(V_max*60*max_forecast/250) + 10\n",
    "    up = 10\n",
    "else:\n",
    "    V_min = V.values.min()\n",
    "    down = 10\n",
    "    up = int(abs(V_min)*60*max_forecast/250) + 10\n",
    "\n",
    "west_east_range = np.arange(west_east_min - left, west_east_max + right + 1, dtype='int')\n",
    "west_east_range_stag = np.arange(west_east_min - left, west_east_max + right + 1 + 1, dtype='int')\n",
    "south_north_range = np.arange(south_north_min - down, south_north_max + up + 1, dtype='int')\n",
    "south_north_range_stag = np.arange(south_north_min - down, south_north_max + up + 1 + 1, dtype='int')\n",
    "crop_shape = (south_north_range.size, west_east_range.size)\n",
    "U_crop_shape = (south_north_range.size, west_east_range_stag.size)\n",
    "V_crop_shape = (south_north_range_stag.size, west_east_range.size)\n",
    "U_crop_size = U_crop_shape[0]*U_crop_shape[1]\n",
    "V_crop_size = V_crop_shape[0]*V_crop_shape[1]\n",
    "print('X length: ' + \n",
    "      str(west_east_range.size))\n",
    "print('Y length: ' + \n",
    "      str(south_north_range.size))"
   ]
  },
  {
   "cell_type": "code",
   "execution_count": 14,
   "metadata": {},
   "outputs": [
    {
     "data": {
      "text/plain": [
       "43848525"
      ]
     },
     "execution_count": 14,
     "metadata": {},
     "output_type": "execute_result"
    }
   ],
   "source": []
  },
  {
   "cell_type": "code",
   "execution_count": 13,
   "metadata": {},
   "outputs": [],
   "source": [
    "west_east_crop, south_north_crop = np.meshgrid(west_east_range, south_north_range)\n",
    "crop_indicies_2d = np.array([south_north_crop.ravel(),\n",
    "                             west_east_crop.ravel()])\n",
    "flat_crop_indicies = np.ravel_multi_index(crop_indicies_2d,\n",
    "                                          domain_shape)"
   ]
  },
  {
   "cell_type": "code",
   "execution_count": 14,
   "metadata": {},
   "outputs": [],
   "source": [
    "west_east_crop_U, south_north_crop_U = np.meshgrid(west_east_range_stag, south_north_range)\n",
    "crop_indicies_2d_U = np.array([south_north_crop_U.ravel(),\n",
    "                               west_east_crop_U.ravel()])\n",
    "flat_crop_indicies_U = np.ravel_multi_index(crop_indicies_2d_U,\n",
    "                                            U_shape)"
   ]
  },
  {
   "cell_type": "code",
   "execution_count": 15,
   "metadata": {},
   "outputs": [],
   "source": [
    "west_east_crop_V, south_north_crop_V = np.meshgrid(west_east_range, south_north_range_stag)\n",
    "crop_indicies_2d_V = np.array([south_north_crop_V.ravel(),\n",
    "                               west_east_crop_V.ravel()])\n",
    "flat_crop_indicies_V = np.ravel_multi_index(crop_indicies_2d_V,\n",
    "                                            V_shape)"
   ]
  },
  {
   "cell_type": "code",
   "execution_count": 16,
   "metadata": {},
   "outputs": [],
   "source": [
    "x_crop = x_sat[flat_crop_indicies]\n",
    "y_crop = y_sat[flat_crop_indicies]"
   ]
  },
  {
   "cell_type": "code",
   "execution_count": 17,
   "metadata": {},
   "outputs": [],
   "source": [
    "x_crop_range = x_crop.reshape(crop_shape)[0, :]\n",
    "y_crop_range = y_crop.reshape(crop_shape)[:, 0]"
   ]
  },
  {
   "cell_type": "code",
   "execution_count": 18,
   "metadata": {},
   "outputs": [
    {
     "name": "stdout",
     "output_type": "stream",
     "text": [
      "X length: 177\n",
      "Y length: 241\n"
     ]
    }
   ],
   "source": [
    "west_east_min = np.argmin(abs(x_min - x_crop_range))\n",
    "west_east_max = np.argmin(abs(x_max - x_crop_range))\n",
    "south_north_min = np.argmin(abs(y_min - y_crop_range))\n",
    "south_north_max = np.argmin(abs(y_max - y_crop_range))\n",
    "we_error_range = np.arange(west_east_min - 8, west_east_max + 9, dtype='int')\n",
    "sn_error_range = np.arange(south_north_min - 8, south_north_max + 9, dtype='int')\n",
    "error_domain_shape = (sn_error_range.size, we_error_range.size)\n",
    "print('X length: ' + \n",
    "      str(we_error_range.size))\n",
    "print('Y length: ' + \n",
    "      str(sn_error_range.size))"
   ]
  },
  {
   "cell_type": "code",
   "execution_count": 19,
   "metadata": {},
   "outputs": [],
   "source": [
    "west_east_error_crop, south_north_error_crop = np.meshgrid(\n",
    "    we_error_range, sn_error_range)\n",
    "crop_indicies_2d_error = np.array([south_north_error_crop.ravel(),\n",
    "                             west_east_error_crop.ravel()])\n",
    "flat_error_domain = np.ravel_multi_index(crop_indicies_2d_error,\n",
    "                                         crop_shape)"
   ]
  },
  {
   "cell_type": "code",
   "execution_count": 20,
   "metadata": {},
   "outputs": [],
   "source": [
    "csi_crop = csi[flat_crop_indicies]\n",
    "csi_crop.columns = np.arange(flat_crop_indicies.size, dtype='int')"
   ]
  },
  {
   "cell_type": "code",
   "execution_count": 21,
   "metadata": {},
   "outputs": [],
   "source": [
    "U_crop = U_smooth[flat_crop_indicies_U]\n",
    "U_crop.columns = np.arange(flat_crop_indicies_U.size, dtype='int')\n",
    "V_crop = V_smooth[flat_crop_indicies_V]\n",
    "V_crop.columns = np.arange(flat_crop_indicies_V.size, dtype='int')"
   ]
  },
  {
   "cell_type": "markdown",
   "metadata": {},
   "source": [
    "## saving winds and satellite data"
   ]
  },
  {
   "cell_type": "code",
   "execution_count": 22,
   "metadata": {},
   "outputs": [
    {
     "name": "stdout",
     "output_type": "stream",
     "text": [
      "/home2/travis/data/2014/06/12/data.nc\n"
     ]
    }
   ],
   "source": [
    "# make file paths\n",
    "\n",
    "home = os.path.expanduser(\"~\")\n",
    "file_path = f'{home}/data/{year:04}/{month:02}/{day:02}/'\n",
    "if not os.path.exists(file_path):\n",
    "    os.makedirs(file_path)\n",
    "    \n",
    "file_path_store = os.path.join(file_path, 'data.nc')\n",
    "print(file_path_store)"
   ]
  },
  {
   "cell_type": "code",
   "execution_count": 23,
   "metadata": {},
   "outputs": [],
   "source": [
    "# shape everything back again\n",
    "x = x_sat.reshape(domain_shape)[0, :]\n",
    "y = y_sat.reshape(domain_shape)[:, 0]\n",
    "time = csi.index.tz_convert('UTC').tz_convert(None).to_pydatetime()\n",
    "time = date2num(time, 'seconds since 1970-1-1')\n",
    "ci = csi.values.reshape([time.size, domain_shape[0], domain_shape[1]])\n",
    "time_wind = U.index.tz_convert('UTC').tz_convert(None).to_pydatetime()\n",
    "time_wind = date2num(time_wind, 'seconds since 1970-1-1')\n",
    "U_reshape = U.values.reshape(time_wind.size, U_shape[0], U_shape[1])\n",
    "V_reshape = V.values.reshape(time_wind.size, V_shape[0], V_shape[1])"
   ]
  },
  {
   "cell_type": "code",
   "execution_count": 24,
   "metadata": {},
   "outputs": [],
   "source": [
    "dx = (x[1] - x[0])\n",
    "x_stag = np.concatenate([x - dx/2, [x[-1] + dx/2]])\n",
    "dy = (y[1] - y[0])\n",
    "y_stag = np.concatenate([y - dy/2, [y[-1] + dy/2]])"
   ]
  },
  {
   "cell_type": "code",
   "execution_count": 25,
   "metadata": {},
   "outputs": [],
   "source": [
    "# need more metadata here\n",
    "with Dataset(file_path_store, 'w') as store:\n",
    "    store.createDimension('west_east', size=x.size)\n",
    "    store.createDimension('south_north', size=y.size)\n",
    "    store.createDimension('we_stag', size=x_stag.size)\n",
    "    store.createDimension('sn_stag', size=y_stag.size)\n",
    "    store.createDimension('time', size=time.size)\n",
    "    store.createDimension('time_wind', size=time_wind.size)\n",
    "    wenc = store.createVariable('west_east', 'f8', ('west_east',), zlib=True)\n",
    "    snnc = store.createVariable('south_north', 'f8', ('south_north',), zlib=True)\n",
    "    we_stagnc = store.createVariable('we_stag', 'f8', ('we_stag',), zlib=True)\n",
    "    sn_stagnc = store.createVariable('sn_stag', 'f8', ('sn_stag',), zlib=True)\n",
    "    timenc = store.createVariable('time', 'f8', ('time',), zlib=True)\n",
    "    time_windnc = store.createVariable('time_wind', 'f8', ('time_wind',), zlib=True)\n",
    "    cinc = store.createVariable('ci', 'f8', ('time', 'south_north', 'west_east',), zlib=True)\n",
    "    Unc = store.createVariable('U', 'f8', ('time_wind', 'south_north', 'we_stag',), zlib=True)\n",
    "    Vnc = store.createVariable('V', 'f8', ('time_wind', 'sn_stag', 'west_east',), zlib=True)\n",
    "    wenc[:] = x\n",
    "    snnc[:] = y\n",
    "    we_stagnc[:] = x_stag\n",
    "    sn_stagnc[:] = y_stag\n",
    "    timenc[:] = time\n",
    "    time_windnc[:] = time_wind\n",
    "    cinc[:] = ci\n",
    "    Unc[:] = U_reshape\n",
    "    Vnc[:] = V_reshape\n",
    "    timenc.units = 'seconds since 1970-1-1'\n",
    "    time_windnc.units = 'seconds since 1970-1-1'\n",
    "    # should move this into forecast_system with calculation\n",
    "    cinc.we_min_crop = west_east_range[0]\n",
    "    cinc.we_max_crop = west_east_range[-1]\n",
    "    cinc.sn_min_crop = south_north_range[0]\n",
    "    cinc.sn_max_crop = south_north_range[-1]\n",
    "    Unc.we_min_crop = west_east_range_stag[0]\n",
    "    Unc.we_max_crop = west_east_range_stag[-1]\n",
    "    Unc.sn_min_crop = south_north_range[0]\n",
    "    Unc.sn_max_crop = south_north_range[-1]\n",
    "    Vnc.we_min_crop = west_east_range[0]\n",
    "    Vnc.we_max_crop = west_east_range[-1]\n",
    "    Vnc.sn_min_crop = south_north_range_stag[0]\n",
    "    Vnc.sn_max_crop = south_north_range_stag[-1]"
   ]
  }
 ],
 "metadata": {
  "kernelspec": {
   "display_name": "Python 3",
   "language": "python",
   "name": "python3"
  },
  "language_info": {
   "codemirror_mode": {
    "name": "ipython",
    "version": 3
   },
   "file_extension": ".py",
   "mimetype": "text/x-python",
   "name": "python",
   "nbconvert_exporter": "python",
   "pygments_lexer": "ipython3",
   "version": "3.6.2"
  }
 },
 "nbformat": 4,
 "nbformat_minor": 1
}
