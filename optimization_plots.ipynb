{
 "cells": [
  {
   "cell_type": "code",
   "execution_count": 1,
   "metadata": {},
   "outputs": [],
   "source": [
    "import os\n",
    "import glob\n",
    "import yaml\n",
    "import pandas as pd\n",
    "import numpy as np\n",
    "import xarray as xr\n",
    "import matplotlib.pyplot as plt"
   ]
  },
  {
   "cell_type": "code",
   "execution_count": 121,
   "metadata": {
    "scrolled": true
   },
   "outputs": [
    {
     "name": "stdout",
     "output_type": "stream",
     "text": [
      "owp_004_1p5_010_2p0_050_0p25\n",
      "Number of rmse files:  0\n"
     ]
    }
   ],
   "source": [
    "# month = 5\n",
    "# day = 29\n",
    "# search_path = f'/a2/uaren/travis/results_opt/2014/{month:02}/{day:02}/owp_*'\n",
    "search_path = f'/a2/uaren/travis/results_opt/2014/*/*/owp_*'\n",
    "opt_paths = glob.glob(search_path)\n",
    "year = 2014\n",
    "\n",
    "params = np.ones([len(opt_paths), 5])*np.nan\n",
    "date_index = pd.Series(index=np.arange(len(opt_paths)))\n",
    "\n",
    "for count, opt_path in enumerate(opt_paths):\n",
    "    ymlpaths = glob.glob(os.path.join(opt_path, 'config_*'))\n",
    "    rmse_paths = glob.glob(os.path.join(opt_path, 'rmse.h5'))\n",
    "    if len(ymlpaths) != 1:\n",
    "        print(os.path.split(opt_path)[-1])\n",
    "        print('Number of configuration files: ', len(ymlpaths))\n",
    "        continue\n",
    "    else:\n",
    "        ymlpath = ymlpaths[0]\n",
    "    with open(ymlpath, 'r') as ymlfile:\n",
    "        cfg = yaml.load(ymlfile)    \n",
    "    date_index[count] = pd.datetime(year, cfg['date']['month'], cfg['date']['day'])\n",
    "    params[count, 0] = cfg['wrf']['loc']\n",
    "    params[count, 1] = cfg['wrf']['infl']\n",
    "    params[count, 2] = cfg['opt_flow']['loc']\n",
    "    params[count, 3] = cfg['opt_flow']['infl']\n",
    "    \n",
    "    if len(rmse_paths) != 1:\n",
    "        print(os.path.split(opt_path)[-1])\n",
    "        print('Number of rmse files: ', len(rmse_paths))\n",
    "        continue\n",
    "    else:\n",
    "        rmse_path = rmse_paths[0]\n",
    "    rmse_df = pd.read_hdf(rmse_path)\n",
    "    params[count, 4] = np.nanmean(rmse_df[[15, 30, 45, 60]].values)"
   ]
  },
  {
   "cell_type": "code",
   "execution_count": 122,
   "metadata": {},
   "outputs": [],
   "source": [
    "dates, counts = np.unique(list(zip(params[:, 0], params[:, 1])), axis=0, return_counts=True)\n",
    "max_size = counts.max()"
   ]
  },
  {
   "cell_type": "code",
   "execution_count": 123,
   "metadata": {},
   "outputs": [],
   "source": [
    "iterables = (\n",
    "    [date_index.unique()] + [np.unique(p) for p in params[:, :-1].T])"
   ]
  },
  {
   "cell_type": "code",
   "execution_count": 124,
   "metadata": {
    "scrolled": true
   },
   "outputs": [],
   "source": [
    "M_index = pd.MultiIndex.from_product(iterables, names=['date', 'wrf_l', 'wrf_i', 'of_l', 'of_i'])\n",
    "data_frame = pd.DataFrame(index=M_index, columns=['RMSE'])"
   ]
  },
  {
   "cell_type": "code",
   "execution_count": 125,
   "metadata": {},
   "outputs": [],
   "source": [
    "for num in range(params.shape[0]):\n",
    "    data_frame['RMSE'].loc[\n",
    "        date_index[num],\n",
    "        params[num, 0],\n",
    "        params[num, 1],\n",
    "        params[num, 2],\n",
    "        params[num, 3]] = params[num, 4]"
   ]
  },
  {
   "cell_type": "code",
   "execution_count": 126,
   "metadata": {},
   "outputs": [],
   "source": [
    "date = '2014-05-29'\n",
    "reshaped = data_frame.loc[(date,slice(None), slice(None), slice(None), slice(None))].copy()"
   ]
  },
  {
   "cell_type": "code",
   "execution_count": 127,
   "metadata": {},
   "outputs": [],
   "source": [
    "reshaped = reshaped.unstack(['of_l', 'of_i'])"
   ]
  },
  {
   "cell_type": "code",
   "execution_count": 128,
   "metadata": {},
   "outputs": [
    {
     "name": "stdout",
     "output_type": "stream",
     "text": [
      "                 RMSE                                                  \n",
      "of_l             4.0                 10.0                20.0          \n",
      "of_i              1.5       2.0       1.5       2.0       1.5       2.0\n",
      "wrf_l wrf_i                                                            \n",
      "2.0   1.5    0.164471  0.165129  0.160564  0.162455  0.157606  0.157408\n",
      "      4.0    0.166168  0.165092  0.162326  0.161425  0.158059  0.157839\n",
      "4.0   1.5    0.166583  0.167848  0.164631  0.165096  0.161822  0.162043\n",
      "      4.0    0.167946  0.168441  0.164144  0.166007  0.161563  0.162694\n",
      "10.0  1.5    0.165426  0.167617  0.166132  0.165697  0.163411  0.162574\n",
      "      4.0    0.167163  0.169201  0.166575  0.165874  0.164973   0.16526\n"
     ]
    }
   ],
   "source": [
    "print(reshaped)"
   ]
  },
  {
   "cell_type": "code",
   "execution_count": 129,
   "metadata": {},
   "outputs": [],
   "source": [
    "%matplotlib inline"
   ]
  },
  {
   "cell_type": "code",
   "execution_count": 130,
   "metadata": {},
   "outputs": [
    {
     "data": {
      "text/plain": [
       "Text(0.5,1,'2014-05-29')"
      ]
     },
     "execution_count": 130,
     "metadata": {},
     "output_type": "execute_result"
    },
    {
     "data": {
      "image/png": "[encoded data removed]",
      "text/plain": [
       "<matplotlib.figure.Figure at 0x7f8c2a177eb8>"
      ]
     },
     "metadata": {},
     "output_type": "display_data"
    }
   ],
   "source": [
    "rmse = reshaped.values.astype('float')\n",
    "rmse_norm = rmse/np.nanmax(rmse)\n",
    "\n",
    "plt.figure()\n",
    "im = plt.pcolormesh(rmse)\n",
    "plt.colorbar(im, label='RMSE')\n",
    "xticks = list(reshaped['RMSE'].columns)\n",
    "plt.xticks(np.arange(len(xticks)) + 0.5,\n",
    "           xticks, rotation=90)\n",
    "plt.xlabel('Optical Flow (loc, infl)')\n",
    "yticks = list(reshaped.index)\n",
    "plt.yticks(np.arange(len(yticks)) + 0.5,\n",
    "           yticks)\n",
    "plt.ylabel('WRF (loc, infl)')\n",
    "plt.title(date)"
   ]
  },
  {
   "cell_type": "code",
   "execution_count": 131,
   "metadata": {},
   "outputs": [
    {
     "name": "stdout",
     "output_type": "stream",
     "text": [
      "2014-05-29 \n",
      " (2.0, 1.5, 20.0, 2.0)\n"
     ]
    }
   ],
   "source": [
    "print(date,'\\n', data_frame.loc[(date, slice(None), slice(None), slice(None), slice(None))].idxmin().item())"
   ]
  },
  {
   "cell_type": "code",
   "execution_count": 132,
   "metadata": {},
   "outputs": [],
   "source": [
    "date = '2014-04-15'\n",
    "reshaped = data_frame.loc[(date,slice(None), slice(None), slice(None), slice(None))].copy()"
   ]
  },
  {
   "cell_type": "code",
   "execution_count": 133,
   "metadata": {},
   "outputs": [],
   "source": [
    "reshaped = reshaped.unstack(['of_l', 'of_i'])"
   ]
  },
  {
   "cell_type": "code",
   "execution_count": 134,
   "metadata": {},
   "outputs": [
    {
     "name": "stdout",
     "output_type": "stream",
     "text": [
      "                  RMSE                                                       \n",
      "of_l              4.0                   10.0                  20.0           \n",
      "of_i               1.5        2.0        1.5        2.0        1.5        2.0\n",
      "wrf_l wrf_i                                                                  \n",
      "2.0   1.5     0.042045  0.0404237  0.0382439    0.04125  0.0398763  0.0398031\n",
      "      4.0    0.0458206  0.0438817   0.040933  0.0391412  0.0404688  0.0370414\n",
      "4.0   1.5     0.045915  0.0438494  0.0411818        NaN        NaN        NaN\n",
      "      4.0          NaN        NaN        NaN        NaN        NaN        NaN\n",
      "10.0  1.5          NaN        NaN        NaN        NaN        NaN        NaN\n",
      "      4.0          NaN        NaN        NaN        NaN        NaN        NaN\n"
     ]
    }
   ],
   "source": [
    "print(reshaped)"
   ]
  },
  {
   "cell_type": "code",
   "execution_count": 135,
   "metadata": {},
   "outputs": [],
   "source": [
    "%matplotlib inline"
   ]
  },
  {
   "cell_type": "code",
   "execution_count": 136,
   "metadata": {},
   "outputs": [
    {
     "data": {
      "text/plain": [
       "Text(0.5,1,'2014-04-15')"
      ]
     },
     "execution_count": 136,
     "metadata": {},
     "output_type": "execute_result"
    },
    {
     "data": {
      "image/png": "[encoded data removed]",
      "text/plain": [
       "<matplotlib.figure.Figure at 0x7f8c2a120cf8>"
      ]
     },
     "metadata": {},
     "output_type": "display_data"
    }
   ],
   "source": [
    "rmse = reshaped.values.astype('float')\n",
    "rmse_norm = rmse/np.nanmax(rmse)\n",
    "\n",
    "plt.figure()\n",
    "im = plt.pcolormesh(rmse)\n",
    "plt.colorbar(im, label='RMSE')\n",
    "xticks = list(reshaped['RMSE'].columns)\n",
    "plt.xticks(np.arange(len(xticks)) + 0.5,\n",
    "           xticks, rotation=90)\n",
    "plt.xlabel('Optical Flow (loc, infl)')\n",
    "yticks = list(reshaped.index)\n",
    "plt.yticks(np.arange(len(yticks)) + 0.5,\n",
    "           yticks)\n",
    "plt.ylabel('WRF (loc, infl)')\n",
    "plt.title(date)"
   ]
  },
  {
   "cell_type": "code",
   "execution_count": 71,
   "metadata": {
    "scrolled": true
   },
   "outputs": [
    {
     "name": "stdout",
     "output_type": "stream",
     "text": [
      "2014-04-15 \n",
      " (2.0, 1.5, 10.0, 1.5)\n"
     ]
    }
   ],
   "source": [
    "print(date,'\\n', data_frame.loc[(date, slice(None), slice(None), slice(None), slice(None))].idxmin().item())"
   ]
  },
  {
   "cell_type": "code",
   "execution_count": 50,
   "metadata": {
    "scrolled": true
   },
   "outputs": [],
   "source": [
    "# month = 5\n",
    "# day = 29\n",
    "# search_path = f'/a2/uaren/travis/results_opt/2014/{month:02}/{day:02}/owp_*'\n",
    "search_path = f'/a2/uaren/travis/results_opt/2014/*/*/ow_*'\n",
    "opt_paths = glob.glob(search_path)\n",
    "year = 2014\n",
    "\n",
    "params = np.ones([len(opt_paths), 5])*np.nan\n",
    "date_index = pd.Series(index=np.arange(len(opt_paths)))\n",
    "\n",
    "for count, opt_path in enumerate(opt_paths):\n",
    "    ymlpaths = glob.glob(os.path.join(opt_path, 'config_*'))\n",
    "    rmse_paths = glob.glob(os.path.join(opt_path, 'rmse.h5'))\n",
    "    if len(ymlpaths) != 1:\n",
    "        print(os.path.split(opt_path)[-1])\n",
    "        print('Number of configuration files: ', len(ymlpaths))\n",
    "        continue\n",
    "    else:\n",
    "        ymlpath = ymlpaths[0]\n",
    "    with open(ymlpath, 'r') as ymlfile:\n",
    "        cfg = yaml.load(ymlfile)    \n",
    "    date_index[count] = pd.datetime(year, cfg['date']['month'], cfg['date']['day'])\n",
    "    params[count, 0] = cfg['wrf']['loc']\n",
    "    params[count, 1] = cfg['wrf']['infl']\n",
    "    params[count, 2] = cfg['opt_flow']['loc']\n",
    "    params[count, 3] = cfg['opt_flow']['infl']\n",
    "    \n",
    "    if len(rmse_paths) != 1:\n",
    "        print(os.path.split(opt_path)[-1])\n",
    "        print('Number of rmse files: ', len(rmse_paths))\n",
    "        continue\n",
    "    else:\n",
    "        rmse_path = rmse_paths[0]\n",
    "    rmse_df = pd.read_hdf(rmse_path)\n",
    "    params[count, 4] = np.nanmean(rmse_df[[15, 30, 45, 60]].values)"
   ]
  },
  {
   "cell_type": "code",
   "execution_count": 51,
   "metadata": {},
   "outputs": [],
   "source": [
    "dates, counts = np.unique(list(zip(params[:, 0], params[:, 1])), axis=0, return_counts=True)\n",
    "max_size = counts.max()"
   ]
  },
  {
   "cell_type": "code",
   "execution_count": 52,
   "metadata": {},
   "outputs": [],
   "source": [
    "iterables = (\n",
    "    [date_index.unique()] + [np.unique(p) for p in params[:, :-1].T])"
   ]
  },
  {
   "cell_type": "code",
   "execution_count": 53,
   "metadata": {
    "scrolled": true
   },
   "outputs": [],
   "source": [
    "M_index = pd.MultiIndex.from_product(iterables, names=['date', 'wrf_l', 'wrf_i', 'of_l', 'of_i'])\n",
    "data_frame = pd.DataFrame(index=M_index, columns=['RMSE'])"
   ]
  },
  {
   "cell_type": "code",
   "execution_count": 54,
   "metadata": {},
   "outputs": [],
   "source": [
    "for num in range(params.shape[0]):\n",
    "    data_frame['RMSE'].loc[\n",
    "        date_index[num],\n",
    "        params[num, 0],\n",
    "        params[num, 1],\n",
    "        params[num, 2],\n",
    "        params[num, 3]] = params[num, 4]"
   ]
  },
  {
   "cell_type": "code",
   "execution_count": 55,
   "metadata": {},
   "outputs": [],
   "source": [
    "date = '2014-05-29'\n",
    "reshaped = data_frame.loc[(date,slice(None), slice(None), slice(None), slice(None))].copy()"
   ]
  },
  {
   "cell_type": "code",
   "execution_count": 56,
   "metadata": {},
   "outputs": [],
   "source": [
    "reshaped = reshaped.unstack(['of_l', 'of_i'])"
   ]
  },
  {
   "cell_type": "code",
   "execution_count": 57,
   "metadata": {},
   "outputs": [
    {
     "name": "stdout",
     "output_type": "stream",
     "text": [
      "                 RMSE                              \n",
      "of_l             4.0                 20.0          \n",
      "of_i              1.5       2.0       1.5       2.0\n",
      "wrf_l wrf_i                                        \n",
      "4.0   1.5    0.179225  0.179909  0.174149  0.176678\n",
      "      4.0    0.175384  0.175807  0.171094    0.1712\n",
      "10.0  1.5    0.180777  0.180783  0.180545  0.180297\n",
      "      4.0    0.178222  0.178315  0.176442   0.17634\n"
     ]
    }
   ],
   "source": [
    "print(reshaped)"
   ]
  },
  {
   "cell_type": "code",
   "execution_count": 58,
   "metadata": {},
   "outputs": [],
   "source": [
    "%matplotlib inline"
   ]
  },
  {
   "cell_type": "code",
   "execution_count": 59,
   "metadata": {},
   "outputs": [
    {
     "data": {
      "text/plain": [
       "Text(0.5,1,'2014-05-29')"
      ]
     },
     "execution_count": 59,
     "metadata": {},
     "output_type": "execute_result"
    },
    {
     "data": {
      "image/png": "[encoded data removed]",
      "text/plain": [
       "<matplotlib.figure.Figure at 0x7f8c2aa17a90>"
      ]
     },
     "metadata": {},
     "output_type": "display_data"
    }
   ],
   "source": [
    "rmse = reshaped.values.astype('float')\n",
    "rmse_norm = rmse/np.nanmax(rmse)\n",
    "\n",
    "plt.figure()\n",
    "im = plt.pcolormesh(rmse)\n",
    "plt.colorbar(im, label='RMSE')\n",
    "xticks = list(reshaped['RMSE'].columns)\n",
    "plt.xticks(np.arange(len(xticks)) + 0.5,\n",
    "           xticks, rotation=90)\n",
    "plt.xlabel('Optical Flow (loc, infl)')\n",
    "yticks = list(reshaped.index)\n",
    "plt.yticks(np.arange(len(yticks)) + 0.5,\n",
    "           yticks)\n",
    "plt.ylabel('WRF (loc, infl)')\n",
    "plt.title(date)"
   ]
  },
  {
   "cell_type": "code",
   "execution_count": 43,
   "metadata": {},
   "outputs": [
    {
     "name": "stdout",
     "output_type": "stream",
     "text": [
      "2014-05-29 \n",
      " (2.0, 1.5, 20.0, 2.0)\n"
     ]
    }
   ],
   "source": [
    "print(date,'\\n', data_frame.loc[(date, slice(None), slice(None), slice(None), slice(None))].idxmin().item())"
   ]
  }
 ],
 "metadata": {
  "kernelspec": {
   "display_name": "Python 3",
   "language": "python",
   "name": "python3"
  },
  "language_info": {
   "codemirror_mode": {
    "name": "ipython",
    "version": 3
   },
   "file_extension": ".py",
   "mimetype": "text/x-python",
   "name": "python",
   "nbconvert_exporter": "python",
   "pygments_lexer": "ipython3",
   "version": "3.6.2"
  }
 },
 "nbformat": 4,
 "nbformat_minor": 2
}
