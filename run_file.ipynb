{
 "cells": [
  {
   "cell_type": "code",
   "execution_count": 1,
   "metadata": {
    "collapsed": false
   },
   "outputs": [],
   "source": [
    "import sys\n",
    "import importlib\n",
    "import datetime\n",
    "\n",
    "import numpy as np\n",
    "import pandas as pd\n",
    "import xarray as xr\n",
    "import pvlib as pv\n",
    "import matplotlib.pyplot as plt\n",
    "import scipy.ndimage.filters as filters\n",
    "from distributed import LocalCluster, Client"
   ]
  },
  {
   "cell_type": "code",
   "execution_count": 2,
   "metadata": {
    "collapsed": true
   },
   "outputs": [],
   "source": [
    "%matplotlib inline"
   ]
  },
  {
   "cell_type": "code",
   "execution_count": 7,
   "metadata": {
    "collapsed": false
   },
   "outputs": [],
   "source": [
    "sys.path.append('/home/travis/python_code/letkf_forecasting/')\n",
    "import letkf_forecasting as lf"
   ]
  },
  {
   "cell_type": "code",
   "execution_count": 3,
   "metadata": {
    "collapsed": false
   },
   "outputs": [],
   "source": [
    "#for Golem\n",
    "sat_14 = xr.open_dataset('/home/travis/python_code/forecasting/current_data/sat_14.nc')\n",
    "sat_15 = xr.open_dataset('/home/travis/python_code/letkf_forecasting/sat_15_good.nc')\n",
    "wind_15 = xr.open_dataset('/home/travis/python_code/forecasting/current_data/wind_15_crop.nc')\n",
    "wind_15_smooth = xr.open_dataset('/home/travis/python_code/letkf_forecasting/wind_15_smooth.nc')\n",
    "wind_15_ave = xr.open_dataset('/home/travis/python_code/letkf_forecasting/wind_15_ave.nc')\n",
    "sensor_data = pd.read_hdf('/home/travis/python_code/forecasting/current_data/sensor_data.h5')\n",
    "sensor_CI = pd.read_hdf('/home/travis/python_code/letkf_forecasting/sensor_CI.h5')\n",
    "sensor_loc = pd.read_hdf('/home/travis/python_code/forecasting/current_data/sensor_loc.h5')"
   ]
  },
  {
   "cell_type": "code",
   "execution_count": 4,
   "metadata": {
    "collapsed": false
   },
   "outputs": [
    {
     "name": "stdout",
     "output_type": "stream",
     "text": [
      "X length: 469\n",
      "Y length: 330\n"
     ]
    }
   ],
   "source": [
    "# Better Crop should write as a function into letkf_forecasting\n",
    "long_min = sensor_loc['lon'].min()\n",
    "long_max = sensor_loc['lon'].max()\n",
    "lat_min = sensor_loc['lat'].min()\n",
    "lat_max = sensor_loc['lat'].max()\n",
    "long = sat_15.long.values\n",
    "lat = sat_15.lat.values\n",
    "min_x = abs(long[0, :] - long_min).argmin()\n",
    "max_x = abs(long[0, :] - long_max).argmin()\n",
    "min_y = abs(lat[:, 0] - lat_min).argmin()\n",
    "max_y = abs(lat[:, 0] - lat_max).argmin()\n",
    "\n",
    "U_max = wind_15.U.max() # know U is positive\n",
    "V_max = abs(wind_15.V.min()) # know V is negative\n",
    "\n",
    "left = int(U_max*60*30/250) + 20\n",
    "right = 20\n",
    "\n",
    "up = int(V_max*60*30/250) + 20\n",
    "down = 20\n",
    "\n",
    "x_crop = slice(min_x - left, max_x + right)\n",
    "y_crop = slice(min_y - down, max_y + up)\n",
    "print('X length: ' + \n",
    "      str(max_x + right - (min_x - left)))\n",
    "print('Y length: ' + \n",
    "      str(max_y + up - (min_y - down)))"
   ]
  },
  {
   "cell_type": "code",
   "execution_count": 5,
   "metadata": {
    "collapsed": false,
    "scrolled": true
   },
   "outputs": [],
   "source": [
    "n_workers = 20\n",
    "cluster = LocalCluster(n_workers=n_workers, scheduler_port=7001, diagnostics_port=7002)\n",
    "client = Client(cluster)"
   ]
  },
  {
   "cell_type": "code",
   "execution_count": 16,
   "metadata": {
    "collapsed": false,
    "scrolled": true
   },
   "outputs": [
    {
     "name": "stdout",
     "output_type": "stream",
     "text": [
      "time_index: 0\n",
      "advection_number: 0\n",
      "advection_number: 1\n",
      "advection_number: 2\n",
      "time_index: 1\n",
      "advection_number: 0\n",
      "advection_number: 1\n",
      "advection_number: 2\n",
      "time_index: 2\n",
      "advection_number: 0\n",
      "advection_number: 1\n",
      "advection_number: 2\n",
      "time_index: 3\n",
      "advection_number: 0\n",
      "advection_number: 1\n",
      "advection_number: 2\n"
     ]
    }
   ],
   "source": [
    "importlib.reload(lf)\n",
    "dx = 250 #in km\n",
    "dy = 250 #in km\n",
    "C_max = 0.7\n",
    "assimilation_grid_size = 5 #was 5\n",
    "localization = 30\n",
    "sat_inflation = 1.1\n",
    "sensor_inflation = 1.5\n",
    "\n",
    "goes15_azimuth = 220.5\n",
    "goes15_elevation = 44.1\n",
    "\n",
    "sat_sig = 0.15 #0.01 #0.05\n",
    "sensor_sig = 0.01 #0.1 #0.05\n",
    "ens_size = 40\n",
    "wind_sigma = (.4, .05)\n",
    "wind_size = 2\n",
    "CI_sigma = .1\n",
    "\n",
    "tus = pv.location.Location(32.2, -111, 'US/Arizona', 700,'Tucson')\n",
    "\n",
    "cloud_height = 8222\n",
    "\n",
    "start_time = '2014-04-15 12:30:00' #11:00:00 is not a bad start\n",
    "end_time = '2014-04-15 13:30:00' #Gets boring shortly after 14:00:00\n",
    "\n",
    "x_crop_stag = slice(x_crop.start - 1, x_crop.stop)\n",
    "y_crop_stag = slice(y_crop.start - 1, y_crop.stop)\n",
    "\n",
    "analysis, analysis_error, background, background_error, advected, time_range = lf.main(\n",
    "    sat=sat_15.isel(west_east=x_crop, south_north=y_crop),\n",
    "    wind=wind_15_smooth.isel(west_east=x_crop, west_east_stag=x_crop_stag,\n",
    "                             south_north=y_crop, south_north_stag=y_crop_stag),\n",
    "    sensor_data=sensor_CI,\n",
    "    sensor_loc=sensor_loc,\n",
    "    start_time=start_time, end_time=end_time, dx=dx, dy=dy,\n",
    "    C_max=C_max,\n",
    "    assimilation_grid_size=assimilation_grid_size,\n",
    "    localization_length=localization, sensor_inflation=sensor_inflation,\n",
    "    sat_inflation=sat_inflation,\n",
    "    sat_sig=sat_sig, sensor_sig=sensor_sig, ens_size=ens_size,\n",
    "    wind_sigma=wind_sigma, wind_size=wind_size, CI_sigma=CI_sigma,\n",
    "    location=tus, cloud_height=cloud_height, sat_azimuth=goes15_azimuth,\n",
    "    sat_elevation=goes15_elevation, client=client)"
   ]
  },
  {
   "cell_type": "code",
   "execution_count": 69,
   "metadata": {
    "collapsed": false,
    "scrolled": false
   },
   "outputs": [
    {
     "name": "stdout",
     "output_type": "stream",
     "text": [
      "time_index: 0\n",
      "advection_number: 0\n",
      "advection_number: 1\n",
      "advection_number: 2\n",
      "time_index: 1\n",
      "advection_number: 0\n",
      "advection_number: 1\n",
      "advection_number: 2\n",
      "time_index: 2\n",
      "advection_number: 0\n",
      "advection_number: 1\n",
      "advection_number: 2\n",
      "time_index: 3\n",
      "advection_number: 0\n",
      "advection_number: 1\n",
      "advection_number: 2\n"
     ]
    }
   ],
   "source": [
    "importlib.reload(lf)\n",
    "dx = 250 #in km\n",
    "dy = 250 #in km\n",
    "C_max = 0.7\n",
    "assimilation_grid_size = 50 #was 5\n",
    "localization = 30\n",
    "sat_inflation = 1.1\n",
    "sensor_inflation = 1.5\n",
    "\n",
    "CI_localization = .2\n",
    "sat_oi_inflation = 10\n",
    "\n",
    "goes15_azimuth = 220.5\n",
    "goes15_elevation = 44.1\n",
    "\n",
    "sat_sig = 0.15 #0.01 #0.05\n",
    "sensor_sig = 0.01 #0.1 #0.05\n",
    "ens_size = 20\n",
    "wind_sigma = (.4, .05)\n",
    "wind_size = 2\n",
    "CI_sigma = .1\n",
    "\n",
    "tus = pv.location.Location(32.2, -111, 'US/Arizona', 700,'Tucson')\n",
    "\n",
    "cloud_height = 8222\n",
    "\n",
    "start_time = '2014-04-15 12:30:00' #11:00:00 is not a bad start\n",
    "end_time = '2014-04-15 13:30:00' #Gets boring shortly after 14:00:00\n",
    "\n",
    "x_crop_stag = slice(x_crop.start - 1, x_crop.stop)\n",
    "y_crop_stag = slice(y_crop.start - 1, y_crop.stop)\n",
    "\n",
    "analysis, analysis_error, background, background_error, advected, time_range = lf.main_oi(\n",
    "    sat=sat_15.isel(west_east=x_crop, south_north=y_crop),\n",
    "    wind=wind_15_smooth.isel(west_east=x_crop, west_east_stag=x_crop_stag,\n",
    "                             south_north=y_crop, south_north_stag=y_crop_stag),\n",
    "    sensor_data=sensor_CI,\n",
    "    sensor_loc=sensor_loc,\n",
    "    start_time=start_time, end_time=end_time, dx=dx, dy=dy,\n",
    "    C_max=C_max,\n",
    "    assimilation_grid_size=assimilation_grid_size,\n",
    "    localization_length=localization, sensor_inflation=sensor_inflation,\n",
    "    sat_inflation=sat_inflation,\n",
    "    sat_sig=sat_sig, sensor_sig=sensor_sig, ens_size=ens_size,\n",
    "    wind_sigma=wind_sigma, wind_size=wind_size, CI_sigma=CI_sigma,\n",
    "    CI_localization=CI_localization, sat_oi_inflation=sat_oi_inflation,\n",
    "    location=tus, cloud_height=cloud_height, sat_azimuth=goes15_azimuth,\n",
    "    sat_elevation=goes15_elevation, client=client)"
   ]
  },
  {
   "cell_type": "code",
   "execution_count": 60,
   "metadata": {
    "collapsed": false
   },
   "outputs": [
    {
     "data": {
      "text/plain": [
       "array([-0.02441702,  0.0055381 ,  0.03252105,  0.0271684 ,  0.03706768,\n",
       "        0.01633493,  0.00247817,  0.01543402,  0.01810145,  0.0173697 ,\n",
       "        0.02880513, -0.13379307, -0.08240448,  0.00313823, -0.07663491,\n",
       "       -0.00160962, -0.26883688,  0.01653063, -0.37121988, -0.17469231,\n",
       "       -0.08667276, -0.23583054, -0.10373345, -0.12396548, -0.15012112,\n",
       "       -0.0840172 , -0.15008342])"
      ]
     },
     "execution_count": 60,
     "metadata": {},
     "output_type": "execute_result"
    }
   ],
   "source": [
    "np.eye(27).dot(sensor_CI.ix['2014-04-15 12:00'] - np.ones(27))"
   ]
  },
  {
   "cell_type": "code",
   "execution_count": 70,
   "metadata": {
    "collapsed": false
   },
   "outputs": [
    {
     "data": {
      "text/plain": [
       "<matplotlib.axes._subplots.AxesSubplot at 0x7ff33bcce550>"
      ]
     },
     "execution_count": 70,
     "metadata": {},
     "output_type": "execute_result"
    },
    {
     "data": {
      "text/plain": [
       "<matplotlib.figure.Figure at 0x7ff33916db00>"
      ]
     },
     "metadata": {},
     "output_type": "display_data"
    },
    {
     "data": {
      "image/png": "[encoded data removed]",
      "text/plain": [
       "<matplotlib.figure.Figure at 0x7ff33bd12c18>"
      ]
     },
     "metadata": {},
     "output_type": "display_data"
    }
   ],
   "source": [
    "plt.figure()\n",
    "sensor_CI[sensor_loc[sensor_loc.test==True].id].ix['2014-04-15 12:30' : '2014-04-15 13:30'].plot()"
   ]
  },
  {
   "cell_type": "code",
   "execution_count": 71,
   "metadata": {
    "collapsed": false
   },
   "outputs": [
    {
     "data": {
      "text/plain": [
       "<matplotlib.legend.Legend at 0x7ff3397799b0>"
      ]
     },
     "execution_count": 71,
     "metadata": {},
     "output_type": "execute_result"
    },
    {
     "data": {
      "image/png": "[encoded data removed]",
      "text/plain": [
       "<matplotlib.figure.Figure at 0x7ff339d65e80>"
      ]
     },
     "metadata": {},
     "output_type": "display_data"
    }
   ],
   "source": [
    "plt.figure()\n",
    "plt.plot(np.sqrt((background_error**2).mean(axis=1))[1:])\n",
    "plt.plot(np.sqrt((analysis_error**2).mean(axis=1))[1:])\n",
    "plt.legend(['background', 'analysis'])"
   ]
  },
  {
   "cell_type": "code",
   "execution_count": null,
   "metadata": {
    "collapsed": false,
    "scrolled": true
   },
   "outputs": [
    {
     "name": "stderr",
     "output_type": "stream",
     "text": [
      "/home/travis/miniconda3/envs/py35Solar/lib/python3.5/site-packages/matplotlib/pyplot.py:516: RuntimeWarning: More than 20 figures have been opened. Figures created through the pyplot interface (`matplotlib.pyplot.figure`) are retained until explicitly closed and may consume too much memory. (To control this warning, see the rcParam `figure.max_open_warning`).\n",
      "  max_open_warning, RuntimeWarning)\n"
     ]
    }
   ],
   "source": [
    "shape = (330, 469)\n",
    "for t in range(time_range.size):\n",
    "    this_time = time_range[t]\n",
    "    \n",
    "    vmin=None\n",
    "    vmax=None\n",
    "    \n",
    "#     plt.figure()\n",
    "#     im = plt.pcolormesh(\n",
    "#         background[t, 2:].reshape(shape) ,\n",
    "#         cmap='Blues', vmin=0, vmax=1)\n",
    "#     plt.colorbar(im)\n",
    "#     plt.title('Background: ' + str(this_time))\n",
    "#     plt.axis('equal')\n",
    "    \n",
    "    plt.figure()\n",
    "    im = plt.pcolormesh(\n",
    "        advected[t].reshape(shape),\n",
    "        cmap='Blues', vmin=vmin, vmax=vmax)\n",
    "    plt.colorbar(im)\n",
    "    plt.title('advected: ' + str(this_time))\n",
    "    plt.axis('equal')\n",
    "    \n",
    "    plt.figure()\n",
    "    im = plt.pcolormesh(\n",
    "        (analysis[t, 2:]).reshape(shape),\n",
    "        cmap='Blues', vmin=vmin, vmax=vmax)\n",
    "    plt.colorbar(im)\n",
    "    plt.title('Analysis: ' + str(this_time))\n",
    "    plt.axis('equal')"
   ]
  },
  {
   "cell_type": "code",
   "execution_count": null,
   "metadata": {
    "collapsed": true
   },
   "outputs": [],
   "source": [
    "from functools import partial"
   ]
  },
  {
   "cell_type": "code",
   "execution_count": null,
   "metadata": {
    "collapsed": false
   },
   "outputs": [],
   "source": [
    "start_time = '2014-04-15 12:30:00' #11:00:00 is not a bad start\n",
    "end_time = '2014-04-15 13:30:00' #Gets boring shortly after 14:00:00\n",
    "\n",
    "assimilation_grid_size = 5\n",
    "\n",
    "\n",
    "short_fun_d = partial(lf.main,\n",
    "    sat=sat_15.isel(west_east=x_crop, south_north=y_crop),\n",
    "    wind=wind_15_smooth.isel(west_east=x_crop, west_east_stag=x_crop_stag,\n",
    "                             south_north=y_crop, south_north_stag=y_crop_stag),\n",
    "    sensor_data=sensor_CI,\n",
    "    sensor_loc=sensor_loc,\n",
    "    start_time=start_time, end_time=end_time, dx=dx, dy=dy,\n",
    "    C_max=C_max,\n",
    "    assimilation_grid_size=assimilation_grid_size,\n",
    "    localization_length=localization, inflation=inflation,\n",
    "    sat_sig=sat_sig, sensor_sig=sensor_sig, ens_size=ens_size,\n",
    "    wind_sigma=wind_sigma, wind_size=wind_size, CI_sigma=CI_sigma,\n",
    "    location=tus, cloud_height=cloud_height, sat_azimuth=goes15_azimuth,\n",
    "    sat_elevation=goes15_elevation, client=client)"
   ]
  },
  {
   "cell_type": "code",
   "execution_count": null,
   "metadata": {
    "collapsed": false,
    "scrolled": true
   },
   "outputs": [],
   "source": [
    "%lprun -f lf.main short_fun_d()"
   ]
  }
 ],
 "metadata": {
  "kernelspec": {
   "display_name": "Python 3",
   "language": "python",
   "name": "python3"
  },
  "language_info": {
   "codemirror_mode": {
    "name": "ipython",
    "version": 3
   },
   "file_extension": ".py",
   "mimetype": "text/x-python",
   "name": "python",
   "nbconvert_exporter": "python",
   "pygments_lexer": "ipython3",
   "version": "3.5.0rc4"
  }
 },
 "nbformat": 4,
 "nbformat_minor": 1
}
