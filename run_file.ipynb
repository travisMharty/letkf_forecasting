{
 "cells": [
  {
   "cell_type": "code",
   "execution_count": 1,
   "metadata": {
    "collapsed": false
   },
   "outputs": [],
   "source": [
    "import sys\n",
    "import importlib\n",
    "import datetime\n",
    "\n",
    "import numpy as np\n",
    "import pandas as pd\n",
    "import xarray as xr\n",
    "import pvlib as pv\n",
    "import matplotlib.pyplot as plt\n",
    "import scipy.ndimage.filters as filters"
   ]
  },
  {
   "cell_type": "code",
   "execution_count": 2,
   "metadata": {
    "collapsed": true
   },
   "outputs": [],
   "source": [
    "%matplotlib inline"
   ]
  },
  {
   "cell_type": "code",
   "execution_count": 3,
   "metadata": {
    "collapsed": true
   },
   "outputs": [],
   "source": [
    "sys.path.append('/home/travis/python_code/letkf_forecasting/')\n",
    "import letkf_forecasting as lf"
   ]
  },
  {
   "cell_type": "code",
   "execution_count": 27,
   "metadata": {
    "collapsed": false
   },
   "outputs": [],
   "source": [
    "sys.path.append('/home/travis/python_code/satellite_irradiance_optimal_interpolation/satoi/')\n",
    "import oi as oi"
   ]
  },
  {
   "cell_type": "code",
   "execution_count": 4,
   "metadata": {
    "collapsed": false,
    "scrolled": false
   },
   "outputs": [
    {
     "data": {
      "text/plain": [
       "<module 'letkf_forecasting' from '/home/travis/python_code/letkf_forecasting/letkf_forecasting.py'>"
      ]
     },
     "execution_count": 4,
     "metadata": {},
     "output_type": "execute_result"
    }
   ],
   "source": [
    "importlib.reload(lf)"
   ]
  },
  {
   "cell_type": "code",
   "execution_count": 5,
   "metadata": {
    "collapsed": false
   },
   "outputs": [],
   "source": [
    "#for Golem\n",
    "sat_14 = xr.open_dataset('/home/travis/python_code/forecasting/current_data/sat_14.nc')\n",
    "sat_15 = xr.open_dataset('/home/travis/python_code/forecasting/current_data/sat_15.nc')\n",
    "wind_15 = xr.open_dataset('/home/travis/python_code/forecasting/current_data/wind_15_crop.nc')\n",
    "sensor_data = pd.read_hdf('/home/travis/python_code/forecasting/current_data/sensor_data.h5')\n",
    "sensor_loc = pd.read_hdf('/home/travis/python_code/forecasting/current_data/sensor_loc.h5')"
   ]
  },
  {
   "cell_type": "code",
   "execution_count": 6,
   "metadata": {
    "collapsed": false
   },
   "outputs": [
    {
     "name": "stdout",
     "output_type": "stream",
     "text": [
      "33.3037808817\n",
      "31.1494901105\n",
      "-111.83381864\n",
      "-110.008429666\n"
     ]
    }
   ],
   "source": [
    "max_lat = sat_15['lat'].max().values + .01\n",
    "min_lat = sat_15['lat'].min().values - .01\n",
    "min_long = sat_15['long'].min().values - .01\n",
    "max_long = sat_15['long'].max().values + .01\n",
    "print(max_lat)\n",
    "print(min_lat)\n",
    "print(min_long)\n",
    "print(max_long)"
   ]
  },
  {
   "cell_type": "code",
   "execution_count": 7,
   "metadata": {
    "collapsed": true
   },
   "outputs": [],
   "source": [
    "clear_sky_good = xr.DataArray(\n",
    "    data=(sat_15.GHI.values/sat_14.GHI.values).clip(max=1),\n",
    "    coords=sat_15.coords)\n",
    "clear_sky_good = clear_sky_good.rename({'x': 'y_', 'y': 'x_'})\n",
    "clear_sky_good = clear_sky_good.rename({'y_': 'y', 'x_': 'x'})\n",
    "sat_15['clear_sky_good'] = clear_sky_good\n",
    "sat_15 = sat_15.rename({'x': 'west_east', 'y': 'south_north'})"
   ]
  },
  {
   "cell_type": "code",
   "execution_count": 8,
   "metadata": {
    "collapsed": true,
    "scrolled": true
   },
   "outputs": [],
   "source": [
    "sensor_CI = sensor_data[['clearsky_index', 'id']]\n",
    "sensor_CI = sensor_CI.reset_index().pivot(\n",
    "    index='time', columns='id', values='clearsky_index')\n",
    "sensor_CI = sensor_CI.resample('5min').mean().dropna() ##Use scipy interpolate instead of this."
   ]
  },
  {
   "cell_type": "code",
   "execution_count": 9,
   "metadata": {
    "collapsed": false
   },
   "outputs": [
    {
     "data": {
      "text/plain": [
       "(array([-5781.68704891]), array([-218694.14370625]))"
      ]
     },
     "execution_count": 9,
     "metadata": {},
     "output_type": "execute_result"
    }
   ],
   "source": [
    "#This is taken from http://www.groundcontrol.com/Satellite_Look_Angle_Calculator.html\n",
    "goes15_azimuth = 220.5\n",
    "goes15_elevation = 44.1\n",
    "\n",
    "time = pd.Timestamp('2014-04-15 11:00:00').tz_localize('MST')\n",
    "tus = pv.location.Location(32.2, -111, 'US/Arizona', 700,'Tucson')\n",
    "solar_position = tus.get_solarposition(time)\n",
    "lf.parallax_shift(2000,\n",
    "                     goes15_azimuth,\n",
    "                     goes15_elevation,\n",
    "                     solar_position['azimuth'].values*np.pi/360,\n",
    "                     solar_position['elevation'].values*np.pi/360)"
   ]
  },
  {
   "cell_type": "code",
   "execution_count": 10,
   "metadata": {
    "collapsed": false
   },
   "outputs": [
    {
     "name": "stdout",
     "output_type": "stream",
     "text": [
      "X length: 469\n",
      "Y length: 330\n"
     ]
    }
   ],
   "source": [
    "# Better Crop should write as a function into letkf_forecasting\n",
    "long_min = sensor_loc['lon'].min()\n",
    "long_max = sensor_loc['lon'].max()\n",
    "lat_min = sensor_loc['lat'].min()\n",
    "lat_max = sensor_loc['lat'].max()\n",
    "long = sat_15.long.values\n",
    "lat = sat_15.lat.values\n",
    "min_x = abs(long[0, :] - long_min).argmin()\n",
    "max_x = abs(long[0, :] - long_max).argmin()\n",
    "min_y = abs(lat[:, 0] - lat_min).argmin()\n",
    "max_y = abs(lat[:, 0] - lat_max).argmin()\n",
    "\n",
    "U_max = wind_15.U.max() # know U is positive\n",
    "V_max = abs(wind_15.V.min()) # know V is negative\n",
    "\n",
    "left = int(U_max*60*30/250) + 20\n",
    "right = 20\n",
    "\n",
    "up = int(V_max*60*30/250) + 20\n",
    "down = 20\n",
    "\n",
    "x_crop = slice(min_x - left, max_x + right)\n",
    "y_crop = slice(min_y - down, max_y + up)\n",
    "print('X length: ' + \n",
    "      str(max_x + right - (min_x - left)))\n",
    "print('Y length: ' + \n",
    "      str(max_y + up - (min_y - down)))"
   ]
  },
  {
   "cell_type": "code",
   "execution_count": 11,
   "metadata": {
    "collapsed": true,
    "scrolled": true
   },
   "outputs": [],
   "source": [
    "U = filters.uniform_filter(wind_15.U, (0, 300, 300), mode='mirror')\n",
    "V = filters.uniform_filter(wind_15.V, (0, 300, 300), mode='mirror')"
   ]
  },
  {
   "cell_type": "code",
   "execution_count": 12,
   "metadata": {
    "collapsed": true
   },
   "outputs": [],
   "source": [
    "wind_15_smooth = wind_15.copy()"
   ]
  },
  {
   "cell_type": "code",
   "execution_count": 13,
   "metadata": {
    "collapsed": true
   },
   "outputs": [],
   "source": [
    "wind_15_smooth['U'] = (wind_15.U.dims, U)\n",
    "wind_15_smooth['V'] = (wind_15.V.dims, V)"
   ]
  },
  {
   "cell_type": "code",
   "execution_count": 14,
   "metadata": {
    "collapsed": true
   },
   "outputs": [],
   "source": [
    "#This is taken from http://www.groundcontrol.com/Satellite_Look_Angle_Calculator.html\n",
    "goes15_azimuth = 220.5\n",
    "goes15_elevation = 44.1"
   ]
  },
  {
   "cell_type": "code",
   "execution_count": 17,
   "metadata": {
    "collapsed": false
   },
   "outputs": [
    {
     "ename": "NameError",
     "evalue": "name 'profile' is not defined",
     "output_type": "error",
     "traceback": [
      "\u001b[1;31m\u001b[0m",
      "\u001b[1;31mNameError\u001b[0mTraceback (most recent call last)",
      "\u001b[1;32m<ipython-input-17-4169fcff8460>\u001b[0m in \u001b[0;36m<module>\u001b[1;34m()\u001b[0m\n\u001b[1;32m----> 1\u001b[1;33m \u001b[0mimportlib\u001b[0m\u001b[1;33m.\u001b[0m\u001b[0mreload\u001b[0m\u001b[1;33m(\u001b[0m\u001b[0mlf\u001b[0m\u001b[1;33m)\u001b[0m\u001b[1;33m\u001b[0m\u001b[0m\n\u001b[0m\u001b[0;32m      2\u001b[0m \u001b[0mdx\u001b[0m \u001b[1;33m=\u001b[0m \u001b[1;36m250\u001b[0m \u001b[1;31m#in km\u001b[0m\u001b[1;33m\u001b[0m\u001b[0m\n\u001b[0;32m      3\u001b[0m \u001b[0mdy\u001b[0m \u001b[1;33m=\u001b[0m \u001b[1;36m250\u001b[0m \u001b[1;31m#in km\u001b[0m\u001b[1;33m\u001b[0m\u001b[0m\n\u001b[0;32m      4\u001b[0m \u001b[0mC_max\u001b[0m \u001b[1;33m=\u001b[0m \u001b[1;36m1.2\u001b[0m\u001b[1;33m\u001b[0m\u001b[0m\n\u001b[0;32m      5\u001b[0m \u001b[0massimilation_grid_size\u001b[0m \u001b[1;33m=\u001b[0m \u001b[1;36m5\u001b[0m\u001b[1;33m\u001b[0m\u001b[0m\n",
      "\u001b[1;32m/home/travis/miniconda3/envs/py35Solar/lib/python3.5/importlib/__init__.py\u001b[0m in \u001b[0;36mreload\u001b[1;34m(module)\u001b[0m\n\u001b[0;32m    164\u001b[0m         \u001b[0mtarget\u001b[0m \u001b[1;33m=\u001b[0m \u001b[0mmodule\u001b[0m\u001b[1;33m\u001b[0m\u001b[0m\n\u001b[0;32m    165\u001b[0m         \u001b[0mspec\u001b[0m \u001b[1;33m=\u001b[0m \u001b[0mmodule\u001b[0m\u001b[1;33m.\u001b[0m\u001b[0m__spec__\u001b[0m \u001b[1;33m=\u001b[0m \u001b[0m_bootstrap\u001b[0m\u001b[1;33m.\u001b[0m\u001b[0m_find_spec\u001b[0m\u001b[1;33m(\u001b[0m\u001b[0mname\u001b[0m\u001b[1;33m,\u001b[0m \u001b[0mpkgpath\u001b[0m\u001b[1;33m,\u001b[0m \u001b[0mtarget\u001b[0m\u001b[1;33m)\u001b[0m\u001b[1;33m\u001b[0m\u001b[0m\n\u001b[1;32m--> 166\u001b[1;33m         \u001b[0m_bootstrap\u001b[0m\u001b[1;33m.\u001b[0m\u001b[0m_exec\u001b[0m\u001b[1;33m(\u001b[0m\u001b[0mspec\u001b[0m\u001b[1;33m,\u001b[0m \u001b[0mmodule\u001b[0m\u001b[1;33m)\u001b[0m\u001b[1;33m\u001b[0m\u001b[0m\n\u001b[0m\u001b[0;32m    167\u001b[0m         \u001b[1;31m# The module may have replaced itself in sys.modules!\u001b[0m\u001b[1;33m\u001b[0m\u001b[1;33m\u001b[0m\u001b[0m\n\u001b[0;32m    168\u001b[0m         \u001b[1;32mreturn\u001b[0m \u001b[0msys\u001b[0m\u001b[1;33m.\u001b[0m\u001b[0mmodules\u001b[0m\u001b[1;33m[\u001b[0m\u001b[0mname\u001b[0m\u001b[1;33m]\u001b[0m\u001b[1;33m\u001b[0m\u001b[0m\n",
      "\u001b[1;32m/home/travis/miniconda3/envs/py35Solar/lib/python3.5/importlib/_bootstrap.py\u001b[0m in \u001b[0;36m_exec\u001b[1;34m(spec, module)\u001b[0m\n",
      "\u001b[1;32m/home/travis/miniconda3/envs/py35Solar/lib/python3.5/importlib/_bootstrap_external.py\u001b[0m in \u001b[0;36mexec_module\u001b[1;34m(self, module)\u001b[0m\n",
      "\u001b[1;32m/home/travis/miniconda3/envs/py35Solar/lib/python3.5/importlib/_bootstrap.py\u001b[0m in \u001b[0;36m_call_with_frames_removed\u001b[1;34m(f, *args, **kwds)\u001b[0m\n",
      "\u001b[1;32m/home/travis/python_code/letkf_forecasting/letkf_forecasting.py\u001b[0m in \u001b[0;36m<module>\u001b[1;34m()\u001b[0m\n\u001b[0;32m    590\u001b[0m \u001b[1;33m\u001b[0m\u001b[0m\n\u001b[0;32m    591\u001b[0m \u001b[1;33m\u001b[0m\u001b[0m\n\u001b[1;32m--> 592\u001b[1;33m \u001b[1;33m@\u001b[0m\u001b[0mprofile\u001b[0m\u001b[1;33m\u001b[0m\u001b[0m\n\u001b[0m\u001b[0;32m    593\u001b[0m def simulation_distributed(sat, wind, sensor_data, sensor_loc, start_time,\n\u001b[0;32m    594\u001b[0m                            \u001b[0mend_time\u001b[0m\u001b[1;33m,\u001b[0m \u001b[0mdx\u001b[0m\u001b[1;33m,\u001b[0m \u001b[0mdy\u001b[0m\u001b[1;33m,\u001b[0m \u001b[0mC_max\u001b[0m\u001b[1;33m,\u001b[0m \u001b[0massimilation_grid_size\u001b[0m\u001b[1;33m,\u001b[0m\u001b[1;33m\u001b[0m\u001b[0m\n",
      "\u001b[1;31mNameError\u001b[0m: name 'profile' is not defined"
     ]
    }
   ],
   "source": [
    "importlib.reload(lf)\n",
    "dx = 250 #in km\n",
    "dy = 250 #in km\n",
    "C_max = 1.2\n",
    "assimilation_grid_size = 5\n",
    "localization = 30\n",
    "\n",
    "sat_sig = 0.05 #0.01\n",
    "sensor_sig = 0.05 #0.1\n",
    "ens_size = 40\n",
    "wind_sigma = (.4, .05)\n",
    "wind_size = 2\n",
    "CI_sigma = .1\n",
    "\n",
    "tus = pv.location.Location(32.2, -111, 'US/Arizona', 700,'Tucson')\n",
    "\n",
    "cloud_height = 7303\n",
    "\n",
    "start_time = '2014-04-15 12:30:00' #11:00:00 is not a bad start\n",
    "end_time = '2014-04-15 13:30:00' #Gets boring shortly after 14:00:00\n",
    "\n",
    "x_crop_stag = slice(x_crop.start - 1, x_crop.stop)\n",
    "y_crop_stag = slice(y_crop.start - 1, y_crop.stop)\n",
    "\n",
    "\n",
    "\n",
    "analysis_og, background_og, advected_og, time_range_og = lf.simulation_parallax(\n",
    "    sat=sat_15.isel(west_east=x_crop, south_north=y_crop),\n",
    "    wind=wind_15_smooth.isel(west_east=x_crop, west_east_stag=x_crop_stag,\n",
    "                             south_north=y_crop, south_north_stag=y_crop_stag),\n",
    "    sensor_data=sensor_CI,\n",
    "    sensor_loc=sensor_loc,\n",
    "    start_time=start_time, end_time=end_time, dx=dx, dy=dy,\n",
    "    C_max=C_max,\n",
    "    assimilation_grid_size=assimilation_grid_size,\n",
    "    localization_length=localization,\n",
    "    sat_sig=sat_sig, sensor_sig=sensor_sig, ens_size=ens_size,\n",
    "    wind_sigma=wind_sigma, wind_size=wind_size, CI_sigma=CI_sigma,\n",
    "    location=tus, cloud_height=cloud_height, sat_azimuth=goes15_azimuth,\n",
    "    sat_elevation=goes15_elevation)"
   ]
  },
  {
   "cell_type": "code",
   "execution_count": 16,
   "metadata": {
    "collapsed": false,
    "scrolled": true
   },
   "outputs": [
    {
     "name": "stdout",
     "output_type": "stream",
     "text": [
      "time_index: 0\n",
      "advection_number: 0\n",
      "advection_number: 1\n",
      "advection_number: 2\n",
      "time_index: 1\n",
      "advection_number: 0\n",
      "advection_number: 1\n",
      "advection_number: 2\n",
      "time_index: 2\n",
      "advection_number: 0\n",
      "advection_number: 1\n",
      "advection_number: 2\n",
      "time_index: 3\n",
      "advection_number: 0\n",
      "advection_number: 1\n",
      "advection_number: 2\n"
     ]
    }
   ],
   "source": [
    "importlib.reload(lf)\n",
    "dx = 250 #in km\n",
    "dy = 250 #in km\n",
    "C_max = 1.2\n",
    "assimilation_grid_size = 5\n",
    "localization = 30\n",
    "\n",
    "sat_sig = 0.05 #0.01\n",
    "sensor_sig = 0.05 #0.1\n",
    "ens_size = 40\n",
    "wind_sigma = (.4, .05)\n",
    "wind_size = 2\n",
    "CI_sigma = .1\n",
    "\n",
    "tus = pv.location.Location(32.2, -111, 'US/Arizona', 700,'Tucson')\n",
    "\n",
    "cloud_height = 7303\n",
    "\n",
    "start_time = '2014-04-15 12:30:00' #11:00:00 is not a bad start\n",
    "end_time = '2014-04-15 13:30:00' #Gets boring shortly after 14:00:00\n",
    "\n",
    "x_crop_stag = slice(x_crop.start - 1, x_crop.stop)\n",
    "y_crop_stag = slice(y_crop.start - 1, y_crop.stop)\n",
    "\n",
    "n_workers = 5\n",
    "\n",
    "analysis, background, advected, time_range = lf.simulation_distributed(\n",
    "    sat=sat_15.isel(west_east=x_crop, south_north=y_crop),\n",
    "    wind=wind_15_smooth.isel(west_east=x_crop, west_east_stag=x_crop_stag,\n",
    "                             south_north=y_crop, south_north_stag=y_crop_stag),\n",
    "    sensor_data=sensor_CI,\n",
    "    sensor_loc=sensor_loc,\n",
    "    start_time=start_time, end_time=end_time, dx=dx, dy=dy,\n",
    "    C_max=C_max,\n",
    "    assimilation_grid_size=assimilation_grid_size,\n",
    "    localization_length=localization,\n",
    "    sat_sig=sat_sig, sensor_sig=sensor_sig, ens_size=ens_size,\n",
    "    wind_sigma=wind_sigma, wind_size=wind_size, CI_sigma=CI_sigma,\n",
    "    location=tus, cloud_height=cloud_height, sat_azimuth=goes15_azimuth,\n",
    "    sat_elevation=goes15_elevation, n_workers=n_workers)"
   ]
  },
  {
   "cell_type": "code",
   "execution_count": null,
   "metadata": {
    "collapsed": true,
    "scrolled": true
   },
   "outputs": [],
   "source": [
    "shape = (330, 469)\n",
    "for t in range(time_range.size):\n",
    "    this_time = time_range[t]\n",
    "    \n",
    "    plt.figure()\n",
    "    im = plt.pcolormesh(\n",
    "        background[t, 2:].reshape(shape),\n",
    "        cmap='Blues', vmin=0, vmax=1)\n",
    "    plt.colorbar(im)\n",
    "    plt.title('Background: ' + str(this_time))\n",
    "    plt.axis('equal')\n",
    "    \n",
    "    plt.figure()\n",
    "    im = plt.pcolormesh(\n",
    "        analysis[t, 2:].reshape(shape),\n",
    "        cmap='Blues', vmin=0, vmax=1)\n",
    "    plt.colorbar(im)\n",
    "    plt.title('Analysis: ' + str(this_time))\n",
    "    plt.axis('equal')\n",
    "    \n",
    "    plt.figure()\n",
    "    im = plt.pcolormesh(\n",
    "        advected[t].reshape(shape),\n",
    "        cmap='Blues', vmin=0, vmax=1)\n",
    "    plt.colorbar(im)\n",
    "    plt.title('advected: ' + str(this_time))\n",
    "    plt.axis('equal')"
   ]
  }
 ],
 "metadata": {
  "kernelspec": {
   "display_name": "Python 3",
   "language": "python",
   "name": "python3"
  },
  "language_info": {
   "codemirror_mode": {
    "name": "ipython",
    "version": 3
   },
   "file_extension": ".py",
   "mimetype": "text/x-python",
   "name": "python",
   "nbconvert_exporter": "python",
   "pygments_lexer": "ipython3",
   "version": "3.5.0rc4"
  }
 },
 "nbformat": 4,
 "nbformat_minor": 1
}
