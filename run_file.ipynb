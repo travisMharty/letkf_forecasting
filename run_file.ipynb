{
 "cells": [
  {
   "cell_type": "code",
   "execution_count": null,
   "metadata": {
    "collapsed": false
   },
   "outputs": [],
   "source": [
    "import sys\n",
    "import importlib\n",
    "import datetime\n",
    "\n",
    "import numpy as np\n",
    "import pandas as pd\n",
    "import xarray as xr\n",
    "import pvlib as pv\n",
    "import matplotlib.pyplot as plt\n",
    "import scipy.ndimage.filters as filters\n",
    "from distributed import LocalCluster, Client"
   ]
  },
  {
   "cell_type": "code",
   "execution_count": null,
   "metadata": {
    "collapsed": true
   },
   "outputs": [],
   "source": [
    "%matplotlib inline"
   ]
  },
  {
   "cell_type": "code",
   "execution_count": null,
   "metadata": {
    "collapsed": true
   },
   "outputs": [],
   "source": [
    "sys.path.append('/home/travis/python_code/letkf_forecasting/')\n",
    "import letkf_forecasting as lf"
   ]
  },
  {
   "cell_type": "code",
   "execution_count": null,
   "metadata": {
    "collapsed": false
   },
   "outputs": [],
   "source": [
    "import prepare_sat_data as prep"
   ]
  },
  {
   "cell_type": "code",
   "execution_count": null,
   "metadata": {
    "collapsed": false
   },
   "outputs": [],
   "source": [
    "sensor_data = pd.read_hdf('/home/travis/python_code/forecasting/current_data/sensor_data.h5')\n",
    "sensor_CI = pd.read_hdf('/home/travis/python_code/letkf_forecasting/sensor_CI.h5')\n",
    "sensor_loc = pd.read_hdf('/home/travis/python_code/forecasting/current_data/sensor_loc.h5')"
   ]
  },
  {
   "cell_type": "code",
   "execution_count": null,
   "metadata": {
    "collapsed": true
   },
   "outputs": [],
   "source": [
    "sensor_loc.sort_values(by='id', inplace=True)"
   ]
  },
  {
   "cell_type": "code",
   "execution_count": null,
   "metadata": {
    "collapsed": false
   },
   "outputs": [],
   "source": [
    "csi_15 = pd.read_hdf('./data/for_15/csi_15.h5')\n",
    "U_15 = pd.read_hdf('./data/for_15/U_fine.h5')\n",
    "V_15 = pd.read_hdf('./data/for_15/V_fine.h5')\n",
    "U_shape = np.load('./data/for_15/U_fine_shape.npy')\n",
    "V_shape = np.load('./data/for_15/V_fine_shape.npy')"
   ]
  },
  {
   "cell_type": "code",
   "execution_count": null,
   "metadata": {
    "collapsed": false
   },
   "outputs": [],
   "source": [
    "## filter winds\n",
    "filter_len = 20*4\n",
    "U_smooth = U_15.values.reshape(\n",
    "    [U_15.shape[0], U_shape[0], U_shape[1]])\n",
    "U_smooth = filters.uniform_filter(\n",
    "    U_smooth, size=(0, filter_len, filter_len))\n",
    "this_shape = U_smooth.shape\n",
    "U_smooth = U_smooth.reshape(this_shape[0], this_shape[1]*this_shape[2])\n",
    "U_smooth = pd.DataFrame(data=U_smooth, index=U_15.index)\n",
    "\n",
    "V_smooth = V_15.values.reshape(\n",
    "    [V_15.shape[0], V_shape[0], V_shape[1]])\n",
    "V_smooth = filters.uniform_filter(\n",
    "    V_smooth, size=(0, filter_len, filter_len))\n",
    "this_shape = V_smooth.shape\n",
    "V_smooth = V_smooth.reshape(this_shape[0], this_shape[1]*this_shape[2])\n",
    "V_smooth = pd.DataFrame(data=V_smooth, index=V_15.index)"
   ]
  },
  {
   "cell_type": "code",
   "execution_count": null,
   "metadata": {
    "collapsed": true
   },
   "outputs": [],
   "source": [
    "x_sat = np.load('./data/for_15/x_fine.npy')\n",
    "y_sat = np.load('./data/for_15/y_fine.npy')\n",
    "domain_shape = np.load('./data/for_15/fine_shape.npy')"
   ]
  },
  {
   "cell_type": "code",
   "execution_count": null,
   "metadata": {
    "collapsed": false
   },
   "outputs": [],
   "source": [
    "x_range = x_sat.reshape(domain_shape)[0, :]\n",
    "y_range = y_sat.reshape(domain_shape)[:, 0]"
   ]
  },
  {
   "cell_type": "code",
   "execution_count": null,
   "metadata": {
    "collapsed": false
   },
   "outputs": [],
   "source": [
    "lon_sens = sensor_loc['lon'].values\n",
    "lat_sens = sensor_loc['lat'].values"
   ]
  },
  {
   "cell_type": "code",
   "execution_count": null,
   "metadata": {
    "collapsed": true
   },
   "outputs": [],
   "source": [
    "x_sens, y_sens = prep.sphere_to_lcc(lat_sens, lon_sens)\n",
    "x_min = np.floor(x_sens.min())\n",
    "x_max = np.ceil(x_sens.max())\n",
    "y_min = np.floor(y_sens.min())\n",
    "y_max = np.ceil(y_sens.max())\n",
    "west_east_min = np.argmin(abs(x_min - x_range))\n",
    "west_east_max = np.argmin(abs(x_max - x_range))\n",
    "south_north_min = np.argmin(abs(y_min - y_range))\n",
    "south_north_max = np.argmin(abs(y_max - y_range))"
   ]
  },
  {
   "cell_type": "code",
   "execution_count": null,
   "metadata": {
    "collapsed": false
   },
   "outputs": [],
   "source": [
    "U_max = U_15.values.max() # know U is positive\n",
    "V_max = abs(V_15.values.min()) # know V is negative\n",
    "\n",
    "left = int(U_max*60*30/250) + 20\n",
    "right = 20\n",
    "\n",
    "up = int(V_max*60*30/250) + 20\n",
    "down = 20\n",
    "\n",
    "west_east_range = np.arange(west_east_min - left, west_east_max + right + 1, dtype='int')\n",
    "west_east_range_stag = np.arange(west_east_min - left, west_east_max + right + 1 + 1, dtype='int')\n",
    "south_north_range = np.arange(south_north_min - down, south_north_max + up + 1, dtype='int')\n",
    "south_north_range_stag = np.arange(south_north_min - down, south_north_max + up + 1 + 1, dtype='int')\n",
    "crop_shape = (south_north_range.size, west_east_range.size)\n",
    "U_crop_shape = (south_north_range.size, west_east_range_stag.size)\n",
    "V_crop_shape = (south_north_range_stag.size, west_east_range.size)\n",
    "print('X length: ' + \n",
    "      str(west_east_range.size))\n",
    "print('Y length: ' + \n",
    "      str(south_north_range.size))"
   ]
  },
  {
   "cell_type": "code",
   "execution_count": null,
   "metadata": {
    "collapsed": false
   },
   "outputs": [],
   "source": [
    "west_east_crop, south_north_crop = np.meshgrid(west_east_range, south_north_range)\n",
    "crop_indicies_2d = np.array([south_north_crop.ravel(),\n",
    "                             west_east_crop.ravel()])\n",
    "flat_crop_indicies = np.ravel_multi_index(crop_indicies_2d,\n",
    "                                          domain_shape)"
   ]
  },
  {
   "cell_type": "code",
   "execution_count": null,
   "metadata": {
    "collapsed": true
   },
   "outputs": [],
   "source": [
    "west_east_crop_U, south_north_crop_U = np.meshgrid(west_east_range_stag, south_north_range)\n",
    "crop_indicies_2d_U = np.array([south_north_crop_U.ravel(),\n",
    "                               west_east_crop_U.ravel()])\n",
    "flat_crop_indicies_U = np.ravel_multi_index(crop_indicies_2d_U,\n",
    "                                            U_shape)"
   ]
  },
  {
   "cell_type": "code",
   "execution_count": null,
   "metadata": {
    "collapsed": false
   },
   "outputs": [],
   "source": [
    "west_east_crop_V, south_north_crop_V = np.meshgrid(west_east_range, south_north_range_stag)\n",
    "crop_indicies_2d_V = np.array([south_north_crop_V.ravel(),\n",
    "                               west_east_crop_V.ravel()])\n",
    "flat_crop_indicies_V = np.ravel_multi_index(crop_indicies_2d_V,\n",
    "                                            V_shape)"
   ]
  },
  {
   "cell_type": "code",
   "execution_count": null,
   "metadata": {
    "collapsed": false
   },
   "outputs": [],
   "source": [
    "x_crop = x_sat[flat_crop_indicies]\n",
    "y_crop = y_sat[flat_crop_indicies]"
   ]
  },
  {
   "cell_type": "code",
   "execution_count": null,
   "metadata": {
    "collapsed": false,
    "scrolled": true
   },
   "outputs": [],
   "source": [
    "n_workers = 20\n",
    "cluster = LocalCluster(n_workers=n_workers, scheduler_port=7001, diagnostics_port=7002)\n",
    "client = Client(cluster)"
   ]
  },
  {
   "cell_type": "code",
   "execution_count": null,
   "metadata": {
    "collapsed": false
   },
   "outputs": [],
   "source": [
    "csi_crop = csi_15[flat_crop_indicies]\n",
    "csi_crop.columns = np.arange(flat_crop_indicies.size, dtype='int')\n",
    "U_crop = U_smooth[flat_crop_indicies_U]\n",
    "U_crop.columns = np.arange(flat_crop_indicies_U.size, dtype='int')\n",
    "V_crop = V_smooth[flat_crop_indicies_V]\n",
    "V_crop.columns = np.arange(flat_crop_indicies_V.size, dtype='int')"
   ]
  },
  {
   "cell_type": "code",
   "execution_count": null,
   "metadata": {
    "collapsed": false,
    "scrolled": false
   },
   "outputs": [],
   "source": [
    "# Use actual satellite image as Truth to find error statistics\n",
    "# forecast and analysis trace p\n",
    "# Also do the same by converting cloudiness to csi and compare to sensor\n",
    "importlib.reload(lf)\n",
    "dx = 250 #in km\n",
    "dy = 250 #in km\n",
    "C_max = 0.7\n",
    "assimilation_grid_size = 1 #was 5\n",
    "localization_letkf = 1\n",
    "sat_inflation = 1\n",
    "\n",
    "goes15_azimuth = 220.5\n",
    "goes15_elevation = 44.1\n",
    "\n",
    "sat_sig = 0.05 #0.01 #0.05 #0.001 <- good\n",
    "ens_size = 40\n",
    "wind_sigma = (.5, .5)\n",
    "wind_size = 2\n",
    "\n",
    "start_time = '2014-04-15 12:30:00' #11:00:00 is not a bad start\n",
    "end_time = '2014-04-15 13:30:00' #Gets boring shortly after 14:00:00\n",
    "\n",
    "analysis, background, advected, sat_time_range, trace_back, trace_analy = lf.main_only_sat(\n",
    "    sat=csi_crop, x=x_crop, y=y_crop, domain_shape=crop_shape,                                                                                                                                                    \n",
    "    U=U_crop, U_shape=U_crop_shape, V=V_crop, V_shape=V_crop_shape,                                                                                                                                                            \n",
    "    start_time=start_time, end_time=end_time, dx=dx, dy=dy, C_max=C_max,                                                                                                                                               \n",
    "    assimilation_grid_size=assimilation_grid_size,                                                                                                                                                            \n",
    "    localization_letkf=localization_letkf, sat_inflation=sat_inflation,                                                                                                                                                \n",
    "    sat_sig=sat_sig, ens_size=ens_size,                                                                                                                                                                 \n",
    "    wind_sigma=wind_sigma, wind_size=wind_size,                                                                                                                                                             \n",
    "    client=client)"
   ]
  },
  {
   "cell_type": "code",
   "execution_count": null,
   "metadata": {
    "collapsed": true
   },
   "outputs": [],
   "source": [
    "analysis_only_sat = analysis.copy()\n",
    "background_only_sat = background.copy()\n",
    "advected_only_sat = advected.copy()\n",
    "sat_time_range_only_sat = sat_time_range.copy()"
   ]
  },
  {
   "cell_type": "code",
   "execution_count": null,
   "metadata": {
    "collapsed": false
   },
   "outputs": [],
   "source": [
    "plt.figure()\n",
    "plt.plot(trace_back[1:])\n",
    "plt.plot(trace_analy[1:])\n",
    "plt.legend(['background', 'analysis'])"
   ]
  },
  {
   "cell_type": "code",
   "execution_count": null,
   "metadata": {
    "collapsed": false,
    "scrolled": false
   },
   "outputs": [],
   "source": [
    "# 0.05\n",
    "shape = crop_shape\n",
    "for t in range(sat_time_range.size):\n",
    "    this_time = sat_time_range[t]\n",
    "    \n",
    "    vmin=0\n",
    "    vmax=1.2\n",
    "    \n",
    "    plt.figure()\n",
    "    im = plt.pcolormesh(x_crop.reshape(shape), y_crop.reshape(shape),\n",
    "        background[t, 2:].reshape(shape) ,\n",
    "        cmap='Blues', vmin=vmin, vmax=vmax)\n",
    "    plt.colorbar(im)\n",
    "    plt.title('Background: ' + str(this_time))\n",
    "    plt.axis('equal')\n",
    "    \n",
    "#     plt.figure()\n",
    "#     im = plt.pcolormesh(x_crop.reshape(shape), y_crop.reshape(shape),\n",
    "#         advected[t].reshape(shape),\n",
    "#         cmap='Blues', vmin=vmin, vmax=vmax)\n",
    "#     plt.colorbar(im)\n",
    "#     plt.title('advected: ' + str(this_time))\n",
    "#     plt.axis('equal')\n",
    "    \n",
    "    plt.figure()\n",
    "    im = plt.pcolormesh(x_crop.reshape(shape), y_crop.reshape(shape),\n",
    "        (analysis[t, 2:]).reshape(shape),\n",
    "        cmap='Blues', vmin=vmin, vmax=vmax)\n",
    "    plt.colorbar(im)\n",
    "    plt.title('Analysis: ' + str(this_time))\n",
    "    plt.axis('equal')"
   ]
  },
  {
   "cell_type": "code",
   "execution_count": null,
   "metadata": {
    "collapsed": false,
    "scrolled": true
   },
   "outputs": [],
   "source": [
    "#0.001\n",
    "shape = crop_shape\n",
    "for t in range(sat_time_range.size):\n",
    "    this_time = sat_time_range[t]\n",
    "    \n",
    "    vmin=0\n",
    "    vmax=1.2\n",
    "    \n",
    "    plt.figure()\n",
    "    im = plt.pcolormesh(x_crop.reshape(shape), y_crop.reshape(shape),\n",
    "        background[t, 2:].reshape(shape) ,\n",
    "        cmap='Blues', vmin=vmin, vmax=vmax)\n",
    "    plt.colorbar(im)\n",
    "    plt.title('Background: ' + str(this_time))\n",
    "    plt.axis('equal')\n",
    "    \n",
    "#     plt.figure()\n",
    "#     im = plt.pcolormesh(x_crop.reshape(shape), y_crop.reshape(shape),\n",
    "#         advected[t].reshape(shape),\n",
    "#         cmap='Blues', vmin=vmin, vmax=vmax)\n",
    "#     plt.colorbar(im)\n",
    "#     plt.title('advected: ' + str(this_time))\n",
    "#     plt.axis('equal')\n",
    "    \n",
    "    plt.figure()\n",
    "    im = plt.pcolormesh(x_crop.reshape(shape), y_crop.reshape(shape),\n",
    "        (analysis[t, 2:]).reshape(shape),\n",
    "        cmap='Blues', vmin=vmin, vmax=vmax)\n",
    "    plt.colorbar(im)\n",
    "    plt.title('Analysis: ' + str(this_time))\n",
    "    plt.axis('equal')"
   ]
  },
  {
   "cell_type": "code",
   "execution_count": null,
   "metadata": {
    "collapsed": true
   },
   "outputs": [],
   "source": [
    "cloudiness_14 = pd.read_hdf('./data/for_15/cloudiness_14.h5')\n",
    "cloudiness_15 = pd.read_hdf('./data/for_15/cloudiness_15.h5')"
   ]
  },
  {
   "cell_type": "code",
   "execution_count": null,
   "metadata": {
    "collapsed": false
   },
   "outputs": [],
   "source": [
    "corrected_cloudiness = (cloudiness_15 - cloudiness_14).clip(lower=0)\n",
    "cc_crop = corrected_cloudiness[flat_crop_indicies]\n",
    "cc_crop.columns = np.arange(flat_crop_indicies.size, dtype='int')"
   ]
  },
  {
   "cell_type": "code",
   "execution_count": null,
   "metadata": {
    "collapsed": false
   },
   "outputs": [],
   "source": [
    "analysis[0]"
   ]
  },
  {
   "cell_type": "code",
   "execution_count": null,
   "metadata": {
    "collapsed": false,
    "scrolled": true
   },
   "outputs": [],
   "source": [
    "importlib.reload(lf)\n",
    "dx = 250 #in km\n",
    "dy = 250 #in km\n",
    "C_max = 0.7\n",
    "assimilation_grid_size = 5 #was 5\n",
    "localization = 2\n",
    "sat_inflation = 1\n",
    "sensor_inflation = 1.2\n",
    "\n",
    "goes15_azimuth = 220.5\n",
    "goes15_elevation = 44.1\n",
    "\n",
    "sat_sig = 0.01 #0.01 #0.05\n",
    "sensor_sig = 0.05 #0.1 #0.05\n",
    "ens_size = 40\n",
    "wind_sigma = (.5, .5)\n",
    "wind_size = 2\n",
    "CI_sigma = .0001\n",
    "coeff_sigma = np.array([.3, .5])\n",
    "SUNY_coeff = np.array(np.array([2.36, -6.2, 6.22, -2.63, -0.58, 1]))\n",
    "\n",
    "tus = pv.location.Location(32.2, -111, 'US/Arizona', 700,'Tucson')\n",
    "\n",
    "cloud_height = 8222\n",
    "\n",
    "start_time = '2014-04-15 12:45:00' #11:00:00 is not a bad start\n",
    "end_time = '2014-04-15 13:45:00' #Gets boring shortly after 14:00:00\n",
    "\n",
    "analysis, analysis_error, background, background_error, advected, time_range, trace_back, trace_analy = lf.main(\n",
    "    sat=cc_crop, x=x_crop, y=y_crop, domain_shape=crop_shape,                                                                                                                                                    \n",
    "    U=U_crop, U_shape=U_crop_shape, V=V_crop, V_shape=V_crop_shape,                                                                                                                                                            \n",
    "    start_time=start_time, end_time=end_time, dx=dx, dy=dy, C_max=C_max,                                                                                                                                               \n",
    "    assimilation_grid_size=assimilation_grid_size,                                                                                                                                                            \n",
    "    localization_letkf=localization_letkf, sat_inflation=sat_inflation,                                                                                                                                                \n",
    "    sat_sig=sat_sig, ens_size=ens_size,                                                                                                                                                                 \n",
    "    wind_sigma=wind_sigma, wind_size=wind_size,                                                                                                                                                             \n",
    "    client=client,\n",
    "    sensor_data=sensor_CI,\n",
    "    sensor_loc=sensor_loc,\n",
    "    sensor_sig=sensor_sig,\n",
    "    sensor_inflation=sensor_inflation,\n",
    "    CI_sigma=CI_sigma, coeff_sigma=coeff_sigma, location=tus,\n",
    "    cloud_height=cloud_height, sat_azimuth=goes15_azimuth,\n",
    "    sat_elevation=goes15_elevation)"
   ]
  },
  {
   "cell_type": "code",
   "execution_count": null,
   "metadata": {
    "collapsed": false,
    "scrolled": false
   },
   "outputs": [],
   "source": [
    "shape = crop_shape\n",
    "for t in range(time_range.size):\n",
    "    this_time = time_range[t]\n",
    "    \n",
    "    vmin=0\n",
    "    vmax=1.05\n",
    "    \n",
    "#     vmin=None\n",
    "#     vmax=None\n",
    "\n",
    "    this_coeff_pert = np.array(\n",
    "        [0,0,0,0, background[t, 1] - background[t, 0], background[t, 0]])\n",
    "    this_background = np.polyval(SUNY_coeff + this_coeff_pert, background[t, 2 + 2:].reshape(shape))\n",
    "    plt.figure()\n",
    "    im = plt.pcolormesh(x_crop.reshape(shape), y_crop.reshape(shape),\n",
    "        this_background,\n",
    "        cmap='Blues', vmin=vmin, vmax=vmax)\n",
    "    plt.colorbar(im)\n",
    "    plt.title('Background: ' + str(this_time))\n",
    "    plt.axis('equal')\n",
    "    \n",
    "#     plt.figure()\n",
    "#     im = plt.pcolormesh(x_crop.reshape(shape), y_crop.reshape(shape),\n",
    "#         advected[t].reshape(shape),\n",
    "#         cmap='Blues', vmin=vmin, vmax=vmax)\n",
    "#     plt.colorbar(im)\n",
    "#     plt.title('advected: ' + str(this_time))\n",
    "#     plt.axis('equal')\n",
    "    \n",
    "    this_coeff_pert = np.array(\n",
    "        [0,0,0,0, analysis[t, 1] - analysis[t, 0], analysis[t, 0]])\n",
    "    this_analysis = np.polyval(SUNY_coeff + this_coeff_pert, analysis[t, 2 + 2:].reshape(shape))\n",
    "    plt.figure()\n",
    "    im = plt.pcolormesh(x_crop.reshape(shape), y_crop.reshape(shape),\n",
    "        this_analysis,\n",
    "        cmap='Blues', vmin=vmin, vmax=vmax)\n",
    "    plt.colorbar(im)\n",
    "    plt.title('Analysis: ' + str(this_time))\n",
    "    plt.axis('equal')\n",
    "    \n",
    "#     plt.figure()\n",
    "#     im = plt.pcolormesh(x_crop.reshape(shape), y_crop.reshape(shape),\n",
    "#         this_analysis-this_background,\n",
    "#         cmap='Blues', vmin=vmin, vmax=vmax)\n",
    "#     plt.colorbar(im)\n",
    "#     plt.title('Analysis: ' + str(this_time))\n",
    "#     plt.axis('equal')"
   ]
  },
  {
   "cell_type": "code",
   "execution_count": null,
   "metadata": {
    "collapsed": false
   },
   "outputs": [],
   "source": [
    "plt.figure()\n",
    "plt.plot(np.sqrt(trace_back[1:]))\n",
    "plt.plot(np.sqrt(trace_analy[1:]))\n",
    "plt.legend(['background', 'analysis'])"
   ]
  },
  {
   "cell_type": "code",
   "execution_count": null,
   "metadata": {
    "collapsed": false,
    "scrolled": true
   },
   "outputs": [],
   "source": [
    "analysis_rmse = np.sqrt((analysis_error**2).mean(axis=1))\n",
    "background_rmse = np.sqrt((background_error**2).mean(axis=1))\n",
    "plt.figure()\n",
    "plt.plot(background_rmse[1:])\n",
    "plt.plot(analysis_rmse[1:])\n",
    "plt.legend(['background', 'analysis'])"
   ]
  },
  {
   "cell_type": "code",
   "execution_count": null,
   "metadata": {
    "collapsed": false
   },
   "outputs": [],
   "source": [
    "plt.figure()\n",
    "plt.plot(analysis_error)"
   ]
  },
  {
   "cell_type": "code",
   "execution_count": null,
   "metadata": {
    "collapsed": false
   },
   "outputs": [],
   "source": [
    "plt.figure()\n",
    "sensor_CI[sensor_loc[sensor_loc.test==True].id].ix['2014-04-15 12:30' : '2014-04-15 13:30'].plot()"
   ]
  },
  {
   "cell_type": "code",
   "execution_count": null,
   "metadata": {
    "collapsed": false
   },
   "outputs": [],
   "source": [
    "plt.figure()\n",
    "plt.plot(np.sqrt((background_error**2).mean(axis=1))[1:])\n",
    "plt.plot(np.sqrt((analysis_error**2).mean(axis=1))[1:])\n",
    "plt.legend(['background', 'analysis'])"
   ]
  },
  {
   "cell_type": "code",
   "execution_count": null,
   "metadata": {
    "collapsed": false
   },
   "outputs": [],
   "source": [
    "U_shape"
   ]
  },
  {
   "cell_type": "code",
   "execution_count": null,
   "metadata": {
    "collapsed": false
   },
   "outputs": [],
   "source": [
    "U_15.shape"
   ]
  },
  {
   "cell_type": "code",
   "execution_count": null,
   "metadata": {
    "collapsed": false
   },
   "outputs": [],
   "source": [
    "plt.figure()\n",
    "im = plt.pcolormesh(\n",
    "    U_15.iloc[3].reshape(U_shape),\n",
    "    cmap='Blues')\n",
    "plt.colorbar(im)\n",
    "plt.axis('equal')"
   ]
  },
  {
   "cell_type": "code",
   "execution_count": null,
   "metadata": {
    "collapsed": false
   },
   "outputs": [],
   "source": [
    "V_crop.values.max()"
   ]
  },
  {
   "cell_type": "code",
   "execution_count": null,
   "metadata": {
    "collapsed": false,
    "scrolled": true
   },
   "outputs": [],
   "source": [
    "U_crop.values.max()"
   ]
  },
  {
   "cell_type": "code",
   "execution_count": null,
   "metadata": {
    "collapsed": true
   },
   "outputs": [],
   "source": [
    "from functools import partial"
   ]
  },
  {
   "cell_type": "code",
   "execution_count": null,
   "metadata": {
    "collapsed": false
   },
   "outputs": [],
   "source": [
    "start_time = '2014-04-15 12:30:00' #11:00:00 is not a bad start\n",
    "end_time = '2014-04-15 13:30:00' #Gets boring shortly after 14:00:00\n",
    "\n",
    "assimilation_grid_size = 5\n",
    "\n",
    "\n",
    "short_fun_d = partial(lf.main,\n",
    "    sat=sat_15.isel(west_east=x_crop, south_north=y_crop),\n",
    "    wind=wind_15_smooth.isel(west_east=x_crop, west_east_stag=x_crop_stag,\n",
    "                             south_north=y_crop, south_north_stag=y_crop_stag),\n",
    "    sensor_data=sensor_CI,\n",
    "    sensor_loc=sensor_loc,\n",
    "    start_time=start_time, end_time=end_time, dx=dx, dy=dy,\n",
    "    C_max=C_max,\n",
    "    assimilation_grid_size=assimilation_grid_size,\n",
    "    localization_length=localization, inflation=inflation,\n",
    "    sat_sig=sat_sig, sensor_sig=sensor_sig, ens_size=ens_size,\n",
    "    wind_sigma=wind_sigma, wind_size=wind_size, CI_sigma=CI_sigma,\n",
    "    location=tus, cloud_height=cloud_height, sat_azimuth=goes15_azimuth,\n",
    "    sat_elevation=goes15_elevation, client=client)"
   ]
  },
  {
   "cell_type": "code",
   "execution_count": null,
   "metadata": {
    "collapsed": false,
    "scrolled": true
   },
   "outputs": [],
   "source": [
    "%lprun -f lf.main short_fun_d()"
   ]
  },
  {
   "cell_type": "code",
   "execution_count": null,
   "metadata": {
    "collapsed": false
   },
   "outputs": [],
   "source": [
    "np.arange(16).reshape(4,4).mean()"
   ]
  },
  {
   "cell_type": "code",
   "execution_count": null,
   "metadata": {
    "collapsed": false,
    "scrolled": true
   },
   "outputs": [],
   "source": [
    "importlib.reload(lf)\n",
    "dx = 250 #in km\n",
    "dy = 250 #in km\n",
    "C_max = 0.7\n",
    "\n",
    "start_time = '2014-04-15 12:30:00' #11:00:00 is not a bad start\n",
    "end_time = '2014-04-15 13:30:00' #Gets boring shortly after 14:00:00\n",
    "\n",
    "u_pert = 1\n",
    "v_pert = 0\n",
    "\n",
    "x_crop_stag = slice(x_crop.start - 1, x_crop.stop)\n",
    "y_crop_stag = slice(y_crop.start - 1, y_crop.stop)\n",
    "\n",
    "for u_pert in np.linspace(-5, 5, 10):\n",
    "    for v_pert in np.linspace(-2, 2, 5):\n",
    "        print('u_pert: ' + str(u_pert))\n",
    "        print('v_pert: ' + str(v_pert))\n",
    "        lf.just_advection(\n",
    "            sat=sat_15.isel(west_east=x_crop, south_north=y_crop),\n",
    "            wind=wind_15_smooth.isel(west_east=x_crop, west_east_stag=x_crop_stag,\n",
    "                                     south_north=y_crop, south_north_stag=y_crop_stag),\n",
    "            u_pert=u_pert, v_pert=v_pert,\n",
    "            start_time=start_time, end_time=end_time, dx=dx, dy=dy,\n",
    "            C_max=C_max)"
   ]
  },
  {
   "cell_type": "code",
   "execution_count": null,
   "metadata": {
    "collapsed": true
   },
   "outputs": [],
   "source": [
    "importlib.reload(lf)\n",
    "dx = 250 #in km\n",
    "dy = 250 #in km\n",
    "C_max = 0.7\n",
    "\n",
    "start_time = '2014-04-15 12:30:00' #11:00:00 is not a bad start\n",
    "end_time = '2014-04-15 13:30:00' #Gets boring shortly after 14:00:00\n",
    "\n",
    "u_pert = 1\n",
    "v_pert = 0\n",
    "\n",
    "x_crop_stag = slice(x_crop.start - 1, x_crop.stop)\n",
    "y_crop_stag = slice(y_crop.start - 1, y_crop.stop)"
   ]
  },
  {
   "cell_type": "code",
   "execution_count": null,
   "metadata": {
    "collapsed": true
   },
   "outputs": [],
   "source": []
  },
  {
   "cell_type": "code",
   "execution_count": null,
   "metadata": {
    "collapsed": false,
    "scrolled": true
   },
   "outputs": [],
   "source": [
    "for i in sensor_loc[sensor_loc.test==False].id:\n",
    "    plt.figure()\n",
    "    plt.plot(sensor_data[sensor_data.id==i]['clearsky_profile'].ix['2014-04-15'])\n",
    "    plt.plot(sensor_data[sensor_data.id==i]['ghi'].ix['2014-04-15'])"
   ]
  }
 ],
 "metadata": {
  "kernelspec": {
   "display_name": "Python 3",
   "language": "python",
   "name": "python3"
  },
  "language_info": {
   "codemirror_mode": {
    "name": "ipython",
    "version": 3
   },
   "file_extension": ".py",
   "mimetype": "text/x-python",
   "name": "python",
   "nbconvert_exporter": "python",
   "pygments_lexer": "ipython3",
   "version": "3.5.0rc4"
  }
 },
 "nbformat": 4,
 "nbformat_minor": 1
}
