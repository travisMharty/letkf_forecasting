{
 "cells": [
  {
   "cell_type": "code",
   "execution_count": 1,
   "metadata": {},
   "outputs": [],
   "source": [
    "import sys\n",
    "import importlib\n",
    "import datetime\n",
    "\n",
    "import numpy as np\n",
    "import pandas as pd\n",
    "import xarray as xr\n",
    "import pvlib as pv\n",
    "import matplotlib.pyplot as plt\n",
    "import scipy.ndimage.filters as filters"
   ]
  },
  {
   "cell_type": "code",
   "execution_count": 2,
   "metadata": {},
   "outputs": [],
   "source": [
    "%matplotlib inline"
   ]
  },
  {
   "cell_type": "code",
   "execution_count": 3,
   "metadata": {},
   "outputs": [],
   "source": [
    "sys.path.append('/home/travis/python_code/letkf_forecasting/')\n",
    "import letkf_forecasting as lf\n",
    "import prepare_sat_data as prep"
   ]
  },
  {
   "cell_type": "code",
   "execution_count": 5,
   "metadata": {
    "scrolled": false
   },
   "outputs": [
    {
     "data": {
      "text/plain": [
       "<module 'prepare_sat_data' from '/home2/travis/python_code/letkf_forecasting/prepare_sat_data.py'>"
      ]
     },
     "execution_count": 5,
     "metadata": {},
     "output_type": "execute_result"
    }
   ],
   "source": [
    "importlib.reload(prep)"
   ]
  },
  {
   "cell_type": "code",
   "execution_count": 6,
   "metadata": {},
   "outputs": [],
   "source": [
    "sat_data = xr.open_dataset('/a2/uaren/goes_images/crop/sat_images.nc')"
   ]
  },
  {
   "cell_type": "code",
   "execution_count": 7,
   "metadata": {},
   "outputs": [],
   "source": [
    "elevation_data = xr.open_dataset(\n",
    "    '/home/travis/python_code/letkf_forecasting/elevation_data.nc')"
   ]
  },
  {
   "cell_type": "code",
   "execution_count": 8,
   "metadata": {},
   "outputs": [],
   "source": [
    "tus = pv.location.Location(32.2, -111, 'US/Arizona', 700, 'Tucson')"
   ]
  },
  {
   "cell_type": "code",
   "execution_count": 9,
   "metadata": {},
   "outputs": [],
   "source": [
    "midday_sat = prep.midday(sat_data, tus, 60)"
   ]
  },
  {
   "cell_type": "code",
   "execution_count": 10,
   "metadata": {},
   "outputs": [],
   "source": [
    "midday_sat.to_netcdf('midday_interp_sat.nc')"
   ]
  },
  {
   "cell_type": "code",
   "execution_count": 11,
   "metadata": {},
   "outputs": [],
   "source": [
    "midday_sat = xr.open_dataset('./midday_interp_sat.nc')"
   ]
  },
  {
   "cell_type": "code",
   "execution_count": 12,
   "metadata": {},
   "outputs": [],
   "source": [
    "this = midday_sat.data.values\n",
    "shape = this.shape\n",
    "these_times = pd.to_datetime(\n",
    "    midday_sat.time).tz_localize('UTC').tz_convert('MST')\n",
    "midday_sat_dataframe = pd.DataFrame(this.reshape(shape[0], shape[1]*shape[2]), index=these_times)"
   ]
  },
  {
   "cell_type": "code",
   "execution_count": 13,
   "metadata": {},
   "outputs": [],
   "source": [
    "midday_sat_dataframe.to_hdf('./data/pixel.h5', 'pixel')"
   ]
  },
  {
   "cell_type": "code",
   "execution_count": 14,
   "metadata": {},
   "outputs": [],
   "source": [
    "domain_shape = shape[1:]\n",
    "np.save('./data/domain_shape', domain_shape)"
   ]
  },
  {
   "cell_type": "code",
   "execution_count": 15,
   "metadata": {},
   "outputs": [],
   "source": [
    "elevation = elevation_data.elevation.values.ravel()\n",
    "lats = midday_sat.lat.values.ravel()\n",
    "lons = midday_sat.lon.values.ravel()\n",
    "x = midday_sat.x.values.ravel()\n",
    "y = midday_sat.y.values.ravel()\n",
    "np.save('./data/elevation', elevation)\n",
    "np.save('./data/lats', lats)\n",
    "np.save('./data/lons', lons)\n",
    "np.save('./data/x', x)\n",
    "np.save('./data/y', y)"
   ]
  },
  {
   "cell_type": "code",
   "execution_count": 16,
   "metadata": {
    "scrolled": true
   },
   "outputs": [],
   "source": [
    "pixel = pd.read_hdf('./data/pixel.h5')\n",
    "pixel.index = pixel.index.tz_convert('MST')\n",
    "domain_shape = np.load('./data/domain_shape.npy')\n",
    "elevation = np.load('./data/elevation.npy')\n",
    "x = np.load('./data/x.npy')\n",
    "y = np.load('./data/y.npy')\n",
    "lats = np.load('./data/lats.npy')\n",
    "lons = np.load('./data/lons.npy')"
   ]
  },
  {
   "cell_type": "code",
   "execution_count": 18,
   "metadata": {
    "scrolled": true
   },
   "outputs": [],
   "source": [
    "importlib.reload(prep)\n",
    "low, up, cloudiness_index = prep.get_cloudiness_index(pixel, lats, lons, elevation)"
   ]
  },
  {
   "cell_type": "code",
   "execution_count": 21,
   "metadata": {},
   "outputs": [],
   "source": [
    "np.save('./data/low', low)\n",
    "np.save('./data/up', up)\n",
    "cloudiness_index.to_hdf(\n",
    "    './data/cloudiness_index.h5', 'cloudiness_index')"
   ]
  },
  {
   "cell_type": "code",
   "execution_count": null,
   "metadata": {
    "collapsed": true
   },
   "outputs": [],
   "source": [
    "cloudiness_index2 = pd.read_hdf('./data/cloudiness_index.h5')"
   ]
  },
  {
   "cell_type": "code",
   "execution_count": null,
   "metadata": {
    "collapsed": true
   },
   "outputs": [],
   "source": [
    "cloudiness_index"
   ]
  },
  {
   "cell_type": "code",
   "execution_count": null,
   "metadata": {
    "collapsed": true
   },
   "outputs": [],
   "source": [
    "cloudiness_index.index"
   ]
  },
  {
   "cell_type": "code",
   "execution_count": null,
   "metadata": {
    "collapsed": true
   },
   "outputs": [],
   "source": [
    "cloudiness_index.index[0]"
   ]
  },
  {
   "cell_type": "code",
   "execution_count": null,
   "metadata": {
    "collapsed": true
   },
   "outputs": [],
   "source": [
    "cloudiness_index.index = cloudiness_index.index.tz_convert('MST')"
   ]
  },
  {
   "cell_type": "code",
   "execution_count": null,
   "metadata": {
    "collapsed": true
   },
   "outputs": [],
   "source": [
    "cloudiness_index.index[0]"
   ]
  },
  {
   "cell_type": "code",
   "execution_count": null,
   "metadata": {
    "collapsed": true
   },
   "outputs": [],
   "source": [
    "cloudiness_index.shape"
   ]
  },
  {
   "cell_type": "code",
   "execution_count": null,
   "metadata": {
    "collapsed": true,
    "scrolled": false
   },
   "outputs": [],
   "source": [
    "cloudiness_index.to_hdf('./data/cloudiness_index.h5', 'cloudiness_index')"
   ]
  },
  {
   "cell_type": "code",
   "execution_count": null,
   "metadata": {
    "collapsed": true
   },
   "outputs": [],
   "source": [
    "low = np.load('./data/low.npy')\n",
    "up = np.load('./data/up.npy')\n",
    "cloudiness_index = pd.read_hdf('./data/cloudiness_index.h5')"
   ]
  },
  {
   "cell_type": "code",
   "execution_count": null,
   "metadata": {
    "collapsed": true
   },
   "outputs": [],
   "source": [
    "importlib.reload(prep)\n",
    "clearsky = prep.get_clearsky(pixel.index, elevation, lats, lons)"
   ]
  },
  {
   "cell_type": "code",
   "execution_count": null,
   "metadata": {
    "collapsed": true
   },
   "outputs": [],
   "source": [
    "clearsky.to_hdf('./data/clearsky.h5', 'clearsky')"
   ]
  },
  {
   "cell_type": "code",
   "execution_count": null,
   "metadata": {
    "collapsed": true
   },
   "outputs": [],
   "source": [
    "clearsky.shape"
   ]
  },
  {
   "cell_type": "code",
   "execution_count": null,
   "metadata": {
    "collapsed": true
   },
   "outputs": [],
   "source": [
    "this_time = pd.Timestamp('2014-04-15 12:45:00').tz_localize('MST')\n",
    "CI = cloudiness_index.ix[this_time].reshape(domain_shape).copy()\n",
    "ktm = 2.36*CI**5 - 6.2*CI**4 + 6.22*CI**3 - 2.63*CI**2 - 0.58*CI + 1\n",
    "Ghcnew = clearsky.ix[this_time].reshape(domain_shape).copy()\n",
    "GHI = ktm*Ghcnew*(0.0001*ktm*Ghcnew + 0.9)"
   ]
  },
  {
   "cell_type": "code",
   "execution_count": null,
   "metadata": {
    "collapsed": true
   },
   "outputs": [],
   "source": [
    "this_time = pd.Timestamp('2014-04-14 12:45:00').tz_localize('MST')\n",
    "CI_c = cloudiness_index.ix[this_time].reshape(domain_shape).copy()\n",
    "ktm_c = 2.36*CI_c**5 - 6.2*CI_c**4 + 6.22*CI_c**3 - 2.63*CI_c**2 - 0.58*CI_c + 1\n",
    "Ghcnew_c = clearsky.ix[this_time].reshape(domain_shape).copy()\n",
    "GHI_c = ktm_c*Ghcnew_c*(0.0001*ktm_c*Ghcnew_c + 0.9)"
   ]
  },
  {
   "cell_type": "code",
   "execution_count": null,
   "metadata": {
    "collapsed": true
   },
   "outputs": [],
   "source": [
    "plt.figure()\n",
    "this_image = GHI/GHI_c\n",
    "print(this_image.max() - this_image.min())\n",
    "im = plt.pcolormesh(\n",
    "    this_image,\n",
    "    cmap='Blues',\n",
    "    vmin=0, vmax=1)\n",
    "plt.colorbar(im)\n",
    "\n",
    "plt.figure()\n",
    "this_image = GHI/Ghcnew\n",
    "print(this_image.max() - this_image.min())\n",
    "im = plt.pcolormesh(\n",
    "    this_image,\n",
    "    cmap='Blues',\n",
    "    vmin=0, vmax=1)\n",
    "plt.colorbar(im)"
   ]
  }
 ],
 "metadata": {
  "kernelspec": {
   "display_name": "Python 3",
   "language": "python",
   "name": "python3"
  },
  "language_info": {
   "codemirror_mode": {
    "name": "ipython",
    "version": 3
   },
   "file_extension": ".py",
   "mimetype": "text/x-python",
   "name": "python",
   "nbconvert_exporter": "python",
   "pygments_lexer": "ipython3",
   "version": "3.6.2"
  }
 },
 "nbformat": 4,
 "nbformat_minor": 1
}
